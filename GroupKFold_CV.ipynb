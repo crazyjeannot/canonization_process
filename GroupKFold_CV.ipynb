{
 "cells": [
  {
   "cell_type": "code",
   "execution_count": 16,
   "id": "b81ead65",
   "metadata": {},
   "outputs": [],
   "source": [
    "import pandas as pd\n",
    "import numpy as np\n",
    "from tqdm.notebook import tqdm\n",
    "from sklearn.utils import shuffle\n",
    "from sklearn import set_config, metrics\n",
    "from sklearn.metrics import r2_score, mean_absolute_error, mean_squared_error, ConfusionMatrixDisplay\n",
    "from sklearn.metrics import make_scorer, accuracy_score, precision_score, recall_score, f1_score, balanced_accuracy_score\n",
    "from sklearn.pipeline import make_pipeline\n",
    "from sklearn.svm import SVC, NuSVC, LinearSVC\n",
    "from sklearn.preprocessing import Normalizer, StandardScaler\n",
    "from sklearn.model_selection import cross_validate, cross_val_score, train_test_split, ShuffleSplit, LeaveOneGroupOut, GroupKFold, StratifiedGroupKFold\n",
    "import random\n",
    "from collections import Counter\n",
    "import joblib"
   ]
  },
  {
   "cell_type": "code",
   "execution_count": 2,
   "id": "04565946",
   "metadata": {},
   "outputs": [],
   "source": [
    "from imblearn.over_sampling import RandomOverSampler\n",
    "from imblearn.combine import SMOTEENN\n",
    "from imblearn.combine import SMOTETomek\n",
    "from imblearn.under_sampling import RandomUnderSampler\n",
    "from imblearn.over_sampling import SVMSMOTE "
   ]
  },
  {
   "cell_type": "code",
   "execution_count": 26,
   "id": "b8a06bce",
   "metadata": {},
   "outputs": [],
   "source": [
    "#df_main = pd.read_csv(r'data/unigram_dataset_majed_canon_author_scale.csv')\n",
    "df_main = pd.read_csv(r'data/main_dataset_majed_canon_author_scale.csv')\n",
    "df_main.set_index(\"index\", inplace = True)\n",
    "df_main = df_main.replace(np.nan, 0)"
   ]
  },
  {
   "cell_type": "code",
   "execution_count": 27,
   "id": "accb9604",
   "metadata": {},
   "outputs": [],
   "source": [
    "def get_df_with_authors(df):\n",
    "    df_res = df.copy()\n",
    "    list_author = []\n",
    "    for elem in df_res.index:\n",
    "        list_author.append(elem.split('_')[1])\n",
    "    print(len(set(list_author)))\n",
    "    df_res['auteur'] = list_author\n",
    "    return df_res"
   ]
  },
  {
   "cell_type": "code",
   "execution_count": 28,
   "id": "811c956b",
   "metadata": {},
   "outputs": [
    {
     "name": "stdout",
     "output_type": "stream",
     "text": [
      "714\n"
     ]
    }
   ],
   "source": [
    "df_main = get_df_with_authors(df_main)"
   ]
  },
  {
   "cell_type": "code",
   "execution_count": 29,
   "id": "57a6ffa0",
   "metadata": {},
   "outputs": [],
   "source": [
    "df_unibi_gram_author = df_main.iloc[:, 0:2000]\n",
    "df_unibi_gram_author['canon'] = df_main['canon']\n",
    "df_unibi_gram_author['auteur'] = df_main['auteur']"
   ]
  },
  {
   "cell_type": "code",
   "execution_count": 30,
   "id": "dd12fffd",
   "metadata": {},
   "outputs": [],
   "source": [
    "def GKF_canonized(df_main, n_splits=5, sampling=None):\n",
    "    \n",
    "    ALL_PREDS, ALL_GT = [], [] # lists of all predictions vs all ground truth data\n",
    "    \n",
    "    pipe = make_pipeline(StandardScaler(), SVC(class_weight=\"balanced\"))#{\"canon\":10, \"non_canon\":1}\n",
    "    gkf = GroupKFold(n_splits)\n",
    "    \n",
    "    for (train_index, test_index) in gkf.split(df_main.drop(['auteur', 'canon'], axis=1), df_main['canon'], df_main['auteur']): \n",
    "            train = df_main.iloc[train_index]\n",
    "            test = df_main.iloc[test_index]\n",
    "\n",
    "            X_train = train.drop(['auteur', 'canon'], axis=1)\n",
    "            y_train = train['canon']\n",
    "            X_test = test.drop(['auteur', 'canon'], axis=1)\n",
    "            y_test = test['canon']\n",
    "            \n",
    "            if sampling is not None:     \n",
    "                if sampling == 'over':\n",
    "                    ros = RandomOverSampler(random_state=10)\n",
    "                    X_resampled, y_resampled = ros.fit_resample(X_train, y_train)\n",
    "                    \n",
    "                elif sampling == 'svm':\n",
    "                    sm = SVMSMOTE(random_state=10)\n",
    "                    X_resampled, y_resampled = sm.fit_resample(X_train, y_train)\n",
    "                    \n",
    "                elif sampling == 'under':\n",
    "                    rus = RandomUnderSampler(random_state=10)\n",
    "                    X_resampled, y_resampled = rus.fit_resample(X_train, y_train)\n",
    "                    \n",
    "                elif sampling == \"smoteenn\":\n",
    "                    smote_enn = SMOTEENN(random_state=10)\n",
    "                    X_resampled, y_resampled = smote_enn.fit_resample(X_train, y_train)\n",
    "                    \n",
    "                elif sampling == 'smotetomek':\n",
    "                    smote_tomek = SMOTETomek(random_state=10)\n",
    "                    X_resampled, y_resampled = smote_tomek.fit_resample(X_train, y_train)\n",
    "                \n",
    "                else:\n",
    "                    print('Please follow the sampling possible values : over, under, smoteenn, smotetomek')\n",
    "                    return\n",
    "                                \n",
    "                pipe.fit(X_resampled, y_resampled)\n",
    "        \n",
    "            else:\n",
    "                pipe.fit(X_train, y_train)\n",
    "                \n",
    "            preds = pipe.predict(X_test)\n",
    "        \n",
    "            #print(f\"\\n PREDS : \")\n",
    "            #print(set(zip(test.index, preds)))\n",
    "            #print(\"\\n\\n\")\n",
    "  \n",
    "            ALL_PREDS.extend(preds)\n",
    "            ALL_GT.extend(y_test)\n",
    "        \n",
    "    _ = ConfusionMatrixDisplay.from_predictions(ALL_GT, ALL_PREDS)\n",
    "\n",
    "    bas = balanced_accuracy_score(ALL_GT, ALL_PREDS)\n",
    "    report = metrics.classification_report(ALL_GT, ALL_PREDS, output_dict=True)# zero_division=1\n",
    "    df_scores = pd.DataFrame(report).transpose().drop(['macro avg', 'weighted avg'])\n",
    "    #print(df_scores)\n",
    "    print(bas)\n",
    "    \n",
    "    return pipe, df_scores, bas"
   ]
  },
  {
   "cell_type": "code",
   "execution_count": 32,
   "id": "a870e15e",
   "metadata": {},
   "outputs": [],
   "source": [
    "def ratio_truncate(df, ratio_canon):\n",
    "    \n",
    "    df_res = shuffle(df)\n",
    "    ratio_temp = df_res.canon.value_counts(normalize=True).canon\n",
    "    index_noncanon = df_res[df_res['canon']  == 'non_canon'].index \n",
    "    i, j = 0, 10\n",
    "    \n",
    "    while ratio_temp < ratio_canon:\n",
    "        df_res.drop(index_noncanon[i:j], inplace = True)\n",
    "        i = j\n",
    "        j+=10\n",
    "        ratio_temp = df_res.canon.value_counts(normalize=True).canon\n",
    "\n",
    "    return shuffle(df_res)"
   ]
  },
  {
   "cell_type": "code",
   "execution_count": 9,
   "id": "d2300eec",
   "metadata": {},
   "outputs": [],
   "source": [
    "def all_non_canonical_authors(df_main):\n",
    "    \n",
    "    df_canon = df_main[df_main['canon']=='canon']\n",
    "    conteur = Counter(df_canon.auteur)\n",
    "\n",
    "    df = pd.DataFrame.from_dict(conteur, orient='index').reset_index()\n",
    "    df = df.rename(columns={'index':'auteur', 0:'nb_romans'})\n",
    "    df_auteur_canon = df[df['nb_romans']>2]\n",
    "\n",
    "    list_auteur_non_canon = []\n",
    "    \n",
    "    for auteur in list(df_main.auteur):\n",
    "        if auteur not in list(df_auteur_canon.auteur):\n",
    "            list_auteur_non_canon.append(auteur)\n",
    "            \n",
    "    return list(set(list_auteur_non_canon))"
   ]
  },
  {
   "cell_type": "code",
   "execution_count": 10,
   "id": "31ec8aa0",
   "metadata": {},
   "outputs": [],
   "source": [
    "#DELETE DATA BY GROUPS OF AUTHOR\n",
    "\n",
    "def ratio_truncate_group(df, ratio_canon, list_non_canonical_authors):\n",
    "    i = 0\n",
    "    df_res = df.copy()\n",
    "    random.shuffle(list_non_canonical_authors)\n",
    "    ratio_temp = df_res.canon.value_counts(normalize=True).canon\n",
    "    \n",
    "    while ratio_temp < ratio_canon:\n",
    "        index_group_auteur_non_canon = df_res[df_res['auteur'] == list_non_canonical_authors[i]].index \n",
    "        df_res.drop(index_group_auteur_non_canon, inplace = True)\n",
    "        ratio_temp = df_res.canon.value_counts(normalize=True).canon\n",
    "        i+=1\n",
    "    print(\"Nb d'auteurs supprimés : \", i)\n",
    "    return df_res"
   ]
  },
  {
   "cell_type": "code",
   "execution_count": 11,
   "id": "1c36396b",
   "metadata": {},
   "outputs": [],
   "source": [
    "def N_canonizer_sizeopti(df_main, N_fold=5, N_sample=10, ratio=0.45, sampling=None):\n",
    "    list_res = []\n",
    "    #list_non_canonical_authors = list(set((df_main[df_main['canon']=='non_canon']).auteur)) # author scale\n",
    "    list_non_canonical_authors = all_non_canonical_authors(df_main) # novel scale \n",
    "    \n",
    "    for i in tqdm(range(N_sample)):\n",
    "        df_sizeopti_last = ratio_truncate_group(df_main, ratio, list_non_canonical_authors)\n",
    "        pipe, results = GKF_canonized(df_sizeopti_last, N_fold, sampling=sampling)\n",
    "        list_res.append(results)\n",
    "        \n",
    "    all_results = pd.concat(list_res).groupby(level=0).mean().drop(['macro avg', 'weighted avg'])\n",
    "\n",
    "    return pipe, all_results # return last pipe"
   ]
  },
  {
   "cell_type": "code",
   "execution_count": 12,
   "id": "8f1188c9",
   "metadata": {},
   "outputs": [],
   "source": [
    "def N_canonizer(df, N_fold=5, N_sample=10, sampling=None):\n",
    "    list_res, all_bas = [], []\n",
    "    for i in tqdm(range(N_sample)):\n",
    "        pipe, results, bas = GKF_canonized(df, N_fold, sampling=sampling)\n",
    "        list_res.append(results)\n",
    "        all_bas.append(bas)\n",
    "        \n",
    "    all_results = pd.concat(list_res).groupby(level=0).mean().drop(['macro avg', 'weighted avg'])\n",
    "    \n",
    "    print(sum(all_bas)/len(all_bas))\n",
    "    return pipe, all_results, all_bas # return last pipe"
   ]
  },
  {
   "cell_type": "code",
   "execution_count": 13,
   "id": "f9a527c9",
   "metadata": {},
   "outputs": [
    {
     "name": "stdout",
     "output_type": "stream",
     "text": [
      "0.7511360107167853\n"
     ]
    },
    {
     "data": {
      "image/png": "[encoded data removed]",
      "text/plain": [
       "<Figure size 432x288 with 2 Axes>"
      ]
     },
     "metadata": {
      "needs_background": "light"
     },
     "output_type": "display_data"
    }
   ],
   "source": [
    "pipe, df_final_scores, all_bas = GKF_canonized(df_unibi_gram_author, sampling='under')"
   ]
  },
  {
   "cell_type": "code",
   "execution_count": 15,
   "id": "049724fa",
   "metadata": {},
   "outputs": [
    {
     "data": {
      "text/html": [
       "<div>\n",
       "<style scoped>\n",
       "    .dataframe tbody tr th:only-of-type {\n",
       "        vertical-align: middle;\n",
       "    }\n",
       "\n",
       "    .dataframe tbody tr th {\n",
       "        vertical-align: top;\n",
       "    }\n",
       "\n",
       "    .dataframe thead th {\n",
       "        text-align: right;\n",
       "    }\n",
       "</style>\n",
       "<table border=\"1\" class=\"dataframe\">\n",
       "  <thead>\n",
       "    <tr style=\"text-align: right;\">\n",
       "      <th></th>\n",
       "      <th>precision</th>\n",
       "      <th>recall</th>\n",
       "      <th>f1-score</th>\n",
       "      <th>support</th>\n",
       "    </tr>\n",
       "  </thead>\n",
       "  <tbody>\n",
       "    <tr>\n",
       "      <th>canon</th>\n",
       "      <td>0.731343</td>\n",
       "      <td>0.584825</td>\n",
       "      <td>0.649929</td>\n",
       "      <td>1173.000000</td>\n",
       "    </tr>\n",
       "    <tr>\n",
       "      <th>non_canon</th>\n",
       "      <td>0.759149</td>\n",
       "      <td>0.858982</td>\n",
       "      <td>0.805986</td>\n",
       "      <td>1787.000000</td>\n",
       "    </tr>\n",
       "    <tr>\n",
       "      <th>accuracy</th>\n",
       "      <td>0.750338</td>\n",
       "      <td>0.750338</td>\n",
       "      <td>0.750338</td>\n",
       "      <td>0.750338</td>\n",
       "    </tr>\n",
       "  </tbody>\n",
       "</table>\n",
       "</div>"
      ],
      "text/plain": [
       "           precision    recall  f1-score      support\n",
       "canon       0.731343  0.584825  0.649929  1173.000000\n",
       "non_canon   0.759149  0.858982  0.805986  1787.000000\n",
       "accuracy    0.750338  0.750338  0.750338     0.750338"
      ]
     },
     "execution_count": 15,
     "metadata": {},
     "output_type": "execute_result"
    }
   ],
   "source": [
    "df_final_scores"
   ]
  },
  {
   "cell_type": "code",
   "execution_count": 33,
   "id": "22c18d85",
   "metadata": {},
   "outputs": [
    {
     "name": "stdout",
     "output_type": "stream",
     "text": [
      "0.740695923146758\n"
     ]
    },
    {
     "data": {
      "image/png": "[encoded data removed]",
      "text/plain": [
       "<Figure size 432x288 with 2 Axes>"
      ]
     },
     "metadata": {
      "needs_background": "light"
     },
     "output_type": "display_data"
    }
   ],
   "source": [
    "pipe, df_final_scores, all_bas = GKF_canonized(df_unibi_gram_author)"
   ]
  },
  {
   "cell_type": "code",
   "execution_count": 34,
   "id": "154883da",
   "metadata": {},
   "outputs": [
    {
     "data": {
      "text/html": [
       "<div>\n",
       "<style scoped>\n",
       "    .dataframe tbody tr th:only-of-type {\n",
       "        vertical-align: middle;\n",
       "    }\n",
       "\n",
       "    .dataframe tbody tr th {\n",
       "        vertical-align: top;\n",
       "    }\n",
       "\n",
       "    .dataframe thead th {\n",
       "        text-align: right;\n",
       "    }\n",
       "</style>\n",
       "<table border=\"1\" class=\"dataframe\">\n",
       "  <thead>\n",
       "    <tr style=\"text-align: right;\">\n",
       "      <th></th>\n",
       "      <th>precision</th>\n",
       "      <th>recall</th>\n",
       "      <th>f1-score</th>\n",
       "      <th>support</th>\n",
       "    </tr>\n",
       "  </thead>\n",
       "  <tbody>\n",
       "    <tr>\n",
       "      <th>canon</th>\n",
       "      <td>0.720952</td>\n",
       "      <td>0.645354</td>\n",
       "      <td>0.681062</td>\n",
       "      <td>1173.000000</td>\n",
       "    </tr>\n",
       "    <tr>\n",
       "      <th>non_canon</th>\n",
       "      <td>0.782199</td>\n",
       "      <td>0.836038</td>\n",
       "      <td>0.808223</td>\n",
       "      <td>1787.000000</td>\n",
       "    </tr>\n",
       "    <tr>\n",
       "      <th>accuracy</th>\n",
       "      <td>0.760473</td>\n",
       "      <td>0.760473</td>\n",
       "      <td>0.760473</td>\n",
       "      <td>0.760473</td>\n",
       "    </tr>\n",
       "  </tbody>\n",
       "</table>\n",
       "</div>"
      ],
      "text/plain": [
       "           precision    recall  f1-score      support\n",
       "canon       0.720952  0.645354  0.681062  1173.000000\n",
       "non_canon   0.782199  0.836038  0.808223  1787.000000\n",
       "accuracy    0.760473  0.760473  0.760473     0.760473"
      ]
     },
     "execution_count": 34,
     "metadata": {},
     "output_type": "execute_result"
    }
   ],
   "source": [
    "df_final_scores"
   ]
  },
  {
   "cell_type": "code",
   "execution_count": 35,
   "id": "c261d969",
   "metadata": {},
   "outputs": [
    {
     "name": "stdout",
     "output_type": "stream",
     "text": [
      "\\begin{tabular}{lrrrr}\n",
      "\\toprule\n",
      "{} &  precision &  recall &  f1-score &  support \\\\\n",
      "\\midrule\n",
      "canon     &      0.721 &   0.645 &     0.681 & 1173.000 \\\\\n",
      "non\\_canon &      0.782 &   0.836 &     0.808 & 1787.000 \\\\\n",
      "accuracy  &      0.760 &   0.760 &     0.760 &    0.760 \\\\\n",
      "\\bottomrule\n",
      "\\end{tabular}\n",
      "\n"
     ]
    },
    {
     "name": "stderr",
     "output_type": "stream",
     "text": [
      "/tmp/ipykernel_5221/3649009022.py:1: FutureWarning: In future versions `DataFrame.to_latex` is expected to utilise the base implementation of `Styler.to_latex` for formatting and rendering. The arguments signature may therefore change. It is recommended instead to use `DataFrame.style.to_latex` which also contains additional functionality.\n",
      "  print(df_final_scores.to_latex(float_format=\"%.3f\"))\n"
     ]
    }
   ],
   "source": [
    "print(df_final_scores.to_latex(float_format=\"%.3f\"))"
   ]
  },
  {
   "cell_type": "code",
   "execution_count": 154,
   "id": "052401a9",
   "metadata": {},
   "outputs": [
    {
     "data": {
      "text/plain": [
       "['pipes/pipeline_author_scale.pkl']"
      ]
     },
     "execution_count": 154,
     "metadata": {},
     "output_type": "execute_result"
    }
   ],
   "source": [
    "joblib.dump(pipe, 'pipes/pipeline_author_scale.pkl')"
   ]
  },
  {
   "cell_type": "code",
   "execution_count": null,
   "id": "b8b8c0a0",
   "metadata": {},
   "outputs": [],
   "source": [
    "pipe, df_final_scores = N_canonizer_sizeopti(df_unibi_gram_author, ratio=0.5)"
   ]
  },
  {
   "cell_type": "code",
   "execution_count": 115,
   "id": "c7209278",
   "metadata": {},
   "outputs": [
    {
     "data": {
      "text/html": [
       "<div>\n",
       "<style scoped>\n",
       "    .dataframe tbody tr th:only-of-type {\n",
       "        vertical-align: middle;\n",
       "    }\n",
       "\n",
       "    .dataframe tbody tr th {\n",
       "        vertical-align: top;\n",
       "    }\n",
       "\n",
       "    .dataframe thead th {\n",
       "        text-align: right;\n",
       "    }\n",
       "</style>\n",
       "<table border=\"1\" class=\"dataframe\">\n",
       "  <thead>\n",
       "    <tr style=\"text-align: right;\">\n",
       "      <th></th>\n",
       "      <th>precision</th>\n",
       "      <th>recall</th>\n",
       "      <th>f1-score</th>\n",
       "      <th>support</th>\n",
       "    </tr>\n",
       "  </thead>\n",
       "  <tbody>\n",
       "    <tr>\n",
       "      <th>accuracy</th>\n",
       "      <td>0.741346</td>\n",
       "      <td>0.741346</td>\n",
       "      <td>0.741346</td>\n",
       "      <td>0.741346</td>\n",
       "    </tr>\n",
       "    <tr>\n",
       "      <th>canon</th>\n",
       "      <td>0.736649</td>\n",
       "      <td>0.663023</td>\n",
       "      <td>0.697827</td>\n",
       "      <td>1171.900000</td>\n",
       "    </tr>\n",
       "    <tr>\n",
       "      <th>non_canon</th>\n",
       "      <td>0.744645</td>\n",
       "      <td>0.805567</td>\n",
       "      <td>0.773872</td>\n",
       "      <td>1428.900000</td>\n",
       "    </tr>\n",
       "  </tbody>\n",
       "</table>\n",
       "</div>"
      ],
      "text/plain": [
       "           precision    recall  f1-score      support\n",
       "accuracy    0.741346  0.741346  0.741346     0.741346\n",
       "canon       0.736649  0.663023  0.697827  1171.900000\n",
       "non_canon   0.744645  0.805567  0.773872  1428.900000"
      ]
     },
     "execution_count": 115,
     "metadata": {},
     "output_type": "execute_result"
    }
   ],
   "source": [
    "df_final_scores"
   ]
  },
  {
   "cell_type": "code",
   "execution_count": null,
   "id": "3753f2f0",
   "metadata": {},
   "outputs": [],
   "source": []
  },
  {
   "cell_type": "code",
   "execution_count": 241,
   "id": "248a0686",
   "metadata": {},
   "outputs": [
    {
     "data": {
      "text/html": [
       "<div>\n",
       "<style scoped>\n",
       "    .dataframe tbody tr th:only-of-type {\n",
       "        vertical-align: middle;\n",
       "    }\n",
       "\n",
       "    .dataframe tbody tr th {\n",
       "        vertical-align: top;\n",
       "    }\n",
       "\n",
       "    .dataframe thead th {\n",
       "        text-align: right;\n",
       "    }\n",
       "</style>\n",
       "<table border=\"1\" class=\"dataframe\">\n",
       "  <thead>\n",
       "    <tr style=\"text-align: right;\">\n",
       "      <th></th>\n",
       "      <th>precision</th>\n",
       "      <th>recall</th>\n",
       "      <th>f1-score</th>\n",
       "      <th>support</th>\n",
       "    </tr>\n",
       "  </thead>\n",
       "  <tbody>\n",
       "    <tr>\n",
       "      <th>canon</th>\n",
       "      <td>0.723240</td>\n",
       "      <td>0.639386</td>\n",
       "      <td>0.678733</td>\n",
       "      <td>1173.000000</td>\n",
       "    </tr>\n",
       "    <tr>\n",
       "      <th>non_canon</th>\n",
       "      <td>0.780031</td>\n",
       "      <td>0.839396</td>\n",
       "      <td>0.808625</td>\n",
       "      <td>1787.000000</td>\n",
       "    </tr>\n",
       "    <tr>\n",
       "      <th>accuracy</th>\n",
       "      <td>0.760135</td>\n",
       "      <td>0.760135</td>\n",
       "      <td>0.760135</td>\n",
       "      <td>0.760135</td>\n",
       "    </tr>\n",
       "    <tr>\n",
       "      <th>macro avg</th>\n",
       "      <td>0.751636</td>\n",
       "      <td>0.739391</td>\n",
       "      <td>0.743679</td>\n",
       "      <td>2960.000000</td>\n",
       "    </tr>\n",
       "    <tr>\n",
       "      <th>weighted avg</th>\n",
       "      <td>0.757526</td>\n",
       "      <td>0.760135</td>\n",
       "      <td>0.757151</td>\n",
       "      <td>2960.000000</td>\n",
       "    </tr>\n",
       "  </tbody>\n",
       "</table>\n",
       "</div>"
      ],
      "text/plain": [
       "              precision    recall  f1-score      support\n",
       "canon          0.723240  0.639386  0.678733  1173.000000\n",
       "non_canon      0.780031  0.839396  0.808625  1787.000000\n",
       "accuracy       0.760135  0.760135  0.760135     0.760135\n",
       "macro avg      0.751636  0.739391  0.743679  2960.000000\n",
       "weighted avg   0.757526  0.760135  0.757151  2960.000000"
      ]
     },
     "execution_count": 241,
     "metadata": {},
     "output_type": "execute_result"
    }
   ],
   "source": [
    "#df_concat 800*2 + 800 POS\n",
    "df_final_scores"
   ]
  },
  {
   "cell_type": "code",
   "execution_count": 192,
   "id": "8bfe23e6",
   "metadata": {},
   "outputs": [
    {
     "data": {
      "text/html": [
       "<div>\n",
       "<style scoped>\n",
       "    .dataframe tbody tr th:only-of-type {\n",
       "        vertical-align: middle;\n",
       "    }\n",
       "\n",
       "    .dataframe tbody tr th {\n",
       "        vertical-align: top;\n",
       "    }\n",
       "\n",
       "    .dataframe thead th {\n",
       "        text-align: right;\n",
       "    }\n",
       "</style>\n",
       "<table border=\"1\" class=\"dataframe\">\n",
       "  <thead>\n",
       "    <tr style=\"text-align: right;\">\n",
       "      <th></th>\n",
       "      <th>precision</th>\n",
       "      <th>recall</th>\n",
       "      <th>f1-score</th>\n",
       "      <th>support</th>\n",
       "    </tr>\n",
       "  </thead>\n",
       "  <tbody>\n",
       "    <tr>\n",
       "      <th>canon</th>\n",
       "      <td>0.699021</td>\n",
       "      <td>0.730605</td>\n",
       "      <td>0.714464</td>\n",
       "      <td>1173.000000</td>\n",
       "    </tr>\n",
       "    <tr>\n",
       "      <th>non_canon</th>\n",
       "      <td>0.817762</td>\n",
       "      <td>0.793509</td>\n",
       "      <td>0.805453</td>\n",
       "      <td>1787.000000</td>\n",
       "    </tr>\n",
       "    <tr>\n",
       "      <th>accuracy</th>\n",
       "      <td>0.768581</td>\n",
       "      <td>0.768581</td>\n",
       "      <td>0.768581</td>\n",
       "      <td>0.768581</td>\n",
       "    </tr>\n",
       "    <tr>\n",
       "      <th>macro avg</th>\n",
       "      <td>0.758392</td>\n",
       "      <td>0.762057</td>\n",
       "      <td>0.759959</td>\n",
       "      <td>2960.000000</td>\n",
       "    </tr>\n",
       "    <tr>\n",
       "      <th>weighted avg</th>\n",
       "      <td>0.770707</td>\n",
       "      <td>0.768581</td>\n",
       "      <td>0.769396</td>\n",
       "      <td>2960.000000</td>\n",
       "    </tr>\n",
       "  </tbody>\n",
       "</table>\n",
       "</div>"
      ],
      "text/plain": [
       "              precision    recall  f1-score      support\n",
       "canon          0.699021  0.730605  0.714464  1173.000000\n",
       "non_canon      0.817762  0.793509  0.805453  1787.000000\n",
       "accuracy       0.768581  0.768581  0.768581     0.768581\n",
       "macro avg      0.758392  0.762057  0.759959  2960.000000\n",
       "weighted avg   0.770707  0.768581  0.769396  2960.000000"
      ]
     },
     "execution_count": 192,
     "metadata": {},
     "output_type": "execute_result"
    }
   ],
   "source": [
    "#df_concat 800*2 + 800 POS, sampling = under\n",
    "df_final_scores"
   ]
  },
  {
   "cell_type": "code",
   "execution_count": 251,
   "id": "1136c1a7",
   "metadata": {},
   "outputs": [
    {
     "data": {
      "text/html": [
       "<div>\n",
       "<style scoped>\n",
       "    .dataframe tbody tr th:only-of-type {\n",
       "        vertical-align: middle;\n",
       "    }\n",
       "\n",
       "    .dataframe tbody tr th {\n",
       "        vertical-align: top;\n",
       "    }\n",
       "\n",
       "    .dataframe thead th {\n",
       "        text-align: right;\n",
       "    }\n",
       "</style>\n",
       "<table border=\"1\" class=\"dataframe\">\n",
       "  <thead>\n",
       "    <tr style=\"text-align: right;\">\n",
       "      <th></th>\n",
       "      <th>precision</th>\n",
       "      <th>recall</th>\n",
       "      <th>f1-score</th>\n",
       "      <th>support</th>\n",
       "    </tr>\n",
       "  </thead>\n",
       "  <tbody>\n",
       "    <tr>\n",
       "      <th>canon</th>\n",
       "      <td>0.731510</td>\n",
       "      <td>0.615516</td>\n",
       "      <td>0.668519</td>\n",
       "      <td>1173.000000</td>\n",
       "    </tr>\n",
       "    <tr>\n",
       "      <th>non_canon</th>\n",
       "      <td>0.771414</td>\n",
       "      <td>0.851707</td>\n",
       "      <td>0.809574</td>\n",
       "      <td>1787.000000</td>\n",
       "    </tr>\n",
       "    <tr>\n",
       "      <th>accuracy</th>\n",
       "      <td>0.758108</td>\n",
       "      <td>0.758108</td>\n",
       "      <td>0.758108</td>\n",
       "      <td>0.758108</td>\n",
       "    </tr>\n",
       "    <tr>\n",
       "      <th>macro avg</th>\n",
       "      <td>0.751462</td>\n",
       "      <td>0.733611</td>\n",
       "      <td>0.739046</td>\n",
       "      <td>2960.000000</td>\n",
       "    </tr>\n",
       "    <tr>\n",
       "      <th>weighted avg</th>\n",
       "      <td>0.755601</td>\n",
       "      <td>0.758108</td>\n",
       "      <td>0.753676</td>\n",
       "      <td>2960.000000</td>\n",
       "    </tr>\n",
       "  </tbody>\n",
       "</table>\n",
       "</div>"
      ],
      "text/plain": [
       "              precision    recall  f1-score      support\n",
       "canon          0.731510  0.615516  0.668519  1173.000000\n",
       "non_canon      0.771414  0.851707  0.809574  1787.000000\n",
       "accuracy       0.758108  0.758108  0.758108     0.758108\n",
       "macro avg      0.751462  0.733611  0.739046  2960.000000\n",
       "weighted avg   0.755601  0.758108  0.753676  2960.000000"
      ]
     },
     "execution_count": 251,
     "metadata": {},
     "output_type": "execute_result"
    }
   ],
   "source": [
    "#df_concat 800*2 \n",
    "df_final_scores"
   ]
  },
  {
   "cell_type": "code",
   "execution_count": 253,
   "id": "1d12693a",
   "metadata": {},
   "outputs": [
    {
     "data": {
      "text/html": [
       "<div>\n",
       "<style scoped>\n",
       "    .dataframe tbody tr th:only-of-type {\n",
       "        vertical-align: middle;\n",
       "    }\n",
       "\n",
       "    .dataframe tbody tr th {\n",
       "        vertical-align: top;\n",
       "    }\n",
       "\n",
       "    .dataframe thead th {\n",
       "        text-align: right;\n",
       "    }\n",
       "</style>\n",
       "<table border=\"1\" class=\"dataframe\">\n",
       "  <thead>\n",
       "    <tr style=\"text-align: right;\">\n",
       "      <th></th>\n",
       "      <th>precision</th>\n",
       "      <th>recall</th>\n",
       "      <th>f1-score</th>\n",
       "      <th>support</th>\n",
       "    </tr>\n",
       "  </thead>\n",
       "  <tbody>\n",
       "    <tr>\n",
       "      <th>canon</th>\n",
       "      <td>0.696648</td>\n",
       "      <td>0.726343</td>\n",
       "      <td>0.711185</td>\n",
       "      <td>1173.000000</td>\n",
       "    </tr>\n",
       "    <tr>\n",
       "      <th>non_canon</th>\n",
       "      <td>0.815199</td>\n",
       "      <td>0.792389</td>\n",
       "      <td>0.803632</td>\n",
       "      <td>1787.000000</td>\n",
       "    </tr>\n",
       "    <tr>\n",
       "      <th>accuracy</th>\n",
       "      <td>0.766216</td>\n",
       "      <td>0.766216</td>\n",
       "      <td>0.766216</td>\n",
       "      <td>0.766216</td>\n",
       "    </tr>\n",
       "    <tr>\n",
       "      <th>macro avg</th>\n",
       "      <td>0.755923</td>\n",
       "      <td>0.759366</td>\n",
       "      <td>0.757409</td>\n",
       "      <td>2960.000000</td>\n",
       "    </tr>\n",
       "    <tr>\n",
       "      <th>weighted avg</th>\n",
       "      <td>0.768219</td>\n",
       "      <td>0.766216</td>\n",
       "      <td>0.766997</td>\n",
       "      <td>2960.000000</td>\n",
       "    </tr>\n",
       "  </tbody>\n",
       "</table>\n",
       "</div>"
      ],
      "text/plain": [
       "              precision    recall  f1-score      support\n",
       "canon          0.696648  0.726343  0.711185  1173.000000\n",
       "non_canon      0.815199  0.792389  0.803632  1787.000000\n",
       "accuracy       0.766216  0.766216  0.766216     0.766216\n",
       "macro avg      0.755923  0.759366  0.757409  2960.000000\n",
       "weighted avg   0.768219  0.766216  0.766997  2960.000000"
      ]
     },
     "execution_count": 253,
     "metadata": {},
     "output_type": "execute_result"
    }
   ],
   "source": [
    "#df_concat 800*2 sampling = under\n",
    "df_final_scores"
   ]
  },
  {
   "cell_type": "code",
   "execution_count": 204,
   "id": "5c88a2f6",
   "metadata": {},
   "outputs": [
    {
     "data": {
      "text/html": [
       "<div>\n",
       "<style scoped>\n",
       "    .dataframe tbody tr th:only-of-type {\n",
       "        vertical-align: middle;\n",
       "    }\n",
       "\n",
       "    .dataframe tbody tr th {\n",
       "        vertical-align: top;\n",
       "    }\n",
       "\n",
       "    .dataframe thead th {\n",
       "        text-align: right;\n",
       "    }\n",
       "</style>\n",
       "<table border=\"1\" class=\"dataframe\">\n",
       "  <thead>\n",
       "    <tr style=\"text-align: right;\">\n",
       "      <th></th>\n",
       "      <th>precision</th>\n",
       "      <th>recall</th>\n",
       "      <th>f1-score</th>\n",
       "      <th>support</th>\n",
       "    </tr>\n",
       "  </thead>\n",
       "  <tbody>\n",
       "    <tr>\n",
       "      <th>canon</th>\n",
       "      <td>0.690049</td>\n",
       "      <td>0.721228</td>\n",
       "      <td>0.705294</td>\n",
       "      <td>1173.000000</td>\n",
       "    </tr>\n",
       "    <tr>\n",
       "      <th>non_canon</th>\n",
       "      <td>0.811419</td>\n",
       "      <td>0.787353</td>\n",
       "      <td>0.799205</td>\n",
       "      <td>1787.000000</td>\n",
       "    </tr>\n",
       "    <tr>\n",
       "      <th>accuracy</th>\n",
       "      <td>0.761149</td>\n",
       "      <td>0.761149</td>\n",
       "      <td>0.761149</td>\n",
       "      <td>0.761149</td>\n",
       "    </tr>\n",
       "    <tr>\n",
       "      <th>macro avg</th>\n",
       "      <td>0.750734</td>\n",
       "      <td>0.754290</td>\n",
       "      <td>0.752249</td>\n",
       "      <td>2960.000000</td>\n",
       "    </tr>\n",
       "    <tr>\n",
       "      <th>weighted avg</th>\n",
       "      <td>0.763322</td>\n",
       "      <td>0.761149</td>\n",
       "      <td>0.761989</td>\n",
       "      <td>2960.000000</td>\n",
       "    </tr>\n",
       "  </tbody>\n",
       "</table>\n",
       "</div>"
      ],
      "text/plain": [
       "              precision    recall  f1-score      support\n",
       "canon          0.690049  0.721228  0.705294  1173.000000\n",
       "non_canon      0.811419  0.787353  0.799205  1787.000000\n",
       "accuracy       0.761149  0.761149  0.761149     0.761149\n",
       "macro avg      0.750734  0.754290  0.752249  2960.000000\n",
       "weighted avg   0.763322  0.761149  0.761989  2960.000000"
      ]
     },
     "execution_count": 204,
     "metadata": {},
     "output_type": "execute_result"
    }
   ],
   "source": [
    "#df_unigram_main \n",
    "df_final_scores"
   ]
  },
  {
   "cell_type": "code",
   "execution_count": 141,
   "id": "47be5077",
   "metadata": {},
   "outputs": [
    {
     "data": {
      "text/html": [
       "<div>\n",
       "<style scoped>\n",
       "    .dataframe tbody tr th:only-of-type {\n",
       "        vertical-align: middle;\n",
       "    }\n",
       "\n",
       "    .dataframe tbody tr th {\n",
       "        vertical-align: top;\n",
       "    }\n",
       "\n",
       "    .dataframe thead th {\n",
       "        text-align: right;\n",
       "    }\n",
       "</style>\n",
       "<table border=\"1\" class=\"dataframe\">\n",
       "  <thead>\n",
       "    <tr style=\"text-align: right;\">\n",
       "      <th></th>\n",
       "      <th>precision</th>\n",
       "      <th>recall</th>\n",
       "      <th>f1-score</th>\n",
       "      <th>support</th>\n",
       "    </tr>\n",
       "  </thead>\n",
       "  <tbody>\n",
       "    <tr>\n",
       "      <th>canon</th>\n",
       "      <td>0.726539</td>\n",
       "      <td>0.613811</td>\n",
       "      <td>0.665434</td>\n",
       "      <td>1173.000000</td>\n",
       "    </tr>\n",
       "    <tr>\n",
       "      <th>non_canon</th>\n",
       "      <td>0.769934</td>\n",
       "      <td>0.848349</td>\n",
       "      <td>0.807242</td>\n",
       "      <td>1787.000000</td>\n",
       "    </tr>\n",
       "    <tr>\n",
       "      <th>accuracy</th>\n",
       "      <td>0.755405</td>\n",
       "      <td>0.755405</td>\n",
       "      <td>0.755405</td>\n",
       "      <td>0.755405</td>\n",
       "    </tr>\n",
       "    <tr>\n",
       "      <th>macro avg</th>\n",
       "      <td>0.748236</td>\n",
       "      <td>0.731080</td>\n",
       "      <td>0.736338</td>\n",
       "      <td>2960.000000</td>\n",
       "    </tr>\n",
       "    <tr>\n",
       "      <th>weighted avg</th>\n",
       "      <td>0.752737</td>\n",
       "      <td>0.755405</td>\n",
       "      <td>0.751046</td>\n",
       "      <td>2960.000000</td>\n",
       "    </tr>\n",
       "  </tbody>\n",
       "</table>\n",
       "</div>"
      ],
      "text/plain": [
       "              precision    recall  f1-score      support\n",
       "canon          0.726539  0.613811  0.665434  1173.000000\n",
       "non_canon      0.769934  0.848349  0.807242  1787.000000\n",
       "accuracy       0.755405  0.755405  0.755405     0.755405\n",
       "macro avg      0.748236  0.731080  0.736338  2960.000000\n",
       "weighted avg   0.752737  0.755405  0.751046  2960.000000"
      ]
     },
     "execution_count": 141,
     "metadata": {},
     "output_type": "execute_result"
    }
   ],
   "source": [
    "#df_main\n",
    "df_final_scores"
   ]
  },
  {
   "cell_type": "code",
   "execution_count": 96,
   "id": "e8139133",
   "metadata": {},
   "outputs": [
    {
     "data": {
      "text/html": [
       "<div>\n",
       "<style scoped>\n",
       "    .dataframe tbody tr th:only-of-type {\n",
       "        vertical-align: middle;\n",
       "    }\n",
       "\n",
       "    .dataframe tbody tr th {\n",
       "        vertical-align: top;\n",
       "    }\n",
       "\n",
       "    .dataframe thead th {\n",
       "        text-align: right;\n",
       "    }\n",
       "</style>\n",
       "<table border=\"1\" class=\"dataframe\">\n",
       "  <thead>\n",
       "    <tr style=\"text-align: right;\">\n",
       "      <th></th>\n",
       "      <th>precision</th>\n",
       "      <th>recall</th>\n",
       "      <th>f1-score</th>\n",
       "      <th>support</th>\n",
       "    </tr>\n",
       "  </thead>\n",
       "  <tbody>\n",
       "    <tr>\n",
       "      <th>canon</th>\n",
       "      <td>0.685668</td>\n",
       "      <td>0.717818</td>\n",
       "      <td>0.701374</td>\n",
       "      <td>1173.00000</td>\n",
       "    </tr>\n",
       "    <tr>\n",
       "      <th>non_canon</th>\n",
       "      <td>0.808891</td>\n",
       "      <td>0.783996</td>\n",
       "      <td>0.796249</td>\n",
       "      <td>1787.00000</td>\n",
       "    </tr>\n",
       "    <tr>\n",
       "      <th>accuracy</th>\n",
       "      <td>0.757770</td>\n",
       "      <td>0.757770</td>\n",
       "      <td>0.757770</td>\n",
       "      <td>0.75777</td>\n",
       "    </tr>\n",
       "    <tr>\n",
       "      <th>macro avg</th>\n",
       "      <td>0.747280</td>\n",
       "      <td>0.750907</td>\n",
       "      <td>0.748812</td>\n",
       "      <td>2960.00000</td>\n",
       "    </tr>\n",
       "    <tr>\n",
       "      <th>weighted avg</th>\n",
       "      <td>0.760060</td>\n",
       "      <td>0.757770</td>\n",
       "      <td>0.758652</td>\n",
       "      <td>2960.00000</td>\n",
       "    </tr>\n",
       "  </tbody>\n",
       "</table>\n",
       "</div>"
      ],
      "text/plain": [
       "              precision    recall  f1-score     support\n",
       "canon          0.685668  0.717818  0.701374  1173.00000\n",
       "non_canon      0.808891  0.783996  0.796249  1787.00000\n",
       "accuracy       0.757770  0.757770  0.757770     0.75777\n",
       "macro avg      0.747280  0.750907  0.748812  2960.00000\n",
       "weighted avg   0.760060  0.757770  0.758652  2960.00000"
      ]
     },
     "execution_count": 96,
     "metadata": {},
     "output_type": "execute_result"
    }
   ],
   "source": [
    "#under\n",
    "df_final_scores"
   ]
  },
  {
   "cell_type": "code",
   "execution_count": null,
   "id": "88242b56",
   "metadata": {},
   "outputs": [],
   "source": []
  },
  {
   "cell_type": "code",
   "execution_count": 207,
   "id": "79a782f2",
   "metadata": {},
   "outputs": [
    {
     "data": {
      "text/html": [
       "<div>\n",
       "<style scoped>\n",
       "    .dataframe tbody tr th:only-of-type {\n",
       "        vertical-align: middle;\n",
       "    }\n",
       "\n",
       "    .dataframe tbody tr th {\n",
       "        vertical-align: top;\n",
       "    }\n",
       "\n",
       "    .dataframe thead th {\n",
       "        text-align: right;\n",
       "    }\n",
       "</style>\n",
       "<table border=\"1\" class=\"dataframe\">\n",
       "  <thead>\n",
       "    <tr style=\"text-align: right;\">\n",
       "      <th></th>\n",
       "      <th>precision</th>\n",
       "      <th>recall</th>\n",
       "      <th>f1-score</th>\n",
       "      <th>support</th>\n",
       "    </tr>\n",
       "  </thead>\n",
       "  <tbody>\n",
       "    <tr>\n",
       "      <th>canon</th>\n",
       "      <td>0.70</td>\n",
       "      <td>0.73</td>\n",
       "      <td>0.71</td>\n",
       "      <td>1173.00</td>\n",
       "    </tr>\n",
       "    <tr>\n",
       "      <th>non_canon</th>\n",
       "      <td>0.82</td>\n",
       "      <td>0.79</td>\n",
       "      <td>0.80</td>\n",
       "      <td>1787.00</td>\n",
       "    </tr>\n",
       "    <tr>\n",
       "      <th>accuracy</th>\n",
       "      <td>0.77</td>\n",
       "      <td>0.77</td>\n",
       "      <td>0.77</td>\n",
       "      <td>0.77</td>\n",
       "    </tr>\n",
       "    <tr>\n",
       "      <th>macro avg</th>\n",
       "      <td>0.76</td>\n",
       "      <td>0.76</td>\n",
       "      <td>0.76</td>\n",
       "      <td>2960.00</td>\n",
       "    </tr>\n",
       "    <tr>\n",
       "      <th>weighted avg</th>\n",
       "      <td>0.77</td>\n",
       "      <td>0.77</td>\n",
       "      <td>0.77</td>\n",
       "      <td>2960.00</td>\n",
       "    </tr>\n",
       "  </tbody>\n",
       "</table>\n",
       "</div>"
      ],
      "text/plain": [
       "              precision  recall  f1-score  support\n",
       "canon              0.70    0.73      0.71  1173.00\n",
       "non_canon          0.82    0.79      0.80  1787.00\n",
       "accuracy           0.77    0.77      0.77     0.77\n",
       "macro avg          0.76    0.76      0.76  2960.00\n",
       "weighted avg       0.77    0.77      0.77  2960.00"
      ]
     },
     "execution_count": 207,
     "metadata": {},
     "output_type": "execute_result"
    }
   ],
   "source": [
    "df_final_scores.round(decimals = 2)"
   ]
  },
  {
   "cell_type": "code",
   "execution_count": 209,
   "id": "fa7c1ea8",
   "metadata": {},
   "outputs": [
    {
     "name": "stdout",
     "output_type": "stream",
     "text": [
      "\\begin{tabular}{lrrrr}\n",
      "\\toprule\n",
      "{} &  precision &  recall &  f1-score &  support \\\\\n",
      "\\midrule\n",
      "canon        &       0.70 &    0.73 &      0.71 &  1173.00 \\\\\n",
      "non\\_canon    &       0.82 &    0.79 &      0.80 &  1787.00 \\\\\n",
      "accuracy     &       0.77 &    0.77 &      0.77 &     0.77 \\\\\n",
      "macro avg    &       0.76 &    0.76 &      0.76 &  2960.00 \\\\\n",
      "weighted avg &       0.77 &    0.77 &      0.77 &  2960.00 \\\\\n",
      "\\bottomrule\n",
      "\\end{tabular}\n",
      "\n"
     ]
    },
    {
     "name": "stderr",
     "output_type": "stream",
     "text": [
      "/tmp/ipykernel_6350/138774964.py:1: FutureWarning: In future versions `DataFrame.to_latex` is expected to utilise the base implementation of `Styler.to_latex` for formatting and rendering. The arguments signature may therefore change. It is recommended instead to use `DataFrame.style.to_latex` which also contains additional functionality.\n",
      "  print(res.to_latex())\n"
     ]
    }
   ],
   "source": [
    "print(res.to_latex())"
   ]
  },
  {
   "cell_type": "code",
   "execution_count": 208,
   "id": "5a382d10",
   "metadata": {},
   "outputs": [],
   "source": [
    "res = df_final_scores.round(decimals = 2)\n",
    "print(res.to_latex())"
   ]
  },
  {
   "cell_type": "markdown",
   "id": "dfaac00b",
   "metadata": {},
   "source": [
    "## NOVEL SCALE"
   ]
  },
  {
   "cell_type": "code",
   "execution_count": 18,
   "id": "efcfdfa1",
   "metadata": {},
   "outputs": [],
   "source": [
    "def ratio_truncate(df, ratio_canon):\n",
    "    \n",
    "    df_res = shuffle(df)\n",
    "    ratio_temp = df_res.canon.value_counts(normalize=True).canon\n",
    "    index_noncanon = df_res[df_res['canon']  == 'non_canon'].index \n",
    "    i, j = 0, 20\n",
    "    \n",
    "    while ratio_temp < ratio_canon:\n",
    "        df_res.drop(index_noncanon[i:j], inplace = True)\n",
    "        i = j\n",
    "        j+=20\n",
    "        ratio_temp = df_res.canon.value_counts(normalize=True).canon\n",
    "\n",
    "    return shuffle(df_res)"
   ]
  },
  {
   "cell_type": "code",
   "execution_count": 19,
   "id": "cb01e772",
   "metadata": {},
   "outputs": [],
   "source": [
    "def N_canonizer_sizeopti(df_main, N_fold=5, N_sample=10, ratio=0.5):\n",
    "    list_res, all_bas = [], []\n",
    "    for i in tqdm(range(N_sample)):\n",
    "        df_sizeopti_last = ratio_truncate(df_main, ratio)\n",
    "        pipe, results, bas = GKF_canonized(df_sizeopti_last, N_fold)\n",
    "        list_res.append(results)\n",
    "        all_bas.append(bas)\n",
    "    all_results = pd.concat(list_res).groupby(level=0).mean()\n",
    "\n",
    "    return pipe, all_results, all_bas # return last pipe"
   ]
  },
  {
   "cell_type": "code",
   "execution_count": 20,
   "id": "02ca2c6d",
   "metadata": {},
   "outputs": [],
   "source": [
    "df_main = pd.read_csv(r'data/main_dataset_majed_canon_novel_scale.csv')\n",
    "df_main.set_index(\"index\", inplace = True)\n",
    "df_main = df_main.replace(np.nan, 0)"
   ]
  },
  {
   "cell_type": "code",
   "execution_count": 21,
   "id": "3eaa7541",
   "metadata": {},
   "outputs": [
    {
     "name": "stdout",
     "output_type": "stream",
     "text": [
      "714\n"
     ]
    }
   ],
   "source": [
    "df_main = get_df_with_authors(df_main)"
   ]
  },
  {
   "cell_type": "code",
   "execution_count": 22,
   "id": "1c7a0836",
   "metadata": {},
   "outputs": [],
   "source": [
    "df_concat = pd.concat([df_main.iloc[:, 0:800], df_main.iloc[:, 1000:1800]],  axis=1)#df_main.iloc[:, 3156:3956]],\n",
    "df_concat['canon']=df_main['canon']\n",
    "df_concat['auteur']=df_main['auteur']"
   ]
  },
  {
   "cell_type": "code",
   "execution_count": 23,
   "id": "9fa47992",
   "metadata": {},
   "outputs": [],
   "source": [
    "df_unibi_gram_novel = df_main.iloc[:, 0:2000]\n",
    "df_unibi_gram_novel['canon']=df_main['canon']\n",
    "df_unibi_gram_novel['auteur'] = df_main['auteur']"
   ]
  },
  {
   "cell_type": "code",
   "execution_count": null,
   "id": "5431fb3b",
   "metadata": {},
   "outputs": [],
   "source": []
  },
  {
   "cell_type": "code",
   "execution_count": null,
   "id": "81479ed8",
   "metadata": {},
   "outputs": [],
   "source": []
  },
  {
   "cell_type": "code",
   "execution_count": null,
   "id": "6fbab00d",
   "metadata": {},
   "outputs": [],
   "source": []
  },
  {
   "cell_type": "code",
   "execution_count": 42,
   "id": "7afbefd3",
   "metadata": {},
   "outputs": [
    {
     "data": {
      "application/vnd.jupyter.widget-view+json": {
       "model_id": "c9dd40ce2a16478ebdf623f4fe4c45ee",
       "version_major": 2,
       "version_minor": 0
      },
      "text/plain": [
       "  0%|          | 0/10 [00:00<?, ?it/s]"
      ]
     },
     "metadata": {},
     "output_type": "display_data"
    },
    {
     "name": "stdout",
     "output_type": "stream",
     "text": [
      "0.7460655314757482\n",
      "0.7034313725490196\n",
      "0.7181802545579636\n",
      "0.7017866357069144\n",
      "0.7099780701754386\n",
      "0.704968610251118\n",
      "0.73453087375301\n",
      "0.6886072411420708\n",
      "0.683780529755762\n",
      "0.6903057275541795\n"
     ]
    },
    {
     "data": {
      "image/png": "[encoded data removed]",
      "text/plain": [
       "<Figure size 432x288 with 2 Axes>"
      ]
     },
     "metadata": {
      "needs_background": "light"
     },
     "output_type": "display_data"
    },
    {
     "data": {
      "image/png": "[encoded data removed]",
      "text/plain": [
       "<Figure size 432x288 with 2 Axes>"
      ]
     },
     "metadata": {
      "needs_background": "light"
     },
     "output_type": "display_data"
    },
    {
     "data": {
      "image/png": "[encoded data removed]",
      "text/plain": [
       "<Figure size 432x288 with 2 Axes>"
      ]
     },
     "metadata": {
      "needs_background": "light"
     },
     "output_type": "display_data"
    },
    {
     "data": {
      "image/png": "[encoded data removed]",
      "text/plain": [
       "<Figure size 432x288 with 2 Axes>"
      ]
     },
     "metadata": {
      "needs_background": "light"
     },
     "output_type": "display_data"
    },
    {
     "data": {
      "image/png": "[encoded data removed]",
      "text/plain": [
       "<Figure size 432x288 with 2 Axes>"
      ]
     },
     "metadata": {
      "needs_background": "light"
     },
     "output_type": "display_data"
    },
    {
     "data": {
      "image/png": "[encoded data removed]",
      "text/plain": [
       "<Figure size 432x288 with 2 Axes>"
      ]
     },
     "metadata": {
      "needs_background": "light"
     },
     "output_type": "display_data"
    },
    {
     "data": {
      "image/png": "[encoded data removed]",
      "text/plain": [
       "<Figure size 432x288 with 2 Axes>"
      ]
     },
     "metadata": {
      "needs_background": "light"
     },
     "output_type": "display_data"
    },
    {
     "data": {
      "image/png": "[encoded data removed]",
      "text/plain": [
       "<Figure size 432x288 with 2 Axes>"
      ]
     },
     "metadata": {
      "needs_background": "light"
     },
     "output_type": "display_data"
    },
    {
     "data": {
      "image/png": "[encoded data removed]",
      "text/plain": [
       "<Figure size 432x288 with 2 Axes>"
      ]
     },
     "metadata": {
      "needs_background": "light"
     },
     "output_type": "display_data"
    },
    {
     "data": {
      "image/png": "[encoded data removed]",
      "text/plain": [
       "<Figure size 432x288 with 2 Axes>"
      ]
     },
     "metadata": {
      "needs_background": "light"
     },
     "output_type": "display_data"
    }
   ],
   "source": [
    "pipe, res, all_bas = N_canonizer_sizeopti(df_unibi_gram_novel, ratio=0.5)"
   ]
  },
  {
   "cell_type": "code",
   "execution_count": 43,
   "id": "96678784",
   "metadata": {},
   "outputs": [
    {
     "data": {
      "text/html": [
       "<div>\n",
       "<style scoped>\n",
       "    .dataframe tbody tr th:only-of-type {\n",
       "        vertical-align: middle;\n",
       "    }\n",
       "\n",
       "    .dataframe tbody tr th {\n",
       "        vertical-align: top;\n",
       "    }\n",
       "\n",
       "    .dataframe thead th {\n",
       "        text-align: right;\n",
       "    }\n",
       "</style>\n",
       "<table border=\"1\" class=\"dataframe\">\n",
       "  <thead>\n",
       "    <tr style=\"text-align: right;\">\n",
       "      <th></th>\n",
       "      <th>precision</th>\n",
       "      <th>recall</th>\n",
       "      <th>f1-score</th>\n",
       "      <th>support</th>\n",
       "    </tr>\n",
       "  </thead>\n",
       "  <tbody>\n",
       "    <tr>\n",
       "      <th>accuracy</th>\n",
       "      <td>0.708033</td>\n",
       "      <td>0.708033</td>\n",
       "      <td>0.708033</td>\n",
       "      <td>0.708033</td>\n",
       "    </tr>\n",
       "    <tr>\n",
       "      <th>canon</th>\n",
       "      <td>0.727661</td>\n",
       "      <td>0.668301</td>\n",
       "      <td>0.696617</td>\n",
       "      <td>306.000000</td>\n",
       "    </tr>\n",
       "    <tr>\n",
       "      <th>non_canon</th>\n",
       "      <td>0.691456</td>\n",
       "      <td>0.748026</td>\n",
       "      <td>0.718550</td>\n",
       "      <td>304.000000</td>\n",
       "    </tr>\n",
       "  </tbody>\n",
       "</table>\n",
       "</div>"
      ],
      "text/plain": [
       "           precision    recall  f1-score     support\n",
       "accuracy    0.708033  0.708033  0.708033    0.708033\n",
       "canon       0.727661  0.668301  0.696617  306.000000\n",
       "non_canon   0.691456  0.748026  0.718550  304.000000"
      ]
     },
     "execution_count": 43,
     "metadata": {},
     "output_type": "execute_result"
    }
   ],
   "source": [
    "res"
   ]
  },
  {
   "cell_type": "code",
   "execution_count": 44,
   "id": "f4cacc62",
   "metadata": {},
   "outputs": [
    {
     "data": {
      "text/plain": [
       "0.7081634846921224"
      ]
     },
     "execution_count": 44,
     "metadata": {},
     "output_type": "execute_result"
    }
   ],
   "source": [
    "sum(all_bas)/len(all_bas)"
   ]
  },
  {
   "cell_type": "code",
   "execution_count": 45,
   "id": "195c6c3a",
   "metadata": {},
   "outputs": [
    {
     "name": "stdout",
     "output_type": "stream",
     "text": [
      "\\begin{tabular}{lrrrr}\n",
      "\\toprule\n",
      "{} &  precision &  recall &  f1-score &  support \\\\\n",
      "\\midrule\n",
      "accuracy  &      0.708 &   0.708 &     0.708 &    0.708 \\\\\n",
      "canon     &      0.728 &   0.668 &     0.697 &  306.000 \\\\\n",
      "non\\_canon &      0.691 &   0.748 &     0.719 &  304.000 \\\\\n",
      "\\bottomrule\n",
      "\\end{tabular}\n",
      "\n"
     ]
    },
    {
     "name": "stderr",
     "output_type": "stream",
     "text": [
      "/tmp/ipykernel_5221/3490406322.py:1: FutureWarning: In future versions `DataFrame.to_latex` is expected to utilise the base implementation of `Styler.to_latex` for formatting and rendering. The arguments signature may therefore change. It is recommended instead to use `DataFrame.style.to_latex` which also contains additional functionality.\n",
      "  print(res.to_latex(float_format=\"%.3f\"))\n"
     ]
    }
   ],
   "source": [
    "print(res.to_latex(float_format=\"%.3f\"))"
   ]
  },
  {
   "cell_type": "code",
   "execution_count": 342,
   "id": "0f3d4648",
   "metadata": {},
   "outputs": [
    {
     "data": {
      "text/html": [
       "<div>\n",
       "<style scoped>\n",
       "    .dataframe tbody tr th:only-of-type {\n",
       "        vertical-align: middle;\n",
       "    }\n",
       "\n",
       "    .dataframe tbody tr th {\n",
       "        vertical-align: top;\n",
       "    }\n",
       "\n",
       "    .dataframe thead th {\n",
       "        text-align: right;\n",
       "    }\n",
       "</style>\n",
       "<table border=\"1\" class=\"dataframe\">\n",
       "  <thead>\n",
       "    <tr style=\"text-align: right;\">\n",
       "      <th></th>\n",
       "      <th>precision</th>\n",
       "      <th>recall</th>\n",
       "      <th>f1-score</th>\n",
       "      <th>support</th>\n",
       "    </tr>\n",
       "  </thead>\n",
       "  <tbody>\n",
       "    <tr>\n",
       "      <th>accuracy</th>\n",
       "      <td>0.708824</td>\n",
       "      <td>0.708824</td>\n",
       "      <td>0.708824</td>\n",
       "      <td>0.708824</td>\n",
       "    </tr>\n",
       "    <tr>\n",
       "      <th>canon</th>\n",
       "      <td>0.696100</td>\n",
       "      <td>0.626797</td>\n",
       "      <td>0.659355</td>\n",
       "      <td>306.000000</td>\n",
       "    </tr>\n",
       "    <tr>\n",
       "      <th>non_canon</th>\n",
       "      <td>0.717851</td>\n",
       "      <td>0.775936</td>\n",
       "      <td>0.745619</td>\n",
       "      <td>374.000000</td>\n",
       "    </tr>\n",
       "  </tbody>\n",
       "</table>\n",
       "</div>"
      ],
      "text/plain": [
       "           precision    recall  f1-score     support\n",
       "accuracy    0.708824  0.708824  0.708824    0.708824\n",
       "canon       0.696100  0.626797  0.659355  306.000000\n",
       "non_canon   0.717851  0.775936  0.745619  374.000000"
      ]
     },
     "execution_count": 342,
     "metadata": {},
     "output_type": "execute_result"
    }
   ],
   "source": [
    "res"
   ]
  },
  {
   "cell_type": "code",
   "execution_count": null,
   "id": "e6a7cb68",
   "metadata": {},
   "outputs": [],
   "source": []
  },
  {
   "cell_type": "code",
   "execution_count": 350,
   "id": "acff6560",
   "metadata": {},
   "outputs": [
    {
     "data": {
      "application/vnd.jupyter.widget-view+json": {
       "model_id": "fb8f695bb4564a9c9fc80b19d37cbe8c",
       "version_major": 2,
       "version_minor": 0
      },
      "text/plain": [
       "  0%|          | 0/10 [00:00<?, ?it/s]"
      ]
     },
     "metadata": {},
     "output_type": "display_data"
    },
    {
     "name": "stdout",
     "output_type": "stream",
     "text": [
      "0.6858288770053476\n",
      "0.7061794414735592\n",
      "0.6749851455733809\n",
      "0.7063279857397504\n",
      "0.7131610219845514\n",
      "0.6880570409982174\n",
      "0.7150920974450385\n",
      "0.71524064171123\n",
      "0.6752822341057635\n",
      "0.672756981580511\n"
     ]
    }
   ],
   "source": [
    "pipe, res, all_bas = N_canonizer_sizeopti(df_unibi_gram_novel, ratio=0.45)"
   ]
  },
  {
   "cell_type": "code",
   "execution_count": 351,
   "id": "70635a86",
   "metadata": {},
   "outputs": [
    {
     "data": {
      "text/plain": [
       "0.695291146761735"
      ]
     },
     "execution_count": 351,
     "metadata": {},
     "output_type": "execute_result"
    }
   ],
   "source": [
    "sum(all_bas)/len(all_bas)"
   ]
  },
  {
   "cell_type": "code",
   "execution_count": null,
   "id": "79256348",
   "metadata": {},
   "outputs": [],
   "source": []
  },
  {
   "cell_type": "code",
   "execution_count": 343,
   "id": "f953444c",
   "metadata": {},
   "outputs": [
    {
     "data": {
      "text/plain": [
       "0.70136660724896"
      ]
     },
     "execution_count": 343,
     "metadata": {},
     "output_type": "execute_result"
    }
   ],
   "source": [
    "sum(all_bas)/len(all_bas)"
   ]
  },
  {
   "cell_type": "code",
   "execution_count": 344,
   "id": "6f1ee69e",
   "metadata": {},
   "outputs": [
    {
     "name": "stdout",
     "output_type": "stream",
     "text": [
      "\\begin{tabular}{lrrrr}\n",
      "\\toprule\n",
      "{} &  precision &  recall &  f1-score &  support \\\\\n",
      "\\midrule\n",
      "accuracy  &      0.709 &   0.709 &     0.709 &    0.709 \\\\\n",
      "canon     &      0.696 &   0.627 &     0.659 &  306.000 \\\\\n",
      "non\\_canon &      0.718 &   0.776 &     0.746 &  374.000 \\\\\n",
      "\\bottomrule\n",
      "\\end{tabular}\n",
      "\n"
     ]
    },
    {
     "name": "stderr",
     "output_type": "stream",
     "text": [
      "/tmp/ipykernel_16668/3490406322.py:1: FutureWarning: In future versions `DataFrame.to_latex` is expected to utilise the base implementation of `Styler.to_latex` for formatting and rendering. The arguments signature may therefore change. It is recommended instead to use `DataFrame.style.to_latex` which also contains additional functionality.\n",
      "  print(res.to_latex(float_format=\"%.3f\"))\n"
     ]
    }
   ],
   "source": [
    "print(res.to_latex(float_format=\"%.3f\"))"
   ]
  },
  {
   "cell_type": "code",
   "execution_count": null,
   "id": "f6b8473c",
   "metadata": {},
   "outputs": [],
   "source": []
  },
  {
   "cell_type": "code",
   "execution_count": 39,
   "id": "58d88aa2",
   "metadata": {},
   "outputs": [
    {
     "data": {
      "text/plain": [
       "['pipes/pipeline_novel_scale.pkl']"
      ]
     },
     "execution_count": 39,
     "metadata": {},
     "output_type": "execute_result"
    }
   ],
   "source": [
    "joblib.dump(pipe, 'pipes/pipeline_novel_scale.pkl')"
   ]
  },
  {
   "cell_type": "code",
   "execution_count": null,
   "id": "62956783",
   "metadata": {},
   "outputs": [],
   "source": [
    "#45, sampling = under\n",
    "res"
   ]
  },
  {
   "cell_type": "code",
   "execution_count": 133,
   "id": "6d84170a",
   "metadata": {},
   "outputs": [
    {
     "data": {
      "text/html": [
       "<div>\n",
       "<style scoped>\n",
       "    .dataframe tbody tr th:only-of-type {\n",
       "        vertical-align: middle;\n",
       "    }\n",
       "\n",
       "    .dataframe tbody tr th {\n",
       "        vertical-align: top;\n",
       "    }\n",
       "\n",
       "    .dataframe thead th {\n",
       "        text-align: right;\n",
       "    }\n",
       "</style>\n",
       "<table border=\"1\" class=\"dataframe\">\n",
       "  <thead>\n",
       "    <tr style=\"text-align: right;\">\n",
       "      <th></th>\n",
       "      <th>precision</th>\n",
       "      <th>recall</th>\n",
       "      <th>f1-score</th>\n",
       "      <th>support</th>\n",
       "    </tr>\n",
       "  </thead>\n",
       "  <tbody>\n",
       "    <tr>\n",
       "      <th>accuracy</th>\n",
       "      <td>0.701912</td>\n",
       "      <td>0.701912</td>\n",
       "      <td>0.701912</td>\n",
       "      <td>0.701912</td>\n",
       "    </tr>\n",
       "    <tr>\n",
       "      <th>canon</th>\n",
       "      <td>0.688619</td>\n",
       "      <td>0.617320</td>\n",
       "      <td>0.650848</td>\n",
       "      <td>306.000000</td>\n",
       "    </tr>\n",
       "    <tr>\n",
       "      <th>non_canon</th>\n",
       "      <td>0.711208</td>\n",
       "      <td>0.771123</td>\n",
       "      <td>0.739859</td>\n",
       "      <td>374.000000</td>\n",
       "    </tr>\n",
       "  </tbody>\n",
       "</table>\n",
       "</div>"
      ],
      "text/plain": [
       "           precision    recall  f1-score     support\n",
       "accuracy    0.701912  0.701912  0.701912    0.701912\n",
       "canon       0.688619  0.617320  0.650848  306.000000\n",
       "non_canon   0.711208  0.771123  0.739859  374.000000"
      ]
     },
     "execution_count": 133,
     "metadata": {},
     "output_type": "execute_result"
    }
   ],
   "source": [
    "#45\n",
    "res"
   ]
  },
  {
   "cell_type": "code",
   "execution_count": 172,
   "id": "0fc4b2fc",
   "metadata": {},
   "outputs": [
    {
     "data": {
      "application/vnd.jupyter.widget-view+json": {
       "model_id": "d0063e60f70941f59897021bce3fa1b1",
       "version_major": 2,
       "version_minor": 0
      },
      "text/plain": [
       "  0%|          | 0/10 [00:00<?, ?it/s]"
      ]
     },
     "metadata": {},
     "output_type": "display_data"
    }
   ],
   "source": [
    "res = N_canonizer_sizeopti(df_unibi_gram, 10, 0.50)"
   ]
  },
  {
   "cell_type": "code",
   "execution_count": 173,
   "id": "b885bd47",
   "metadata": {},
   "outputs": [
    {
     "data": {
      "text/html": [
       "<div>\n",
       "<style scoped>\n",
       "    .dataframe tbody tr th:only-of-type {\n",
       "        vertical-align: middle;\n",
       "    }\n",
       "\n",
       "    .dataframe tbody tr th {\n",
       "        vertical-align: top;\n",
       "    }\n",
       "\n",
       "    .dataframe thead th {\n",
       "        text-align: right;\n",
       "    }\n",
       "</style>\n",
       "<table border=\"1\" class=\"dataframe\">\n",
       "  <thead>\n",
       "    <tr style=\"text-align: right;\">\n",
       "      <th></th>\n",
       "      <th>precision</th>\n",
       "      <th>recall</th>\n",
       "      <th>f1-score</th>\n",
       "      <th>support</th>\n",
       "    </tr>\n",
       "  </thead>\n",
       "  <tbody>\n",
       "    <tr>\n",
       "      <th>accuracy</th>\n",
       "      <td>0.692500</td>\n",
       "      <td>0.692500</td>\n",
       "      <td>0.692500</td>\n",
       "      <td>0.6925</td>\n",
       "    </tr>\n",
       "    <tr>\n",
       "      <th>canon</th>\n",
       "      <td>0.716283</td>\n",
       "      <td>0.658170</td>\n",
       "      <td>0.685699</td>\n",
       "      <td>306.0000</td>\n",
       "    </tr>\n",
       "    <tr>\n",
       "      <th>non_canon</th>\n",
       "      <td>0.672096</td>\n",
       "      <td>0.728231</td>\n",
       "      <td>0.698790</td>\n",
       "      <td>294.0000</td>\n",
       "    </tr>\n",
       "  </tbody>\n",
       "</table>\n",
       "</div>"
      ],
      "text/plain": [
       "           precision    recall  f1-score   support\n",
       "accuracy    0.692500  0.692500  0.692500    0.6925\n",
       "canon       0.716283  0.658170  0.685699  306.0000\n",
       "non_canon   0.672096  0.728231  0.698790  294.0000"
      ]
     },
     "execution_count": 173,
     "metadata": {},
     "output_type": "execute_result"
    }
   ],
   "source": [
    "#50\n",
    "res"
   ]
  },
  {
   "cell_type": "code",
   "execution_count": 136,
   "id": "58a5b008",
   "metadata": {},
   "outputs": [
    {
     "data": {
      "application/vnd.jupyter.widget-view+json": {
       "model_id": "35082426478447019a6e27a4b62e6a98",
       "version_major": 2,
       "version_minor": 0
      },
      "text/plain": [
       "  0%|          | 0/10 [00:00<?, ?it/s]"
      ]
     },
     "metadata": {},
     "output_type": "display_data"
    }
   ],
   "source": [
    "res = N_canonizer_sizeopti(df_unibi_gram, 10, 0.55)"
   ]
  },
  {
   "cell_type": "code",
   "execution_count": 137,
   "id": "f0554801",
   "metadata": {},
   "outputs": [
    {
     "data": {
      "text/html": [
       "<div>\n",
       "<style scoped>\n",
       "    .dataframe tbody tr th:only-of-type {\n",
       "        vertical-align: middle;\n",
       "    }\n",
       "\n",
       "    .dataframe tbody tr th {\n",
       "        vertical-align: top;\n",
       "    }\n",
       "\n",
       "    .dataframe thead th {\n",
       "        text-align: right;\n",
       "    }\n",
       "</style>\n",
       "<table border=\"1\" class=\"dataframe\">\n",
       "  <thead>\n",
       "    <tr style=\"text-align: right;\">\n",
       "      <th></th>\n",
       "      <th>precision</th>\n",
       "      <th>recall</th>\n",
       "      <th>f1-score</th>\n",
       "      <th>support</th>\n",
       "    </tr>\n",
       "  </thead>\n",
       "  <tbody>\n",
       "    <tr>\n",
       "      <th>accuracy</th>\n",
       "      <td>0.691111</td>\n",
       "      <td>0.691111</td>\n",
       "      <td>0.691111</td>\n",
       "      <td>0.691111</td>\n",
       "    </tr>\n",
       "    <tr>\n",
       "      <th>canon</th>\n",
       "      <td>0.750363</td>\n",
       "      <td>0.682353</td>\n",
       "      <td>0.714440</td>\n",
       "      <td>306.000000</td>\n",
       "    </tr>\n",
       "    <tr>\n",
       "      <th>non_canon</th>\n",
       "      <td>0.628779</td>\n",
       "      <td>0.702564</td>\n",
       "      <td>0.663312</td>\n",
       "      <td>234.000000</td>\n",
       "    </tr>\n",
       "  </tbody>\n",
       "</table>\n",
       "</div>"
      ],
      "text/plain": [
       "           precision    recall  f1-score     support\n",
       "accuracy    0.691111  0.691111  0.691111    0.691111\n",
       "canon       0.750363  0.682353  0.714440  306.000000\n",
       "non_canon   0.628779  0.702564  0.663312  234.000000"
      ]
     },
     "execution_count": 137,
     "metadata": {},
     "output_type": "execute_result"
    }
   ],
   "source": [
    "#55\n",
    "res"
   ]
  },
  {
   "cell_type": "code",
   "execution_count": 48,
   "id": "504fe539",
   "metadata": {},
   "outputs": [
    {
     "name": "stdout",
     "output_type": "stream",
     "text": [
      "\\begin{tabular}{lrrrr}\n",
      "\\toprule\n",
      "{} &  precision &  recall &  f1-score &  support \\\\\n",
      "\\midrule\n",
      "accuracy  &      0.714 &   0.714 &     0.714 &    0.714 \\\\\n",
      "canon     &      0.688 &   0.668 &     0.678 &  306.000 \\\\\n",
      "non\\_canon &      0.735 &   0.751 &     0.743 &  374.000 \\\\\n",
      "\\bottomrule\n",
      "\\end{tabular}\n",
      "\n"
     ]
    },
    {
     "name": "stderr",
     "output_type": "stream",
     "text": [
      "/tmp/ipykernel_16668/4265497405.py:2: FutureWarning: In future versions `DataFrame.to_latex` is expected to utilise the base implementation of `Styler.to_latex` for formatting and rendering. The arguments signature may therefore change. It is recommended instead to use `DataFrame.style.to_latex` which also contains additional functionality.\n",
      "  print(res.to_latex())\n"
     ]
    }
   ],
   "source": [
    "res = res.round(decimals = 3)\n",
    "print(res.to_latex())"
   ]
  },
  {
   "cell_type": "code",
   "execution_count": null,
   "id": "e0839c01",
   "metadata": {},
   "outputs": [],
   "source": []
  },
  {
   "cell_type": "markdown",
   "id": "d9af284a",
   "metadata": {},
   "source": [
    "### Group == Subgenre"
   ]
  },
  {
   "cell_type": "code",
   "execution_count": 10,
   "id": "f9823089",
   "metadata": {},
   "outputs": [],
   "source": [
    "df_metadata_corpus = pd.read_csv(r'/home/crazyjeannot/Documents/master/M2/master_thesis/meta_data/df_canon_spec_last.csv')\n",
    "df_metadata_corpus.set_index(\"doc_name\", inplace = True)\n",
    "df_metadata_corpus = df_metadata_corpus.replace(np.nan, '')"
   ]
  },
  {
   "cell_type": "code",
   "execution_count": 24,
   "id": "fecb9a99",
   "metadata": {},
   "outputs": [],
   "source": [
    "def retrieve_subgenre(df_main, df_metadata_corpus):\n",
    "    list_subgenre = []\n",
    "    for elem in df_main.index:\n",
    "        if elem in df_metadata_corpus.index:\n",
    "            list_subgenre.append(df_metadata_corpus.loc[elem]['subgenre'])\n",
    "        else:\n",
    "            print(elem)\n",
    "    return list_subgenre"
   ]
  },
  {
   "cell_type": "code",
   "execution_count": 25,
   "id": "4c93f755",
   "metadata": {},
   "outputs": [],
   "source": [
    "df_main['subgenre'] = retrieve_subgenre(df_main, df_metadata_corpus)"
   ]
  },
  {
   "cell_type": "code",
   "execution_count": 26,
   "id": "ce8296d9",
   "metadata": {},
   "outputs": [],
   "source": [
    "df_concat = pd.concat([df_main.iloc[:, 0:800], df_main.iloc[:, 1000:1800]],  axis=1)#df_main.iloc[:, 3156:3956]],\n",
    "df_concat['canon']=df_main['canon']\n",
    "df_concat['subgenre']=df_main['subgenre']"
   ]
  },
  {
   "cell_type": "code",
   "execution_count": 29,
   "id": "815965cb",
   "metadata": {},
   "outputs": [],
   "source": [
    "def GKF_canonized_subgenre(df_main, n_splits=5, sampling=None):\n",
    "    \n",
    "    ALL_PREDS, ALL_GT = [], [] # lists of all predictions vs all ground truth data\n",
    "    \n",
    "    pipe = make_pipeline(StandardScaler(), SVC(class_weight={\"canon\":1.5, \"non_canon\":1}))\n",
    "    gkf = GroupKFold(n_splits)\n",
    "    \n",
    "    for (train_index, test_index) in tqdm(gkf.split(df_main.drop(['subgenre', 'canon'], axis=1), df_main['canon'], df_main['subgenre']), total=n_splits): \n",
    "            train = df_main.iloc[train_index]\n",
    "            test = df_main.iloc[test_index]\n",
    "            #print(\"\\n\\n GROUP \"+str(i)+' : \\n\\n')\n",
    "            #print(\"\\n\\n Train set: \\n\\n\")\n",
    "            #print(list(set(list(df_main['auteur'][train_index]))))\n",
    "            #print(\"\\n\\n Test set: \\n\\n\")\n",
    "            #print(list(set(list(df_main['auteur'][test_index]))))\n",
    "            \n",
    "            X_train = train.drop(['subgenre', 'canon'], axis=1)\n",
    "            y_train = train['canon']\n",
    "            X_test = test.drop(['subgenre', 'canon'], axis=1)\n",
    "            y_test = test['canon']\n",
    "            \n",
    "            pipe.fit(X_train, y_train)\n",
    "                \n",
    "            preds = pipe.predict(X_test)\n",
    "        \n",
    "            #print(f\"\\n PREDS : \")\n",
    "            #print(set(zip(test.index, preds)))\n",
    "            #print(\"\\n\\n\")\n",
    "  \n",
    "            ALL_PREDS.extend(preds)\n",
    "            ALL_GT.extend(y_test)\n",
    "    \n",
    "    report = metrics.classification_report(ALL_GT, ALL_PREDS, output_dict=True)# zero_division=1\n",
    "    df_scores = pd.DataFrame(report).transpose()\n",
    "    \n",
    "    return pipe, df_scores"
   ]
  },
  {
   "cell_type": "code",
   "execution_count": 32,
   "id": "165475d2",
   "metadata": {},
   "outputs": [
    {
     "data": {
      "application/vnd.jupyter.widget-view+json": {
       "model_id": "460bf3d664984d1684baf03c680bd70e",
       "version_major": 2,
       "version_minor": 0
      },
      "text/plain": [
       "  0%|          | 0/5 [00:00<?, ?it/s]"
      ]
     },
     "metadata": {},
     "output_type": "display_data"
    }
   ],
   "source": [
    "pipe, df_res = GKF_canonized_subgenre(df_concat)"
   ]
  },
  {
   "cell_type": "code",
   "execution_count": 33,
   "id": "df916c60",
   "metadata": {},
   "outputs": [
    {
     "data": {
      "text/html": [
       "<div>\n",
       "<style scoped>\n",
       "    .dataframe tbody tr th:only-of-type {\n",
       "        vertical-align: middle;\n",
       "    }\n",
       "\n",
       "    .dataframe tbody tr th {\n",
       "        vertical-align: top;\n",
       "    }\n",
       "\n",
       "    .dataframe thead th {\n",
       "        text-align: right;\n",
       "    }\n",
       "</style>\n",
       "<table border=\"1\" class=\"dataframe\">\n",
       "  <thead>\n",
       "    <tr style=\"text-align: right;\">\n",
       "      <th></th>\n",
       "      <th>precision</th>\n",
       "      <th>recall</th>\n",
       "      <th>f1-score</th>\n",
       "      <th>support</th>\n",
       "    </tr>\n",
       "  </thead>\n",
       "  <tbody>\n",
       "    <tr>\n",
       "      <th>canon</th>\n",
       "      <td>0.807512</td>\n",
       "      <td>0.879795</td>\n",
       "      <td>0.842105</td>\n",
       "      <td>1173.000000</td>\n",
       "    </tr>\n",
       "    <tr>\n",
       "      <th>non_canon</th>\n",
       "      <td>0.916171</td>\n",
       "      <td>0.862339</td>\n",
       "      <td>0.888440</td>\n",
       "      <td>1787.000000</td>\n",
       "    </tr>\n",
       "    <tr>\n",
       "      <th>accuracy</th>\n",
       "      <td>0.869257</td>\n",
       "      <td>0.869257</td>\n",
       "      <td>0.869257</td>\n",
       "      <td>0.869257</td>\n",
       "    </tr>\n",
       "    <tr>\n",
       "      <th>macro avg</th>\n",
       "      <td>0.861841</td>\n",
       "      <td>0.871067</td>\n",
       "      <td>0.865273</td>\n",
       "      <td>2960.000000</td>\n",
       "    </tr>\n",
       "    <tr>\n",
       "      <th>weighted avg</th>\n",
       "      <td>0.873111</td>\n",
       "      <td>0.869257</td>\n",
       "      <td>0.870079</td>\n",
       "      <td>2960.000000</td>\n",
       "    </tr>\n",
       "  </tbody>\n",
       "</table>\n",
       "</div>"
      ],
      "text/plain": [
       "              precision    recall  f1-score      support\n",
       "canon          0.807512  0.879795  0.842105  1173.000000\n",
       "non_canon      0.916171  0.862339  0.888440  1787.000000\n",
       "accuracy       0.869257  0.869257  0.869257     0.869257\n",
       "macro avg      0.861841  0.871067  0.865273  2960.000000\n",
       "weighted avg   0.873111  0.869257  0.870079  2960.000000"
      ]
     },
     "execution_count": 33,
     "metadata": {},
     "output_type": "execute_result"
    }
   ],
   "source": [
    "df_res"
   ]
  },
  {
   "cell_type": "code",
   "execution_count": 40,
   "id": "90784b33",
   "metadata": {},
   "outputs": [],
   "source": [
    "df_concat_cleaned = df_concat[df_concat['subgenre'] != '']"
   ]
  },
  {
   "cell_type": "code",
   "execution_count": 44,
   "id": "5bc0f678",
   "metadata": {},
   "outputs": [
    {
     "data": {
      "text/plain": [
       "1990"
      ]
     },
     "execution_count": 44,
     "metadata": {},
     "output_type": "execute_result"
    }
   ],
   "source": [
    "len(df_concat_cleaned)"
   ]
  },
  {
   "cell_type": "code",
   "execution_count": 41,
   "id": "c6faab80",
   "metadata": {},
   "outputs": [
    {
     "data": {
      "application/vnd.jupyter.widget-view+json": {
       "model_id": "d8b072ee2a6e4662a5f18851adb5d3b3",
       "version_major": 2,
       "version_minor": 0
      },
      "text/plain": [
       "  0%|          | 0/5 [00:00<?, ?it/s]"
      ]
     },
     "metadata": {},
     "output_type": "display_data"
    }
   ],
   "source": [
    "pipe, df_res = GKF_canonized_subgenre(df_concat_cleaned)"
   ]
  },
  {
   "cell_type": "code",
   "execution_count": 42,
   "id": "9b094471",
   "metadata": {},
   "outputs": [
    {
     "data": {
      "text/html": [
       "<div>\n",
       "<style scoped>\n",
       "    .dataframe tbody tr th:only-of-type {\n",
       "        vertical-align: middle;\n",
       "    }\n",
       "\n",
       "    .dataframe tbody tr th {\n",
       "        vertical-align: top;\n",
       "    }\n",
       "\n",
       "    .dataframe thead th {\n",
       "        text-align: right;\n",
       "    }\n",
       "</style>\n",
       "<table border=\"1\" class=\"dataframe\">\n",
       "  <thead>\n",
       "    <tr style=\"text-align: right;\">\n",
       "      <th></th>\n",
       "      <th>precision</th>\n",
       "      <th>recall</th>\n",
       "      <th>f1-score</th>\n",
       "      <th>support</th>\n",
       "    </tr>\n",
       "  </thead>\n",
       "  <tbody>\n",
       "    <tr>\n",
       "      <th>canon</th>\n",
       "      <td>0.780987</td>\n",
       "      <td>0.834190</td>\n",
       "      <td>0.806712</td>\n",
       "      <td>778.000000</td>\n",
       "    </tr>\n",
       "    <tr>\n",
       "      <th>non_canon</th>\n",
       "      <td>0.888697</td>\n",
       "      <td>0.849835</td>\n",
       "      <td>0.868832</td>\n",
       "      <td>1212.000000</td>\n",
       "    </tr>\n",
       "    <tr>\n",
       "      <th>accuracy</th>\n",
       "      <td>0.843719</td>\n",
       "      <td>0.843719</td>\n",
       "      <td>0.843719</td>\n",
       "      <td>0.843719</td>\n",
       "    </tr>\n",
       "    <tr>\n",
       "      <th>macro avg</th>\n",
       "      <td>0.834842</td>\n",
       "      <td>0.842013</td>\n",
       "      <td>0.837772</td>\n",
       "      <td>1990.000000</td>\n",
       "    </tr>\n",
       "    <tr>\n",
       "      <th>weighted avg</th>\n",
       "      <td>0.846587</td>\n",
       "      <td>0.843719</td>\n",
       "      <td>0.844546</td>\n",
       "      <td>1990.000000</td>\n",
       "    </tr>\n",
       "  </tbody>\n",
       "</table>\n",
       "</div>"
      ],
      "text/plain": [
       "              precision    recall  f1-score      support\n",
       "canon          0.780987  0.834190  0.806712   778.000000\n",
       "non_canon      0.888697  0.849835  0.868832  1212.000000\n",
       "accuracy       0.843719  0.843719  0.843719     0.843719\n",
       "macro avg      0.834842  0.842013  0.837772  1990.000000\n",
       "weighted avg   0.846587  0.843719  0.844546  1990.000000"
      ]
     },
     "execution_count": 42,
     "metadata": {},
     "output_type": "execute_result"
    }
   ],
   "source": [
    "df_res"
   ]
  },
  {
   "cell_type": "code",
   "execution_count": 47,
   "id": "978f291a",
   "metadata": {},
   "outputs": [],
   "source": [
    "res = df_res.round(decimals = 2)"
   ]
  },
  {
   "cell_type": "code",
   "execution_count": 48,
   "id": "d8a13728",
   "metadata": {},
   "outputs": [
    {
     "name": "stdout",
     "output_type": "stream",
     "text": [
      "\\begin{tabular}{lrrrr}\n",
      "\\toprule\n",
      "{} &  precision &  recall &  f1-score &  support \\\\\n",
      "\\midrule\n",
      "canon        &       0.78 &    0.83 &      0.81 &   778.00 \\\\\n",
      "non\\_canon    &       0.89 &    0.85 &      0.87 &  1212.00 \\\\\n",
      "accuracy     &       0.84 &    0.84 &      0.84 &     0.84 \\\\\n",
      "macro avg    &       0.83 &    0.84 &      0.84 &  1990.00 \\\\\n",
      "weighted avg &       0.85 &    0.84 &      0.84 &  1990.00 \\\\\n",
      "\\bottomrule\n",
      "\\end{tabular}\n",
      "\n"
     ]
    },
    {
     "name": "stderr",
     "output_type": "stream",
     "text": [
      "/tmp/ipykernel_5260/138774964.py:1: FutureWarning: In future versions `DataFrame.to_latex` is expected to utilise the base implementation of `Styler.to_latex` for formatting and rendering. The arguments signature may therefore change. It is recommended instead to use `DataFrame.style.to_latex` which also contains additional functionality.\n",
      "  print(res.to_latex())\n"
     ]
    }
   ],
   "source": [
    "print(res.to_latex())"
   ]
  },
  {
   "cell_type": "code",
   "execution_count": null,
   "id": "87c5ec56",
   "metadata": {},
   "outputs": [],
   "source": []
  },
  {
   "cell_type": "markdown",
   "id": "b1038b1f",
   "metadata": {},
   "source": [
    "### BASELINES - \n",
    "\n",
    "- RANDOM BUT 60% non_canon, 40% canon (author scale)\n",
    "\n",
    "- RANDOM BUT 90% non_canon, 10% canon (novel scale)"
   ]
  },
  {
   "cell_type": "code",
   "execution_count": 327,
   "id": "6588a70d",
   "metadata": {},
   "outputs": [],
   "source": [
    "df_canon_random_author = df_unibi_gram_author.drop(['canon'], axis=1)\n",
    "df_canon_random_novel = df_unibi_gram_novel.drop(['canon'], axis=1)"
   ]
  },
  {
   "cell_type": "code",
   "execution_count": 328,
   "id": "c30905a7",
   "metadata": {},
   "outputs": [],
   "source": [
    "df_canon_random_author['canon'] = random.choices(['canon', 'non_canon'], weights = [1, 1.5], k = len(df_canon_random_author))\n",
    "df_canon_random_novel['canon'] = random.choices(['canon', 'non_canon'], weights = [1, 9], k = len(df_canon_random_novel))"
   ]
  },
  {
   "cell_type": "code",
   "execution_count": 329,
   "id": "02bd391a",
   "metadata": {},
   "outputs": [
    {
     "name": "stdout",
     "output_type": "stream",
     "text": [
      "0.4853260589194738\n"
     ]
    }
   ],
   "source": [
    "pipe_author, scores_author, bas = GKF_canonized(df_canon_random_author)"
   ]
  },
  {
   "cell_type": "code",
   "execution_count": 345,
   "id": "168f300b",
   "metadata": {},
   "outputs": [
    {
     "data": {
      "text/html": [
       "<div>\n",
       "<style scoped>\n",
       "    .dataframe tbody tr th:only-of-type {\n",
       "        vertical-align: middle;\n",
       "    }\n",
       "\n",
       "    .dataframe tbody tr th {\n",
       "        vertical-align: top;\n",
       "    }\n",
       "\n",
       "    .dataframe thead th {\n",
       "        text-align: right;\n",
       "    }\n",
       "</style>\n",
       "<table border=\"1\" class=\"dataframe\">\n",
       "  <thead>\n",
       "    <tr style=\"text-align: right;\">\n",
       "      <th></th>\n",
       "      <th>precision</th>\n",
       "      <th>recall</th>\n",
       "      <th>f1-score</th>\n",
       "      <th>support</th>\n",
       "    </tr>\n",
       "  </thead>\n",
       "  <tbody>\n",
       "    <tr>\n",
       "      <th>canon</th>\n",
       "      <td>0.364004</td>\n",
       "      <td>0.316067</td>\n",
       "      <td>0.338346</td>\n",
       "      <td>1139.000000</td>\n",
       "    </tr>\n",
       "    <tr>\n",
       "      <th>non_canon</th>\n",
       "      <td>0.604769</td>\n",
       "      <td>0.654585</td>\n",
       "      <td>0.628692</td>\n",
       "      <td>1821.000000</td>\n",
       "    </tr>\n",
       "    <tr>\n",
       "      <th>accuracy</th>\n",
       "      <td>0.524324</td>\n",
       "      <td>0.524324</td>\n",
       "      <td>0.524324</td>\n",
       "      <td>0.524324</td>\n",
       "    </tr>\n",
       "  </tbody>\n",
       "</table>\n",
       "</div>"
      ],
      "text/plain": [
       "           precision    recall  f1-score      support\n",
       "canon       0.364004  0.316067  0.338346  1139.000000\n",
       "non_canon   0.604769  0.654585  0.628692  1821.000000\n",
       "accuracy    0.524324  0.524324  0.524324     0.524324"
      ]
     },
     "execution_count": 345,
     "metadata": {},
     "output_type": "execute_result"
    }
   ],
   "source": [
    "scores_author"
   ]
  },
  {
   "cell_type": "code",
   "execution_count": null,
   "id": "1ddada56",
   "metadata": {},
   "outputs": [],
   "source": []
  },
  {
   "cell_type": "code",
   "execution_count": 346,
   "id": "00e4dbe6",
   "metadata": {},
   "outputs": [
    {
     "data": {
      "application/vnd.jupyter.widget-view+json": {
       "model_id": "43f4b5de778a4725a3110390a2e90fa1",
       "version_major": 2,
       "version_minor": 0
      },
      "text/plain": [
       "  0%|          | 0/10 [00:00<?, ?it/s]"
      ]
     },
     "metadata": {},
     "output_type": "display_data"
    },
    {
     "name": "stdout",
     "output_type": "stream",
     "text": [
      "0.5033758145133855\n",
      "0.48691544762253686\n",
      "0.5241279145840421\n",
      "0.49931088024145365\n",
      "0.5133462434250124\n",
      "0.5014654698662758\n",
      "0.5481162606093912\n",
      "0.5208742225595129\n",
      "0.5195570442868483\n",
      "0.46883695775434187\n"
     ]
    }
   ],
   "source": [
    "pipe, scores, all_bas = N_canonizer_sizeopti(df_canon_random_novel, ratio=0.45)"
   ]
  },
  {
   "cell_type": "code",
   "execution_count": 347,
   "id": "5a5fe29a",
   "metadata": {},
   "outputs": [
    {
     "data": {
      "text/html": [
       "<div>\n",
       "<style scoped>\n",
       "    .dataframe tbody tr th:only-of-type {\n",
       "        vertical-align: middle;\n",
       "    }\n",
       "\n",
       "    .dataframe tbody tr th {\n",
       "        vertical-align: top;\n",
       "    }\n",
       "\n",
       "    .dataframe thead th {\n",
       "        text-align: right;\n",
       "    }\n",
       "</style>\n",
       "<table border=\"1\" class=\"dataframe\">\n",
       "  <thead>\n",
       "    <tr style=\"text-align: right;\">\n",
       "      <th></th>\n",
       "      <th>precision</th>\n",
       "      <th>recall</th>\n",
       "      <th>f1-score</th>\n",
       "      <th>support</th>\n",
       "    </tr>\n",
       "  </thead>\n",
       "  <tbody>\n",
       "    <tr>\n",
       "      <th>accuracy</th>\n",
       "      <td>0.511324</td>\n",
       "      <td>0.511324</td>\n",
       "      <td>0.511324</td>\n",
       "      <td>0.511324</td>\n",
       "    </tr>\n",
       "    <tr>\n",
       "      <th>canon</th>\n",
       "      <td>0.463004</td>\n",
       "      <td>0.478641</td>\n",
       "      <td>0.469901</td>\n",
       "      <td>309.000000</td>\n",
       "    </tr>\n",
       "    <tr>\n",
       "      <th>non_canon</th>\n",
       "      <td>0.554062</td>\n",
       "      <td>0.538544</td>\n",
       "      <td>0.545455</td>\n",
       "      <td>371.000000</td>\n",
       "    </tr>\n",
       "  </tbody>\n",
       "</table>\n",
       "</div>"
      ],
      "text/plain": [
       "           precision    recall  f1-score     support\n",
       "accuracy    0.511324  0.511324  0.511324    0.511324\n",
       "canon       0.463004  0.478641  0.469901  309.000000\n",
       "non_canon   0.554062  0.538544  0.545455  371.000000"
      ]
     },
     "execution_count": 347,
     "metadata": {},
     "output_type": "execute_result"
    }
   ],
   "source": [
    "scores"
   ]
  },
  {
   "cell_type": "code",
   "execution_count": 348,
   "id": "20ea7987",
   "metadata": {},
   "outputs": [
    {
     "data": {
      "text/plain": [
       "0.50859262554628"
      ]
     },
     "execution_count": 348,
     "metadata": {},
     "output_type": "execute_result"
    }
   ],
   "source": [
    "sum(all_bas)/len(all_bas)"
   ]
  },
  {
   "cell_type": "code",
   "execution_count": null,
   "id": "64b79f12",
   "metadata": {},
   "outputs": [],
   "source": []
  }
 ],
 "metadata": {
  "kernelspec": {
   "display_name": "Python 3 (ipykernel)",
   "language": "python",
   "name": "python3"
  },
  "language_info": {
   "codemirror_mode": {
    "name": "ipython",
    "version": 3
   },
   "file_extension": ".py",
   "mimetype": "text/x-python",
   "name": "python",
   "nbconvert_exporter": "python",
   "pygments_lexer": "ipython3",
   "version": "3.9.12"
  }
 },
 "nbformat": 4,
 "nbformat_minor": 5
}
