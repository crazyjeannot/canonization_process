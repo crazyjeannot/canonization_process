{
 "cells": [
  {
   "cell_type": "code",
   "execution_count": 1,
   "metadata": {},
   "outputs": [],
   "source": [
    "import pandas as pd\n",
    "from os import path\n",
    "from collections import Counter\n",
    "import re"
   ]
  },
  {
   "cell_type": "code",
   "execution_count": 96,
   "metadata": {},
   "outputs": [],
   "source": [
    "df_corpus = pd.read_csv('corpus.csv')"
   ]
  },
  {
   "cell_type": "code",
   "execution_count": 92,
   "metadata": {},
   "outputs": [],
   "source": [
    "#df_corpus.drop([\"canon\"], axis = 1, inplace=True)"
   ]
  },
  {
   "cell_type": "code",
   "execution_count": 97,
   "metadata": {},
   "outputs": [
    {
     "data": {
      "text/html": [
       "<div>\n",
       "<style scoped>\n",
       "    .dataframe tbody tr th:only-of-type {\n",
       "        vertical-align: middle;\n",
       "    }\n",
       "\n",
       "    .dataframe tbody tr th {\n",
       "        vertical-align: top;\n",
       "    }\n",
       "\n",
       "    .dataframe thead th {\n",
       "        text-align: right;\n",
       "    }\n",
       "</style>\n",
       "<table border=\"1\" class=\"dataframe\">\n",
       "  <thead>\n",
       "    <tr style=\"text-align: right;\">\n",
       "      <th></th>\n",
       "      <th>date</th>\n",
       "      <th>auteur</th>\n",
       "      <th>titre</th>\n",
       "      <th>fabula</th>\n",
       "    </tr>\n",
       "  </thead>\n",
       "  <tbody>\n",
       "    <tr>\n",
       "      <th>0</th>\n",
       "      <td>1811</td>\n",
       "      <td>françois rene de chateaubriand</td>\n",
       "      <td>oeuvres completes</td>\n",
       "      <td>True</td>\n",
       "    </tr>\n",
       "    <tr>\n",
       "      <th>1</th>\n",
       "      <td>1812</td>\n",
       "      <td>paul de kock</td>\n",
       "      <td>l enfant de ma femme</td>\n",
       "      <td>False</td>\n",
       "    </tr>\n",
       "    <tr>\n",
       "      <th>2</th>\n",
       "      <td>1815</td>\n",
       "      <td>sophie gay</td>\n",
       "      <td>anatole</td>\n",
       "      <td>False</td>\n",
       "    </tr>\n",
       "    <tr>\n",
       "      <th>3</th>\n",
       "      <td>1815</td>\n",
       "      <td>sophie gay</td>\n",
       "      <td>anatole</td>\n",
       "      <td>False</td>\n",
       "    </tr>\n",
       "    <tr>\n",
       "      <th>4</th>\n",
       "      <td>1816</td>\n",
       "      <td>hadot marie adelaide barthelemy</td>\n",
       "      <td>la vierge de l indostan ou les portugais au ma...</td>\n",
       "      <td>False</td>\n",
       "    </tr>\n",
       "    <tr>\n",
       "      <th>...</th>\n",
       "      <td>...</td>\n",
       "      <td>...</td>\n",
       "      <td>...</td>\n",
       "      <td>...</td>\n",
       "    </tr>\n",
       "    <tr>\n",
       "      <th>2956</th>\n",
       "      <td>2018</td>\n",
       "      <td>pascal quignard</td>\n",
       "      <td>l enfant d ingolstadt</td>\n",
       "      <td>True</td>\n",
       "    </tr>\n",
       "    <tr>\n",
       "      <th>2957</th>\n",
       "      <td>2019</td>\n",
       "      <td>christelle dabos</td>\n",
       "      <td>la passe miroir</td>\n",
       "      <td>False</td>\n",
       "    </tr>\n",
       "    <tr>\n",
       "      <th>2958</th>\n",
       "      <td>2019</td>\n",
       "      <td>marie aude murail</td>\n",
       "      <td>sauveur fils</td>\n",
       "      <td>False</td>\n",
       "    </tr>\n",
       "    <tr>\n",
       "      <th>2959</th>\n",
       "      <td>2020</td>\n",
       "      <td>clementine melois</td>\n",
       "      <td>dehors la tempete</td>\n",
       "      <td>False</td>\n",
       "    </tr>\n",
       "    <tr>\n",
       "      <th>2960</th>\n",
       "      <td>2020</td>\n",
       "      <td>vanessa springora</td>\n",
       "      <td>le consentement</td>\n",
       "      <td>False</td>\n",
       "    </tr>\n",
       "  </tbody>\n",
       "</table>\n",
       "<p>2961 rows × 4 columns</p>\n",
       "</div>"
      ],
      "text/plain": [
       "      date                           auteur  \\\n",
       "0     1811   françois rene de chateaubriand   \n",
       "1     1812                     paul de kock   \n",
       "2     1815                       sophie gay   \n",
       "3     1815                       sophie gay   \n",
       "4     1816  hadot marie adelaide barthelemy   \n",
       "...    ...                              ...   \n",
       "2956  2018                  pascal quignard   \n",
       "2957  2019                 christelle dabos   \n",
       "2958  2019                marie aude murail   \n",
       "2959  2020                clementine melois   \n",
       "2960  2020                vanessa springora   \n",
       "\n",
       "                                                  titre  fabula  \n",
       "0                                     oeuvres completes    True  \n",
       "1                                  l enfant de ma femme   False  \n",
       "2                                               anatole   False  \n",
       "3                                               anatole   False  \n",
       "4     la vierge de l indostan ou les portugais au ma...   False  \n",
       "...                                                 ...     ...  \n",
       "2956                              l enfant d ingolstadt    True  \n",
       "2957                                    la passe miroir   False  \n",
       "2958                                       sauveur fils   False  \n",
       "2959                                  dehors la tempete   False  \n",
       "2960                                    le consentement   False  \n",
       "\n",
       "[2961 rows x 4 columns]"
      ]
     },
     "execution_count": 97,
     "metadata": {},
     "output_type": "execute_result"
    }
   ],
   "source": [
    "df_corpus"
   ]
  },
  {
   "cell_type": "code",
   "execution_count": 83,
   "metadata": {},
   "outputs": [],
   "source": [
    "titres = list(df_corpus['titre'])"
   ]
  },
  {
   "cell_type": "code",
   "execution_count": 85,
   "metadata": {},
   "outputs": [],
   "source": [
    "df_meta_data = pd.read_csv('meta_data_canons.csv')"
   ]
  },
  {
   "cell_type": "code",
   "execution_count": 98,
   "metadata": {},
   "outputs": [],
   "source": [
    "def canonique(df_corpus, df_meta_data):\n",
    "    canon = []\n",
    "    for index, row in df_corpus.iterrows():\n",
    "        if row['titre'] in list(df_meta_data['bac']) or row['titre'] in list(df_meta_data['brevet']) or row['titre'] in list(df_meta_data['sup']) or row['titre'] in list(df_meta_data['prix']) or row['titre'] in list(df_meta_data['gf']) or row['titre'] in list(df_meta_data['gouv']):\n",
    "            #print(row['titre'])\n",
    "            canon.append('canon')\n",
    "        else:\n",
    "            canon.append('non_canon')\n",
    "    df_corpus[\"canon\"] = canon\n",
    "    return df_corpus"
   ]
  },
  {
   "cell_type": "code",
   "execution_count": 99,
   "metadata": {},
   "outputs": [],
   "source": [
    " df_corpus_updated = canonique(df_corpus, df_meta_data)"
   ]
  },
  {
   "cell_type": "code",
   "execution_count": 100,
   "metadata": {},
   "outputs": [
    {
     "data": {
      "text/html": [
       "<div>\n",
       "<style scoped>\n",
       "    .dataframe tbody tr th:only-of-type {\n",
       "        vertical-align: middle;\n",
       "    }\n",
       "\n",
       "    .dataframe tbody tr th {\n",
       "        vertical-align: top;\n",
       "    }\n",
       "\n",
       "    .dataframe thead th {\n",
       "        text-align: right;\n",
       "    }\n",
       "</style>\n",
       "<table border=\"1\" class=\"dataframe\">\n",
       "  <thead>\n",
       "    <tr style=\"text-align: right;\">\n",
       "      <th></th>\n",
       "      <th>date</th>\n",
       "      <th>auteur</th>\n",
       "      <th>titre</th>\n",
       "      <th>fabula</th>\n",
       "      <th>canon</th>\n",
       "    </tr>\n",
       "  </thead>\n",
       "  <tbody>\n",
       "    <tr>\n",
       "      <th>0</th>\n",
       "      <td>1811</td>\n",
       "      <td>françois rene de chateaubriand</td>\n",
       "      <td>oeuvres completes</td>\n",
       "      <td>True</td>\n",
       "      <td>canon</td>\n",
       "    </tr>\n",
       "    <tr>\n",
       "      <th>1</th>\n",
       "      <td>1812</td>\n",
       "      <td>paul de kock</td>\n",
       "      <td>l enfant de ma femme</td>\n",
       "      <td>False</td>\n",
       "      <td>non_canon</td>\n",
       "    </tr>\n",
       "    <tr>\n",
       "      <th>2</th>\n",
       "      <td>1815</td>\n",
       "      <td>sophie gay</td>\n",
       "      <td>anatole</td>\n",
       "      <td>False</td>\n",
       "      <td>non_canon</td>\n",
       "    </tr>\n",
       "    <tr>\n",
       "      <th>3</th>\n",
       "      <td>1815</td>\n",
       "      <td>sophie gay</td>\n",
       "      <td>anatole</td>\n",
       "      <td>False</td>\n",
       "      <td>non_canon</td>\n",
       "    </tr>\n",
       "    <tr>\n",
       "      <th>4</th>\n",
       "      <td>1816</td>\n",
       "      <td>hadot marie adelaide barthelemy</td>\n",
       "      <td>la vierge de l indostan ou les portugais au ma...</td>\n",
       "      <td>False</td>\n",
       "      <td>non_canon</td>\n",
       "    </tr>\n",
       "    <tr>\n",
       "      <th>...</th>\n",
       "      <td>...</td>\n",
       "      <td>...</td>\n",
       "      <td>...</td>\n",
       "      <td>...</td>\n",
       "      <td>...</td>\n",
       "    </tr>\n",
       "    <tr>\n",
       "      <th>2956</th>\n",
       "      <td>2018</td>\n",
       "      <td>pascal quignard</td>\n",
       "      <td>l enfant d ingolstadt</td>\n",
       "      <td>True</td>\n",
       "      <td>non_canon</td>\n",
       "    </tr>\n",
       "    <tr>\n",
       "      <th>2957</th>\n",
       "      <td>2019</td>\n",
       "      <td>christelle dabos</td>\n",
       "      <td>la passe miroir</td>\n",
       "      <td>False</td>\n",
       "      <td>non_canon</td>\n",
       "    </tr>\n",
       "    <tr>\n",
       "      <th>2958</th>\n",
       "      <td>2019</td>\n",
       "      <td>marie aude murail</td>\n",
       "      <td>sauveur fils</td>\n",
       "      <td>False</td>\n",
       "      <td>non_canon</td>\n",
       "    </tr>\n",
       "    <tr>\n",
       "      <th>2959</th>\n",
       "      <td>2020</td>\n",
       "      <td>clementine melois</td>\n",
       "      <td>dehors la tempete</td>\n",
       "      <td>False</td>\n",
       "      <td>non_canon</td>\n",
       "    </tr>\n",
       "    <tr>\n",
       "      <th>2960</th>\n",
       "      <td>2020</td>\n",
       "      <td>vanessa springora</td>\n",
       "      <td>le consentement</td>\n",
       "      <td>False</td>\n",
       "      <td>non_canon</td>\n",
       "    </tr>\n",
       "  </tbody>\n",
       "</table>\n",
       "<p>2961 rows × 5 columns</p>\n",
       "</div>"
      ],
      "text/plain": [
       "      date                           auteur  \\\n",
       "0     1811   françois rene de chateaubriand   \n",
       "1     1812                     paul de kock   \n",
       "2     1815                       sophie gay   \n",
       "3     1815                       sophie gay   \n",
       "4     1816  hadot marie adelaide barthelemy   \n",
       "...    ...                              ...   \n",
       "2956  2018                  pascal quignard   \n",
       "2957  2019                 christelle dabos   \n",
       "2958  2019                marie aude murail   \n",
       "2959  2020                clementine melois   \n",
       "2960  2020                vanessa springora   \n",
       "\n",
       "                                                  titre  fabula      canon  \n",
       "0                                     oeuvres completes    True      canon  \n",
       "1                                  l enfant de ma femme   False  non_canon  \n",
       "2                                               anatole   False  non_canon  \n",
       "3                                               anatole   False  non_canon  \n",
       "4     la vierge de l indostan ou les portugais au ma...   False  non_canon  \n",
       "...                                                 ...     ...        ...  \n",
       "2956                              l enfant d ingolstadt    True  non_canon  \n",
       "2957                                    la passe miroir   False  non_canon  \n",
       "2958                                       sauveur fils   False  non_canon  \n",
       "2959                                  dehors la tempete   False  non_canon  \n",
       "2960                                    le consentement   False  non_canon  \n",
       "\n",
       "[2961 rows x 5 columns]"
      ]
     },
     "execution_count": 100,
     "metadata": {},
     "output_type": "execute_result"
    }
   ],
   "source": [
    "df_corpus_updated"
   ]
  },
  {
   "cell_type": "code",
   "execution_count": 90,
   "metadata": {},
   "outputs": [
    {
     "data": {
      "text/plain": [
       "non_canon    2700\n",
       "canon         261\n",
       "Name: canon, dtype: int64"
      ]
     },
     "execution_count": 90,
     "metadata": {},
     "output_type": "execute_result"
    }
   ],
   "source": [
    "df_corpus_updated['canon'].value_counts()"
   ]
  },
  {
   "cell_type": "code",
   "execution_count": 71,
   "metadata": {},
   "outputs": [
    {
     "data": {
      "text/plain": [
       "non_canon    2724\n",
       "canon         239\n",
       "Name: canon, dtype: int64"
      ]
     },
     "execution_count": 71,
     "metadata": {},
     "output_type": "execute_result"
    }
   ],
   "source": [
    "df_corpus_updated['canon'].value_counts()"
   ]
  },
  {
   "cell_type": "code",
   "execution_count": null,
   "metadata": {},
   "outputs": [],
   "source": []
  },
  {
   "cell_type": "code",
   "execution_count": null,
   "metadata": {},
   "outputs": [],
   "source": []
  },
  {
   "cell_type": "code",
   "execution_count": 101,
   "metadata": {},
   "outputs": [],
   "source": [
    "df_corpus_updated.to_csv(r'corpus_canons.csv', index = False, header=True)"
   ]
  },
  {
   "cell_type": "code",
   "execution_count": 106,
   "metadata": {},
   "outputs": [],
   "source": [
    "df_only_canon = df_corpus_updated[df_corpus_updated['canon'] == 'canon'] "
   ]
  },
  {
   "cell_type": "code",
   "execution_count": 104,
   "metadata": {},
   "outputs": [],
   "source": [
    "df_only_canon.to_csv(r'only_canon.csv', index = False, header=True)"
   ]
  },
  {
   "cell_type": "code",
   "execution_count": 107,
   "metadata": {},
   "outputs": [],
   "source": [
    "auteur = df_only_canon['auteur'].value_counts().index.to_list()"
   ]
  },
  {
   "cell_type": "code",
   "execution_count": 108,
   "metadata": {},
   "outputs": [],
   "source": [
    "nb_romans = df_only_canon[\"auteur\"].value_counts().to_list()"
   ]
  },
  {
   "cell_type": "code",
   "execution_count": 112,
   "metadata": {},
   "outputs": [],
   "source": [
    "df_only_canon = pd.read_csv('only_canon.csv')"
   ]
  },
  {
   "cell_type": "code",
   "execution_count": 116,
   "metadata": {},
   "outputs": [
    {
     "data": {
      "text/plain": [
       "m     222\n",
       "f      38\n",
       "mf      1\n",
       "Name: sexe, dtype: int64"
      ]
     },
     "execution_count": 116,
     "metadata": {},
     "output_type": "execute_result"
    }
   ],
   "source": [
    "df_only_canon['sexe'].value_counts()"
   ]
  },
  {
   "cell_type": "code",
   "execution_count": 115,
   "metadata": {},
   "outputs": [
    {
     "data": {
      "text/plain": [
       "m     85.057471\n",
       "f     14.559387\n",
       "mf     0.383142\n",
       "Name: sexe, dtype: float64"
      ]
     },
     "execution_count": 115,
     "metadata": {},
     "output_type": "execute_result"
    }
   ],
   "source": [
    "df_only_canon['sexe'].value_counts(normalize=True)*100"
   ]
  },
  {
   "cell_type": "code",
   "execution_count": null,
   "metadata": {},
   "outputs": [],
   "source": []
  },
  {
   "cell_type": "code",
   "execution_count": 109,
   "metadata": {},
   "outputs": [],
   "source": [
    "auteurs_canoniques = pd.DataFrame(list(zip(auteur, nb_romans)), columns = ['auteur', \"nb_romans\"])"
   ]
  },
  {
   "cell_type": "code",
   "execution_count": 110,
   "metadata": {},
   "outputs": [],
   "source": [
    "auteurs_canoniques.to_csv(r'auteur_canon.csv', index = False, header=True)"
   ]
  },
  {
   "cell_type": "code",
   "execution_count": null,
   "metadata": {},
   "outputs": [],
   "source": []
  }
 ],
 "metadata": {
  "kernelspec": {
   "display_name": "Python 3",
   "language": "python",
   "name": "python3"
  },
  "language_info": {
   "codemirror_mode": {
    "name": "ipython",
    "version": 3
   },
   "file_extension": ".py",
   "mimetype": "text/x-python",
   "name": "python",
   "nbconvert_exporter": "python",
   "pygments_lexer": "ipython3",
   "version": "3.8.3"
  }
 },
 "nbformat": 4,
 "nbformat_minor": 4
}
