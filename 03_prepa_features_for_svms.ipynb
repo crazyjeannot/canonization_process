{
 "cells": [
  {
   "cell_type": "code",
   "execution_count": 1,
   "metadata": {},
   "outputs": [],
   "source": [
    "import re\n",
    "import pandas as pd"
   ]
  },
  {
   "cell_type": "code",
   "execution_count": 2,
   "metadata": {},
   "outputs": [],
   "source": [
    "df_corpus_canon = pd.read_csv(r'corpus_canons.csv')"
   ]
  },
  {
   "cell_type": "code",
   "execution_count": 20,
   "metadata": {},
   "outputs": [
    {
     "data": {
      "text/html": [
       "<div>\n",
       "<style scoped>\n",
       "    .dataframe tbody tr th:only-of-type {\n",
       "        vertical-align: middle;\n",
       "    }\n",
       "\n",
       "    .dataframe tbody tr th {\n",
       "        vertical-align: top;\n",
       "    }\n",
       "\n",
       "    .dataframe thead th {\n",
       "        text-align: right;\n",
       "    }\n",
       "</style>\n",
       "<table border=\"1\" class=\"dataframe\">\n",
       "  <thead>\n",
       "    <tr style=\"text-align: right;\">\n",
       "      <th></th>\n",
       "      <th>date</th>\n",
       "      <th>auteur</th>\n",
       "      <th>titre</th>\n",
       "      <th>fabula</th>\n",
       "      <th>canon</th>\n",
       "    </tr>\n",
       "  </thead>\n",
       "  <tbody>\n",
       "    <tr>\n",
       "      <th>0</th>\n",
       "      <td>1811</td>\n",
       "      <td>françois rene de chateaubriand</td>\n",
       "      <td>oeuvres completes</td>\n",
       "      <td>True</td>\n",
       "      <td>canon</td>\n",
       "    </tr>\n",
       "    <tr>\n",
       "      <th>1</th>\n",
       "      <td>1812</td>\n",
       "      <td>paul de kock</td>\n",
       "      <td>l enfant de ma femme</td>\n",
       "      <td>False</td>\n",
       "      <td>non_canon</td>\n",
       "    </tr>\n",
       "    <tr>\n",
       "      <th>2</th>\n",
       "      <td>1815</td>\n",
       "      <td>sophie gay</td>\n",
       "      <td>anatole</td>\n",
       "      <td>False</td>\n",
       "      <td>non_canon</td>\n",
       "    </tr>\n",
       "    <tr>\n",
       "      <th>3</th>\n",
       "      <td>1815</td>\n",
       "      <td>sophie gay</td>\n",
       "      <td>anatole</td>\n",
       "      <td>False</td>\n",
       "      <td>non_canon</td>\n",
       "    </tr>\n",
       "    <tr>\n",
       "      <th>4</th>\n",
       "      <td>1816</td>\n",
       "      <td>hadot marie adelaide barthelemy</td>\n",
       "      <td>la vierge de l indostan ou les portugais au ma...</td>\n",
       "      <td>False</td>\n",
       "      <td>non_canon</td>\n",
       "    </tr>\n",
       "    <tr>\n",
       "      <th>...</th>\n",
       "      <td>...</td>\n",
       "      <td>...</td>\n",
       "      <td>...</td>\n",
       "      <td>...</td>\n",
       "      <td>...</td>\n",
       "    </tr>\n",
       "    <tr>\n",
       "      <th>2956</th>\n",
       "      <td>2018</td>\n",
       "      <td>pascal quignard</td>\n",
       "      <td>l enfant d ingolstadt</td>\n",
       "      <td>True</td>\n",
       "      <td>non_canon</td>\n",
       "    </tr>\n",
       "    <tr>\n",
       "      <th>2957</th>\n",
       "      <td>2019</td>\n",
       "      <td>christelle dabos</td>\n",
       "      <td>la passe miroir</td>\n",
       "      <td>False</td>\n",
       "      <td>non_canon</td>\n",
       "    </tr>\n",
       "    <tr>\n",
       "      <th>2958</th>\n",
       "      <td>2019</td>\n",
       "      <td>marie aude murail</td>\n",
       "      <td>sauveur fils</td>\n",
       "      <td>False</td>\n",
       "      <td>non_canon</td>\n",
       "    </tr>\n",
       "    <tr>\n",
       "      <th>2959</th>\n",
       "      <td>2020</td>\n",
       "      <td>clementine melois</td>\n",
       "      <td>dehors la tempete</td>\n",
       "      <td>False</td>\n",
       "      <td>non_canon</td>\n",
       "    </tr>\n",
       "    <tr>\n",
       "      <th>2960</th>\n",
       "      <td>2020</td>\n",
       "      <td>vanessa springora</td>\n",
       "      <td>le consentement</td>\n",
       "      <td>False</td>\n",
       "      <td>non_canon</td>\n",
       "    </tr>\n",
       "  </tbody>\n",
       "</table>\n",
       "<p>2961 rows × 5 columns</p>\n",
       "</div>"
      ],
      "text/plain": [
       "      date                           auteur  \\\n",
       "0     1811   françois rene de chateaubriand   \n",
       "1     1812                     paul de kock   \n",
       "2     1815                       sophie gay   \n",
       "3     1815                       sophie gay   \n",
       "4     1816  hadot marie adelaide barthelemy   \n",
       "...    ...                              ...   \n",
       "2956  2018                  pascal quignard   \n",
       "2957  2019                 christelle dabos   \n",
       "2958  2019                marie aude murail   \n",
       "2959  2020                clementine melois   \n",
       "2960  2020                vanessa springora   \n",
       "\n",
       "                                                  titre  fabula      canon  \n",
       "0                                     oeuvres completes    True      canon  \n",
       "1                                  l enfant de ma femme   False  non_canon  \n",
       "2                                               anatole   False  non_canon  \n",
       "3                                               anatole   False  non_canon  \n",
       "4     la vierge de l indostan ou les portugais au ma...   False  non_canon  \n",
       "...                                                 ...     ...        ...  \n",
       "2956                              l enfant d ingolstadt    True  non_canon  \n",
       "2957                                    la passe miroir   False  non_canon  \n",
       "2958                                       sauveur fils   False  non_canon  \n",
       "2959                                  dehors la tempete   False  non_canon  \n",
       "2960                                    le consentement   False  non_canon  \n",
       "\n",
       "[2961 rows x 5 columns]"
      ]
     },
     "execution_count": 20,
     "metadata": {},
     "output_type": "execute_result"
    }
   ],
   "source": [
    "df_corpus_canon"
   ]
  },
  {
   "cell_type": "code",
   "execution_count": 4,
   "metadata": {},
   "outputs": [],
   "source": [
    "df_main_temp = pd.read_csv(r'features.csv')"
   ]
  },
  {
   "cell_type": "code",
   "execution_count": 12,
   "metadata": {},
   "outputs": [],
   "source": [
    "df_main_temp.set_index(\"index\", inplace = True)"
   ]
  },
  {
   "cell_type": "code",
   "execution_count": 5,
   "metadata": {},
   "outputs": [],
   "source": [
    "def net_title(liste_titre):\n",
    "    liste_result = []\n",
    "    for titre in liste_titre:\n",
    "        temp = re.sub(\"-\", \" \", titre)\n",
    "        liste_result.append(temp.lower()) \n",
    "    return liste_result"
   ]
  },
  {
   "cell_type": "code",
   "execution_count": 6,
   "metadata": {},
   "outputs": [],
   "source": [
    "def title(df_main):\n",
    "\n",
    "    liste_titre = []\n",
    "    \n",
    "    for doc_name in list(df_main.index):\n",
    "        \n",
    "        date = doc_name.split(\"_\")[0]\n",
    "        auteur = doc_name.split(\"_\")[1]\n",
    "        titre = doc_name.split(\"_\")[2]\n",
    "        liste_titre.append(titre)\n",
    "        \n",
    "    return net_title(liste_titre)"
   ]
  },
  {
   "cell_type": "code",
   "execution_count": 83,
   "metadata": {},
   "outputs": [
    {
     "data": {
      "text/plain": [
       "0                                       oeuvres completes\n",
       "1                                    l enfant de ma femme\n",
       "2                                                 anatole\n",
       "3                                                 anatole\n",
       "4       la vierge de l indostan ou les portugais au ma...\n",
       "                              ...                        \n",
       "2956                                l enfant d ingolstadt\n",
       "2957                                      la passe miroir\n",
       "2958                                         sauveur fils\n",
       "2959                                    dehors la tempete\n",
       "2960                                      le consentement\n",
       "Name: titre, Length: 2961, dtype: object"
      ]
     },
     "execution_count": 83,
     "metadata": {},
     "output_type": "execute_result"
    }
   ],
   "source": [
    "#df_corpus_canon.fabula.values\n",
    "#df_corpus_canon.canon.values\n",
    "df_corpus_canon.titre"
   ]
  },
  {
   "cell_type": "code",
   "execution_count": 80,
   "metadata": {},
   "outputs": [],
   "source": [
    "dict_canon = pd.Series(df_corpus_canon.fabula.values, index = df_corpus_canon.titre).to_dict()"
   ]
  },
  {
   "cell_type": "code",
   "execution_count": 8,
   "metadata": {},
   "outputs": [],
   "source": [
    "def liste_concordante(liste_titre_net, dict_canon):\n",
    "    liste_canon = []\n",
    "    for titre in liste_titre_net:\n",
    "        liste_canon.append(dict_canon[titre])\n",
    "    return liste_canon"
   ]
  },
  {
   "cell_type": "code",
   "execution_count": 81,
   "metadata": {},
   "outputs": [],
   "source": [
    "liste_canon = liste_concordante(title(df_main_temp), dict_canon)"
   ]
  },
  {
   "cell_type": "code",
   "execution_count": 82,
   "metadata": {},
   "outputs": [
    {
     "data": {
      "text/plain": [
       "2960"
      ]
     },
     "execution_count": 82,
     "metadata": {},
     "output_type": "execute_result"
    }
   ],
   "source": [
    "len(liste_canon)"
   ]
  },
  {
   "cell_type": "code",
   "execution_count": 25,
   "metadata": {},
   "outputs": [],
   "source": [
    "df_main_temp['canon'] = liste_canon"
   ]
  },
  {
   "cell_type": "code",
   "execution_count": 26,
   "metadata": {},
   "outputs": [
    {
     "data": {
      "text/html": [
       "<div>\n",
       "<style scoped>\n",
       "    .dataframe tbody tr th:only-of-type {\n",
       "        vertical-align: middle;\n",
       "    }\n",
       "\n",
       "    .dataframe tbody tr th {\n",
       "        vertical-align: top;\n",
       "    }\n",
       "\n",
       "    .dataframe thead th {\n",
       "        text-align: right;\n",
       "    }\n",
       "</style>\n",
       "<table border=\"1\" class=\"dataframe\">\n",
       "  <thead>\n",
       "    <tr style=\"text-align: right;\">\n",
       "      <th></th>\n",
       "      <th>le</th>\n",
       "      <th>de</th>\n",
       "      <th>un</th>\n",
       "      <th>et</th>\n",
       "      <th>il</th>\n",
       "      <th>avoir</th>\n",
       "      <th>à</th>\n",
       "      <th>lui</th>\n",
       "      <th>être</th>\n",
       "      <th>son</th>\n",
       "      <th>...</th>\n",
       "      <th>PROPN_VERB_AUX</th>\n",
       "      <th>VERB_CCONJ_CCONJ</th>\n",
       "      <th>ADV_NOUN_AUX</th>\n",
       "      <th>SCONJ_NOUN_AUX</th>\n",
       "      <th>PRON_ADJ_AUX</th>\n",
       "      <th>SCONJ_PROPN_DET</th>\n",
       "      <th>ADV_DET_DET</th>\n",
       "      <th>ADV_CCONJ_PROPN</th>\n",
       "      <th>VERB_VERB_AUX</th>\n",
       "      <th>canon</th>\n",
       "    </tr>\n",
       "    <tr>\n",
       "      <th>index</th>\n",
       "      <th></th>\n",
       "      <th></th>\n",
       "      <th></th>\n",
       "      <th></th>\n",
       "      <th></th>\n",
       "      <th></th>\n",
       "      <th></th>\n",
       "      <th></th>\n",
       "      <th></th>\n",
       "      <th></th>\n",
       "      <th></th>\n",
       "      <th></th>\n",
       "      <th></th>\n",
       "      <th></th>\n",
       "      <th></th>\n",
       "      <th></th>\n",
       "      <th></th>\n",
       "      <th></th>\n",
       "      <th></th>\n",
       "      <th></th>\n",
       "      <th></th>\n",
       "    </tr>\n",
       "  </thead>\n",
       "  <tbody>\n",
       "    <tr>\n",
       "      <th>2003_Echenoz-Jean_Au-Piano</th>\n",
       "      <td>0.055371</td>\n",
       "      <td>0.066754</td>\n",
       "      <td>0.032462</td>\n",
       "      <td>0.016659</td>\n",
       "      <td>0.019914</td>\n",
       "      <td>0.013094</td>\n",
       "      <td>0.018679</td>\n",
       "      <td>0.009601</td>\n",
       "      <td>0.012571</td>\n",
       "      <td>0.012025</td>\n",
       "      <td>...</td>\n",
       "      <td>NaN</td>\n",
       "      <td>0.000071</td>\n",
       "      <td>0.000024</td>\n",
       "      <td>NaN</td>\n",
       "      <td>0.000024</td>\n",
       "      <td>0.000071</td>\n",
       "      <td>0.000048</td>\n",
       "      <td>0.000143</td>\n",
       "      <td>NaN</td>\n",
       "      <td>True</td>\n",
       "    </tr>\n",
       "    <tr>\n",
       "      <th>1863_Feval-Paul_La-Fille-du-Juif-Errant</th>\n",
       "      <td>0.071686</td>\n",
       "      <td>0.056006</td>\n",
       "      <td>0.025387</td>\n",
       "      <td>0.021924</td>\n",
       "      <td>0.018092</td>\n",
       "      <td>0.019726</td>\n",
       "      <td>0.015096</td>\n",
       "      <td>0.007762</td>\n",
       "      <td>0.012800</td>\n",
       "      <td>0.012411</td>\n",
       "      <td>...</td>\n",
       "      <td>0.000058</td>\n",
       "      <td>0.000019</td>\n",
       "      <td>0.000019</td>\n",
       "      <td>0.000039</td>\n",
       "      <td>0.000078</td>\n",
       "      <td>0.000039</td>\n",
       "      <td>0.000039</td>\n",
       "      <td>0.000078</td>\n",
       "      <td>0.000078</td>\n",
       "      <td>False</td>\n",
       "    </tr>\n",
       "    <tr>\n",
       "      <th>1893_Segur-Anatole-de_Les-Enfants-de-Paris</th>\n",
       "      <td>0.070270</td>\n",
       "      <td>0.074120</td>\n",
       "      <td>0.024885</td>\n",
       "      <td>0.035188</td>\n",
       "      <td>0.020143</td>\n",
       "      <td>0.010624</td>\n",
       "      <td>0.018076</td>\n",
       "      <td>0.008057</td>\n",
       "      <td>0.013922</td>\n",
       "      <td>0.018379</td>\n",
       "      <td>...</td>\n",
       "      <td>0.000036</td>\n",
       "      <td>0.000053</td>\n",
       "      <td>0.000018</td>\n",
       "      <td>NaN</td>\n",
       "      <td>0.000018</td>\n",
       "      <td>NaN</td>\n",
       "      <td>0.000018</td>\n",
       "      <td>0.000036</td>\n",
       "      <td>0.000018</td>\n",
       "      <td>False</td>\n",
       "    </tr>\n",
       "    <tr>\n",
       "      <th>1839_Stendhal_Le-coffre-et-le-revenant</th>\n",
       "      <td>0.058104</td>\n",
       "      <td>0.057741</td>\n",
       "      <td>0.020821</td>\n",
       "      <td>0.017552</td>\n",
       "      <td>0.024936</td>\n",
       "      <td>0.018642</td>\n",
       "      <td>0.018279</td>\n",
       "      <td>0.018884</td>\n",
       "      <td>0.013558</td>\n",
       "      <td>0.017916</td>\n",
       "      <td>...</td>\n",
       "      <td>NaN</td>\n",
       "      <td>NaN</td>\n",
       "      <td>NaN</td>\n",
       "      <td>0.000121</td>\n",
       "      <td>NaN</td>\n",
       "      <td>NaN</td>\n",
       "      <td>NaN</td>\n",
       "      <td>NaN</td>\n",
       "      <td>NaN</td>\n",
       "      <td>True</td>\n",
       "    </tr>\n",
       "    <tr>\n",
       "      <th>2012_Winckler-Martin_En-souvenir-d-Andre</th>\n",
       "      <td>0.050104</td>\n",
       "      <td>0.040242</td>\n",
       "      <td>0.026747</td>\n",
       "      <td>0.017232</td>\n",
       "      <td>0.020346</td>\n",
       "      <td>0.047474</td>\n",
       "      <td>0.018547</td>\n",
       "      <td>0.014879</td>\n",
       "      <td>0.015052</td>\n",
       "      <td>0.010588</td>\n",
       "      <td>...</td>\n",
       "      <td>0.000104</td>\n",
       "      <td>0.000069</td>\n",
       "      <td>0.000104</td>\n",
       "      <td>NaN</td>\n",
       "      <td>0.000035</td>\n",
       "      <td>0.000035</td>\n",
       "      <td>NaN</td>\n",
       "      <td>0.000069</td>\n",
       "      <td>0.000138</td>\n",
       "      <td>False</td>\n",
       "    </tr>\n",
       "    <tr>\n",
       "      <th>...</th>\n",
       "      <td>...</td>\n",
       "      <td>...</td>\n",
       "      <td>...</td>\n",
       "      <td>...</td>\n",
       "      <td>...</td>\n",
       "      <td>...</td>\n",
       "      <td>...</td>\n",
       "      <td>...</td>\n",
       "      <td>...</td>\n",
       "      <td>...</td>\n",
       "      <td>...</td>\n",
       "      <td>...</td>\n",
       "      <td>...</td>\n",
       "      <td>...</td>\n",
       "      <td>...</td>\n",
       "      <td>...</td>\n",
       "      <td>...</td>\n",
       "      <td>...</td>\n",
       "      <td>...</td>\n",
       "      <td>...</td>\n",
       "      <td>...</td>\n",
       "    </tr>\n",
       "    <tr>\n",
       "      <th>1941_Ayme-Marcel_Le-travelingue</th>\n",
       "      <td>0.054117</td>\n",
       "      <td>0.051172</td>\n",
       "      <td>0.034685</td>\n",
       "      <td>0.024416</td>\n",
       "      <td>0.020590</td>\n",
       "      <td>0.019617</td>\n",
       "      <td>0.021799</td>\n",
       "      <td>0.013306</td>\n",
       "      <td>0.014962</td>\n",
       "      <td>0.016054</td>\n",
       "      <td>...</td>\n",
       "      <td>0.000066</td>\n",
       "      <td>0.000053</td>\n",
       "      <td>0.000053</td>\n",
       "      <td>0.000079</td>\n",
       "      <td>0.000026</td>\n",
       "      <td>0.000026</td>\n",
       "      <td>0.000066</td>\n",
       "      <td>0.000053</td>\n",
       "      <td>0.000053</td>\n",
       "      <td>True</td>\n",
       "    </tr>\n",
       "    <tr>\n",
       "      <th>1887_Malot-Hector_Ghislaine</th>\n",
       "      <td>0.064546</td>\n",
       "      <td>0.054961</td>\n",
       "      <td>0.025663</td>\n",
       "      <td>0.021358</td>\n",
       "      <td>0.028586</td>\n",
       "      <td>0.023401</td>\n",
       "      <td>0.020164</td>\n",
       "      <td>0.025799</td>\n",
       "      <td>0.014434</td>\n",
       "      <td>0.014162</td>\n",
       "      <td>...</td>\n",
       "      <td>0.000010</td>\n",
       "      <td>0.000010</td>\n",
       "      <td>0.000073</td>\n",
       "      <td>0.000084</td>\n",
       "      <td>0.000031</td>\n",
       "      <td>0.000031</td>\n",
       "      <td>0.000031</td>\n",
       "      <td>0.000042</td>\n",
       "      <td>0.000042</td>\n",
       "      <td>False</td>\n",
       "    </tr>\n",
       "    <tr>\n",
       "      <th>1958_Beauvoir-Simone-de_Memoires-d-une-jeune-fille-rangee</th>\n",
       "      <td>0.051237</td>\n",
       "      <td>0.048684</td>\n",
       "      <td>0.031195</td>\n",
       "      <td>0.019573</td>\n",
       "      <td>0.018469</td>\n",
       "      <td>0.016743</td>\n",
       "      <td>0.021436</td>\n",
       "      <td>0.015501</td>\n",
       "      <td>0.005853</td>\n",
       "      <td>0.011588</td>\n",
       "      <td>...</td>\n",
       "      <td>0.000028</td>\n",
       "      <td>0.000035</td>\n",
       "      <td>0.000014</td>\n",
       "      <td>0.000041</td>\n",
       "      <td>0.000014</td>\n",
       "      <td>0.000048</td>\n",
       "      <td>0.000055</td>\n",
       "      <td>0.000007</td>\n",
       "      <td>0.000014</td>\n",
       "      <td>True</td>\n",
       "    </tr>\n",
       "    <tr>\n",
       "      <th>1934_Aragon-Louis_Les-Cloches-de-Bale</th>\n",
       "      <td>0.065912</td>\n",
       "      <td>0.056958</td>\n",
       "      <td>0.034371</td>\n",
       "      <td>0.018140</td>\n",
       "      <td>0.020437</td>\n",
       "      <td>0.021951</td>\n",
       "      <td>0.020256</td>\n",
       "      <td>0.019594</td>\n",
       "      <td>0.010554</td>\n",
       "      <td>0.011242</td>\n",
       "      <td>...</td>\n",
       "      <td>0.000034</td>\n",
       "      <td>0.000086</td>\n",
       "      <td>0.000026</td>\n",
       "      <td>0.000069</td>\n",
       "      <td>0.000043</td>\n",
       "      <td>0.000043</td>\n",
       "      <td>0.000034</td>\n",
       "      <td>0.000069</td>\n",
       "      <td>0.000043</td>\n",
       "      <td>True</td>\n",
       "    </tr>\n",
       "    <tr>\n",
       "      <th>1857_Ulbach-Louis_Parents-coupables-memoires-d-un-lyceen</th>\n",
       "      <td>0.041377</td>\n",
       "      <td>0.046777</td>\n",
       "      <td>0.027081</td>\n",
       "      <td>0.017794</td>\n",
       "      <td>0.016509</td>\n",
       "      <td>0.025438</td>\n",
       "      <td>0.017241</td>\n",
       "      <td>0.010946</td>\n",
       "      <td>0.018867</td>\n",
       "      <td>0.010605</td>\n",
       "      <td>...</td>\n",
       "      <td>0.000016</td>\n",
       "      <td>0.000065</td>\n",
       "      <td>0.000033</td>\n",
       "      <td>0.000033</td>\n",
       "      <td>0.000033</td>\n",
       "      <td>0.000016</td>\n",
       "      <td>0.000016</td>\n",
       "      <td>NaN</td>\n",
       "      <td>0.000049</td>\n",
       "      <td>False</td>\n",
       "    </tr>\n",
       "  </tbody>\n",
       "</table>\n",
       "<p>2960 rows × 4157 columns</p>\n",
       "</div>"
      ],
      "text/plain": [
       "                                                          le        de  \\\n",
       "index                                                                    \n",
       "2003_Echenoz-Jean_Au-Piano                          0.055371  0.066754   \n",
       "1863_Feval-Paul_La-Fille-du-Juif-Errant             0.071686  0.056006   \n",
       "1893_Segur-Anatole-de_Les-Enfants-de-Paris          0.070270  0.074120   \n",
       "1839_Stendhal_Le-coffre-et-le-revenant              0.058104  0.057741   \n",
       "2012_Winckler-Martin_En-souvenir-d-Andre            0.050104  0.040242   \n",
       "...                                                      ...       ...   \n",
       "1941_Ayme-Marcel_Le-travelingue                     0.054117  0.051172   \n",
       "1887_Malot-Hector_Ghislaine                         0.064546  0.054961   \n",
       "1958_Beauvoir-Simone-de_Memoires-d-une-jeune-fi...  0.051237  0.048684   \n",
       "1934_Aragon-Louis_Les-Cloches-de-Bale               0.065912  0.056958   \n",
       "1857_Ulbach-Louis_Parents-coupables-memoires-d-...  0.041377  0.046777   \n",
       "\n",
       "                                                          un        et  \\\n",
       "index                                                                    \n",
       "2003_Echenoz-Jean_Au-Piano                          0.032462  0.016659   \n",
       "1863_Feval-Paul_La-Fille-du-Juif-Errant             0.025387  0.021924   \n",
       "1893_Segur-Anatole-de_Les-Enfants-de-Paris          0.024885  0.035188   \n",
       "1839_Stendhal_Le-coffre-et-le-revenant              0.020821  0.017552   \n",
       "2012_Winckler-Martin_En-souvenir-d-Andre            0.026747  0.017232   \n",
       "...                                                      ...       ...   \n",
       "1941_Ayme-Marcel_Le-travelingue                     0.034685  0.024416   \n",
       "1887_Malot-Hector_Ghislaine                         0.025663  0.021358   \n",
       "1958_Beauvoir-Simone-de_Memoires-d-une-jeune-fi...  0.031195  0.019573   \n",
       "1934_Aragon-Louis_Les-Cloches-de-Bale               0.034371  0.018140   \n",
       "1857_Ulbach-Louis_Parents-coupables-memoires-d-...  0.027081  0.017794   \n",
       "\n",
       "                                                          il     avoir  \\\n",
       "index                                                                    \n",
       "2003_Echenoz-Jean_Au-Piano                          0.019914  0.013094   \n",
       "1863_Feval-Paul_La-Fille-du-Juif-Errant             0.018092  0.019726   \n",
       "1893_Segur-Anatole-de_Les-Enfants-de-Paris          0.020143  0.010624   \n",
       "1839_Stendhal_Le-coffre-et-le-revenant              0.024936  0.018642   \n",
       "2012_Winckler-Martin_En-souvenir-d-Andre            0.020346  0.047474   \n",
       "...                                                      ...       ...   \n",
       "1941_Ayme-Marcel_Le-travelingue                     0.020590  0.019617   \n",
       "1887_Malot-Hector_Ghislaine                         0.028586  0.023401   \n",
       "1958_Beauvoir-Simone-de_Memoires-d-une-jeune-fi...  0.018469  0.016743   \n",
       "1934_Aragon-Louis_Les-Cloches-de-Bale               0.020437  0.021951   \n",
       "1857_Ulbach-Louis_Parents-coupables-memoires-d-...  0.016509  0.025438   \n",
       "\n",
       "                                                          à       lui  \\\n",
       "index                                                                    \n",
       "2003_Echenoz-Jean_Au-Piano                          0.018679  0.009601   \n",
       "1863_Feval-Paul_La-Fille-du-Juif-Errant             0.015096  0.007762   \n",
       "1893_Segur-Anatole-de_Les-Enfants-de-Paris          0.018076  0.008057   \n",
       "1839_Stendhal_Le-coffre-et-le-revenant              0.018279  0.018884   \n",
       "2012_Winckler-Martin_En-souvenir-d-Andre            0.018547  0.014879   \n",
       "...                                                      ...       ...   \n",
       "1941_Ayme-Marcel_Le-travelingue                     0.021799  0.013306   \n",
       "1887_Malot-Hector_Ghislaine                         0.020164  0.025799   \n",
       "1958_Beauvoir-Simone-de_Memoires-d-une-jeune-fi...  0.021436  0.015501   \n",
       "1934_Aragon-Louis_Les-Cloches-de-Bale               0.020256  0.019594   \n",
       "1857_Ulbach-Louis_Parents-coupables-memoires-d-...  0.017241  0.010946   \n",
       "\n",
       "                                                        être       son  ...  \\\n",
       "index                                                                   ...   \n",
       "2003_Echenoz-Jean_Au-Piano                          0.012571  0.012025  ...   \n",
       "1863_Feval-Paul_La-Fille-du-Juif-Errant             0.012800  0.012411  ...   \n",
       "1893_Segur-Anatole-de_Les-Enfants-de-Paris          0.013922  0.018379  ...   \n",
       "1839_Stendhal_Le-coffre-et-le-revenant              0.013558  0.017916  ...   \n",
       "2012_Winckler-Martin_En-souvenir-d-Andre            0.015052  0.010588  ...   \n",
       "...                                                      ...       ...  ...   \n",
       "1941_Ayme-Marcel_Le-travelingue                     0.014962  0.016054  ...   \n",
       "1887_Malot-Hector_Ghislaine                         0.014434  0.014162  ...   \n",
       "1958_Beauvoir-Simone-de_Memoires-d-une-jeune-fi...  0.005853  0.011588  ...   \n",
       "1934_Aragon-Louis_Les-Cloches-de-Bale               0.010554  0.011242  ...   \n",
       "1857_Ulbach-Louis_Parents-coupables-memoires-d-...  0.018867  0.010605  ...   \n",
       "\n",
       "                                                    PROPN_VERB_AUX  \\\n",
       "index                                                                \n",
       "2003_Echenoz-Jean_Au-Piano                                     NaN   \n",
       "1863_Feval-Paul_La-Fille-du-Juif-Errant                   0.000058   \n",
       "1893_Segur-Anatole-de_Les-Enfants-de-Paris                0.000036   \n",
       "1839_Stendhal_Le-coffre-et-le-revenant                         NaN   \n",
       "2012_Winckler-Martin_En-souvenir-d-Andre                  0.000104   \n",
       "...                                                            ...   \n",
       "1941_Ayme-Marcel_Le-travelingue                           0.000066   \n",
       "1887_Malot-Hector_Ghislaine                               0.000010   \n",
       "1958_Beauvoir-Simone-de_Memoires-d-une-jeune-fi...        0.000028   \n",
       "1934_Aragon-Louis_Les-Cloches-de-Bale                     0.000034   \n",
       "1857_Ulbach-Louis_Parents-coupables-memoires-d-...        0.000016   \n",
       "\n",
       "                                                    VERB_CCONJ_CCONJ  \\\n",
       "index                                                                  \n",
       "2003_Echenoz-Jean_Au-Piano                                  0.000071   \n",
       "1863_Feval-Paul_La-Fille-du-Juif-Errant                     0.000019   \n",
       "1893_Segur-Anatole-de_Les-Enfants-de-Paris                  0.000053   \n",
       "1839_Stendhal_Le-coffre-et-le-revenant                           NaN   \n",
       "2012_Winckler-Martin_En-souvenir-d-Andre                    0.000069   \n",
       "...                                                              ...   \n",
       "1941_Ayme-Marcel_Le-travelingue                             0.000053   \n",
       "1887_Malot-Hector_Ghislaine                                 0.000010   \n",
       "1958_Beauvoir-Simone-de_Memoires-d-une-jeune-fi...          0.000035   \n",
       "1934_Aragon-Louis_Les-Cloches-de-Bale                       0.000086   \n",
       "1857_Ulbach-Louis_Parents-coupables-memoires-d-...          0.000065   \n",
       "\n",
       "                                                    ADV_NOUN_AUX  \\\n",
       "index                                                              \n",
       "2003_Echenoz-Jean_Au-Piano                              0.000024   \n",
       "1863_Feval-Paul_La-Fille-du-Juif-Errant                 0.000019   \n",
       "1893_Segur-Anatole-de_Les-Enfants-de-Paris              0.000018   \n",
       "1839_Stendhal_Le-coffre-et-le-revenant                       NaN   \n",
       "2012_Winckler-Martin_En-souvenir-d-Andre                0.000104   \n",
       "...                                                          ...   \n",
       "1941_Ayme-Marcel_Le-travelingue                         0.000053   \n",
       "1887_Malot-Hector_Ghislaine                             0.000073   \n",
       "1958_Beauvoir-Simone-de_Memoires-d-une-jeune-fi...      0.000014   \n",
       "1934_Aragon-Louis_Les-Cloches-de-Bale                   0.000026   \n",
       "1857_Ulbach-Louis_Parents-coupables-memoires-d-...      0.000033   \n",
       "\n",
       "                                                    SCONJ_NOUN_AUX  \\\n",
       "index                                                                \n",
       "2003_Echenoz-Jean_Au-Piano                                     NaN   \n",
       "1863_Feval-Paul_La-Fille-du-Juif-Errant                   0.000039   \n",
       "1893_Segur-Anatole-de_Les-Enfants-de-Paris                     NaN   \n",
       "1839_Stendhal_Le-coffre-et-le-revenant                    0.000121   \n",
       "2012_Winckler-Martin_En-souvenir-d-Andre                       NaN   \n",
       "...                                                            ...   \n",
       "1941_Ayme-Marcel_Le-travelingue                           0.000079   \n",
       "1887_Malot-Hector_Ghislaine                               0.000084   \n",
       "1958_Beauvoir-Simone-de_Memoires-d-une-jeune-fi...        0.000041   \n",
       "1934_Aragon-Louis_Les-Cloches-de-Bale                     0.000069   \n",
       "1857_Ulbach-Louis_Parents-coupables-memoires-d-...        0.000033   \n",
       "\n",
       "                                                    PRON_ADJ_AUX  \\\n",
       "index                                                              \n",
       "2003_Echenoz-Jean_Au-Piano                              0.000024   \n",
       "1863_Feval-Paul_La-Fille-du-Juif-Errant                 0.000078   \n",
       "1893_Segur-Anatole-de_Les-Enfants-de-Paris              0.000018   \n",
       "1839_Stendhal_Le-coffre-et-le-revenant                       NaN   \n",
       "2012_Winckler-Martin_En-souvenir-d-Andre                0.000035   \n",
       "...                                                          ...   \n",
       "1941_Ayme-Marcel_Le-travelingue                         0.000026   \n",
       "1887_Malot-Hector_Ghislaine                             0.000031   \n",
       "1958_Beauvoir-Simone-de_Memoires-d-une-jeune-fi...      0.000014   \n",
       "1934_Aragon-Louis_Les-Cloches-de-Bale                   0.000043   \n",
       "1857_Ulbach-Louis_Parents-coupables-memoires-d-...      0.000033   \n",
       "\n",
       "                                                    SCONJ_PROPN_DET  \\\n",
       "index                                                                 \n",
       "2003_Echenoz-Jean_Au-Piano                                 0.000071   \n",
       "1863_Feval-Paul_La-Fille-du-Juif-Errant                    0.000039   \n",
       "1893_Segur-Anatole-de_Les-Enfants-de-Paris                      NaN   \n",
       "1839_Stendhal_Le-coffre-et-le-revenant                          NaN   \n",
       "2012_Winckler-Martin_En-souvenir-d-Andre                   0.000035   \n",
       "...                                                             ...   \n",
       "1941_Ayme-Marcel_Le-travelingue                            0.000026   \n",
       "1887_Malot-Hector_Ghislaine                                0.000031   \n",
       "1958_Beauvoir-Simone-de_Memoires-d-une-jeune-fi...         0.000048   \n",
       "1934_Aragon-Louis_Les-Cloches-de-Bale                      0.000043   \n",
       "1857_Ulbach-Louis_Parents-coupables-memoires-d-...         0.000016   \n",
       "\n",
       "                                                    ADV_DET_DET  \\\n",
       "index                                                             \n",
       "2003_Echenoz-Jean_Au-Piano                             0.000048   \n",
       "1863_Feval-Paul_La-Fille-du-Juif-Errant                0.000039   \n",
       "1893_Segur-Anatole-de_Les-Enfants-de-Paris             0.000018   \n",
       "1839_Stendhal_Le-coffre-et-le-revenant                      NaN   \n",
       "2012_Winckler-Martin_En-souvenir-d-Andre                    NaN   \n",
       "...                                                         ...   \n",
       "1941_Ayme-Marcel_Le-travelingue                        0.000066   \n",
       "1887_Malot-Hector_Ghislaine                            0.000031   \n",
       "1958_Beauvoir-Simone-de_Memoires-d-une-jeune-fi...     0.000055   \n",
       "1934_Aragon-Louis_Les-Cloches-de-Bale                  0.000034   \n",
       "1857_Ulbach-Louis_Parents-coupables-memoires-d-...     0.000016   \n",
       "\n",
       "                                                    ADV_CCONJ_PROPN  \\\n",
       "index                                                                 \n",
       "2003_Echenoz-Jean_Au-Piano                                 0.000143   \n",
       "1863_Feval-Paul_La-Fille-du-Juif-Errant                    0.000078   \n",
       "1893_Segur-Anatole-de_Les-Enfants-de-Paris                 0.000036   \n",
       "1839_Stendhal_Le-coffre-et-le-revenant                          NaN   \n",
       "2012_Winckler-Martin_En-souvenir-d-Andre                   0.000069   \n",
       "...                                                             ...   \n",
       "1941_Ayme-Marcel_Le-travelingue                            0.000053   \n",
       "1887_Malot-Hector_Ghislaine                                0.000042   \n",
       "1958_Beauvoir-Simone-de_Memoires-d-une-jeune-fi...         0.000007   \n",
       "1934_Aragon-Louis_Les-Cloches-de-Bale                      0.000069   \n",
       "1857_Ulbach-Louis_Parents-coupables-memoires-d-...              NaN   \n",
       "\n",
       "                                                    VERB_VERB_AUX  canon  \n",
       "index                                                                     \n",
       "2003_Echenoz-Jean_Au-Piano                                    NaN   True  \n",
       "1863_Feval-Paul_La-Fille-du-Juif-Errant                  0.000078  False  \n",
       "1893_Segur-Anatole-de_Les-Enfants-de-Paris               0.000018  False  \n",
       "1839_Stendhal_Le-coffre-et-le-revenant                        NaN   True  \n",
       "2012_Winckler-Martin_En-souvenir-d-Andre                 0.000138  False  \n",
       "...                                                           ...    ...  \n",
       "1941_Ayme-Marcel_Le-travelingue                          0.000053   True  \n",
       "1887_Malot-Hector_Ghislaine                              0.000042  False  \n",
       "1958_Beauvoir-Simone-de_Memoires-d-une-jeune-fi...       0.000014   True  \n",
       "1934_Aragon-Louis_Les-Cloches-de-Bale                    0.000043   True  \n",
       "1857_Ulbach-Louis_Parents-coupables-memoires-d-...       0.000049  False  \n",
       "\n",
       "[2960 rows x 4157 columns]"
      ]
     },
     "execution_count": 26,
     "metadata": {},
     "output_type": "execute_result"
    }
   ],
   "source": [
    "df_main_temp"
   ]
  },
  {
   "cell_type": "code",
   "execution_count": 27,
   "metadata": {},
   "outputs": [],
   "source": [
    "df_main_temp.to_csv(r'features_fabula.csv', index = True)"
   ]
  },
  {
   "cell_type": "code",
   "execution_count": null,
   "metadata": {},
   "outputs": [],
   "source": []
  },
  {
   "cell_type": "code",
   "execution_count": 78,
   "metadata": {},
   "outputs": [],
   "source": [
    "df_main = pd.read_csv(r'data/features_canon.csv')"
   ]
  },
  {
   "cell_type": "code",
   "execution_count": 79,
   "metadata": {},
   "outputs": [],
   "source": [
    "df_main.set_index(\"index\", inplace = True)"
   ]
  },
  {
   "cell_type": "code",
   "execution_count": 80,
   "metadata": {},
   "outputs": [
    {
     "data": {
      "text/html": [
       "<div>\n",
       "<style scoped>\n",
       "    .dataframe tbody tr th:only-of-type {\n",
       "        vertical-align: middle;\n",
       "    }\n",
       "\n",
       "    .dataframe tbody tr th {\n",
       "        vertical-align: top;\n",
       "    }\n",
       "\n",
       "    .dataframe thead th {\n",
       "        text-align: right;\n",
       "    }\n",
       "</style>\n",
       "<table border=\"1\" class=\"dataframe\">\n",
       "  <thead>\n",
       "    <tr style=\"text-align: right;\">\n",
       "      <th></th>\n",
       "      <th>le</th>\n",
       "      <th>de</th>\n",
       "      <th>un</th>\n",
       "      <th>et</th>\n",
       "      <th>il</th>\n",
       "      <th>avoir</th>\n",
       "      <th>à</th>\n",
       "      <th>lui</th>\n",
       "      <th>être</th>\n",
       "      <th>son</th>\n",
       "      <th>...</th>\n",
       "      <th>PROPN_VERB_AUX</th>\n",
       "      <th>VERB_CCONJ_CCONJ</th>\n",
       "      <th>ADV_NOUN_AUX</th>\n",
       "      <th>SCONJ_NOUN_AUX</th>\n",
       "      <th>PRON_ADJ_AUX</th>\n",
       "      <th>SCONJ_PROPN_DET</th>\n",
       "      <th>ADV_DET_DET</th>\n",
       "      <th>ADV_CCONJ_PROPN</th>\n",
       "      <th>VERB_VERB_AUX</th>\n",
       "      <th>canon</th>\n",
       "    </tr>\n",
       "    <tr>\n",
       "      <th>index</th>\n",
       "      <th></th>\n",
       "      <th></th>\n",
       "      <th></th>\n",
       "      <th></th>\n",
       "      <th></th>\n",
       "      <th></th>\n",
       "      <th></th>\n",
       "      <th></th>\n",
       "      <th></th>\n",
       "      <th></th>\n",
       "      <th></th>\n",
       "      <th></th>\n",
       "      <th></th>\n",
       "      <th></th>\n",
       "      <th></th>\n",
       "      <th></th>\n",
       "      <th></th>\n",
       "      <th></th>\n",
       "      <th></th>\n",
       "      <th></th>\n",
       "      <th></th>\n",
       "    </tr>\n",
       "  </thead>\n",
       "  <tbody>\n",
       "    <tr>\n",
       "      <th>2003_Echenoz-Jean_Au-Piano</th>\n",
       "      <td>0.055371</td>\n",
       "      <td>0.066754</td>\n",
       "      <td>0.032462</td>\n",
       "      <td>0.016659</td>\n",
       "      <td>0.019914</td>\n",
       "      <td>0.013094</td>\n",
       "      <td>0.018679</td>\n",
       "      <td>0.009601</td>\n",
       "      <td>0.012571</td>\n",
       "      <td>0.012025</td>\n",
       "      <td>...</td>\n",
       "      <td>NaN</td>\n",
       "      <td>0.000071</td>\n",
       "      <td>0.000024</td>\n",
       "      <td>NaN</td>\n",
       "      <td>0.000024</td>\n",
       "      <td>0.000071</td>\n",
       "      <td>0.000048</td>\n",
       "      <td>0.000143</td>\n",
       "      <td>NaN</td>\n",
       "      <td>non_canon</td>\n",
       "    </tr>\n",
       "    <tr>\n",
       "      <th>1863_Feval-Paul_La-Fille-du-Juif-Errant</th>\n",
       "      <td>0.071686</td>\n",
       "      <td>0.056006</td>\n",
       "      <td>0.025387</td>\n",
       "      <td>0.021924</td>\n",
       "      <td>0.018092</td>\n",
       "      <td>0.019726</td>\n",
       "      <td>0.015096</td>\n",
       "      <td>0.007762</td>\n",
       "      <td>0.012800</td>\n",
       "      <td>0.012411</td>\n",
       "      <td>...</td>\n",
       "      <td>0.000058</td>\n",
       "      <td>0.000019</td>\n",
       "      <td>0.000019</td>\n",
       "      <td>0.000039</td>\n",
       "      <td>0.000078</td>\n",
       "      <td>0.000039</td>\n",
       "      <td>0.000039</td>\n",
       "      <td>0.000078</td>\n",
       "      <td>0.000078</td>\n",
       "      <td>non_canon</td>\n",
       "    </tr>\n",
       "    <tr>\n",
       "      <th>1893_Segur-Anatole-de_Les-Enfants-de-Paris</th>\n",
       "      <td>0.070270</td>\n",
       "      <td>0.074120</td>\n",
       "      <td>0.024885</td>\n",
       "      <td>0.035188</td>\n",
       "      <td>0.020143</td>\n",
       "      <td>0.010624</td>\n",
       "      <td>0.018076</td>\n",
       "      <td>0.008057</td>\n",
       "      <td>0.013922</td>\n",
       "      <td>0.018379</td>\n",
       "      <td>...</td>\n",
       "      <td>0.000036</td>\n",
       "      <td>0.000053</td>\n",
       "      <td>0.000018</td>\n",
       "      <td>NaN</td>\n",
       "      <td>0.000018</td>\n",
       "      <td>NaN</td>\n",
       "      <td>0.000018</td>\n",
       "      <td>0.000036</td>\n",
       "      <td>0.000018</td>\n",
       "      <td>non_canon</td>\n",
       "    </tr>\n",
       "    <tr>\n",
       "      <th>1839_Stendhal_Le-coffre-et-le-revenant</th>\n",
       "      <td>0.058104</td>\n",
       "      <td>0.057741</td>\n",
       "      <td>0.020821</td>\n",
       "      <td>0.017552</td>\n",
       "      <td>0.024936</td>\n",
       "      <td>0.018642</td>\n",
       "      <td>0.018279</td>\n",
       "      <td>0.018884</td>\n",
       "      <td>0.013558</td>\n",
       "      <td>0.017916</td>\n",
       "      <td>...</td>\n",
       "      <td>NaN</td>\n",
       "      <td>NaN</td>\n",
       "      <td>NaN</td>\n",
       "      <td>0.000121</td>\n",
       "      <td>NaN</td>\n",
       "      <td>NaN</td>\n",
       "      <td>NaN</td>\n",
       "      <td>NaN</td>\n",
       "      <td>NaN</td>\n",
       "      <td>non_canon</td>\n",
       "    </tr>\n",
       "    <tr>\n",
       "      <th>2012_Winckler-Martin_En-souvenir-d-Andre</th>\n",
       "      <td>0.050104</td>\n",
       "      <td>0.040242</td>\n",
       "      <td>0.026747</td>\n",
       "      <td>0.017232</td>\n",
       "      <td>0.020346</td>\n",
       "      <td>0.047474</td>\n",
       "      <td>0.018547</td>\n",
       "      <td>0.014879</td>\n",
       "      <td>0.015052</td>\n",
       "      <td>0.010588</td>\n",
       "      <td>...</td>\n",
       "      <td>0.000104</td>\n",
       "      <td>0.000069</td>\n",
       "      <td>0.000104</td>\n",
       "      <td>NaN</td>\n",
       "      <td>0.000035</td>\n",
       "      <td>0.000035</td>\n",
       "      <td>NaN</td>\n",
       "      <td>0.000069</td>\n",
       "      <td>0.000138</td>\n",
       "      <td>non_canon</td>\n",
       "    </tr>\n",
       "    <tr>\n",
       "      <th>...</th>\n",
       "      <td>...</td>\n",
       "      <td>...</td>\n",
       "      <td>...</td>\n",
       "      <td>...</td>\n",
       "      <td>...</td>\n",
       "      <td>...</td>\n",
       "      <td>...</td>\n",
       "      <td>...</td>\n",
       "      <td>...</td>\n",
       "      <td>...</td>\n",
       "      <td>...</td>\n",
       "      <td>...</td>\n",
       "      <td>...</td>\n",
       "      <td>...</td>\n",
       "      <td>...</td>\n",
       "      <td>...</td>\n",
       "      <td>...</td>\n",
       "      <td>...</td>\n",
       "      <td>...</td>\n",
       "      <td>...</td>\n",
       "      <td>...</td>\n",
       "    </tr>\n",
       "    <tr>\n",
       "      <th>1941_Ayme-Marcel_Le-travelingue</th>\n",
       "      <td>0.054117</td>\n",
       "      <td>0.051172</td>\n",
       "      <td>0.034685</td>\n",
       "      <td>0.024416</td>\n",
       "      <td>0.020590</td>\n",
       "      <td>0.019617</td>\n",
       "      <td>0.021799</td>\n",
       "      <td>0.013306</td>\n",
       "      <td>0.014962</td>\n",
       "      <td>0.016054</td>\n",
       "      <td>...</td>\n",
       "      <td>0.000066</td>\n",
       "      <td>0.000053</td>\n",
       "      <td>0.000053</td>\n",
       "      <td>0.000079</td>\n",
       "      <td>0.000026</td>\n",
       "      <td>0.000026</td>\n",
       "      <td>0.000066</td>\n",
       "      <td>0.000053</td>\n",
       "      <td>0.000053</td>\n",
       "      <td>non_canon</td>\n",
       "    </tr>\n",
       "    <tr>\n",
       "      <th>1887_Malot-Hector_Ghislaine</th>\n",
       "      <td>0.064546</td>\n",
       "      <td>0.054961</td>\n",
       "      <td>0.025663</td>\n",
       "      <td>0.021358</td>\n",
       "      <td>0.028586</td>\n",
       "      <td>0.023401</td>\n",
       "      <td>0.020164</td>\n",
       "      <td>0.025799</td>\n",
       "      <td>0.014434</td>\n",
       "      <td>0.014162</td>\n",
       "      <td>...</td>\n",
       "      <td>0.000010</td>\n",
       "      <td>0.000010</td>\n",
       "      <td>0.000073</td>\n",
       "      <td>0.000084</td>\n",
       "      <td>0.000031</td>\n",
       "      <td>0.000031</td>\n",
       "      <td>0.000031</td>\n",
       "      <td>0.000042</td>\n",
       "      <td>0.000042</td>\n",
       "      <td>non_canon</td>\n",
       "    </tr>\n",
       "    <tr>\n",
       "      <th>1958_Beauvoir-Simone-de_Memoires-d-une-jeune-fille-rangee</th>\n",
       "      <td>0.051237</td>\n",
       "      <td>0.048684</td>\n",
       "      <td>0.031195</td>\n",
       "      <td>0.019573</td>\n",
       "      <td>0.018469</td>\n",
       "      <td>0.016743</td>\n",
       "      <td>0.021436</td>\n",
       "      <td>0.015501</td>\n",
       "      <td>0.005853</td>\n",
       "      <td>0.011588</td>\n",
       "      <td>...</td>\n",
       "      <td>0.000028</td>\n",
       "      <td>0.000035</td>\n",
       "      <td>0.000014</td>\n",
       "      <td>0.000041</td>\n",
       "      <td>0.000014</td>\n",
       "      <td>0.000048</td>\n",
       "      <td>0.000055</td>\n",
       "      <td>0.000007</td>\n",
       "      <td>0.000014</td>\n",
       "      <td>non_canon</td>\n",
       "    </tr>\n",
       "    <tr>\n",
       "      <th>1934_Aragon-Louis_Les-Cloches-de-Bale</th>\n",
       "      <td>0.065912</td>\n",
       "      <td>0.056958</td>\n",
       "      <td>0.034371</td>\n",
       "      <td>0.018140</td>\n",
       "      <td>0.020437</td>\n",
       "      <td>0.021951</td>\n",
       "      <td>0.020256</td>\n",
       "      <td>0.019594</td>\n",
       "      <td>0.010554</td>\n",
       "      <td>0.011242</td>\n",
       "      <td>...</td>\n",
       "      <td>0.000034</td>\n",
       "      <td>0.000086</td>\n",
       "      <td>0.000026</td>\n",
       "      <td>0.000069</td>\n",
       "      <td>0.000043</td>\n",
       "      <td>0.000043</td>\n",
       "      <td>0.000034</td>\n",
       "      <td>0.000069</td>\n",
       "      <td>0.000043</td>\n",
       "      <td>non_canon</td>\n",
       "    </tr>\n",
       "    <tr>\n",
       "      <th>1857_Ulbach-Louis_Parents-coupables-memoires-d-un-lyceen</th>\n",
       "      <td>0.041377</td>\n",
       "      <td>0.046777</td>\n",
       "      <td>0.027081</td>\n",
       "      <td>0.017794</td>\n",
       "      <td>0.016509</td>\n",
       "      <td>0.025438</td>\n",
       "      <td>0.017241</td>\n",
       "      <td>0.010946</td>\n",
       "      <td>0.018867</td>\n",
       "      <td>0.010605</td>\n",
       "      <td>...</td>\n",
       "      <td>0.000016</td>\n",
       "      <td>0.000065</td>\n",
       "      <td>0.000033</td>\n",
       "      <td>0.000033</td>\n",
       "      <td>0.000033</td>\n",
       "      <td>0.000016</td>\n",
       "      <td>0.000016</td>\n",
       "      <td>NaN</td>\n",
       "      <td>0.000049</td>\n",
       "      <td>non_canon</td>\n",
       "    </tr>\n",
       "  </tbody>\n",
       "</table>\n",
       "<p>2960 rows × 4157 columns</p>\n",
       "</div>"
      ],
      "text/plain": [
       "                                                          le        de  \\\n",
       "index                                                                    \n",
       "2003_Echenoz-Jean_Au-Piano                          0.055371  0.066754   \n",
       "1863_Feval-Paul_La-Fille-du-Juif-Errant             0.071686  0.056006   \n",
       "1893_Segur-Anatole-de_Les-Enfants-de-Paris          0.070270  0.074120   \n",
       "1839_Stendhal_Le-coffre-et-le-revenant              0.058104  0.057741   \n",
       "2012_Winckler-Martin_En-souvenir-d-Andre            0.050104  0.040242   \n",
       "...                                                      ...       ...   \n",
       "1941_Ayme-Marcel_Le-travelingue                     0.054117  0.051172   \n",
       "1887_Malot-Hector_Ghislaine                         0.064546  0.054961   \n",
       "1958_Beauvoir-Simone-de_Memoires-d-une-jeune-fi...  0.051237  0.048684   \n",
       "1934_Aragon-Louis_Les-Cloches-de-Bale               0.065912  0.056958   \n",
       "1857_Ulbach-Louis_Parents-coupables-memoires-d-...  0.041377  0.046777   \n",
       "\n",
       "                                                          un        et  \\\n",
       "index                                                                    \n",
       "2003_Echenoz-Jean_Au-Piano                          0.032462  0.016659   \n",
       "1863_Feval-Paul_La-Fille-du-Juif-Errant             0.025387  0.021924   \n",
       "1893_Segur-Anatole-de_Les-Enfants-de-Paris          0.024885  0.035188   \n",
       "1839_Stendhal_Le-coffre-et-le-revenant              0.020821  0.017552   \n",
       "2012_Winckler-Martin_En-souvenir-d-Andre            0.026747  0.017232   \n",
       "...                                                      ...       ...   \n",
       "1941_Ayme-Marcel_Le-travelingue                     0.034685  0.024416   \n",
       "1887_Malot-Hector_Ghislaine                         0.025663  0.021358   \n",
       "1958_Beauvoir-Simone-de_Memoires-d-une-jeune-fi...  0.031195  0.019573   \n",
       "1934_Aragon-Louis_Les-Cloches-de-Bale               0.034371  0.018140   \n",
       "1857_Ulbach-Louis_Parents-coupables-memoires-d-...  0.027081  0.017794   \n",
       "\n",
       "                                                          il     avoir  \\\n",
       "index                                                                    \n",
       "2003_Echenoz-Jean_Au-Piano                          0.019914  0.013094   \n",
       "1863_Feval-Paul_La-Fille-du-Juif-Errant             0.018092  0.019726   \n",
       "1893_Segur-Anatole-de_Les-Enfants-de-Paris          0.020143  0.010624   \n",
       "1839_Stendhal_Le-coffre-et-le-revenant              0.024936  0.018642   \n",
       "2012_Winckler-Martin_En-souvenir-d-Andre            0.020346  0.047474   \n",
       "...                                                      ...       ...   \n",
       "1941_Ayme-Marcel_Le-travelingue                     0.020590  0.019617   \n",
       "1887_Malot-Hector_Ghislaine                         0.028586  0.023401   \n",
       "1958_Beauvoir-Simone-de_Memoires-d-une-jeune-fi...  0.018469  0.016743   \n",
       "1934_Aragon-Louis_Les-Cloches-de-Bale               0.020437  0.021951   \n",
       "1857_Ulbach-Louis_Parents-coupables-memoires-d-...  0.016509  0.025438   \n",
       "\n",
       "                                                          à       lui  \\\n",
       "index                                                                    \n",
       "2003_Echenoz-Jean_Au-Piano                          0.018679  0.009601   \n",
       "1863_Feval-Paul_La-Fille-du-Juif-Errant             0.015096  0.007762   \n",
       "1893_Segur-Anatole-de_Les-Enfants-de-Paris          0.018076  0.008057   \n",
       "1839_Stendhal_Le-coffre-et-le-revenant              0.018279  0.018884   \n",
       "2012_Winckler-Martin_En-souvenir-d-Andre            0.018547  0.014879   \n",
       "...                                                      ...       ...   \n",
       "1941_Ayme-Marcel_Le-travelingue                     0.021799  0.013306   \n",
       "1887_Malot-Hector_Ghislaine                         0.020164  0.025799   \n",
       "1958_Beauvoir-Simone-de_Memoires-d-une-jeune-fi...  0.021436  0.015501   \n",
       "1934_Aragon-Louis_Les-Cloches-de-Bale               0.020256  0.019594   \n",
       "1857_Ulbach-Louis_Parents-coupables-memoires-d-...  0.017241  0.010946   \n",
       "\n",
       "                                                        être       son  ...  \\\n",
       "index                                                                   ...   \n",
       "2003_Echenoz-Jean_Au-Piano                          0.012571  0.012025  ...   \n",
       "1863_Feval-Paul_La-Fille-du-Juif-Errant             0.012800  0.012411  ...   \n",
       "1893_Segur-Anatole-de_Les-Enfants-de-Paris          0.013922  0.018379  ...   \n",
       "1839_Stendhal_Le-coffre-et-le-revenant              0.013558  0.017916  ...   \n",
       "2012_Winckler-Martin_En-souvenir-d-Andre            0.015052  0.010588  ...   \n",
       "...                                                      ...       ...  ...   \n",
       "1941_Ayme-Marcel_Le-travelingue                     0.014962  0.016054  ...   \n",
       "1887_Malot-Hector_Ghislaine                         0.014434  0.014162  ...   \n",
       "1958_Beauvoir-Simone-de_Memoires-d-une-jeune-fi...  0.005853  0.011588  ...   \n",
       "1934_Aragon-Louis_Les-Cloches-de-Bale               0.010554  0.011242  ...   \n",
       "1857_Ulbach-Louis_Parents-coupables-memoires-d-...  0.018867  0.010605  ...   \n",
       "\n",
       "                                                    PROPN_VERB_AUX  \\\n",
       "index                                                                \n",
       "2003_Echenoz-Jean_Au-Piano                                     NaN   \n",
       "1863_Feval-Paul_La-Fille-du-Juif-Errant                   0.000058   \n",
       "1893_Segur-Anatole-de_Les-Enfants-de-Paris                0.000036   \n",
       "1839_Stendhal_Le-coffre-et-le-revenant                         NaN   \n",
       "2012_Winckler-Martin_En-souvenir-d-Andre                  0.000104   \n",
       "...                                                            ...   \n",
       "1941_Ayme-Marcel_Le-travelingue                           0.000066   \n",
       "1887_Malot-Hector_Ghislaine                               0.000010   \n",
       "1958_Beauvoir-Simone-de_Memoires-d-une-jeune-fi...        0.000028   \n",
       "1934_Aragon-Louis_Les-Cloches-de-Bale                     0.000034   \n",
       "1857_Ulbach-Louis_Parents-coupables-memoires-d-...        0.000016   \n",
       "\n",
       "                                                    VERB_CCONJ_CCONJ  \\\n",
       "index                                                                  \n",
       "2003_Echenoz-Jean_Au-Piano                                  0.000071   \n",
       "1863_Feval-Paul_La-Fille-du-Juif-Errant                     0.000019   \n",
       "1893_Segur-Anatole-de_Les-Enfants-de-Paris                  0.000053   \n",
       "1839_Stendhal_Le-coffre-et-le-revenant                           NaN   \n",
       "2012_Winckler-Martin_En-souvenir-d-Andre                    0.000069   \n",
       "...                                                              ...   \n",
       "1941_Ayme-Marcel_Le-travelingue                             0.000053   \n",
       "1887_Malot-Hector_Ghislaine                                 0.000010   \n",
       "1958_Beauvoir-Simone-de_Memoires-d-une-jeune-fi...          0.000035   \n",
       "1934_Aragon-Louis_Les-Cloches-de-Bale                       0.000086   \n",
       "1857_Ulbach-Louis_Parents-coupables-memoires-d-...          0.000065   \n",
       "\n",
       "                                                    ADV_NOUN_AUX  \\\n",
       "index                                                              \n",
       "2003_Echenoz-Jean_Au-Piano                              0.000024   \n",
       "1863_Feval-Paul_La-Fille-du-Juif-Errant                 0.000019   \n",
       "1893_Segur-Anatole-de_Les-Enfants-de-Paris              0.000018   \n",
       "1839_Stendhal_Le-coffre-et-le-revenant                       NaN   \n",
       "2012_Winckler-Martin_En-souvenir-d-Andre                0.000104   \n",
       "...                                                          ...   \n",
       "1941_Ayme-Marcel_Le-travelingue                         0.000053   \n",
       "1887_Malot-Hector_Ghislaine                             0.000073   \n",
       "1958_Beauvoir-Simone-de_Memoires-d-une-jeune-fi...      0.000014   \n",
       "1934_Aragon-Louis_Les-Cloches-de-Bale                   0.000026   \n",
       "1857_Ulbach-Louis_Parents-coupables-memoires-d-...      0.000033   \n",
       "\n",
       "                                                    SCONJ_NOUN_AUX  \\\n",
       "index                                                                \n",
       "2003_Echenoz-Jean_Au-Piano                                     NaN   \n",
       "1863_Feval-Paul_La-Fille-du-Juif-Errant                   0.000039   \n",
       "1893_Segur-Anatole-de_Les-Enfants-de-Paris                     NaN   \n",
       "1839_Stendhal_Le-coffre-et-le-revenant                    0.000121   \n",
       "2012_Winckler-Martin_En-souvenir-d-Andre                       NaN   \n",
       "...                                                            ...   \n",
       "1941_Ayme-Marcel_Le-travelingue                           0.000079   \n",
       "1887_Malot-Hector_Ghislaine                               0.000084   \n",
       "1958_Beauvoir-Simone-de_Memoires-d-une-jeune-fi...        0.000041   \n",
       "1934_Aragon-Louis_Les-Cloches-de-Bale                     0.000069   \n",
       "1857_Ulbach-Louis_Parents-coupables-memoires-d-...        0.000033   \n",
       "\n",
       "                                                    PRON_ADJ_AUX  \\\n",
       "index                                                              \n",
       "2003_Echenoz-Jean_Au-Piano                              0.000024   \n",
       "1863_Feval-Paul_La-Fille-du-Juif-Errant                 0.000078   \n",
       "1893_Segur-Anatole-de_Les-Enfants-de-Paris              0.000018   \n",
       "1839_Stendhal_Le-coffre-et-le-revenant                       NaN   \n",
       "2012_Winckler-Martin_En-souvenir-d-Andre                0.000035   \n",
       "...                                                          ...   \n",
       "1941_Ayme-Marcel_Le-travelingue                         0.000026   \n",
       "1887_Malot-Hector_Ghislaine                             0.000031   \n",
       "1958_Beauvoir-Simone-de_Memoires-d-une-jeune-fi...      0.000014   \n",
       "1934_Aragon-Louis_Les-Cloches-de-Bale                   0.000043   \n",
       "1857_Ulbach-Louis_Parents-coupables-memoires-d-...      0.000033   \n",
       "\n",
       "                                                    SCONJ_PROPN_DET  \\\n",
       "index                                                                 \n",
       "2003_Echenoz-Jean_Au-Piano                                 0.000071   \n",
       "1863_Feval-Paul_La-Fille-du-Juif-Errant                    0.000039   \n",
       "1893_Segur-Anatole-de_Les-Enfants-de-Paris                      NaN   \n",
       "1839_Stendhal_Le-coffre-et-le-revenant                          NaN   \n",
       "2012_Winckler-Martin_En-souvenir-d-Andre                   0.000035   \n",
       "...                                                             ...   \n",
       "1941_Ayme-Marcel_Le-travelingue                            0.000026   \n",
       "1887_Malot-Hector_Ghislaine                                0.000031   \n",
       "1958_Beauvoir-Simone-de_Memoires-d-une-jeune-fi...         0.000048   \n",
       "1934_Aragon-Louis_Les-Cloches-de-Bale                      0.000043   \n",
       "1857_Ulbach-Louis_Parents-coupables-memoires-d-...         0.000016   \n",
       "\n",
       "                                                    ADV_DET_DET  \\\n",
       "index                                                             \n",
       "2003_Echenoz-Jean_Au-Piano                             0.000048   \n",
       "1863_Feval-Paul_La-Fille-du-Juif-Errant                0.000039   \n",
       "1893_Segur-Anatole-de_Les-Enfants-de-Paris             0.000018   \n",
       "1839_Stendhal_Le-coffre-et-le-revenant                      NaN   \n",
       "2012_Winckler-Martin_En-souvenir-d-Andre                    NaN   \n",
       "...                                                         ...   \n",
       "1941_Ayme-Marcel_Le-travelingue                        0.000066   \n",
       "1887_Malot-Hector_Ghislaine                            0.000031   \n",
       "1958_Beauvoir-Simone-de_Memoires-d-une-jeune-fi...     0.000055   \n",
       "1934_Aragon-Louis_Les-Cloches-de-Bale                  0.000034   \n",
       "1857_Ulbach-Louis_Parents-coupables-memoires-d-...     0.000016   \n",
       "\n",
       "                                                    ADV_CCONJ_PROPN  \\\n",
       "index                                                                 \n",
       "2003_Echenoz-Jean_Au-Piano                                 0.000143   \n",
       "1863_Feval-Paul_La-Fille-du-Juif-Errant                    0.000078   \n",
       "1893_Segur-Anatole-de_Les-Enfants-de-Paris                 0.000036   \n",
       "1839_Stendhal_Le-coffre-et-le-revenant                          NaN   \n",
       "2012_Winckler-Martin_En-souvenir-d-Andre                   0.000069   \n",
       "...                                                             ...   \n",
       "1941_Ayme-Marcel_Le-travelingue                            0.000053   \n",
       "1887_Malot-Hector_Ghislaine                                0.000042   \n",
       "1958_Beauvoir-Simone-de_Memoires-d-une-jeune-fi...         0.000007   \n",
       "1934_Aragon-Louis_Les-Cloches-de-Bale                      0.000069   \n",
       "1857_Ulbach-Louis_Parents-coupables-memoires-d-...              NaN   \n",
       "\n",
       "                                                    VERB_VERB_AUX      canon  \n",
       "index                                                                         \n",
       "2003_Echenoz-Jean_Au-Piano                                    NaN  non_canon  \n",
       "1863_Feval-Paul_La-Fille-du-Juif-Errant                  0.000078  non_canon  \n",
       "1893_Segur-Anatole-de_Les-Enfants-de-Paris               0.000018  non_canon  \n",
       "1839_Stendhal_Le-coffre-et-le-revenant                        NaN  non_canon  \n",
       "2012_Winckler-Martin_En-souvenir-d-Andre                 0.000138  non_canon  \n",
       "...                                                           ...        ...  \n",
       "1941_Ayme-Marcel_Le-travelingue                          0.000053  non_canon  \n",
       "1887_Malot-Hector_Ghislaine                              0.000042  non_canon  \n",
       "1958_Beauvoir-Simone-de_Memoires-d-une-jeune-fi...       0.000014  non_canon  \n",
       "1934_Aragon-Louis_Les-Cloches-de-Bale                    0.000043  non_canon  \n",
       "1857_Ulbach-Louis_Parents-coupables-memoires-d-...       0.000049  non_canon  \n",
       "\n",
       "[2960 rows x 4157 columns]"
      ]
     },
     "execution_count": 80,
     "metadata": {},
     "output_type": "execute_result"
    }
   ],
   "source": [
    "df_main"
   ]
  },
  {
   "cell_type": "code",
   "execution_count": null,
   "metadata": {},
   "outputs": [],
   "source": []
  },
  {
   "cell_type": "code",
   "execution_count": 32,
   "metadata": {},
   "outputs": [
    {
     "data": {
      "text/plain": [
       "False    60.97973\n",
       "True     39.02027\n",
       "Name: canon, dtype: float64"
      ]
     },
     "execution_count": 32,
     "metadata": {},
     "output_type": "execute_result"
    }
   ],
   "source": [
    "# FABULA\n",
    "df_main_temp['canon'].value_counts(normalize=True)*100"
   ]
  },
  {
   "cell_type": "code",
   "execution_count": 31,
   "metadata": {},
   "outputs": [
    {
     "data": {
      "text/plain": [
       "False    1805\n",
       "True     1155\n",
       "Name: canon, dtype: int64"
      ]
     },
     "execution_count": 31,
     "metadata": {},
     "output_type": "execute_result"
    }
   ],
   "source": [
    "df_main_temp['canon'].value_counts()"
   ]
  },
  {
   "cell_type": "code",
   "execution_count": 28,
   "metadata": {},
   "outputs": [
    {
     "data": {
      "text/plain": [
       "non_canon    91.182432\n",
       "canon         8.817568\n",
       "Name: canon, dtype: float64"
      ]
     },
     "execution_count": 28,
     "metadata": {},
     "output_type": "execute_result"
    }
   ],
   "source": [
    "df_main['canon'].value_counts(normalize=True)*100"
   ]
  },
  {
   "cell_type": "code",
   "execution_count": 35,
   "metadata": {},
   "outputs": [],
   "source": [
    "import random"
   ]
  },
  {
   "cell_type": "code",
   "execution_count": null,
   "metadata": {},
   "outputs": [],
   "source": [
    "# Selectionner les 261 canons et 261 non canon randomly parmis les non canons"
   ]
  },
  {
   "cell_type": "code",
   "execution_count": 41,
   "metadata": {},
   "outputs": [],
   "source": [
    "canon_df = df_main[df_main['canon'] == 'canon'] "
   ]
  },
  {
   "cell_type": "code",
   "execution_count": null,
   "metadata": {},
   "outputs": [],
   "source": []
  },
  {
   "cell_type": "code",
   "execution_count": 45,
   "metadata": {},
   "outputs": [],
   "source": [
    "non_canon_df_temp = df_main[df_main['canon'] == 'non_canon'] "
   ]
  },
  {
   "cell_type": "code",
   "execution_count": 46,
   "metadata": {},
   "outputs": [],
   "source": [
    "non_canon_df = non_canon_df_temp.sample(n = 261)"
   ]
  },
  {
   "cell_type": "code",
   "execution_count": 52,
   "metadata": {},
   "outputs": [],
   "source": [
    "df_balanced = canon_df.append(non_canon_df)"
   ]
  },
  {
   "cell_type": "code",
   "execution_count": 55,
   "metadata": {},
   "outputs": [],
   "source": [
    "from sklearn.utils import shuffle\n",
    "df_balanced_shuffled = shuffle(df_balanced)"
   ]
  },
  {
   "cell_type": "code",
   "execution_count": 57,
   "metadata": {},
   "outputs": [],
   "source": [
    "df_balanced_shuffled.to_csv(r'features_balanced.csv', index = True)"
   ]
  },
  {
   "cell_type": "code",
   "execution_count": null,
   "metadata": {},
   "outputs": [],
   "source": []
  },
  {
   "cell_type": "code",
   "execution_count": null,
   "metadata": {},
   "outputs": [],
   "source": []
  },
  {
   "cell_type": "code",
   "execution_count": 84,
   "metadata": {},
   "outputs": [],
   "source": [
    "lists_canonique = list(df_balanced_shuffled['canon'])"
   ]
  },
  {
   "cell_type": "code",
   "execution_count": 85,
   "metadata": {},
   "outputs": [],
   "source": [
    "df_unigram = df_balanced_shuffled.iloc[:, 0:1000]"
   ]
  },
  {
   "cell_type": "code",
   "execution_count": 86,
   "metadata": {},
   "outputs": [],
   "source": [
    "df_unigram['canon'] = lists_canonique"
   ]
  },
  {
   "cell_type": "code",
   "execution_count": 87,
   "metadata": {},
   "outputs": [],
   "source": [
    "df_unigram.to_csv(r'features_balanced_unigram.csv', index = True)"
   ]
  },
  {
   "cell_type": "code",
   "execution_count": null,
   "metadata": {},
   "outputs": [],
   "source": []
  },
  {
   "cell_type": "code",
   "execution_count": 67,
   "metadata": {},
   "outputs": [],
   "source": [
    "df_tout_sauf_unigram = df_balanced_shuffled.iloc[:, 1000:]"
   ]
  },
  {
   "cell_type": "code",
   "execution_count": 72,
   "metadata": {},
   "outputs": [],
   "source": [
    "df_tout_sauf_unigram.to_csv(r'features_balanced_tout_sauf_unigram.csv', index = True)"
   ]
  },
  {
   "cell_type": "code",
   "execution_count": null,
   "metadata": {},
   "outputs": [],
   "source": []
  },
  {
   "cell_type": "code",
   "execution_count": null,
   "metadata": {},
   "outputs": [],
   "source": []
  },
  {
   "cell_type": "code",
   "execution_count": null,
   "metadata": {},
   "outputs": [],
   "source": []
  },
  {
   "cell_type": "markdown",
   "metadata": {},
   "source": [
    "### prepa test one txt one author "
   ]
  },
  {
   "cell_type": "code",
   "execution_count": 59,
   "metadata": {},
   "outputs": [],
   "source": [
    "df_fabula = pd.read_csv(r'data\\features_fabula.csv')\n",
    "df_fabula.set_index(\"index\", inplace = True)"
   ]
  },
  {
   "cell_type": "code",
   "execution_count": 188,
   "metadata": {},
   "outputs": [],
   "source": [
    "df_main = pd.read_csv(r'data\\features_canon.csv')\n",
    "df_main.set_index(\"index\", inplace = True)"
   ]
  },
  {
   "cell_type": "code",
   "execution_count": 189,
   "metadata": {},
   "outputs": [
    {
     "data": {
      "text/plain": [
       "non_canon    0.911824\n",
       "canon        0.088176\n",
       "Name: canon, dtype: float64"
      ]
     },
     "execution_count": 189,
     "metadata": {},
     "output_type": "execute_result"
    }
   ],
   "source": [
    "df_main['canon'].value_counts(normalize=True)"
   ]
  },
  {
   "cell_type": "code",
   "execution_count": null,
   "metadata": {},
   "outputs": [],
   "source": []
  },
  {
   "cell_type": "code",
   "execution_count": 41,
   "metadata": {},
   "outputs": [],
   "source": [
    "def onetxtoneauthor(df):\n",
    "    liste_vu, index_vu = [], []\n",
    "    df_onetxtoneauthor = pd.DataFrame(columns = df.columns)\n",
    "    \n",
    "    for index, row in df.iterrows():\n",
    "        auteur = index.split(\"_\")[1].replace('-',' ')\n",
    "        if auteur not in liste_vu:\n",
    "            df_onetxtoneauthor.loc[len(df_onetxtoneauthor.index)] = row\n",
    "            liste_vu.append(auteur)\n",
    "            index_vu.append(index)\n",
    "    df_onetxtoneauthor.index = index_vu\n",
    "    return df_onetxtoneauthor"
   ]
  },
  {
   "cell_type": "code",
   "execution_count": 42,
   "metadata": {},
   "outputs": [],
   "source": [
    "df_main_ones = onetxtoneauthor(df_main)"
   ]
  },
  {
   "cell_type": "code",
   "execution_count": 43,
   "metadata": {},
   "outputs": [
    {
     "data": {
      "text/plain": [
       "non_canon    0.920168\n",
       "canon        0.079832\n",
       "Name: canon, dtype: float64"
      ]
     },
     "execution_count": 43,
     "metadata": {},
     "output_type": "execute_result"
    }
   ],
   "source": [
    "df_main_ones['canon'].value_counts(normalize=True)"
   ]
  },
  {
   "cell_type": "code",
   "execution_count": 45,
   "metadata": {},
   "outputs": [
    {
     "data": {
      "text/plain": [
       "714"
      ]
     },
     "execution_count": 45,
     "metadata": {},
     "output_type": "execute_result"
    }
   ],
   "source": [
    "len(df_main_ones)"
   ]
  },
  {
   "cell_type": "code",
   "execution_count": null,
   "metadata": {},
   "outputs": [],
   "source": []
  },
  {
   "cell_type": "code",
   "execution_count": 46,
   "metadata": {},
   "outputs": [
    {
     "data": {
      "text/plain": [
       "non_canon    0.920168\n",
       "canon        0.079832\n",
       "Name: canon, dtype: float64"
      ]
     },
     "execution_count": 46,
     "metadata": {},
     "output_type": "execute_result"
    }
   ],
   "source": [
    "df_main_ones['canon'].value_counts(normalize=True)"
   ]
  },
  {
   "cell_type": "code",
   "execution_count": 54,
   "metadata": {},
   "outputs": [],
   "source": [
    "df_main_ones.to_csv(r'data/df_main_ones.csv', index = True)"
   ]
  },
  {
   "cell_type": "code",
   "execution_count": null,
   "metadata": {},
   "outputs": [],
   "source": []
  },
  {
   "cell_type": "code",
   "execution_count": 179,
   "metadata": {},
   "outputs": [],
   "source": [
    "df_fabula_ones = onetxtoneauthor(df_fabula)"
   ]
  },
  {
   "cell_type": "code",
   "execution_count": 62,
   "metadata": {},
   "outputs": [],
   "source": [
    "df_fabula_ones.to_csv(r'data/df_fabula_ones.csv', index = True)"
   ]
  },
  {
   "cell_type": "code",
   "execution_count": 192,
   "metadata": {},
   "outputs": [
    {
     "data": {
      "text/plain": [
       "False    0.777311\n",
       "True     0.222689\n",
       "Name: canon, dtype: float64"
      ]
     },
     "execution_count": 192,
     "metadata": {},
     "output_type": "execute_result"
    }
   ],
   "source": [
    "df_fabula_ones['canon'].value_counts(normalize=True)"
   ]
  },
  {
   "cell_type": "code",
   "execution_count": 90,
   "metadata": {},
   "outputs": [],
   "source": []
  },
  {
   "cell_type": "markdown",
   "metadata": {},
   "source": [
    "### prepa canon = author metadata"
   ]
  },
  {
   "cell_type": "code",
   "execution_count": 44,
   "metadata": {},
   "outputs": [
    {
     "data": {
      "text/plain": [
       "2960"
      ]
     },
     "execution_count": 44,
     "metadata": {},
     "output_type": "execute_result"
    }
   ],
   "source": [
    "len(df_main)"
   ]
  },
  {
   "cell_type": "code",
   "execution_count": 82,
   "metadata": {},
   "outputs": [],
   "source": [
    "def auteur_canon(df):\n",
    "    auteur_canon = []\n",
    "    list_canon = []\n",
    "    df_res = df\n",
    "    for index, row in df.iterrows():\n",
    "        auteur = index.split(\"_\")[1].replace('-',' ')\n",
    "        if row['canon'] == 'canon' or auteur in auteur_canon:\n",
    "            auteur_canon.append(auteur)\n",
    "            list_canon.append('True')\n",
    "        else:\n",
    "            list_canon.append('False')\n",
    "            \n",
    "    df_res['canon'] = list_canon\n",
    "        \n",
    "    return df_res"
   ]
  },
  {
   "cell_type": "code",
   "execution_count": 83,
   "metadata": {},
   "outputs": [],
   "source": [
    "df_res = auteur_canon(df_main)"
   ]
  },
  {
   "cell_type": "code",
   "execution_count": null,
   "metadata": {},
   "outputs": [],
   "source": [
    "len(df_res)"
   ]
  },
  {
   "cell_type": "code",
   "execution_count": 6,
   "metadata": {},
   "outputs": [],
   "source": [
    "import pandas as pd\n",
    "import numpy as np\n",
    "from sklearn.utils import shuffle"
   ]
  },
  {
   "cell_type": "code",
   "execution_count": 9,
   "metadata": {},
   "outputs": [],
   "source": [
    "ratio_canon = 0.4"
   ]
  },
  {
   "cell_type": "code",
   "execution_count": 7,
   "metadata": {},
   "outputs": [],
   "source": [
    "df_res = pd.read_csv(r'data/df_main_test_author.csv')\n",
    "df_res.set_index(\"index\", inplace = True)\n",
    "df_res = df_res.replace(np.nan, 0)"
   ]
  },
  {
   "cell_type": "code",
   "execution_count": 8,
   "metadata": {},
   "outputs": [
    {
     "data": {
      "text/plain": [
       "False    0.705405\n",
       "True     0.294595\n",
       "Name: canon, dtype: float64"
      ]
     },
     "execution_count": 8,
     "metadata": {},
     "output_type": "execute_result"
    }
   ],
   "source": [
    "df_res['canon'].value_counts(normalize=True)"
   ]
  },
  {
   "cell_type": "code",
   "execution_count": 17,
   "metadata": {},
   "outputs": [],
   "source": [
    "df_res = ratio_truncate_df(df_res, ratio_canon)"
   ]
  },
  {
   "cell_type": "code",
   "execution_count": 18,
   "metadata": {},
   "outputs": [
    {
     "data": {
      "text/plain": [
       "False    0.603636\n",
       "True     0.396364\n",
       "Name: canon, dtype: float64"
      ]
     },
     "execution_count": 18,
     "metadata": {},
     "output_type": "execute_result"
    }
   ],
   "source": [
    "df_res['canon'].value_counts(normalize=True)"
   ]
  },
  {
   "cell_type": "code",
   "execution_count": 19,
   "metadata": {},
   "outputs": [],
   "source": [
    "df_res.to_csv(r'data/df_main_author.csv', index = True)"
   ]
  },
  {
   "cell_type": "code",
   "execution_count": null,
   "metadata": {},
   "outputs": [],
   "source": []
  },
  {
   "cell_type": "markdown",
   "metadata": {},
   "source": [
    "### RATIO CANON-NONCANON in DF"
   ]
  },
  {
   "cell_type": "code",
   "execution_count": 160,
   "metadata": {},
   "outputs": [],
   "source": [
    "df_main = pd.read_csv(r'data\\features_canon.csv')\n",
    "df_main.set_index(\"index\", inplace = True)"
   ]
  },
  {
   "cell_type": "code",
   "execution_count": 161,
   "metadata": {},
   "outputs": [
    {
     "data": {
      "text/plain": [
       "non_canon    0.911824\n",
       "canon        0.088176\n",
       "Name: canon, dtype: float64"
      ]
     },
     "execution_count": 161,
     "metadata": {},
     "output_type": "execute_result"
    }
   ],
   "source": [
    "df_main['canon'].value_counts(normalize=True)"
   ]
  },
  {
   "cell_type": "code",
   "execution_count": 148,
   "metadata": {},
   "outputs": [],
   "source": [
    "df_fabula = pd.read_csv(r'data\\features_fabula.csv')\n",
    "df_fabula.set_index(\"index\", inplace = True)"
   ]
  },
  {
   "cell_type": "code",
   "execution_count": 149,
   "metadata": {},
   "outputs": [
    {
     "data": {
      "text/plain": [
       "False    0.609797\n",
       "True     0.390203\n",
       "Name: canon, dtype: float64"
      ]
     },
     "execution_count": 149,
     "metadata": {},
     "output_type": "execute_result"
    }
   ],
   "source": [
    "df_fabula['canon'].value_counts(normalize=True)"
   ]
  },
  {
   "cell_type": "code",
   "execution_count": 14,
   "metadata": {},
   "outputs": [],
   "source": [
    "def ratio_truncate_df(df, ratio_canon):\n",
    "    \n",
    "    df_res = df\n",
    "    ratio_temp = round(df_res['canon'].value_counts(normalize=True)[1],2)\n",
    "    index_noncanon = df_res[df_res['canon']  == False].index # /!\\ == False pour fabula metadata / == 'non_canon' pour main metadata\n",
    "    i, j = 0, 20\n",
    "        \n",
    "    while ratio_temp < ratio_canon:\n",
    "        df_res.drop(index_noncanon[i:j], inplace = True)\n",
    "        i = j\n",
    "        j+=20\n",
    "        ratio_temp = round(df_res['canon'].value_counts(normalize=True)[1],2)\n",
    "\n",
    "    return shuffle(df_res)"
   ]
  },
  {
   "cell_type": "code",
   "execution_count": 171,
   "metadata": {},
   "outputs": [],
   "source": [
    "df_truncated = ratio_truncate_df(df_main, 0.4)"
   ]
  },
  {
   "cell_type": "code",
   "execution_count": 172,
   "metadata": {},
   "outputs": [
    {
     "data": {
      "text/plain": [
       "non_canon    0.59\n",
       "canon        0.41\n",
       "Name: canon, dtype: float64"
      ]
     },
     "execution_count": 172,
     "metadata": {},
     "output_type": "execute_result"
    }
   ],
   "source": [
    "round(df_truncated['canon'].value_counts(normalize=True),2)"
   ]
  },
  {
   "cell_type": "code",
   "execution_count": 173,
   "metadata": {},
   "outputs": [],
   "source": [
    "df_truncated.to_csv(r'data/df_size_opti.csv', index = True)"
   ]
  },
  {
   "cell_type": "code",
   "execution_count": null,
   "metadata": {},
   "outputs": [],
   "source": []
  },
  {
   "cell_type": "code",
   "execution_count": null,
   "metadata": {},
   "outputs": [],
   "source": []
  },
  {
   "cell_type": "code",
   "execution_count": null,
   "metadata": {},
   "outputs": [],
   "source": [
    "df_main_ones = ratio_truncate_df(df_main_ones, 0.4)"
   ]
  },
  {
   "cell_type": "code",
   "execution_count": 194,
   "metadata": {},
   "outputs": [
    {
     "data": {
      "text/plain": [
       "non_canon    0.574627\n",
       "canon        0.425373\n",
       "Name: canon, dtype: float64"
      ]
     },
     "execution_count": 194,
     "metadata": {},
     "output_type": "execute_result"
    }
   ],
   "source": [
    "df_main_ones['canon'].value_counts(normalize=True)"
   ]
  },
  {
   "cell_type": "code",
   "execution_count": 195,
   "metadata": {},
   "outputs": [],
   "source": [
    "df_main_ones.to_csv(r'data/df_main_ones.csv', index = True)"
   ]
  },
  {
   "cell_type": "code",
   "execution_count": null,
   "metadata": {},
   "outputs": [],
   "source": []
  },
  {
   "cell_type": "code",
   "execution_count": 222,
   "metadata": {},
   "outputs": [],
   "source": [
    "df_fabula_ones = ratio_truncate_df(df_fabula_ones, 0.4)"
   ]
  },
  {
   "cell_type": "code",
   "execution_count": 223,
   "metadata": {},
   "outputs": [
    {
     "data": {
      "text/plain": [
       "False    0.596447\n",
       "True     0.403553\n",
       "Name: canon, dtype: float64"
      ]
     },
     "execution_count": 223,
     "metadata": {},
     "output_type": "execute_result"
    }
   ],
   "source": [
    "df_fabula_ones['canon'].value_counts(normalize=True)"
   ]
  },
  {
   "cell_type": "code",
   "execution_count": 224,
   "metadata": {},
   "outputs": [],
   "source": [
    "df_fabula_ones.to_csv(r'data/df_fabula_ones.csv', index = True)"
   ]
  },
  {
   "cell_type": "code",
   "execution_count": null,
   "metadata": {},
   "outputs": [],
   "source": []
  },
  {
   "cell_type": "markdown",
   "metadata": {},
   "source": [
    "### Compare list auteur canon main & fabula metadata"
   ]
  },
  {
   "cell_type": "code",
   "execution_count": 28,
   "metadata": {},
   "outputs": [],
   "source": [
    "df_main = pd.read_csv(r'data/features_canon.csv')\n",
    "df_main.set_index(\"index\", inplace = True)\n",
    "df_fabula = pd.read_csv(r'data/features_fabula.csv')\n",
    "df_fabula.set_index(\"index\", inplace = True)"
   ]
  },
  {
   "cell_type": "code",
   "execution_count": 32,
   "metadata": {},
   "outputs": [],
   "source": [
    "def auteur_canon(df1, df2):\n",
    "    auteur_canon1, auteur_canon2 = [], []\n",
    "\n",
    "    for index1, row1 in df1.iterrows():\n",
    "        auteur = index1.split(\"_\")[1].replace('-',' ')\n",
    "        if row1['canon'] == 'canon' and auteur not in auteur_canon1:\n",
    "            auteur_canon1.append(auteur)\n",
    "\n",
    "    for index2, row2 in df2.iterrows():\n",
    "        auteur = index2.split(\"_\")[1].replace('-',' ')\n",
    "        if row2['canon'] == True and auteur not in auteur_canon2:\n",
    "            auteur_canon2.append(auteur)\n",
    "\n",
    "        \n",
    "    return auteur_canon1, auteur_canon2"
   ]
  },
  {
   "cell_type": "code",
   "execution_count": 33,
   "metadata": {},
   "outputs": [],
   "source": [
    "auteur_canon_main, auteur_canon_fabula = auteur_canon(df_main, df_fabula)"
   ]
  },
  {
   "cell_type": "code",
   "execution_count": 34,
   "metadata": {},
   "outputs": [
    {
     "data": {
      "text/plain": [
       "130"
      ]
     },
     "execution_count": 34,
     "metadata": {},
     "output_type": "execute_result"
    }
   ],
   "source": [
    "len(auteur_canon_main)"
   ]
  },
  {
   "cell_type": "code",
   "execution_count": 36,
   "metadata": {},
   "outputs": [
    {
     "data": {
      "text/plain": [
       "163"
      ]
     },
     "execution_count": 36,
     "metadata": {},
     "output_type": "execute_result"
    }
   ],
   "source": [
    "len(auteur_canon_fabula)"
   ]
  },
  {
   "cell_type": "code",
   "execution_count": null,
   "metadata": {},
   "outputs": [],
   "source": []
  }
 ],
 "metadata": {
  "kernelspec": {
   "display_name": "Python 3",
   "language": "python",
   "name": "python3"
  },
  "language_info": {
   "codemirror_mode": {
    "name": "ipython",
    "version": 3
   },
   "file_extension": ".py",
   "mimetype": "text/x-python",
   "name": "python",
   "nbconvert_exporter": "python",
   "pygments_lexer": "ipython3",
   "version": "3.8.3"
  }
 },
 "nbformat": 4,
 "nbformat_minor": 5
}
