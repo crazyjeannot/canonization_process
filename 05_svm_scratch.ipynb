{
 "cells": [
  {
   "cell_type": "code",
   "execution_count": 1,
   "metadata": {},
   "outputs": [],
   "source": [
    "import pandas as pd\n",
    "import numpy as np\n",
    "from sklearn import set_config\n",
    "import sklearn.metrics as metrics\n",
    "from sklearn.pipeline import make_pipeline\n",
    "from sklearn.preprocessing import StandardScaler\n",
    "from sklearn.svm import SVC\n",
    "from sklearn.linear_model import LogisticRegression\n",
    "from sklearn.model_selection import train_test_split\n",
    "from sklearn.preprocessing import Normalizer\n",
    "from sklearn.model_selection import cross_validate\n",
    "from sklearn.model_selection import ShuffleSplit"
   ]
  },
  {
   "cell_type": "code",
   "execution_count": 2,
   "metadata": {},
   "outputs": [],
   "source": [
    "from imblearn.over_sampling import RandomOverSampler\n",
    "from imblearn.combine import SMOTEENN\n",
    "from imblearn.combine import SMOTETomek\n",
    "from imblearn.under_sampling import RandomUnderSampler\n",
    "from collections import Counter\n",
    "import matplotlib.pyplot as plt"
   ]
  },
  {
   "cell_type": "code",
   "execution_count": 3,
   "metadata": {},
   "outputs": [],
   "source": [
    "set_config(display='diagram')"
   ]
  },
  {
   "cell_type": "markdown",
   "metadata": {},
   "source": [
    "### Canonizer sklearn svm pipeline"
   ]
  },
  {
   "cell_type": "code",
   "execution_count": 38,
   "metadata": {},
   "outputs": [],
   "source": [
    "def canonizer(data, test_size=0.2, random_state=42, sampling=None, cross_validation=False, cv=5, kernel='rbf', nb_coef=20):\n",
    "    \n",
    "    df_results = pd.DataFrame()\n",
    "    \n",
    "    if cross_validation == True:\n",
    "        pipe = make_pipeline(StandardScaler(), SVC(kernel=kernel, probability=True))\n",
    "        cv_results = cross_validate(pipe, data.drop(['canon'], axis=1), data['canon'], cv=cv)\n",
    "        return pipe, cv_results\n",
    "    \n",
    "    else:\n",
    "        if kernel == 'rbf':\n",
    "            pipe = make_pipeline(StandardScaler(), Normalizer(), SVC(kernel=kernel, probability=True))\n",
    "        else:\n",
    "            pipe = make_pipeline(StandardScaler(), SVC(kernel=kernel, probability=True))\n",
    "    \n",
    "\n",
    "        X_train, X_test, y_train, y_test = train_test_split(data.drop(['canon'], axis=1), data['canon'], test_size=test_size, random_state=random_state)\n",
    "        print('Original dataset shape {}'.format(Counter(y_train)))\n",
    "        \n",
    "        if sampling is not None:     \n",
    "            if sampling == 'over':\n",
    "                ros = RandomOverSampler(random_state=10)\n",
    "                X_resampled, y_resampled = ros.fit_resample(X_train, y_train)\n",
    "                \n",
    "            elif sampling == 'under':\n",
    "                rus = RandomUnderSampler(random_state=10)\n",
    "                X_resampled, y_resampled = rus.fit_resample(X_train, y_train)\n",
    "                \n",
    "            elif sampling == \"smoteenn\":\n",
    "                smote_enn = SMOTEENN(random_state=10)\n",
    "                X_resampled, y_resampled = smote_enn.fit_resample(X_train, y_train)\n",
    "                \n",
    "            elif sampling == 'smotetomek':\n",
    "                smote_tomek = SMOTETomek(random_state=10)\n",
    "                X_resampled, y_resampled = smote_tomek.fit_resample(X_train, y_train)\n",
    "            \n",
    "            else:\n",
    "                print('Please follow the sampling possible values : over, under, smoteenn, smotetomek')\n",
    "                return\n",
    "                \n",
    "            print('Resampled dataset shape {}'.format(Counter(y_resampled)))\n",
    "        \n",
    "            pipe.fit(X_resampled, y_resampled)\n",
    "        \n",
    "        else:\n",
    "            pipe.fit(X_train, y_train)\n",
    "        \n",
    "        print(metrics.classification_report(y_test, pipe.predict(X_test)))\n",
    "    \n",
    "        if kernel == 'linear':\n",
    "            coefs = pipe_size_opti_linear.named_steps['svc'].coef_\n",
    "            plot_coefficients(*coefs, data.columns, nb_coef)\n",
    "            \n",
    "        df_results['metadata'] = y_test\n",
    "        df_results['proba canon'] = pipe.predict_proba(X_test)[:,0]\n",
    "        df_results['proba non-canon'] = pipe.predict_proba(X_test)[:,1]\n",
    "        df_results['prediction']= pipe.predict(X_test)\n",
    "    \n",
    "        df_results['accord'] = [True if row['metadata'] == row['prediction'] else False for index, row in df_results.iterrows()]\n",
    "    \n",
    "    \n",
    "    return pipe, df_results"
   ]
  },
  {
   "cell_type": "code",
   "execution_count": 5,
   "metadata": {},
   "outputs": [],
   "source": [
    "def plot_coefficients(coefs, feature_names, top_features):\n",
    "    top_positive_coefficients = np.argsort(coefs)[-top_features:]\n",
    "    top_negative_coefficients = np.argsort(coefs)[:top_features]\n",
    "    top_coefficients = np.hstack([top_negative_coefficients, top_positive_coefficients])\n",
    "    # create plot\n",
    "    plt.figure(figsize=(15, 5))\n",
    "    colors = ['red' if c < 0 else 'blue' for c in coefs[top_coefficients]]\n",
    "    plt.bar(np.arange(2 * top_features), coefs[top_coefficients], color=colors)\n",
    "    feature_names = np.array(feature_names)\n",
    "    plt.xticks(np.arange(0, 2 * top_features), feature_names[top_coefficients], rotation=60, ha='right')\n",
    "    plt.title(\"Meilleurs coefficients pour la classification binaire\")\n",
    "    plt.savefig('img/coefs_linear_svm.png')\n",
    "    plt.show()"
   ]
  },
  {
   "cell_type": "markdown",
   "metadata": {},
   "source": [
    "### Load df features main metadata"
   ]
  },
  {
   "cell_type": "code",
   "execution_count": 6,
   "metadata": {},
   "outputs": [],
   "source": [
    "df_main = pd.read_csv(r'data\\features_canon.csv')\n",
    "df_main.set_index(\"index\", inplace = True)\n",
    "df_main = df_main.replace(np.nan, 0)"
   ]
  },
  {
   "cell_type": "code",
   "execution_count": 7,
   "metadata": {},
   "outputs": [
    {
     "data": {
      "text/plain": [
       "non_canon    0.911824\n",
       "canon        0.088176\n",
       "Name: canon, dtype: float64"
      ]
     },
     "execution_count": 7,
     "metadata": {},
     "output_type": "execute_result"
    }
   ],
   "source": [
    "df_main['canon'].value_counts(normalize=True)"
   ]
  },
  {
   "cell_type": "code",
   "execution_count": 7,
   "metadata": {},
   "outputs": [
    {
     "name": "stdout",
     "output_type": "stream",
     "text": [
      "Original dataset shape Counter({'non_canon': 2162, 'canon': 206})\n",
      "              precision    recall  f1-score   support\n",
      "\n",
      "       canon       1.00      0.09      0.17        55\n",
      "   non_canon       0.91      1.00      0.96       537\n",
      "\n",
      "    accuracy                           0.92       592\n",
      "   macro avg       0.96      0.55      0.56       592\n",
      "weighted avg       0.92      0.92      0.88       592\n",
      "\n"
     ]
    }
   ],
   "source": [
    "pipe_main, df_results_main = canonizer(df_main)"
   ]
  },
  {
   "cell_type": "code",
   "execution_count": 8,
   "metadata": {},
   "outputs": [
    {
     "data": {
      "text/html": [
       "<div>\n",
       "<style scoped>\n",
       "    .dataframe tbody tr th:only-of-type {\n",
       "        vertical-align: middle;\n",
       "    }\n",
       "\n",
       "    .dataframe tbody tr th {\n",
       "        vertical-align: top;\n",
       "    }\n",
       "\n",
       "    .dataframe thead th {\n",
       "        text-align: right;\n",
       "    }\n",
       "</style>\n",
       "<table border=\"1\" class=\"dataframe\">\n",
       "  <thead>\n",
       "    <tr style=\"text-align: right;\">\n",
       "      <th></th>\n",
       "      <th>metadata</th>\n",
       "      <th>proba canon</th>\n",
       "      <th>proba non-canon</th>\n",
       "      <th>prediction</th>\n",
       "      <th>accord</th>\n",
       "    </tr>\n",
       "    <tr>\n",
       "      <th>index</th>\n",
       "      <th></th>\n",
       "      <th></th>\n",
       "      <th></th>\n",
       "      <th></th>\n",
       "      <th></th>\n",
       "    </tr>\n",
       "  </thead>\n",
       "  <tbody>\n",
       "    <tr>\n",
       "      <th>1973_Vautrin-Jean_a-Bulletins-Rouges</th>\n",
       "      <td>non_canon</td>\n",
       "      <td>0.094963</td>\n",
       "      <td>0.905037</td>\n",
       "      <td>non_canon</td>\n",
       "      <td>True</td>\n",
       "    </tr>\n",
       "    <tr>\n",
       "      <th>1903_Chabrier-Rieder-Charlotte_Les-Enfants-du-Luxembourg</th>\n",
       "      <td>non_canon</td>\n",
       "      <td>0.021640</td>\n",
       "      <td>0.978360</td>\n",
       "      <td>non_canon</td>\n",
       "      <td>True</td>\n",
       "    </tr>\n",
       "    <tr>\n",
       "      <th>1879_Thuret-Mme-E._La-Guerre-au-chateau</th>\n",
       "      <td>non_canon</td>\n",
       "      <td>0.046761</td>\n",
       "      <td>0.953239</td>\n",
       "      <td>non_canon</td>\n",
       "      <td>True</td>\n",
       "    </tr>\n",
       "    <tr>\n",
       "      <th>1954_Reage-Pauline_Histoire-d-O</th>\n",
       "      <td>non_canon</td>\n",
       "      <td>0.197713</td>\n",
       "      <td>0.802287</td>\n",
       "      <td>non_canon</td>\n",
       "      <td>True</td>\n",
       "    </tr>\n",
       "    <tr>\n",
       "      <th>1928_Cami-Pierre-Henri_le-jugement-dernier</th>\n",
       "      <td>non_canon</td>\n",
       "      <td>0.031597</td>\n",
       "      <td>0.968403</td>\n",
       "      <td>non_canon</td>\n",
       "      <td>True</td>\n",
       "    </tr>\n",
       "    <tr>\n",
       "      <th>...</th>\n",
       "      <td>...</td>\n",
       "      <td>...</td>\n",
       "      <td>...</td>\n",
       "      <td>...</td>\n",
       "      <td>...</td>\n",
       "    </tr>\n",
       "    <tr>\n",
       "      <th>1869_Carraud-Zulma-Tourangin-Mme_Les-Gouters-de-la-grand-mere</th>\n",
       "      <td>non_canon</td>\n",
       "      <td>0.027756</td>\n",
       "      <td>0.972244</td>\n",
       "      <td>non_canon</td>\n",
       "      <td>True</td>\n",
       "    </tr>\n",
       "    <tr>\n",
       "      <th>1831_Signol-Alphonse-Macaire-Stanislas_Le-Chiffonnier_Tome-1</th>\n",
       "      <td>non_canon</td>\n",
       "      <td>0.073798</td>\n",
       "      <td>0.926202</td>\n",
       "      <td>non_canon</td>\n",
       "      <td>True</td>\n",
       "    </tr>\n",
       "    <tr>\n",
       "      <th>1950_Delly_Le-violon-du-tzigane</th>\n",
       "      <td>non_canon</td>\n",
       "      <td>0.020972</td>\n",
       "      <td>0.979028</td>\n",
       "      <td>non_canon</td>\n",
       "      <td>True</td>\n",
       "    </tr>\n",
       "    <tr>\n",
       "      <th>1975_Tournier-Michel_Les-Meteores</th>\n",
       "      <td>non_canon</td>\n",
       "      <td>0.257529</td>\n",
       "      <td>0.742471</td>\n",
       "      <td>non_canon</td>\n",
       "      <td>True</td>\n",
       "    </tr>\n",
       "    <tr>\n",
       "      <th>1862_Feval-Paul_Les-habits-noirs_Tome-I</th>\n",
       "      <td>non_canon</td>\n",
       "      <td>0.057534</td>\n",
       "      <td>0.942466</td>\n",
       "      <td>non_canon</td>\n",
       "      <td>True</td>\n",
       "    </tr>\n",
       "  </tbody>\n",
       "</table>\n",
       "<p>592 rows × 5 columns</p>\n",
       "</div>"
      ],
      "text/plain": [
       "                                                     metadata  proba canon  \\\n",
       "index                                                                        \n",
       "1973_Vautrin-Jean_a-Bulletins-Rouges                non_canon     0.094963   \n",
       "1903_Chabrier-Rieder-Charlotte_Les-Enfants-du-L...  non_canon     0.021640   \n",
       "1879_Thuret-Mme-E._La-Guerre-au-chateau             non_canon     0.046761   \n",
       "1954_Reage-Pauline_Histoire-d-O                     non_canon     0.197713   \n",
       "1928_Cami-Pierre-Henri_le-jugement-dernier          non_canon     0.031597   \n",
       "...                                                       ...          ...   \n",
       "1869_Carraud-Zulma-Tourangin-Mme_Les-Gouters-de...  non_canon     0.027756   \n",
       "1831_Signol-Alphonse-Macaire-Stanislas_Le-Chiff...  non_canon     0.073798   \n",
       "1950_Delly_Le-violon-du-tzigane                     non_canon     0.020972   \n",
       "1975_Tournier-Michel_Les-Meteores                   non_canon     0.257529   \n",
       "1862_Feval-Paul_Les-habits-noirs_Tome-I             non_canon     0.057534   \n",
       "\n",
       "                                                    proba non-canon  \\\n",
       "index                                                                 \n",
       "1973_Vautrin-Jean_a-Bulletins-Rouges                       0.905037   \n",
       "1903_Chabrier-Rieder-Charlotte_Les-Enfants-du-L...         0.978360   \n",
       "1879_Thuret-Mme-E._La-Guerre-au-chateau                    0.953239   \n",
       "1954_Reage-Pauline_Histoire-d-O                            0.802287   \n",
       "1928_Cami-Pierre-Henri_le-jugement-dernier                 0.968403   \n",
       "...                                                             ...   \n",
       "1869_Carraud-Zulma-Tourangin-Mme_Les-Gouters-de...         0.972244   \n",
       "1831_Signol-Alphonse-Macaire-Stanislas_Le-Chiff...         0.926202   \n",
       "1950_Delly_Le-violon-du-tzigane                            0.979028   \n",
       "1975_Tournier-Michel_Les-Meteores                          0.742471   \n",
       "1862_Feval-Paul_Les-habits-noirs_Tome-I                    0.942466   \n",
       "\n",
       "                                                   prediction  accord  \n",
       "index                                                                  \n",
       "1973_Vautrin-Jean_a-Bulletins-Rouges                non_canon    True  \n",
       "1903_Chabrier-Rieder-Charlotte_Les-Enfants-du-L...  non_canon    True  \n",
       "1879_Thuret-Mme-E._La-Guerre-au-chateau             non_canon    True  \n",
       "1954_Reage-Pauline_Histoire-d-O                     non_canon    True  \n",
       "1928_Cami-Pierre-Henri_le-jugement-dernier          non_canon    True  \n",
       "...                                                       ...     ...  \n",
       "1869_Carraud-Zulma-Tourangin-Mme_Les-Gouters-de...  non_canon    True  \n",
       "1831_Signol-Alphonse-Macaire-Stanislas_Le-Chiff...  non_canon    True  \n",
       "1950_Delly_Le-violon-du-tzigane                     non_canon    True  \n",
       "1975_Tournier-Michel_Les-Meteores                   non_canon    True  \n",
       "1862_Feval-Paul_Les-habits-noirs_Tome-I             non_canon    True  \n",
       "\n",
       "[592 rows x 5 columns]"
      ]
     },
     "execution_count": 8,
     "metadata": {},
     "output_type": "execute_result"
    }
   ],
   "source": [
    "df_results_main"
   ]
  },
  {
   "cell_type": "code",
   "execution_count": null,
   "metadata": {},
   "outputs": [],
   "source": []
  },
  {
   "cell_type": "markdown",
   "metadata": {},
   "source": [
    "### SIZE OPTI (4/6)"
   ]
  },
  {
   "cell_type": "code",
   "execution_count": 8,
   "metadata": {},
   "outputs": [
    {
     "data": {
      "text/plain": [
       "640"
      ]
     },
     "execution_count": 8,
     "metadata": {},
     "output_type": "execute_result"
    }
   ],
   "source": [
    "df_size_opti = pd.read_csv(r'data\\df_size_opti.csv')\n",
    "df_size_opti.set_index(\"index\", inplace = True)\n",
    "df_size_opti = df_size_opti.replace(np.nan, 0)\n",
    "len(df_size_opti)"
   ]
  },
  {
   "cell_type": "code",
   "execution_count": 9,
   "metadata": {},
   "outputs": [
    {
     "data": {
      "text/plain": [
       "non_canon    0.592187\n",
       "canon        0.407813\n",
       "Name: canon, dtype: float64"
      ]
     },
     "execution_count": 9,
     "metadata": {},
     "output_type": "execute_result"
    }
   ],
   "source": [
    "df_size_opti['canon'].value_counts(normalize=True)"
   ]
  },
  {
   "cell_type": "code",
   "execution_count": null,
   "metadata": {},
   "outputs": [],
   "source": []
  },
  {
   "cell_type": "code",
   "execution_count": 146,
   "metadata": {},
   "outputs": [
    {
     "name": "stdout",
     "output_type": "stream",
     "text": [
      "Original dataset shape Counter({'non_canon': 339, 'canon': 237})\n",
      "Resampled dataset shape Counter({'non_canon': 339, 'canon': 339})\n",
      "              precision    recall  f1-score   support\n",
      "\n",
      "       canon       0.62      0.62      0.62        24\n",
      "   non_canon       0.78      0.78      0.78        40\n",
      "\n",
      "    accuracy                           0.72        64\n",
      "   macro avg       0.70      0.70      0.70        64\n",
      "weighted avg       0.72      0.72      0.72        64\n",
      "\n"
     ]
    },
    {
     "data": {
      "image/png": "[encoded data removed]",
      "text/plain": [
       "<Figure size 1080x360 with 1 Axes>"
      ]
     },
     "metadata": {
      "needs_background": "light"
     },
     "output_type": "display_data"
    }
   ],
   "source": [
    "pipe_size_opti_linear, df_results_size_opti_linear = canonizer(df_size_opti, test_size=0.1, kernel='linear', sampling='over')"
   ]
  },
  {
   "cell_type": "code",
   "execution_count": null,
   "metadata": {},
   "outputs": [],
   "source": []
  },
  {
   "cell_type": "code",
   "execution_count": null,
   "metadata": {},
   "outputs": [],
   "source": []
  },
  {
   "cell_type": "code",
   "execution_count": 163,
   "metadata": {},
   "outputs": [],
   "source": [
    "df_main_balanced = pd.read_csv(r'data\\features_balanced.csv')\n",
    "df_main_balanced.set_index(\"index\", inplace = True)\n",
    "df_main_balanced = df_main_balanced.replace(np.nan, 0)"
   ]
  },
  {
   "cell_type": "code",
   "execution_count": 164,
   "metadata": {},
   "outputs": [
    {
     "name": "stdout",
     "output_type": "stream",
     "text": [
      "Original dataset shape Counter({'non_canon': 209, 'canon': 208})\n",
      "              precision    recall  f1-score   support\n",
      "\n",
      "       canon       0.70      0.87      0.77        53\n",
      "   non_canon       0.82      0.62      0.70        52\n",
      "\n",
      "    accuracy                           0.74       105\n",
      "   macro avg       0.76      0.74      0.74       105\n",
      "weighted avg       0.76      0.74      0.74       105\n",
      "\n"
     ]
    }
   ],
   "source": [
    "pipe_size_opti, df_results_size_opti = canonizer(df_main_balanced)"
   ]
  },
  {
   "cell_type": "code",
   "execution_count": 111,
   "metadata": {},
   "outputs": [
    {
     "name": "stdout",
     "output_type": "stream",
     "text": [
      "Original dataset shape Counter({'non_canon': 297, 'canon': 215})\n",
      "              precision    recall  f1-score   support\n",
      "\n",
      "       canon       0.64      0.74      0.69        46\n",
      "   non_canon       0.84      0.77      0.80        82\n",
      "\n",
      "    accuracy                           0.76       128\n",
      "   macro avg       0.74      0.75      0.74       128\n",
      "weighted avg       0.77      0.76      0.76       128\n",
      "\n"
     ]
    }
   ],
   "source": [
    "pipe_size_opti, df_results_size_opti = canonizer(df_size_opti)"
   ]
  },
  {
   "cell_type": "code",
   "execution_count": 50,
   "metadata": {},
   "outputs": [
    {
     "name": "stdout",
     "output_type": "stream",
     "text": [
      "Original dataset shape Counter({'non_canon': 297, 'canon': 215})\n",
      "Resampled dataset shape Counter({'canon': 297, 'non_canon': 297})\n",
      "              precision    recall  f1-score   support\n",
      "\n",
      "       canon       0.79      0.57      0.66        46\n",
      "   non_canon       0.79      0.91      0.85        82\n",
      "\n",
      "    accuracy                           0.79       128\n",
      "   macro avg       0.79      0.74      0.75       128\n",
      "weighted avg       0.79      0.79      0.78       128\n",
      "\n"
     ]
    }
   ],
   "source": [
    "pipe_size_opti_over_sampled, df_results_size_opti_over_sampled = canonizer(df_size_opti, kernel='poly', sampling='over')"
   ]
  },
  {
   "cell_type": "code",
   "execution_count": null,
   "metadata": {},
   "outputs": [],
   "source": []
  },
  {
   "cell_type": "markdown",
   "metadata": {},
   "source": [
    "### Cross_validation"
   ]
  },
  {
   "cell_type": "code",
   "execution_count": 35,
   "metadata": {},
   "outputs": [],
   "source": [
    "pipe_size_opti_cv, df_results_size_opti_cv = canonizer(df_size_opti, cross_validation=True)"
   ]
  },
  {
   "cell_type": "code",
   "execution_count": 32,
   "metadata": {},
   "outputs": [
    {
     "data": {
      "text/plain": [
       "{'fit_time': array([6.07348347, 6.24646616, 4.64034796, 4.15130806, 5.79043245]),\n",
       " 'score_time': array([0.31302357, 0.3550272 , 0.36602855, 0.29302025, 0.29602242]),\n",
       " 'test_score': array([0.734375 , 0.6953125, 0.7109375, 0.84375  , 0.7734375])}"
      ]
     },
     "execution_count": 32,
     "metadata": {},
     "output_type": "execute_result"
    }
   ],
   "source": [
    "df_results_size_opti_cv"
   ]
  },
  {
   "cell_type": "code",
   "execution_count": 34,
   "metadata": {},
   "outputs": [
    {
     "data": {
      "text/plain": [
       "0.7515625"
      ]
     },
     "execution_count": 34,
     "metadata": {},
     "output_type": "execute_result"
    }
   ],
   "source": [
    "sum(df_results_size_opti_cv['test_score'])/len(df_results_size_opti_cv['test_score'])"
   ]
  },
  {
   "cell_type": "code",
   "execution_count": null,
   "metadata": {},
   "outputs": [],
   "source": []
  },
  {
   "cell_type": "code",
   "execution_count": null,
   "metadata": {},
   "outputs": [],
   "source": []
  },
  {
   "cell_type": "code",
   "execution_count": 153,
   "metadata": {},
   "outputs": [],
   "source": [
    "lists_canonique = list(df_fabula['canon'])"
   ]
  },
  {
   "cell_type": "code",
   "execution_count": 158,
   "metadata": {},
   "outputs": [],
   "source": [
    "df_1000 = df_fabula.iloc[:, :1000]"
   ]
  },
  {
   "cell_type": "code",
   "execution_count": 159,
   "metadata": {},
   "outputs": [],
   "source": [
    "df_1000['canon']=lists_canonique"
   ]
  },
  {
   "cell_type": "code",
   "execution_count": 161,
   "metadata": {},
   "outputs": [
    {
     "name": "stdout",
     "output_type": "stream",
     "text": [
      "Original dataset shape Counter({False: 1425, True: 943})\n",
      "Resampled dataset shape Counter({True: 1425, False: 1425})\n",
      "              precision    recall  f1-score   support\n",
      "\n",
      "       False       0.92      0.88      0.90       380\n",
      "        True       0.80      0.87      0.83       212\n",
      "\n",
      "    accuracy                           0.88       592\n",
      "   macro avg       0.86      0.87      0.87       592\n",
      "weighted avg       0.88      0.88      0.88       592\n",
      "\n"
     ]
    }
   ],
   "source": [
    "pipe_test, df_results_test = canonizer(df_100, sampling='over')"
   ]
  },
  {
   "cell_type": "code",
   "execution_count": 162,
   "metadata": {},
   "outputs": [
    {
     "name": "stdout",
     "output_type": "stream",
     "text": [
      "Original dataset shape Counter({False: 1425, True: 943})\n",
      "Resampled dataset shape Counter({True: 1425, False: 1425})\n",
      "              precision    recall  f1-score   support\n",
      "\n",
      "       False       0.93      0.91      0.92       380\n",
      "        True       0.84      0.87      0.86       212\n",
      "\n",
      "    accuracy                           0.90       592\n",
      "   macro avg       0.88      0.89      0.89       592\n",
      "weighted avg       0.90      0.90      0.90       592\n",
      "\n"
     ]
    }
   ],
   "source": [
    "pipe_test, df_results_test = canonizer(df_1000, sampling='over')"
   ]
  },
  {
   "cell_type": "code",
   "execution_count": 156,
   "metadata": {},
   "outputs": [
    {
     "name": "stdout",
     "output_type": "stream",
     "text": [
      "Original dataset shape Counter({'non_canon': 297, 'canon': 215})\n",
      "              precision    recall  f1-score   support\n",
      "\n",
      "       canon       0.60      0.80      0.69        46\n",
      "   non_canon       0.86      0.70      0.77        82\n",
      "\n",
      "    accuracy                           0.73       128\n",
      "   macro avg       0.73      0.75      0.73       128\n",
      "weighted avg       0.77      0.73      0.74       128\n",
      "\n"
     ]
    }
   ],
   "source": [
    "pipe_test, df_results_test = canonizer(df_1000)"
   ]
  },
  {
   "cell_type": "code",
   "execution_count": 59,
   "metadata": {},
   "outputs": [
    {
     "name": "stdout",
     "output_type": "stream",
     "text": [
      "Original dataset shape Counter({'non_canon': 297, 'canon': 215})\n",
      "              precision    recall  f1-score   support\n",
      "\n",
      "       canon       0.55      0.72      0.62        46\n",
      "   non_canon       0.81      0.67      0.73        82\n",
      "\n",
      "    accuracy                           0.69       128\n",
      "   macro avg       0.68      0.69      0.68       128\n",
      "weighted avg       0.72      0.69      0.69       128\n",
      "\n"
     ]
    }
   ],
   "source": [
    "pipe_test, df_results_test = canonizer(df_100)"
   ]
  },
  {
   "cell_type": "code",
   "execution_count": null,
   "metadata": {},
   "outputs": [],
   "source": []
  },
  {
   "cell_type": "markdown",
   "metadata": {},
   "source": [
    "### Load df features one txt one author main metadata"
   ]
  },
  {
   "cell_type": "code",
   "execution_count": 60,
   "metadata": {},
   "outputs": [],
   "source": [
    "df_main_ones = pd.read_csv(r'data\\df_main_ones.csv')\n",
    "df_main_ones.set_index(\"Unnamed: 0\", inplace = True)\n",
    "df_main_ones = df_main_ones.replace(np.nan, 0)"
   ]
  },
  {
   "cell_type": "code",
   "execution_count": 140,
   "metadata": {},
   "outputs": [
    {
     "data": {
      "text/plain": [
       "134"
      ]
     },
     "execution_count": 140,
     "metadata": {},
     "output_type": "execute_result"
    }
   ],
   "source": [
    "len(df_main_ones)"
   ]
  },
  {
   "cell_type": "code",
   "execution_count": 61,
   "metadata": {},
   "outputs": [
    {
     "data": {
      "text/plain": [
       "non_canon    0.574627\n",
       "canon        0.425373\n",
       "Name: canon, dtype: float64"
      ]
     },
     "execution_count": 61,
     "metadata": {},
     "output_type": "execute_result"
    }
   ],
   "source": [
    "df_main_ones['canon'].value_counts(normalize=True)"
   ]
  },
  {
   "cell_type": "code",
   "execution_count": 112,
   "metadata": {},
   "outputs": [
    {
     "name": "stdout",
     "output_type": "stream",
     "text": [
      "Original dataset shape Counter({'non_canon': 60, 'canon': 47})\n",
      "              precision    recall  f1-score   support\n",
      "\n",
      "       canon       0.58      0.70      0.64        10\n",
      "   non_canon       0.80      0.71      0.75        17\n",
      "\n",
      "    accuracy                           0.70        27\n",
      "   macro avg       0.69      0.70      0.69        27\n",
      "weighted avg       0.72      0.70      0.71        27\n",
      "\n"
     ]
    }
   ],
   "source": [
    "pipe_main_ones, df_results_main_ones = canonizer(df_main_ones)"
   ]
  },
  {
   "cell_type": "code",
   "execution_count": null,
   "metadata": {},
   "outputs": [],
   "source": []
  },
  {
   "cell_type": "code",
   "execution_count": 195,
   "metadata": {},
   "outputs": [
    {
     "data": {
      "text/html": [
       "<div>\n",
       "<style scoped>\n",
       "    .dataframe tbody tr th:only-of-type {\n",
       "        vertical-align: middle;\n",
       "    }\n",
       "\n",
       "    .dataframe tbody tr th {\n",
       "        vertical-align: top;\n",
       "    }\n",
       "\n",
       "    .dataframe thead th {\n",
       "        text-align: right;\n",
       "    }\n",
       "</style>\n",
       "<table border=\"1\" class=\"dataframe\">\n",
       "  <thead>\n",
       "    <tr style=\"text-align: right;\">\n",
       "      <th></th>\n",
       "      <th>metadata</th>\n",
       "      <th>proba canon</th>\n",
       "      <th>proba non-canon</th>\n",
       "      <th>prediction</th>\n",
       "      <th>accord</th>\n",
       "    </tr>\n",
       "    <tr>\n",
       "      <th>Unnamed: 0</th>\n",
       "      <th></th>\n",
       "      <th></th>\n",
       "      <th></th>\n",
       "      <th></th>\n",
       "      <th></th>\n",
       "    </tr>\n",
       "  </thead>\n",
       "  <tbody>\n",
       "    <tr>\n",
       "      <th>1863_Roy-Just-Jean-Etienne_Un-tableau-de-la-Sainte-Vierge</th>\n",
       "      <td>non_canon</td>\n",
       "      <td>0.366259</td>\n",
       "      <td>0.633741</td>\n",
       "      <td>non_canon</td>\n",
       "      <td>True</td>\n",
       "    </tr>\n",
       "    <tr>\n",
       "      <th>1950_Duras-Marguerite_Un-barrage-contre-le-Pacifique</th>\n",
       "      <td>canon</td>\n",
       "      <td>0.713165</td>\n",
       "      <td>0.286835</td>\n",
       "      <td>canon</td>\n",
       "      <td>True</td>\n",
       "    </tr>\n",
       "    <tr>\n",
       "      <th>1876_Escoffier-Henri_Les-femmes-fatales</th>\n",
       "      <td>non_canon</td>\n",
       "      <td>0.114960</td>\n",
       "      <td>0.885040</td>\n",
       "      <td>non_canon</td>\n",
       "      <td>True</td>\n",
       "    </tr>\n",
       "    <tr>\n",
       "      <th>2010_Houellebecq-Michel_La-Carte-et-le-territoire</th>\n",
       "      <td>canon</td>\n",
       "      <td>0.726449</td>\n",
       "      <td>0.273551</td>\n",
       "      <td>canon</td>\n",
       "      <td>True</td>\n",
       "    </tr>\n",
       "    <tr>\n",
       "      <th>1864_Prost-Lacuzon-Jules_La-Tour-aux-viperes-chronique-jurassienne-du-XVe-siecle</th>\n",
       "      <td>non_canon</td>\n",
       "      <td>0.232924</td>\n",
       "      <td>0.767076</td>\n",
       "      <td>non_canon</td>\n",
       "      <td>True</td>\n",
       "    </tr>\n",
       "    <tr>\n",
       "      <th>1969_Marceau-Felicien_Creezy</th>\n",
       "      <td>canon</td>\n",
       "      <td>0.728662</td>\n",
       "      <td>0.271338</td>\n",
       "      <td>canon</td>\n",
       "      <td>True</td>\n",
       "    </tr>\n",
       "    <tr>\n",
       "      <th>2013_Fournel-Paul_La-Liseuse</th>\n",
       "      <td>non_canon</td>\n",
       "      <td>0.553278</td>\n",
       "      <td>0.446722</td>\n",
       "      <td>canon</td>\n",
       "      <td>False</td>\n",
       "    </tr>\n",
       "    <tr>\n",
       "      <th>1923_Radiguet-Raymond_Le-diable-au-corps</th>\n",
       "      <td>canon</td>\n",
       "      <td>0.662694</td>\n",
       "      <td>0.337306</td>\n",
       "      <td>canon</td>\n",
       "      <td>True</td>\n",
       "    </tr>\n",
       "    <tr>\n",
       "      <th>1907_Moselly-Emile_Terres-lorraines</th>\n",
       "      <td>canon</td>\n",
       "      <td>0.695754</td>\n",
       "      <td>0.304246</td>\n",
       "      <td>canon</td>\n",
       "      <td>True</td>\n",
       "    </tr>\n",
       "    <tr>\n",
       "      <th>1904_Fournier-Jules_Le-crime-de-Lachine</th>\n",
       "      <td>non_canon</td>\n",
       "      <td>0.358549</td>\n",
       "      <td>0.641451</td>\n",
       "      <td>non_canon</td>\n",
       "      <td>True</td>\n",
       "    </tr>\n",
       "    <tr>\n",
       "      <th>1998_Constant-Paule_Confidence-pour-confidence</th>\n",
       "      <td>canon</td>\n",
       "      <td>0.835575</td>\n",
       "      <td>0.164425</td>\n",
       "      <td>canon</td>\n",
       "      <td>True</td>\n",
       "    </tr>\n",
       "    <tr>\n",
       "      <th>1913_Alain-Fournier_Le-grand-Meaulnes</th>\n",
       "      <td>canon</td>\n",
       "      <td>0.611161</td>\n",
       "      <td>0.388839</td>\n",
       "      <td>canon</td>\n",
       "      <td>True</td>\n",
       "    </tr>\n",
       "    <tr>\n",
       "      <th>1846_Mme-Tarbe-Des-Sablons_Isabelle</th>\n",
       "      <td>canon</td>\n",
       "      <td>0.174600</td>\n",
       "      <td>0.825400</td>\n",
       "      <td>non_canon</td>\n",
       "      <td>False</td>\n",
       "    </tr>\n",
       "    <tr>\n",
       "      <th>1883_Fere-Octave_Les-Mysteres-du-Louvre</th>\n",
       "      <td>non_canon</td>\n",
       "      <td>0.197272</td>\n",
       "      <td>0.802728</td>\n",
       "      <td>non_canon</td>\n",
       "      <td>True</td>\n",
       "    </tr>\n",
       "    <tr>\n",
       "      <th>1883_Sirven-Alfred_La-Bigame-roman-contemporain</th>\n",
       "      <td>non_canon</td>\n",
       "      <td>0.071581</td>\n",
       "      <td>0.928419</td>\n",
       "      <td>non_canon</td>\n",
       "      <td>True</td>\n",
       "    </tr>\n",
       "    <tr>\n",
       "      <th>1879_Saint-François-Leon_L-Saint-François-Vieux-peches-scenes-parisiennes</th>\n",
       "      <td>non_canon</td>\n",
       "      <td>0.220197</td>\n",
       "      <td>0.779803</td>\n",
       "      <td>non_canon</td>\n",
       "      <td>True</td>\n",
       "    </tr>\n",
       "    <tr>\n",
       "      <th>1901_Lorrain-Jean_Monsieur-de-Phocas-Astarta--Roman</th>\n",
       "      <td>non_canon</td>\n",
       "      <td>0.717857</td>\n",
       "      <td>0.282143</td>\n",
       "      <td>canon</td>\n",
       "      <td>False</td>\n",
       "    </tr>\n",
       "    <tr>\n",
       "      <th>1900_Philippe-Charles-Louis_La-mere-et-l-enfant</th>\n",
       "      <td>non_canon</td>\n",
       "      <td>0.582590</td>\n",
       "      <td>0.417410</td>\n",
       "      <td>canon</td>\n",
       "      <td>False</td>\n",
       "    </tr>\n",
       "    <tr>\n",
       "      <th>1889_Coppee-François_Henriette</th>\n",
       "      <td>non_canon</td>\n",
       "      <td>0.424099</td>\n",
       "      <td>0.575901</td>\n",
       "      <td>non_canon</td>\n",
       "      <td>True</td>\n",
       "    </tr>\n",
       "    <tr>\n",
       "      <th>1854_Barthelemy-Charles_Histoire-de-la-Bretagne-ancienne-et-moderne</th>\n",
       "      <td>non_canon</td>\n",
       "      <td>0.432158</td>\n",
       "      <td>0.567842</td>\n",
       "      <td>non_canon</td>\n",
       "      <td>True</td>\n",
       "    </tr>\n",
       "    <tr>\n",
       "      <th>1968_Guy-Des-Cars_La-revoltee</th>\n",
       "      <td>non_canon</td>\n",
       "      <td>0.620004</td>\n",
       "      <td>0.379996</td>\n",
       "      <td>canon</td>\n",
       "      <td>False</td>\n",
       "    </tr>\n",
       "  </tbody>\n",
       "</table>\n",
       "</div>"
      ],
      "text/plain": [
       "                                                     metadata  proba canon  \\\n",
       "Unnamed: 0                                                                   \n",
       "1863_Roy-Just-Jean-Etienne_Un-tableau-de-la-Sai...  non_canon     0.366259   \n",
       "1950_Duras-Marguerite_Un-barrage-contre-le-Paci...      canon     0.713165   \n",
       "1876_Escoffier-Henri_Les-femmes-fatales             non_canon     0.114960   \n",
       "2010_Houellebecq-Michel_La-Carte-et-le-territoire       canon     0.726449   \n",
       "1864_Prost-Lacuzon-Jules_La-Tour-aux-viperes-ch...  non_canon     0.232924   \n",
       "1969_Marceau-Felicien_Creezy                            canon     0.728662   \n",
       "2013_Fournel-Paul_La-Liseuse                        non_canon     0.553278   \n",
       "1923_Radiguet-Raymond_Le-diable-au-corps                canon     0.662694   \n",
       "1907_Moselly-Emile_Terres-lorraines                     canon     0.695754   \n",
       "1904_Fournier-Jules_Le-crime-de-Lachine             non_canon     0.358549   \n",
       "1998_Constant-Paule_Confidence-pour-confidence          canon     0.835575   \n",
       "1913_Alain-Fournier_Le-grand-Meaulnes                   canon     0.611161   \n",
       "1846_Mme-Tarbe-Des-Sablons_Isabelle                     canon     0.174600   \n",
       "1883_Fere-Octave_Les-Mysteres-du-Louvre             non_canon     0.197272   \n",
       "1883_Sirven-Alfred_La-Bigame-roman-contemporain     non_canon     0.071581   \n",
       "1879_Saint-François-Leon_L-Saint-François-Vieux...  non_canon     0.220197   \n",
       "1901_Lorrain-Jean_Monsieur-de-Phocas-Astarta--R...  non_canon     0.717857   \n",
       "1900_Philippe-Charles-Louis_La-mere-et-l-enfant     non_canon     0.582590   \n",
       "1889_Coppee-François_Henriette                      non_canon     0.424099   \n",
       "1854_Barthelemy-Charles_Histoire-de-la-Bretagne...  non_canon     0.432158   \n",
       "1968_Guy-Des-Cars_La-revoltee                       non_canon     0.620004   \n",
       "\n",
       "                                                    proba non-canon  \\\n",
       "Unnamed: 0                                                            \n",
       "1863_Roy-Just-Jean-Etienne_Un-tableau-de-la-Sai...         0.633741   \n",
       "1950_Duras-Marguerite_Un-barrage-contre-le-Paci...         0.286835   \n",
       "1876_Escoffier-Henri_Les-femmes-fatales                    0.885040   \n",
       "2010_Houellebecq-Michel_La-Carte-et-le-territoire          0.273551   \n",
       "1864_Prost-Lacuzon-Jules_La-Tour-aux-viperes-ch...         0.767076   \n",
       "1969_Marceau-Felicien_Creezy                               0.271338   \n",
       "2013_Fournel-Paul_La-Liseuse                               0.446722   \n",
       "1923_Radiguet-Raymond_Le-diable-au-corps                   0.337306   \n",
       "1907_Moselly-Emile_Terres-lorraines                        0.304246   \n",
       "1904_Fournier-Jules_Le-crime-de-Lachine                    0.641451   \n",
       "1998_Constant-Paule_Confidence-pour-confidence             0.164425   \n",
       "1913_Alain-Fournier_Le-grand-Meaulnes                      0.388839   \n",
       "1846_Mme-Tarbe-Des-Sablons_Isabelle                        0.825400   \n",
       "1883_Fere-Octave_Les-Mysteres-du-Louvre                    0.802728   \n",
       "1883_Sirven-Alfred_La-Bigame-roman-contemporain            0.928419   \n",
       "1879_Saint-François-Leon_L-Saint-François-Vieux...         0.779803   \n",
       "1901_Lorrain-Jean_Monsieur-de-Phocas-Astarta--R...         0.282143   \n",
       "1900_Philippe-Charles-Louis_La-mere-et-l-enfant            0.417410   \n",
       "1889_Coppee-François_Henriette                             0.575901   \n",
       "1854_Barthelemy-Charles_Histoire-de-la-Bretagne...         0.567842   \n",
       "1968_Guy-Des-Cars_La-revoltee                              0.379996   \n",
       "\n",
       "                                                   prediction  accord  \n",
       "Unnamed: 0                                                             \n",
       "1863_Roy-Just-Jean-Etienne_Un-tableau-de-la-Sai...  non_canon    True  \n",
       "1950_Duras-Marguerite_Un-barrage-contre-le-Paci...      canon    True  \n",
       "1876_Escoffier-Henri_Les-femmes-fatales             non_canon    True  \n",
       "2010_Houellebecq-Michel_La-Carte-et-le-territoire       canon    True  \n",
       "1864_Prost-Lacuzon-Jules_La-Tour-aux-viperes-ch...  non_canon    True  \n",
       "1969_Marceau-Felicien_Creezy                            canon    True  \n",
       "2013_Fournel-Paul_La-Liseuse                            canon   False  \n",
       "1923_Radiguet-Raymond_Le-diable-au-corps                canon    True  \n",
       "1907_Moselly-Emile_Terres-lorraines                     canon    True  \n",
       "1904_Fournier-Jules_Le-crime-de-Lachine             non_canon    True  \n",
       "1998_Constant-Paule_Confidence-pour-confidence          canon    True  \n",
       "1913_Alain-Fournier_Le-grand-Meaulnes                   canon    True  \n",
       "1846_Mme-Tarbe-Des-Sablons_Isabelle                 non_canon   False  \n",
       "1883_Fere-Octave_Les-Mysteres-du-Louvre             non_canon    True  \n",
       "1883_Sirven-Alfred_La-Bigame-roman-contemporain     non_canon    True  \n",
       "1879_Saint-François-Leon_L-Saint-François-Vieux...  non_canon    True  \n",
       "1901_Lorrain-Jean_Monsieur-de-Phocas-Astarta--R...      canon   False  \n",
       "1900_Philippe-Charles-Louis_La-mere-et-l-enfant         canon   False  \n",
       "1889_Coppee-François_Henriette                      non_canon    True  \n",
       "1854_Barthelemy-Charles_Histoire-de-la-Bretagne...  non_canon    True  \n",
       "1968_Guy-Des-Cars_La-revoltee                           canon   False  "
      ]
     },
     "execution_count": 195,
     "metadata": {},
     "output_type": "execute_result"
    }
   ],
   "source": [
    "df_results_main_ones"
   ]
  },
  {
   "cell_type": "code",
   "execution_count": null,
   "metadata": {},
   "outputs": [],
   "source": []
  },
  {
   "cell_type": "code",
   "execution_count": null,
   "metadata": {},
   "outputs": [],
   "source": []
  },
  {
   "cell_type": "markdown",
   "metadata": {},
   "source": [
    "### Load df features fabula metadata"
   ]
  },
  {
   "cell_type": "code",
   "execution_count": 116,
   "metadata": {},
   "outputs": [],
   "source": [
    "df_fabula = pd.read_csv(r'data\\features_fabula.csv')\n",
    "df_fabula.set_index(\"index\", inplace = True)\n",
    "df_fabula = df_fabula.replace(np.nan, 0)"
   ]
  },
  {
   "cell_type": "code",
   "execution_count": 117,
   "metadata": {},
   "outputs": [
    {
     "data": {
      "text/plain": [
       "False    0.609797\n",
       "True     0.390203\n",
       "Name: canon, dtype: float64"
      ]
     },
     "execution_count": 117,
     "metadata": {},
     "output_type": "execute_result"
    }
   ],
   "source": [
    "df_fabula['canon'].value_counts(normalize=True)"
   ]
  },
  {
   "cell_type": "code",
   "execution_count": 120,
   "metadata": {},
   "outputs": [
    {
     "name": "stdout",
     "output_type": "stream",
     "text": [
      "Original dataset shape Counter({False: 1613, True: 1051})\n",
      "Resampled dataset shape Counter({False: 1613, True: 1613})\n",
      "              precision    recall  f1-score   support\n",
      "\n",
      "       False       0.95      0.93      0.94       192\n",
      "        True       0.88      0.90      0.89       104\n",
      "\n",
      "    accuracy                           0.92       296\n",
      "   macro avg       0.91      0.92      0.92       296\n",
      "weighted avg       0.92      0.92      0.92       296\n",
      "\n"
     ]
    }
   ],
   "source": [
    "pipe_fabula, df_results_fabula = canonizer(df_fabula, sampling='over', test_size=0.1)"
   ]
  },
  {
   "cell_type": "code",
   "execution_count": 121,
   "metadata": {},
   "outputs": [
    {
     "data": {
      "text/html": [
       "<div>\n",
       "<style scoped>\n",
       "    .dataframe tbody tr th:only-of-type {\n",
       "        vertical-align: middle;\n",
       "    }\n",
       "\n",
       "    .dataframe tbody tr th {\n",
       "        vertical-align: top;\n",
       "    }\n",
       "\n",
       "    .dataframe thead th {\n",
       "        text-align: right;\n",
       "    }\n",
       "</style>\n",
       "<table border=\"1\" class=\"dataframe\">\n",
       "  <thead>\n",
       "    <tr style=\"text-align: right;\">\n",
       "      <th></th>\n",
       "      <th>metadata</th>\n",
       "      <th>proba canon</th>\n",
       "      <th>proba non-canon</th>\n",
       "      <th>prediction</th>\n",
       "      <th>accord</th>\n",
       "    </tr>\n",
       "    <tr>\n",
       "      <th>index</th>\n",
       "      <th></th>\n",
       "      <th></th>\n",
       "      <th></th>\n",
       "      <th></th>\n",
       "      <th></th>\n",
       "    </tr>\n",
       "  </thead>\n",
       "  <tbody>\n",
       "    <tr>\n",
       "      <th>1973_Vautrin-Jean_a-Bulletins-Rouges</th>\n",
       "      <td>False</td>\n",
       "      <td>0.903066</td>\n",
       "      <td>0.096934</td>\n",
       "      <td>False</td>\n",
       "      <td>True</td>\n",
       "    </tr>\n",
       "    <tr>\n",
       "      <th>1903_Chabrier-Rieder-Charlotte_Les-Enfants-du-Luxembourg</th>\n",
       "      <td>False</td>\n",
       "      <td>0.993908</td>\n",
       "      <td>0.006092</td>\n",
       "      <td>False</td>\n",
       "      <td>True</td>\n",
       "    </tr>\n",
       "    <tr>\n",
       "      <th>1879_Thuret-Mme-E._La-Guerre-au-chateau</th>\n",
       "      <td>False</td>\n",
       "      <td>0.999595</td>\n",
       "      <td>0.000405</td>\n",
       "      <td>False</td>\n",
       "      <td>True</td>\n",
       "    </tr>\n",
       "    <tr>\n",
       "      <th>1954_Reage-Pauline_Histoire-d-O</th>\n",
       "      <td>True</td>\n",
       "      <td>0.074368</td>\n",
       "      <td>0.925632</td>\n",
       "      <td>True</td>\n",
       "      <td>True</td>\n",
       "    </tr>\n",
       "    <tr>\n",
       "      <th>1928_Cami-Pierre-Henri_le-jugement-dernier</th>\n",
       "      <td>False</td>\n",
       "      <td>0.991573</td>\n",
       "      <td>0.008427</td>\n",
       "      <td>False</td>\n",
       "      <td>True</td>\n",
       "    </tr>\n",
       "    <tr>\n",
       "      <th>...</th>\n",
       "      <td>...</td>\n",
       "      <td>...</td>\n",
       "      <td>...</td>\n",
       "      <td>...</td>\n",
       "      <td>...</td>\n",
       "    </tr>\n",
       "    <tr>\n",
       "      <th>1975_San-Antonio_Dis-bonjour-a-la-dame</th>\n",
       "      <td>False</td>\n",
       "      <td>0.999076</td>\n",
       "      <td>0.000924</td>\n",
       "      <td>False</td>\n",
       "      <td>True</td>\n",
       "    </tr>\n",
       "    <tr>\n",
       "      <th>1881_Sand-George_Jeanne</th>\n",
       "      <td>True</td>\n",
       "      <td>0.189248</td>\n",
       "      <td>0.810752</td>\n",
       "      <td>True</td>\n",
       "      <td>True</td>\n",
       "    </tr>\n",
       "    <tr>\n",
       "      <th>1862_Flaubert-Gustave_Salammbo</th>\n",
       "      <td>True</td>\n",
       "      <td>0.259655</td>\n",
       "      <td>0.740345</td>\n",
       "      <td>True</td>\n",
       "      <td>True</td>\n",
       "    </tr>\n",
       "    <tr>\n",
       "      <th>1993_Hemon-Louis_Ecrits-sur-le-Quebec</th>\n",
       "      <td>False</td>\n",
       "      <td>0.740868</td>\n",
       "      <td>0.259132</td>\n",
       "      <td>False</td>\n",
       "      <td>True</td>\n",
       "    </tr>\n",
       "    <tr>\n",
       "      <th>1956_Delly_Annonciade</th>\n",
       "      <td>False</td>\n",
       "      <td>0.998264</td>\n",
       "      <td>0.001736</td>\n",
       "      <td>False</td>\n",
       "      <td>True</td>\n",
       "    </tr>\n",
       "  </tbody>\n",
       "</table>\n",
       "<p>296 rows × 5 columns</p>\n",
       "</div>"
      ],
      "text/plain": [
       "                                                    metadata  proba canon  \\\n",
       "index                                                                       \n",
       "1973_Vautrin-Jean_a-Bulletins-Rouges                   False     0.903066   \n",
       "1903_Chabrier-Rieder-Charlotte_Les-Enfants-du-L...     False     0.993908   \n",
       "1879_Thuret-Mme-E._La-Guerre-au-chateau                False     0.999595   \n",
       "1954_Reage-Pauline_Histoire-d-O                         True     0.074368   \n",
       "1928_Cami-Pierre-Henri_le-jugement-dernier             False     0.991573   \n",
       "...                                                      ...          ...   \n",
       "1975_San-Antonio_Dis-bonjour-a-la-dame                 False     0.999076   \n",
       "1881_Sand-George_Jeanne                                 True     0.189248   \n",
       "1862_Flaubert-Gustave_Salammbo                          True     0.259655   \n",
       "1993_Hemon-Louis_Ecrits-sur-le-Quebec                  False     0.740868   \n",
       "1956_Delly_Annonciade                                  False     0.998264   \n",
       "\n",
       "                                                    proba non-canon  \\\n",
       "index                                                                 \n",
       "1973_Vautrin-Jean_a-Bulletins-Rouges                       0.096934   \n",
       "1903_Chabrier-Rieder-Charlotte_Les-Enfants-du-L...         0.006092   \n",
       "1879_Thuret-Mme-E._La-Guerre-au-chateau                    0.000405   \n",
       "1954_Reage-Pauline_Histoire-d-O                            0.925632   \n",
       "1928_Cami-Pierre-Henri_le-jugement-dernier                 0.008427   \n",
       "...                                                             ...   \n",
       "1975_San-Antonio_Dis-bonjour-a-la-dame                     0.000924   \n",
       "1881_Sand-George_Jeanne                                    0.810752   \n",
       "1862_Flaubert-Gustave_Salammbo                             0.740345   \n",
       "1993_Hemon-Louis_Ecrits-sur-le-Quebec                      0.259132   \n",
       "1956_Delly_Annonciade                                      0.001736   \n",
       "\n",
       "                                                    prediction  accord  \n",
       "index                                                                   \n",
       "1973_Vautrin-Jean_a-Bulletins-Rouges                     False    True  \n",
       "1903_Chabrier-Rieder-Charlotte_Les-Enfants-du-L...       False    True  \n",
       "1879_Thuret-Mme-E._La-Guerre-au-chateau                  False    True  \n",
       "1954_Reage-Pauline_Histoire-d-O                           True    True  \n",
       "1928_Cami-Pierre-Henri_le-jugement-dernier               False    True  \n",
       "...                                                        ...     ...  \n",
       "1975_San-Antonio_Dis-bonjour-a-la-dame                   False    True  \n",
       "1881_Sand-George_Jeanne                                   True    True  \n",
       "1862_Flaubert-Gustave_Salammbo                            True    True  \n",
       "1993_Hemon-Louis_Ecrits-sur-le-Quebec                    False    True  \n",
       "1956_Delly_Annonciade                                    False    True  \n",
       "\n",
       "[296 rows x 5 columns]"
      ]
     },
     "execution_count": 121,
     "metadata": {},
     "output_type": "execute_result"
    }
   ],
   "source": [
    "df_results_fabula"
   ]
  },
  {
   "cell_type": "markdown",
   "metadata": {},
   "source": [
    "### Cross Validation"
   ]
  },
  {
   "cell_type": "code",
   "execution_count": 57,
   "metadata": {},
   "outputs": [],
   "source": [
    "pipe_cv, scores_cv = canonizer(df_fabula, cross_validation=True)"
   ]
  },
  {
   "cell_type": "code",
   "execution_count": 58,
   "metadata": {},
   "outputs": [
    {
     "data": {
      "text/plain": [
       "{'fit_time': array([58.84632397, 57.07133722, 56.70533705, 62.05453444, 57.57437778]),\n",
       " 'score_time': array([3.60127449, 3.63727522, 3.77728677, 4.09956574, 3.78728795]),\n",
       " 'test_score': array([0.90878378, 0.89189189, 0.89864865, 0.91722973, 0.90033784])}"
      ]
     },
     "execution_count": 58,
     "metadata": {},
     "output_type": "execute_result"
    }
   ],
   "source": [
    "scores_cv"
   ]
  },
  {
   "cell_type": "code",
   "execution_count": 61,
   "metadata": {},
   "outputs": [
    {
     "data": {
      "text/plain": [
       "0.9033783783783784"
      ]
     },
     "execution_count": 61,
     "metadata": {},
     "output_type": "execute_result"
    }
   ],
   "source": [
    "sum(scores_cv['test_score'])/len(scores_cv['test_score'])"
   ]
  },
  {
   "cell_type": "code",
   "execution_count": null,
   "metadata": {},
   "outputs": [],
   "source": []
  },
  {
   "cell_type": "code",
   "execution_count": null,
   "metadata": {},
   "outputs": [],
   "source": []
  },
  {
   "cell_type": "markdown",
   "metadata": {},
   "source": [
    "### Load df features one txt one author fabula metadata"
   ]
  },
  {
   "cell_type": "code",
   "execution_count": 136,
   "metadata": {},
   "outputs": [],
   "source": [
    "df_fabula_ones = pd.read_csv(r'data\\df_fabula_ones.csv')\n",
    "df_fabula_ones.set_index(\"Unnamed: 0\", inplace = True)\n",
    "df_fabula_ones = df_fabula_ones.replace(np.nan, 0)"
   ]
  },
  {
   "cell_type": "code",
   "execution_count": 137,
   "metadata": {},
   "outputs": [
    {
     "data": {
      "text/plain": [
       "394"
      ]
     },
     "execution_count": 137,
     "metadata": {},
     "output_type": "execute_result"
    }
   ],
   "source": [
    "len(df_fabula_ones)"
   ]
  },
  {
   "cell_type": "code",
   "execution_count": 124,
   "metadata": {},
   "outputs": [
    {
     "name": "stdout",
     "output_type": "stream",
     "text": [
      "Original dataset shape Counter({False: 187, True: 128})\n",
      "Resampled dataset shape Counter({True: 187, False: 187})\n",
      "              precision    recall  f1-score   support\n",
      "\n",
      "       False       0.83      0.83      0.83        48\n",
      "        True       0.74      0.74      0.74        31\n",
      "\n",
      "    accuracy                           0.80        79\n",
      "   macro avg       0.79      0.79      0.79        79\n",
      "weighted avg       0.80      0.80      0.80        79\n",
      "\n"
     ]
    }
   ],
   "source": [
    "pipe_fabula_ones, df_results_fabula_ones = canonizer(df_fabula_ones, sampling='over')"
   ]
  },
  {
   "cell_type": "code",
   "execution_count": 138,
   "metadata": {},
   "outputs": [
    {
     "data": {
      "text/html": [
       "<div>\n",
       "<style scoped>\n",
       "    .dataframe tbody tr th:only-of-type {\n",
       "        vertical-align: middle;\n",
       "    }\n",
       "\n",
       "    .dataframe tbody tr th {\n",
       "        vertical-align: top;\n",
       "    }\n",
       "\n",
       "    .dataframe thead th {\n",
       "        text-align: right;\n",
       "    }\n",
       "</style>\n",
       "<table border=\"1\" class=\"dataframe\">\n",
       "  <thead>\n",
       "    <tr style=\"text-align: right;\">\n",
       "      <th></th>\n",
       "      <th>metadata</th>\n",
       "      <th>proba canon</th>\n",
       "      <th>proba non-canon</th>\n",
       "      <th>prediction</th>\n",
       "      <th>accord</th>\n",
       "    </tr>\n",
       "    <tr>\n",
       "      <th>Unnamed: 0</th>\n",
       "      <th></th>\n",
       "      <th></th>\n",
       "      <th></th>\n",
       "      <th></th>\n",
       "      <th></th>\n",
       "    </tr>\n",
       "  </thead>\n",
       "  <tbody>\n",
       "    <tr>\n",
       "      <th>1879_Lachese-Marthe_Le-Mariage-de-Renee</th>\n",
       "      <td>False</td>\n",
       "      <td>0.988523</td>\n",
       "      <td>0.011477</td>\n",
       "      <td>False</td>\n",
       "      <td>True</td>\n",
       "    </tr>\n",
       "    <tr>\n",
       "      <th>1874_Flaubert-Gustave_La-tentation-de-saint-Antoine</th>\n",
       "      <td>True</td>\n",
       "      <td>0.240921</td>\n",
       "      <td>0.759079</td>\n",
       "      <td>True</td>\n",
       "      <td>True</td>\n",
       "    </tr>\n",
       "    <tr>\n",
       "      <th>1893_Montegut-Maurice_Madame-Tout-le-monde</th>\n",
       "      <td>False</td>\n",
       "      <td>0.592882</td>\n",
       "      <td>0.407118</td>\n",
       "      <td>True</td>\n",
       "      <td>False</td>\n",
       "    </tr>\n",
       "    <tr>\n",
       "      <th>1895_Rameau-Jean_Yan</th>\n",
       "      <td>False</td>\n",
       "      <td>0.637077</td>\n",
       "      <td>0.362923</td>\n",
       "      <td>False</td>\n",
       "      <td>True</td>\n",
       "    </tr>\n",
       "    <tr>\n",
       "      <th>1856_Gautier-Theophile_Avatar</th>\n",
       "      <td>True</td>\n",
       "      <td>0.528492</td>\n",
       "      <td>0.471508</td>\n",
       "      <td>True</td>\n",
       "      <td>True</td>\n",
       "    </tr>\n",
       "    <tr>\n",
       "      <th>...</th>\n",
       "      <td>...</td>\n",
       "      <td>...</td>\n",
       "      <td>...</td>\n",
       "      <td>...</td>\n",
       "      <td>...</td>\n",
       "    </tr>\n",
       "    <tr>\n",
       "      <th>1904_Regnier-Henri-de_Les-Rencontres-de-M-de-Breot</th>\n",
       "      <td>True</td>\n",
       "      <td>0.658528</td>\n",
       "      <td>0.341472</td>\n",
       "      <td>False</td>\n",
       "      <td>False</td>\n",
       "    </tr>\n",
       "    <tr>\n",
       "      <th>1869_Sorr-Angelo-de_Fantome-de-la-rue-de-Venise</th>\n",
       "      <td>False</td>\n",
       "      <td>0.974876</td>\n",
       "      <td>0.025124</td>\n",
       "      <td>False</td>\n",
       "      <td>True</td>\n",
       "    </tr>\n",
       "    <tr>\n",
       "      <th>1928_Cami-Pierre-Henri_le-jugement-dernier</th>\n",
       "      <td>False</td>\n",
       "      <td>0.825838</td>\n",
       "      <td>0.174162</td>\n",
       "      <td>False</td>\n",
       "      <td>True</td>\n",
       "    </tr>\n",
       "    <tr>\n",
       "      <th>1934_Montherlant-Henry-de_Les-celibataires</th>\n",
       "      <td>True</td>\n",
       "      <td>0.381290</td>\n",
       "      <td>0.618710</td>\n",
       "      <td>True</td>\n",
       "      <td>True</td>\n",
       "    </tr>\n",
       "    <tr>\n",
       "      <th>1883_Hericault-Charles-d-_Rose-de-Noel</th>\n",
       "      <td>False</td>\n",
       "      <td>0.957022</td>\n",
       "      <td>0.042978</td>\n",
       "      <td>False</td>\n",
       "      <td>True</td>\n",
       "    </tr>\n",
       "  </tbody>\n",
       "</table>\n",
       "<p>79 rows × 5 columns</p>\n",
       "</div>"
      ],
      "text/plain": [
       "                                                    metadata  proba canon  \\\n",
       "Unnamed: 0                                                                  \n",
       "1879_Lachese-Marthe_Le-Mariage-de-Renee                False     0.988523   \n",
       "1874_Flaubert-Gustave_La-tentation-de-saint-Ant...      True     0.240921   \n",
       "1893_Montegut-Maurice_Madame-Tout-le-monde             False     0.592882   \n",
       "1895_Rameau-Jean_Yan                                   False     0.637077   \n",
       "1856_Gautier-Theophile_Avatar                           True     0.528492   \n",
       "...                                                      ...          ...   \n",
       "1904_Regnier-Henri-de_Les-Rencontres-de-M-de-Breot      True     0.658528   \n",
       "1869_Sorr-Angelo-de_Fantome-de-la-rue-de-Venise        False     0.974876   \n",
       "1928_Cami-Pierre-Henri_le-jugement-dernier             False     0.825838   \n",
       "1934_Montherlant-Henry-de_Les-celibataires              True     0.381290   \n",
       "1883_Hericault-Charles-d-_Rose-de-Noel                 False     0.957022   \n",
       "\n",
       "                                                    proba non-canon  \\\n",
       "Unnamed: 0                                                            \n",
       "1879_Lachese-Marthe_Le-Mariage-de-Renee                    0.011477   \n",
       "1874_Flaubert-Gustave_La-tentation-de-saint-Ant...         0.759079   \n",
       "1893_Montegut-Maurice_Madame-Tout-le-monde                 0.407118   \n",
       "1895_Rameau-Jean_Yan                                       0.362923   \n",
       "1856_Gautier-Theophile_Avatar                              0.471508   \n",
       "...                                                             ...   \n",
       "1904_Regnier-Henri-de_Les-Rencontres-de-M-de-Breot         0.341472   \n",
       "1869_Sorr-Angelo-de_Fantome-de-la-rue-de-Venise            0.025124   \n",
       "1928_Cami-Pierre-Henri_le-jugement-dernier                 0.174162   \n",
       "1934_Montherlant-Henry-de_Les-celibataires                 0.618710   \n",
       "1883_Hericault-Charles-d-_Rose-de-Noel                     0.042978   \n",
       "\n",
       "                                                    prediction  accord  \n",
       "Unnamed: 0                                                              \n",
       "1879_Lachese-Marthe_Le-Mariage-de-Renee                  False    True  \n",
       "1874_Flaubert-Gustave_La-tentation-de-saint-Ant...        True    True  \n",
       "1893_Montegut-Maurice_Madame-Tout-le-monde                True   False  \n",
       "1895_Rameau-Jean_Yan                                     False    True  \n",
       "1856_Gautier-Theophile_Avatar                             True    True  \n",
       "...                                                        ...     ...  \n",
       "1904_Regnier-Henri-de_Les-Rencontres-de-M-de-Breot       False   False  \n",
       "1869_Sorr-Angelo-de_Fantome-de-la-rue-de-Venise          False    True  \n",
       "1928_Cami-Pierre-Henri_le-jugement-dernier               False    True  \n",
       "1934_Montherlant-Henry-de_Les-celibataires                True    True  \n",
       "1883_Hericault-Charles-d-_Rose-de-Noel                   False    True  \n",
       "\n",
       "[79 rows x 5 columns]"
      ]
     },
     "execution_count": 138,
     "metadata": {},
     "output_type": "execute_result"
    }
   ],
   "source": [
    "df_results_fabula_ones"
   ]
  },
  {
   "cell_type": "code",
   "execution_count": null,
   "metadata": {},
   "outputs": [],
   "source": []
  },
  {
   "cell_type": "code",
   "execution_count": null,
   "metadata": {},
   "outputs": [],
   "source": []
  },
  {
   "cell_type": "markdown",
   "metadata": {},
   "source": [
    "### Load df features canonical degree based on author Corpus metadata"
   ]
  },
  {
   "cell_type": "code",
   "execution_count": 130,
   "metadata": {},
   "outputs": [],
   "source": [
    "df_test = pd.read_csv(r'data/df_main_author.csv')\n",
    "df_test.set_index(\"index\", inplace = True)\n",
    "df_test = df_test.replace(np.nan, 0)"
   ]
  },
  {
   "cell_type": "code",
   "execution_count": 131,
   "metadata": {},
   "outputs": [
    {
     "data": {
      "text/plain": [
       "False    0.603636\n",
       "True     0.396364\n",
       "Name: canon, dtype: float64"
      ]
     },
     "execution_count": 131,
     "metadata": {},
     "output_type": "execute_result"
    }
   ],
   "source": [
    "df_test['canon'].value_counts(normalize=True)"
   ]
  },
  {
   "cell_type": "code",
   "execution_count": 133,
   "metadata": {},
   "outputs": [
    {
     "name": "stdout",
     "output_type": "stream",
     "text": [
      "Original dataset shape Counter({False: 1192, True: 788})\n",
      "Resampled dataset shape Counter({True: 1192, False: 1192})\n",
      "              precision    recall  f1-score   support\n",
      "\n",
      "       False       0.86      0.91      0.88       136\n",
      "        True       0.84      0.75      0.79        84\n",
      "\n",
      "    accuracy                           0.85       220\n",
      "   macro avg       0.85      0.83      0.84       220\n",
      "weighted avg       0.85      0.85      0.85       220\n",
      "\n"
     ]
    }
   ],
   "source": [
    "pipe_test, df_results_test = canonizer(df_test, sampling='over', test_size=0.1)"
   ]
  },
  {
   "cell_type": "code",
   "execution_count": 134,
   "metadata": {},
   "outputs": [
    {
     "data": {
      "text/html": [
       "<div>\n",
       "<style scoped>\n",
       "    .dataframe tbody tr th:only-of-type {\n",
       "        vertical-align: middle;\n",
       "    }\n",
       "\n",
       "    .dataframe tbody tr th {\n",
       "        vertical-align: top;\n",
       "    }\n",
       "\n",
       "    .dataframe thead th {\n",
       "        text-align: right;\n",
       "    }\n",
       "</style>\n",
       "<table border=\"1\" class=\"dataframe\">\n",
       "  <thead>\n",
       "    <tr style=\"text-align: right;\">\n",
       "      <th></th>\n",
       "      <th>metadata</th>\n",
       "      <th>proba canon</th>\n",
       "      <th>proba non-canon</th>\n",
       "      <th>prediction</th>\n",
       "      <th>accord</th>\n",
       "    </tr>\n",
       "    <tr>\n",
       "      <th>index</th>\n",
       "      <th></th>\n",
       "      <th></th>\n",
       "      <th></th>\n",
       "      <th></th>\n",
       "      <th></th>\n",
       "    </tr>\n",
       "  </thead>\n",
       "  <tbody>\n",
       "    <tr>\n",
       "      <th>1880_Feval-Paul_Une-histoire-de-revenants</th>\n",
       "      <td>True</td>\n",
       "      <td>0.027531</td>\n",
       "      <td>0.972469</td>\n",
       "      <td>True</td>\n",
       "      <td>True</td>\n",
       "    </tr>\n",
       "    <tr>\n",
       "      <th>1929_Leblanc-Maurice_La-demeure-mysterieuse</th>\n",
       "      <td>True</td>\n",
       "      <td>0.007132</td>\n",
       "      <td>0.992868</td>\n",
       "      <td>True</td>\n",
       "      <td>True</td>\n",
       "    </tr>\n",
       "    <tr>\n",
       "      <th>2014_Rolin-Olivier_Le-Meteorologue</th>\n",
       "      <td>False</td>\n",
       "      <td>0.500000</td>\n",
       "      <td>0.500000</td>\n",
       "      <td>True</td>\n",
       "      <td>False</td>\n",
       "    </tr>\n",
       "    <tr>\n",
       "      <th>1954_Beauvoir-Simone-de_Les-Mandarins_1</th>\n",
       "      <td>True</td>\n",
       "      <td>0.122660</td>\n",
       "      <td>0.877340</td>\n",
       "      <td>True</td>\n",
       "      <td>True</td>\n",
       "    </tr>\n",
       "    <tr>\n",
       "      <th>1999_Vargas-Fred_L-homme-a-l-envers</th>\n",
       "      <td>False</td>\n",
       "      <td>0.990101</td>\n",
       "      <td>0.009899</td>\n",
       "      <td>False</td>\n",
       "      <td>True</td>\n",
       "    </tr>\n",
       "    <tr>\n",
       "      <th>...</th>\n",
       "      <td>...</td>\n",
       "      <td>...</td>\n",
       "      <td>...</td>\n",
       "      <td>...</td>\n",
       "      <td>...</td>\n",
       "    </tr>\n",
       "    <tr>\n",
       "      <th>1941_Jaloux-Edmond_Les-Visiteurs</th>\n",
       "      <td>False</td>\n",
       "      <td>0.815646</td>\n",
       "      <td>0.184354</td>\n",
       "      <td>False</td>\n",
       "      <td>True</td>\n",
       "    </tr>\n",
       "    <tr>\n",
       "      <th>2016_Perec-Georges_L-Attentat-de-Sarajevo</th>\n",
       "      <td>True</td>\n",
       "      <td>0.253072</td>\n",
       "      <td>0.746928</td>\n",
       "      <td>True</td>\n",
       "      <td>True</td>\n",
       "    </tr>\n",
       "    <tr>\n",
       "      <th>1849_Chateaubriand-François-Rene-de_Memoires-d-Outre-Tombe_Tome-2</th>\n",
       "      <td>True</td>\n",
       "      <td>0.014359</td>\n",
       "      <td>0.985641</td>\n",
       "      <td>True</td>\n",
       "      <td>True</td>\n",
       "    </tr>\n",
       "    <tr>\n",
       "      <th>1947_Laurent-Jacques_Caroline-Cherie-T.2</th>\n",
       "      <td>True</td>\n",
       "      <td>0.993420</td>\n",
       "      <td>0.006580</td>\n",
       "      <td>False</td>\n",
       "      <td>False</td>\n",
       "    </tr>\n",
       "    <tr>\n",
       "      <th>1854_Barthelemy-Charles_Histoire-de-la-Bretagne-ancienne-et-moderne</th>\n",
       "      <td>False</td>\n",
       "      <td>0.610383</td>\n",
       "      <td>0.389617</td>\n",
       "      <td>False</td>\n",
       "      <td>True</td>\n",
       "    </tr>\n",
       "  </tbody>\n",
       "</table>\n",
       "<p>220 rows × 5 columns</p>\n",
       "</div>"
      ],
      "text/plain": [
       "                                                    metadata  proba canon  \\\n",
       "index                                                                       \n",
       "1880_Feval-Paul_Une-histoire-de-revenants               True     0.027531   \n",
       "1929_Leblanc-Maurice_La-demeure-mysterieuse             True     0.007132   \n",
       "2014_Rolin-Olivier_Le-Meteorologue                     False     0.500000   \n",
       "1954_Beauvoir-Simone-de_Les-Mandarins_1                 True     0.122660   \n",
       "1999_Vargas-Fred_L-homme-a-l-envers                    False     0.990101   \n",
       "...                                                      ...          ...   \n",
       "1941_Jaloux-Edmond_Les-Visiteurs                       False     0.815646   \n",
       "2016_Perec-Georges_L-Attentat-de-Sarajevo               True     0.253072   \n",
       "1849_Chateaubriand-François-Rene-de_Memoires-d-...      True     0.014359   \n",
       "1947_Laurent-Jacques_Caroline-Cherie-T.2                True     0.993420   \n",
       "1854_Barthelemy-Charles_Histoire-de-la-Bretagne...     False     0.610383   \n",
       "\n",
       "                                                    proba non-canon  \\\n",
       "index                                                                 \n",
       "1880_Feval-Paul_Une-histoire-de-revenants                  0.972469   \n",
       "1929_Leblanc-Maurice_La-demeure-mysterieuse                0.992868   \n",
       "2014_Rolin-Olivier_Le-Meteorologue                         0.500000   \n",
       "1954_Beauvoir-Simone-de_Les-Mandarins_1                    0.877340   \n",
       "1999_Vargas-Fred_L-homme-a-l-envers                        0.009899   \n",
       "...                                                             ...   \n",
       "1941_Jaloux-Edmond_Les-Visiteurs                           0.184354   \n",
       "2016_Perec-Georges_L-Attentat-de-Sarajevo                  0.746928   \n",
       "1849_Chateaubriand-François-Rene-de_Memoires-d-...         0.985641   \n",
       "1947_Laurent-Jacques_Caroline-Cherie-T.2                   0.006580   \n",
       "1854_Barthelemy-Charles_Histoire-de-la-Bretagne...         0.389617   \n",
       "\n",
       "                                                    prediction  accord  \n",
       "index                                                                   \n",
       "1880_Feval-Paul_Une-histoire-de-revenants                 True    True  \n",
       "1929_Leblanc-Maurice_La-demeure-mysterieuse               True    True  \n",
       "2014_Rolin-Olivier_Le-Meteorologue                        True   False  \n",
       "1954_Beauvoir-Simone-de_Les-Mandarins_1                   True    True  \n",
       "1999_Vargas-Fred_L-homme-a-l-envers                      False    True  \n",
       "...                                                        ...     ...  \n",
       "1941_Jaloux-Edmond_Les-Visiteurs                         False    True  \n",
       "2016_Perec-Georges_L-Attentat-de-Sarajevo                 True    True  \n",
       "1849_Chateaubriand-François-Rene-de_Memoires-d-...        True    True  \n",
       "1947_Laurent-Jacques_Caroline-Cherie-T.2                 False   False  \n",
       "1854_Barthelemy-Charles_Histoire-de-la-Bretagne...       False    True  \n",
       "\n",
       "[220 rows x 5 columns]"
      ]
     },
     "execution_count": 134,
     "metadata": {},
     "output_type": "execute_result"
    }
   ],
   "source": [
    "df_results_test"
   ]
  },
  {
   "cell_type": "code",
   "execution_count": null,
   "metadata": {},
   "outputs": [],
   "source": []
  },
  {
   "cell_type": "code",
   "execution_count": null,
   "metadata": {},
   "outputs": [],
   "source": []
  },
  {
   "cell_type": "code",
   "execution_count": null,
   "metadata": {},
   "outputs": [],
   "source": []
  },
  {
   "cell_type": "code",
   "execution_count": null,
   "metadata": {},
   "outputs": [],
   "source": []
  },
  {
   "cell_type": "markdown",
   "metadata": {},
   "source": [
    "# Test Sampling Strategies"
   ]
  },
  {
   "cell_type": "markdown",
   "metadata": {},
   "source": [
    "### Not Balanced\n",
    "\n",
    "                precision    recall  f1-score   support\n",
    "\n",
    "    canon           1.00      0.07      0.14        40\n",
    "    non_canon       0.92      1.00      0.96       404\n",
    "\n",
    "    accuracy                            0.92       444\n",
    "    macro avg       0.96      0.54      0.55       444\n",
    "    weighted avg    0.92      0.92      0.88       444\n"
   ]
  },
  {
   "cell_type": "markdown",
   "metadata": {},
   "source": [
    "### OverSampling\n",
    "\n",
    "                   precision    recall  f1-score   support\n",
    "\n",
    "           canon       0.54      0.33      0.41        40\n",
    "       non_canon       0.94      0.97      0.95       404\n",
    "\n",
    "        accuracy                           0.91       444\n",
    "       macro avg       0.74      0.65      0.68       444\n",
    "    weighted avg       0.90      0.91      0.90       444"
   ]
  },
  {
   "cell_type": "markdown",
   "metadata": {},
   "source": [
    "### UnderSampling"
   ]
  },
  {
   "cell_type": "code",
   "execution_count": 225,
   "metadata": {},
   "outputs": [
    {
     "name": "stdout",
     "output_type": "stream",
     "text": [
      "Original dataset shape Counter({'non_canon': 2295, 'canon': 221})\n",
      "Resampled dataset shape Counter({'canon': 221, 'non_canon': 221})\n",
      "              precision    recall  f1-score   support\n",
      "\n",
      "       canon       0.20      0.78      0.31        40\n",
      "   non_canon       0.97      0.69      0.80       404\n",
      "\n",
      "    accuracy                           0.69       444\n",
      "   macro avg       0.58      0.73      0.56       444\n",
      "weighted avg       0.90      0.69      0.76       444\n",
      "\n"
     ]
    }
   ],
   "source": [
    "pipe_imb_under, df_results_imb_under = canonizer(df_main, sampling='under')"
   ]
  },
  {
   "cell_type": "markdown",
   "metadata": {},
   "source": [
    "### Combine Sampling SMOTE-ENN\n",
    "\n",
    "                     precision    recall  f1-score   support\n",
    "\n",
    "           canon       0.36      0.53      0.43        40\n",
    "       non_canon       0.95      0.91      0.93       404\n",
    "\n",
    "        accuracy                           0.87       444\n",
    "       macro avg       0.66      0.72      0.68       444\n",
    "    weighted avg       0.90      0.87      0.88       444\n"
   ]
  },
  {
   "cell_type": "markdown",
   "metadata": {},
   "source": [
    "### Combine Sampling SMOTE-TOMEK\n",
    "\n",
    "                     precision    recall  f1-score   support\n",
    "\n",
    "           canon       0.55      0.28      0.37        40\n",
    "       non_canon       0.93      0.98      0.95       404\n",
    "\n",
    "        accuracy                           0.91       444\n",
    "       macro avg       0.74      0.63      0.66       444\n",
    "    weighted avg       0.90      0.91      0.90       444\n"
   ]
  },
  {
   "cell_type": "markdown",
   "metadata": {},
   "source": [
    "# Fabula Metadata"
   ]
  },
  {
   "cell_type": "markdown",
   "metadata": {},
   "source": [
    "### Not Balanced"
   ]
  },
  {
   "cell_type": "markdown",
   "metadata": {},
   "source": [
    "\n",
    "                    precision    recall  f1-score   support\n",
    "\n",
    "           False       0.94      0.92      0.93       283\n",
    "            True       0.87      0.90      0.88       161\n",
    "\n",
    "        accuracy                           0.91       444\n",
    "       macro avg       0.91      0.91      0.91       444\n",
    "    weighted avg       0.92      0.91      0.91       444\n"
   ]
  },
  {
   "cell_type": "markdown",
   "metadata": {},
   "source": [
    "### OverSampling"
   ]
  },
  {
   "cell_type": "code",
   "execution_count": 199,
   "metadata": {},
   "outputs": [
    {
     "name": "stdout",
     "output_type": "stream",
     "text": [
      "Original dataset shape Counter({False: 1522, True: 994})\n",
      "Resampled dataset shape Counter({False: 1522, True: 1522})\n",
      "              precision    recall  f1-score   support\n",
      "\n",
      "       False       0.94      0.92      0.93       283\n",
      "        True       0.86      0.90      0.88       161\n",
      "\n",
      "    accuracy                           0.91       444\n",
      "   macro avg       0.90      0.91      0.90       444\n",
      "weighted avg       0.91      0.91      0.91       444\n",
      "\n"
     ]
    }
   ],
   "source": [
    "pipe_imb_combine, df_results_imb_combine = canonizer_imbalanced(df_fabula)"
   ]
  },
  {
   "cell_type": "markdown",
   "metadata": {},
   "source": [
    "### UnderSampling"
   ]
  },
  {
   "cell_type": "code",
   "execution_count": 211,
   "metadata": {},
   "outputs": [
    {
     "name": "stdout",
     "output_type": "stream",
     "text": [
      "Original dataset shape Counter({False: 1522, True: 994})\n",
      "Resampled dataset shape Counter({False: 994, True: 994})\n",
      "              precision    recall  f1-score   support\n",
      "\n",
      "       False       0.95      0.85      0.90       283\n",
      "        True       0.78      0.93      0.85       161\n",
      "\n",
      "    accuracy                           0.88       444\n",
      "   macro avg       0.87      0.89      0.87       444\n",
      "weighted avg       0.89      0.88      0.88       444\n",
      "\n"
     ]
    }
   ],
   "source": [
    "pipe_imb_combine, df_results_imb_combine = canonizer_imbalanced(df_fabula)"
   ]
  },
  {
   "cell_type": "markdown",
   "metadata": {},
   "source": [
    "### Combine Sampling SMOTE-ENN"
   ]
  },
  {
   "cell_type": "code",
   "execution_count": 213,
   "metadata": {},
   "outputs": [
    {
     "name": "stdout",
     "output_type": "stream",
     "text": [
      "Original dataset shape Counter({False: 1522, True: 994})\n",
      "Resampled dataset shape Counter({True: 1138, False: 935})\n",
      "              precision    recall  f1-score   support\n",
      "\n",
      "       False       0.92      0.81      0.86       283\n",
      "        True       0.73      0.88      0.80       161\n",
      "\n",
      "    accuracy                           0.84       444\n",
      "   macro avg       0.83      0.85      0.83       444\n",
      "weighted avg       0.85      0.84      0.84       444\n",
      "\n"
     ]
    }
   ],
   "source": [
    "pipe_imb_combine, df_results_imb_combine = canonizer_imbalanced(df_fabula)"
   ]
  },
  {
   "cell_type": "markdown",
   "metadata": {},
   "source": [
    "### Combine Sampling SMOTE-TOMEK"
   ]
  },
  {
   "cell_type": "code",
   "execution_count": 207,
   "metadata": {},
   "outputs": [
    {
     "name": "stdout",
     "output_type": "stream",
     "text": [
      "Original dataset shape Counter({False: 1522, True: 994})\n",
      "Resampled dataset shape Counter({False: 1509, True: 1509})\n",
      "              precision    recall  f1-score   support\n",
      "\n",
      "       False       0.95      0.92      0.93       283\n",
      "        True       0.86      0.91      0.89       161\n",
      "\n",
      "    accuracy                           0.91       444\n",
      "   macro avg       0.90      0.91      0.91       444\n",
      "weighted avg       0.92      0.91      0.91       444\n",
      "\n"
     ]
    }
   ],
   "source": [
    "pipe_imb_combine, df_results_imb_combine = canonizer_imbalanced(df_fabula)"
   ]
  },
  {
   "cell_type": "code",
   "execution_count": null,
   "metadata": {},
   "outputs": [],
   "source": []
  }
 ],
 "metadata": {
  "kernelspec": {
   "display_name": "Python 3",
   "language": "python",
   "name": "python3"
  },
  "language_info": {
   "codemirror_mode": {
    "name": "ipython",
    "version": 3
   },
   "file_extension": ".py",
   "mimetype": "text/x-python",
   "name": "python",
   "nbconvert_exporter": "python",
   "pygments_lexer": "ipython3",
   "version": "3.8.3"
  }
 },
 "nbformat": 4,
 "nbformat_minor": 4
}
