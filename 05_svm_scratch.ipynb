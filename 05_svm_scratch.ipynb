{
 "cells": [
  {
   "cell_type": "code",
   "execution_count": 4,
   "metadata": {},
   "outputs": [],
   "source": [
    "import pandas as pd\n",
    "import numpy as np\n",
    "from sklearn import set_config\n",
    "from sklearn import metrics\n",
    "from sklearn.metrics import r2_score, mean_absolute_error, mean_squared_error\n",
    "from sklearn.pipeline import make_pipeline\n",
    "from sklearn.preprocessing import StandardScaler\n",
    "from sklearn.svm import SVC\n",
    "from sklearn.linear_model import LogisticRegression\n",
    "from sklearn.model_selection import train_test_split\n",
    "from sklearn.preprocessing import Normalizer\n",
    "from sklearn.model_selection import cross_validate, cross_val_score\n",
    "from sklearn.metrics import make_scorer, accuracy_score, precision_score, recall_score, f1_score\n",
    "from sklearn.model_selection import ShuffleSplit\n",
    "from sklearn.metrics import ConfusionMatrixDisplay\n"
   ]
  },
  {
   "cell_type": "code",
   "execution_count": 2,
   "metadata": {},
   "outputs": [],
   "source": [
    "from imblearn.over_sampling import RandomOverSampler\n",
    "from imblearn.combine import SMOTEENN\n",
    "from imblearn.combine import SMOTETomek\n",
    "from imblearn.under_sampling import RandomUnderSampler\n",
    "from imblearn.over_sampling import SVMSMOTE \n",
    "from collections import Counter\n",
    "import matplotlib.pyplot as plt"
   ]
  },
  {
   "cell_type": "code",
   "execution_count": 3,
   "metadata": {},
   "outputs": [],
   "source": [
    "set_config(display='diagram')"
   ]
  },
  {
   "cell_type": "markdown",
   "metadata": {},
   "source": [
    "### Canonizer sklearn svm pipeline"
   ]
  },
  {
   "cell_type": "code",
   "execution_count": 5,
   "metadata": {},
   "outputs": [],
   "source": [
    "def plot_coefficients(coefs, feature_names, top_features):\n",
    "    top_positive_coefficients = np.argsort(coefs)[-top_features:]\n",
    "    top_negative_coefficients = np.argsort(coefs)[:top_features]\n",
    "    top_coefficients = np.hstack([top_negative_coefficients, top_positive_coefficients])\n",
    "    # create plot\n",
    "    plt.figure(figsize=(15, 5))\n",
    "    colors = ['red' if c < 0 else 'blue' for c in coefs[top_coefficients]]\n",
    "    plt.bar(np.arange(2 * top_features), coefs[top_coefficients], color=colors)\n",
    "    feature_names = np.array(feature_names)\n",
    "    plt.xticks(np.arange(0, 2 * top_features), feature_names[top_coefficients], rotation=60, ha='right')\n",
    "    plt.title(\"Meilleurs coefficients pour la classification binaire\")\n",
    "    plt.savefig('img/coefs_linear_svm.png')\n",
    "    plt.show()"
   ]
  },
  {
   "cell_type": "code",
   "execution_count": 13,
   "metadata": {},
   "outputs": [],
   "source": [
    "def canonizer(data, test_size=0.2, random_state=42, sampling=None, cross_validation=False, cv=5, kernel='rbf', nb_coef=20):\n",
    "    \n",
    "    df_results = pd.DataFrame()\n",
    "    \n",
    "    if cross_validation == True:\n",
    "        \n",
    "        pipe = make_pipeline(StandardScaler(), SVC(kernel=kernel, probability=True))\n",
    "        \n",
    "#scoring = 'accuracy' : 'precision' :  'recall' : 'f1' \n",
    "\n",
    "        #cv_results = cross_validate(pipe, data.drop(['canon'], axis=1), data['canon'], cv=cv, scoring='precision')\n",
    "        cv_results = cross_val_score(pipe, data.drop(['canon_auteur'], axis=1), data['canon_auteur'], cv=cv, scoring=make_scorer(classification_report_with_accuracy_score))\n",
    "        return pipe, cv_results\n",
    "    \n",
    "    else:\n",
    "        if kernel == 'rbf':\n",
    "            pipe = make_pipeline(StandardScaler(), Normalizer(), SVC(kernel=kernel, probability=True))\n",
    "        else:\n",
    "            pipe = make_pipeline(StandardScaler(), SVC(kernel=kernel, probability=True))\n",
    "    \n",
    "\n",
    "        X_train, X_test, y_train, y_test = train_test_split(data.drop(['canon_auteur'], axis=1), data['canon_auteur'], test_size=test_size, random_state=random_state)\n",
    "        print('Original dataset shape {}'.format(Counter(y_train)))\n",
    "        \n",
    "        if sampling is not None:     \n",
    "            if sampling == 'over':\n",
    "                ros = RandomOverSampler(random_state=10)\n",
    "                X_resampled, y_resampled = ros.fit_resample(X_train, y_train)\n",
    "                \n",
    "            elif sampling == 'svm':\n",
    "                sm = SVMSMOTE(random_state=10)\n",
    "                X_resampled, y_resampled = sm.fit_resample(X_train, y_train)\n",
    "                \n",
    "            elif sampling == 'under':\n",
    "                rus = RandomUnderSampler(random_state=10)\n",
    "                X_resampled, y_resampled = rus.fit_resample(X_train, y_train)\n",
    "                \n",
    "            elif sampling == \"smoteenn\":\n",
    "                smote_enn = SMOTEENN(random_state=10)\n",
    "                X_resampled, y_resampled = smote_enn.fit_resample(X_train, y_train)\n",
    "                \n",
    "            elif sampling == 'smotetomek':\n",
    "                smote_tomek = SMOTETomek(random_state=10)\n",
    "                X_resampled, y_resampled = smote_tomek.fit_resample(X_train, y_train)\n",
    "            \n",
    "            else:\n",
    "                print('Please follow the sampling possible values : over, under, smoteenn, smotetomek')\n",
    "                return\n",
    "                \n",
    "            print('Resampled dataset shape {}'.format(Counter(y_resampled)))\n",
    "        \n",
    "            pipe.fit(X_resampled, y_resampled)\n",
    "        \n",
    "        else:\n",
    "            pipe.fit(X_train, y_train)\n",
    "        \n",
    "        report = metrics.classification_report(y_test, pipe.predict(X_test), output_dict=True)\n",
    "        df_scores = pd.DataFrame(report).transpose()\n",
    "        print(df_scores)\n",
    "\n",
    "        _ = ConfusionMatrixDisplay.from_estimator(pipe, X_test, y_test)\n",
    "        \n",
    "        if kernel == 'linear':\n",
    "            coefs = pipe.named_steps['svc'].coef_\n",
    "            plot_coefficients(*coefs, data.columns, nb_coef)\n",
    "            \n",
    "        df_results['metadata'] = y_test\n",
    "        df_results['proba canon'] = pipe.predict_proba(X_test)[:,0]\n",
    "        df_results['proba non-canon'] = pipe.predict_proba(X_test)[:,1]\n",
    "        df_results['prediction']= pipe.predict(X_test)\n",
    "    \n",
    "        df_results['accord'] = [True if row['metadata'] == row['prediction'] else False for index, row in df_results.iterrows()]\n",
    "    \n",
    "    \n",
    "    return pipe, df_results, df_scores"
   ]
  },
  {
   "cell_type": "code",
   "execution_count": 7,
   "metadata": {},
   "outputs": [],
   "source": [
    "from sklearn.metrics import classification_report, accuracy_score, make_scorer\n",
    "\n",
    "def classification_report_with_accuracy_score(y_true, y_pred):\n",
    "    print(classification_report(y_true, y_pred))\n",
    "    return accuracy_score(y_true, y_pred)"
   ]
  },
  {
   "cell_type": "markdown",
   "metadata": {},
   "source": [
    "### Cross-Validation Size-Opti novel metadata"
   ]
  },
  {
   "cell_type": "code",
   "execution_count": 10,
   "metadata": {},
   "outputs": [
    {
     "data": {
      "text/plain": [
       "640"
      ]
     },
     "execution_count": 10,
     "metadata": {},
     "output_type": "execute_result"
    }
   ],
   "source": [
    "df_size_opti = pd.read_csv(r'data\\df_size_opti.csv')\n",
    "df_size_opti.set_index(\"index\", inplace = True)\n",
    "df_size_opti = df_size_opti.replace(np.nan, 0)\n",
    "len(df_size_opti)"
   ]
  },
  {
   "cell_type": "code",
   "execution_count": 8,
   "metadata": {},
   "outputs": [
    {
     "name": "stdout",
     "output_type": "stream",
     "text": [
      "non_canon    0.592187\n",
      "canon        0.407813\n",
      "Name: canon, dtype: float64\n",
      "non_canon    379\n",
      "canon        261\n",
      "Name: canon, dtype: int64\n"
     ]
    }
   ],
   "source": [
    "print(df_size_opti['canon'].value_counts(normalize=True))\n",
    "print(df_size_opti['canon'].value_counts())"
   ]
  },
  {
   "cell_type": "code",
   "execution_count": 99,
   "metadata": {},
   "outputs": [
    {
     "name": "stdout",
     "output_type": "stream",
     "text": [
      "              precision    recall  f1-score   support\n",
      "\n",
      "       canon       0.74      0.54      0.62        52\n",
      "   non_canon       0.73      0.87      0.80        76\n",
      "\n",
      "    accuracy                           0.73       128\n",
      "   macro avg       0.74      0.70      0.71       128\n",
      "weighted avg       0.73      0.73      0.72       128\n",
      "\n",
      "              precision    recall  f1-score   support\n",
      "\n",
      "       canon       0.66      0.52      0.58        52\n",
      "   non_canon       0.71      0.82      0.76        76\n",
      "\n",
      "    accuracy                           0.70       128\n",
      "   macro avg       0.69      0.67      0.67       128\n",
      "weighted avg       0.69      0.70      0.69       128\n",
      "\n",
      "              precision    recall  f1-score   support\n",
      "\n",
      "       canon       0.67      0.58      0.62        52\n",
      "   non_canon       0.73      0.80      0.77        76\n",
      "\n",
      "    accuracy                           0.71       128\n",
      "   macro avg       0.70      0.69      0.69       128\n",
      "weighted avg       0.71      0.71      0.71       128\n",
      "\n",
      "              precision    recall  f1-score   support\n",
      "\n",
      "       canon       0.90      0.69      0.78        52\n",
      "   non_canon       0.82      0.95      0.88        76\n",
      "\n",
      "    accuracy                           0.84       128\n",
      "   macro avg       0.86      0.82      0.83       128\n",
      "weighted avg       0.85      0.84      0.84       128\n",
      "\n",
      "              precision    recall  f1-score   support\n",
      "\n",
      "       canon       0.76      0.66      0.71        53\n",
      "   non_canon       0.78      0.85      0.82        75\n",
      "\n",
      "    accuracy                           0.77       128\n",
      "   macro avg       0.77      0.76      0.76       128\n",
      "weighted avg       0.77      0.77      0.77       128\n",
      "\n"
     ]
    }
   ],
   "source": [
    "pipe_novel_CV, scores_novel_CV = canonizer(df_size_opti, cross_validation=True)"
   ]
  },
  {
   "cell_type": "code",
   "execution_count": 100,
   "metadata": {},
   "outputs": [
    {
     "data": {
      "text/plain": [
       "array([0.734375 , 0.6953125, 0.7109375, 0.84375  , 0.7734375])"
      ]
     },
     "execution_count": 100,
     "metadata": {},
     "output_type": "execute_result"
    }
   ],
   "source": [
    "scores_novel_CV"
   ]
  },
  {
   "cell_type": "code",
   "execution_count": 102,
   "metadata": {},
   "outputs": [
    {
     "data": {
      "text/plain": [
       "0.7515625"
      ]
     },
     "execution_count": 102,
     "metadata": {},
     "output_type": "execute_result"
    }
   ],
   "source": [
    "sum(scores_novel_CV)/len(scores_novel_CV)"
   ]
  },
  {
   "cell_type": "markdown",
   "metadata": {},
   "source": [
    "### Cross-Validation author metadata"
   ]
  },
  {
   "cell_type": "code",
   "execution_count": 25,
   "metadata": {},
   "outputs": [],
   "source": [
    "df_fabula = pd.read_csv(r'data\\features_fabula.csv', index_col='index')\n",
    "df_fabula = df_fabula.replace(np.nan, 0)"
   ]
  },
  {
   "cell_type": "code",
   "execution_count": 42,
   "metadata": {},
   "outputs": [
    {
     "name": "stdout",
     "output_type": "stream",
     "text": [
      "False    0.609797\n",
      "True     0.390203\n",
      "Name: canon, dtype: float64\n",
      "False    1805\n",
      "True     1155\n",
      "Name: canon, dtype: int64\n"
     ]
    }
   ],
   "source": [
    "print(df_fabula['canon'].value_counts(normalize=True))\n",
    "print(df_fabula['canon'].value_counts())"
   ]
  },
  {
   "cell_type": "code",
   "execution_count": 103,
   "metadata": {},
   "outputs": [
    {
     "name": "stdout",
     "output_type": "stream",
     "text": [
      "              precision    recall  f1-score   support\n",
      "\n",
      "       False       0.93      0.92      0.92       361\n",
      "        True       0.88      0.89      0.88       231\n",
      "\n",
      "    accuracy                           0.91       592\n",
      "   macro avg       0.90      0.91      0.90       592\n",
      "weighted avg       0.91      0.91      0.91       592\n",
      "\n",
      "              precision    recall  f1-score   support\n",
      "\n",
      "       False       0.92      0.90      0.91       361\n",
      "        True       0.85      0.87      0.86       231\n",
      "\n",
      "    accuracy                           0.89       592\n",
      "   macro avg       0.89      0.89      0.89       592\n",
      "weighted avg       0.89      0.89      0.89       592\n",
      "\n",
      "              precision    recall  f1-score   support\n",
      "\n",
      "       False       0.91      0.92      0.92       361\n",
      "        True       0.88      0.86      0.87       231\n",
      "\n",
      "    accuracy                           0.90       592\n",
      "   macro avg       0.89      0.89      0.89       592\n",
      "weighted avg       0.90      0.90      0.90       592\n",
      "\n",
      "              precision    recall  f1-score   support\n",
      "\n",
      "       False       0.94      0.92      0.93       361\n",
      "        True       0.88      0.91      0.90       231\n",
      "\n",
      "    accuracy                           0.92       592\n",
      "   macro avg       0.91      0.92      0.91       592\n",
      "weighted avg       0.92      0.92      0.92       592\n",
      "\n",
      "              precision    recall  f1-score   support\n",
      "\n",
      "       False       0.94      0.89      0.92       361\n",
      "        True       0.84      0.91      0.88       231\n",
      "\n",
      "    accuracy                           0.90       592\n",
      "   macro avg       0.89      0.90      0.90       592\n",
      "weighted avg       0.90      0.90      0.90       592\n",
      "\n"
     ]
    }
   ],
   "source": [
    "pipe_fabula, scores_author_CV = canonizer(df_fabula, cross_validation=True)"
   ]
  },
  {
   "cell_type": "code",
   "execution_count": 104,
   "metadata": {},
   "outputs": [
    {
     "data": {
      "text/plain": [
       "0.9033783783783784"
      ]
     },
     "execution_count": 104,
     "metadata": {},
     "output_type": "execute_result"
    }
   ],
   "source": [
    "sum(scores_author_CV)/len(scores_author_CV)"
   ]
  },
  {
   "cell_type": "code",
   "execution_count": null,
   "metadata": {},
   "outputs": [],
   "source": []
  },
  {
   "cell_type": "code",
   "execution_count": null,
   "metadata": {},
   "outputs": [],
   "source": []
  },
  {
   "cell_type": "markdown",
   "metadata": {},
   "source": [
    "# Various tests but best models without cross-validation"
   ]
  },
  {
   "cell_type": "markdown",
   "metadata": {},
   "source": [
    "### Canonicity rate"
   ]
  },
  {
   "cell_type": "code",
   "execution_count": 17,
   "metadata": {},
   "outputs": [],
   "source": [
    "df_rate = pd.read_csv(r'data/df_features_canonicity_rate.csv')\n",
    "df_rate.set_index(\"index\", inplace = True)\n",
    "df_rate = df_rate.replace(np.nan, 0)"
   ]
  },
  {
   "cell_type": "code",
   "execution_count": 36,
   "metadata": {},
   "outputs": [
    {
     "name": "stdout",
     "output_type": "stream",
     "text": [
      "Original dataset shape Counter({0: 1567, 3: 863, 5: 189, 2: 45})\n",
      "              precision    recall  f1-score   support\n",
      "\n",
      "           0       0.90      0.93      0.92       187\n",
      "           2       0.00      0.00      0.00         6\n",
      "           3       0.68      0.83      0.75        82\n",
      "           5       1.00      0.14      0.25        21\n",
      "\n",
      "    accuracy                           0.83       296\n",
      "   macro avg       0.65      0.48      0.48       296\n",
      "weighted avg       0.83      0.83      0.80       296\n",
      "\n",
      "r2 : 60.1% \n",
      "mean_absolute_error :  0.43243243243243246\n",
      "mean_squared_error :  1.135135135135135\n",
      "root mean_squared_error :  1.065427207806866\n",
      "hand root mean_squared_error :  1.065427207806866\n"
     ]
    }
   ],
   "source": [
    "pipe_rate, df_results_rate = canonizer(df_rate, test_size=.1)"
   ]
  },
  {
   "cell_type": "code",
   "execution_count": 37,
   "metadata": {},
   "outputs": [
    {
     "name": "stdout",
     "output_type": "stream",
     "text": [
      "Original dataset shape Counter({0: 1567, 3: 863, 5: 189, 2: 45})\n",
      "Resampled dataset shape Counter({0: 1567, 3: 1567, 2: 1567, 5: 1567})\n",
      "              precision    recall  f1-score   support\n",
      "\n",
      "           0       0.92      0.93      0.92       187\n",
      "           2       0.00      0.00      0.00         6\n",
      "           3       0.71      0.82      0.76        82\n",
      "           5       0.67      0.38      0.48        21\n",
      "\n",
      "    accuracy                           0.84       296\n",
      "   macro avg       0.57      0.53      0.54       296\n",
      "weighted avg       0.82      0.84      0.83       296\n",
      "\n",
      "r2 : 62.7% \n",
      "mean_absolute_error :  0.40540540540540543\n",
      "mean_squared_error :  1.0608108108108107\n",
      "root mean_squared_error :  1.0299567033670933\n",
      "hand root mean_squared_error :  1.0299567033670933\n"
     ]
    }
   ],
   "source": [
    "pipe_rate2, df_results_rate2 = canonizer(df_rate, sampling='over', test_size=.1)"
   ]
  },
  {
   "cell_type": "code",
   "execution_count": null,
   "metadata": {},
   "outputs": [],
   "source": []
  },
  {
   "cell_type": "markdown",
   "metadata": {},
   "source": [
    "### features main metadata"
   ]
  },
  {
   "cell_type": "code",
   "execution_count": 6,
   "metadata": {},
   "outputs": [],
   "source": [
    "df_main = pd.read_csv(r'data\\features_canon.csv')\n",
    "df_main.set_index(\"index\", inplace = True)\n",
    "df_main = df_main.replace(np.nan, 0)"
   ]
  },
  {
   "cell_type": "code",
   "execution_count": 7,
   "metadata": {},
   "outputs": [
    {
     "data": {
      "text/plain": [
       "non_canon    0.911824\n",
       "canon        0.088176\n",
       "Name: canon, dtype: float64"
      ]
     },
     "execution_count": 7,
     "metadata": {},
     "output_type": "execute_result"
    }
   ],
   "source": [
    "df_main['canon'].value_counts(normalize=True)"
   ]
  },
  {
   "cell_type": "code",
   "execution_count": 7,
   "metadata": {},
   "outputs": [
    {
     "name": "stdout",
     "output_type": "stream",
     "text": [
      "Original dataset shape Counter({'non_canon': 2162, 'canon': 206})\n",
      "              precision    recall  f1-score   support\n",
      "\n",
      "       canon       1.00      0.09      0.17        55\n",
      "   non_canon       0.91      1.00      0.96       537\n",
      "\n",
      "    accuracy                           0.92       592\n",
      "   macro avg       0.96      0.55      0.56       592\n",
      "weighted avg       0.92      0.92      0.88       592\n",
      "\n"
     ]
    }
   ],
   "source": [
    "pipe_main, df_results_main = canonizer(df_main)"
   ]
  },
  {
   "cell_type": "code",
   "execution_count": 8,
   "metadata": {},
   "outputs": [
    {
     "data": {
      "text/html": [
       "<div>\n",
       "<style scoped>\n",
       "    .dataframe tbody tr th:only-of-type {\n",
       "        vertical-align: middle;\n",
       "    }\n",
       "\n",
       "    .dataframe tbody tr th {\n",
       "        vertical-align: top;\n",
       "    }\n",
       "\n",
       "    .dataframe thead th {\n",
       "        text-align: right;\n",
       "    }\n",
       "</style>\n",
       "<table border=\"1\" class=\"dataframe\">\n",
       "  <thead>\n",
       "    <tr style=\"text-align: right;\">\n",
       "      <th></th>\n",
       "      <th>metadata</th>\n",
       "      <th>proba canon</th>\n",
       "      <th>proba non-canon</th>\n",
       "      <th>prediction</th>\n",
       "      <th>accord</th>\n",
       "    </tr>\n",
       "    <tr>\n",
       "      <th>index</th>\n",
       "      <th></th>\n",
       "      <th></th>\n",
       "      <th></th>\n",
       "      <th></th>\n",
       "      <th></th>\n",
       "    </tr>\n",
       "  </thead>\n",
       "  <tbody>\n",
       "    <tr>\n",
       "      <th>1973_Vautrin-Jean_a-Bulletins-Rouges</th>\n",
       "      <td>non_canon</td>\n",
       "      <td>0.094963</td>\n",
       "      <td>0.905037</td>\n",
       "      <td>non_canon</td>\n",
       "      <td>True</td>\n",
       "    </tr>\n",
       "    <tr>\n",
       "      <th>1903_Chabrier-Rieder-Charlotte_Les-Enfants-du-Luxembourg</th>\n",
       "      <td>non_canon</td>\n",
       "      <td>0.021640</td>\n",
       "      <td>0.978360</td>\n",
       "      <td>non_canon</td>\n",
       "      <td>True</td>\n",
       "    </tr>\n",
       "    <tr>\n",
       "      <th>1879_Thuret-Mme-E._La-Guerre-au-chateau</th>\n",
       "      <td>non_canon</td>\n",
       "      <td>0.046761</td>\n",
       "      <td>0.953239</td>\n",
       "      <td>non_canon</td>\n",
       "      <td>True</td>\n",
       "    </tr>\n",
       "    <tr>\n",
       "      <th>1954_Reage-Pauline_Histoire-d-O</th>\n",
       "      <td>non_canon</td>\n",
       "      <td>0.197713</td>\n",
       "      <td>0.802287</td>\n",
       "      <td>non_canon</td>\n",
       "      <td>True</td>\n",
       "    </tr>\n",
       "    <tr>\n",
       "      <th>1928_Cami-Pierre-Henri_le-jugement-dernier</th>\n",
       "      <td>non_canon</td>\n",
       "      <td>0.031597</td>\n",
       "      <td>0.968403</td>\n",
       "      <td>non_canon</td>\n",
       "      <td>True</td>\n",
       "    </tr>\n",
       "    <tr>\n",
       "      <th>...</th>\n",
       "      <td>...</td>\n",
       "      <td>...</td>\n",
       "      <td>...</td>\n",
       "      <td>...</td>\n",
       "      <td>...</td>\n",
       "    </tr>\n",
       "    <tr>\n",
       "      <th>1869_Carraud-Zulma-Tourangin-Mme_Les-Gouters-de-la-grand-mere</th>\n",
       "      <td>non_canon</td>\n",
       "      <td>0.027756</td>\n",
       "      <td>0.972244</td>\n",
       "      <td>non_canon</td>\n",
       "      <td>True</td>\n",
       "    </tr>\n",
       "    <tr>\n",
       "      <th>1831_Signol-Alphonse-Macaire-Stanislas_Le-Chiffonnier_Tome-1</th>\n",
       "      <td>non_canon</td>\n",
       "      <td>0.073798</td>\n",
       "      <td>0.926202</td>\n",
       "      <td>non_canon</td>\n",
       "      <td>True</td>\n",
       "    </tr>\n",
       "    <tr>\n",
       "      <th>1950_Delly_Le-violon-du-tzigane</th>\n",
       "      <td>non_canon</td>\n",
       "      <td>0.020972</td>\n",
       "      <td>0.979028</td>\n",
       "      <td>non_canon</td>\n",
       "      <td>True</td>\n",
       "    </tr>\n",
       "    <tr>\n",
       "      <th>1975_Tournier-Michel_Les-Meteores</th>\n",
       "      <td>non_canon</td>\n",
       "      <td>0.257529</td>\n",
       "      <td>0.742471</td>\n",
       "      <td>non_canon</td>\n",
       "      <td>True</td>\n",
       "    </tr>\n",
       "    <tr>\n",
       "      <th>1862_Feval-Paul_Les-habits-noirs_Tome-I</th>\n",
       "      <td>non_canon</td>\n",
       "      <td>0.057534</td>\n",
       "      <td>0.942466</td>\n",
       "      <td>non_canon</td>\n",
       "      <td>True</td>\n",
       "    </tr>\n",
       "  </tbody>\n",
       "</table>\n",
       "<p>592 rows × 5 columns</p>\n",
       "</div>"
      ],
      "text/plain": [
       "                                                     metadata  proba canon  \\\n",
       "index                                                                        \n",
       "1973_Vautrin-Jean_a-Bulletins-Rouges                non_canon     0.094963   \n",
       "1903_Chabrier-Rieder-Charlotte_Les-Enfants-du-L...  non_canon     0.021640   \n",
       "1879_Thuret-Mme-E._La-Guerre-au-chateau             non_canon     0.046761   \n",
       "1954_Reage-Pauline_Histoire-d-O                     non_canon     0.197713   \n",
       "1928_Cami-Pierre-Henri_le-jugement-dernier          non_canon     0.031597   \n",
       "...                                                       ...          ...   \n",
       "1869_Carraud-Zulma-Tourangin-Mme_Les-Gouters-de...  non_canon     0.027756   \n",
       "1831_Signol-Alphonse-Macaire-Stanislas_Le-Chiff...  non_canon     0.073798   \n",
       "1950_Delly_Le-violon-du-tzigane                     non_canon     0.020972   \n",
       "1975_Tournier-Michel_Les-Meteores                   non_canon     0.257529   \n",
       "1862_Feval-Paul_Les-habits-noirs_Tome-I             non_canon     0.057534   \n",
       "\n",
       "                                                    proba non-canon  \\\n",
       "index                                                                 \n",
       "1973_Vautrin-Jean_a-Bulletins-Rouges                       0.905037   \n",
       "1903_Chabrier-Rieder-Charlotte_Les-Enfants-du-L...         0.978360   \n",
       "1879_Thuret-Mme-E._La-Guerre-au-chateau                    0.953239   \n",
       "1954_Reage-Pauline_Histoire-d-O                            0.802287   \n",
       "1928_Cami-Pierre-Henri_le-jugement-dernier                 0.968403   \n",
       "...                                                             ...   \n",
       "1869_Carraud-Zulma-Tourangin-Mme_Les-Gouters-de...         0.972244   \n",
       "1831_Signol-Alphonse-Macaire-Stanislas_Le-Chiff...         0.926202   \n",
       "1950_Delly_Le-violon-du-tzigane                            0.979028   \n",
       "1975_Tournier-Michel_Les-Meteores                          0.742471   \n",
       "1862_Feval-Paul_Les-habits-noirs_Tome-I                    0.942466   \n",
       "\n",
       "                                                   prediction  accord  \n",
       "index                                                                  \n",
       "1973_Vautrin-Jean_a-Bulletins-Rouges                non_canon    True  \n",
       "1903_Chabrier-Rieder-Charlotte_Les-Enfants-du-L...  non_canon    True  \n",
       "1879_Thuret-Mme-E._La-Guerre-au-chateau             non_canon    True  \n",
       "1954_Reage-Pauline_Histoire-d-O                     non_canon    True  \n",
       "1928_Cami-Pierre-Henri_le-jugement-dernier          non_canon    True  \n",
       "...                                                       ...     ...  \n",
       "1869_Carraud-Zulma-Tourangin-Mme_Les-Gouters-de...  non_canon    True  \n",
       "1831_Signol-Alphonse-Macaire-Stanislas_Le-Chiff...  non_canon    True  \n",
       "1950_Delly_Le-violon-du-tzigane                     non_canon    True  \n",
       "1975_Tournier-Michel_Les-Meteores                   non_canon    True  \n",
       "1862_Feval-Paul_Les-habits-noirs_Tome-I             non_canon    True  \n",
       "\n",
       "[592 rows x 5 columns]"
      ]
     },
     "execution_count": 8,
     "metadata": {},
     "output_type": "execute_result"
    }
   ],
   "source": [
    "df_results_main"
   ]
  },
  {
   "cell_type": "code",
   "execution_count": null,
   "metadata": {},
   "outputs": [],
   "source": []
  },
  {
   "cell_type": "markdown",
   "metadata": {},
   "source": [
    "### SIZE OPTI (4/6)"
   ]
  },
  {
   "cell_type": "code",
   "execution_count": 11,
   "metadata": {},
   "outputs": [
    {
     "data": {
      "text/plain": [
       "640"
      ]
     },
     "execution_count": 11,
     "metadata": {},
     "output_type": "execute_result"
    }
   ],
   "source": [
    "df_size_opti = pd.read_csv(r'data\\df_size_opti.csv')\n",
    "df_size_opti.set_index(\"index\", inplace = True)\n",
    "df_size_opti = df_size_opti.replace(np.nan, 0)\n",
    "len(df_size_opti)"
   ]
  },
  {
   "cell_type": "code",
   "execution_count": 9,
   "metadata": {},
   "outputs": [
    {
     "data": {
      "text/plain": [
       "non_canon    0.592187\n",
       "canon        0.407813\n",
       "Name: canon, dtype: float64"
      ]
     },
     "execution_count": 9,
     "metadata": {},
     "output_type": "execute_result"
    }
   ],
   "source": [
    "df_size_opti['canon'].value_counts(normalize=True)"
   ]
  },
  {
   "cell_type": "code",
   "execution_count": null,
   "metadata": {},
   "outputs": [],
   "source": []
  },
  {
   "cell_type": "code",
   "execution_count": 13,
   "metadata": {},
   "outputs": [
    {
     "name": "stdout",
     "output_type": "stream",
     "text": [
      "Original dataset shape Counter({'non_canon': 339, 'canon': 237})\n",
      "              precision    recall  f1-score   support\n",
      "\n",
      "       canon       0.65      0.71      0.68        24\n",
      "   non_canon       0.82      0.78      0.79        40\n",
      "\n",
      "    accuracy                           0.75        64\n",
      "   macro avg       0.73      0.74      0.74        64\n",
      "weighted avg       0.76      0.75      0.75        64\n",
      "\n"
     ]
    },
    {
     "data": {
      "image/png": "[encoded data removed]",
      "text/plain": [
       "<Figure size 432x288 with 2 Axes>"
      ]
     },
     "metadata": {
      "needs_background": "light"
     },
     "output_type": "display_data"
    }
   ],
   "source": [
    "pipe_size_opti, df_results_size_opti, scores_size_opti = canonizer(df_size_opti, test_size=0.1)"
   ]
  },
  {
   "cell_type": "code",
   "execution_count": null,
   "metadata": {},
   "outputs": [],
   "source": []
  },
  {
   "cell_type": "code",
   "execution_count": null,
   "metadata": {},
   "outputs": [],
   "source": []
  },
  {
   "cell_type": "code",
   "execution_count": 10,
   "metadata": {},
   "outputs": [],
   "source": [
    "df_master = df_size_opti.iloc[:,:300].merge(df_size_opti.iloc[:,1000:2300], on='index', how='left')\n",
    "df_master['canon']=df_size_opti['canon']"
   ]
  },
  {
   "cell_type": "code",
   "execution_count": 15,
   "metadata": {},
   "outputs": [
    {
     "name": "stdout",
     "output_type": "stream",
     "text": [
      "Original dataset shape Counter({'non_canon': 339, 'canon': 237})\n",
      "Resampled dataset shape Counter({'non_canon': 339, 'canon': 339})\n",
      "              precision    recall  f1-score   support\n",
      "\n",
      "       canon       0.63      0.71      0.67        24\n",
      "   non_canon       0.81      0.75      0.78        40\n",
      "\n",
      "    accuracy                           0.73        64\n",
      "   macro avg       0.72      0.73      0.72        64\n",
      "weighted avg       0.74      0.73      0.74        64\n",
      "\n"
     ]
    },
    {
     "data": {
      "image/png": "[encoded data removed]",
      "text/plain": [
       "<Figure size 1080x360 with 1 Axes>"
      ]
     },
     "metadata": {
      "needs_background": "light"
     },
     "output_type": "display_data"
    }
   ],
   "source": [
    "pipe_size_opti_linear, df_results_size_opti_linear = canonizer(df_master, test_size=0.1, kernel='linear', sampling='over')"
   ]
  },
  {
   "cell_type": "code",
   "execution_count": 146,
   "metadata": {},
   "outputs": [
    {
     "name": "stdout",
     "output_type": "stream",
     "text": [
      "Original dataset shape Counter({'non_canon': 339, 'canon': 237})\n",
      "Resampled dataset shape Counter({'non_canon': 339, 'canon': 339})\n",
      "              precision    recall  f1-score   support\n",
      "\n",
      "       canon       0.62      0.62      0.62        24\n",
      "   non_canon       0.78      0.78      0.78        40\n",
      "\n",
      "    accuracy                           0.72        64\n",
      "   macro avg       0.70      0.70      0.70        64\n",
      "weighted avg       0.72      0.72      0.72        64\n",
      "\n"
     ]
    },
    {
     "data": {
      "image/png": "[encoded data removed]",
      "text/plain": [
       "<Figure size 1080x360 with 1 Axes>"
      ]
     },
     "metadata": {
      "needs_background": "light"
     },
     "output_type": "display_data"
    }
   ],
   "source": [
    "pipe_size_opti_linear, df_results_size_opti_linear = canonizer(df_size_opti, test_size=0.1, kernel='linear', sampling='over')"
   ]
  },
  {
   "cell_type": "code",
   "execution_count": null,
   "metadata": {},
   "outputs": [],
   "source": []
  },
  {
   "cell_type": "code",
   "execution_count": null,
   "metadata": {},
   "outputs": [],
   "source": []
  },
  {
   "cell_type": "code",
   "execution_count": 16,
   "metadata": {},
   "outputs": [],
   "source": [
    "df_main_balanced = pd.read_csv(r'data\\features_balanced.csv')\n",
    "df_main_balanced.set_index(\"index\", inplace = True)\n",
    "df_main_balanced = df_main_balanced.replace(np.nan, 0)"
   ]
  },
  {
   "cell_type": "code",
   "execution_count": 17,
   "metadata": {},
   "outputs": [
    {
     "name": "stdout",
     "output_type": "stream",
     "text": [
      "Original dataset shape Counter({'non_canon': 209, 'canon': 208})\n",
      "              precision    recall  f1-score   support\n",
      "\n",
      "       canon       0.70      0.87      0.77        53\n",
      "   non_canon       0.82      0.62      0.70        52\n",
      "\n",
      "    accuracy                           0.74       105\n",
      "   macro avg       0.76      0.74      0.74       105\n",
      "weighted avg       0.76      0.74      0.74       105\n",
      "\n"
     ]
    }
   ],
   "source": [
    "pipe_size_opti, df_results_size_opti = canonizer(df_main_balanced)"
   ]
  },
  {
   "cell_type": "code",
   "execution_count": 20,
   "metadata": {},
   "outputs": [
    {
     "name": "stdout",
     "output_type": "stream",
     "text": [
      "Original dataset shape Counter({'non_canon': 297, 'canon': 215})\n",
      "              precision    recall  f1-score   support\n",
      "\n",
      "       canon       0.64      0.74      0.69        46\n",
      "   non_canon       0.84      0.77      0.80        82\n",
      "\n",
      "    accuracy                           0.76       128\n",
      "   macro avg       0.74      0.75      0.74       128\n",
      "weighted avg       0.77      0.76      0.76       128\n",
      "\n"
     ]
    }
   ],
   "source": [
    "pipe_size_opti, df_results_size_opti = canonizer(df_size_opti)"
   ]
  },
  {
   "cell_type": "code",
   "execution_count": 50,
   "metadata": {},
   "outputs": [
    {
     "name": "stdout",
     "output_type": "stream",
     "text": [
      "Original dataset shape Counter({'non_canon': 297, 'canon': 215})\n",
      "Resampled dataset shape Counter({'canon': 297, 'non_canon': 297})\n",
      "              precision    recall  f1-score   support\n",
      "\n",
      "       canon       0.79      0.57      0.66        46\n",
      "   non_canon       0.79      0.91      0.85        82\n",
      "\n",
      "    accuracy                           0.79       128\n",
      "   macro avg       0.79      0.74      0.75       128\n",
      "weighted avg       0.79      0.79      0.78       128\n",
      "\n"
     ]
    }
   ],
   "source": [
    "pipe_size_opti_over_sampled, df_results_size_opti_over_sampled = canonizer(df_size_opti, kernel='poly', sampling='over')"
   ]
  },
  {
   "cell_type": "code",
   "execution_count": 31,
   "metadata": {},
   "outputs": [],
   "source": [
    "df_results_size_opti_over_sampled.to_csv(r'results_svm/results_svm_main.csv', index=True)"
   ]
  },
  {
   "cell_type": "code",
   "execution_count": 27,
   "metadata": {},
   "outputs": [
    {
     "name": "stdout",
     "output_type": "stream",
     "text": [
      "Original dataset shape Counter({'non_canon': 297, 'canon': 215})\n",
      "Resampled dataset shape Counter({'canon': 297, 'non_canon': 297})\n",
      "              precision    recall  f1-score   support\n",
      "\n",
      "       canon       0.64      0.63      0.64        46\n",
      "   non_canon       0.80      0.80      0.80        82\n",
      "\n",
      "    accuracy                           0.74       128\n",
      "   macro avg       0.72      0.72      0.72       128\n",
      "weighted avg       0.74      0.74      0.74       128\n",
      "\n"
     ]
    }
   ],
   "source": [
    "pipe_size_opti_over_sampled, df_results_size_opti_over_sampled = canonizer(df_size_opti, kernel='poly', sampling='over')"
   ]
  },
  {
   "cell_type": "code",
   "execution_count": null,
   "metadata": {},
   "outputs": [],
   "source": []
  },
  {
   "cell_type": "code",
   "execution_count": null,
   "metadata": {},
   "outputs": [],
   "source": []
  },
  {
   "cell_type": "markdown",
   "metadata": {},
   "source": [
    "### Cross_validation"
   ]
  },
  {
   "cell_type": "code",
   "execution_count": 35,
   "metadata": {},
   "outputs": [],
   "source": [
    "pipe_size_opti_cv, df_results_size_opti_cv = canonizer(df_size_opti, cross_validation=True)"
   ]
  },
  {
   "cell_type": "code",
   "execution_count": 32,
   "metadata": {},
   "outputs": [
    {
     "data": {
      "text/plain": [
       "{'fit_time': array([6.07348347, 6.24646616, 4.64034796, 4.15130806, 5.79043245]),\n",
       " 'score_time': array([0.31302357, 0.3550272 , 0.36602855, 0.29302025, 0.29602242]),\n",
       " 'test_score': array([0.734375 , 0.6953125, 0.7109375, 0.84375  , 0.7734375])}"
      ]
     },
     "execution_count": 32,
     "metadata": {},
     "output_type": "execute_result"
    }
   ],
   "source": [
    "df_results_size_opti_cv"
   ]
  },
  {
   "cell_type": "code",
   "execution_count": 34,
   "metadata": {},
   "outputs": [
    {
     "data": {
      "text/plain": [
       "0.7515625"
      ]
     },
     "execution_count": 34,
     "metadata": {},
     "output_type": "execute_result"
    }
   ],
   "source": [
    "sum(df_results_size_opti_cv['test_score'])/len(df_results_size_opti_cv['test_score'])"
   ]
  },
  {
   "cell_type": "code",
   "execution_count": null,
   "metadata": {},
   "outputs": [],
   "source": []
  },
  {
   "cell_type": "code",
   "execution_count": null,
   "metadata": {},
   "outputs": [],
   "source": []
  },
  {
   "cell_type": "code",
   "execution_count": 153,
   "metadata": {},
   "outputs": [],
   "source": [
    "lists_canonique = list(df_fabula['canon'])"
   ]
  },
  {
   "cell_type": "code",
   "execution_count": 158,
   "metadata": {},
   "outputs": [],
   "source": [
    "df_1000 = df_fabula.iloc[:, :1000]"
   ]
  },
  {
   "cell_type": "code",
   "execution_count": 159,
   "metadata": {},
   "outputs": [],
   "source": [
    "df_1000['canon']=lists_canonique"
   ]
  },
  {
   "cell_type": "code",
   "execution_count": 161,
   "metadata": {},
   "outputs": [
    {
     "name": "stdout",
     "output_type": "stream",
     "text": [
      "Original dataset shape Counter({False: 1425, True: 943})\n",
      "Resampled dataset shape Counter({True: 1425, False: 1425})\n",
      "              precision    recall  f1-score   support\n",
      "\n",
      "       False       0.92      0.88      0.90       380\n",
      "        True       0.80      0.87      0.83       212\n",
      "\n",
      "    accuracy                           0.88       592\n",
      "   macro avg       0.86      0.87      0.87       592\n",
      "weighted avg       0.88      0.88      0.88       592\n",
      "\n"
     ]
    }
   ],
   "source": [
    "pipe_test, df_results_test = canonizer(df_100, sampling='over')"
   ]
  },
  {
   "cell_type": "code",
   "execution_count": 162,
   "metadata": {},
   "outputs": [
    {
     "name": "stdout",
     "output_type": "stream",
     "text": [
      "Original dataset shape Counter({False: 1425, True: 943})\n",
      "Resampled dataset shape Counter({True: 1425, False: 1425})\n",
      "              precision    recall  f1-score   support\n",
      "\n",
      "       False       0.93      0.91      0.92       380\n",
      "        True       0.84      0.87      0.86       212\n",
      "\n",
      "    accuracy                           0.90       592\n",
      "   macro avg       0.88      0.89      0.89       592\n",
      "weighted avg       0.90      0.90      0.90       592\n",
      "\n"
     ]
    }
   ],
   "source": [
    "pipe_test, df_results_test = canonizer(df_1000, sampling='over')"
   ]
  },
  {
   "cell_type": "code",
   "execution_count": 156,
   "metadata": {},
   "outputs": [
    {
     "name": "stdout",
     "output_type": "stream",
     "text": [
      "Original dataset shape Counter({'non_canon': 297, 'canon': 215})\n",
      "              precision    recall  f1-score   support\n",
      "\n",
      "       canon       0.60      0.80      0.69        46\n",
      "   non_canon       0.86      0.70      0.77        82\n",
      "\n",
      "    accuracy                           0.73       128\n",
      "   macro avg       0.73      0.75      0.73       128\n",
      "weighted avg       0.77      0.73      0.74       128\n",
      "\n"
     ]
    }
   ],
   "source": [
    "pipe_test, df_results_test = canonizer(df_1000)"
   ]
  },
  {
   "cell_type": "code",
   "execution_count": 59,
   "metadata": {},
   "outputs": [
    {
     "name": "stdout",
     "output_type": "stream",
     "text": [
      "Original dataset shape Counter({'non_canon': 297, 'canon': 215})\n",
      "              precision    recall  f1-score   support\n",
      "\n",
      "       canon       0.55      0.72      0.62        46\n",
      "   non_canon       0.81      0.67      0.73        82\n",
      "\n",
      "    accuracy                           0.69       128\n",
      "   macro avg       0.68      0.69      0.68       128\n",
      "weighted avg       0.72      0.69      0.69       128\n",
      "\n"
     ]
    }
   ],
   "source": [
    "pipe_test, df_results_test = canonizer(df_100)"
   ]
  },
  {
   "cell_type": "code",
   "execution_count": null,
   "metadata": {},
   "outputs": [],
   "source": []
  },
  {
   "cell_type": "markdown",
   "metadata": {},
   "source": [
    "### Load df features one txt one author main metadata"
   ]
  },
  {
   "cell_type": "code",
   "execution_count": 60,
   "metadata": {},
   "outputs": [],
   "source": [
    "df_main_ones = pd.read_csv(r'data\\df_main_ones.csv')\n",
    "df_main_ones.set_index(\"Unnamed: 0\", inplace = True)\n",
    "df_main_ones = df_main_ones.replace(np.nan, 0)"
   ]
  },
  {
   "cell_type": "code",
   "execution_count": 140,
   "metadata": {},
   "outputs": [
    {
     "data": {
      "text/plain": [
       "134"
      ]
     },
     "execution_count": 140,
     "metadata": {},
     "output_type": "execute_result"
    }
   ],
   "source": [
    "len(df_main_ones)"
   ]
  },
  {
   "cell_type": "code",
   "execution_count": 61,
   "metadata": {},
   "outputs": [
    {
     "data": {
      "text/plain": [
       "non_canon    0.574627\n",
       "canon        0.425373\n",
       "Name: canon, dtype: float64"
      ]
     },
     "execution_count": 61,
     "metadata": {},
     "output_type": "execute_result"
    }
   ],
   "source": [
    "df_main_ones['canon'].value_counts(normalize=True)"
   ]
  },
  {
   "cell_type": "code",
   "execution_count": 112,
   "metadata": {},
   "outputs": [
    {
     "name": "stdout",
     "output_type": "stream",
     "text": [
      "Original dataset shape Counter({'non_canon': 60, 'canon': 47})\n",
      "              precision    recall  f1-score   support\n",
      "\n",
      "       canon       0.58      0.70      0.64        10\n",
      "   non_canon       0.80      0.71      0.75        17\n",
      "\n",
      "    accuracy                           0.70        27\n",
      "   macro avg       0.69      0.70      0.69        27\n",
      "weighted avg       0.72      0.70      0.71        27\n",
      "\n"
     ]
    }
   ],
   "source": [
    "pipe_main_ones, df_results_main_ones = canonizer(df_main_ones)"
   ]
  },
  {
   "cell_type": "code",
   "execution_count": null,
   "metadata": {},
   "outputs": [],
   "source": []
  },
  {
   "cell_type": "code",
   "execution_count": 195,
   "metadata": {},
   "outputs": [
    {
     "data": {
      "text/html": [
       "<div>\n",
       "<style scoped>\n",
       "    .dataframe tbody tr th:only-of-type {\n",
       "        vertical-align: middle;\n",
       "    }\n",
       "\n",
       "    .dataframe tbody tr th {\n",
       "        vertical-align: top;\n",
       "    }\n",
       "\n",
       "    .dataframe thead th {\n",
       "        text-align: right;\n",
       "    }\n",
       "</style>\n",
       "<table border=\"1\" class=\"dataframe\">\n",
       "  <thead>\n",
       "    <tr style=\"text-align: right;\">\n",
       "      <th></th>\n",
       "      <th>metadata</th>\n",
       "      <th>proba canon</th>\n",
       "      <th>proba non-canon</th>\n",
       "      <th>prediction</th>\n",
       "      <th>accord</th>\n",
       "    </tr>\n",
       "    <tr>\n",
       "      <th>Unnamed: 0</th>\n",
       "      <th></th>\n",
       "      <th></th>\n",
       "      <th></th>\n",
       "      <th></th>\n",
       "      <th></th>\n",
       "    </tr>\n",
       "  </thead>\n",
       "  <tbody>\n",
       "    <tr>\n",
       "      <th>1863_Roy-Just-Jean-Etienne_Un-tableau-de-la-Sainte-Vierge</th>\n",
       "      <td>non_canon</td>\n",
       "      <td>0.366259</td>\n",
       "      <td>0.633741</td>\n",
       "      <td>non_canon</td>\n",
       "      <td>True</td>\n",
       "    </tr>\n",
       "    <tr>\n",
       "      <th>1950_Duras-Marguerite_Un-barrage-contre-le-Pacifique</th>\n",
       "      <td>canon</td>\n",
       "      <td>0.713165</td>\n",
       "      <td>0.286835</td>\n",
       "      <td>canon</td>\n",
       "      <td>True</td>\n",
       "    </tr>\n",
       "    <tr>\n",
       "      <th>1876_Escoffier-Henri_Les-femmes-fatales</th>\n",
       "      <td>non_canon</td>\n",
       "      <td>0.114960</td>\n",
       "      <td>0.885040</td>\n",
       "      <td>non_canon</td>\n",
       "      <td>True</td>\n",
       "    </tr>\n",
       "    <tr>\n",
       "      <th>2010_Houellebecq-Michel_La-Carte-et-le-territoire</th>\n",
       "      <td>canon</td>\n",
       "      <td>0.726449</td>\n",
       "      <td>0.273551</td>\n",
       "      <td>canon</td>\n",
       "      <td>True</td>\n",
       "    </tr>\n",
       "    <tr>\n",
       "      <th>1864_Prost-Lacuzon-Jules_La-Tour-aux-viperes-chronique-jurassienne-du-XVe-siecle</th>\n",
       "      <td>non_canon</td>\n",
       "      <td>0.232924</td>\n",
       "      <td>0.767076</td>\n",
       "      <td>non_canon</td>\n",
       "      <td>True</td>\n",
       "    </tr>\n",
       "    <tr>\n",
       "      <th>1969_Marceau-Felicien_Creezy</th>\n",
       "      <td>canon</td>\n",
       "      <td>0.728662</td>\n",
       "      <td>0.271338</td>\n",
       "      <td>canon</td>\n",
       "      <td>True</td>\n",
       "    </tr>\n",
       "    <tr>\n",
       "      <th>2013_Fournel-Paul_La-Liseuse</th>\n",
       "      <td>non_canon</td>\n",
       "      <td>0.553278</td>\n",
       "      <td>0.446722</td>\n",
       "      <td>canon</td>\n",
       "      <td>False</td>\n",
       "    </tr>\n",
       "    <tr>\n",
       "      <th>1923_Radiguet-Raymond_Le-diable-au-corps</th>\n",
       "      <td>canon</td>\n",
       "      <td>0.662694</td>\n",
       "      <td>0.337306</td>\n",
       "      <td>canon</td>\n",
       "      <td>True</td>\n",
       "    </tr>\n",
       "    <tr>\n",
       "      <th>1907_Moselly-Emile_Terres-lorraines</th>\n",
       "      <td>canon</td>\n",
       "      <td>0.695754</td>\n",
       "      <td>0.304246</td>\n",
       "      <td>canon</td>\n",
       "      <td>True</td>\n",
       "    </tr>\n",
       "    <tr>\n",
       "      <th>1904_Fournier-Jules_Le-crime-de-Lachine</th>\n",
       "      <td>non_canon</td>\n",
       "      <td>0.358549</td>\n",
       "      <td>0.641451</td>\n",
       "      <td>non_canon</td>\n",
       "      <td>True</td>\n",
       "    </tr>\n",
       "    <tr>\n",
       "      <th>1998_Constant-Paule_Confidence-pour-confidence</th>\n",
       "      <td>canon</td>\n",
       "      <td>0.835575</td>\n",
       "      <td>0.164425</td>\n",
       "      <td>canon</td>\n",
       "      <td>True</td>\n",
       "    </tr>\n",
       "    <tr>\n",
       "      <th>1913_Alain-Fournier_Le-grand-Meaulnes</th>\n",
       "      <td>canon</td>\n",
       "      <td>0.611161</td>\n",
       "      <td>0.388839</td>\n",
       "      <td>canon</td>\n",
       "      <td>True</td>\n",
       "    </tr>\n",
       "    <tr>\n",
       "      <th>1846_Mme-Tarbe-Des-Sablons_Isabelle</th>\n",
       "      <td>canon</td>\n",
       "      <td>0.174600</td>\n",
       "      <td>0.825400</td>\n",
       "      <td>non_canon</td>\n",
       "      <td>False</td>\n",
       "    </tr>\n",
       "    <tr>\n",
       "      <th>1883_Fere-Octave_Les-Mysteres-du-Louvre</th>\n",
       "      <td>non_canon</td>\n",
       "      <td>0.197272</td>\n",
       "      <td>0.802728</td>\n",
       "      <td>non_canon</td>\n",
       "      <td>True</td>\n",
       "    </tr>\n",
       "    <tr>\n",
       "      <th>1883_Sirven-Alfred_La-Bigame-roman-contemporain</th>\n",
       "      <td>non_canon</td>\n",
       "      <td>0.071581</td>\n",
       "      <td>0.928419</td>\n",
       "      <td>non_canon</td>\n",
       "      <td>True</td>\n",
       "    </tr>\n",
       "    <tr>\n",
       "      <th>1879_Saint-François-Leon_L-Saint-François-Vieux-peches-scenes-parisiennes</th>\n",
       "      <td>non_canon</td>\n",
       "      <td>0.220197</td>\n",
       "      <td>0.779803</td>\n",
       "      <td>non_canon</td>\n",
       "      <td>True</td>\n",
       "    </tr>\n",
       "    <tr>\n",
       "      <th>1901_Lorrain-Jean_Monsieur-de-Phocas-Astarta--Roman</th>\n",
       "      <td>non_canon</td>\n",
       "      <td>0.717857</td>\n",
       "      <td>0.282143</td>\n",
       "      <td>canon</td>\n",
       "      <td>False</td>\n",
       "    </tr>\n",
       "    <tr>\n",
       "      <th>1900_Philippe-Charles-Louis_La-mere-et-l-enfant</th>\n",
       "      <td>non_canon</td>\n",
       "      <td>0.582590</td>\n",
       "      <td>0.417410</td>\n",
       "      <td>canon</td>\n",
       "      <td>False</td>\n",
       "    </tr>\n",
       "    <tr>\n",
       "      <th>1889_Coppee-François_Henriette</th>\n",
       "      <td>non_canon</td>\n",
       "      <td>0.424099</td>\n",
       "      <td>0.575901</td>\n",
       "      <td>non_canon</td>\n",
       "      <td>True</td>\n",
       "    </tr>\n",
       "    <tr>\n",
       "      <th>1854_Barthelemy-Charles_Histoire-de-la-Bretagne-ancienne-et-moderne</th>\n",
       "      <td>non_canon</td>\n",
       "      <td>0.432158</td>\n",
       "      <td>0.567842</td>\n",
       "      <td>non_canon</td>\n",
       "      <td>True</td>\n",
       "    </tr>\n",
       "    <tr>\n",
       "      <th>1968_Guy-Des-Cars_La-revoltee</th>\n",
       "      <td>non_canon</td>\n",
       "      <td>0.620004</td>\n",
       "      <td>0.379996</td>\n",
       "      <td>canon</td>\n",
       "      <td>False</td>\n",
       "    </tr>\n",
       "  </tbody>\n",
       "</table>\n",
       "</div>"
      ],
      "text/plain": [
       "                                                     metadata  proba canon  \\\n",
       "Unnamed: 0                                                                   \n",
       "1863_Roy-Just-Jean-Etienne_Un-tableau-de-la-Sai...  non_canon     0.366259   \n",
       "1950_Duras-Marguerite_Un-barrage-contre-le-Paci...      canon     0.713165   \n",
       "1876_Escoffier-Henri_Les-femmes-fatales             non_canon     0.114960   \n",
       "2010_Houellebecq-Michel_La-Carte-et-le-territoire       canon     0.726449   \n",
       "1864_Prost-Lacuzon-Jules_La-Tour-aux-viperes-ch...  non_canon     0.232924   \n",
       "1969_Marceau-Felicien_Creezy                            canon     0.728662   \n",
       "2013_Fournel-Paul_La-Liseuse                        non_canon     0.553278   \n",
       "1923_Radiguet-Raymond_Le-diable-au-corps                canon     0.662694   \n",
       "1907_Moselly-Emile_Terres-lorraines                     canon     0.695754   \n",
       "1904_Fournier-Jules_Le-crime-de-Lachine             non_canon     0.358549   \n",
       "1998_Constant-Paule_Confidence-pour-confidence          canon     0.835575   \n",
       "1913_Alain-Fournier_Le-grand-Meaulnes                   canon     0.611161   \n",
       "1846_Mme-Tarbe-Des-Sablons_Isabelle                     canon     0.174600   \n",
       "1883_Fere-Octave_Les-Mysteres-du-Louvre             non_canon     0.197272   \n",
       "1883_Sirven-Alfred_La-Bigame-roman-contemporain     non_canon     0.071581   \n",
       "1879_Saint-François-Leon_L-Saint-François-Vieux...  non_canon     0.220197   \n",
       "1901_Lorrain-Jean_Monsieur-de-Phocas-Astarta--R...  non_canon     0.717857   \n",
       "1900_Philippe-Charles-Louis_La-mere-et-l-enfant     non_canon     0.582590   \n",
       "1889_Coppee-François_Henriette                      non_canon     0.424099   \n",
       "1854_Barthelemy-Charles_Histoire-de-la-Bretagne...  non_canon     0.432158   \n",
       "1968_Guy-Des-Cars_La-revoltee                       non_canon     0.620004   \n",
       "\n",
       "                                                    proba non-canon  \\\n",
       "Unnamed: 0                                                            \n",
       "1863_Roy-Just-Jean-Etienne_Un-tableau-de-la-Sai...         0.633741   \n",
       "1950_Duras-Marguerite_Un-barrage-contre-le-Paci...         0.286835   \n",
       "1876_Escoffier-Henri_Les-femmes-fatales                    0.885040   \n",
       "2010_Houellebecq-Michel_La-Carte-et-le-territoire          0.273551   \n",
       "1864_Prost-Lacuzon-Jules_La-Tour-aux-viperes-ch...         0.767076   \n",
       "1969_Marceau-Felicien_Creezy                               0.271338   \n",
       "2013_Fournel-Paul_La-Liseuse                               0.446722   \n",
       "1923_Radiguet-Raymond_Le-diable-au-corps                   0.337306   \n",
       "1907_Moselly-Emile_Terres-lorraines                        0.304246   \n",
       "1904_Fournier-Jules_Le-crime-de-Lachine                    0.641451   \n",
       "1998_Constant-Paule_Confidence-pour-confidence             0.164425   \n",
       "1913_Alain-Fournier_Le-grand-Meaulnes                      0.388839   \n",
       "1846_Mme-Tarbe-Des-Sablons_Isabelle                        0.825400   \n",
       "1883_Fere-Octave_Les-Mysteres-du-Louvre                    0.802728   \n",
       "1883_Sirven-Alfred_La-Bigame-roman-contemporain            0.928419   \n",
       "1879_Saint-François-Leon_L-Saint-François-Vieux...         0.779803   \n",
       "1901_Lorrain-Jean_Monsieur-de-Phocas-Astarta--R...         0.282143   \n",
       "1900_Philippe-Charles-Louis_La-mere-et-l-enfant            0.417410   \n",
       "1889_Coppee-François_Henriette                             0.575901   \n",
       "1854_Barthelemy-Charles_Histoire-de-la-Bretagne...         0.567842   \n",
       "1968_Guy-Des-Cars_La-revoltee                              0.379996   \n",
       "\n",
       "                                                   prediction  accord  \n",
       "Unnamed: 0                                                             \n",
       "1863_Roy-Just-Jean-Etienne_Un-tableau-de-la-Sai...  non_canon    True  \n",
       "1950_Duras-Marguerite_Un-barrage-contre-le-Paci...      canon    True  \n",
       "1876_Escoffier-Henri_Les-femmes-fatales             non_canon    True  \n",
       "2010_Houellebecq-Michel_La-Carte-et-le-territoire       canon    True  \n",
       "1864_Prost-Lacuzon-Jules_La-Tour-aux-viperes-ch...  non_canon    True  \n",
       "1969_Marceau-Felicien_Creezy                            canon    True  \n",
       "2013_Fournel-Paul_La-Liseuse                            canon   False  \n",
       "1923_Radiguet-Raymond_Le-diable-au-corps                canon    True  \n",
       "1907_Moselly-Emile_Terres-lorraines                     canon    True  \n",
       "1904_Fournier-Jules_Le-crime-de-Lachine             non_canon    True  \n",
       "1998_Constant-Paule_Confidence-pour-confidence          canon    True  \n",
       "1913_Alain-Fournier_Le-grand-Meaulnes                   canon    True  \n",
       "1846_Mme-Tarbe-Des-Sablons_Isabelle                 non_canon   False  \n",
       "1883_Fere-Octave_Les-Mysteres-du-Louvre             non_canon    True  \n",
       "1883_Sirven-Alfred_La-Bigame-roman-contemporain     non_canon    True  \n",
       "1879_Saint-François-Leon_L-Saint-François-Vieux...  non_canon    True  \n",
       "1901_Lorrain-Jean_Monsieur-de-Phocas-Astarta--R...      canon   False  \n",
       "1900_Philippe-Charles-Louis_La-mere-et-l-enfant         canon   False  \n",
       "1889_Coppee-François_Henriette                      non_canon    True  \n",
       "1854_Barthelemy-Charles_Histoire-de-la-Bretagne...  non_canon    True  \n",
       "1968_Guy-Des-Cars_La-revoltee                           canon   False  "
      ]
     },
     "execution_count": 195,
     "metadata": {},
     "output_type": "execute_result"
    }
   ],
   "source": [
    "df_results_main_ones"
   ]
  },
  {
   "cell_type": "code",
   "execution_count": null,
   "metadata": {},
   "outputs": [],
   "source": []
  },
  {
   "cell_type": "markdown",
   "metadata": {},
   "source": [
    "### Load df features fabula metadata"
   ]
  },
  {
   "cell_type": "code",
   "execution_count": 32,
   "metadata": {},
   "outputs": [],
   "source": [
    "df_fabula = pd.read_csv(r'data\\features_fabula.csv', index_col='index')\n",
    "df_fabula = df_fabula.replace(np.nan, 0)"
   ]
  },
  {
   "cell_type": "code",
   "execution_count": 22,
   "metadata": {},
   "outputs": [
    {
     "data": {
      "text/plain": [
       "False    0.609797\n",
       "True     0.390203\n",
       "Name: canon, dtype: float64"
      ]
     },
     "execution_count": 22,
     "metadata": {},
     "output_type": "execute_result"
    }
   ],
   "source": [
    "df_fabula['canon'].value_counts(normalize=True)"
   ]
  },
  {
   "cell_type": "code",
   "execution_count": 23,
   "metadata": {},
   "outputs": [
    {
     "name": "stdout",
     "output_type": "stream",
     "text": [
      "Original dataset shape Counter({False: 1613, True: 1051})\n",
      "Resampled dataset shape Counter({False: 1613, True: 1613})\n",
      "              precision    recall  f1-score   support\n",
      "\n",
      "       False       0.95      0.93      0.94       192\n",
      "        True       0.88      0.90      0.89       104\n",
      "\n",
      "    accuracy                           0.92       296\n",
      "   macro avg       0.91      0.92      0.92       296\n",
      "weighted avg       0.92      0.92      0.92       296\n",
      "\n"
     ]
    }
   ],
   "source": [
    "pipe_fabula, df_results_fabula = canonizer(df_fabula, sampling='over', test_size=0.1)"
   ]
  },
  {
   "cell_type": "code",
   "execution_count": 36,
   "metadata": {},
   "outputs": [],
   "source": [
    "df_results_fabula.rename(columns = {'proba canon':'proba non-canon', 'proba non-canon':'proba canon'}, inplace = True)"
   ]
  },
  {
   "cell_type": "code",
   "execution_count": 37,
   "metadata": {},
   "outputs": [],
   "source": [
    "df_results_fabula.to_csv(r'results_svm/results_svm_fabula.csv', index=True)"
   ]
  },
  {
   "cell_type": "code",
   "execution_count": null,
   "metadata": {},
   "outputs": [],
   "source": []
  },
  {
   "cell_type": "code",
   "execution_count": null,
   "metadata": {},
   "outputs": [],
   "source": []
  },
  {
   "cell_type": "code",
   "execution_count": null,
   "metadata": {},
   "outputs": [],
   "source": []
  },
  {
   "cell_type": "code",
   "execution_count": null,
   "metadata": {},
   "outputs": [],
   "source": []
  },
  {
   "cell_type": "markdown",
   "metadata": {},
   "source": [
    "### Cross Validation"
   ]
  },
  {
   "cell_type": "code",
   "execution_count": 57,
   "metadata": {},
   "outputs": [],
   "source": [
    "pipe_cv, scores_cv = canonizer(df_fabula, cross_validation=True)"
   ]
  },
  {
   "cell_type": "code",
   "execution_count": 58,
   "metadata": {},
   "outputs": [
    {
     "data": {
      "text/plain": [
       "{'fit_time': array([58.84632397, 57.07133722, 56.70533705, 62.05453444, 57.57437778]),\n",
       " 'score_time': array([3.60127449, 3.63727522, 3.77728677, 4.09956574, 3.78728795]),\n",
       " 'test_score': array([0.90878378, 0.89189189, 0.89864865, 0.91722973, 0.90033784])}"
      ]
     },
     "execution_count": 58,
     "metadata": {},
     "output_type": "execute_result"
    }
   ],
   "source": [
    "scores_cv"
   ]
  },
  {
   "cell_type": "code",
   "execution_count": 61,
   "metadata": {},
   "outputs": [
    {
     "data": {
      "text/plain": [
       "0.9033783783783784"
      ]
     },
     "execution_count": 61,
     "metadata": {},
     "output_type": "execute_result"
    }
   ],
   "source": [
    "sum(scores_cv['test_score'])/len(scores_cv['test_score'])"
   ]
  },
  {
   "cell_type": "code",
   "execution_count": null,
   "metadata": {},
   "outputs": [],
   "source": []
  },
  {
   "cell_type": "code",
   "execution_count": null,
   "metadata": {},
   "outputs": [],
   "source": []
  },
  {
   "cell_type": "code",
   "execution_count": null,
   "metadata": {},
   "outputs": [],
   "source": []
  },
  {
   "cell_type": "code",
   "execution_count": null,
   "metadata": {},
   "outputs": [],
   "source": []
  },
  {
   "cell_type": "markdown",
   "metadata": {},
   "source": [
    "### Load df features one txt one author fabula metadata"
   ]
  },
  {
   "cell_type": "code",
   "execution_count": 136,
   "metadata": {},
   "outputs": [],
   "source": [
    "df_fabula_ones = pd.read_csv(r'data\\df_fabula_ones.csv')\n",
    "df_fabula_ones.set_index(\"Unnamed: 0\", inplace = True)\n",
    "df_fabula_ones = df_fabula_ones.replace(np.nan, 0)"
   ]
  },
  {
   "cell_type": "code",
   "execution_count": 137,
   "metadata": {},
   "outputs": [
    {
     "data": {
      "text/plain": [
       "394"
      ]
     },
     "execution_count": 137,
     "metadata": {},
     "output_type": "execute_result"
    }
   ],
   "source": [
    "len(df_fabula_ones)"
   ]
  },
  {
   "cell_type": "code",
   "execution_count": 124,
   "metadata": {},
   "outputs": [
    {
     "name": "stdout",
     "output_type": "stream",
     "text": [
      "Original dataset shape Counter({False: 187, True: 128})\n",
      "Resampled dataset shape Counter({True: 187, False: 187})\n",
      "              precision    recall  f1-score   support\n",
      "\n",
      "       False       0.83      0.83      0.83        48\n",
      "        True       0.74      0.74      0.74        31\n",
      "\n",
      "    accuracy                           0.80        79\n",
      "   macro avg       0.79      0.79      0.79        79\n",
      "weighted avg       0.80      0.80      0.80        79\n",
      "\n"
     ]
    }
   ],
   "source": [
    "pipe_fabula_ones, df_results_fabula_ones = canonizer(df_fabula_ones, sampling='over')"
   ]
  },
  {
   "cell_type": "code",
   "execution_count": 138,
   "metadata": {},
   "outputs": [
    {
     "data": {
      "text/html": [
       "<div>\n",
       "<style scoped>\n",
       "    .dataframe tbody tr th:only-of-type {\n",
       "        vertical-align: middle;\n",
       "    }\n",
       "\n",
       "    .dataframe tbody tr th {\n",
       "        vertical-align: top;\n",
       "    }\n",
       "\n",
       "    .dataframe thead th {\n",
       "        text-align: right;\n",
       "    }\n",
       "</style>\n",
       "<table border=\"1\" class=\"dataframe\">\n",
       "  <thead>\n",
       "    <tr style=\"text-align: right;\">\n",
       "      <th></th>\n",
       "      <th>metadata</th>\n",
       "      <th>proba canon</th>\n",
       "      <th>proba non-canon</th>\n",
       "      <th>prediction</th>\n",
       "      <th>accord</th>\n",
       "    </tr>\n",
       "    <tr>\n",
       "      <th>Unnamed: 0</th>\n",
       "      <th></th>\n",
       "      <th></th>\n",
       "      <th></th>\n",
       "      <th></th>\n",
       "      <th></th>\n",
       "    </tr>\n",
       "  </thead>\n",
       "  <tbody>\n",
       "    <tr>\n",
       "      <th>1879_Lachese-Marthe_Le-Mariage-de-Renee</th>\n",
       "      <td>False</td>\n",
       "      <td>0.988523</td>\n",
       "      <td>0.011477</td>\n",
       "      <td>False</td>\n",
       "      <td>True</td>\n",
       "    </tr>\n",
       "    <tr>\n",
       "      <th>1874_Flaubert-Gustave_La-tentation-de-saint-Antoine</th>\n",
       "      <td>True</td>\n",
       "      <td>0.240921</td>\n",
       "      <td>0.759079</td>\n",
       "      <td>True</td>\n",
       "      <td>True</td>\n",
       "    </tr>\n",
       "    <tr>\n",
       "      <th>1893_Montegut-Maurice_Madame-Tout-le-monde</th>\n",
       "      <td>False</td>\n",
       "      <td>0.592882</td>\n",
       "      <td>0.407118</td>\n",
       "      <td>True</td>\n",
       "      <td>False</td>\n",
       "    </tr>\n",
       "    <tr>\n",
       "      <th>1895_Rameau-Jean_Yan</th>\n",
       "      <td>False</td>\n",
       "      <td>0.637077</td>\n",
       "      <td>0.362923</td>\n",
       "      <td>False</td>\n",
       "      <td>True</td>\n",
       "    </tr>\n",
       "    <tr>\n",
       "      <th>1856_Gautier-Theophile_Avatar</th>\n",
       "      <td>True</td>\n",
       "      <td>0.528492</td>\n",
       "      <td>0.471508</td>\n",
       "      <td>True</td>\n",
       "      <td>True</td>\n",
       "    </tr>\n",
       "    <tr>\n",
       "      <th>...</th>\n",
       "      <td>...</td>\n",
       "      <td>...</td>\n",
       "      <td>...</td>\n",
       "      <td>...</td>\n",
       "      <td>...</td>\n",
       "    </tr>\n",
       "    <tr>\n",
       "      <th>1904_Regnier-Henri-de_Les-Rencontres-de-M-de-Breot</th>\n",
       "      <td>True</td>\n",
       "      <td>0.658528</td>\n",
       "      <td>0.341472</td>\n",
       "      <td>False</td>\n",
       "      <td>False</td>\n",
       "    </tr>\n",
       "    <tr>\n",
       "      <th>1869_Sorr-Angelo-de_Fantome-de-la-rue-de-Venise</th>\n",
       "      <td>False</td>\n",
       "      <td>0.974876</td>\n",
       "      <td>0.025124</td>\n",
       "      <td>False</td>\n",
       "      <td>True</td>\n",
       "    </tr>\n",
       "    <tr>\n",
       "      <th>1928_Cami-Pierre-Henri_le-jugement-dernier</th>\n",
       "      <td>False</td>\n",
       "      <td>0.825838</td>\n",
       "      <td>0.174162</td>\n",
       "      <td>False</td>\n",
       "      <td>True</td>\n",
       "    </tr>\n",
       "    <tr>\n",
       "      <th>1934_Montherlant-Henry-de_Les-celibataires</th>\n",
       "      <td>True</td>\n",
       "      <td>0.381290</td>\n",
       "      <td>0.618710</td>\n",
       "      <td>True</td>\n",
       "      <td>True</td>\n",
       "    </tr>\n",
       "    <tr>\n",
       "      <th>1883_Hericault-Charles-d-_Rose-de-Noel</th>\n",
       "      <td>False</td>\n",
       "      <td>0.957022</td>\n",
       "      <td>0.042978</td>\n",
       "      <td>False</td>\n",
       "      <td>True</td>\n",
       "    </tr>\n",
       "  </tbody>\n",
       "</table>\n",
       "<p>79 rows × 5 columns</p>\n",
       "</div>"
      ],
      "text/plain": [
       "                                                    metadata  proba canon  \\\n",
       "Unnamed: 0                                                                  \n",
       "1879_Lachese-Marthe_Le-Mariage-de-Renee                False     0.988523   \n",
       "1874_Flaubert-Gustave_La-tentation-de-saint-Ant...      True     0.240921   \n",
       "1893_Montegut-Maurice_Madame-Tout-le-monde             False     0.592882   \n",
       "1895_Rameau-Jean_Yan                                   False     0.637077   \n",
       "1856_Gautier-Theophile_Avatar                           True     0.528492   \n",
       "...                                                      ...          ...   \n",
       "1904_Regnier-Henri-de_Les-Rencontres-de-M-de-Breot      True     0.658528   \n",
       "1869_Sorr-Angelo-de_Fantome-de-la-rue-de-Venise        False     0.974876   \n",
       "1928_Cami-Pierre-Henri_le-jugement-dernier             False     0.825838   \n",
       "1934_Montherlant-Henry-de_Les-celibataires              True     0.381290   \n",
       "1883_Hericault-Charles-d-_Rose-de-Noel                 False     0.957022   \n",
       "\n",
       "                                                    proba non-canon  \\\n",
       "Unnamed: 0                                                            \n",
       "1879_Lachese-Marthe_Le-Mariage-de-Renee                    0.011477   \n",
       "1874_Flaubert-Gustave_La-tentation-de-saint-Ant...         0.759079   \n",
       "1893_Montegut-Maurice_Madame-Tout-le-monde                 0.407118   \n",
       "1895_Rameau-Jean_Yan                                       0.362923   \n",
       "1856_Gautier-Theophile_Avatar                              0.471508   \n",
       "...                                                             ...   \n",
       "1904_Regnier-Henri-de_Les-Rencontres-de-M-de-Breot         0.341472   \n",
       "1869_Sorr-Angelo-de_Fantome-de-la-rue-de-Venise            0.025124   \n",
       "1928_Cami-Pierre-Henri_le-jugement-dernier                 0.174162   \n",
       "1934_Montherlant-Henry-de_Les-celibataires                 0.618710   \n",
       "1883_Hericault-Charles-d-_Rose-de-Noel                     0.042978   \n",
       "\n",
       "                                                    prediction  accord  \n",
       "Unnamed: 0                                                              \n",
       "1879_Lachese-Marthe_Le-Mariage-de-Renee                  False    True  \n",
       "1874_Flaubert-Gustave_La-tentation-de-saint-Ant...        True    True  \n",
       "1893_Montegut-Maurice_Madame-Tout-le-monde                True   False  \n",
       "1895_Rameau-Jean_Yan                                     False    True  \n",
       "1856_Gautier-Theophile_Avatar                             True    True  \n",
       "...                                                        ...     ...  \n",
       "1904_Regnier-Henri-de_Les-Rencontres-de-M-de-Breot       False   False  \n",
       "1869_Sorr-Angelo-de_Fantome-de-la-rue-de-Venise          False    True  \n",
       "1928_Cami-Pierre-Henri_le-jugement-dernier               False    True  \n",
       "1934_Montherlant-Henry-de_Les-celibataires                True    True  \n",
       "1883_Hericault-Charles-d-_Rose-de-Noel                   False    True  \n",
       "\n",
       "[79 rows x 5 columns]"
      ]
     },
     "execution_count": 138,
     "metadata": {},
     "output_type": "execute_result"
    }
   ],
   "source": [
    "df_results_fabula_ones"
   ]
  },
  {
   "cell_type": "code",
   "execution_count": null,
   "metadata": {},
   "outputs": [],
   "source": []
  },
  {
   "cell_type": "code",
   "execution_count": null,
   "metadata": {},
   "outputs": [],
   "source": []
  },
  {
   "cell_type": "markdown",
   "metadata": {},
   "source": [
    "### Load df features canonical degree based on author Corpus metadata"
   ]
  },
  {
   "cell_type": "code",
   "execution_count": 130,
   "metadata": {},
   "outputs": [],
   "source": [
    "df_test = pd.read_csv(r'data/df_main_author.csv')\n",
    "df_test.set_index(\"index\", inplace = True)\n",
    "df_test = df_test.replace(np.nan, 0)"
   ]
  },
  {
   "cell_type": "code",
   "execution_count": 131,
   "metadata": {},
   "outputs": [
    {
     "data": {
      "text/plain": [
       "False    0.603636\n",
       "True     0.396364\n",
       "Name: canon, dtype: float64"
      ]
     },
     "execution_count": 131,
     "metadata": {},
     "output_type": "execute_result"
    }
   ],
   "source": [
    "df_test['canon'].value_counts(normalize=True)"
   ]
  },
  {
   "cell_type": "code",
   "execution_count": 133,
   "metadata": {},
   "outputs": [
    {
     "name": "stdout",
     "output_type": "stream",
     "text": [
      "Original dataset shape Counter({False: 1192, True: 788})\n",
      "Resampled dataset shape Counter({True: 1192, False: 1192})\n",
      "              precision    recall  f1-score   support\n",
      "\n",
      "       False       0.86      0.91      0.88       136\n",
      "        True       0.84      0.75      0.79        84\n",
      "\n",
      "    accuracy                           0.85       220\n",
      "   macro avg       0.85      0.83      0.84       220\n",
      "weighted avg       0.85      0.85      0.85       220\n",
      "\n"
     ]
    }
   ],
   "source": [
    "pipe_test, df_results_test = canonizer(df_test, sampling='over', test_size=0.1)"
   ]
  },
  {
   "cell_type": "code",
   "execution_count": 134,
   "metadata": {},
   "outputs": [
    {
     "data": {
      "text/html": [
       "<div>\n",
       "<style scoped>\n",
       "    .dataframe tbody tr th:only-of-type {\n",
       "        vertical-align: middle;\n",
       "    }\n",
       "\n",
       "    .dataframe tbody tr th {\n",
       "        vertical-align: top;\n",
       "    }\n",
       "\n",
       "    .dataframe thead th {\n",
       "        text-align: right;\n",
       "    }\n",
       "</style>\n",
       "<table border=\"1\" class=\"dataframe\">\n",
       "  <thead>\n",
       "    <tr style=\"text-align: right;\">\n",
       "      <th></th>\n",
       "      <th>metadata</th>\n",
       "      <th>proba canon</th>\n",
       "      <th>proba non-canon</th>\n",
       "      <th>prediction</th>\n",
       "      <th>accord</th>\n",
       "    </tr>\n",
       "    <tr>\n",
       "      <th>index</th>\n",
       "      <th></th>\n",
       "      <th></th>\n",
       "      <th></th>\n",
       "      <th></th>\n",
       "      <th></th>\n",
       "    </tr>\n",
       "  </thead>\n",
       "  <tbody>\n",
       "    <tr>\n",
       "      <th>1880_Feval-Paul_Une-histoire-de-revenants</th>\n",
       "      <td>True</td>\n",
       "      <td>0.027531</td>\n",
       "      <td>0.972469</td>\n",
       "      <td>True</td>\n",
       "      <td>True</td>\n",
       "    </tr>\n",
       "    <tr>\n",
       "      <th>1929_Leblanc-Maurice_La-demeure-mysterieuse</th>\n",
       "      <td>True</td>\n",
       "      <td>0.007132</td>\n",
       "      <td>0.992868</td>\n",
       "      <td>True</td>\n",
       "      <td>True</td>\n",
       "    </tr>\n",
       "    <tr>\n",
       "      <th>2014_Rolin-Olivier_Le-Meteorologue</th>\n",
       "      <td>False</td>\n",
       "      <td>0.500000</td>\n",
       "      <td>0.500000</td>\n",
       "      <td>True</td>\n",
       "      <td>False</td>\n",
       "    </tr>\n",
       "    <tr>\n",
       "      <th>1954_Beauvoir-Simone-de_Les-Mandarins_1</th>\n",
       "      <td>True</td>\n",
       "      <td>0.122660</td>\n",
       "      <td>0.877340</td>\n",
       "      <td>True</td>\n",
       "      <td>True</td>\n",
       "    </tr>\n",
       "    <tr>\n",
       "      <th>1999_Vargas-Fred_L-homme-a-l-envers</th>\n",
       "      <td>False</td>\n",
       "      <td>0.990101</td>\n",
       "      <td>0.009899</td>\n",
       "      <td>False</td>\n",
       "      <td>True</td>\n",
       "    </tr>\n",
       "    <tr>\n",
       "      <th>...</th>\n",
       "      <td>...</td>\n",
       "      <td>...</td>\n",
       "      <td>...</td>\n",
       "      <td>...</td>\n",
       "      <td>...</td>\n",
       "    </tr>\n",
       "    <tr>\n",
       "      <th>1941_Jaloux-Edmond_Les-Visiteurs</th>\n",
       "      <td>False</td>\n",
       "      <td>0.815646</td>\n",
       "      <td>0.184354</td>\n",
       "      <td>False</td>\n",
       "      <td>True</td>\n",
       "    </tr>\n",
       "    <tr>\n",
       "      <th>2016_Perec-Georges_L-Attentat-de-Sarajevo</th>\n",
       "      <td>True</td>\n",
       "      <td>0.253072</td>\n",
       "      <td>0.746928</td>\n",
       "      <td>True</td>\n",
       "      <td>True</td>\n",
       "    </tr>\n",
       "    <tr>\n",
       "      <th>1849_Chateaubriand-François-Rene-de_Memoires-d-Outre-Tombe_Tome-2</th>\n",
       "      <td>True</td>\n",
       "      <td>0.014359</td>\n",
       "      <td>0.985641</td>\n",
       "      <td>True</td>\n",
       "      <td>True</td>\n",
       "    </tr>\n",
       "    <tr>\n",
       "      <th>1947_Laurent-Jacques_Caroline-Cherie-T.2</th>\n",
       "      <td>True</td>\n",
       "      <td>0.993420</td>\n",
       "      <td>0.006580</td>\n",
       "      <td>False</td>\n",
       "      <td>False</td>\n",
       "    </tr>\n",
       "    <tr>\n",
       "      <th>1854_Barthelemy-Charles_Histoire-de-la-Bretagne-ancienne-et-moderne</th>\n",
       "      <td>False</td>\n",
       "      <td>0.610383</td>\n",
       "      <td>0.389617</td>\n",
       "      <td>False</td>\n",
       "      <td>True</td>\n",
       "    </tr>\n",
       "  </tbody>\n",
       "</table>\n",
       "<p>220 rows × 5 columns</p>\n",
       "</div>"
      ],
      "text/plain": [
       "                                                    metadata  proba canon  \\\n",
       "index                                                                       \n",
       "1880_Feval-Paul_Une-histoire-de-revenants               True     0.027531   \n",
       "1929_Leblanc-Maurice_La-demeure-mysterieuse             True     0.007132   \n",
       "2014_Rolin-Olivier_Le-Meteorologue                     False     0.500000   \n",
       "1954_Beauvoir-Simone-de_Les-Mandarins_1                 True     0.122660   \n",
       "1999_Vargas-Fred_L-homme-a-l-envers                    False     0.990101   \n",
       "...                                                      ...          ...   \n",
       "1941_Jaloux-Edmond_Les-Visiteurs                       False     0.815646   \n",
       "2016_Perec-Georges_L-Attentat-de-Sarajevo               True     0.253072   \n",
       "1849_Chateaubriand-François-Rene-de_Memoires-d-...      True     0.014359   \n",
       "1947_Laurent-Jacques_Caroline-Cherie-T.2                True     0.993420   \n",
       "1854_Barthelemy-Charles_Histoire-de-la-Bretagne...     False     0.610383   \n",
       "\n",
       "                                                    proba non-canon  \\\n",
       "index                                                                 \n",
       "1880_Feval-Paul_Une-histoire-de-revenants                  0.972469   \n",
       "1929_Leblanc-Maurice_La-demeure-mysterieuse                0.992868   \n",
       "2014_Rolin-Olivier_Le-Meteorologue                         0.500000   \n",
       "1954_Beauvoir-Simone-de_Les-Mandarins_1                    0.877340   \n",
       "1999_Vargas-Fred_L-homme-a-l-envers                        0.009899   \n",
       "...                                                             ...   \n",
       "1941_Jaloux-Edmond_Les-Visiteurs                           0.184354   \n",
       "2016_Perec-Georges_L-Attentat-de-Sarajevo                  0.746928   \n",
       "1849_Chateaubriand-François-Rene-de_Memoires-d-...         0.985641   \n",
       "1947_Laurent-Jacques_Caroline-Cherie-T.2                   0.006580   \n",
       "1854_Barthelemy-Charles_Histoire-de-la-Bretagne...         0.389617   \n",
       "\n",
       "                                                    prediction  accord  \n",
       "index                                                                   \n",
       "1880_Feval-Paul_Une-histoire-de-revenants                 True    True  \n",
       "1929_Leblanc-Maurice_La-demeure-mysterieuse               True    True  \n",
       "2014_Rolin-Olivier_Le-Meteorologue                        True   False  \n",
       "1954_Beauvoir-Simone-de_Les-Mandarins_1                   True    True  \n",
       "1999_Vargas-Fred_L-homme-a-l-envers                      False    True  \n",
       "...                                                        ...     ...  \n",
       "1941_Jaloux-Edmond_Les-Visiteurs                         False    True  \n",
       "2016_Perec-Georges_L-Attentat-de-Sarajevo                 True    True  \n",
       "1849_Chateaubriand-François-Rene-de_Memoires-d-...        True    True  \n",
       "1947_Laurent-Jacques_Caroline-Cherie-T.2                 False   False  \n",
       "1854_Barthelemy-Charles_Histoire-de-la-Bretagne...       False    True  \n",
       "\n",
       "[220 rows x 5 columns]"
      ]
     },
     "execution_count": 134,
     "metadata": {},
     "output_type": "execute_result"
    }
   ],
   "source": [
    "df_results_test"
   ]
  },
  {
   "cell_type": "code",
   "execution_count": null,
   "metadata": {},
   "outputs": [],
   "source": []
  },
  {
   "cell_type": "markdown",
   "metadata": {},
   "source": [
    "### Out Of Domain Expe"
   ]
  },
  {
   "cell_type": "code",
   "execution_count": 11,
   "metadata": {},
   "outputs": [
    {
     "name": "stdout",
     "output_type": "stream",
     "text": [
      "Original dataset shape Counter({'non_canon': 297, 'canon': 215})\n",
      "              precision    recall  f1-score     support\n",
      "canon          0.641509  0.739130  0.686869   46.000000\n",
      "non_canon      0.840000  0.768293  0.802548   82.000000\n",
      "accuracy       0.757812  0.757812  0.757812    0.757812\n",
      "macro avg      0.740755  0.753712  0.744708  128.000000\n",
      "weighted avg   0.768667  0.757812  0.760976  128.000000\n"
     ]
    },
    {
     "data": {
      "image/png": "[encoded data removed]",
      "text/plain": [
       "<Figure size 432x288 with 2 Axes>"
      ]
     },
     "metadata": {
      "needs_background": "light"
     },
     "output_type": "display_data"
    }
   ],
   "source": [
    "pipe_ood, df_res_ood, scores_ood = canonizer(df_size_opti)"
   ]
  },
  {
   "cell_type": "code",
   "execution_count": 12,
   "metadata": {},
   "outputs": [],
   "source": [
    "df_ood = pd.DataFrame()"
   ]
  },
  {
   "cell_type": "code",
   "execution_count": 13,
   "metadata": {},
   "outputs": [],
   "source": [
    "X_ood = pd.read_csv(r'data\\features_OOD.csv')\n",
    "X_ood.set_index(\"index\", inplace = True)\n",
    "X_ood = X_ood.replace(np.nan, 0)"
   ]
  },
  {
   "cell_type": "code",
   "execution_count": 14,
   "metadata": {},
   "outputs": [],
   "source": [
    "df_ood['proba canon'] = pipe_ood.predict_proba(X_ood)[:,0]\n",
    "df_ood['proba non-canon'] = pipe_ood.predict_proba(X_ood)[:,1]\n",
    "df_ood['prediction']= pipe_ood.predict(X_ood)"
   ]
  },
  {
   "cell_type": "code",
   "execution_count": 15,
   "metadata": {},
   "outputs": [],
   "source": [
    "df_ood.index = X_ood.index"
   ]
  },
  {
   "cell_type": "code",
   "execution_count": 16,
   "metadata": {},
   "outputs": [
    {
     "data": {
      "text/html": [
       "<div>\n",
       "<style scoped>\n",
       "    .dataframe tbody tr th:only-of-type {\n",
       "        vertical-align: middle;\n",
       "    }\n",
       "\n",
       "    .dataframe tbody tr th {\n",
       "        vertical-align: top;\n",
       "    }\n",
       "\n",
       "    .dataframe thead th {\n",
       "        text-align: right;\n",
       "    }\n",
       "</style>\n",
       "<table border=\"1\" class=\"dataframe\">\n",
       "  <thead>\n",
       "    <tr style=\"text-align: right;\">\n",
       "      <th></th>\n",
       "      <th>proba canon</th>\n",
       "      <th>proba non-canon</th>\n",
       "      <th>prediction</th>\n",
       "    </tr>\n",
       "    <tr>\n",
       "      <th>index</th>\n",
       "      <th></th>\n",
       "      <th></th>\n",
       "      <th></th>\n",
       "    </tr>\n",
       "  </thead>\n",
       "  <tbody>\n",
       "    <tr>\n",
       "      <th>bayes</th>\n",
       "      <td>0.375779</td>\n",
       "      <td>0.624221</td>\n",
       "      <td>non_canon</td>\n",
       "    </tr>\n",
       "    <tr>\n",
       "      <th>code_civil_chap2section1&amp;</th>\n",
       "      <td>0.454353</td>\n",
       "      <td>0.545647</td>\n",
       "      <td>non_canon</td>\n",
       "    </tr>\n",
       "    <tr>\n",
       "      <th>JO_RF</th>\n",
       "      <td>0.414400</td>\n",
       "      <td>0.585600</td>\n",
       "      <td>non_canon</td>\n",
       "    </tr>\n",
       "  </tbody>\n",
       "</table>\n",
       "</div>"
      ],
      "text/plain": [
       "                           proba canon  proba non-canon prediction\n",
       "index                                                             \n",
       "bayes                         0.375779         0.624221  non_canon\n",
       "code_civil_chap2section1&     0.454353         0.545647  non_canon\n",
       "JO_RF                         0.414400         0.585600  non_canon"
      ]
     },
     "execution_count": 16,
     "metadata": {},
     "output_type": "execute_result"
    }
   ],
   "source": [
    "df_ood"
   ]
  },
  {
   "cell_type": "code",
   "execution_count": 17,
   "metadata": {},
   "outputs": [
    {
     "name": "stdout",
     "output_type": "stream",
     "text": [
      "\\begin{tabular}{lrrl}\n",
      "\\toprule\n",
      "{} &  proba canon &  proba non-canon & prediction \\\\\n",
      "index                     &              &                  &            \\\\\n",
      "\\midrule\n",
      "bayes                     &     0.375779 &         0.624221 &  non\\_canon \\\\\n",
      "code\\_civil\\_chap2section1\\& &     0.454353 &         0.545647 &  non\\_canon \\\\\n",
      "JO\\_RF                     &     0.414400 &         0.585600 &  non\\_canon \\\\\n",
      "\\bottomrule\n",
      "\\end{tabular}\n",
      "\n"
     ]
    },
    {
     "name": "stderr",
     "output_type": "stream",
     "text": [
      "<ipython-input-17-e5840e3552cd>:1: FutureWarning: In future versions `DataFrame.to_latex` is expected to utilise the base implementation of `Styler.to_latex` for formatting and rendering. The arguments signature may therefore change. It is recommended instead to use `DataFrame.style.to_latex` which also contains additional functionality.\n",
      "  print(df_ood.to_latex(index=True))\n"
     ]
    }
   ],
   "source": [
    "print(df_ood.to_latex(index=True))  "
   ]
  },
  {
   "cell_type": "code",
   "execution_count": null,
   "metadata": {},
   "outputs": [],
   "source": []
  },
  {
   "cell_type": "code",
   "execution_count": 18,
   "metadata": {},
   "outputs": [],
   "source": [
    "df_fabula = pd.read_csv(r'data\\features_fabula.csv', index_col='index')\n",
    "df_fabula = df_fabula.replace(np.nan, 0)"
   ]
  },
  {
   "cell_type": "code",
   "execution_count": 19,
   "metadata": {},
   "outputs": [
    {
     "name": "stdout",
     "output_type": "stream",
     "text": [
      "Original dataset shape Counter({False: 1425, True: 943})\n",
      "              precision    recall  f1-score     support\n",
      "False          0.930295  0.913158  0.921647  380.000000\n",
      "True           0.849315  0.877358  0.863109  212.000000\n",
      "accuracy       0.900338  0.900338  0.900338    0.900338\n",
      "macro avg      0.889805  0.895258  0.892378  592.000000\n",
      "weighted avg   0.901295  0.900338  0.900684  592.000000\n"
     ]
    },
    {
     "data": {
      "image/png": "[encoded data removed]",
      "text/plain": [
       "<Figure size 432x288 with 2 Axes>"
      ]
     },
     "metadata": {
      "needs_background": "light"
     },
     "output_type": "display_data"
    }
   ],
   "source": [
    "pipe_ood_, df_res_ood_, scores_ood_ = canonizer(df_fabula)"
   ]
  },
  {
   "cell_type": "code",
   "execution_count": 20,
   "metadata": {},
   "outputs": [],
   "source": [
    "df_ood_ = pd.DataFrame()\n",
    "df_ood_['proba non-canon'] = pipe_ood_.predict_proba(X_ood)[:,0]\n",
    "df_ood_['proba canon'] = pipe_ood_.predict_proba(X_ood)[:,1]\n",
    "df_ood_['prediction']= pipe_ood_.predict(X_ood)"
   ]
  },
  {
   "cell_type": "code",
   "execution_count": 21,
   "metadata": {},
   "outputs": [],
   "source": [
    "df_ood_.index = X_ood.index"
   ]
  },
  {
   "cell_type": "code",
   "execution_count": 22,
   "metadata": {},
   "outputs": [
    {
     "data": {
      "text/html": [
       "<div>\n",
       "<style scoped>\n",
       "    .dataframe tbody tr th:only-of-type {\n",
       "        vertical-align: middle;\n",
       "    }\n",
       "\n",
       "    .dataframe tbody tr th {\n",
       "        vertical-align: top;\n",
       "    }\n",
       "\n",
       "    .dataframe thead th {\n",
       "        text-align: right;\n",
       "    }\n",
       "</style>\n",
       "<table border=\"1\" class=\"dataframe\">\n",
       "  <thead>\n",
       "    <tr style=\"text-align: right;\">\n",
       "      <th></th>\n",
       "      <th>proba non-canon</th>\n",
       "      <th>proba canon</th>\n",
       "      <th>prediction</th>\n",
       "    </tr>\n",
       "    <tr>\n",
       "      <th>index</th>\n",
       "      <th></th>\n",
       "      <th></th>\n",
       "      <th></th>\n",
       "    </tr>\n",
       "  </thead>\n",
       "  <tbody>\n",
       "    <tr>\n",
       "      <th>bayes</th>\n",
       "      <td>0.484885</td>\n",
       "      <td>0.515115</td>\n",
       "      <td>False</td>\n",
       "    </tr>\n",
       "    <tr>\n",
       "      <th>code_civil_chap2section1&amp;</th>\n",
       "      <td>0.419024</td>\n",
       "      <td>0.580976</td>\n",
       "      <td>True</td>\n",
       "    </tr>\n",
       "    <tr>\n",
       "      <th>JO_RF</th>\n",
       "      <td>0.336232</td>\n",
       "      <td>0.663768</td>\n",
       "      <td>True</td>\n",
       "    </tr>\n",
       "  </tbody>\n",
       "</table>\n",
       "</div>"
      ],
      "text/plain": [
       "                           proba non-canon  proba canon  prediction\n",
       "index                                                              \n",
       "bayes                             0.484885     0.515115       False\n",
       "code_civil_chap2section1&         0.419024     0.580976        True\n",
       "JO_RF                             0.336232     0.663768        True"
      ]
     },
     "execution_count": 22,
     "metadata": {},
     "output_type": "execute_result"
    }
   ],
   "source": [
    "df_ood_"
   ]
  },
  {
   "cell_type": "code",
   "execution_count": 23,
   "metadata": {},
   "outputs": [
    {
     "name": "stdout",
     "output_type": "stream",
     "text": [
      "\\begin{tabular}{lrrl}\n",
      "\\toprule\n",
      "{} &  proba non-canon &  proba canon &  prediction \\\\\n",
      "index                     &                  &              &             \\\\\n",
      "\\midrule\n",
      "bayes                     &         0.484885 &     0.515115 &       False \\\\\n",
      "code\\_civil\\_chap2section1\\& &         0.419024 &     0.580976 &        True \\\\\n",
      "JO\\_RF                     &         0.336232 &     0.663768 &        True \\\\\n",
      "\\bottomrule\n",
      "\\end{tabular}\n",
      "\n"
     ]
    },
    {
     "name": "stderr",
     "output_type": "stream",
     "text": [
      "<ipython-input-23-77e82712e925>:1: FutureWarning: In future versions `DataFrame.to_latex` is expected to utilise the base implementation of `Styler.to_latex` for formatting and rendering. The arguments signature may therefore change. It is recommended instead to use `DataFrame.style.to_latex` which also contains additional functionality.\n",
      "  print(df_ood_.to_latex(index=True))\n"
     ]
    }
   ],
   "source": [
    "print(df_ood_.to_latex(index=True))  "
   ]
  },
  {
   "cell_type": "code",
   "execution_count": null,
   "metadata": {},
   "outputs": [],
   "source": []
  },
  {
   "cell_type": "code",
   "execution_count": 62,
   "metadata": {},
   "outputs": [
    {
     "data": {
      "text/plain": [
       "array([False,  True])"
      ]
     },
     "execution_count": 62,
     "metadata": {},
     "output_type": "execute_result"
    }
   ],
   "source": [
    "pipe_ood_.classes_"
   ]
  },
  {
   "cell_type": "markdown",
   "metadata": {},
   "source": [
    "### MOTIFS"
   ]
  },
  {
   "cell_type": "code",
   "execution_count": 9,
   "metadata": {},
   "outputs": [
    {
     "data": {
      "text/html": [
       "<div>\n",
       "<style scoped>\n",
       "    .dataframe tbody tr th:only-of-type {\n",
       "        vertical-align: middle;\n",
       "    }\n",
       "\n",
       "    .dataframe tbody tr th {\n",
       "        vertical-align: top;\n",
       "    }\n",
       "\n",
       "    .dataframe thead th {\n",
       "        text-align: right;\n",
       "    }\n",
       "</style>\n",
       "<table border=\"1\" class=\"dataframe\">\n",
       "  <thead>\n",
       "    <tr style=\"text-align: right;\">\n",
       "      <th></th>\n",
       "      <th>DET</th>\n",
       "      <th>PRON</th>\n",
       "      <th>ADP</th>\n",
       "      <th>ADV</th>\n",
       "      <th>CCONJ</th>\n",
       "      <th>SCONJ</th>\n",
       "      <th>VERB</th>\n",
       "      <th>AUX</th>\n",
       "      <th>à</th>\n",
       "      <th>ADJ</th>\n",
       "      <th>...</th>\n",
       "      <th>ADP_DET_dernier</th>\n",
       "      <th>PRON_pencher_ADP</th>\n",
       "      <th>PRON_même_PRON</th>\n",
       "      <th>PRON_occuper_ADP</th>\n",
       "      <th>ADV_VERB_jamais</th>\n",
       "      <th>DET_idée_PRON</th>\n",
       "      <th>ADV_savoir_PRON</th>\n",
       "      <th>ADV_DET_même</th>\n",
       "      <th>canon_auteur</th>\n",
       "      <th>canon_roman</th>\n",
       "    </tr>\n",
       "    <tr>\n",
       "      <th>index</th>\n",
       "      <th></th>\n",
       "      <th></th>\n",
       "      <th></th>\n",
       "      <th></th>\n",
       "      <th></th>\n",
       "      <th></th>\n",
       "      <th></th>\n",
       "      <th></th>\n",
       "      <th></th>\n",
       "      <th></th>\n",
       "      <th></th>\n",
       "      <th></th>\n",
       "      <th></th>\n",
       "      <th></th>\n",
       "      <th></th>\n",
       "      <th></th>\n",
       "      <th></th>\n",
       "      <th></th>\n",
       "      <th></th>\n",
       "      <th></th>\n",
       "      <th></th>\n",
       "    </tr>\n",
       "  </thead>\n",
       "  <tbody>\n",
       "    <tr>\n",
       "      <th>2003_Echenoz-Jean_Au-Piano</th>\n",
       "      <td>0.103076</td>\n",
       "      <td>0.083680</td>\n",
       "      <td>0.121683</td>\n",
       "      <td>0.053450</td>\n",
       "      <td>0.033390</td>\n",
       "      <td>0.015854</td>\n",
       "      <td>0.019779</td>\n",
       "      <td>0.009915</td>\n",
       "      <td>0.018709</td>\n",
       "      <td>0.008207</td>\n",
       "      <td>...</td>\n",
       "      <td>0.000025</td>\n",
       "      <td>0.000025</td>\n",
       "      <td>NaN</td>\n",
       "      <td>0.000025</td>\n",
       "      <td>0.000076</td>\n",
       "      <td>0.000025</td>\n",
       "      <td>0.000025</td>\n",
       "      <td>0.000204</td>\n",
       "      <td>True</td>\n",
       "      <td>non_canon</td>\n",
       "    </tr>\n",
       "    <tr>\n",
       "      <th>1863_Feval-Paul_La-Fille-du-Juif-Errant</th>\n",
       "      <td>0.142926</td>\n",
       "      <td>0.104091</td>\n",
       "      <td>0.112937</td>\n",
       "      <td>0.036546</td>\n",
       "      <td>0.030436</td>\n",
       "      <td>0.015577</td>\n",
       "      <td>0.022192</td>\n",
       "      <td>0.018894</td>\n",
       "      <td>0.015092</td>\n",
       "      <td>0.009563</td>\n",
       "      <td>...</td>\n",
       "      <td>0.000019</td>\n",
       "      <td>0.000116</td>\n",
       "      <td>0.000019</td>\n",
       "      <td>0.000058</td>\n",
       "      <td>0.000097</td>\n",
       "      <td>0.000039</td>\n",
       "      <td>0.000078</td>\n",
       "      <td>0.000019</td>\n",
       "      <td>False</td>\n",
       "      <td>non_canon</td>\n",
       "    </tr>\n",
       "    <tr>\n",
       "      <th>1893_Segur-Anatole-de_Les-Enfants-de-Paris</th>\n",
       "      <td>0.155561</td>\n",
       "      <td>0.098877</td>\n",
       "      <td>0.146275</td>\n",
       "      <td>0.036150</td>\n",
       "      <td>0.043084</td>\n",
       "      <td>0.016988</td>\n",
       "      <td>0.013779</td>\n",
       "      <td>0.018556</td>\n",
       "      <td>0.018075</td>\n",
       "      <td>0.009358</td>\n",
       "      <td>...</td>\n",
       "      <td>0.000018</td>\n",
       "      <td>0.000018</td>\n",
       "      <td>0.000089</td>\n",
       "      <td>NaN</td>\n",
       "      <td>0.000018</td>\n",
       "      <td>NaN</td>\n",
       "      <td>0.000071</td>\n",
       "      <td>0.000036</td>\n",
       "      <td>False</td>\n",
       "      <td>non_canon</td>\n",
       "    </tr>\n",
       "    <tr>\n",
       "      <th>1839_Stendhal_Le-coffre-et-le-revenant</th>\n",
       "      <td>0.125061</td>\n",
       "      <td>0.124455</td>\n",
       "      <td>0.126150</td>\n",
       "      <td>0.037046</td>\n",
       "      <td>0.024213</td>\n",
       "      <td>0.020218</td>\n",
       "      <td>0.023002</td>\n",
       "      <td>0.018886</td>\n",
       "      <td>0.018281</td>\n",
       "      <td>0.007627</td>\n",
       "      <td>...</td>\n",
       "      <td>NaN</td>\n",
       "      <td>0.000242</td>\n",
       "      <td>NaN</td>\n",
       "      <td>NaN</td>\n",
       "      <td>NaN</td>\n",
       "      <td>0.000242</td>\n",
       "      <td>NaN</td>\n",
       "      <td>NaN</td>\n",
       "      <td>True</td>\n",
       "      <td>non_canon</td>\n",
       "    </tr>\n",
       "    <tr>\n",
       "      <th>2012_Winckler-Martin_En-souvenir-d-Andre</th>\n",
       "      <td>0.116150</td>\n",
       "      <td>0.157451</td>\n",
       "      <td>0.098621</td>\n",
       "      <td>0.068126</td>\n",
       "      <td>0.029706</td>\n",
       "      <td>0.024904</td>\n",
       "      <td>0.031559</td>\n",
       "      <td>0.043153</td>\n",
       "      <td>0.018558</td>\n",
       "      <td>0.009433</td>\n",
       "      <td>...</td>\n",
       "      <td>0.000069</td>\n",
       "      <td>0.000137</td>\n",
       "      <td>NaN</td>\n",
       "      <td>0.000172</td>\n",
       "      <td>0.000172</td>\n",
       "      <td>NaN</td>\n",
       "      <td>0.000034</td>\n",
       "      <td>0.000103</td>\n",
       "      <td>False</td>\n",
       "      <td>non_canon</td>\n",
       "    </tr>\n",
       "    <tr>\n",
       "      <th>...</th>\n",
       "      <td>...</td>\n",
       "      <td>...</td>\n",
       "      <td>...</td>\n",
       "      <td>...</td>\n",
       "      <td>...</td>\n",
       "      <td>...</td>\n",
       "      <td>...</td>\n",
       "      <td>...</td>\n",
       "      <td>...</td>\n",
       "      <td>...</td>\n",
       "      <td>...</td>\n",
       "      <td>...</td>\n",
       "      <td>...</td>\n",
       "      <td>...</td>\n",
       "      <td>...</td>\n",
       "      <td>...</td>\n",
       "      <td>...</td>\n",
       "      <td>...</td>\n",
       "      <td>...</td>\n",
       "      <td>...</td>\n",
       "      <td>...</td>\n",
       "    </tr>\n",
       "    <tr>\n",
       "      <th>1941_Ayme-Marcel_Le-travelingue</th>\n",
       "      <td>0.133618</td>\n",
       "      <td>0.121868</td>\n",
       "      <td>0.120360</td>\n",
       "      <td>0.048222</td>\n",
       "      <td>0.033235</td>\n",
       "      <td>0.019731</td>\n",
       "      <td>0.022291</td>\n",
       "      <td>0.021069</td>\n",
       "      <td>0.021771</td>\n",
       "      <td>0.007565</td>\n",
       "      <td>...</td>\n",
       "      <td>0.000065</td>\n",
       "      <td>0.000104</td>\n",
       "      <td>0.000078</td>\n",
       "      <td>0.000052</td>\n",
       "      <td>0.000039</td>\n",
       "      <td>0.000117</td>\n",
       "      <td>0.000052</td>\n",
       "      <td>0.000052</td>\n",
       "      <td>True</td>\n",
       "      <td>non_canon</td>\n",
       "    </tr>\n",
       "    <tr>\n",
       "      <th>1887_Malot-Hector_Ghislaine</th>\n",
       "      <td>0.117071</td>\n",
       "      <td>0.121538</td>\n",
       "      <td>0.104651</td>\n",
       "      <td>0.055106</td>\n",
       "      <td>0.034553</td>\n",
       "      <td>0.024457</td>\n",
       "      <td>0.020339</td>\n",
       "      <td>0.016549</td>\n",
       "      <td>0.020508</td>\n",
       "      <td>0.008720</td>\n",
       "      <td>...</td>\n",
       "      <td>0.000068</td>\n",
       "      <td>0.000011</td>\n",
       "      <td>0.000079</td>\n",
       "      <td>NaN</td>\n",
       "      <td>0.000011</td>\n",
       "      <td>0.000090</td>\n",
       "      <td>0.000034</td>\n",
       "      <td>0.000023</td>\n",
       "      <td>False</td>\n",
       "      <td>non_canon</td>\n",
       "    </tr>\n",
       "    <tr>\n",
       "      <th>1958_Beauvoir-Simone-de_Memoires-d-une-jeune-fille-rangee</th>\n",
       "      <td>0.134648</td>\n",
       "      <td>0.150787</td>\n",
       "      <td>0.114145</td>\n",
       "      <td>0.048217</td>\n",
       "      <td>0.029196</td>\n",
       "      <td>0.021372</td>\n",
       "      <td>0.015181</td>\n",
       "      <td>0.011086</td>\n",
       "      <td>0.021454</td>\n",
       "      <td>0.008445</td>\n",
       "      <td>...</td>\n",
       "      <td>0.000014</td>\n",
       "      <td>0.000034</td>\n",
       "      <td>0.000179</td>\n",
       "      <td>0.000055</td>\n",
       "      <td>0.000028</td>\n",
       "      <td>0.000110</td>\n",
       "      <td>0.000041</td>\n",
       "      <td>0.000034</td>\n",
       "      <td>True</td>\n",
       "      <td>non_canon</td>\n",
       "    </tr>\n",
       "    <tr>\n",
       "      <th>1934_Aragon-Louis_Les-Cloches-de-Bale</th>\n",
       "      <td>0.138544</td>\n",
       "      <td>0.117772</td>\n",
       "      <td>0.123822</td>\n",
       "      <td>0.046241</td>\n",
       "      <td>0.026797</td>\n",
       "      <td>0.021193</td>\n",
       "      <td>0.022195</td>\n",
       "      <td>0.019410</td>\n",
       "      <td>0.020181</td>\n",
       "      <td>0.008630</td>\n",
       "      <td>...</td>\n",
       "      <td>0.000051</td>\n",
       "      <td>0.000060</td>\n",
       "      <td>0.000034</td>\n",
       "      <td>0.000026</td>\n",
       "      <td>0.000086</td>\n",
       "      <td>0.000051</td>\n",
       "      <td>0.000017</td>\n",
       "      <td>0.000043</td>\n",
       "      <td>True</td>\n",
       "      <td>non_canon</td>\n",
       "    </tr>\n",
       "    <tr>\n",
       "      <th>1857_Ulbach-Louis_Parents-coupables-memoires-d-un-lyceen</th>\n",
       "      <td>0.124864</td>\n",
       "      <td>0.159556</td>\n",
       "      <td>0.104907</td>\n",
       "      <td>0.052811</td>\n",
       "      <td>0.026755</td>\n",
       "      <td>0.028723</td>\n",
       "      <td>0.026170</td>\n",
       "      <td>0.027438</td>\n",
       "      <td>0.017241</td>\n",
       "      <td>0.007270</td>\n",
       "      <td>...</td>\n",
       "      <td>0.000065</td>\n",
       "      <td>NaN</td>\n",
       "      <td>0.000195</td>\n",
       "      <td>0.000033</td>\n",
       "      <td>0.000098</td>\n",
       "      <td>0.000081</td>\n",
       "      <td>0.000114</td>\n",
       "      <td>NaN</td>\n",
       "      <td>False</td>\n",
       "      <td>non_canon</td>\n",
       "    </tr>\n",
       "  </tbody>\n",
       "</table>\n",
       "<p>2953 rows × 3002 columns</p>\n",
       "</div>"
      ],
      "text/plain": [
       "                                                         DET      PRON  \\\n",
       "index                                                                    \n",
       "2003_Echenoz-Jean_Au-Piano                          0.103076  0.083680   \n",
       "1863_Feval-Paul_La-Fille-du-Juif-Errant             0.142926  0.104091   \n",
       "1893_Segur-Anatole-de_Les-Enfants-de-Paris          0.155561  0.098877   \n",
       "1839_Stendhal_Le-coffre-et-le-revenant              0.125061  0.124455   \n",
       "2012_Winckler-Martin_En-souvenir-d-Andre            0.116150  0.157451   \n",
       "...                                                      ...       ...   \n",
       "1941_Ayme-Marcel_Le-travelingue                     0.133618  0.121868   \n",
       "1887_Malot-Hector_Ghislaine                         0.117071  0.121538   \n",
       "1958_Beauvoir-Simone-de_Memoires-d-une-jeune-fi...  0.134648  0.150787   \n",
       "1934_Aragon-Louis_Les-Cloches-de-Bale               0.138544  0.117772   \n",
       "1857_Ulbach-Louis_Parents-coupables-memoires-d-...  0.124864  0.159556   \n",
       "\n",
       "                                                         ADP       ADV  \\\n",
       "index                                                                    \n",
       "2003_Echenoz-Jean_Au-Piano                          0.121683  0.053450   \n",
       "1863_Feval-Paul_La-Fille-du-Juif-Errant             0.112937  0.036546   \n",
       "1893_Segur-Anatole-de_Les-Enfants-de-Paris          0.146275  0.036150   \n",
       "1839_Stendhal_Le-coffre-et-le-revenant              0.126150  0.037046   \n",
       "2012_Winckler-Martin_En-souvenir-d-Andre            0.098621  0.068126   \n",
       "...                                                      ...       ...   \n",
       "1941_Ayme-Marcel_Le-travelingue                     0.120360  0.048222   \n",
       "1887_Malot-Hector_Ghislaine                         0.104651  0.055106   \n",
       "1958_Beauvoir-Simone-de_Memoires-d-une-jeune-fi...  0.114145  0.048217   \n",
       "1934_Aragon-Louis_Les-Cloches-de-Bale               0.123822  0.046241   \n",
       "1857_Ulbach-Louis_Parents-coupables-memoires-d-...  0.104907  0.052811   \n",
       "\n",
       "                                                       CCONJ     SCONJ  \\\n",
       "index                                                                    \n",
       "2003_Echenoz-Jean_Au-Piano                          0.033390  0.015854   \n",
       "1863_Feval-Paul_La-Fille-du-Juif-Errant             0.030436  0.015577   \n",
       "1893_Segur-Anatole-de_Les-Enfants-de-Paris          0.043084  0.016988   \n",
       "1839_Stendhal_Le-coffre-et-le-revenant              0.024213  0.020218   \n",
       "2012_Winckler-Martin_En-souvenir-d-Andre            0.029706  0.024904   \n",
       "...                                                      ...       ...   \n",
       "1941_Ayme-Marcel_Le-travelingue                     0.033235  0.019731   \n",
       "1887_Malot-Hector_Ghislaine                         0.034553  0.024457   \n",
       "1958_Beauvoir-Simone-de_Memoires-d-une-jeune-fi...  0.029196  0.021372   \n",
       "1934_Aragon-Louis_Les-Cloches-de-Bale               0.026797  0.021193   \n",
       "1857_Ulbach-Louis_Parents-coupables-memoires-d-...  0.026755  0.028723   \n",
       "\n",
       "                                                        VERB       AUX  \\\n",
       "index                                                                    \n",
       "2003_Echenoz-Jean_Au-Piano                          0.019779  0.009915   \n",
       "1863_Feval-Paul_La-Fille-du-Juif-Errant             0.022192  0.018894   \n",
       "1893_Segur-Anatole-de_Les-Enfants-de-Paris          0.013779  0.018556   \n",
       "1839_Stendhal_Le-coffre-et-le-revenant              0.023002  0.018886   \n",
       "2012_Winckler-Martin_En-souvenir-d-Andre            0.031559  0.043153   \n",
       "...                                                      ...       ...   \n",
       "1941_Ayme-Marcel_Le-travelingue                     0.022291  0.021069   \n",
       "1887_Malot-Hector_Ghislaine                         0.020339  0.016549   \n",
       "1958_Beauvoir-Simone-de_Memoires-d-une-jeune-fi...  0.015181  0.011086   \n",
       "1934_Aragon-Louis_Les-Cloches-de-Bale               0.022195  0.019410   \n",
       "1857_Ulbach-Louis_Parents-coupables-memoires-d-...  0.026170  0.027438   \n",
       "\n",
       "                                                          à       ADJ  ...  \\\n",
       "index                                                                   ...   \n",
       "2003_Echenoz-Jean_Au-Piano                          0.018709  0.008207  ...   \n",
       "1863_Feval-Paul_La-Fille-du-Juif-Errant             0.015092  0.009563  ...   \n",
       "1893_Segur-Anatole-de_Les-Enfants-de-Paris          0.018075  0.009358  ...   \n",
       "1839_Stendhal_Le-coffre-et-le-revenant              0.018281  0.007627  ...   \n",
       "2012_Winckler-Martin_En-souvenir-d-Andre            0.018558  0.009433  ...   \n",
       "...                                                      ...       ...  ...   \n",
       "1941_Ayme-Marcel_Le-travelingue                     0.021771  0.007565  ...   \n",
       "1887_Malot-Hector_Ghislaine                         0.020508  0.008720  ...   \n",
       "1958_Beauvoir-Simone-de_Memoires-d-une-jeune-fi...  0.021454  0.008445  ...   \n",
       "1934_Aragon-Louis_Les-Cloches-de-Bale               0.020181  0.008630  ...   \n",
       "1857_Ulbach-Louis_Parents-coupables-memoires-d-...  0.017241  0.007270  ...   \n",
       "\n",
       "                                                    ADP_DET_dernier  \\\n",
       "index                                                                 \n",
       "2003_Echenoz-Jean_Au-Piano                                 0.000025   \n",
       "1863_Feval-Paul_La-Fille-du-Juif-Errant                    0.000019   \n",
       "1893_Segur-Anatole-de_Les-Enfants-de-Paris                 0.000018   \n",
       "1839_Stendhal_Le-coffre-et-le-revenant                          NaN   \n",
       "2012_Winckler-Martin_En-souvenir-d-Andre                   0.000069   \n",
       "...                                                             ...   \n",
       "1941_Ayme-Marcel_Le-travelingue                            0.000065   \n",
       "1887_Malot-Hector_Ghislaine                                0.000068   \n",
       "1958_Beauvoir-Simone-de_Memoires-d-une-jeune-fi...         0.000014   \n",
       "1934_Aragon-Louis_Les-Cloches-de-Bale                      0.000051   \n",
       "1857_Ulbach-Louis_Parents-coupables-memoires-d-...         0.000065   \n",
       "\n",
       "                                                    PRON_pencher_ADP  \\\n",
       "index                                                                  \n",
       "2003_Echenoz-Jean_Au-Piano                                  0.000025   \n",
       "1863_Feval-Paul_La-Fille-du-Juif-Errant                     0.000116   \n",
       "1893_Segur-Anatole-de_Les-Enfants-de-Paris                  0.000018   \n",
       "1839_Stendhal_Le-coffre-et-le-revenant                      0.000242   \n",
       "2012_Winckler-Martin_En-souvenir-d-Andre                    0.000137   \n",
       "...                                                              ...   \n",
       "1941_Ayme-Marcel_Le-travelingue                             0.000104   \n",
       "1887_Malot-Hector_Ghislaine                                 0.000011   \n",
       "1958_Beauvoir-Simone-de_Memoires-d-une-jeune-fi...          0.000034   \n",
       "1934_Aragon-Louis_Les-Cloches-de-Bale                       0.000060   \n",
       "1857_Ulbach-Louis_Parents-coupables-memoires-d-...               NaN   \n",
       "\n",
       "                                                    PRON_même_PRON  \\\n",
       "index                                                                 \n",
       "2003_Echenoz-Jean_Au-Piano                                      NaN   \n",
       "1863_Feval-Paul_La-Fille-du-Juif-Errant                    0.000019   \n",
       "1893_Segur-Anatole-de_Les-Enfants-de-Paris                 0.000089   \n",
       "1839_Stendhal_Le-coffre-et-le-revenant                          NaN   \n",
       "2012_Winckler-Martin_En-souvenir-d-Andre                        NaN   \n",
       "...                                                             ...   \n",
       "1941_Ayme-Marcel_Le-travelingue                            0.000078   \n",
       "1887_Malot-Hector_Ghislaine                                0.000079   \n",
       "1958_Beauvoir-Simone-de_Memoires-d-une-jeune-fi...         0.000179   \n",
       "1934_Aragon-Louis_Les-Cloches-de-Bale                      0.000034   \n",
       "1857_Ulbach-Louis_Parents-coupables-memoires-d-...         0.000195   \n",
       "\n",
       "                                                    PRON_occuper_ADP  \\\n",
       "index                                                                  \n",
       "2003_Echenoz-Jean_Au-Piano                                  0.000025   \n",
       "1863_Feval-Paul_La-Fille-du-Juif-Errant                     0.000058   \n",
       "1893_Segur-Anatole-de_Les-Enfants-de-Paris                       NaN   \n",
       "1839_Stendhal_Le-coffre-et-le-revenant                           NaN   \n",
       "2012_Winckler-Martin_En-souvenir-d-Andre                    0.000172   \n",
       "...                                                              ...   \n",
       "1941_Ayme-Marcel_Le-travelingue                             0.000052   \n",
       "1887_Malot-Hector_Ghislaine                                      NaN   \n",
       "1958_Beauvoir-Simone-de_Memoires-d-une-jeune-fi...          0.000055   \n",
       "1934_Aragon-Louis_Les-Cloches-de-Bale                       0.000026   \n",
       "1857_Ulbach-Louis_Parents-coupables-memoires-d-...          0.000033   \n",
       "\n",
       "                                                    ADV_VERB_jamais  \\\n",
       "index                                                                 \n",
       "2003_Echenoz-Jean_Au-Piano                                 0.000076   \n",
       "1863_Feval-Paul_La-Fille-du-Juif-Errant                    0.000097   \n",
       "1893_Segur-Anatole-de_Les-Enfants-de-Paris                 0.000018   \n",
       "1839_Stendhal_Le-coffre-et-le-revenant                          NaN   \n",
       "2012_Winckler-Martin_En-souvenir-d-Andre                   0.000172   \n",
       "...                                                             ...   \n",
       "1941_Ayme-Marcel_Le-travelingue                            0.000039   \n",
       "1887_Malot-Hector_Ghislaine                                0.000011   \n",
       "1958_Beauvoir-Simone-de_Memoires-d-une-jeune-fi...         0.000028   \n",
       "1934_Aragon-Louis_Les-Cloches-de-Bale                      0.000086   \n",
       "1857_Ulbach-Louis_Parents-coupables-memoires-d-...         0.000098   \n",
       "\n",
       "                                                    DET_idée_PRON  \\\n",
       "index                                                                \n",
       "2003_Echenoz-Jean_Au-Piano                                0.000025   \n",
       "1863_Feval-Paul_La-Fille-du-Juif-Errant                   0.000039   \n",
       "1893_Segur-Anatole-de_Les-Enfants-de-Paris                     NaN   \n",
       "1839_Stendhal_Le-coffre-et-le-revenant                    0.000242   \n",
       "2012_Winckler-Martin_En-souvenir-d-Andre                       NaN   \n",
       "...                                                            ...   \n",
       "1941_Ayme-Marcel_Le-travelingue                           0.000117   \n",
       "1887_Malot-Hector_Ghislaine                               0.000090   \n",
       "1958_Beauvoir-Simone-de_Memoires-d-une-jeune-fi...        0.000110   \n",
       "1934_Aragon-Louis_Les-Cloches-de-Bale                     0.000051   \n",
       "1857_Ulbach-Louis_Parents-coupables-memoires-d-...        0.000081   \n",
       "\n",
       "                                                    ADV_savoir_PRON  \\\n",
       "index                                                                 \n",
       "2003_Echenoz-Jean_Au-Piano                                 0.000025   \n",
       "1863_Feval-Paul_La-Fille-du-Juif-Errant                    0.000078   \n",
       "1893_Segur-Anatole-de_Les-Enfants-de-Paris                 0.000071   \n",
       "1839_Stendhal_Le-coffre-et-le-revenant                          NaN   \n",
       "2012_Winckler-Martin_En-souvenir-d-Andre                   0.000034   \n",
       "...                                                             ...   \n",
       "1941_Ayme-Marcel_Le-travelingue                            0.000052   \n",
       "1887_Malot-Hector_Ghislaine                                0.000034   \n",
       "1958_Beauvoir-Simone-de_Memoires-d-une-jeune-fi...         0.000041   \n",
       "1934_Aragon-Louis_Les-Cloches-de-Bale                      0.000017   \n",
       "1857_Ulbach-Louis_Parents-coupables-memoires-d-...         0.000114   \n",
       "\n",
       "                                                    ADV_DET_même  \\\n",
       "index                                                               \n",
       "2003_Echenoz-Jean_Au-Piano                               0.000204   \n",
       "1863_Feval-Paul_La-Fille-du-Juif-Errant                  0.000019   \n",
       "1893_Segur-Anatole-de_Les-Enfants-de-Paris               0.000036   \n",
       "1839_Stendhal_Le-coffre-et-le-revenant                        NaN   \n",
       "2012_Winckler-Martin_En-souvenir-d-Andre                 0.000103   \n",
       "...                                                           ...   \n",
       "1941_Ayme-Marcel_Le-travelingue                          0.000052   \n",
       "1887_Malot-Hector_Ghislaine                              0.000023   \n",
       "1958_Beauvoir-Simone-de_Memoires-d-une-jeune-fi...       0.000034   \n",
       "1934_Aragon-Louis_Les-Cloches-de-Bale                    0.000043   \n",
       "1857_Ulbach-Louis_Parents-coupables-memoires-d-...            NaN   \n",
       "\n",
       "                                                    canon_auteur  canon_roman  \n",
       "index                                                                          \n",
       "2003_Echenoz-Jean_Au-Piano                                  True    non_canon  \n",
       "1863_Feval-Paul_La-Fille-du-Juif-Errant                    False    non_canon  \n",
       "1893_Segur-Anatole-de_Les-Enfants-de-Paris                 False    non_canon  \n",
       "1839_Stendhal_Le-coffre-et-le-revenant                      True    non_canon  \n",
       "2012_Winckler-Martin_En-souvenir-d-Andre                   False    non_canon  \n",
       "...                                                          ...          ...  \n",
       "1941_Ayme-Marcel_Le-travelingue                             True    non_canon  \n",
       "1887_Malot-Hector_Ghislaine                                False    non_canon  \n",
       "1958_Beauvoir-Simone-de_Memoires-d-une-jeune-fi...          True    non_canon  \n",
       "1934_Aragon-Louis_Les-Cloches-de-Bale                       True    non_canon  \n",
       "1857_Ulbach-Louis_Parents-coupables-memoires-d-...         False    non_canon  \n",
       "\n",
       "[2953 rows x 3002 columns]"
      ]
     },
     "execution_count": 9,
     "metadata": {},
     "output_type": "execute_result"
    }
   ],
   "source": [
    "df_motifs"
   ]
  },
  {
   "cell_type": "code",
   "execution_count": 10,
   "metadata": {},
   "outputs": [
    {
     "data": {
      "text/plain": [
       "2953"
      ]
     },
     "execution_count": 10,
     "metadata": {},
     "output_type": "execute_result"
    }
   ],
   "source": [
    "df_motifs = pd.read_csv(r'data\\df_motifs_canonized.csv')\n",
    "df_motifs.set_index(\"index\", inplace = True)\n",
    "df_motifs = df_motifs.replace(np.nan, 0)\n",
    "len(df_motifs)"
   ]
  },
  {
   "cell_type": "code",
   "execution_count": 14,
   "metadata": {},
   "outputs": [
    {
     "name": "stdout",
     "output_type": "stream",
     "text": [
      "Original dataset shape Counter({False: 1444, True: 918})\n",
      "Resampled dataset shape Counter({False: 1444, True: 1444})\n",
      "              precision    recall  f1-score     support\n",
      "False          0.932394  0.922006  0.927171  359.000000\n",
      "True           0.881356  0.896552  0.888889  232.000000\n",
      "accuracy       0.912014  0.912014  0.912014    0.912014\n",
      "macro avg      0.906875  0.909279  0.908030  591.000000\n",
      "weighted avg   0.912359  0.912014  0.912143  591.000000\n"
     ]
    },
    {
     "data": {
      "image/png": "[encoded data removed]",
      "text/plain": [
       "<Figure size 432x288 with 2 Axes>"
      ]
     },
     "metadata": {
      "needs_background": "light"
     },
     "output_type": "display_data"
    }
   ],
   "source": [
    "pipe_motifs, df_result_motifs, df_scores_motifs = canonizer(df_motifs.drop(['canon_roman'], axis=1), sampling='over')"
   ]
  },
  {
   "cell_type": "code",
   "execution_count": null,
   "metadata": {},
   "outputs": [],
   "source": []
  },
  {
   "cell_type": "code",
   "execution_count": null,
   "metadata": {},
   "outputs": [],
   "source": []
  },
  {
   "cell_type": "code",
   "execution_count": 16,
   "metadata": {},
   "outputs": [
    {
     "name": "stdout",
     "output_type": "stream",
     "text": [
      "Original dataset shape Counter({False: 1444, True: 918})\n",
      "Resampled dataset shape Counter({False: 1444, True: 1444})\n",
      "              precision    recall  f1-score     support\n",
      "False          0.901685  0.894150  0.897902  359.000000\n",
      "True           0.838298  0.849138  0.843683  232.000000\n",
      "accuracy       0.876481  0.876481  0.876481    0.876481\n",
      "macro avg      0.869992  0.871644  0.870793  591.000000\n",
      "weighted avg   0.876802  0.876481  0.876618  591.000000\n"
     ]
    },
    {
     "data": {
      "image/png": "[encoded data removed]",
      "text/plain": [
       "<Figure size 432x288 with 2 Axes>"
      ]
     },
     "metadata": {
      "needs_background": "light"
     },
     "output_type": "display_data"
    },
    {
     "data": {
      "image/png": "[encoded data removed]",
      "text/plain": [
       "<Figure size 1080x360 with 1 Axes>"
      ]
     },
     "metadata": {
      "needs_background": "light"
     },
     "output_type": "display_data"
    }
   ],
   "source": [
    "pipe_motifs, df_result_motifs, df_scores_motifs = canonizer(df_motifs.drop(['canon_roman'], axis=1), sampling='over', kernel='linear')"
   ]
  },
  {
   "cell_type": "code",
   "execution_count": null,
   "metadata": {},
   "outputs": [],
   "source": []
  },
  {
   "cell_type": "code",
   "execution_count": 23,
   "metadata": {},
   "outputs": [],
   "source": [
    "motifs = df_motifs.columns"
   ]
  },
  {
   "cell_type": "code",
   "execution_count": 28,
   "metadata": {},
   "outputs": [
    {
     "data": {
      "text/plain": [
       "3002"
      ]
     },
     "execution_count": 28,
     "metadata": {},
     "output_type": "execute_result"
    }
   ],
   "source": [
    "len(motifs)"
   ]
  },
  {
   "cell_type": "code",
   "execution_count": 21,
   "metadata": {},
   "outputs": [],
   "source": [
    "coef_motif = pipe_motifs.named_steps['svc'].coef_"
   ]
  },
  {
   "cell_type": "code",
   "execution_count": 36,
   "metadata": {},
   "outputs": [],
   "source": [
    "zipped = list(zip(list(coef_motif[0]), motifs[:3000]))"
   ]
  },
  {
   "cell_type": "code",
   "execution_count": 38,
   "metadata": {},
   "outputs": [],
   "source": [
    "df_coef = pd.DataFrame(zipped, columns=['coef_score', 'coef_name'])"
   ]
  },
  {
   "cell_type": "code",
   "execution_count": 41,
   "metadata": {},
   "outputs": [],
   "source": [
    "df_coef.to_csv(r'output_svm/coefs_motifs.csv', index=False)"
   ]
  },
  {
   "cell_type": "code",
   "execution_count": null,
   "metadata": {},
   "outputs": [],
   "source": []
  },
  {
   "cell_type": "code",
   "execution_count": 17,
   "metadata": {},
   "outputs": [
    {
     "name": "stdout",
     "output_type": "stream",
     "text": [
      "              precision    recall  f1-score   support\n",
      "\n",
      "       False       0.94      0.91      0.92       361\n",
      "        True       0.87      0.90      0.89       230\n",
      "\n",
      "    accuracy                           0.91       591\n",
      "   macro avg       0.90      0.91      0.90       591\n",
      "weighted avg       0.91      0.91      0.91       591\n",
      "\n",
      "              precision    recall  f1-score   support\n",
      "\n",
      "       False       0.92      0.91      0.92       361\n",
      "        True       0.87      0.87      0.87       230\n",
      "\n",
      "    accuracy                           0.90       591\n",
      "   macro avg       0.89      0.89      0.89       591\n",
      "weighted avg       0.90      0.90      0.90       591\n",
      "\n",
      "              precision    recall  f1-score   support\n",
      "\n",
      "       False       0.92      0.93      0.92       361\n",
      "        True       0.88      0.87      0.88       230\n",
      "\n",
      "    accuracy                           0.90       591\n",
      "   macro avg       0.90      0.90      0.90       591\n",
      "weighted avg       0.90      0.90      0.90       591\n",
      "\n",
      "              precision    recall  f1-score   support\n",
      "\n",
      "       False       0.93      0.91      0.92       360\n",
      "        True       0.87      0.90      0.88       230\n",
      "\n",
      "    accuracy                           0.91       590\n",
      "   macro avg       0.90      0.90      0.90       590\n",
      "weighted avg       0.91      0.91      0.91       590\n",
      "\n",
      "              precision    recall  f1-score   support\n",
      "\n",
      "       False       0.93      0.90      0.91       360\n",
      "        True       0.85      0.89      0.87       230\n",
      "\n",
      "    accuracy                           0.89       590\n",
      "   macro avg       0.89      0.89      0.89       590\n",
      "weighted avg       0.89      0.89      0.89       590\n",
      "\n"
     ]
    }
   ],
   "source": [
    "pipe_motif_cv, scores_motif_CV = canonizer(df_motifs.drop(['canon_roman'], axis=1), cross_validation=True)"
   ]
  },
  {
   "cell_type": "code",
   "execution_count": 18,
   "metadata": {},
   "outputs": [
    {
     "data": {
      "text/plain": [
       "0.9021319796954315"
      ]
     },
     "execution_count": 18,
     "metadata": {},
     "output_type": "execute_result"
    }
   ],
   "source": [
    "sum(scores_motif_CV)/len(scores_motif_CV)"
   ]
  },
  {
   "cell_type": "code",
   "execution_count": null,
   "metadata": {},
   "outputs": [],
   "source": []
  },
  {
   "cell_type": "code",
   "execution_count": null,
   "metadata": {},
   "outputs": [],
   "source": []
  },
  {
   "cell_type": "markdown",
   "metadata": {},
   "source": [
    "# Test Sampling Strategies"
   ]
  },
  {
   "cell_type": "markdown",
   "metadata": {},
   "source": [
    "### Not Balanced\n",
    "\n",
    "                precision    recall  f1-score   support\n",
    "\n",
    "    canon           1.00      0.07      0.14        40\n",
    "    non_canon       0.92      1.00      0.96       404\n",
    "\n",
    "    accuracy                            0.92       444\n",
    "    macro avg       0.96      0.54      0.55       444\n",
    "    weighted avg    0.92      0.92      0.88       444\n"
   ]
  },
  {
   "cell_type": "markdown",
   "metadata": {},
   "source": [
    "### OverSampling\n",
    "\n",
    "                   precision    recall  f1-score   support\n",
    "\n",
    "           canon       0.54      0.33      0.41        40\n",
    "       non_canon       0.94      0.97      0.95       404\n",
    "\n",
    "        accuracy                           0.91       444\n",
    "       macro avg       0.74      0.65      0.68       444\n",
    "    weighted avg       0.90      0.91      0.90       444"
   ]
  },
  {
   "cell_type": "markdown",
   "metadata": {},
   "source": [
    "### UnderSampling"
   ]
  },
  {
   "cell_type": "code",
   "execution_count": 225,
   "metadata": {},
   "outputs": [
    {
     "name": "stdout",
     "output_type": "stream",
     "text": [
      "Original dataset shape Counter({'non_canon': 2295, 'canon': 221})\n",
      "Resampled dataset shape Counter({'canon': 221, 'non_canon': 221})\n",
      "              precision    recall  f1-score   support\n",
      "\n",
      "       canon       0.20      0.78      0.31        40\n",
      "   non_canon       0.97      0.69      0.80       404\n",
      "\n",
      "    accuracy                           0.69       444\n",
      "   macro avg       0.58      0.73      0.56       444\n",
      "weighted avg       0.90      0.69      0.76       444\n",
      "\n"
     ]
    }
   ],
   "source": [
    "pipe_imb_under, df_results_imb_under = canonizer(df_main, sampling='under')"
   ]
  },
  {
   "cell_type": "markdown",
   "metadata": {},
   "source": [
    "### Combine Sampling SMOTE-ENN\n",
    "\n",
    "                     precision    recall  f1-score   support\n",
    "\n",
    "           canon       0.36      0.53      0.43        40\n",
    "       non_canon       0.95      0.91      0.93       404\n",
    "\n",
    "        accuracy                           0.87       444\n",
    "       macro avg       0.66      0.72      0.68       444\n",
    "    weighted avg       0.90      0.87      0.88       444\n"
   ]
  },
  {
   "cell_type": "markdown",
   "metadata": {},
   "source": [
    "### Combine Sampling SMOTE-TOMEK\n",
    "\n",
    "                     precision    recall  f1-score   support\n",
    "\n",
    "           canon       0.55      0.28      0.37        40\n",
    "       non_canon       0.93      0.98      0.95       404\n",
    "\n",
    "        accuracy                           0.91       444\n",
    "       macro avg       0.74      0.63      0.66       444\n",
    "    weighted avg       0.90      0.91      0.90       444\n"
   ]
  },
  {
   "cell_type": "markdown",
   "metadata": {},
   "source": [
    "# Fabula Metadata"
   ]
  },
  {
   "cell_type": "markdown",
   "metadata": {},
   "source": [
    "### Not Balanced"
   ]
  },
  {
   "cell_type": "markdown",
   "metadata": {},
   "source": [
    "\n",
    "                    precision    recall  f1-score   support\n",
    "\n",
    "           False       0.94      0.92      0.93       283\n",
    "            True       0.87      0.90      0.88       161\n",
    "\n",
    "        accuracy                           0.91       444\n",
    "       macro avg       0.91      0.91      0.91       444\n",
    "    weighted avg       0.92      0.91      0.91       444\n"
   ]
  },
  {
   "cell_type": "markdown",
   "metadata": {},
   "source": [
    "### OverSampling"
   ]
  },
  {
   "cell_type": "code",
   "execution_count": 199,
   "metadata": {},
   "outputs": [
    {
     "name": "stdout",
     "output_type": "stream",
     "text": [
      "Original dataset shape Counter({False: 1522, True: 994})\n",
      "Resampled dataset shape Counter({False: 1522, True: 1522})\n",
      "              precision    recall  f1-score   support\n",
      "\n",
      "       False       0.94      0.92      0.93       283\n",
      "        True       0.86      0.90      0.88       161\n",
      "\n",
      "    accuracy                           0.91       444\n",
      "   macro avg       0.90      0.91      0.90       444\n",
      "weighted avg       0.91      0.91      0.91       444\n",
      "\n"
     ]
    }
   ],
   "source": [
    "pipe_imb_combine, df_results_imb_combine = canonizer_imbalanced(df_fabula)"
   ]
  },
  {
   "cell_type": "markdown",
   "metadata": {},
   "source": [
    "### UnderSampling"
   ]
  },
  {
   "cell_type": "code",
   "execution_count": 211,
   "metadata": {},
   "outputs": [
    {
     "name": "stdout",
     "output_type": "stream",
     "text": [
      "Original dataset shape Counter({False: 1522, True: 994})\n",
      "Resampled dataset shape Counter({False: 994, True: 994})\n",
      "              precision    recall  f1-score   support\n",
      "\n",
      "       False       0.95      0.85      0.90       283\n",
      "        True       0.78      0.93      0.85       161\n",
      "\n",
      "    accuracy                           0.88       444\n",
      "   macro avg       0.87      0.89      0.87       444\n",
      "weighted avg       0.89      0.88      0.88       444\n",
      "\n"
     ]
    }
   ],
   "source": [
    "pipe_imb_combine, df_results_imb_combine = canonizer_imbalanced(df_fabula)"
   ]
  },
  {
   "cell_type": "markdown",
   "metadata": {},
   "source": [
    "### Combine Sampling SMOTE-ENN"
   ]
  },
  {
   "cell_type": "code",
   "execution_count": 213,
   "metadata": {},
   "outputs": [
    {
     "name": "stdout",
     "output_type": "stream",
     "text": [
      "Original dataset shape Counter({False: 1522, True: 994})\n",
      "Resampled dataset shape Counter({True: 1138, False: 935})\n",
      "              precision    recall  f1-score   support\n",
      "\n",
      "       False       0.92      0.81      0.86       283\n",
      "        True       0.73      0.88      0.80       161\n",
      "\n",
      "    accuracy                           0.84       444\n",
      "   macro avg       0.83      0.85      0.83       444\n",
      "weighted avg       0.85      0.84      0.84       444\n",
      "\n"
     ]
    }
   ],
   "source": [
    "pipe_imb_combine, df_results_imb_combine = canonizer_imbalanced(df_fabula)"
   ]
  },
  {
   "cell_type": "markdown",
   "metadata": {},
   "source": [
    "### Combine Sampling SMOTE-TOMEK"
   ]
  },
  {
   "cell_type": "code",
   "execution_count": 207,
   "metadata": {},
   "outputs": [
    {
     "name": "stdout",
     "output_type": "stream",
     "text": [
      "Original dataset shape Counter({False: 1522, True: 994})\n",
      "Resampled dataset shape Counter({False: 1509, True: 1509})\n",
      "              precision    recall  f1-score   support\n",
      "\n",
      "       False       0.95      0.92      0.93       283\n",
      "        True       0.86      0.91      0.89       161\n",
      "\n",
      "    accuracy                           0.91       444\n",
      "   macro avg       0.90      0.91      0.91       444\n",
      "weighted avg       0.92      0.91      0.91       444\n",
      "\n"
     ]
    }
   ],
   "source": [
    "pipe_imb_combine, df_results_imb_combine = canonizer_imbalanced(df_fabula)"
   ]
  },
  {
   "cell_type": "code",
   "execution_count": null,
   "metadata": {},
   "outputs": [],
   "source": []
  }
 ],
 "metadata": {
  "kernelspec": {
   "display_name": "Python 3",
   "language": "python",
   "name": "python3"
  },
  "language_info": {
   "codemirror_mode": {
    "name": "ipython",
    "version": 3
   },
   "file_extension": ".py",
   "mimetype": "text/x-python",
   "name": "python",
   "nbconvert_exporter": "python",
   "pygments_lexer": "ipython3",
   "version": "3.8.3"
  }
 },
 "nbformat": 4,
 "nbformat_minor": 4
}
