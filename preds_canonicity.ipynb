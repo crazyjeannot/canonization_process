{
 "cells": [
  {
   "cell_type": "code",
   "execution_count": 1,
   "metadata": {},
   "outputs": [],
   "source": [
    "import pandas as pd\n",
    "import numpy as np\n",
    "from sklearn import set_config\n",
    "from sklearn import metrics\n",
    "from sklearn.metrics import r2_score, mean_absolute_error, mean_squared_error\n",
    "from sklearn.pipeline import make_pipeline\n",
    "from sklearn.preprocessing import StandardScaler\n",
    "from sklearn.svm import SVC\n",
    "from sklearn.linear_model import LogisticRegression\n",
    "from sklearn.model_selection import train_test_split\n",
    "from sklearn.preprocessing import Normalizer\n",
    "from sklearn.model_selection import cross_validate, cross_val_score\n",
    "from sklearn.metrics import make_scorer, accuracy_score, precision_score, recall_score, f1_score\n",
    "from sklearn.model_selection import ShuffleSplit\n",
    "from sklearn.metrics import ConfusionMatrixDisplay\n",
    "from sklearn.utils import shuffle\n",
    "import seaborn as sns\n",
    "import matplotlib.pyplot as plt\n",
    "import random\n",
    "from collections import Counter"
   ]
  },
  {
   "cell_type": "code",
   "execution_count": 2,
   "metadata": {},
   "outputs": [],
   "source": [
    "set_config(display='diagram')"
   ]
  },
  {
   "cell_type": "markdown",
   "metadata": {},
   "source": [
    "### Canonizer sklearn svm pipeline"
   ]
  },
  {
   "cell_type": "code",
   "execution_count": 3,
   "metadata": {},
   "outputs": [],
   "source": [
    "def plot_coefficients(coefs, feature_names, top_features):\n",
    "    top_positive_coefficients = np.argsort(coefs)[-top_features:]\n",
    "    top_negative_coefficients = np.argsort(coefs)[:top_features]\n",
    "    top_coefficients = np.hstack([top_negative_coefficients, top_positive_coefficients])\n",
    "    # create plot\n",
    "    plt.figure(figsize=(15, 5))\n",
    "    colors = ['red' if c < 0 else 'blue' for c in coefs[top_coefficients]]\n",
    "    plt.bar(np.arange(2 * top_features), coefs[top_coefficients], color=colors)\n",
    "    feature_names = np.array(feature_names)\n",
    "    plt.xticks(np.arange(0, 2 * top_features), feature_names[top_coefficients], rotation=60, ha='right')\n",
    "    plt.title(\"Meilleurs coefficients pour la classification binaire\")\n",
    "    plt.savefig('img/coefs_linear_svm.png')\n",
    "    plt.show()"
   ]
  },
  {
   "cell_type": "code",
   "execution_count": 157,
   "metadata": {},
   "outputs": [],
   "source": [
    "def canonizer(data, test_size=0.2, random_state=42, sampling=None, cross_validation=False, cv=5, kernel='rbf', nb_coef=20):\n",
    "    \n",
    "    df_results = pd.DataFrame()\n",
    "        \n",
    "    if cross_validation == True:\n",
    "        \n",
    "        pipe = make_pipeline(StandardScaler(), SVC(kernel=kernel, probability=True))\n",
    "        \n",
    "        #cv_results = cross_validate(pipe, data.drop(['canon'], axis=1), data['canon'], cv=cv, scoring='precision')\n",
    "        cv_results = cross_val_score(pipe, data.drop(['canon'], axis=1), data['canon'], cv=cv, scoring=make_scorer(classification_report_with_accuracy_score))\n",
    "        return pipe, cv_results\n",
    "    \n",
    "    else:\n",
    "        if kernel == 'rbf':\n",
    "            pipe = make_pipeline(StandardScaler(), Normalizer(), SVC(kernel=kernel, probability=True))\n",
    "        else:\n",
    "            pipe = make_pipeline(StandardScaler(), SVC(kernel=kernel, probability=True))\n",
    "    \n",
    "\n",
    "        X_train, X_test, y_train, y_test = train_test_split(data.drop(['canon'], axis=1), data['canon'], test_size=test_size, random_state=random_state)\n",
    "        print('Original dataset shape {}'.format(Counter(y_train)))\n",
    "        \n",
    "    pipe.fit(X_train, y_train)\n",
    "        \n",
    "    report = metrics.classification_report(y_test, pipe.predict(X_test), output_dict=True)\n",
    "    df_scores = pd.DataFrame(report).transpose()\n",
    "    print(df_scores)\n",
    "\n",
    "    _ = ConfusionMatrixDisplay.from_estimator(pipe, X_test, y_test)\n",
    "        \n",
    "    if kernel == 'linear':\n",
    "            coefs = pipe.named_steps['svc'].coef_\n",
    "            plot_coefficients(*coefs, data.columns, nb_coef)\n",
    "            \n",
    "    df_results['metadata'] = y_test\n",
    "    df_results['proba canon'] = pipe.predict_proba(X_test)[:,0]\n",
    "    df_results['proba non_canon'] = pipe.predict_proba(X_test)[:,1]\n",
    "    df_results['prediction']= pipe.predict(X_test)\n",
    "        \n",
    "    df_results['accord'] = [True if row['metadata'] == row['prediction'] else False for index, row in df_results.iterrows()]\n",
    "    \n",
    "    \n",
    "    return pipe, df_results, df_scores"
   ]
  },
  {
   "cell_type": "code",
   "execution_count": 5,
   "metadata": {},
   "outputs": [],
   "source": [
    "from sklearn.metrics import classification_report, accuracy_score, make_scorer\n",
    "\n",
    "def classification_report_with_accuracy_score(y_true, y_pred):\n",
    "    print(classification_report(y_true, y_pred))\n",
    "    return accuracy_score(y_true, y_pred)"
   ]
  },
  {
   "cell_type": "code",
   "execution_count": 85,
   "metadata": {},
   "outputs": [],
   "source": [
    "df_main = pd.read_csv(r'/home/crazyjeannot/Documents/master/M2/master_thesis/data/features.csv')\n",
    "df_main.set_index(\"index\", inplace = True)\n",
    "df_main = df_main.replace(np.nan, 0)"
   ]
  },
  {
   "cell_type": "code",
   "execution_count": 86,
   "metadata": {},
   "outputs": [],
   "source": [
    "df_metadata_corpus = pd.read_csv(r'/home/crazyjeannot/Documents/master/M2/master_thesis/meta_data/df_canon_spec_last.csv')\n",
    "df_metadata_corpus.set_index(\"doc_name\", inplace = True)"
   ]
  },
  {
   "cell_type": "code",
   "execution_count": 87,
   "metadata": {},
   "outputs": [
    {
     "data": {
      "text/plain": [
       "non_canon    2660\n",
       "canon         300\n",
       "Name: canon_roman, dtype: int64"
      ]
     },
     "execution_count": 87,
     "metadata": {},
     "output_type": "execute_result"
    }
   ],
   "source": [
    "df_metadata_corpus.canon_roman.value_counts()"
   ]
  },
  {
   "cell_type": "code",
   "execution_count": 88,
   "metadata": {},
   "outputs": [],
   "source": [
    "def list_canon_opti(df_main, df_metadata_corpus):\n",
    "    list_canon = []\n",
    "    for elem in df_main.index:\n",
    "        if elem in df_metadata_corpus.index:\n",
    "            list_canon.append(df_metadata_corpus.loc[[elem]]['canon_roman'][0])\n",
    "            \n",
    "    return list_canon"
   ]
  },
  {
   "cell_type": "code",
   "execution_count": 89,
   "metadata": {},
   "outputs": [],
   "source": [
    "list_canon = list_canon_opti(df_main, df_metadata_corpus)"
   ]
  },
  {
   "cell_type": "code",
   "execution_count": 90,
   "metadata": {},
   "outputs": [
    {
     "data": {
      "text/plain": [
       "2960"
      ]
     },
     "execution_count": 90,
     "metadata": {},
     "output_type": "execute_result"
    }
   ],
   "source": [
    "len(list_canon)"
   ]
  },
  {
   "cell_type": "code",
   "execution_count": 91,
   "metadata": {},
   "outputs": [],
   "source": [
    "df_main['canon'] = list_canon"
   ]
  },
  {
   "cell_type": "code",
   "execution_count": 92,
   "metadata": {},
   "outputs": [
    {
     "data": {
      "text/plain": [
       "0.10135135135135136"
      ]
     },
     "execution_count": 92,
     "metadata": {},
     "output_type": "execute_result"
    }
   ],
   "source": [
    "df_main['canon'].value_counts(normalize=True)[1]"
   ]
  },
  {
   "cell_type": "markdown",
   "metadata": {},
   "source": [
    "### Get balanced dataset with "
   ]
  },
  {
   "cell_type": "code",
   "execution_count": 93,
   "metadata": {},
   "outputs": [],
   "source": [
    "def ratio_truncate_df(df, ratio_canon):\n",
    "    \n",
    "    df_res = shuffle(df)\n",
    "    ratio_temp = round(df_res['canon'].value_counts(normalize=True)[1],2)\n",
    "    index_noncanon = df_res[df_res['canon']  == 'non_canon'].index \n",
    "    i, j = 0, 20\n",
    "        \n",
    "    while ratio_temp < ratio_canon:\n",
    "        df_res.drop(index_noncanon[i:j], inplace = True)\n",
    "        i = j\n",
    "        j+=20\n",
    "        ratio_temp = round(df_res['canon'].value_counts(normalize=True)[1],2)\n",
    "\n",
    "    return shuffle(df_res)"
   ]
  },
  {
   "cell_type": "code",
   "execution_count": 94,
   "metadata": {},
   "outputs": [],
   "source": [
    "df_sizeopti_last = ratio_truncate_df(df_main, 0.45)"
   ]
  },
  {
   "cell_type": "code",
   "execution_count": null,
   "metadata": {},
   "outputs": [],
   "source": []
  },
  {
   "cell_type": "code",
   "execution_count": 153,
   "metadata": {},
   "outputs": [
    {
     "data": {
      "text/plain": [
       "non_canon    360\n",
       "canon        300\n",
       "Name: canon, dtype: int64"
      ]
     },
     "execution_count": 153,
     "metadata": {},
     "output_type": "execute_result"
    }
   ],
   "source": [
    "df_sizeopti_last.canon.value_counts()"
   ]
  },
  {
   "cell_type": "code",
   "execution_count": null,
   "metadata": {},
   "outputs": [],
   "source": []
  },
  {
   "cell_type": "code",
   "execution_count": 80,
   "metadata": {},
   "outputs": [
    {
     "name": "stdout",
     "output_type": "stream",
     "text": [
      "Original dataset shape Counter({'non_canon': 293, 'canon': 235})\n",
      "              precision    recall  f1-score     support\n",
      "canon          0.738462  0.738462  0.738462   65.000000\n",
      "non_canon      0.746269  0.746269  0.746269   67.000000\n",
      "accuracy       0.742424  0.742424  0.742424    0.742424\n",
      "macro avg      0.742365  0.742365  0.742365  132.000000\n",
      "weighted avg   0.742424  0.742424  0.742424  132.000000\n"
     ]
    },
    {
     "data": {
      "image/png": "[encoded data removed]",
      "text/plain": [
       "<Figure size 432x288 with 2 Axes>"
      ]
     },
     "metadata": {
      "needs_background": "light"
     },
     "output_type": "display_data"
    }
   ],
   "source": [
    "pipe, results, scores = canonizer(df_sizeopti_last)"
   ]
  },
  {
   "cell_type": "code",
   "execution_count": null,
   "metadata": {},
   "outputs": [],
   "source": []
  },
  {
   "cell_type": "code",
   "execution_count": 96,
   "metadata": {},
   "outputs": [],
   "source": [
    "df_unigram = df_sizeopti_last.iloc[:, 0:1400]"
   ]
  },
  {
   "cell_type": "code",
   "execution_count": 97,
   "metadata": {},
   "outputs": [],
   "source": [
    "df_unigram['canon'] = df_sizeopti_last['canon']"
   ]
  },
  {
   "cell_type": "code",
   "execution_count": 76,
   "metadata": {},
   "outputs": [
    {
     "name": "stdout",
     "output_type": "stream",
     "text": [
      "Original dataset shape Counter({'non_canon': 288, 'canon': 240})\n",
      "              precision    recall  f1-score  support\n",
      "canon          0.707692  0.766667  0.736000    60.00\n",
      "non_canon      0.791045  0.736111  0.762590    72.00\n",
      "accuracy       0.750000  0.750000  0.750000     0.75\n",
      "macro avg      0.749369  0.751389  0.749295   132.00\n",
      "weighted avg   0.753157  0.750000  0.750504   132.00\n"
     ]
    },
    {
     "data": {
      "image/png": "[encoded data removed]",
      "text/plain": [
       "<Figure size 432x288 with 2 Axes>"
      ]
     },
     "metadata": {
      "needs_background": "light"
     },
     "output_type": "display_data"
    }
   ],
   "source": [
    "pipe, results, scores = canonizer(df_unigram)"
   ]
  },
  {
   "cell_type": "code",
   "execution_count": 59,
   "metadata": {},
   "outputs": [],
   "source": [
    "results.to_csv(r'results_svm/results.csv', index=True)"
   ]
  },
  {
   "cell_type": "code",
   "execution_count": 60,
   "metadata": {},
   "outputs": [
    {
     "name": "stdout",
     "output_type": "stream",
     "text": [
      "Original dataset shape Counter({'non_canon': 294, 'canon': 234})\n",
      "              precision    recall  f1-score     support\n",
      "canon          0.757576  0.757576  0.757576   66.000000\n",
      "non_canon      0.757576  0.757576  0.757576   66.000000\n",
      "accuracy       0.757576  0.757576  0.757576    0.757576\n",
      "macro avg      0.757576  0.757576  0.757576  132.000000\n",
      "weighted avg   0.757576  0.757576  0.757576  132.000000\n"
     ]
    },
    {
     "data": {
      "image/png": "[encoded data removed]",
      "text/plain": [
       "<Figure size 432x288 with 2 Axes>"
      ]
     },
     "metadata": {
      "needs_background": "light"
     },
     "output_type": "display_data"
    },
    {
     "data": {
      "image/png": "[encoded data removed]",
      "text/plain": [
       "<Figure size 1080x360 with 1 Axes>"
      ]
     },
     "metadata": {
      "needs_background": "light"
     },
     "output_type": "display_data"
    }
   ],
   "source": [
    "pipe, results, scores = canonizer(df_unigram, kernel='linear')"
   ]
  },
  {
   "cell_type": "markdown",
   "metadata": {},
   "source": [
    "### RANDOM TEST"
   ]
  },
  {
   "cell_type": "code",
   "execution_count": 84,
   "metadata": {},
   "outputs": [],
   "source": [
    "df_canon_random = df_unigram.iloc[:, 0:1000]"
   ]
  },
  {
   "cell_type": "code",
   "execution_count": 85,
   "metadata": {},
   "outputs": [],
   "source": [
    "df_canon_random['canon'] = ['canon' if random.randint(0, 1) else 'non_canon' for i in range(len(df_canon_random))]"
   ]
  },
  {
   "cell_type": "code",
   "execution_count": 86,
   "metadata": {},
   "outputs": [
    {
     "name": "stdout",
     "output_type": "stream",
     "text": [
      "Original dataset shape Counter({'canon': 286, 'non_canon': 242})\n",
      "              precision    recall  f1-score     support\n",
      "canon          0.500000  0.691176  0.580247   68.000000\n",
      "non_canon      0.447368  0.265625  0.333333   64.000000\n",
      "accuracy       0.484848  0.484848  0.484848    0.484848\n",
      "macro avg      0.473684  0.478401  0.456790  132.000000\n",
      "weighted avg   0.474482  0.484848  0.460531  132.000000\n"
     ]
    },
    {
     "data": {
      "image/png": "[encoded data removed]",
      "text/plain": [
       "<Figure size 432x288 with 2 Axes>"
      ]
     },
     "metadata": {
      "needs_background": "light"
     },
     "output_type": "display_data"
    }
   ],
   "source": [
    "pipe, results, scores = canonizer(df_canon_random)"
   ]
  },
  {
   "cell_type": "markdown",
   "metadata": {},
   "source": [
    "### Cross-Validation"
   ]
  },
  {
   "cell_type": "code",
   "execution_count": 158,
   "metadata": {},
   "outputs": [
    {
     "name": "stdout",
     "output_type": "stream",
     "text": [
      "              precision    recall  f1-score   support\n",
      "\n",
      "       canon       0.79      0.75      0.77        60\n",
      "   non_canon       0.80      0.83      0.82        72\n",
      "\n",
      "    accuracy                           0.80       132\n",
      "   macro avg       0.79      0.79      0.79       132\n",
      "weighted avg       0.80      0.80      0.79       132\n",
      "\n",
      "              precision    recall  f1-score   support\n",
      "\n",
      "       canon       0.68      0.73      0.70        60\n",
      "   non_canon       0.76      0.71      0.73        72\n",
      "\n",
      "    accuracy                           0.72       132\n",
      "   macro avg       0.72      0.72      0.72       132\n",
      "weighted avg       0.72      0.72      0.72       132\n",
      "\n",
      "              precision    recall  f1-score   support\n",
      "\n",
      "       canon       0.70      0.78      0.74        60\n",
      "   non_canon       0.80      0.72      0.76        72\n",
      "\n",
      "    accuracy                           0.75       132\n",
      "   macro avg       0.75      0.75      0.75       132\n",
      "weighted avg       0.76      0.75      0.75       132\n",
      "\n",
      "              precision    recall  f1-score   support\n",
      "\n",
      "       canon       0.72      0.63      0.67        60\n",
      "   non_canon       0.72      0.79      0.75        72\n",
      "\n",
      "    accuracy                           0.72       132\n",
      "   macro avg       0.72      0.71      0.71       132\n",
      "weighted avg       0.72      0.72      0.72       132\n",
      "\n",
      "              precision    recall  f1-score   support\n",
      "\n",
      "       canon       0.69      0.57      0.62        60\n",
      "   non_canon       0.69      0.79      0.74        72\n",
      "\n",
      "    accuracy                           0.69       132\n",
      "   macro avg       0.69      0.68      0.68       132\n",
      "weighted avg       0.69      0.69      0.68       132\n",
      "\n"
     ]
    }
   ],
   "source": [
    "pipe, results = canonizer(df_unigram, cross_validation=True)"
   ]
  },
  {
   "cell_type": "code",
   "execution_count": 159,
   "metadata": {},
   "outputs": [
    {
     "data": {
      "text/plain": [
       "0.7348484848484849"
      ]
     },
     "execution_count": 159,
     "metadata": {},
     "output_type": "execute_result"
    }
   ],
   "source": [
    "sum(results)/len(results)"
   ]
  },
  {
   "cell_type": "code",
   "execution_count": null,
   "metadata": {},
   "outputs": [],
   "source": []
  },
  {
   "cell_type": "markdown",
   "metadata": {},
   "source": [
    "### Auteur metadata"
   ]
  },
  {
   "cell_type": "code",
   "execution_count": 160,
   "metadata": {},
   "outputs": [],
   "source": [
    "def list_canon_opti(df_main, df_metadata_corpus):\n",
    "    list_canon = []\n",
    "    for elem in df_main.index:\n",
    "        if elem in df_metadata_corpus.index:\n",
    "            list_canon.append(df_metadata_corpus.loc[[elem]]['canon_auteur'][0])\n",
    "            \n",
    "    return list_canon"
   ]
  },
  {
   "cell_type": "code",
   "execution_count": 161,
   "metadata": {},
   "outputs": [],
   "source": [
    "list_canon = list_canon_opti(df_main, df_metadata_corpus)"
   ]
  },
  {
   "cell_type": "code",
   "execution_count": 162,
   "metadata": {},
   "outputs": [],
   "source": [
    "df_main['canon'] = list_canon"
   ]
  },
  {
   "cell_type": "code",
   "execution_count": 163,
   "metadata": {},
   "outputs": [
    {
     "data": {
      "text/plain": [
       "non_canon    1787\n",
       "canon        1173\n",
       "Name: canon, dtype: int64"
      ]
     },
     "execution_count": 163,
     "metadata": {},
     "output_type": "execute_result"
    }
   ],
   "source": [
    "df_main.canon.value_counts()"
   ]
  },
  {
   "cell_type": "code",
   "execution_count": 12,
   "metadata": {},
   "outputs": [
    {
     "name": "stdout",
     "output_type": "stream",
     "text": [
      "Original dataset shape Counter({'non_canon': 1411, 'canon': 957})\n",
      "              precision    recall  f1-score    support\n",
      "canon          0.840708  0.879630  0.859729  216.00000\n",
      "non_canon      0.928962  0.904255  0.916442  376.00000\n",
      "accuracy       0.895270  0.895270  0.895270    0.89527\n",
      "macro avg      0.884835  0.891942  0.888085  592.00000\n",
      "weighted avg   0.896761  0.895270  0.895749  592.00000\n"
     ]
    },
    {
     "data": {
      "image/png": "[encoded data removed]",
      "text/plain": [
       "<Figure size 432x288 with 2 Axes>"
      ]
     },
     "metadata": {
      "needs_background": "light"
     },
     "output_type": "display_data"
    }
   ],
   "source": [
    "pipe, results, scores = canonizer(df_main)"
   ]
  },
  {
   "cell_type": "code",
   "execution_count": 13,
   "metadata": {},
   "outputs": [
    {
     "data": {
      "text/plain": [
       "non_canon    0.603716\n",
       "canon        0.396284\n",
       "Name: canon, dtype: float64"
      ]
     },
     "execution_count": 13,
     "metadata": {},
     "output_type": "execute_result"
    }
   ],
   "source": [
    "df_main.canon.value_counts(normalize=True)"
   ]
  },
  {
   "cell_type": "code",
   "execution_count": 164,
   "metadata": {},
   "outputs": [],
   "source": [
    "def ratio_truncate_df(df, ratio_canon):\n",
    "    \n",
    "    df_res = shuffle(df)\n",
    "    ratio_temp = round(df_res['canon'].value_counts(normalize=True)[1],2)\n",
    "    index_noncanon = df_res[df_res['canon']  == 'non_canon'].index \n",
    "    i, j = 0, 20\n",
    "        \n",
    "    while ratio_temp < ratio_canon:\n",
    "        df_res.drop(index_noncanon[i:j], inplace = True)\n",
    "        i = j\n",
    "        j+=20\n",
    "        ratio_temp = round(df_res['canon'].value_counts(normalize=True)[1],2)\n",
    "\n",
    "    return shuffle(df_res)"
   ]
  },
  {
   "cell_type": "code",
   "execution_count": 165,
   "metadata": {},
   "outputs": [],
   "source": [
    "df_sizeopti_last = ratio_truncate_df(df_main, 0.45)"
   ]
  },
  {
   "cell_type": "code",
   "execution_count": 166,
   "metadata": {},
   "outputs": [
    {
     "data": {
      "text/plain": [
       "non_canon    1447\n",
       "canon        1173\n",
       "Name: canon, dtype: int64"
      ]
     },
     "execution_count": 166,
     "metadata": {},
     "output_type": "execute_result"
    }
   ],
   "source": [
    "df_sizeopti_last.canon.value_counts()"
   ]
  },
  {
   "cell_type": "code",
   "execution_count": 18,
   "metadata": {},
   "outputs": [
    {
     "name": "stdout",
     "output_type": "stream",
     "text": [
      "Original dataset shape Counter({'non_canon': 1157, 'canon': 939})\n",
      "              precision    recall  f1-score     support\n",
      "canon          0.856557  0.893162  0.874477  234.000000\n",
      "non_canon      0.910714  0.879310  0.894737  290.000000\n",
      "accuracy       0.885496  0.885496  0.885496    0.885496\n",
      "macro avg      0.883636  0.886236  0.884607  524.000000\n",
      "weighted avg   0.886530  0.885496  0.885690  524.000000\n"
     ]
    },
    {
     "data": {
      "image/png": "[encoded data removed]",
      "text/plain": [
       "<Figure size 432x288 with 2 Axes>"
      ]
     },
     "metadata": {
      "needs_background": "light"
     },
     "output_type": "display_data"
    }
   ],
   "source": [
    "pipe, results, scores = canonizer(df_sizeopti_last)"
   ]
  },
  {
   "cell_type": "code",
   "execution_count": 19,
   "metadata": {},
   "outputs": [],
   "source": [
    "results.to_csv(r'results_svm/results_authors.csv', index=True)"
   ]
  },
  {
   "cell_type": "code",
   "execution_count": null,
   "metadata": {},
   "outputs": [],
   "source": []
  },
  {
   "cell_type": "code",
   "execution_count": 143,
   "metadata": {},
   "outputs": [],
   "source": [
    "df_unigram = df_sizeopti_last.iloc[:, 0:1400]"
   ]
  },
  {
   "cell_type": "code",
   "execution_count": 144,
   "metadata": {},
   "outputs": [],
   "source": [
    "df_unigram['canon'] = df_sizeopti_last['canon']"
   ]
  },
  {
   "cell_type": "code",
   "execution_count": 145,
   "metadata": {},
   "outputs": [
    {
     "name": "stdout",
     "output_type": "stream",
     "text": [
      "Original dataset shape Counter({'non-canon': 1148, 'canon': 916})\n",
      "              precision    recall  f1-score     support\n",
      "canon          0.882114  0.911765  0.896694  238.000000\n",
      "non-canon      0.922222  0.895683  0.908759  278.000000\n",
      "accuracy       0.903101  0.903101  0.903101    0.903101\n",
      "macro avg      0.902168  0.903724  0.902727  516.000000\n",
      "weighted avg   0.903723  0.903101  0.903194  516.000000\n"
     ]
    },
    {
     "data": {
      "image/png": "[encoded data removed]",
      "text/plain": [
       "<Figure size 432x288 with 2 Axes>"
      ]
     },
     "metadata": {
      "needs_background": "light"
     },
     "output_type": "display_data"
    }
   ],
   "source": [
    "pipe, results, scores = canonizer(df_unigram)"
   ]
  },
  {
   "cell_type": "code",
   "execution_count": 149,
   "metadata": {},
   "outputs": [
    {
     "name": "stdout",
     "output_type": "stream",
     "text": [
      "              precision    recall  f1-score   support\n",
      "\n",
      "       canon       0.88      0.89      0.89       231\n",
      "   non-canon       0.93      0.92      0.93       361\n",
      "\n",
      "    accuracy                           0.91       592\n",
      "   macro avg       0.91      0.91      0.91       592\n",
      "weighted avg       0.91      0.91      0.91       592\n",
      "\n",
      "              precision    recall  f1-score   support\n",
      "\n",
      "       canon       0.85      0.88      0.87       231\n",
      "   non-canon       0.92      0.90      0.91       361\n",
      "\n",
      "    accuracy                           0.89       592\n",
      "   macro avg       0.89      0.89      0.89       592\n",
      "weighted avg       0.89      0.89      0.89       592\n",
      "\n",
      "              precision    recall  f1-score   support\n",
      "\n",
      "       canon       0.88      0.87      0.88       231\n",
      "   non-canon       0.92      0.93      0.92       361\n",
      "\n",
      "    accuracy                           0.91       592\n",
      "   macro avg       0.90      0.90      0.90       592\n",
      "weighted avg       0.91      0.91      0.91       592\n",
      "\n",
      "              precision    recall  f1-score   support\n",
      "\n",
      "       canon       0.89      0.91      0.90       231\n",
      "   non-canon       0.94      0.93      0.93       361\n",
      "\n",
      "    accuracy                           0.92       592\n",
      "   macro avg       0.92      0.92      0.92       592\n",
      "weighted avg       0.92      0.92      0.92       592\n",
      "\n",
      "              precision    recall  f1-score   support\n",
      "\n",
      "       canon       0.85      0.91      0.88       230\n",
      "   non-canon       0.94      0.90      0.92       362\n",
      "\n",
      "    accuracy                           0.91       592\n",
      "   macro avg       0.90      0.91      0.90       592\n",
      "weighted avg       0.91      0.91      0.91       592\n",
      "\n"
     ]
    }
   ],
   "source": [
    "pipe, results = canonizer(df_main, cross_validation=True)"
   ]
  },
  {
   "cell_type": "code",
   "execution_count": 150,
   "metadata": {},
   "outputs": [
    {
     "data": {
      "text/plain": [
       "0.9070945945945945"
      ]
     },
     "execution_count": 150,
     "metadata": {},
     "output_type": "execute_result"
    }
   ],
   "source": [
    "sum(results)/len(results)"
   ]
  },
  {
   "cell_type": "code",
   "execution_count": 148,
   "metadata": {},
   "outputs": [
    {
     "data": {
      "text/plain": [
       "0.8988372093023255"
      ]
     },
     "execution_count": 148,
     "metadata": {},
     "output_type": "execute_result"
    }
   ],
   "source": [
    "sum(results)/len(results)"
   ]
  },
  {
   "cell_type": "code",
   "execution_count": null,
   "metadata": {},
   "outputs": [],
   "source": []
  },
  {
   "cell_type": "code",
   "execution_count": null,
   "metadata": {},
   "outputs": [],
   "source": []
  },
  {
   "cell_type": "markdown",
   "metadata": {},
   "source": [
    "### Get dataset with one novel per author"
   ]
  },
  {
   "cell_type": "code",
   "execution_count": 170,
   "metadata": {},
   "outputs": [],
   "source": [
    "def onetxtoneauthor(df):\n",
    "    liste_vu, index_vu = [], []\n",
    "    df_onetxtoneauthor = pd.DataFrame(columns = df.columns)\n",
    "    \n",
    "    for index, row in df.iterrows():\n",
    "        auteur = index.split(\"_\")[1].replace('-',' ')\n",
    "        if auteur not in liste_vu:\n",
    "            df_onetxtoneauthor.loc[len(df_onetxtoneauthor.index)] = row\n",
    "            liste_vu.append(auteur)\n",
    "            index_vu.append(index)\n",
    "    df_onetxtoneauthor.index = index_vu\n",
    "    return df_onetxtoneauthor"
   ]
  },
  {
   "cell_type": "code",
   "execution_count": 171,
   "metadata": {},
   "outputs": [],
   "source": [
    "df_unigrams_ones = onetxtoneauthor(df_unigram)"
   ]
  },
  {
   "cell_type": "code",
   "execution_count": 172,
   "metadata": {},
   "outputs": [
    {
     "data": {
      "text/plain": [
       "non_canon    0.612245\n",
       "canon        0.387755\n",
       "Name: canon, dtype: float64"
      ]
     },
     "execution_count": 172,
     "metadata": {},
     "output_type": "execute_result"
    }
   ],
   "source": [
    "df_unigrams_ones.canon.value_counts(normalize=True)"
   ]
  },
  {
   "cell_type": "code",
   "execution_count": 173,
   "metadata": {},
   "outputs": [],
   "source": [
    "df_unigrams_ones_opti = ratio_truncate_df(df_unigrams_ones, 0.45)"
   ]
  },
  {
   "cell_type": "code",
   "execution_count": null,
   "metadata": {},
   "outputs": [],
   "source": []
  },
  {
   "cell_type": "code",
   "execution_count": 174,
   "metadata": {},
   "outputs": [
    {
     "data": {
      "text/plain": [
       "non_canon    140\n",
       "canon        114\n",
       "Name: canon, dtype: int64"
      ]
     },
     "execution_count": 174,
     "metadata": {},
     "output_type": "execute_result"
    }
   ],
   "source": [
    "df_unigrams_ones_opti.canon.value_counts()"
   ]
  },
  {
   "cell_type": "code",
   "execution_count": 156,
   "metadata": {},
   "outputs": [
    {
     "name": "stdout",
     "output_type": "stream",
     "text": [
      "Original dataset shape Counter({'non-canon': 154, 'canon': 129})\n",
      "              precision    recall  f1-score   support\n",
      "canon          0.794118  0.870968  0.830769  31.00000\n",
      "non-canon      0.891892  0.825000  0.857143  40.00000\n",
      "accuracy       0.845070  0.845070  0.845070   0.84507\n",
      "macro avg      0.843005  0.847984  0.843956  71.00000\n",
      "weighted avg   0.849202  0.845070  0.845628  71.00000\n"
     ]
    },
    {
     "data": {
      "image/png": "[encoded data removed]",
      "text/plain": [
       "<Figure size 432x288 with 2 Axes>"
      ]
     },
     "metadata": {
      "needs_background": "light"
     },
     "output_type": "display_data"
    }
   ],
   "source": [
    "pipe, results, scores = canonizer(df_unigrams_ones_opti)"
   ]
  },
  {
   "cell_type": "code",
   "execution_count": 157,
   "metadata": {},
   "outputs": [
    {
     "name": "stdout",
     "output_type": "stream",
     "text": [
      "              precision    recall  f1-score   support\n",
      "\n",
      "       canon       0.78      0.78      0.78        32\n",
      "   non-canon       0.82      0.82      0.82        39\n",
      "\n",
      "    accuracy                           0.80        71\n",
      "   macro avg       0.80      0.80      0.80        71\n",
      "weighted avg       0.80      0.80      0.80        71\n",
      "\n",
      "              precision    recall  f1-score   support\n",
      "\n",
      "       canon       0.69      0.75      0.72        32\n",
      "   non-canon       0.78      0.72      0.75        39\n",
      "\n",
      "    accuracy                           0.73        71\n",
      "   macro avg       0.73      0.73      0.73        71\n",
      "weighted avg       0.74      0.73      0.73        71\n",
      "\n",
      "              precision    recall  f1-score   support\n",
      "\n",
      "       canon       0.72      0.91      0.81        32\n",
      "   non-canon       0.90      0.72      0.80        39\n",
      "\n",
      "    accuracy                           0.80        71\n",
      "   macro avg       0.81      0.81      0.80        71\n",
      "weighted avg       0.82      0.80      0.80        71\n",
      "\n",
      "              precision    recall  f1-score   support\n",
      "\n",
      "       canon       0.77      0.94      0.85        32\n",
      "   non-canon       0.94      0.77      0.85        39\n",
      "\n",
      "    accuracy                           0.85        71\n",
      "   macro avg       0.85      0.85      0.85        71\n",
      "weighted avg       0.86      0.85      0.85        71\n",
      "\n",
      "              precision    recall  f1-score   support\n",
      "\n",
      "       canon       0.81      0.66      0.72        32\n",
      "   non-canon       0.75      0.87      0.80        38\n",
      "\n",
      "    accuracy                           0.77        70\n",
      "   macro avg       0.78      0.76      0.76        70\n",
      "weighted avg       0.78      0.77      0.77        70\n",
      "\n"
     ]
    }
   ],
   "source": [
    "pipe, results = canonizer(df_unigrams_ones_opti, cross_validation=True)"
   ]
  },
  {
   "cell_type": "code",
   "execution_count": 158,
   "metadata": {},
   "outputs": [
    {
     "data": {
      "text/plain": [
       "0.7909054325955734"
      ]
     },
     "execution_count": 158,
     "metadata": {},
     "output_type": "execute_result"
    }
   ],
   "source": [
    "sum(results)/len(results)"
   ]
  },
  {
   "cell_type": "code",
   "execution_count": null,
   "metadata": {},
   "outputs": [],
   "source": []
  },
  {
   "cell_type": "markdown",
   "metadata": {},
   "source": [
    "### Get dataset with max 5 novels per author "
   ]
  },
  {
   "cell_type": "code",
   "execution_count": 159,
   "metadata": {},
   "outputs": [],
   "source": [
    "def max_five_txt_by_author(df, n):\n",
    "    liste_vu, index_vu = [], []\n",
    "    df_onetxtoneauthor = pd.DataFrame(columns = df.columns)\n",
    "    \n",
    "    for index, row in df.iterrows():\n",
    "        auteur = index.split(\"_\")[1].replace('-',' ')\n",
    "        \n",
    "        if Counter(liste_vu)[auteur] <= 5:          \n",
    "            df_onetxtoneauthor.loc[len(df_onetxtoneauthor.index)] = row\n",
    "            liste_vu.append(auteur)\n",
    "            index_vu.append(index)\n",
    "    df_onetxtoneauthor.index = index_vu\n",
    "    return df_onetxtoneauthor"
   ]
  },
  {
   "cell_type": "code",
   "execution_count": 160,
   "metadata": {},
   "outputs": [],
   "source": [
    "df_unigrams_fives = max_five_txt_by_author(df_unigram, 5)"
   ]
  },
  {
   "cell_type": "code",
   "execution_count": 161,
   "metadata": {},
   "outputs": [
    {
     "data": {
      "text/plain": [
       "non-canon    0.645102\n",
       "canon        0.354898\n",
       "Name: canon, dtype: float64"
      ]
     },
     "execution_count": 161,
     "metadata": {},
     "output_type": "execute_result"
    }
   ],
   "source": [
    "df_unigrams_fives.canon.value_counts(normalize=True)"
   ]
  },
  {
   "cell_type": "code",
   "execution_count": 162,
   "metadata": {},
   "outputs": [],
   "source": [
    "df_unigrams_fives_opti = ratio_truncate_df(df_unigrams_fives, 0.45)"
   ]
  },
  {
   "cell_type": "code",
   "execution_count": 164,
   "metadata": {},
   "outputs": [
    {
     "name": "stdout",
     "output_type": "stream",
     "text": [
      "Original dataset shape Counter({'non-canon': 565, 'canon': 461})\n",
      "              precision    recall  f1-score     support\n",
      "canon          0.826446  0.869565  0.847458  115.000000\n",
      "non-canon      0.889706  0.852113  0.870504  142.000000\n",
      "accuracy       0.859922  0.859922  0.859922    0.859922\n",
      "macro avg      0.858076  0.860839  0.858981  257.000000\n",
      "weighted avg   0.861399  0.859922  0.860191  257.000000\n"
     ]
    },
    {
     "data": {
      "image/png": "[encoded data removed]",
      "text/plain": [
       "<Figure size 432x288 with 2 Axes>"
      ]
     },
     "metadata": {
      "needs_background": "light"
     },
     "output_type": "display_data"
    }
   ],
   "source": [
    "pipe, results, scores = canonizer(df_unigrams_fives_opti)"
   ]
  },
  {
   "cell_type": "code",
   "execution_count": 166,
   "metadata": {},
   "outputs": [
    {
     "name": "stdout",
     "output_type": "stream",
     "text": [
      "              precision    recall  f1-score   support\n",
      "\n",
      "       canon       0.80      0.90      0.85       115\n",
      "   non-canon       0.91      0.82      0.86       142\n",
      "\n",
      "    accuracy                           0.86       257\n",
      "   macro avg       0.86      0.86      0.86       257\n",
      "weighted avg       0.86      0.86      0.86       257\n",
      "\n",
      "              precision    recall  f1-score   support\n",
      "\n",
      "       canon       0.80      0.80      0.80       115\n",
      "   non-canon       0.84      0.84      0.84       142\n",
      "\n",
      "    accuracy                           0.82       257\n",
      "   macro avg       0.82      0.82      0.82       257\n",
      "weighted avg       0.82      0.82      0.82       257\n",
      "\n",
      "              precision    recall  f1-score   support\n",
      "\n",
      "       canon       0.75      0.85      0.80       116\n",
      "   non-canon       0.86      0.77      0.81       141\n",
      "\n",
      "    accuracy                           0.81       257\n",
      "   macro avg       0.81      0.81      0.81       257\n",
      "weighted avg       0.81      0.81      0.81       257\n",
      "\n",
      "              precision    recall  f1-score   support\n",
      "\n",
      "       canon       0.79      0.84      0.82       115\n",
      "   non-canon       0.86      0.82      0.84       141\n",
      "\n",
      "    accuracy                           0.83       256\n",
      "   macro avg       0.83      0.83      0.83       256\n",
      "weighted avg       0.83      0.83      0.83       256\n",
      "\n",
      "              precision    recall  f1-score   support\n",
      "\n",
      "       canon       0.82      0.94      0.87       115\n",
      "   non-canon       0.94      0.83      0.88       141\n",
      "\n",
      "    accuracy                           0.88       256\n",
      "   macro avg       0.88      0.88      0.88       256\n",
      "weighted avg       0.89      0.88      0.88       256\n",
      "\n"
     ]
    }
   ],
   "source": [
    "pipe, results = canonizer(df_unigrams_fives_opti, cross_validation=True)"
   ]
  },
  {
   "cell_type": "code",
   "execution_count": 168,
   "metadata": {},
   "outputs": [
    {
     "data": {
      "text/plain": [
       "0.8379043044747082"
      ]
     },
     "execution_count": 168,
     "metadata": {},
     "output_type": "execute_result"
    }
   ],
   "source": [
    "sum(results)/len(results)"
   ]
  },
  {
   "cell_type": "code",
   "execution_count": null,
   "metadata": {},
   "outputs": [],
   "source": []
  }
 ],
 "metadata": {
  "kernelspec": {
   "display_name": "Python 3 (ipykernel)",
   "language": "python",
   "name": "python3"
  },
  "language_info": {
   "codemirror_mode": {
    "name": "ipython",
    "version": 3
   },
   "file_extension": ".py",
   "mimetype": "text/x-python",
   "name": "python",
   "nbconvert_exporter": "python",
   "pygments_lexer": "ipython3",
   "version": "3.9.12"
  }
 },
 "nbformat": 4,
 "nbformat_minor": 4
}
