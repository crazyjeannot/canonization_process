{
 "cells": [
  {
   "cell_type": "code",
   "execution_count": 341,
   "metadata": {},
   "outputs": [],
   "source": [
    "import pandas as pd\n",
    "from os import path\n",
    "from collections import Counter\n",
    "import re\n",
    "from unidecode import unidecode"
   ]
  },
  {
   "cell_type": "code",
   "execution_count": 353,
   "metadata": {},
   "outputs": [],
   "source": [
    "df_meta_data = pd.DataFrame(columns = ['bac', 'brevet', \"lm\", \"sup\", \"prix\", \"gf\", \"pleiade\", \"gouv\"])"
   ]
  },
  {
   "cell_type": "markdown",
   "metadata": {},
   "source": [
    "# RETRIEVE DATA CANONS"
   ]
  },
  {
   "cell_type": "markdown",
   "metadata": {},
   "source": [
    "### BAC"
   ]
  },
  {
   "cell_type": "code",
   "execution_count": 354,
   "metadata": {},
   "outputs": [],
   "source": [
    "df_bac = pd.read_csv(r'../metadata/csv_bac.csv', encoding='latin')"
   ]
  },
  {
   "cell_type": "code",
   "execution_count": 355,
   "metadata": {},
   "outputs": [],
   "source": [
    "#def net_bac(list_titre):\n",
    "#    liste_net = []\n",
    "#    for elem in list_titre:\n",
    "#        if re.findall(',', unidecode(elem).lower()) and re.findall('\"', unidecode(elem).lower().split(',')[0]) or re.findall('<', unidecode(elem).lower().split(',')[0]) or re.findall('«', unidecode(elem).lower().split(',')[0]):\n",
    "#            liste_net.append(unidecode(elem).lower().split(',')[1].split('(')[0].replace('« ','').replace(' »', '').replace(\"'uvre\", \"'oeuvre\").replace(' uvre', ' oeuvre').replace(\"uvre\", 'oeuvre').replace(\"oeoeuvre\", 'oeuvre').replace('<<','').replace('<< ','').replace('>>','').replace(' >>','').replace('\"',''))\n",
    "#        else:\n",
    "#            liste_net.append(unidecode(elem).lower().split(',')[0].split('(')[0].replace('« ','').replace(' »', '').replace(\"'uvre\", \"'oeuvre\").replace(' uvre', ' oeuvre').replace(\"uvre\", 'oeuvre').replace(\"oeoeuvre\", 'oeuvre').replace('<<','').replace('<< ','').replace('>>','').replace(' >>','').replace('\"',''))\n",
    "#    return liste_net"
   ]
  },
  {
   "cell_type": "code",
   "execution_count": 356,
   "metadata": {},
   "outputs": [],
   "source": [
    "#liste_net = net_bac(list(df_bac.Titre))"
   ]
  },
  {
   "cell_type": "code",
   "execution_count": 357,
   "metadata": {},
   "outputs": [],
   "source": [
    "liste_net = [unidecode(elem).lower().split(',')[0].split('(')[0].replace('« ','').replace(' »', '').replace(\"'uvre\", \"'oeuvre\").replace(' uvre', ' oeuvre').replace(\"uvre\", 'oeuvre').replace(\"oeoeuvre\", 'oeuvre').replace('<<','').replace('<< ','').replace('>>','').replace(' >>','').replace('\"','') for elem in df_bac.Titre if type(elem) == str]"
   ]
  },
  {
   "cell_type": "code",
   "execution_count": 358,
   "metadata": {},
   "outputs": [],
   "source": [
    "liste_bac = list(set([elem.replace(\"'\", ' ') if re.findall(\".'.\", elem) else elem for elem in liste_net]))"
   ]
  },
  {
   "cell_type": "code",
   "execution_count": 359,
   "metadata": {},
   "outputs": [],
   "source": [
    "df_meta_data[\"bac\"] = pd.Series(liste_bac)"
   ]
  },
  {
   "cell_type": "code",
   "execution_count": 360,
   "metadata": {},
   "outputs": [
    {
     "data": {
      "text/plain": [
       "664"
      ]
     },
     "execution_count": 360,
     "metadata": {},
     "output_type": "execute_result"
    }
   ],
   "source": [
    "len(liste_bac)"
   ]
  },
  {
   "cell_type": "markdown",
   "metadata": {},
   "source": [
    "### PRIX LITTERAIRES"
   ]
  },
  {
   "cell_type": "code",
   "execution_count": 361,
   "metadata": {},
   "outputs": [],
   "source": [
    "df_prix = pd.read_csv(r'../metadata/csv_prix.csv', encoding='latin')"
   ]
  },
  {
   "cell_type": "code",
   "execution_count": 362,
   "metadata": {},
   "outputs": [],
   "source": [
    "liste_net = [unidecode(elem).lower().replace(' uvres', ' oeuvres').replace(' uvre', ' oeuvre') for elem in df_prix.Roman]"
   ]
  },
  {
   "cell_type": "code",
   "execution_count": 363,
   "metadata": {},
   "outputs": [],
   "source": [
    "liste_prix = list(set([elem.replace(\"'\", ' ') if re.findall(\".'.\", elem) else elem for elem in liste_net]))"
   ]
  },
  {
   "cell_type": "code",
   "execution_count": 364,
   "metadata": {},
   "outputs": [],
   "source": [
    "df_meta_data[\"prix\"] = pd.Series(liste_prix)"
   ]
  },
  {
   "cell_type": "code",
   "execution_count": 365,
   "metadata": {},
   "outputs": [
    {
     "data": {
      "text/plain": [
       "651"
      ]
     },
     "execution_count": 365,
     "metadata": {},
     "output_type": "execute_result"
    }
   ],
   "source": [
    "len(liste_prix)"
   ]
  },
  {
   "cell_type": "code",
   "execution_count": null,
   "metadata": {},
   "outputs": [],
   "source": []
  },
  {
   "cell_type": "markdown",
   "metadata": {},
   "source": [
    "### BREVET"
   ]
  },
  {
   "cell_type": "code",
   "execution_count": 366,
   "metadata": {},
   "outputs": [],
   "source": [
    "df_brevet = pd.read_csv(r'../metadata/csv_brevet.csv')"
   ]
  },
  {
   "cell_type": "code",
   "execution_count": 367,
   "metadata": {},
   "outputs": [],
   "source": [
    "liste_net = [unidecode(elem).lower() for elem in df_brevet.Titre if type(elem) == str]"
   ]
  },
  {
   "cell_type": "code",
   "execution_count": 368,
   "metadata": {},
   "outputs": [
    {
     "data": {
      "text/plain": [
       "252"
      ]
     },
     "execution_count": 368,
     "metadata": {},
     "output_type": "execute_result"
    }
   ],
   "source": [
    "len(liste_net)"
   ]
  },
  {
   "cell_type": "code",
   "execution_count": 369,
   "metadata": {},
   "outputs": [],
   "source": [
    "liste_brevet = list(set([elem.replace(\"'\", ' ') if re.findall(\".'.\", elem) else elem for elem in liste_net]))"
   ]
  },
  {
   "cell_type": "code",
   "execution_count": 370,
   "metadata": {},
   "outputs": [
    {
     "data": {
      "text/plain": [
       "185"
      ]
     },
     "execution_count": 370,
     "metadata": {},
     "output_type": "execute_result"
    }
   ],
   "source": [
    "len(liste_brevet)"
   ]
  },
  {
   "cell_type": "code",
   "execution_count": 371,
   "metadata": {},
   "outputs": [],
   "source": [
    "df_meta_data[\"brevet\"] = pd.Series(liste_brevet)"
   ]
  },
  {
   "cell_type": "markdown",
   "metadata": {},
   "source": [
    "### SUPERIEUR"
   ]
  },
  {
   "cell_type": "code",
   "execution_count": 372,
   "metadata": {},
   "outputs": [],
   "source": [
    "df_sup = pd.read_csv(r'../metadata/csv_sup.csv', encoding='utf-8')"
   ]
  },
  {
   "cell_type": "code",
   "execution_count": 373,
   "metadata": {},
   "outputs": [],
   "source": [
    "liste_net = [unidecode(elem).lower().split(',')[0].split('(')[0] for elem in list(df_sup.Titres[833:]) if type(elem) == str]"
   ]
  },
  {
   "cell_type": "code",
   "execution_count": 374,
   "metadata": {},
   "outputs": [],
   "source": [
    "liste_sup = list(set([elem.replace(\"'\", ' ') if re.findall(\".'.\", elem) else elem for elem in liste_net]))"
   ]
  },
  {
   "cell_type": "code",
   "execution_count": 375,
   "metadata": {},
   "outputs": [],
   "source": [
    "df_meta_data[\"sup\"] = pd.Series(liste_sup)"
   ]
  },
  {
   "cell_type": "code",
   "execution_count": 376,
   "metadata": {},
   "outputs": [],
   "source": [
    "#df_monument = pd.read_csv(r'data_canons\\csv_monument.csv')"
   ]
  },
  {
   "cell_type": "markdown",
   "metadata": {},
   "source": [
    "### GOUV"
   ]
  },
  {
   "cell_type": "code",
   "execution_count": 377,
   "metadata": {},
   "outputs": [],
   "source": [
    "df_gouv = pd.read_csv(r'../metadata/csv_edition.csv')"
   ]
  },
  {
   "cell_type": "code",
   "execution_count": 378,
   "metadata": {},
   "outputs": [],
   "source": [
    "liste_net = [unidecode(elem).lower().split(',')[0].split('.')[0].split('(')[0].split(';')[0] for elem in list(df_gouv.Titre[799:]) if type(elem) == str]"
   ]
  },
  {
   "cell_type": "code",
   "execution_count": 379,
   "metadata": {},
   "outputs": [
    {
     "data": {
      "text/plain": [
       "149"
      ]
     },
     "execution_count": 379,
     "metadata": {},
     "output_type": "execute_result"
    }
   ],
   "source": [
    "len(liste_net)"
   ]
  },
  {
   "cell_type": "code",
   "execution_count": 380,
   "metadata": {},
   "outputs": [],
   "source": [
    "liste_gouv = list(set([elem.replace(\"'\", ' ') if re.findall(\".'.\", elem) else elem for elem in liste_net]))"
   ]
  },
  {
   "cell_type": "code",
   "execution_count": 381,
   "metadata": {},
   "outputs": [
    {
     "data": {
      "text/plain": [
       "126"
      ]
     },
     "execution_count": 381,
     "metadata": {},
     "output_type": "execute_result"
    }
   ],
   "source": [
    "len(liste_gouv)"
   ]
  },
  {
   "cell_type": "code",
   "execution_count": 382,
   "metadata": {},
   "outputs": [],
   "source": [
    "df_meta_data[\"gouv\"] = pd.Series(liste_gouv)"
   ]
  },
  {
   "cell_type": "code",
   "execution_count": null,
   "metadata": {},
   "outputs": [],
   "source": []
  },
  {
   "cell_type": "code",
   "execution_count": null,
   "metadata": {},
   "outputs": [],
   "source": []
  },
  {
   "cell_type": "markdown",
   "metadata": {},
   "source": [
    "### LAGARDE ET MICHARD"
   ]
  },
  {
   "cell_type": "code",
   "execution_count": 198,
   "metadata": {},
   "outputs": [],
   "source": [
    "path_to_txt = r'data_canons\\txt_lagarde_michard_auteurs.txt'"
   ]
  },
  {
   "cell_type": "code",
   "execution_count": 199,
   "metadata": {},
   "outputs": [],
   "source": [
    "def read_data_txt(path_to_txt):\n",
    "    with open(path_to_txt, encoding = 'utf-8') as f:\n",
    "        lines = f.readlines()\n",
    "    return lines"
   ]
  },
  {
   "cell_type": "code",
   "execution_count": null,
   "metadata": {},
   "outputs": [],
   "source": [
    "liste_lagarde_michard = read_data_txt(path_to_txt)"
   ]
  },
  {
   "cell_type": "code",
   "execution_count": 201,
   "metadata": {},
   "outputs": [],
   "source": [
    "def nettoyage_lm(liste_drue):\n",
    "    liste_net = []\n",
    "    for lm in liste_drue:\n",
    "        temp = lm.replace(\"�\", \"e\")\n",
    "        temp0 = re.sub(r'[^\\w\\s]', ' ', temp)\n",
    "        temp1 = temp0.replace(\"\\n\", \"\")\n",
    "        temp2 = temp1.lower()\n",
    "        if temp2.split(' ')[0] == 'franeois':\n",
    "            liste_net.append(\"françois \"+\" \".join(temp2.split(' ')[1:]))\n",
    "        else:\n",
    "            liste_net.append(temp2)\n",
    "    return liste_net "
   ]
  },
  {
   "cell_type": "code",
   "execution_count": 65,
   "metadata": {},
   "outputs": [],
   "source": [
    "liste_lagarde_michard = nettoyage_lm(liste_lagarde_michard)"
   ]
  },
  {
   "cell_type": "code",
   "execution_count": 278,
   "metadata": {},
   "outputs": [
    {
     "data": {
      "text/plain": [
       "156"
      ]
     },
     "execution_count": 278,
     "metadata": {},
     "output_type": "execute_result"
    }
   ],
   "source": [
    "len(liste_lagarde_michard)"
   ]
  },
  {
   "cell_type": "code",
   "execution_count": null,
   "metadata": {},
   "outputs": [],
   "source": [
    "df_meta_data[\"lm\"] = pd.Series(liste_lagarde_michard)"
   ]
  },
  {
   "cell_type": "markdown",
   "metadata": {},
   "source": [
    "### 01/11"
   ]
  },
  {
   "cell_type": "code",
   "execution_count": 383,
   "metadata": {},
   "outputs": [],
   "source": [
    "df_temp = pd.read_csv(r'../metadata/meta_data_canons.csv')"
   ]
  },
  {
   "cell_type": "code",
   "execution_count": 384,
   "metadata": {},
   "outputs": [],
   "source": [
    "liste_net = [unidecode(elem).lower() for elem in df_temp.lm if type(elem) == str]"
   ]
  },
  {
   "cell_type": "code",
   "execution_count": 385,
   "metadata": {},
   "outputs": [
    {
     "data": {
      "text/plain": [
       "156"
      ]
     },
     "execution_count": 385,
     "metadata": {},
     "output_type": "execute_result"
    }
   ],
   "source": [
    "len(liste_net)"
   ]
  },
  {
   "cell_type": "code",
   "execution_count": 386,
   "metadata": {},
   "outputs": [],
   "source": [
    "liste_lm = list(set([elem.replace(\"'\", ' ') if re.findall(\".'.\", elem) else elem for elem in liste_net]))"
   ]
  },
  {
   "cell_type": "code",
   "execution_count": 387,
   "metadata": {},
   "outputs": [
    {
     "data": {
      "text/plain": [
       "151"
      ]
     },
     "execution_count": 387,
     "metadata": {},
     "output_type": "execute_result"
    }
   ],
   "source": [
    "len(liste_lm)"
   ]
  },
  {
   "cell_type": "code",
   "execution_count": 388,
   "metadata": {},
   "outputs": [],
   "source": [
    "df_meta_data[\"lm\"] = pd.Series(liste_lm)"
   ]
  },
  {
   "cell_type": "code",
   "execution_count": null,
   "metadata": {},
   "outputs": [],
   "source": []
  },
  {
   "cell_type": "markdown",
   "metadata": {},
   "source": [
    "### Garnier Flammarion"
   ]
  },
  {
   "cell_type": "code",
   "execution_count": 68,
   "metadata": {},
   "outputs": [],
   "source": [
    "#path_to_txt = r'data_canons\\txt_garnier_flammarion.txt'\n",
    "#liste_garnier_flammarion = read_data_txt(path_to_txt)"
   ]
  },
  {
   "cell_type": "code",
   "execution_count": 141,
   "metadata": {},
   "outputs": [],
   "source": [
    "list_gf = ['Le Médecin de campagne', 'Une fille d’Ève', 'Annales', 'Le Contrat de mariage', 'Mademoiselle de Maupin', 'Le Siècle de Louis XIV', 'Le Siècle de Louis XIV', 'Le Curé de village', 'Pierrette', 'Vingt ans après', 'Le Curé de Tours', 'Les Aventures de Télémaque', 'Histoire de Charles XII', 'Théâtre de Clara Gazul – La Famille de Carvajal', 'Conjuration de Catilina – Guerre de Jugurtha – Histoires', 'Itinéraire de Paris à Jérusalem', 'Physiologie du mariage', 'Les Bijoux indiscrets', 'Mémoires', 'Mémoires', 'Volupté', 'L’Affaire Dreyfus', 'Les Paysans', 'Racine et Shakespeare', 'La Petite Sirène', \"Écrits sur l'art\", 'La Conquête de Plassans', 'Souvenirs d’enfance et de jeunesse', 'La Terre', 'La Joie de vivre', 'Les Souffrances du jeune Werther', 'Mademoiselle Fifi', 'Le Rêve', 'Le Docteur Pascal', 'La Débâcle', 'Mémoires', 'Là-bas', 'Mireille', 'Lettres édifiantes et curieuses de Chine', 'Histoire comique de Francion', 'Le Voyage en Orient', 'Contes fantastiques', 'Contes et nouvelles en vers', 'Le Diable amoureux', 'Un adolescent d’autrefois', 'Mar Morto', 'Nouvelles romaines', 'Annette et le criminel', 'Lucien Leuwen', 'Lucien Leuwen', 'La Mise en scène', 'Le Journal d’une femme de chambre', 'L’Idiot', 'Mario et le magicien', 'Hécate et ses chiens', 'La Disparition de Majorana – Les Poignardeurs', 'La Naissance du jour', 'Le Pont aux trois arches', 'Le Conformiste', 'Le Fils du ciel', 'Âmes masquées – La Noce', 'Le Mahabharata', 'Epître aux Romains – Épître aux Galates', 'La Genèse', 'Monnaie de singe', 'Le Côté de Guermantes', 'Le Côté de Guermantes', 'Sodome et Gomorrhe I', 'Anna Karénine', 'Nefertiti et le rêve d’Akhenaton', 'Crainquebille', 'Les Habits neufs de l’Empereur', 'Les Carnets de Malte Laurids Brigge', 'Contes à Ninon', 'Mont-Oriol', 'Madame Chrysanthème', 'Renée Mauperin', 'Histoire d’une Grecque moderne', 'Princesse Brambilla', 'La Marquise d’O...', 'Les Bords du Rhin', 'Hiver Caraïbe', \"La Cloche d'Islande\", 'De la littérature', 'Un début dans la vie', 'Contes', 'Amy Foster – Le Compagnon secret', 'L’Éternel mari', 'La Ciociara', 'Le Colonel Chabert', 'Pantagruel', 'Le Quart livre', 'La Fiancée et autres nouvelles', 'Le Roman d’Alexandre', 'Une certaine mulâtresse', 'Typhon', 'Le Sopha', 'Vies parallèles', 'Rêve de valse', 'Histoire romaine', 'Le Cinquiesme livre', 'Le Vieux avec les bottes', 'Écrits sur l’art', 'Histoire de la littérature française', 'La Dame de pique – Les Nuits égyptiennes et autres nouvelles', 'Une vieille maîtresse', 'Naïs Micoulin et autres nouvelles', 'Dhammapada', 'Histoire de la littérature française', 'Le Bossu', 'Kâma Sûtra', 'Le Rose et le Vert – Mina de Vanghel', 'Cécile', 'Le Comte de Monte-Cristo', 'Bruges-la-Morte', 'Entretiens sur la pluralité des mondes', 'Histoire romaine', 'Le Portrait de Mr. W.H. – La Plume,le crayon et le poisson', 'L’Espèce particulière et autres nouvelles', 'Dialogues', 'Histoire romaine', 'Delphine', 'Delphine', 'Les Philippiques – Sur la couronne – Contre Ctésiphon', 'Le Roman bourgeois', 'Monsieur de Phocas', 'Lettres à Madame la Marquise *** sur le sujet de la Princesse de Clèves', 'Le Tollé', 'Mémoires', 'Histoire de ma vie', 'Lettres', 'Albertine disparue', 'Les États et empires du Soleil', 'Voyage autour de ma chambre', 'Le Diable boiteux', 'Lettres des jeux Olympiques', 'La Ballade des coquins', 'La Nuit de Walpurgis', 'Vies imaginaires', 'Nouvelles galantes du XVIIe siècle', 'La Jeunesse du commandeur', 'Quo vadis ?', 'Sapho', 'Vingt mille lieues sous les mers', 'Cinq semaines en ballon', 'De la Terre à la Lune', \"Peines de coeur d'une chatte anglaise\", 'Artamène ou Le Grand Cyrus', 'Le Livre du philosophe', 'L’Ange à la fenêtre d’Occident', 'Le Roman expérimental', 'Zayde', 'Don Quichotte de la Manche 3', 'Le Père Goriot', \"Le Horla et autres contes d'angoisse\", 'Le Portrait de Dorian Gray', 'Splendeurs et misères des courtisanes', 'Histoires fantastiques pragoises', 'Thérèse Raquin', 'La Philosophie dans le boudoir', 'Thérèse philosophe', 'Charles Demailly', 'Nouvelles', 'Mémoires d’outre-tombe', 'Histoire amoureuse des Gaules', 'Chronique du règne de Charles IX', 'Récits fantastiques', \"La Vénus d'Ille et autres nouvelles\", \"L'Enfant\", 'Correspondance', 'L’Agneau', 'Manuscrit trouvé à Saragosse', 'Satyricon', 'Vies des douze Césars', 'Contes et nouvelles', 'Contes et nouvelles', 'Histoire de Gil Blas de Santillane', 'Pierre et Jean', 'La Duchesse de Langeais', 'César Birotteau', 'La Reprise', 'Rome sous le regard des historiens latins', 'Joseph Andrews', 'Benito Cereno – La Véranda – Le Marchand de paratonnerres', 'Vingt ans après', 'Nouvelles Histoires extraordinaires', 'Histoires grotesques et sérieuses', 'Stello', 'La Religieuse', 'Lettres portugaises', 'Nouvelles de Pétersbourg', 'Tarass Boulba', 'Ballades du beau hasard', 'Flaques de verre', 'Les Suspendues', 'Al-Andalus', 'L’Argent', 'Le Grand Meaulnes', 'Oroonoko', 'Contes', 'La Renaissance', 'Les Affinités électives', 'Journaux', 'Journaux', 'Histoires naturelles', 'Tout Alice', 'Illusions perdues', 'Claude Gueux', 'Les Deux Maîtresses', 'Le Désespéré', 'Orgueil et préjugés', 'Le Lys dans la vallée', 'La Femme de trente ans', 'La Métamorphose', 'Contes', 'Grains et issues', 'Claire Lenoir', 'Sang', 'Aventures prodigieuses de Tartarin de Tarascon', 'Sararasine', 'La Maison aux sept pignons', 'Le Bachelier', 'Le Coffret de santal – Le Collier de griffes', \"Henri d'Ofterdingen\", 'Le Creux de la vague', 'Baudelaire journaliste', 'Gautier journaliste', 'Zola journaliste', 'Ma vie – Amélie et Germaine – Cécile', 'L’homme qui rit', 'Crime et châtiment', 'Bouvard et Pécuchet', 'La Veillée du matin', 'Les Caractères', 'Les Choéphores – Les Euménides', 'Pensées', 'Les Deux Visages', 'L’Île des bienheureux – Une sorcière – Tschandala', 'Une année dans le Sahel', 'Les Filles du feu – Les Chimères', 'Le Moine', 'Le Dernier des Mohicans', 'Mardi', 'Le Temps retrouvé', 'L’Énéide', 'Le Procès', 'Correspondance', 'Mes Haines', 'Les Amours de Psyché et de Cupidon', 'La Petite Roque', 'Histoires de fantômes', 'Le Faiseur', 'Bartleby', 'Les Travailleurs de la mer', 'Jane Eyre', 'Scènes de la vie de bohème', 'Gatsby', 'Perceval ou Le Conte du Graal', 'Amok', 'Vingt-quatre heures de la vie d’une femme', 'Le Joueur d’échecs', 'Lettre d’une inconnue', 'Souvenirs d’égotisme', 'Le Misanthrope', 'La Main gauche', \"Lorenzaccio – On ne badine pas avec l'amour\", 'Ursule Mirouët', 'Les Jeunes France et autres récits humoristiques', 'Contes et entretiens', 'Le Neveu de Rameau', 'Supplément au voyage de Bougainville et autres textes', 'Sylvie', 'Contes', 'La Peau de chagrin', 'Les Trois Mousquetaires', 'La Reine Margot', 'Le Cas étrange du Dr Jekyll et de M. Hyde', 'Hurlevent des monts', 'Le Joueur', 'Balzac journaliste', 'Hugo journaliste', 'Notre coeur', 'Récits de la maison des morts', 'Poil de Carotte', 'Ferragus – La Fille aux yeux d’or', 'Vie et opinions de Tristram Shandy', 'Paul et Virginie', 'Contes libertins', 'Les Infortunes de la vertu' 'De l’amour', 'William Shakespeare', 'Le Jardin de Bérénice', 'La Légende des siècles', 'Les âmes mortes', 'Les Perses', 'Bubu de Montparnasse', 'Les Élégies de Duino – Sonnets à Orphée', 'Le capitaine Fracasse', 'Les Voyages de Gulliver', 'Voyage au centre de la Terre', 'Les Aventures de Tom Sawyer', 'Sous les yeux de l’Occident', 'Les Chouans', 'Quatrevingt-treize', 'Boris Godounov – Théâtre complet', 'La Fille du capitaine', 'Barry Lydon', 'Son Excellence Eugène Rougon', 'Les Parisiens comme ils sont', 'L’Art de briller en société et de se conduire dans toutes les circonstances de la vie', 'La pensée console de tout', 'Pensées paresseuses d’un paresseux', 'De l’universalité de la langue française', 'Résolutions pour l’époque où je deviendrai vieux et autres opuscules humoristiques', 'Histoires ou Contes du temps passé', 'Lettres de mon moulin', 'Fables', 'Fabliaux du Moyen Âge', 'La Mort d’Ivan Illitch', 'L’Ingénu – La Princesse de Babylone', 'Micromégas – Zadig – Candide', 'Comment on paie ses dettes quand on a du génie', 'Observations faites dans les Pyrénées pour servir de suite à des observations sur les Alpes', 'Le Blé en herbe', 'La Dame aux Camélias', 'Le Diable au corps', 'La Fille Élisa', 'Les Soirées de Médan', 'David Copperfield', 'Faust I et II', 'Cent manières d’être ridicule', 'Lettres et vies', 'Œdipe Roi', 'Voyages', 'Le Livre de la Jungle', \"La Ligne d'ombre\", 'Trois hommes dans un bateau', \"L'égoïste est celui qui ne pense pas à moi\", 'De la filouterie considérée comme science exacte', \"Barbey d'Aurevilly journaliste\", 'L’Ensorcelée', 'La Tour de Nesle', 'La Dame de Monsoreau', 'Don Quichotte', 'Don Quichotte' 'Pauline' 'Candide' 'Les Liaisons dangereuses' 'La Petite Fadette' 'La Maison Tellier – Une partie de campagne et autres contes' \"Alice au pays des merveilles – De l'autre côté du miroir et de ce qu'Alice y trouva\" 'Une maison de poupée', 'Un amour de Swann', 'Eugénie Grandet', 'Blasons anatomiques du corps féminin et contreblasons', \"La Faute de l'abbé Mouret\", 'Thérèse Raquin', 'Notre-Dame de Paris', 'Maître et serviteur, Nouvelles et récits (1886-1904)', 'La Steppe', 'Odyssée', 'Au coeur des ténèbres', 'La Princesse de Montpensier', 'Voyage avec un âne dans les Cévennes', \"Almanach d'un comté des sables\", 'Contes de la bécasse' \"L'Ingénu\" 'Iliade', 'Andromaque', 'Germinal', 'Germinie Lacerteux', \"L'amour courtois\", 'Le Spleen de Paris', 'Madame Bovary', 'Jacques le Fataliste et son maître', 'Manon Lescaut', 'Vie de Rancé', 'Génie du christianisme', 'Génie du christianisme', 'La Chartreuse de Parme', 'Au Bonheur des Dames', 'Bel-Ami', 'Le Colonel Chabert', 'La Bête humaine', 'Ceux de 14', 'Rémi des Rauches', 'Le Feu', \"Écrits sur l'art\", 'Salomé', 'Béatrix', \"Armance ou Quelques scènes d'un Salon de Paris en 1827\" \"Contes d'une grand-mère\" 'Julie ou La Nouvelle Héloïse', \"Apparition et autres contes d'angoisse\" 'Une histoire sans nom', 'La Fin de Chéri', 'Les Diaboliques', 'Sous le soleil de Satan', \"Journal d'un curé de campagne\", 'Iphigénie', 'À rebours', 'Les lauriers sont coupés', 'Bloy journaliste', 'Écrits satiriques' 'Mateo Falcone et autres nouvelles', 'Robinson Crusoé', \"L'Île au trésor\" 'Les Cavaliers – L’Assemblée des femmes', \"À l'ombre des jeunes filles en fleurs\", \"À l'ombre des jeunes filles en fleurs\", 'Du côté de chez Swann', 'Fables', 'La Princesse de Clèves', 'Le Rouge et le Noirs', 'Lettres persanes', \"Écrits sur l'art\", 'Histoires extraordinaires', 'Les Aventures de Huckleberry Finn', 'Moby Dick', 'Les Contemplations. Livres IV-V', 'Les Fausses Confidences', \"L'Île des esclaves\", \"Le Dernier Jour d'un Condamné\", \"La Confession d'un enfant du siècle\", 'Adolphe', 'Le Malade imaginaire', 'Le Chevalier des Touches', 'Préface de Cromwell', 'Les Romanciers naturalistes', 'Les Misérables', 'Les Misérables', 'Philisophie', 'Salammbô', 'Trois Contes', 'La Tentation de saint Antoine', 'Le Temps de l’innocence', 'La Récompense d’une mère', 'Mrs Dalloway', 'La Traversée des apparences', 'Contes', 'Aké, les années d’enfance', 'Gargantua', 'Les Caractères, Livres V-X', 'La Curée', 'Boule de suif et 13 autres histoires de guerre', 'Les Nourritures terrestres suivi de Les Nouvelles Nourritures', 'Les Faux-monnayeurs']"
   ]
  },
  {
   "cell_type": "code",
   "execution_count": 2,
   "metadata": {},
   "outputs": [],
   "source": [
    "def nettoyage_gf(liste_drue):\n",
    "    liste_net = []\n",
    "    for gf in liste_drue:\n",
    "        temp = re.sub(r'[^\\w\\s]', ' ', gf)\n",
    "        temp1 = temp.replace(\"\\n\", \"\")\n",
    "        temp2 = temp1.lower()\n",
    "        temp3 = temp2.replace(\"é\", \"e\")\n",
    "        temp4 = temp3.replace(\"è\", \"e\")\n",
    "        temp5 = temp4.replace(\"�\", \"e\")\n",
    "        liste_net.append(temp5)\n",
    "    return liste_net "
   ]
  },
  {
   "cell_type": "code",
   "execution_count": 71,
   "metadata": {},
   "outputs": [],
   "source": [
    "liste_garnier_flammarion = nettoyage_gf(list_gf)"
   ]
  },
  {
   "cell_type": "code",
   "execution_count": 87,
   "metadata": {},
   "outputs": [],
   "source": [
    "liste_garnier_flammarion = list(set(liste_garnier_flammarion))"
   ]
  },
  {
   "cell_type": "code",
   "execution_count": 280,
   "metadata": {},
   "outputs": [
    {
     "data": {
      "text/plain": [
       "405"
      ]
     },
     "execution_count": 280,
     "metadata": {},
     "output_type": "execute_result"
    }
   ],
   "source": [
    "len(liste_garnier_flammarion)"
   ]
  },
  {
   "cell_type": "code",
   "execution_count": 281,
   "metadata": {},
   "outputs": [],
   "source": [
    "df_meta_data[\"gf\"] = pd.Series(liste_garnier_flammarion)"
   ]
  },
  {
   "cell_type": "markdown",
   "metadata": {},
   "source": [
    "### 01 - 11"
   ]
  },
  {
   "cell_type": "code",
   "execution_count": 389,
   "metadata": {},
   "outputs": [],
   "source": [
    "liste_net = [unidecode(elem).lower() for elem in list_gf if type(elem) == str]"
   ]
  },
  {
   "cell_type": "code",
   "execution_count": 390,
   "metadata": {},
   "outputs": [],
   "source": [
    "liste_gf = list(set([elem.replace(\"'\", ' ') if re.findall(\".'.\", elem) else elem for elem in liste_net]))"
   ]
  },
  {
   "cell_type": "code",
   "execution_count": 391,
   "metadata": {},
   "outputs": [],
   "source": [
    "df_meta_data[\"gf\"] = pd.Series(liste_gf)"
   ]
  },
  {
   "cell_type": "code",
   "execution_count": null,
   "metadata": {},
   "outputs": [],
   "source": []
  },
  {
   "cell_type": "markdown",
   "metadata": {},
   "source": [
    "### PLEIADE"
   ]
  },
  {
   "cell_type": "code",
   "execution_count": 74,
   "metadata": {},
   "outputs": [],
   "source": [
    "path_to_txt = r'data_canons\\txt_liste_pleiade.txt'\n",
    "liste_pleiade_drue = read_data_txt(path_to_txt)"
   ]
  },
  {
   "cell_type": "code",
   "execution_count": 75,
   "metadata": {},
   "outputs": [],
   "source": [
    "def nettoyage_pleiade(liste_drue):\n",
    "    liste_net = []\n",
    "    for pleiade in liste_drue:\n",
    "        temp = re.sub(r'[^\\w\\s]', ' ', pleiade)\n",
    "        temp1 = temp.replace(\"\\n\", \"\")\n",
    "        temp2 = temp1.lower()\n",
    "        temp3 = temp2.replace(\"é\", \"e\")\n",
    "        temp4 = temp3.replace(\"è\", \"e\")\n",
    "        temp5 = temp4.replace(\"ï\", \"i\")\n",
    "        liste_net.append(temp5)\n",
    "    return liste_net  "
   ]
  },
  {
   "cell_type": "code",
   "execution_count": 76,
   "metadata": {},
   "outputs": [],
   "source": [
    "liste_pleiade = nettoyage_pleiade(liste_pleiade_drue)"
   ]
  },
  {
   "cell_type": "code",
   "execution_count": 77,
   "metadata": {},
   "outputs": [],
   "source": [
    "liste_pleiade = list(set(liste_pleiade[161:]))"
   ]
  },
  {
   "cell_type": "code",
   "execution_count": 282,
   "metadata": {},
   "outputs": [
    {
     "data": {
      "text/plain": [
       "214"
      ]
     },
     "execution_count": 282,
     "metadata": {},
     "output_type": "execute_result"
    }
   ],
   "source": [
    "len(liste_pleiade)"
   ]
  },
  {
   "cell_type": "code",
   "execution_count": 338,
   "metadata": {},
   "outputs": [],
   "source": [
    "df_meta_data[\"pleiade\"] = pd.Series(liste_pleiade)"
   ]
  },
  {
   "cell_type": "markdown",
   "metadata": {},
   "source": [
    "### 01 - 11"
   ]
  },
  {
   "cell_type": "code",
   "execution_count": 392,
   "metadata": {},
   "outputs": [],
   "source": [
    "df_edition = pd.read_csv(r'../metadata/csv_edition.csv', encoding = 'utf-8')"
   ]
  },
  {
   "cell_type": "code",
   "execution_count": 393,
   "metadata": {},
   "outputs": [],
   "source": [
    "liste_net = [unidecode(elem).lower().split(',')[0] for elem in list(df_edition['Autrice - auteur'])[244:801] if type(elem) == str]"
   ]
  },
  {
   "cell_type": "code",
   "execution_count": 394,
   "metadata": {},
   "outputs": [],
   "source": [
    "liste_pleiade = list(set(liste_net))"
   ]
  },
  {
   "cell_type": "code",
   "execution_count": 395,
   "metadata": {},
   "outputs": [],
   "source": [
    "df_meta_data[\"pleiade\"] = pd.Series(liste_pleiade)"
   ]
  },
  {
   "cell_type": "code",
   "execution_count": null,
   "metadata": {},
   "outputs": [],
   "source": []
  },
  {
   "cell_type": "code",
   "execution_count": 397,
   "metadata": {},
   "outputs": [],
   "source": [
    "df_meta_data.to_csv(r'../metadata/meta_data_last_version.csv', index = False, header=True)"
   ]
  },
  {
   "cell_type": "markdown",
   "metadata": {},
   "source": [
    "### END"
   ]
  },
  {
   "cell_type": "markdown",
   "metadata": {},
   "source": [
    "###  RETROUVE TITRE"
   ]
  },
  {
   "cell_type": "code",
   "execution_count": 302,
   "metadata": {},
   "outputs": [
    {
     "data": {
      "text/plain": [
       "Index(['bac', 'brevet', 'lm', 'sup', 'prix', 'gf', 'pleiade', 'gouv'], dtype='object')"
      ]
     },
     "execution_count": 302,
     "metadata": {},
     "output_type": "execute_result"
    }
   ],
   "source": [
    "df_meta_data.columns"
   ]
  },
  {
   "cell_type": "code",
   "execution_count": 306,
   "metadata": {},
   "outputs": [],
   "source": [
    "def retrouve_titre(titre_cherche, df_meta_data):\n",
    "    print(df_meta_data[df_meta_data.bac == titre_cherche])\n",
    "    print(df_meta_data[df_meta_data.brevet == titre_cherche])\n",
    "    print(df_meta_data[df_meta_data.sup == titre_cherche])\n",
    "    print(df_meta_data[df_meta_data.prix == titre_cherche])\n",
    "    print(df_meta_data[df_meta_data.gf == titre_cherche])\n",
    "    print(df_meta_data[df_meta_data.gouv == titre_cherche])"
   ]
  },
  {
   "cell_type": "code",
   "execution_count": 321,
   "metadata": {},
   "outputs": [],
   "source": [
    "titre_cherche = 'contes du jour et de la nuit'"
   ]
  },
  {
   "cell_type": "code",
   "execution_count": 322,
   "metadata": {},
   "outputs": [
    {
     "name": "stdout",
     "output_type": "stream",
     "text": [
      "Empty DataFrame\n",
      "Columns: [bac, brevet, lm, sup, prix, gf, pleiade, gouv]\n",
      "Index: []\n",
      "         bac                        brevet                lm  \\\n",
      "112  moliere  contes du jour et de la nuit  georges bernanos   \n",
      "\n",
      "                    sup             prix  \\\n",
      "112  sodome et gomorrhe  riche et legere   \n",
      "\n",
      "                                       gf           pleiade    gouv  \n",
      "112  les infortunes de la vertude l amour  françois mauriac  poèmes  \n",
      "              bac                brevet            lm  \\\n",
      "46  la religieuse  la petite chartreuse  henry becque   \n",
      "\n",
      "                             sup                          prix  \\\n",
      "46  contes du jour et de la nuit  vie et mort de jean chalosse   \n",
      "\n",
      "                    gf          pleiade                                  gouv  \n",
      "46  balzac journaliste  françois villon  la peau de chagrin (édition de 1831)  \n",
      "Empty DataFrame\n",
      "Columns: [bac, brevet, lm, sup, prix, gf, pleiade, gouv]\n",
      "Index: []\n",
      "Empty DataFrame\n",
      "Columns: [bac, brevet, lm, sup, prix, gf, pleiade, gouv]\n",
      "Index: []\n",
      "Empty DataFrame\n",
      "Columns: [bac, brevet, lm, sup, prix, gf, pleiade, gouv]\n",
      "Index: []\n"
     ]
    }
   ],
   "source": [
    "retrouve_titre(titre_cherche, df_meta_data)"
   ]
  },
  {
   "cell_type": "markdown",
   "metadata": {},
   "source": []
  },
  {
   "cell_type": "code",
   "execution_count": null,
   "metadata": {},
   "outputs": [],
   "source": []
  },
  {
   "cell_type": "code",
   "execution_count": null,
   "metadata": {},
   "outputs": [],
   "source": []
  }
 ],
 "metadata": {
  "kernelspec": {
   "display_name": "Python 3",
   "language": "python",
   "name": "python3"
  },
  "language_info": {
   "codemirror_mode": {
    "name": "ipython",
    "version": 3
   },
   "file_extension": ".py",
   "mimetype": "text/x-python",
   "name": "python",
   "nbconvert_exporter": "python",
   "pygments_lexer": "ipython3",
   "version": "3.8.3"
  }
 },
 "nbformat": 4,
 "nbformat_minor": 4
}
