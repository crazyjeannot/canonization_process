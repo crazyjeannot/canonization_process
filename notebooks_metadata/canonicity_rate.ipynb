{
 "cells": [
  {
   "cell_type": "code",
   "execution_count": 1,
   "metadata": {},
   "outputs": [
    {
     "name": "stderr",
     "output_type": "stream",
     "text": [
      "C:\\Users\\jeanb\\anaconda3\\lib\\site-packages\\numpy\\_distributor_init.py:30: UserWarning: loaded more than 1 DLL from .libs:\n",
      "C:\\Users\\jeanb\\anaconda3\\lib\\site-packages\\numpy\\.libs\\libopenblas.EL2C6PLE4ZYW3ECEVIV3OXXGRN2NRFM2.gfortran-win_amd64.dll\n",
      "C:\\Users\\jeanb\\anaconda3\\lib\\site-packages\\numpy\\.libs\\libopenblas.PYQHXLVVQ7VESDPUVUADXEVJOBGHJPAY.gfortran-win_amd64.dll\n",
      "C:\\Users\\jeanb\\anaconda3\\lib\\site-packages\\numpy\\.libs\\libopenblas.XWYDX2IKJW2NMTWSFYNGFUWKQU3LYTCZ.gfortran-win_amd64.dll\n",
      "  warnings.warn(\"loaded more than 1 DLL from .libs:\"\n"
     ]
    }
   ],
   "source": [
    "import pandas as pd\n",
    "from os import path\n",
    "from collections import Counter\n",
    "import re"
   ]
  },
  {
   "cell_type": "code",
   "execution_count": 96,
   "metadata": {},
   "outputs": [],
   "source": [
    "df_corpus = pd.read_csv('corpus.csv')"
   ]
  },
  {
   "cell_type": "code",
   "execution_count": 92,
   "metadata": {},
   "outputs": [],
   "source": [
    "#df_corpus.drop([\"canon\"], axis = 1, inplace=True)"
   ]
  },
  {
   "cell_type": "code",
   "execution_count": 97,
   "metadata": {},
   "outputs": [
    {
     "data": {
      "text/html": [
       "<div>\n",
       "<style scoped>\n",
       "    .dataframe tbody tr th:only-of-type {\n",
       "        vertical-align: middle;\n",
       "    }\n",
       "\n",
       "    .dataframe tbody tr th {\n",
       "        vertical-align: top;\n",
       "    }\n",
       "\n",
       "    .dataframe thead th {\n",
       "        text-align: right;\n",
       "    }\n",
       "</style>\n",
       "<table border=\"1\" class=\"dataframe\">\n",
       "  <thead>\n",
       "    <tr style=\"text-align: right;\">\n",
       "      <th></th>\n",
       "      <th>date</th>\n",
       "      <th>auteur</th>\n",
       "      <th>titre</th>\n",
       "      <th>fabula</th>\n",
       "    </tr>\n",
       "  </thead>\n",
       "  <tbody>\n",
       "    <tr>\n",
       "      <th>0</th>\n",
       "      <td>1811</td>\n",
       "      <td>françois rene de chateaubriand</td>\n",
       "      <td>oeuvres completes</td>\n",
       "      <td>True</td>\n",
       "    </tr>\n",
       "    <tr>\n",
       "      <th>1</th>\n",
       "      <td>1812</td>\n",
       "      <td>paul de kock</td>\n",
       "      <td>l enfant de ma femme</td>\n",
       "      <td>False</td>\n",
       "    </tr>\n",
       "    <tr>\n",
       "      <th>2</th>\n",
       "      <td>1815</td>\n",
       "      <td>sophie gay</td>\n",
       "      <td>anatole</td>\n",
       "      <td>False</td>\n",
       "    </tr>\n",
       "    <tr>\n",
       "      <th>3</th>\n",
       "      <td>1815</td>\n",
       "      <td>sophie gay</td>\n",
       "      <td>anatole</td>\n",
       "      <td>False</td>\n",
       "    </tr>\n",
       "    <tr>\n",
       "      <th>4</th>\n",
       "      <td>1816</td>\n",
       "      <td>hadot marie adelaide barthelemy</td>\n",
       "      <td>la vierge de l indostan ou les portugais au ma...</td>\n",
       "      <td>False</td>\n",
       "    </tr>\n",
       "    <tr>\n",
       "      <th>...</th>\n",
       "      <td>...</td>\n",
       "      <td>...</td>\n",
       "      <td>...</td>\n",
       "      <td>...</td>\n",
       "    </tr>\n",
       "    <tr>\n",
       "      <th>2956</th>\n",
       "      <td>2018</td>\n",
       "      <td>pascal quignard</td>\n",
       "      <td>l enfant d ingolstadt</td>\n",
       "      <td>True</td>\n",
       "    </tr>\n",
       "    <tr>\n",
       "      <th>2957</th>\n",
       "      <td>2019</td>\n",
       "      <td>christelle dabos</td>\n",
       "      <td>la passe miroir</td>\n",
       "      <td>False</td>\n",
       "    </tr>\n",
       "    <tr>\n",
       "      <th>2958</th>\n",
       "      <td>2019</td>\n",
       "      <td>marie aude murail</td>\n",
       "      <td>sauveur fils</td>\n",
       "      <td>False</td>\n",
       "    </tr>\n",
       "    <tr>\n",
       "      <th>2959</th>\n",
       "      <td>2020</td>\n",
       "      <td>clementine melois</td>\n",
       "      <td>dehors la tempete</td>\n",
       "      <td>False</td>\n",
       "    </tr>\n",
       "    <tr>\n",
       "      <th>2960</th>\n",
       "      <td>2020</td>\n",
       "      <td>vanessa springora</td>\n",
       "      <td>le consentement</td>\n",
       "      <td>False</td>\n",
       "    </tr>\n",
       "  </tbody>\n",
       "</table>\n",
       "<p>2961 rows × 4 columns</p>\n",
       "</div>"
      ],
      "text/plain": [
       "      date                           auteur  \\\n",
       "0     1811   françois rene de chateaubriand   \n",
       "1     1812                     paul de kock   \n",
       "2     1815                       sophie gay   \n",
       "3     1815                       sophie gay   \n",
       "4     1816  hadot marie adelaide barthelemy   \n",
       "...    ...                              ...   \n",
       "2956  2018                  pascal quignard   \n",
       "2957  2019                 christelle dabos   \n",
       "2958  2019                marie aude murail   \n",
       "2959  2020                clementine melois   \n",
       "2960  2020                vanessa springora   \n",
       "\n",
       "                                                  titre  fabula  \n",
       "0                                     oeuvres completes    True  \n",
       "1                                  l enfant de ma femme   False  \n",
       "2                                               anatole   False  \n",
       "3                                               anatole   False  \n",
       "4     la vierge de l indostan ou les portugais au ma...   False  \n",
       "...                                                 ...     ...  \n",
       "2956                              l enfant d ingolstadt    True  \n",
       "2957                                    la passe miroir   False  \n",
       "2958                                       sauveur fils   False  \n",
       "2959                                  dehors la tempete   False  \n",
       "2960                                    le consentement   False  \n",
       "\n",
       "[2961 rows x 4 columns]"
      ]
     },
     "execution_count": 97,
     "metadata": {},
     "output_type": "execute_result"
    }
   ],
   "source": [
    "df_corpus"
   ]
  },
  {
   "cell_type": "code",
   "execution_count": 83,
   "metadata": {},
   "outputs": [],
   "source": [
    "titres = list(df_corpus['titre'])"
   ]
  },
  {
   "cell_type": "code",
   "execution_count": 85,
   "metadata": {},
   "outputs": [],
   "source": [
    "df_meta_data = pd.read_csv('meta_data_canons.csv')"
   ]
  },
  {
   "cell_type": "code",
   "execution_count": 98,
   "metadata": {},
   "outputs": [],
   "source": [
    "def canonique(df_corpus, df_meta_data):\n",
    "    canon = []\n",
    "    for index, row in df_corpus.iterrows():\n",
    "        if row['titre'] in list(df_meta_data['bac']) or row['titre'] in list(df_meta_data['brevet']) or row['titre'] in list(df_meta_data['sup']) or row['titre'] in list(df_meta_data['prix']) or row['titre'] in list(df_meta_data['gf']) or row['titre'] in list(df_meta_data['gouv']):\n",
    "            #print(row['titre'])\n",
    "            canon.append('canon')\n",
    "        else:\n",
    "            canon.append('non_canon')\n",
    "    df_corpus[\"canon\"] = canon\n",
    "    return df_corpus"
   ]
  },
  {
   "cell_type": "code",
   "execution_count": 99,
   "metadata": {},
   "outputs": [],
   "source": [
    " df_corpus_updated = canonique(df_corpus, df_meta_data)"
   ]
  },
  {
   "cell_type": "code",
   "execution_count": 100,
   "metadata": {},
   "outputs": [
    {
     "data": {
      "text/html": [
       "<div>\n",
       "<style scoped>\n",
       "    .dataframe tbody tr th:only-of-type {\n",
       "        vertical-align: middle;\n",
       "    }\n",
       "\n",
       "    .dataframe tbody tr th {\n",
       "        vertical-align: top;\n",
       "    }\n",
       "\n",
       "    .dataframe thead th {\n",
       "        text-align: right;\n",
       "    }\n",
       "</style>\n",
       "<table border=\"1\" class=\"dataframe\">\n",
       "  <thead>\n",
       "    <tr style=\"text-align: right;\">\n",
       "      <th></th>\n",
       "      <th>date</th>\n",
       "      <th>auteur</th>\n",
       "      <th>titre</th>\n",
       "      <th>fabula</th>\n",
       "      <th>canon</th>\n",
       "    </tr>\n",
       "  </thead>\n",
       "  <tbody>\n",
       "    <tr>\n",
       "      <th>0</th>\n",
       "      <td>1811</td>\n",
       "      <td>françois rene de chateaubriand</td>\n",
       "      <td>oeuvres completes</td>\n",
       "      <td>True</td>\n",
       "      <td>canon</td>\n",
       "    </tr>\n",
       "    <tr>\n",
       "      <th>1</th>\n",
       "      <td>1812</td>\n",
       "      <td>paul de kock</td>\n",
       "      <td>l enfant de ma femme</td>\n",
       "      <td>False</td>\n",
       "      <td>non_canon</td>\n",
       "    </tr>\n",
       "    <tr>\n",
       "      <th>2</th>\n",
       "      <td>1815</td>\n",
       "      <td>sophie gay</td>\n",
       "      <td>anatole</td>\n",
       "      <td>False</td>\n",
       "      <td>non_canon</td>\n",
       "    </tr>\n",
       "    <tr>\n",
       "      <th>3</th>\n",
       "      <td>1815</td>\n",
       "      <td>sophie gay</td>\n",
       "      <td>anatole</td>\n",
       "      <td>False</td>\n",
       "      <td>non_canon</td>\n",
       "    </tr>\n",
       "    <tr>\n",
       "      <th>4</th>\n",
       "      <td>1816</td>\n",
       "      <td>hadot marie adelaide barthelemy</td>\n",
       "      <td>la vierge de l indostan ou les portugais au ma...</td>\n",
       "      <td>False</td>\n",
       "      <td>non_canon</td>\n",
       "    </tr>\n",
       "    <tr>\n",
       "      <th>...</th>\n",
       "      <td>...</td>\n",
       "      <td>...</td>\n",
       "      <td>...</td>\n",
       "      <td>...</td>\n",
       "      <td>...</td>\n",
       "    </tr>\n",
       "    <tr>\n",
       "      <th>2956</th>\n",
       "      <td>2018</td>\n",
       "      <td>pascal quignard</td>\n",
       "      <td>l enfant d ingolstadt</td>\n",
       "      <td>True</td>\n",
       "      <td>non_canon</td>\n",
       "    </tr>\n",
       "    <tr>\n",
       "      <th>2957</th>\n",
       "      <td>2019</td>\n",
       "      <td>christelle dabos</td>\n",
       "      <td>la passe miroir</td>\n",
       "      <td>False</td>\n",
       "      <td>non_canon</td>\n",
       "    </tr>\n",
       "    <tr>\n",
       "      <th>2958</th>\n",
       "      <td>2019</td>\n",
       "      <td>marie aude murail</td>\n",
       "      <td>sauveur fils</td>\n",
       "      <td>False</td>\n",
       "      <td>non_canon</td>\n",
       "    </tr>\n",
       "    <tr>\n",
       "      <th>2959</th>\n",
       "      <td>2020</td>\n",
       "      <td>clementine melois</td>\n",
       "      <td>dehors la tempete</td>\n",
       "      <td>False</td>\n",
       "      <td>non_canon</td>\n",
       "    </tr>\n",
       "    <tr>\n",
       "      <th>2960</th>\n",
       "      <td>2020</td>\n",
       "      <td>vanessa springora</td>\n",
       "      <td>le consentement</td>\n",
       "      <td>False</td>\n",
       "      <td>non_canon</td>\n",
       "    </tr>\n",
       "  </tbody>\n",
       "</table>\n",
       "<p>2961 rows × 5 columns</p>\n",
       "</div>"
      ],
      "text/plain": [
       "      date                           auteur  \\\n",
       "0     1811   françois rene de chateaubriand   \n",
       "1     1812                     paul de kock   \n",
       "2     1815                       sophie gay   \n",
       "3     1815                       sophie gay   \n",
       "4     1816  hadot marie adelaide barthelemy   \n",
       "...    ...                              ...   \n",
       "2956  2018                  pascal quignard   \n",
       "2957  2019                 christelle dabos   \n",
       "2958  2019                marie aude murail   \n",
       "2959  2020                clementine melois   \n",
       "2960  2020                vanessa springora   \n",
       "\n",
       "                                                  titre  fabula      canon  \n",
       "0                                     oeuvres completes    True      canon  \n",
       "1                                  l enfant de ma femme   False  non_canon  \n",
       "2                                               anatole   False  non_canon  \n",
       "3                                               anatole   False  non_canon  \n",
       "4     la vierge de l indostan ou les portugais au ma...   False  non_canon  \n",
       "...                                                 ...     ...        ...  \n",
       "2956                              l enfant d ingolstadt    True  non_canon  \n",
       "2957                                    la passe miroir   False  non_canon  \n",
       "2958                                       sauveur fils   False  non_canon  \n",
       "2959                                  dehors la tempete   False  non_canon  \n",
       "2960                                    le consentement   False  non_canon  \n",
       "\n",
       "[2961 rows x 5 columns]"
      ]
     },
     "execution_count": 100,
     "metadata": {},
     "output_type": "execute_result"
    }
   ],
   "source": [
    "df_corpus_updated"
   ]
  },
  {
   "cell_type": "code",
   "execution_count": 90,
   "metadata": {},
   "outputs": [
    {
     "data": {
      "text/plain": [
       "non_canon    2700\n",
       "canon         261\n",
       "Name: canon, dtype: int64"
      ]
     },
     "execution_count": 90,
     "metadata": {},
     "output_type": "execute_result"
    }
   ],
   "source": [
    "df_corpus_updated['canon'].value_counts()"
   ]
  },
  {
   "cell_type": "code",
   "execution_count": 71,
   "metadata": {},
   "outputs": [
    {
     "data": {
      "text/plain": [
       "non_canon    2724\n",
       "canon         239\n",
       "Name: canon, dtype: int64"
      ]
     },
     "execution_count": 71,
     "metadata": {},
     "output_type": "execute_result"
    }
   ],
   "source": [
    "df_corpus_updated['canon'].value_counts()"
   ]
  },
  {
   "cell_type": "code",
   "execution_count": null,
   "metadata": {},
   "outputs": [],
   "source": []
  },
  {
   "cell_type": "code",
   "execution_count": null,
   "metadata": {},
   "outputs": [],
   "source": []
  },
  {
   "cell_type": "code",
   "execution_count": 101,
   "metadata": {},
   "outputs": [],
   "source": [
    "df_corpus_updated.to_csv(r'corpus_canons.csv', index = False, header=True)"
   ]
  },
  {
   "cell_type": "code",
   "execution_count": 106,
   "metadata": {},
   "outputs": [],
   "source": [
    "df_only_canon = df_corpus_updated[df_corpus_updated['canon'] == 'canon'] "
   ]
  },
  {
   "cell_type": "code",
   "execution_count": 104,
   "metadata": {},
   "outputs": [],
   "source": [
    "df_only_canon.to_csv(r'only_canon.csv', index = False, header=True)"
   ]
  },
  {
   "cell_type": "code",
   "execution_count": 107,
   "metadata": {},
   "outputs": [],
   "source": [
    "auteur = df_only_canon['auteur'].value_counts().index.to_list()"
   ]
  },
  {
   "cell_type": "code",
   "execution_count": 108,
   "metadata": {},
   "outputs": [],
   "source": [
    "nb_romans = df_only_canon[\"auteur\"].value_counts().to_list()"
   ]
  },
  {
   "cell_type": "code",
   "execution_count": 112,
   "metadata": {},
   "outputs": [],
   "source": [
    "df_only_canon = pd.read_csv('only_canon.csv')"
   ]
  },
  {
   "cell_type": "code",
   "execution_count": 116,
   "metadata": {},
   "outputs": [
    {
     "data": {
      "text/plain": [
       "m     222\n",
       "f      38\n",
       "mf      1\n",
       "Name: sexe, dtype: int64"
      ]
     },
     "execution_count": 116,
     "metadata": {},
     "output_type": "execute_result"
    }
   ],
   "source": [
    "df_only_canon['sexe'].value_counts()"
   ]
  },
  {
   "cell_type": "code",
   "execution_count": 115,
   "metadata": {},
   "outputs": [
    {
     "data": {
      "text/plain": [
       "m     85.057471\n",
       "f     14.559387\n",
       "mf     0.383142\n",
       "Name: sexe, dtype: float64"
      ]
     },
     "execution_count": 115,
     "metadata": {},
     "output_type": "execute_result"
    }
   ],
   "source": [
    "df_only_canon['sexe'].value_counts(normalize=True)*100"
   ]
  },
  {
   "cell_type": "code",
   "execution_count": null,
   "metadata": {},
   "outputs": [],
   "source": []
  },
  {
   "cell_type": "code",
   "execution_count": 109,
   "metadata": {},
   "outputs": [],
   "source": [
    "auteurs_canoniques = pd.DataFrame(list(zip(auteur, nb_romans)), columns = ['auteur', \"nb_romans\"])"
   ]
  },
  {
   "cell_type": "code",
   "execution_count": 110,
   "metadata": {},
   "outputs": [],
   "source": [
    "auteurs_canoniques.to_csv(r'auteur_canon.csv', index = False, header=True)"
   ]
  },
  {
   "cell_type": "code",
   "execution_count": null,
   "metadata": {},
   "outputs": [],
   "source": []
  },
  {
   "cell_type": "code",
   "execution_count": null,
   "metadata": {},
   "outputs": [],
   "source": []
  },
  {
   "cell_type": "code",
   "execution_count": null,
   "metadata": {},
   "outputs": [],
   "source": []
  },
  {
   "cell_type": "code",
   "execution_count": null,
   "metadata": {},
   "outputs": [],
   "source": []
  },
  {
   "cell_type": "code",
   "execution_count": 7,
   "metadata": {},
   "outputs": [],
   "source": [
    "df_corpus = pd.read_csv('../metadata/corpus.csv')\n",
    "df_meta_data = pd.read_csv('../metadata/meta_data_canons.csv')\n",
    "auteur_canon = pd.read_csv('../metadata/auteur_canon.csv')\n",
    "only_canon = pd.read_csv('../metadata/only_canon.csv')"
   ]
  },
  {
   "cell_type": "code",
   "execution_count": 5,
   "metadata": {},
   "outputs": [
    {
     "data": {
      "text/html": [
       "<div>\n",
       "<style scoped>\n",
       "    .dataframe tbody tr th:only-of-type {\n",
       "        vertical-align: middle;\n",
       "    }\n",
       "\n",
       "    .dataframe tbody tr th {\n",
       "        vertical-align: top;\n",
       "    }\n",
       "\n",
       "    .dataframe thead th {\n",
       "        text-align: right;\n",
       "    }\n",
       "</style>\n",
       "<table border=\"1\" class=\"dataframe\">\n",
       "  <thead>\n",
       "    <tr style=\"text-align: right;\">\n",
       "      <th></th>\n",
       "      <th>auteur</th>\n",
       "      <th>nb_romans</th>\n",
       "    </tr>\n",
       "  </thead>\n",
       "  <tbody>\n",
       "    <tr>\n",
       "      <th>0</th>\n",
       "      <td>honore de balzac</td>\n",
       "      <td>19</td>\n",
       "    </tr>\n",
       "    <tr>\n",
       "      <th>1</th>\n",
       "      <td>emile zola</td>\n",
       "      <td>17</td>\n",
       "    </tr>\n",
       "    <tr>\n",
       "      <th>2</th>\n",
       "      <td>romain rolland</td>\n",
       "      <td>10</td>\n",
       "    </tr>\n",
       "    <tr>\n",
       "      <th>3</th>\n",
       "      <td>de maupassant guy</td>\n",
       "      <td>10</td>\n",
       "    </tr>\n",
       "    <tr>\n",
       "      <th>4</th>\n",
       "      <td>alexandre dumas</td>\n",
       "      <td>8</td>\n",
       "    </tr>\n",
       "    <tr>\n",
       "      <th>...</th>\n",
       "      <td>...</td>\n",
       "      <td>...</td>\n",
       "    </tr>\n",
       "    <tr>\n",
       "      <th>125</th>\n",
       "      <td>catherine cusset</td>\n",
       "      <td>1</td>\n",
       "    </tr>\n",
       "    <tr>\n",
       "      <th>126</th>\n",
       "      <td>annie ernaux</td>\n",
       "      <td>1</td>\n",
       "    </tr>\n",
       "    <tr>\n",
       "      <th>127</th>\n",
       "      <td>alice ferney</td>\n",
       "      <td>1</td>\n",
       "    </tr>\n",
       "    <tr>\n",
       "      <th>128</th>\n",
       "      <td>chatrian erckmann</td>\n",
       "      <td>1</td>\n",
       "    </tr>\n",
       "    <tr>\n",
       "      <th>129</th>\n",
       "      <td>paule constant</td>\n",
       "      <td>1</td>\n",
       "    </tr>\n",
       "  </tbody>\n",
       "</table>\n",
       "<p>130 rows × 2 columns</p>\n",
       "</div>"
      ],
      "text/plain": [
       "                auteur  nb_romans\n",
       "0     honore de balzac         19\n",
       "1           emile zola         17\n",
       "2       romain rolland         10\n",
       "3    de maupassant guy         10\n",
       "4      alexandre dumas          8\n",
       "..                 ...        ...\n",
       "125   catherine cusset          1\n",
       "126       annie ernaux          1\n",
       "127       alice ferney          1\n",
       "128  chatrian erckmann          1\n",
       "129     paule constant          1\n",
       "\n",
       "[130 rows x 2 columns]"
      ]
     },
     "execution_count": 5,
     "metadata": {},
     "output_type": "execute_result"
    }
   ],
   "source": [
    "auteur_canon"
   ]
  },
  {
   "cell_type": "code",
   "execution_count": 18,
   "metadata": {},
   "outputs": [
    {
     "data": {
      "text/html": [
       "<div>\n",
       "<style scoped>\n",
       "    .dataframe tbody tr th:only-of-type {\n",
       "        vertical-align: middle;\n",
       "    }\n",
       "\n",
       "    .dataframe tbody tr th {\n",
       "        vertical-align: top;\n",
       "    }\n",
       "\n",
       "    .dataframe thead th {\n",
       "        text-align: right;\n",
       "    }\n",
       "</style>\n",
       "<table border=\"1\" class=\"dataframe\">\n",
       "  <thead>\n",
       "    <tr style=\"text-align: right;\">\n",
       "      <th></th>\n",
       "      <th>date</th>\n",
       "      <th>auteur</th>\n",
       "      <th>titre</th>\n",
       "      <th>fabula</th>\n",
       "    </tr>\n",
       "  </thead>\n",
       "  <tbody>\n",
       "    <tr>\n",
       "      <th>0</th>\n",
       "      <td>1811</td>\n",
       "      <td>françois rene de chateaubriand</td>\n",
       "      <td>oeuvres completes</td>\n",
       "      <td>True</td>\n",
       "    </tr>\n",
       "    <tr>\n",
       "      <th>1</th>\n",
       "      <td>1812</td>\n",
       "      <td>paul de kock</td>\n",
       "      <td>l enfant de ma femme</td>\n",
       "      <td>False</td>\n",
       "    </tr>\n",
       "    <tr>\n",
       "      <th>2</th>\n",
       "      <td>1815</td>\n",
       "      <td>sophie gay</td>\n",
       "      <td>anatole</td>\n",
       "      <td>False</td>\n",
       "    </tr>\n",
       "    <tr>\n",
       "      <th>3</th>\n",
       "      <td>1815</td>\n",
       "      <td>sophie gay</td>\n",
       "      <td>anatole</td>\n",
       "      <td>False</td>\n",
       "    </tr>\n",
       "    <tr>\n",
       "      <th>4</th>\n",
       "      <td>1816</td>\n",
       "      <td>hadot marie adelaide barthelemy</td>\n",
       "      <td>la vierge de l indostan ou les portugais au ma...</td>\n",
       "      <td>False</td>\n",
       "    </tr>\n",
       "    <tr>\n",
       "      <th>...</th>\n",
       "      <td>...</td>\n",
       "      <td>...</td>\n",
       "      <td>...</td>\n",
       "      <td>...</td>\n",
       "    </tr>\n",
       "    <tr>\n",
       "      <th>2956</th>\n",
       "      <td>2018</td>\n",
       "      <td>pascal quignard</td>\n",
       "      <td>l enfant d ingolstadt</td>\n",
       "      <td>True</td>\n",
       "    </tr>\n",
       "    <tr>\n",
       "      <th>2957</th>\n",
       "      <td>2019</td>\n",
       "      <td>christelle dabos</td>\n",
       "      <td>la passe miroir</td>\n",
       "      <td>False</td>\n",
       "    </tr>\n",
       "    <tr>\n",
       "      <th>2958</th>\n",
       "      <td>2019</td>\n",
       "      <td>marie aude murail</td>\n",
       "      <td>sauveur fils</td>\n",
       "      <td>False</td>\n",
       "    </tr>\n",
       "    <tr>\n",
       "      <th>2959</th>\n",
       "      <td>2020</td>\n",
       "      <td>clementine melois</td>\n",
       "      <td>dehors la tempete</td>\n",
       "      <td>False</td>\n",
       "    </tr>\n",
       "    <tr>\n",
       "      <th>2960</th>\n",
       "      <td>2020</td>\n",
       "      <td>vanessa springora</td>\n",
       "      <td>le consentement</td>\n",
       "      <td>False</td>\n",
       "    </tr>\n",
       "  </tbody>\n",
       "</table>\n",
       "<p>2961 rows × 4 columns</p>\n",
       "</div>"
      ],
      "text/plain": [
       "      date                           auteur  \\\n",
       "0     1811   françois rene de chateaubriand   \n",
       "1     1812                     paul de kock   \n",
       "2     1815                       sophie gay   \n",
       "3     1815                       sophie gay   \n",
       "4     1816  hadot marie adelaide barthelemy   \n",
       "...    ...                              ...   \n",
       "2956  2018                  pascal quignard   \n",
       "2957  2019                 christelle dabos   \n",
       "2958  2019                marie aude murail   \n",
       "2959  2020                clementine melois   \n",
       "2960  2020                vanessa springora   \n",
       "\n",
       "                                                  titre  fabula  \n",
       "0                                     oeuvres completes    True  \n",
       "1                                  l enfant de ma femme   False  \n",
       "2                                               anatole   False  \n",
       "3                                               anatole   False  \n",
       "4     la vierge de l indostan ou les portugais au ma...   False  \n",
       "...                                                 ...     ...  \n",
       "2956                              l enfant d ingolstadt    True  \n",
       "2957                                    la passe miroir   False  \n",
       "2958                                       sauveur fils   False  \n",
       "2959                                  dehors la tempete   False  \n",
       "2960                                    le consentement   False  \n",
       "\n",
       "[2961 rows x 4 columns]"
      ]
     },
     "execution_count": 18,
     "metadata": {},
     "output_type": "execute_result"
    }
   ],
   "source": [
    "df_corpus"
   ]
  },
  {
   "cell_type": "code",
   "execution_count": 4,
   "metadata": {},
   "outputs": [
    {
     "data": {
      "text/html": [
       "<div>\n",
       "<style scoped>\n",
       "    .dataframe tbody tr th:only-of-type {\n",
       "        vertical-align: middle;\n",
       "    }\n",
       "\n",
       "    .dataframe tbody tr th {\n",
       "        vertical-align: top;\n",
       "    }\n",
       "\n",
       "    .dataframe thead th {\n",
       "        text-align: right;\n",
       "    }\n",
       "</style>\n",
       "<table border=\"1\" class=\"dataframe\">\n",
       "  <thead>\n",
       "    <tr style=\"text-align: right;\">\n",
       "      <th></th>\n",
       "      <th>bac</th>\n",
       "      <th>brevet</th>\n",
       "      <th>lm</th>\n",
       "      <th>sup</th>\n",
       "      <th>prix</th>\n",
       "      <th>gf</th>\n",
       "      <th>pleiade</th>\n",
       "      <th>gouv</th>\n",
       "    </tr>\n",
       "  </thead>\n",
       "  <tbody>\n",
       "    <tr>\n",
       "      <th>0</th>\n",
       "      <td>clair de lune</td>\n",
       "      <td>le dormeur éveillé</td>\n",
       "      <td>martin luther</td>\n",
       "      <td>lais</td>\n",
       "      <td>le bonheur fragile</td>\n",
       "      <td>la fin de cheri</td>\n",
       "      <td>jean paul sartre</td>\n",
       "      <td>journal d'un poète</td>\n",
       "    </tr>\n",
       "    <tr>\n",
       "      <th>1</th>\n",
       "      <td>\"le mendiant\"</td>\n",
       "      <td>35 kilos d'espoir</td>\n",
       "      <td>germaine de stael holstein</td>\n",
       "      <td>l’adolescence clémentine</td>\n",
       "      <td>les bles</td>\n",
       "      <td>typhon</td>\n",
       "      <td>louis ferdinand celine</td>\n",
       "      <td>le songe d'une nuit d'été</td>\n",
       "    </tr>\n",
       "    <tr>\n",
       "      <th>2</th>\n",
       "      <td>sept poemes d'amour en guerre</td>\n",
       "      <td>un certain jeune homme</td>\n",
       "      <td>benjamin constant</td>\n",
       "      <td>le roman comique</td>\n",
       "      <td>les corrompus</td>\n",
       "      <td>le bossu</td>\n",
       "      <td>françois de la rochefoucauld</td>\n",
       "      <td>les trophées</td>\n",
       "    </tr>\n",
       "    <tr>\n",
       "      <th>3</th>\n",
       "      <td>l'or</td>\n",
       "      <td>poisson d'or</td>\n",
       "      <td>etienne pivert de senancour</td>\n",
       "      <td>la dispute / la fausse suivante / la double in...</td>\n",
       "      <td>assam</td>\n",
       "      <td>david copperfield</td>\n",
       "      <td>aristophane</td>\n",
       "      <td>thérèse raquin</td>\n",
       "    </tr>\n",
       "    <tr>\n",
       "      <th>4</th>\n",
       "      <td>le chien jaune</td>\n",
       "      <td>préface du catalogue marc chagall – recent pai...</td>\n",
       "      <td>françois rene de chateaubriand</td>\n",
       "      <td>le cousin pons</td>\n",
       "      <td>histoire d un fait divers</td>\n",
       "      <td>la curee</td>\n",
       "      <td>charles dickens</td>\n",
       "      <td>l'homme qui rit</td>\n",
       "    </tr>\n",
       "    <tr>\n",
       "      <th>...</th>\n",
       "      <td>...</td>\n",
       "      <td>...</td>\n",
       "      <td>...</td>\n",
       "      <td>...</td>\n",
       "      <td>...</td>\n",
       "      <td>...</td>\n",
       "      <td>...</td>\n",
       "      <td>...</td>\n",
       "    </tr>\n",
       "    <tr>\n",
       "      <th>646</th>\n",
       "      <td>NaN</td>\n",
       "      <td>NaN</td>\n",
       "      <td>NaN</td>\n",
       "      <td>NaN</td>\n",
       "      <td>la table aux creves</td>\n",
       "      <td>NaN</td>\n",
       "      <td>NaN</td>\n",
       "      <td>NaN</td>\n",
       "    </tr>\n",
       "    <tr>\n",
       "      <th>647</th>\n",
       "      <td>NaN</td>\n",
       "      <td>NaN</td>\n",
       "      <td>NaN</td>\n",
       "      <td>NaN</td>\n",
       "      <td>un secret</td>\n",
       "      <td>NaN</td>\n",
       "      <td>NaN</td>\n",
       "      <td>NaN</td>\n",
       "    </tr>\n",
       "    <tr>\n",
       "      <th>648</th>\n",
       "      <td>NaN</td>\n",
       "      <td>NaN</td>\n",
       "      <td>NaN</td>\n",
       "      <td>NaN</td>\n",
       "      <td>le carrefour des solitudes</td>\n",
       "      <td>NaN</td>\n",
       "      <td>NaN</td>\n",
       "      <td>NaN</td>\n",
       "    </tr>\n",
       "    <tr>\n",
       "      <th>649</th>\n",
       "      <td>NaN</td>\n",
       "      <td>NaN</td>\n",
       "      <td>NaN</td>\n",
       "      <td>NaN</td>\n",
       "      <td>l imprecateur</td>\n",
       "      <td>NaN</td>\n",
       "      <td>NaN</td>\n",
       "      <td>NaN</td>\n",
       "    </tr>\n",
       "    <tr>\n",
       "      <th>650</th>\n",
       "      <td>NaN</td>\n",
       "      <td>NaN</td>\n",
       "      <td>NaN</td>\n",
       "      <td>NaN</td>\n",
       "      <td>la comedie de terracina</td>\n",
       "      <td>NaN</td>\n",
       "      <td>NaN</td>\n",
       "      <td>NaN</td>\n",
       "    </tr>\n",
       "  </tbody>\n",
       "</table>\n",
       "<p>651 rows × 8 columns</p>\n",
       "</div>"
      ],
      "text/plain": [
       "                               bac  \\\n",
       "0                    clair de lune   \n",
       "1                    \"le mendiant\"   \n",
       "2    sept poemes d'amour en guerre   \n",
       "3                             l'or   \n",
       "4                   le chien jaune   \n",
       "..                             ...   \n",
       "646                            NaN   \n",
       "647                            NaN   \n",
       "648                            NaN   \n",
       "649                            NaN   \n",
       "650                            NaN   \n",
       "\n",
       "                                                brevet  \\\n",
       "0                                   le dormeur éveillé   \n",
       "1                                    35 kilos d'espoir   \n",
       "2                               un certain jeune homme   \n",
       "3                                         poisson d'or   \n",
       "4    préface du catalogue marc chagall – recent pai...   \n",
       "..                                                 ...   \n",
       "646                                                NaN   \n",
       "647                                                NaN   \n",
       "648                                                NaN   \n",
       "649                                                NaN   \n",
       "650                                                NaN   \n",
       "\n",
       "                                 lm  \\\n",
       "0                     martin luther   \n",
       "1        germaine de stael holstein   \n",
       "2                 benjamin constant   \n",
       "3       etienne pivert de senancour   \n",
       "4    françois rene de chateaubriand   \n",
       "..                              ...   \n",
       "646                             NaN   \n",
       "647                             NaN   \n",
       "648                             NaN   \n",
       "649                             NaN   \n",
       "650                             NaN   \n",
       "\n",
       "                                                   sup  \\\n",
       "0                                                 lais   \n",
       "1                             l’adolescence clémentine   \n",
       "2                                     le roman comique   \n",
       "3    la dispute / la fausse suivante / la double in...   \n",
       "4                                       le cousin pons   \n",
       "..                                                 ...   \n",
       "646                                                NaN   \n",
       "647                                                NaN   \n",
       "648                                                NaN   \n",
       "649                                                NaN   \n",
       "650                                                NaN   \n",
       "\n",
       "                           prix                 gf  \\\n",
       "0            le bonheur fragile    la fin de cheri   \n",
       "1                      les bles             typhon   \n",
       "2                 les corrompus           le bossu   \n",
       "3                         assam  david copperfield   \n",
       "4     histoire d un fait divers           la curee   \n",
       "..                          ...                ...   \n",
       "646         la table aux creves                NaN   \n",
       "647                   un secret                NaN   \n",
       "648  le carrefour des solitudes                NaN   \n",
       "649               l imprecateur                NaN   \n",
       "650     la comedie de terracina                NaN   \n",
       "\n",
       "                          pleiade                       gouv  \n",
       "0                jean paul sartre         journal d'un poète  \n",
       "1          louis ferdinand celine  le songe d'une nuit d'été  \n",
       "2    françois de la rochefoucauld               les trophées  \n",
       "3                     aristophane             thérèse raquin  \n",
       "4                 charles dickens            l'homme qui rit  \n",
       "..                            ...                        ...  \n",
       "646                           NaN                        NaN  \n",
       "647                           NaN                        NaN  \n",
       "648                           NaN                        NaN  \n",
       "649                           NaN                        NaN  \n",
       "650                           NaN                        NaN  \n",
       "\n",
       "[651 rows x 8 columns]"
      ]
     },
     "execution_count": 4,
     "metadata": {},
     "output_type": "execute_result"
    }
   ],
   "source": [
    "df_meta_data"
   ]
  },
  {
   "cell_type": "code",
   "execution_count": null,
   "metadata": {},
   "outputs": [],
   "source": []
  },
  {
   "cell_type": "markdown",
   "metadata": {},
   "source": [
    "si auteur et roman dans au moins 50% des listes return 5\n",
    "si auteur et roman dans au moins une liste return 4\n",
    "si auteur mais roman dans aucune liste return 3\n",
    "si pas auteur mais roman dans au moins 50% des listes return 2\n",
    "si pas auteur mais roman dans 1 liste  return 1 \n",
    "si ni auteur ni roman return 0"
   ]
  },
  {
   "cell_type": "code",
   "execution_count": 27,
   "metadata": {},
   "outputs": [],
   "source": [
    "def canonicity_rate_v1(df_corpus, df_metadata):\n",
    "    list_canonicity = []\n",
    "    for i in range(0, len(df_corpus.index)):\n",
    "        auteur = df_corpus.iloc[i].auteur\n",
    "        titre = df_corpus.iloc[i].titre\n",
    "        if df_corpus.iloc[i].fabula == True or auteur in df_metadata['lm'] or auteur in df_metadata['pleiade']:\n",
    "            if taux_appartenance_liste(titre, df_metadata) > 0.5:\n",
    "                list_canonicity.append(5)\n",
    "            elif taux_appartenance_liste(titre, df_metadata) > 0:\n",
    "                list_canonicity.append(4)\n",
    "            else:\n",
    "                list_canonicity.append(3)\n",
    "        elif taux_appartenance_liste(titre, df_metadata) > 0.5:\n",
    "            list_canonicity.append(2)\n",
    "        elif taux_appartenance_liste(titre, df_metadata) > 0:    \n",
    "            list_canonicity.append(1)\n",
    "        else:\n",
    "            list_canonicity.append(0)\n",
    "    return list_canonicity"
   ]
  },
  {
   "cell_type": "code",
   "execution_count": 23,
   "metadata": {},
   "outputs": [],
   "source": [
    "def taux_appartenance_liste(titre, df_metadata):\n",
    "    nb_presence = 0\n",
    "    nb_presence += titre_in_list(titre, list(df_metadata.bac))\n",
    "    nb_presence += titre_in_list(titre, list(df_metadata.brevet))\n",
    "    nb_presence += titre_in_list(titre, list(df_metadata.gf))\n",
    "    nb_presence += titre_in_list(titre, list(df_metadata.sup))\n",
    "    nb_presence += titre_in_list(titre, list(df_metadata.gouv))\n",
    "    nb_presence += titre_in_list(titre, list(df_metadata.prix))\n",
    "    return nb_presence*/6"
   ]
  },
  {
   "cell_type": "code",
   "execution_count": 25,
   "metadata": {},
   "outputs": [],
   "source": [
    "def titre_in_list(titre, liste):\n",
    "    if titre in liste:\n",
    "        return 1\n",
    "    else:\n",
    "        return 0"
   ]
  },
  {
   "cell_type": "code",
   "execution_count": 28,
   "metadata": {},
   "outputs": [],
   "source": [
    "list_canonicity_v1 = canonicity_rate_v1(df_corpus, df_meta_data)"
   ]
  },
  {
   "cell_type": "code",
   "execution_count": 38,
   "metadata": {},
   "outputs": [
    {
     "data": {
      "text/plain": [
       "2961"
      ]
     },
     "execution_count": 38,
     "metadata": {},
     "output_type": "execute_result"
    }
   ],
   "source": [
    "len(list_canonicity_v1)"
   ]
  },
  {
   "cell_type": "code",
   "execution_count": 39,
   "metadata": {},
   "outputs": [],
   "source": [
    "df_corpus[\"canonicity_1\"] = list_canonicity_v1"
   ]
  },
  {
   "cell_type": "code",
   "execution_count": null,
   "metadata": {},
   "outputs": [],
   "source": []
  },
  {
   "cell_type": "code",
   "execution_count": null,
   "metadata": {},
   "outputs": [],
   "source": [
    "si roman dans sup --> 3\n",
    "si roman dans brevet ou bac ou gf --> 2\n",
    "si roman dans prix ou gouv --> 1\n",
    "sinon --> 0"
   ]
  },
  {
   "cell_type": "code",
   "execution_count": null,
   "metadata": {},
   "outputs": [],
   "source": [
    "si auteur dans lm ou pleiade ou fabula --> 3\n",
    "sinon --> 0"
   ]
  },
  {
   "cell_type": "code",
   "execution_count": null,
   "metadata": {},
   "outputs": [],
   "source": []
  },
  {
   "cell_type": "code",
   "execution_count": 34,
   "metadata": {},
   "outputs": [],
   "source": [
    "def canonicity_rate_v2(df_corpus, df_metadata):\n",
    "    list_canonicity = []\n",
    "    for i in range(0, len(df_corpus.index)):\n",
    "        taux_temp = 0\n",
    "        auteur = df_corpus.iloc[i].auteur\n",
    "        titre = df_corpus.iloc[i].titre\n",
    "        if titre_in_list(titre, list(df_metadata.sup)):\n",
    "            taux_temp+=3\n",
    "        if titre_in_list(titre, list(df_metadata.bac)) or titre_in_list(titre, list(df_metadata.brevet)) or titre_in_list(titre, list(df_metadata.gf)):\n",
    "            taux_temp+=2\n",
    "        if titre_in_list(titre, list(df_metadata.prix)) or titre_in_list(titre, list(df_metadata.gouv)):\n",
    "            taux_temp+=1\n",
    "        if titre_in_list(auteur, list(df_metadata.lm)) or titre_in_list(auteur, list(df_metadata.pleiade)) or df_corpus.iloc[i].fabula == True:\n",
    "            taux_temp+=3       \n",
    "        list_canonicity.append(taux_temp)\n",
    "    return list_canonicity"
   ]
  },
  {
   "cell_type": "code",
   "execution_count": 35,
   "metadata": {},
   "outputs": [],
   "source": [
    "list_canonicity_v2 = canonicity_rate_v2(df_corpus, df_meta_data)"
   ]
  },
  {
   "cell_type": "code",
   "execution_count": 37,
   "metadata": {},
   "outputs": [
    {
     "data": {
      "text/plain": [
       "2961"
      ]
     },
     "execution_count": 37,
     "metadata": {},
     "output_type": "execute_result"
    }
   ],
   "source": [
    "len(list_canonicity_v2)"
   ]
  },
  {
   "cell_type": "code",
   "execution_count": 40,
   "metadata": {},
   "outputs": [],
   "source": [
    "df_corpus[\"canonicity_2\"] = list_canonicity_v2"
   ]
  },
  {
   "cell_type": "code",
   "execution_count": null,
   "metadata": {},
   "outputs": [],
   "source": []
  },
  {
   "cell_type": "code",
   "execution_count": null,
   "metadata": {},
   "outputs": [],
   "source": []
  },
  {
   "cell_type": "code",
   "execution_count": 45,
   "metadata": {},
   "outputs": [],
   "source": [
    "df_corpus.to_csv(r'../metadata/df_corpus_rate_canonicity.csv', index = False, header=True)"
   ]
  },
  {
   "cell_type": "code",
   "execution_count": null,
   "metadata": {},
   "outputs": [],
   "source": []
  },
  {
   "cell_type": "code",
   "execution_count": 44,
   "metadata": {},
   "outputs": [
    {
     "data": {
      "text/plain": [
       "0    0.593381\n",
       "3    0.318473\n",
       "5    0.071260\n",
       "2    0.016886\n",
       "Name: canonicity_1, dtype: float64"
      ]
     },
     "execution_count": 44,
     "metadata": {},
     "output_type": "execute_result"
    }
   ],
   "source": [
    "df_corpus['canonicity_1'].value_counts(normalize=True)"
   ]
  },
  {
   "cell_type": "code",
   "execution_count": 75,
   "metadata": {},
   "outputs": [
    {
     "data": {
      "text/plain": [
       "0    0.587302\n",
       "3    0.325566\n",
       "5    0.042215\n",
       "4    0.018575\n",
       "1    0.009119\n",
       "6    0.007768\n",
       "2    0.005741\n",
       "8    0.002364\n",
       "9    0.001013\n",
       "7    0.000338\n",
       "Name: canonicity_2, dtype: float64"
      ]
     },
     "execution_count": 75,
     "metadata": {},
     "output_type": "execute_result"
    }
   ],
   "source": [
    "df_corpus['canonicity_2'].value_counts(normalize=True)"
   ]
  },
  {
   "cell_type": "code",
   "execution_count": 74,
   "metadata": {},
   "outputs": [
    {
     "data": {
      "text/plain": [
       "False    0.610267\n",
       "True     0.389733\n",
       "Name: fabula, dtype: float64"
      ]
     },
     "execution_count": 74,
     "metadata": {},
     "output_type": "execute_result"
    }
   ],
   "source": [
    "df_corpus['fabula'].value_counts(normalize=True)"
   ]
  },
  {
   "cell_type": "code",
   "execution_count": 70,
   "metadata": {},
   "outputs": [],
   "source": [
    "test = df_corpus[df_corpus['canonicity_2']==0]"
   ]
  },
  {
   "cell_type": "code",
   "execution_count": 71,
   "metadata": {},
   "outputs": [
    {
     "data": {
      "text/html": [
       "<div>\n",
       "<style scoped>\n",
       "    .dataframe tbody tr th:only-of-type {\n",
       "        vertical-align: middle;\n",
       "    }\n",
       "\n",
       "    .dataframe tbody tr th {\n",
       "        vertical-align: top;\n",
       "    }\n",
       "\n",
       "    .dataframe thead th {\n",
       "        text-align: right;\n",
       "    }\n",
       "</style>\n",
       "<table border=\"1\" class=\"dataframe\">\n",
       "  <thead>\n",
       "    <tr style=\"text-align: right;\">\n",
       "      <th></th>\n",
       "      <th>date</th>\n",
       "      <th>auteur</th>\n",
       "      <th>titre</th>\n",
       "      <th>fabula</th>\n",
       "      <th>canonicity_1</th>\n",
       "      <th>canonicity_2</th>\n",
       "    </tr>\n",
       "  </thead>\n",
       "  <tbody>\n",
       "    <tr>\n",
       "      <th>1</th>\n",
       "      <td>1812</td>\n",
       "      <td>paul de kock</td>\n",
       "      <td>l enfant de ma femme</td>\n",
       "      <td>False</td>\n",
       "      <td>0</td>\n",
       "      <td>0</td>\n",
       "    </tr>\n",
       "    <tr>\n",
       "      <th>2</th>\n",
       "      <td>1815</td>\n",
       "      <td>sophie gay</td>\n",
       "      <td>anatole</td>\n",
       "      <td>False</td>\n",
       "      <td>0</td>\n",
       "      <td>0</td>\n",
       "    </tr>\n",
       "    <tr>\n",
       "      <th>3</th>\n",
       "      <td>1815</td>\n",
       "      <td>sophie gay</td>\n",
       "      <td>anatole</td>\n",
       "      <td>False</td>\n",
       "      <td>0</td>\n",
       "      <td>0</td>\n",
       "    </tr>\n",
       "    <tr>\n",
       "      <th>4</th>\n",
       "      <td>1816</td>\n",
       "      <td>hadot marie adelaide barthelemy</td>\n",
       "      <td>la vierge de l indostan ou les portugais au ma...</td>\n",
       "      <td>False</td>\n",
       "      <td>0</td>\n",
       "      <td>0</td>\n",
       "    </tr>\n",
       "    <tr>\n",
       "      <th>5</th>\n",
       "      <td>1816</td>\n",
       "      <td>hadot marie adelaide barthelemy</td>\n",
       "      <td>la vierge de l indostan ou les portugais au ma...</td>\n",
       "      <td>False</td>\n",
       "      <td>0</td>\n",
       "      <td>0</td>\n",
       "    </tr>\n",
       "    <tr>\n",
       "      <th>...</th>\n",
       "      <td>...</td>\n",
       "      <td>...</td>\n",
       "      <td>...</td>\n",
       "      <td>...</td>\n",
       "      <td>...</td>\n",
       "      <td>...</td>\n",
       "    </tr>\n",
       "    <tr>\n",
       "      <th>2955</th>\n",
       "      <td>2018</td>\n",
       "      <td>marie aude murail</td>\n",
       "      <td>en nous beaucoup d hommes respirent</td>\n",
       "      <td>False</td>\n",
       "      <td>0</td>\n",
       "      <td>0</td>\n",
       "    </tr>\n",
       "    <tr>\n",
       "      <th>2957</th>\n",
       "      <td>2019</td>\n",
       "      <td>christelle dabos</td>\n",
       "      <td>la passe miroir</td>\n",
       "      <td>False</td>\n",
       "      <td>0</td>\n",
       "      <td>0</td>\n",
       "    </tr>\n",
       "    <tr>\n",
       "      <th>2958</th>\n",
       "      <td>2019</td>\n",
       "      <td>marie aude murail</td>\n",
       "      <td>sauveur fils</td>\n",
       "      <td>False</td>\n",
       "      <td>0</td>\n",
       "      <td>0</td>\n",
       "    </tr>\n",
       "    <tr>\n",
       "      <th>2959</th>\n",
       "      <td>2020</td>\n",
       "      <td>clementine melois</td>\n",
       "      <td>dehors la tempete</td>\n",
       "      <td>False</td>\n",
       "      <td>0</td>\n",
       "      <td>0</td>\n",
       "    </tr>\n",
       "    <tr>\n",
       "      <th>2960</th>\n",
       "      <td>2020</td>\n",
       "      <td>vanessa springora</td>\n",
       "      <td>le consentement</td>\n",
       "      <td>False</td>\n",
       "      <td>0</td>\n",
       "      <td>0</td>\n",
       "    </tr>\n",
       "  </tbody>\n",
       "</table>\n",
       "<p>1739 rows × 6 columns</p>\n",
       "</div>"
      ],
      "text/plain": [
       "      date                           auteur  \\\n",
       "1     1812                     paul de kock   \n",
       "2     1815                       sophie gay   \n",
       "3     1815                       sophie gay   \n",
       "4     1816  hadot marie adelaide barthelemy   \n",
       "5     1816  hadot marie adelaide barthelemy   \n",
       "...    ...                              ...   \n",
       "2955  2018                marie aude murail   \n",
       "2957  2019                 christelle dabos   \n",
       "2958  2019                marie aude murail   \n",
       "2959  2020                clementine melois   \n",
       "2960  2020                vanessa springora   \n",
       "\n",
       "                                                  titre  fabula  canonicity_1  \\\n",
       "1                                  l enfant de ma femme   False             0   \n",
       "2                                               anatole   False             0   \n",
       "3                                               anatole   False             0   \n",
       "4     la vierge de l indostan ou les portugais au ma...   False             0   \n",
       "5     la vierge de l indostan ou les portugais au ma...   False             0   \n",
       "...                                                 ...     ...           ...   \n",
       "2955                en nous beaucoup d hommes respirent   False             0   \n",
       "2957                                    la passe miroir   False             0   \n",
       "2958                                       sauveur fils   False             0   \n",
       "2959                                  dehors la tempete   False             0   \n",
       "2960                                    le consentement   False             0   \n",
       "\n",
       "      canonicity_2  \n",
       "1                0  \n",
       "2                0  \n",
       "3                0  \n",
       "4                0  \n",
       "5                0  \n",
       "...            ...  \n",
       "2955             0  \n",
       "2957             0  \n",
       "2958             0  \n",
       "2959             0  \n",
       "2960             0  \n",
       "\n",
       "[1739 rows x 6 columns]"
      ]
     },
     "execution_count": 71,
     "metadata": {},
     "output_type": "execute_result"
    }
   ],
   "source": [
    "test"
   ]
  },
  {
   "cell_type": "code",
   "execution_count": null,
   "metadata": {},
   "outputs": [],
   "source": []
  }
 ],
 "metadata": {
  "kernelspec": {
   "display_name": "Python 3",
   "language": "python",
   "name": "python3"
  },
  "language_info": {
   "codemirror_mode": {
    "name": "ipython",
    "version": 3
   },
   "file_extension": ".py",
   "mimetype": "text/x-python",
   "name": "python",
   "nbconvert_exporter": "python",
   "pygments_lexer": "ipython3",
   "version": "3.8.3"
  }
 },
 "nbformat": 4,
 "nbformat_minor": 4
}
