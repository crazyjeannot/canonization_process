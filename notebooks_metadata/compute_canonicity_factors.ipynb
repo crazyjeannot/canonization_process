{
 "cells": [
  {
   "cell_type": "code",
   "execution_count": 83,
   "metadata": {},
   "outputs": [],
   "source": [
    "import re\n",
    "import numpy as np\n",
    "import pandas as pd\n",
    "from os import path\n",
    "from collections import Counter\n",
    "from glob import glob\n",
    "from lxml import etree\n",
    "from tqdm import tqdm\n",
    "import seaborn as sns\n",
    "from scipy.stats import pearsonr"
   ]
  },
  {
   "cell_type": "code",
   "execution_count": 116,
   "metadata": {},
   "outputs": [],
   "source": [
    "df_corpus = pd.read_csv(r'../metadata/corpus.csv')\n",
    "#df_meta_data = pd.read_csv(r'../metadata/meta_data_canons.csv')\n",
    "df_meta_data = pd.read_csv(r'../metadata/meta_data_last_version.csv')\n",
    "df_corpus_canon = pd.read_csv(r'../metadata/corpus_canons.csv')"
   ]
  },
  {
   "cell_type": "markdown",
   "metadata": {},
   "source": [
    "#### Get list doc name & gender & auteur_canon from metadata/corpus.csv"
   ]
  },
  {
   "cell_type": "code",
   "execution_count": 117,
   "metadata": {},
   "outputs": [],
   "source": [
    "list_doc_name = df_corpus.doc_name\n",
    "list_auteur = df_corpus.auteur\n",
    "list_titre = df_corpus.titre\n",
    "list_date = df_corpus.date\n",
    "list_gender = df_corpus.gender\n",
    "list_auteur_canon = df_corpus.canon"
   ]
  },
  {
   "cell_type": "markdown",
   "metadata": {},
   "source": [
    "#### Get list roman_canon from metadata/corpus_canon.csv"
   ]
  },
  {
   "cell_type": "code",
   "execution_count": 118,
   "metadata": {},
   "outputs": [],
   "source": [
    "list_roman_canon = df_corpus_canon.canon"
   ]
  },
  {
   "cell_type": "markdown",
   "metadata": {},
   "source": [
    "#### Get lists presence in canon ? 0, 1 from metadata/meta_data_canons.csv"
   ]
  },
  {
   "cell_type": "code",
   "execution_count": 119,
   "metadata": {},
   "outputs": [],
   "source": [
    "def get_list_presence_roman(list_titre, df_meta_data, feature_wanted):\n",
    "    list_feature_wanted = []\n",
    "    for elem in list_titre:\n",
    "        if feature_wanted not in list(df_meta_data.columns):\n",
    "            print('feature_wanted do not exist')\n",
    "            return\n",
    "        else :\n",
    "            if elem in list(df_meta_data[feature_wanted]):\n",
    "                list_feature_wanted.append(1)                \n",
    "            else:\n",
    "                list_feature_wanted.append(0)\n",
    "    return list_feature_wanted"
   ]
  },
  {
   "cell_type": "code",
   "execution_count": 120,
   "metadata": {},
   "outputs": [],
   "source": [
    "list_bac = get_list_presence_roman(list_titre, df_meta_data, 'bac')\n",
    "list_brevet = get_list_presence_roman(list_titre, df_meta_data, 'brevet')\n",
    "list_lm = get_list_presence_roman(list_auteur, df_meta_data, 'lm')\n",
    "list_sup = get_list_presence_roman(list_titre, df_meta_data, 'sup')\n",
    "list_prix = get_list_presence_roman(list_titre, df_meta_data, 'prix')\n",
    "list_gf = get_list_presence_roman(list_titre, df_meta_data, 'gf')\n",
    "list_pleiade = get_list_presence_roman(list_auteur, df_meta_data, 'pleiade')\n",
    "list_gouv = get_list_presence_roman(list_titre, df_meta_data, 'gouv')"
   ]
  },
  {
   "cell_type": "code",
   "execution_count": 121,
   "metadata": {},
   "outputs": [],
   "source": [
    "zipped = list(zip(list_doc_name, list_date, list_auteur, list_titre, list_roman_canon, list_auteur_canon, list_gender, list_bac, list_brevet, list_lm, list_sup, list_prix, list_gf, list_pleiade, list_gouv))"
   ]
  },
  {
   "cell_type": "code",
   "execution_count": 122,
   "metadata": {},
   "outputs": [],
   "source": [
    "df_canon_spec = pd.DataFrame(zipped, columns=[\"doc_name\", \"date\", \"auteur\", \"titre\", \"canon_roman\", \"canon_auteur\", \"gender\", \"bac\", \"brevet\", \"lm\", 'sup', 'prix', 'gf', 'pleiade', 'gouv'])"
   ]
  },
  {
   "cell_type": "code",
   "execution_count": 123,
   "metadata": {},
   "outputs": [
    {
     "data": {
      "text/html": [
       "<div>\n",
       "<style scoped>\n",
       "    .dataframe tbody tr th:only-of-type {\n",
       "        vertical-align: middle;\n",
       "    }\n",
       "\n",
       "    .dataframe tbody tr th {\n",
       "        vertical-align: top;\n",
       "    }\n",
       "\n",
       "    .dataframe thead th {\n",
       "        text-align: right;\n",
       "    }\n",
       "</style>\n",
       "<table border=\"1\" class=\"dataframe\">\n",
       "  <thead>\n",
       "    <tr style=\"text-align: right;\">\n",
       "      <th></th>\n",
       "      <th>doc_name</th>\n",
       "      <th>date</th>\n",
       "      <th>auteur</th>\n",
       "      <th>titre</th>\n",
       "      <th>canon_roman</th>\n",
       "      <th>canon_auteur</th>\n",
       "      <th>gender</th>\n",
       "      <th>bac</th>\n",
       "      <th>brevet</th>\n",
       "      <th>lm</th>\n",
       "      <th>sup</th>\n",
       "      <th>prix</th>\n",
       "      <th>gf</th>\n",
       "      <th>pleiade</th>\n",
       "      <th>gouv</th>\n",
       "    </tr>\n",
       "  </thead>\n",
       "  <tbody>\n",
       "    <tr>\n",
       "      <th>0</th>\n",
       "      <td>1811_Chateaubriand-François-Rene-de_Oeuvres-co...</td>\n",
       "      <td>1811</td>\n",
       "      <td>françois rene de chateaubriand</td>\n",
       "      <td>oeuvres completes</td>\n",
       "      <td>canon</td>\n",
       "      <td>True</td>\n",
       "      <td>male</td>\n",
       "      <td>1</td>\n",
       "      <td>0</td>\n",
       "      <td>0</td>\n",
       "      <td>1</td>\n",
       "      <td>0</td>\n",
       "      <td>0</td>\n",
       "      <td>0</td>\n",
       "      <td>1</td>\n",
       "    </tr>\n",
       "    <tr>\n",
       "      <th>1</th>\n",
       "      <td>1812_Kock-Paul-de_L-enfant-de-ma-femme</td>\n",
       "      <td>1812</td>\n",
       "      <td>paul de kock</td>\n",
       "      <td>l enfant de ma femme</td>\n",
       "      <td>non_canon</td>\n",
       "      <td>False</td>\n",
       "      <td>male</td>\n",
       "      <td>0</td>\n",
       "      <td>0</td>\n",
       "      <td>0</td>\n",
       "      <td>0</td>\n",
       "      <td>0</td>\n",
       "      <td>0</td>\n",
       "      <td>0</td>\n",
       "      <td>0</td>\n",
       "    </tr>\n",
       "    <tr>\n",
       "      <th>2</th>\n",
       "      <td>1815_Gay-Sophie_Anatole_Vol-1</td>\n",
       "      <td>1815</td>\n",
       "      <td>sophie gay</td>\n",
       "      <td>anatole</td>\n",
       "      <td>non_canon</td>\n",
       "      <td>False</td>\n",
       "      <td>female</td>\n",
       "      <td>0</td>\n",
       "      <td>0</td>\n",
       "      <td>0</td>\n",
       "      <td>0</td>\n",
       "      <td>0</td>\n",
       "      <td>0</td>\n",
       "      <td>0</td>\n",
       "      <td>0</td>\n",
       "    </tr>\n",
       "    <tr>\n",
       "      <th>3</th>\n",
       "      <td>1815_Gay-Sophie_Anatole_Vol-2</td>\n",
       "      <td>1815</td>\n",
       "      <td>sophie gay</td>\n",
       "      <td>anatole</td>\n",
       "      <td>non_canon</td>\n",
       "      <td>False</td>\n",
       "      <td>female</td>\n",
       "      <td>0</td>\n",
       "      <td>0</td>\n",
       "      <td>0</td>\n",
       "      <td>0</td>\n",
       "      <td>0</td>\n",
       "      <td>0</td>\n",
       "      <td>0</td>\n",
       "      <td>0</td>\n",
       "    </tr>\n",
       "    <tr>\n",
       "      <th>4</th>\n",
       "      <td>1816_Barthelemy-Hadot-Marie-Adelaide_La-Vierge...</td>\n",
       "      <td>1816</td>\n",
       "      <td>hadot marie adelaide barthelemy</td>\n",
       "      <td>la vierge de l indostan ou les portugais au ma...</td>\n",
       "      <td>non_canon</td>\n",
       "      <td>False</td>\n",
       "      <td>female</td>\n",
       "      <td>0</td>\n",
       "      <td>0</td>\n",
       "      <td>0</td>\n",
       "      <td>0</td>\n",
       "      <td>0</td>\n",
       "      <td>0</td>\n",
       "      <td>0</td>\n",
       "      <td>0</td>\n",
       "    </tr>\n",
       "    <tr>\n",
       "      <th>...</th>\n",
       "      <td>...</td>\n",
       "      <td>...</td>\n",
       "      <td>...</td>\n",
       "      <td>...</td>\n",
       "      <td>...</td>\n",
       "      <td>...</td>\n",
       "      <td>...</td>\n",
       "      <td>...</td>\n",
       "      <td>...</td>\n",
       "      <td>...</td>\n",
       "      <td>...</td>\n",
       "      <td>...</td>\n",
       "      <td>...</td>\n",
       "      <td>...</td>\n",
       "      <td>...</td>\n",
       "    </tr>\n",
       "    <tr>\n",
       "      <th>2956</th>\n",
       "      <td>2017_Lopez-David_Fief</td>\n",
       "      <td>2017</td>\n",
       "      <td>david lopez</td>\n",
       "      <td>fief</td>\n",
       "      <td>non_canon</td>\n",
       "      <td>False</td>\n",
       "      <td>male</td>\n",
       "      <td>0</td>\n",
       "      <td>0</td>\n",
       "      <td>0</td>\n",
       "      <td>0</td>\n",
       "      <td>0</td>\n",
       "      <td>0</td>\n",
       "      <td>0</td>\n",
       "      <td>0</td>\n",
       "    </tr>\n",
       "    <tr>\n",
       "      <th>2957</th>\n",
       "      <td>2017_Murail-Marie-Aude_Sauveur-Fils-saison-3</td>\n",
       "      <td>2017</td>\n",
       "      <td>marie aude murail</td>\n",
       "      <td>sauveur fils saison 3</td>\n",
       "      <td>non_canon</td>\n",
       "      <td>False</td>\n",
       "      <td>female</td>\n",
       "      <td>0</td>\n",
       "      <td>0</td>\n",
       "      <td>0</td>\n",
       "      <td>0</td>\n",
       "      <td>0</td>\n",
       "      <td>0</td>\n",
       "      <td>0</td>\n",
       "      <td>0</td>\n",
       "    </tr>\n",
       "    <tr>\n",
       "      <th>2958</th>\n",
       "      <td>2017_Murail-Marie-Aude_Sauveur-Fils-saison-4</td>\n",
       "      <td>2017</td>\n",
       "      <td>marie aude murail</td>\n",
       "      <td>sauveur fils saison 4</td>\n",
       "      <td>non_canon</td>\n",
       "      <td>False</td>\n",
       "      <td>female</td>\n",
       "      <td>0</td>\n",
       "      <td>0</td>\n",
       "      <td>0</td>\n",
       "      <td>0</td>\n",
       "      <td>0</td>\n",
       "      <td>0</td>\n",
       "      <td>0</td>\n",
       "      <td>0</td>\n",
       "    </tr>\n",
       "    <tr>\n",
       "      <th>2959</th>\n",
       "      <td>2018_Mathieu-Nicolas_Leurs-enfants-apres-eux</td>\n",
       "      <td>2018</td>\n",
       "      <td>nicolas mathieu</td>\n",
       "      <td>leurs enfants apres eux</td>\n",
       "      <td>non_canon</td>\n",
       "      <td>False</td>\n",
       "      <td>male</td>\n",
       "      <td>0</td>\n",
       "      <td>0</td>\n",
       "      <td>0</td>\n",
       "      <td>0</td>\n",
       "      <td>0</td>\n",
       "      <td>0</td>\n",
       "      <td>0</td>\n",
       "      <td>0</td>\n",
       "    </tr>\n",
       "    <tr>\n",
       "      <th>2960</th>\n",
       "      <td>2018_Murail-Marie-Aude_En-nous-beaucoup-d_homm...</td>\n",
       "      <td>2018</td>\n",
       "      <td>marie aude murail</td>\n",
       "      <td>en nous beaucoup d</td>\n",
       "      <td>non_canon</td>\n",
       "      <td>False</td>\n",
       "      <td>female</td>\n",
       "      <td>0</td>\n",
       "      <td>0</td>\n",
       "      <td>0</td>\n",
       "      <td>0</td>\n",
       "      <td>0</td>\n",
       "      <td>0</td>\n",
       "      <td>0</td>\n",
       "      <td>0</td>\n",
       "    </tr>\n",
       "  </tbody>\n",
       "</table>\n",
       "<p>2961 rows × 15 columns</p>\n",
       "</div>"
      ],
      "text/plain": [
       "                                               doc_name  date  \\\n",
       "0     1811_Chateaubriand-François-Rene-de_Oeuvres-co...  1811   \n",
       "1                1812_Kock-Paul-de_L-enfant-de-ma-femme  1812   \n",
       "2                         1815_Gay-Sophie_Anatole_Vol-1  1815   \n",
       "3                         1815_Gay-Sophie_Anatole_Vol-2  1815   \n",
       "4     1816_Barthelemy-Hadot-Marie-Adelaide_La-Vierge...  1816   \n",
       "...                                                 ...   ...   \n",
       "2956                              2017_Lopez-David_Fief  2017   \n",
       "2957       2017_Murail-Marie-Aude_Sauveur-Fils-saison-3  2017   \n",
       "2958       2017_Murail-Marie-Aude_Sauveur-Fils-saison-4  2017   \n",
       "2959       2018_Mathieu-Nicolas_Leurs-enfants-apres-eux  2018   \n",
       "2960  2018_Murail-Marie-Aude_En-nous-beaucoup-d_homm...  2018   \n",
       "\n",
       "                               auteur  \\\n",
       "0      françois rene de chateaubriand   \n",
       "1                        paul de kock   \n",
       "2                          sophie gay   \n",
       "3                          sophie gay   \n",
       "4     hadot marie adelaide barthelemy   \n",
       "...                               ...   \n",
       "2956                      david lopez   \n",
       "2957                marie aude murail   \n",
       "2958                marie aude murail   \n",
       "2959                  nicolas mathieu   \n",
       "2960                marie aude murail   \n",
       "\n",
       "                                                  titre canon_roman  \\\n",
       "0                                     oeuvres completes       canon   \n",
       "1                                  l enfant de ma femme   non_canon   \n",
       "2                                               anatole   non_canon   \n",
       "3                                               anatole   non_canon   \n",
       "4     la vierge de l indostan ou les portugais au ma...   non_canon   \n",
       "...                                                 ...         ...   \n",
       "2956                                               fief   non_canon   \n",
       "2957                              sauveur fils saison 3   non_canon   \n",
       "2958                              sauveur fils saison 4   non_canon   \n",
       "2959                            leurs enfants apres eux   non_canon   \n",
       "2960                                 en nous beaucoup d   non_canon   \n",
       "\n",
       "      canon_auteur  gender  bac  brevet  lm  sup  prix  gf  pleiade  gouv  \n",
       "0             True    male    1       0   0    1     0   0        0     1  \n",
       "1            False    male    0       0   0    0     0   0        0     0  \n",
       "2            False  female    0       0   0    0     0   0        0     0  \n",
       "3            False  female    0       0   0    0     0   0        0     0  \n",
       "4            False  female    0       0   0    0     0   0        0     0  \n",
       "...            ...     ...  ...     ...  ..  ...   ...  ..      ...   ...  \n",
       "2956         False    male    0       0   0    0     0   0        0     0  \n",
       "2957         False  female    0       0   0    0     0   0        0     0  \n",
       "2958         False  female    0       0   0    0     0   0        0     0  \n",
       "2959         False    male    0       0   0    0     0   0        0     0  \n",
       "2960         False  female    0       0   0    0     0   0        0     0  \n",
       "\n",
       "[2961 rows x 15 columns]"
      ]
     },
     "execution_count": 123,
     "metadata": {},
     "output_type": "execute_result"
    }
   ],
   "source": [
    "df_canon_spec"
   ]
  },
  {
   "cell_type": "code",
   "execution_count": null,
   "metadata": {},
   "outputs": [],
   "source": []
  },
  {
   "cell_type": "code",
   "execution_count": 124,
   "metadata": {},
   "outputs": [
    {
     "data": {
      "text/plain": [
       "0    2888\n",
       "1      73\n",
       "Name: bac, dtype: int64"
      ]
     },
     "execution_count": 124,
     "metadata": {},
     "output_type": "execute_result"
    }
   ],
   "source": [
    "df_canon_spec.bac.value_counts()"
   ]
  },
  {
   "cell_type": "code",
   "execution_count": 125,
   "metadata": {},
   "outputs": [
    {
     "data": {
      "text/plain": [
       "0    2927\n",
       "1      34\n",
       "Name: brevet, dtype: int64"
      ]
     },
     "execution_count": 125,
     "metadata": {},
     "output_type": "execute_result"
    }
   ],
   "source": [
    "df_canon_spec.brevet.value_counts()"
   ]
  },
  {
   "cell_type": "code",
   "execution_count": 126,
   "metadata": {},
   "outputs": [
    {
     "data": {
      "text/plain": [
       "0    2400\n",
       "1     561\n",
       "Name: lm, dtype: int64"
      ]
     },
     "execution_count": 126,
     "metadata": {},
     "output_type": "execute_result"
    }
   ],
   "source": [
    "df_canon_spec.lm.value_counts()"
   ]
  },
  {
   "cell_type": "code",
   "execution_count": 127,
   "metadata": {},
   "outputs": [
    {
     "data": {
      "text/plain": [
       "0    2933\n",
       "1      28\n",
       "Name: sup, dtype: int64"
      ]
     },
     "execution_count": 127,
     "metadata": {},
     "output_type": "execute_result"
    }
   ],
   "source": [
    "df_canon_spec.sup.value_counts()"
   ]
  },
  {
   "cell_type": "code",
   "execution_count": 128,
   "metadata": {},
   "outputs": [
    {
     "data": {
      "text/plain": [
       "0    2900\n",
       "1      61\n",
       "Name: prix, dtype: int64"
      ]
     },
     "execution_count": 128,
     "metadata": {},
     "output_type": "execute_result"
    }
   ],
   "source": [
    "df_canon_spec.prix.value_counts()"
   ]
  },
  {
   "cell_type": "code",
   "execution_count": 129,
   "metadata": {},
   "outputs": [
    {
     "data": {
      "text/plain": [
       "0    2920\n",
       "1      41\n",
       "Name: gouv, dtype: int64"
      ]
     },
     "execution_count": 129,
     "metadata": {},
     "output_type": "execute_result"
    }
   ],
   "source": [
    "df_canon_spec.gouv.value_counts()"
   ]
  },
  {
   "cell_type": "code",
   "execution_count": 130,
   "metadata": {},
   "outputs": [
    {
     "data": {
      "text/plain": [
       "0    2882\n",
       "1      79\n",
       "Name: gf, dtype: int64"
      ]
     },
     "execution_count": 130,
     "metadata": {},
     "output_type": "execute_result"
    }
   ],
   "source": [
    "df_canon_spec.gf.value_counts()"
   ]
  },
  {
   "cell_type": "code",
   "execution_count": 115,
   "metadata": {},
   "outputs": [
    {
     "data": {
      "text/plain": [
       "0    2357\n",
       "1     604\n",
       "Name: pleiade, dtype: int64"
      ]
     },
     "execution_count": 115,
     "metadata": {},
     "output_type": "execute_result"
    }
   ],
   "source": [
    "df_canon_spec.pleiade.value_counts()"
   ]
  },
  {
   "cell_type": "code",
   "execution_count": 73,
   "metadata": {},
   "outputs": [
    {
     "data": {
      "text/plain": [
       "710"
      ]
     },
     "execution_count": 73,
     "metadata": {},
     "output_type": "execute_result"
    }
   ],
   "source": [
    "len(set(list(df_canon_spec.auteur)))"
   ]
  },
  {
   "cell_type": "code",
   "execution_count": 11,
   "metadata": {},
   "outputs": [
    {
     "data": {
      "text/plain": [
       "4.170422535211268"
      ]
     },
     "execution_count": 11,
     "metadata": {},
     "output_type": "execute_result"
    }
   ],
   "source": [
    "2961/710"
   ]
  },
  {
   "cell_type": "code",
   "execution_count": 13,
   "metadata": {},
   "outputs": [],
   "source": [
    "df_canon_female = df_canon_spec[df_canon_spec['gender']=='female']"
   ]
  },
  {
   "cell_type": "code",
   "execution_count": 14,
   "metadata": {},
   "outputs": [
    {
     "data": {
      "text/plain": [
       "148"
      ]
     },
     "execution_count": 14,
     "metadata": {},
     "output_type": "execute_result"
    }
   ],
   "source": [
    "len(set(list(df_canon_female.auteur)))"
   ]
  },
  {
   "cell_type": "code",
   "execution_count": null,
   "metadata": {},
   "outputs": [],
   "source": []
  },
  {
   "cell_type": "code",
   "execution_count": 132,
   "metadata": {},
   "outputs": [],
   "source": [
    "df_canon_spec.to_csv(r'../metadata/df_canon_spec.csv')"
   ]
  },
  {
   "cell_type": "code",
   "execution_count": 70,
   "metadata": {},
   "outputs": [],
   "source": []
  },
  {
   "cell_type": "code",
   "execution_count": 131,
   "metadata": {},
   "outputs": [
    {
     "data": {
      "text/plain": [
       "<AxesSubplot:xlabel='pleiade', ylabel='lm'>"
      ]
     },
     "execution_count": 131,
     "metadata": {},
     "output_type": "execute_result"
    },
    {
     "data": {
      "image/png": "[encoded data removed]",
      "text/plain": [
       "<Figure size 432x288 with 1 Axes>"
      ]
     },
     "metadata": {
      "needs_background": "light"
     },
     "output_type": "display_data"
    }
   ],
   "source": [
    "sns.scatterplot(x='pleiade', y=\"lm\", data=df_canon_spec)"
   ]
  },
  {
   "cell_type": "code",
   "execution_count": 133,
   "metadata": {},
   "outputs": [
    {
     "data": {
      "text/plain": [
       "<seaborn.axisgrid.FacetGrid at 0x20c7bbfb7c0>"
      ]
     },
     "execution_count": 133,
     "metadata": {},
     "output_type": "execute_result"
    },
    {
     "data": {
      "image/png": "[encoded data removed]",
      "text/plain": [
       "<Figure size 360x360 with 1 Axes>"
      ]
     },
     "metadata": {
      "needs_background": "light"
     },
     "output_type": "display_data"
    }
   ],
   "source": [
    "sns.lmplot(data=df_canon_spec, x=\"pleiade\", y=\"lm\")"
   ]
  },
  {
   "cell_type": "code",
   "execution_count": 134,
   "metadata": {},
   "outputs": [
    {
     "data": {
      "text/plain": [
       "<AxesSubplot:xlabel='pleiade', ylabel='lm'>"
      ]
     },
     "execution_count": 134,
     "metadata": {},
     "output_type": "execute_result"
    },
    {
     "data": {
      "image/png": "[encoded data removed]",
      "text/plain": [
       "<Figure size 432x288 with 1 Axes>"
      ]
     },
     "metadata": {
      "needs_background": "light"
     },
     "output_type": "display_data"
    }
   ],
   "source": [
    "sns.regplot(data=df_canon_spec, x=\"pleiade\", y=\"lm\")"
   ]
  },
  {
   "cell_type": "code",
   "execution_count": 135,
   "metadata": {},
   "outputs": [
    {
     "data": {
      "text/plain": [
       "array([[1.        , 0.71634589],\n",
       "       [0.71634589, 1.        ]])"
      ]
     },
     "execution_count": 135,
     "metadata": {},
     "output_type": "execute_result"
    }
   ],
   "source": [
    "np.corrcoef(df_canon_spec['pleiade'], df_canon_spec['lm'])"
   ]
  },
  {
   "cell_type": "code",
   "execution_count": 136,
   "metadata": {},
   "outputs": [
    {
     "data": {
      "text/plain": [
       "(0.7163458882624895, 0.0)"
      ]
     },
     "execution_count": 136,
     "metadata": {},
     "output_type": "execute_result"
    }
   ],
   "source": [
    "pearsonr(df_canon_spec['pleiade'], df_canon_spec['lm'])"
   ]
  },
  {
   "cell_type": "code",
   "execution_count": null,
   "metadata": {},
   "outputs": [],
   "source": []
  },
  {
   "cell_type": "code",
   "execution_count": null,
   "metadata": {},
   "outputs": [],
   "source": []
  },
  {
   "cell_type": "code",
   "execution_count": 137,
   "metadata": {},
   "outputs": [
    {
     "data": {
      "text/plain": [
       "<AxesSubplot:xlabel='bac', ylabel='sup'>"
      ]
     },
     "execution_count": 137,
     "metadata": {},
     "output_type": "execute_result"
    },
    {
     "data": {
      "image/png": "[encoded data removed]",
      "text/plain": [
       "<Figure size 432x288 with 1 Axes>"
      ]
     },
     "metadata": {
      "needs_background": "light"
     },
     "output_type": "display_data"
    }
   ],
   "source": [
    "sns.regplot(data=df_canon_spec, x=\"bac\", y=\"sup\")"
   ]
  },
  {
   "cell_type": "code",
   "execution_count": 102,
   "metadata": {},
   "outputs": [
    {
     "data": {
      "text/plain": [
       "array([[1.        , 0.25882998],\n",
       "       [0.25882998, 1.        ]])"
      ]
     },
     "execution_count": 102,
     "metadata": {},
     "output_type": "execute_result"
    }
   ],
   "source": [
    "np.corrcoef(df_canon_spec['gf'], df_canon_spec['gouv'])"
   ]
  },
  {
   "cell_type": "code",
   "execution_count": null,
   "metadata": {},
   "outputs": [],
   "source": []
  }
 ],
 "metadata": {
  "kernelspec": {
   "display_name": "Python 3",
   "language": "python",
   "name": "python3"
  },
  "language_info": {
   "codemirror_mode": {
    "name": "ipython",
    "version": 3
   },
   "file_extension": ".py",
   "mimetype": "text/x-python",
   "name": "python",
   "nbconvert_exporter": "python",
   "pygments_lexer": "ipython3",
   "version": "3.8.3"
  }
 },
 "nbformat": 4,
 "nbformat_minor": 4
}
