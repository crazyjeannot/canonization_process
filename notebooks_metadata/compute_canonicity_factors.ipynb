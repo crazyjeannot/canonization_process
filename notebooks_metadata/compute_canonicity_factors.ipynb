{
 "cells": [
  {
   "cell_type": "code",
   "execution_count": 262,
   "metadata": {},
   "outputs": [],
   "source": [
    "import re\n",
    "import numpy as np\n",
    "import pandas as pd\n",
    "from os import path\n",
    "from collections import Counter\n",
    "from glob import glob\n",
    "from lxml import etree\n",
    "from tqdm import tqdm\n",
    "import seaborn as sns\n",
    "from scipy.stats import pearsonr\n",
    "from sklearn.feature_extraction.text import CountVectorizer\n",
    "from sklearn.metrics.pairwise import cosine_similarity\n",
    "from nltk.corpus import stopwords\n",
    "import string\n",
    "import spacy"
   ]
  },
  {
   "cell_type": "code",
   "execution_count": 284,
   "metadata": {},
   "outputs": [],
   "source": [
    "df_corpus = pd.read_csv(r'../meta_data/corpus.csv')\n",
    "#df_meta_data = pd.read_csv(r'../meta_data/meta_data_canons.csv')\n",
    "df_meta_data = pd.read_csv(r'../meta_data/meta_data_last_version.csv')\n",
    "df_corpus_canon = pd.read_csv(r'../meta_data/corpus_canons.csv')"
   ]
  },
  {
   "cell_type": "markdown",
   "metadata": {},
   "source": [
    "#### Get list doc name & gender & auteur_canon from metadata/corpus.csv"
   ]
  },
  {
   "cell_type": "code",
   "execution_count": 285,
   "metadata": {},
   "outputs": [],
   "source": [
    "list_doc_name = df_corpus.doc_name\n",
    "list_auteur = df_corpus.auteur\n",
    "list_titre = df_corpus.titre\n",
    "list_date = df_corpus.date\n",
    "list_gender = df_corpus.gender\n",
    "list_auteur_canon = df_corpus.canon"
   ]
  },
  {
   "cell_type": "markdown",
   "metadata": {},
   "source": [
    "#### Get list roman_canon from metadata/corpus_canon.csv"
   ]
  },
  {
   "cell_type": "code",
   "execution_count": 286,
   "metadata": {},
   "outputs": [],
   "source": [
    "list_roman_canon = df_corpus_canon.canon"
   ]
  },
  {
   "cell_type": "markdown",
   "metadata": {},
   "source": [
    "#### Get lists presence in canon ? 0, 1 from metadata/meta_data_canons.csv"
   ]
  },
  {
   "cell_type": "code",
   "execution_count": 287,
   "metadata": {},
   "outputs": [],
   "source": [
    "def get_list_presence_roman(list_titre, df_meta_data, feature_wanted):\n",
    "    list_feature_wanted = []\n",
    "    for elem in list_titre:\n",
    "        if feature_wanted not in list(df_meta_data.columns):\n",
    "            print('feature_wanted do not exist')\n",
    "            return\n",
    "        else :\n",
    "            if elem in list(df_meta_data[feature_wanted]):\n",
    "                list_feature_wanted.append(1)                \n",
    "            else:\n",
    "                list_feature_wanted.append(0)\n",
    "    return list_feature_wanted"
   ]
  },
  {
   "cell_type": "code",
   "execution_count": 288,
   "metadata": {},
   "outputs": [],
   "source": [
    "list_bac = get_list_presence_roman(list_titre, df_meta_data, 'bac')\n",
    "list_brevet = get_list_presence_roman(list_titre, df_meta_data, 'brevet')\n",
    "list_lm = get_list_presence_roman(list_auteur, df_meta_data, 'lm')\n",
    "list_sup = get_list_presence_roman(list_titre, df_meta_data, 'sup')\n",
    "list_prix = get_list_presence_roman(list_titre, df_meta_data, 'prix')\n",
    "list_gf = get_list_presence_roman(list_titre, df_meta_data, 'gf')\n",
    "list_pleiade = get_list_presence_roman(list_auteur, df_meta_data, 'pleiade')\n",
    "list_gouv = get_list_presence_roman(list_titre, df_meta_data, 'gouv')"
   ]
  },
  {
   "cell_type": "code",
   "execution_count": 289,
   "metadata": {},
   "outputs": [],
   "source": [
    "zipped = list(zip(list_doc_name, list_date, list_auteur, list_titre, list_roman_canon, list_auteur_canon, list_gender, list_bac, list_brevet, list_lm, list_sup, list_prix, list_gf, list_pleiade, list_gouv))"
   ]
  },
  {
   "cell_type": "code",
   "execution_count": 290,
   "metadata": {},
   "outputs": [],
   "source": [
    "df_canon_spec = pd.DataFrame(zipped, columns=[\"doc_name\", \"date\", \"auteur\", \"titre\", \"canon_roman\", \"canon_auteur\", \"gender\", \"bac\", \"brevet\", \"lm\", 'sup', 'prix', 'gf', 'pleiade', 'gouv'])"
   ]
  },
  {
   "cell_type": "code",
   "execution_count": 291,
   "metadata": {},
   "outputs": [],
   "source": [
    "df_canon_spec.to_csv(r'../meta_data/df_canon_spec_last.csv')"
   ]
  },
  {
   "cell_type": "code",
   "execution_count": null,
   "metadata": {},
   "outputs": [],
   "source": []
  },
  {
   "cell_type": "code",
   "execution_count": null,
   "metadata": {},
   "outputs": [],
   "source": []
  },
  {
   "cell_type": "code",
   "execution_count": 292,
   "metadata": {},
   "outputs": [],
   "source": [
    "df_canon_NOVEL_SCALE = df_canon_spec[(df_canon_spec['bac']==1) | (df_canon_spec['brevet']==1) | (df_canon_spec['sup']==1) | (df_canon_spec['prix']==1) | (df_canon_spec['gf']==1) | (df_canon_spec['gouv']==1)]"
   ]
  },
  {
   "cell_type": "code",
   "execution_count": 293,
   "metadata": {},
   "outputs": [],
   "source": [
    "df_canon_NOVEL_SCALE.to_csv(r'../meta_data/df_canon_NOVEL_SCALE.csv')"
   ]
  },
  {
   "cell_type": "code",
   "execution_count": 294,
   "metadata": {},
   "outputs": [
    {
     "data": {
      "text/plain": [
       "300"
      ]
     },
     "execution_count": 294,
     "metadata": {},
     "output_type": "execute_result"
    }
   ],
   "source": [
    "len(df_canon_NOVEL_SCALE)"
   ]
  },
  {
   "cell_type": "code",
   "execution_count": null,
   "metadata": {},
   "outputs": [],
   "source": []
  },
  {
   "cell_type": "code",
   "execution_count": 223,
   "metadata": {},
   "outputs": [],
   "source": [
    "df_canon_AUTEUR_SCALE = df_canon_spec[(df_canon_spec['lm']==1) | (df_canon_spec['pleiade']==1) | (df_canon_spec['canon_auteur']==True)]"
   ]
  },
  {
   "cell_type": "code",
   "execution_count": 224,
   "metadata": {},
   "outputs": [],
   "source": [
    "df_canon_AUTEUR_SCALE.to_csv(r'../meta_data/df_canon_AUTEUR_SCALE.csv')"
   ]
  },
  {
   "cell_type": "code",
   "execution_count": 225,
   "metadata": {},
   "outputs": [
    {
     "data": {
      "text/plain": [
       "747"
      ]
     },
     "execution_count": 225,
     "metadata": {},
     "output_type": "execute_result"
    }
   ],
   "source": [
    "len(df_canon_AUTEUR_SCALE)"
   ]
  },
  {
   "cell_type": "code",
   "execution_count": null,
   "metadata": {},
   "outputs": [],
   "source": []
  },
  {
   "cell_type": "code",
   "execution_count": null,
   "metadata": {},
   "outputs": [],
   "source": []
  },
  {
   "cell_type": "code",
   "execution_count": null,
   "metadata": {},
   "outputs": [],
   "source": [
    "    "
   ]
  },
  {
   "cell_type": "code",
   "execution_count": null,
   "metadata": {},
   "outputs": [],
   "source": []
  },
  {
   "cell_type": "code",
   "execution_count": 226,
   "metadata": {},
   "outputs": [
    {
     "data": {
      "text/plain": [
       "97"
      ]
     },
     "execution_count": 226,
     "metadata": {},
     "output_type": "execute_result"
    }
   ],
   "source": [
    "df_canon_spec.bac.value_counts()[1]"
   ]
  },
  {
   "cell_type": "code",
   "execution_count": 227,
   "metadata": {},
   "outputs": [
    {
     "data": {
      "text/plain": [
       "51"
      ]
     },
     "execution_count": 227,
     "metadata": {},
     "output_type": "execute_result"
    }
   ],
   "source": [
    "df_canon_spec.brevet.value_counts()[1]"
   ]
  },
  {
   "cell_type": "code",
   "execution_count": 228,
   "metadata": {},
   "outputs": [
    {
     "data": {
      "text/plain": [
       "39"
      ]
     },
     "execution_count": 228,
     "metadata": {},
     "output_type": "execute_result"
    }
   ],
   "source": [
    "df_canon_spec.sup.value_counts()[1]"
   ]
  },
  {
   "cell_type": "code",
   "execution_count": 229,
   "metadata": {},
   "outputs": [
    {
     "data": {
      "text/plain": [
       "90"
      ]
     },
     "execution_count": 229,
     "metadata": {},
     "output_type": "execute_result"
    }
   ],
   "source": [
    "df_canon_spec.prix.value_counts()[1]"
   ]
  },
  {
   "cell_type": "code",
   "execution_count": 230,
   "metadata": {},
   "outputs": [
    {
     "data": {
      "text/plain": [
       "44"
      ]
     },
     "execution_count": 230,
     "metadata": {},
     "output_type": "execute_result"
    }
   ],
   "source": [
    "df_canon_spec.gouv.value_counts()[1]"
   ]
  },
  {
   "cell_type": "code",
   "execution_count": 231,
   "metadata": {},
   "outputs": [
    {
     "data": {
      "text/plain": [
       "112"
      ]
     },
     "execution_count": 231,
     "metadata": {},
     "output_type": "execute_result"
    }
   ],
   "source": [
    "df_canon_spec.gf.value_counts()[1]"
   ]
  },
  {
   "cell_type": "code",
   "execution_count": 178,
   "metadata": {},
   "outputs": [],
   "source": [
    "def prep_list_graph(df_canon_spec, list_factors):\n",
    "    list_res_factors = []\n",
    "    for col in df_canon_spec.columns:\n",
    "        if col in list_factors:\n",
    "            list_res_factors.append(df_canon_spec[col].value_counts()[1])\n",
    "    return list_res_factors"
   ]
  },
  {
   "cell_type": "code",
   "execution_count": 232,
   "metadata": {},
   "outputs": [],
   "source": [
    "list_factors = [\"bac\", \"brevet\", 'sup', 'prix', 'gf', 'gouv']"
   ]
  },
  {
   "cell_type": "code",
   "execution_count": 233,
   "metadata": {},
   "outputs": [],
   "source": [
    "list_res_factors = prep_list_graph(df_canon_spec, list_factors)"
   ]
  },
  {
   "cell_type": "code",
   "execution_count": 234,
   "metadata": {},
   "outputs": [
    {
     "name": "stderr",
     "output_type": "stream",
     "text": [
      "/home/crazyjeannot/anaconda3/lib/python3.9/site-packages/seaborn/_decorators.py:36: FutureWarning: Pass the following variables as keyword args: x, y. From version 0.12, the only valid positional argument will be `data`, and passing other arguments without an explicit keyword will result in an error or misinterpretation.\n",
      "  warnings.warn(\n"
     ]
    },
    {
     "data": {
      "image/png": "[encoded data removed]",
      "text/plain": [
       "<Figure size 432x288 with 1 Axes>"
      ]
     },
     "metadata": {
      "needs_background": "light"
     },
     "output_type": "display_data"
    }
   ],
   "source": [
    "ax = sns.barplot(list_factors, list_res_factors, color = 'red')"
   ]
  },
  {
   "cell_type": "code",
   "execution_count": 235,
   "metadata": {},
   "outputs": [
    {
     "data": {
      "text/plain": [
       "634"
      ]
     },
     "execution_count": 235,
     "metadata": {},
     "output_type": "execute_result"
    }
   ],
   "source": [
    "df_canon_spec.pleiade.value_counts()[1]"
   ]
  },
  {
   "cell_type": "code",
   "execution_count": 236,
   "metadata": {},
   "outputs": [
    {
     "data": {
      "text/plain": [
       "555"
      ]
     },
     "execution_count": 236,
     "metadata": {},
     "output_type": "execute_result"
    }
   ],
   "source": [
    "df_canon_spec.lm.value_counts()[1]"
   ]
  },
  {
   "cell_type": "code",
   "execution_count": 237,
   "metadata": {},
   "outputs": [
    {
     "data": {
      "text/plain": [
       "259"
      ]
     },
     "execution_count": 237,
     "metadata": {},
     "output_type": "execute_result"
    }
   ],
   "source": [
    "len(df_meta_data['sup'].dropna())"
   ]
  },
  {
   "cell_type": "code",
   "execution_count": null,
   "metadata": {},
   "outputs": [],
   "source": []
  },
  {
   "cell_type": "markdown",
   "metadata": {},
   "source": [
    "### TABLEAU len(liste) & len(canon_liste)"
   ]
  },
  {
   "cell_type": "code",
   "execution_count": 203,
   "metadata": {},
   "outputs": [],
   "source": [
    "str_join = ' '\n",
    "list_res = []\n",
    "for elem in liste_canon_2:\n",
    "    temp = elem.split('-')\n",
    "    list_res.append(str_join.join(temp).lower())"
   ]
  },
  {
   "cell_type": "code",
   "execution_count": 204,
   "metadata": {},
   "outputs": [
    {
     "data": {
      "text/plain": [
       "['oeuvres completes',\n",
       " 'adolphe',\n",
       " 'le solitaire',\n",
       " 'le dernier jour d un condamne',\n",
       " 'le rouge et le noir',\n",
       " 'notre dame de paris',\n",
       " 'notre dame de paris',\n",
       " 'stello',\n",
       " 'volupte',\n",
       " 'claude gueux',\n",
       " 'volupte',\n",
       " 'mademoiselle de maupin',\n",
       " 'la confession d un enfant du siecle',\n",
       " 'la chartreuse de parme',\n",
       " 'pauline',\n",
       " 'la femme de trente ans',\n",
       " 'beatrix',\n",
       " 'le contrat de mariage',\n",
       " 'le corricolo',\n",
       " 'le cure de tours',\n",
       " 'le pere goriot',\n",
       " 'illusions perdues',\n",
       " 'pierrette',\n",
       " 'eugenie grandet',\n",
       " 'le colonel chabert',\n",
       " 'splendeurs et miseres des courtisanes',\n",
       " 'vie de rance',\n",
       " 'le lys dans la vallee',\n",
       " 'les trois mousquetaires',\n",
       " 'le comte de monte cristo',\n",
       " 'un debut dans la vie',\n",
       " 'adieu',\n",
       " 'vingt ans apres',\n",
       " 'la reine margot',\n",
       " 'la mare au diable',\n",
       " 'physiologie du mariage',\n",
       " 'isabelle',\n",
       " 'louis lambert',\n",
       " 'une tenebreuse affaire',\n",
       " 'le cure de village',\n",
       " 'la dame de monsoreau',\n",
       " 'le medecin de campagne',\n",
       " 'la dame aux camelias',\n",
       " 'memoires d outre tombe',\n",
       " 'memoires d outre tombe',\n",
       " 'memoires d outre tombe',\n",
       " 'la petite fadette',\n",
       " 'memoires d outre tombe',\n",
       " 'memoires d outre tombe',\n",
       " 'le vicomte de bragelonne',\n",
       " 'l ensorcelee',\n",
       " 'les paysans',\n",
       " 'chroniques italiennes',\n",
       " 'le bossu',\n",
       " 'madame bovary',\n",
       " 'les malheurs de sophie',\n",
       " 'contes fantastiques',\n",
       " 'charles demailly',\n",
       " 'les miserables',\n",
       " 'cinq semaines en ballon',\n",
       " 'dominique',\n",
       " 'la jalousie',\n",
       " 'le capitaine fracasse',\n",
       " 'voyage au centre de la terre',\n",
       " 'le chevalier des touches',\n",
       " 'germinie lacerteux',\n",
       " 'renee mauperin',\n",
       " 'les travailleurs de la mer',\n",
       " 'therese raquin',\n",
       " \"l'homme qui rit\",\n",
       " 'les chants de maldoror',\n",
       " 'scenes de la vie de boheme',\n",
       " 'la fortune des rougon',\n",
       " 'vingt mille lieues sous les mers',\n",
       " 'la curee',\n",
       " 'le ventre de paris',\n",
       " 'contes du lundi',\n",
       " 'la tentation de saint antoine',\n",
       " 'quatrevingt treize',\n",
       " 'les diaboliques',\n",
       " 'jack',\n",
       " 'la faute de l abbe mouret',\n",
       " 'son excellence eugene rougon',\n",
       " 'horace',\n",
       " 'la fille elisa',\n",
       " 'un capitaine de quinze ans',\n",
       " 'madeleine ferat',\n",
       " 'les soeurs vatard',\n",
       " 'lettres de mon moulin',\n",
       " 'nana',\n",
       " 'le bachelier',\n",
       " 'l enfant',\n",
       " 'bouvard et pecuchet',\n",
       " 'mademoiselle fifi',\n",
       " 'au bonheur des dames',\n",
       " 'une vie',\n",
       " 'la joie de vivre',\n",
       " 'clair de lune',\n",
       " 'sapho',\n",
       " 'a rebours',\n",
       " 'au soleil',\n",
       " 'germinal',\n",
       " 'mathias sandorf',\n",
       " 'bel ami',\n",
       " 'contes du jour et de la nuit',\n",
       " 'memoires',\n",
       " 'la terre',\n",
       " 'le desespere',\n",
       " 'mont oriol',\n",
       " 'madame chrysantheme',\n",
       " 'le reve',\n",
       " 'pierre et jean',\n",
       " 'la main gauche',\n",
       " 'notre coeur',\n",
       " 'la bete humaine',\n",
       " 'l argent',\n",
       " 'la debacle',\n",
       " 'bruges la morte',\n",
       " 'le docteur pascal',\n",
       " 'mes prisons',\n",
       " 'coquecigrues',\n",
       " 'une femme',\n",
       " 'poil de carotte',\n",
       " 'lucien leuwen',\n",
       " 'contes',\n",
       " 'vies imaginaires',\n",
       " 'le journal d une femme de chambre',\n",
       " 'jean christophe',\n",
       " 'jean christophe',\n",
       " 'jean christophe',\n",
       " 'jean christophe',\n",
       " 'les civilises',\n",
       " 'terres lorraines',\n",
       " 'jean christophe',\n",
       " 'l enfer',\n",
       " 'jean christophe',\n",
       " 'jean christophe',\n",
       " 'la bataille',\n",
       " 'marie claire',\n",
       " 'jean christophe',\n",
       " 'jean christophe',\n",
       " 'la guerre des boutons',\n",
       " 'jean christophe',\n",
       " 'la maison',\n",
       " 'le grand meaulnes',\n",
       " 'les caves du vatican',\n",
       " 'le feu',\n",
       " 'l atlantide',\n",
       " 'les aventures de telemaque',\n",
       " 'le bossu',\n",
       " 'le diable au corps',\n",
       " 'la briere',\n",
       " 'raboliot',\n",
       " 'albertine disparue',\n",
       " 'sous le soleil de satan',\n",
       " 'la fin de cheri',\n",
       " 'les captifs',\n",
       " 'le ble en herbe',\n",
       " 'les faux monnayeurs',\n",
       " 'la naissance du jour',\n",
       " 'la joie',\n",
       " 'regain',\n",
       " 'la voie royale',\n",
       " 'sido',\n",
       " 'vol de nuit',\n",
       " 'voyage au bout de la nuit',\n",
       " 'le notaire du havre',\n",
       " 'la condition humaine',\n",
       " 'capitaine conan',\n",
       " 'les vrilles de la vigne',\n",
       " 'contes',\n",
       " 'les beaux quartiers',\n",
       " 'les vraies richesses',\n",
       " 'la conspiration',\n",
       " 'terre des hommes',\n",
       " 'tropismes',\n",
       " 'l age d homme',\n",
       " 'l etranger',\n",
       " 'le premier homme',\n",
       " 'la peste',\n",
       " 'un barrage contre le pacifique',\n",
       " 'le rivage des syrtes',\n",
       " 'le hussard sur le toit',\n",
       " 'molloy',\n",
       " 'les gommes',\n",
       " 'le livre de ma mere',\n",
       " 'les mandarins',\n",
       " 'les mandarins',\n",
       " 'les racines du ciel',\n",
       " 'le lion',\n",
       " 'zazie dans le metro',\n",
       " 'le temps des secrets',\n",
       " 'la promesse de l aube',\n",
       " 'la route des flandres',\n",
       " 'les choses',\n",
       " 'vendredi ou les limbes du pacifique',\n",
       " 'histoire',\n",
       " 'l oeuvre au noir',\n",
       " 'la prisonniere',\n",
       " 'un adolescent d autrefois',\n",
       " 'creezy',\n",
       " 'les poneys sauvages',\n",
       " 'le roi des aulnes',\n",
       " 'les betises',\n",
       " 'vendredi ou la vie sauvage',\n",
       " 'aurelien',\n",
       " 'les boulevards de ceinture',\n",
       " 'un taxi mauve',\n",
       " 'le solitaire',\n",
       " 'la dentelliere',\n",
       " 'souvenirs pieux',\n",
       " 'les mots pour le dire',\n",
       " 'la vie devant soi',\n",
       " 'livret de famille',\n",
       " 'rue des boutiques obscures',\n",
       " 'la vie mode d emploi',\n",
       " 'desert',\n",
       " 'enfance',\n",
       " 'la place',\n",
       " 'cherokee',\n",
       " 'l amant',\n",
       " 'l exposition coloniale',\n",
       " 'tous les matins du monde',\n",
       " 'rimbaud le fils',\n",
       " 'les filles du calvaire',\n",
       " 'le premier homme',\n",
       " 'port soudan',\n",
       " 'la classe de neige',\n",
       " 'l organisation',\n",
       " 'confidence pour confidence',\n",
       " 'la chambre des officiers',\n",
       " 'cannibale',\n",
       " 'des anges mineurs',\n",
       " 'je m en vais',\n",
       " 'la reprise',\n",
       " 'cris',\n",
       " 'un soir au club',\n",
       " 'rouge bresil',\n",
       " 'la mort du roi tsongor',\n",
       " 'windows on the world',\n",
       " 'un secret',\n",
       " 'magnus',\n",
       " 'mes mauvaises pensees',\n",
       " 'la reine du silence',\n",
       " 'no et moi',\n",
       " 'le rapport de brodeck',\n",
       " 'zone',\n",
       " 'le boulevard peripherique',\n",
       " 'un brillant avenir',\n",
       " 'la verite sur marie',\n",
       " 'les heures souterraines',\n",
       " 'les onze',\n",
       " 'trois femmes puissantes',\n",
       " 'naissance d un pont',\n",
       " 'la carte et le territoire',\n",
       " 'les oeuvres de misericorde',\n",
       " 'peste et cholera',\n",
       " 'sombre dimanche',\n",
       " 'cherchez la femme',\n",
       " 'il faut beaucoup aimer les hommes',\n",
       " 'reparer les vivants']"
      ]
     },
     "execution_count": 204,
     "metadata": {},
     "output_type": "execute_result"
    }
   ],
   "source": [
    "list_res"
   ]
  },
  {
   "cell_type": "code",
   "execution_count": 276,
   "metadata": {
    "scrolled": false
   },
   "outputs": [],
   "source": [
    "list_canon_1 = list(df_canon_NOVEL_SCALE.titre)"
   ]
  },
  {
   "cell_type": "code",
   "execution_count": 277,
   "metadata": {},
   "outputs": [
    {
     "data": {
      "text/plain": [
       "299"
      ]
     },
     "execution_count": 277,
     "metadata": {},
     "output_type": "execute_result"
    }
   ],
   "source": [
    "len(list_canon_1)"
   ]
  },
  {
   "cell_type": "code",
   "execution_count": 278,
   "metadata": {},
   "outputs": [
    {
     "data": {
      "text/plain": [
       "261"
      ]
     },
     "execution_count": 278,
     "metadata": {},
     "output_type": "execute_result"
    }
   ],
   "source": [
    "len(liste_canon_2)"
   ]
  },
  {
   "cell_type": "code",
   "execution_count": 279,
   "metadata": {},
   "outputs": [],
   "source": [
    "canon1 = [x for x in list_canon_1 if x not in list_res]"
   ]
  },
  {
   "cell_type": "code",
   "execution_count": 280,
   "metadata": {},
   "outputs": [
    {
     "data": {
      "text/plain": [
       "42"
      ]
     },
     "execution_count": 280,
     "metadata": {},
     "output_type": "execute_result"
    }
   ],
   "source": [
    "len(canon1)"
   ]
  },
  {
   "cell_type": "code",
   "execution_count": 281,
   "metadata": {},
   "outputs": [],
   "source": [
    "canon2 = [x for x in list_res if x not in list_canon_1]"
   ]
  },
  {
   "cell_type": "code",
   "execution_count": 282,
   "metadata": {},
   "outputs": [
    {
     "data": {
      "text/plain": [
       "4"
      ]
     },
     "execution_count": 282,
     "metadata": {},
     "output_type": "execute_result"
    }
   ],
   "source": [
    "len(canon2)"
   ]
  },
  {
   "cell_type": "code",
   "execution_count": 283,
   "metadata": {},
   "outputs": [
    {
     "data": {
      "text/plain": [
       "['le corricolo', \"l'homme qui rit\", 'clair de lune', 'la maison']"
      ]
     },
     "execution_count": 283,
     "metadata": {},
     "output_type": "execute_result"
    }
   ],
   "source": [
    "canon2"
   ]
  },
  {
   "cell_type": "code",
   "execution_count": null,
   "metadata": {},
   "outputs": [],
   "source": []
  },
  {
   "cell_type": "code",
   "execution_count": 31,
   "metadata": {},
   "outputs": [
    {
     "data": {
      "text/plain": [
       "714"
      ]
     },
     "execution_count": 31,
     "metadata": {},
     "output_type": "execute_result"
    }
   ],
   "source": [
    "len(set(list(df_canon_spec.auteur)))"
   ]
  },
  {
   "cell_type": "code",
   "execution_count": 32,
   "metadata": {},
   "outputs": [
    {
     "data": {
      "text/plain": [
       "4.170422535211268"
      ]
     },
     "execution_count": 32,
     "metadata": {},
     "output_type": "execute_result"
    }
   ],
   "source": [
    "2961/710"
   ]
  },
  {
   "cell_type": "code",
   "execution_count": null,
   "metadata": {},
   "outputs": [],
   "source": []
  },
  {
   "cell_type": "code",
   "execution_count": null,
   "metadata": {},
   "outputs": [],
   "source": [
    "len(set(list(df_canon_female.auteur)))"
   ]
  },
  {
   "cell_type": "code",
   "execution_count": null,
   "metadata": {},
   "outputs": [],
   "source": [
    "len(df_canon_female)/len(set(list(df_canon_female.auteur)))"
   ]
  },
  {
   "cell_type": "code",
   "execution_count": null,
   "metadata": {},
   "outputs": [],
   "source": []
  },
  {
   "cell_type": "code",
   "execution_count": 70,
   "metadata": {},
   "outputs": [],
   "source": []
  },
  {
   "cell_type": "code",
   "execution_count": 249,
   "metadata": {},
   "outputs": [
    {
     "data": {
      "text/plain": [
       "<AxesSubplot:xlabel='pleiade', ylabel='lm'>"
      ]
     },
     "execution_count": 249,
     "metadata": {},
     "output_type": "execute_result"
    },
    {
     "data": {
      "image/png": "[encoded data removed]",
      "text/plain": [
       "<Figure size 432x288 with 1 Axes>"
      ]
     },
     "metadata": {
      "needs_background": "light"
     },
     "output_type": "display_data"
    }
   ],
   "source": [
    "sns.regplot(data=df_canon_spec, x=\"pleiade\", y=\"lm\")"
   ]
  },
  {
   "cell_type": "code",
   "execution_count": 250,
   "metadata": {},
   "outputs": [
    {
     "data": {
      "text/plain": [
       "array([[1.        , 0.71634589],\n",
       "       [0.71634589, 1.        ]])"
      ]
     },
     "execution_count": 250,
     "metadata": {},
     "output_type": "execute_result"
    }
   ],
   "source": [
    "np.corrcoef(df_canon_spec['pleiade'], df_canon_spec['lm'])"
   ]
  },
  {
   "cell_type": "code",
   "execution_count": 251,
   "metadata": {},
   "outputs": [
    {
     "data": {
      "text/plain": [
       "(0.7163458882624895, 0.0)"
      ]
     },
     "execution_count": 251,
     "metadata": {},
     "output_type": "execute_result"
    }
   ],
   "source": [
    "pearsonr(df_canon_spec['pleiade'], df_canon_spec['lm'])"
   ]
  },
  {
   "cell_type": "code",
   "execution_count": null,
   "metadata": {},
   "outputs": [],
   "source": []
  },
  {
   "cell_type": "code",
   "execution_count": 252,
   "metadata": {},
   "outputs": [
    {
     "data": {
      "text/plain": [
       "<AxesSubplot:xlabel='gf', ylabel='bac'>"
      ]
     },
     "execution_count": 252,
     "metadata": {},
     "output_type": "execute_result"
    },
    {
     "data": {
      "image/png": "[encoded data removed]",
      "text/plain": [
       "<Figure size 432x288 with 1 Axes>"
      ]
     },
     "metadata": {
      "needs_background": "light"
     },
     "output_type": "display_data"
    }
   ],
   "source": [
    "sns.regplot(data=df_canon_spec, x=\"gf\", y=\"bac\")"
   ]
  },
  {
   "cell_type": "code",
   "execution_count": null,
   "metadata": {},
   "outputs": [],
   "source": []
  },
  {
   "cell_type": "code",
   "execution_count": null,
   "metadata": {},
   "outputs": [],
   "source": []
  },
  {
   "cell_type": "code",
   "execution_count": 253,
   "metadata": {},
   "outputs": [
    {
     "data": {
      "text/plain": [
       "<AxesSubplot:xlabel='brevet', ylabel='sup'>"
      ]
     },
     "execution_count": 253,
     "metadata": {},
     "output_type": "execute_result"
    },
    {
     "data": {
      "image/png": "[encoded data removed]",
      "text/plain": [
       "<Figure size 432x288 with 1 Axes>"
      ]
     },
     "metadata": {
      "needs_background": "light"
     },
     "output_type": "display_data"
    }
   ],
   "source": [
    "sns.regplot(data=df_canon_spec, x=\"brevet\", y=\"sup\")"
   ]
  },
  {
   "cell_type": "code",
   "execution_count": 254,
   "metadata": {},
   "outputs": [
    {
     "data": {
      "text/plain": [
       "array([[1.        , 0.35565507],\n",
       "       [0.35565507, 1.        ]])"
      ]
     },
     "execution_count": 254,
     "metadata": {},
     "output_type": "execute_result"
    }
   ],
   "source": [
    "np.corrcoef(df_canon_spec['gf'], df_canon_spec['gouv'])"
   ]
  },
  {
   "cell_type": "code",
   "execution_count": null,
   "metadata": {},
   "outputs": [],
   "source": []
  },
  {
   "cell_type": "markdown",
   "metadata": {},
   "source": [
    "### Compute Cosine similarity between lists "
   ]
  },
  {
   "cell_type": "markdown",
   "metadata": {},
   "source": [
    "### Get dataframe with only canonical stuff"
   ]
  },
  {
   "cell_type": "code",
   "execution_count": 85,
   "metadata": {},
   "outputs": [
    {
     "data": {
      "text/html": [
       "<div>\n",
       "<style scoped>\n",
       "    .dataframe tbody tr th:only-of-type {\n",
       "        vertical-align: middle;\n",
       "    }\n",
       "\n",
       "    .dataframe tbody tr th {\n",
       "        vertical-align: top;\n",
       "    }\n",
       "\n",
       "    .dataframe thead th {\n",
       "        text-align: right;\n",
       "    }\n",
       "</style>\n",
       "<table border=\"1\" class=\"dataframe\">\n",
       "  <thead>\n",
       "    <tr style=\"text-align: right;\">\n",
       "      <th></th>\n",
       "      <th>doc_name</th>\n",
       "      <th>date</th>\n",
       "      <th>auteur</th>\n",
       "      <th>titre</th>\n",
       "      <th>canon_roman</th>\n",
       "      <th>canon_auteur</th>\n",
       "      <th>gender</th>\n",
       "      <th>bac</th>\n",
       "      <th>brevet</th>\n",
       "      <th>lm</th>\n",
       "      <th>sup</th>\n",
       "      <th>prix</th>\n",
       "      <th>gf</th>\n",
       "      <th>pleiade</th>\n",
       "      <th>gouv</th>\n",
       "    </tr>\n",
       "  </thead>\n",
       "  <tbody>\n",
       "    <tr>\n",
       "      <th>0</th>\n",
       "      <td>1811_Chateaubriand-François-Rene-de_Oeuvres-co...</td>\n",
       "      <td>1811</td>\n",
       "      <td>françois rene de chateaubriand</td>\n",
       "      <td>oeuvres completes</td>\n",
       "      <td>canon</td>\n",
       "      <td>canon</td>\n",
       "      <td>male</td>\n",
       "      <td>1</td>\n",
       "      <td>0</td>\n",
       "      <td>1</td>\n",
       "      <td>0</td>\n",
       "      <td>0</td>\n",
       "      <td>0</td>\n",
       "      <td>1</td>\n",
       "      <td>0</td>\n",
       "    </tr>\n",
       "    <tr>\n",
       "      <th>5</th>\n",
       "      <td>1816_Constant-Benjamin_Adolphe</td>\n",
       "      <td>1816</td>\n",
       "      <td>benjamin constant</td>\n",
       "      <td>adolphe</td>\n",
       "      <td>non_canon</td>\n",
       "      <td>canon</td>\n",
       "      <td>male</td>\n",
       "      <td>0</td>\n",
       "      <td>0</td>\n",
       "      <td>1</td>\n",
       "      <td>0</td>\n",
       "      <td>0</td>\n",
       "      <td>1</td>\n",
       "      <td>1</td>\n",
       "      <td>0</td>\n",
       "    </tr>\n",
       "    <tr>\n",
       "      <th>17</th>\n",
       "      <td>1821_Arlincourt-Charles-Victor_Le-Solitaire</td>\n",
       "      <td>1821</td>\n",
       "      <td>charles victor arlincourt</td>\n",
       "      <td>le solitaire</td>\n",
       "      <td>canon</td>\n",
       "      <td>non-canon</td>\n",
       "      <td>male</td>\n",
       "      <td>0</td>\n",
       "      <td>0</td>\n",
       "      <td>0</td>\n",
       "      <td>0</td>\n",
       "      <td>1</td>\n",
       "      <td>0</td>\n",
       "      <td>0</td>\n",
       "      <td>0</td>\n",
       "    </tr>\n",
       "    <tr>\n",
       "      <th>42</th>\n",
       "      <td>1829_Hugo-Victor_Le-dernier-jour-d-un-condamne</td>\n",
       "      <td>1829</td>\n",
       "      <td>victor hugo</td>\n",
       "      <td>le dernier jour d un condamne</td>\n",
       "      <td>non_canon</td>\n",
       "      <td>canon</td>\n",
       "      <td>male</td>\n",
       "      <td>0</td>\n",
       "      <td>0</td>\n",
       "      <td>1</td>\n",
       "      <td>0</td>\n",
       "      <td>0</td>\n",
       "      <td>1</td>\n",
       "      <td>1</td>\n",
       "      <td>0</td>\n",
       "    </tr>\n",
       "    <tr>\n",
       "      <th>48</th>\n",
       "      <td>1830_Stendhal_Le-Rouge-et-le-noir</td>\n",
       "      <td>1830</td>\n",
       "      <td>stendhal</td>\n",
       "      <td>le rouge et le noir</td>\n",
       "      <td>non_canon</td>\n",
       "      <td>canon</td>\n",
       "      <td>male</td>\n",
       "      <td>1</td>\n",
       "      <td>0</td>\n",
       "      <td>1</td>\n",
       "      <td>1</td>\n",
       "      <td>0</td>\n",
       "      <td>0</td>\n",
       "      <td>1</td>\n",
       "      <td>0</td>\n",
       "    </tr>\n",
       "    <tr>\n",
       "      <th>...</th>\n",
       "      <td>...</td>\n",
       "      <td>...</td>\n",
       "      <td>...</td>\n",
       "      <td>...</td>\n",
       "      <td>...</td>\n",
       "      <td>...</td>\n",
       "      <td>...</td>\n",
       "      <td>...</td>\n",
       "      <td>...</td>\n",
       "      <td>...</td>\n",
       "      <td>...</td>\n",
       "      <td>...</td>\n",
       "      <td>...</td>\n",
       "      <td>...</td>\n",
       "      <td>...</td>\n",
       "    </tr>\n",
       "    <tr>\n",
       "      <th>2875</th>\n",
       "      <td>2012_Deville-Patrick_Peste-et-cholera</td>\n",
       "      <td>2012</td>\n",
       "      <td>patrick deville</td>\n",
       "      <td>peste et cholera</td>\n",
       "      <td>canon</td>\n",
       "      <td>non-canon</td>\n",
       "      <td>male</td>\n",
       "      <td>0</td>\n",
       "      <td>0</td>\n",
       "      <td>0</td>\n",
       "      <td>0</td>\n",
       "      <td>1</td>\n",
       "      <td>0</td>\n",
       "      <td>0</td>\n",
       "      <td>0</td>\n",
       "    </tr>\n",
       "    <tr>\n",
       "      <th>2891</th>\n",
       "      <td>2013_Zeniter-Alice_Sombre-dimanche</td>\n",
       "      <td>2013</td>\n",
       "      <td>alice zeniter</td>\n",
       "      <td>sombre dimanche</td>\n",
       "      <td>non_canon</td>\n",
       "      <td>non-canon</td>\n",
       "      <td>female</td>\n",
       "      <td>0</td>\n",
       "      <td>0</td>\n",
       "      <td>0</td>\n",
       "      <td>0</td>\n",
       "      <td>1</td>\n",
       "      <td>0</td>\n",
       "      <td>0</td>\n",
       "      <td>0</td>\n",
       "    </tr>\n",
       "    <tr>\n",
       "      <th>2892</th>\n",
       "      <td>2013_Ferney-Alice_Cherchez-La-Femme</td>\n",
       "      <td>2013</td>\n",
       "      <td>alice ferney</td>\n",
       "      <td>cherchez la femme</td>\n",
       "      <td>non_canon</td>\n",
       "      <td>non-canon</td>\n",
       "      <td>female</td>\n",
       "      <td>0</td>\n",
       "      <td>1</td>\n",
       "      <td>0</td>\n",
       "      <td>0</td>\n",
       "      <td>0</td>\n",
       "      <td>0</td>\n",
       "      <td>0</td>\n",
       "      <td>0</td>\n",
       "    </tr>\n",
       "    <tr>\n",
       "      <th>2897</th>\n",
       "      <td>2013_Darrieussecq-Marie_Il-faut-beaucoup-aimer...</td>\n",
       "      <td>2013</td>\n",
       "      <td>marie darrieussecq</td>\n",
       "      <td>il faut beaucoup aimer les hommes</td>\n",
       "      <td>non_canon</td>\n",
       "      <td>canon</td>\n",
       "      <td>female</td>\n",
       "      <td>0</td>\n",
       "      <td>0</td>\n",
       "      <td>0</td>\n",
       "      <td>0</td>\n",
       "      <td>1</td>\n",
       "      <td>0</td>\n",
       "      <td>0</td>\n",
       "      <td>0</td>\n",
       "    </tr>\n",
       "    <tr>\n",
       "      <th>2914</th>\n",
       "      <td>2014_Kerangal-Maylis-de_Reparer-les-vivants</td>\n",
       "      <td>2014</td>\n",
       "      <td>maylis de kerangal</td>\n",
       "      <td>reparer les vivants</td>\n",
       "      <td>non_canon</td>\n",
       "      <td>canon</td>\n",
       "      <td>female</td>\n",
       "      <td>1</td>\n",
       "      <td>0</td>\n",
       "      <td>0</td>\n",
       "      <td>0</td>\n",
       "      <td>0</td>\n",
       "      <td>0</td>\n",
       "      <td>0</td>\n",
       "      <td>0</td>\n",
       "    </tr>\n",
       "  </tbody>\n",
       "</table>\n",
       "<p>261 rows × 15 columns</p>\n",
       "</div>"
      ],
      "text/plain": [
       "                                               doc_name  date  \\\n",
       "0     1811_Chateaubriand-François-Rene-de_Oeuvres-co...  1811   \n",
       "5                        1816_Constant-Benjamin_Adolphe  1816   \n",
       "17          1821_Arlincourt-Charles-Victor_Le-Solitaire  1821   \n",
       "42       1829_Hugo-Victor_Le-dernier-jour-d-un-condamne  1829   \n",
       "48                    1830_Stendhal_Le-Rouge-et-le-noir  1830   \n",
       "...                                                 ...   ...   \n",
       "2875              2012_Deville-Patrick_Peste-et-cholera  2012   \n",
       "2891                 2013_Zeniter-Alice_Sombre-dimanche  2013   \n",
       "2892                2013_Ferney-Alice_Cherchez-La-Femme  2013   \n",
       "2897  2013_Darrieussecq-Marie_Il-faut-beaucoup-aimer...  2013   \n",
       "2914        2014_Kerangal-Maylis-de_Reparer-les-vivants  2014   \n",
       "\n",
       "                              auteur                              titre  \\\n",
       "0     françois rene de chateaubriand                  oeuvres completes   \n",
       "5                  benjamin constant                            adolphe   \n",
       "17         charles victor arlincourt                       le solitaire   \n",
       "42                       victor hugo      le dernier jour d un condamne   \n",
       "48                          stendhal                le rouge et le noir   \n",
       "...                              ...                                ...   \n",
       "2875                 patrick deville                   peste et cholera   \n",
       "2891                   alice zeniter                    sombre dimanche   \n",
       "2892                    alice ferney                  cherchez la femme   \n",
       "2897              marie darrieussecq  il faut beaucoup aimer les hommes   \n",
       "2914              maylis de kerangal                reparer les vivants   \n",
       "\n",
       "     canon_roman canon_auteur  gender  bac  brevet  lm  sup  prix  gf  \\\n",
       "0          canon        canon    male    1       0   1    0     0   0   \n",
       "5      non_canon        canon    male    0       0   1    0     0   1   \n",
       "17         canon    non-canon    male    0       0   0    0     1   0   \n",
       "42     non_canon        canon    male    0       0   1    0     0   1   \n",
       "48     non_canon        canon    male    1       0   1    1     0   0   \n",
       "...          ...          ...     ...  ...     ...  ..  ...   ...  ..   \n",
       "2875       canon    non-canon    male    0       0   0    0     1   0   \n",
       "2891   non_canon    non-canon  female    0       0   0    0     1   0   \n",
       "2892   non_canon    non-canon  female    0       1   0    0     0   0   \n",
       "2897   non_canon        canon  female    0       0   0    0     1   0   \n",
       "2914   non_canon        canon  female    1       0   0    0     0   0   \n",
       "\n",
       "      pleiade  gouv  \n",
       "0           1     0  \n",
       "5           1     0  \n",
       "17          0     0  \n",
       "42          1     0  \n",
       "48          1     0  \n",
       "...       ...   ...  \n",
       "2875        0     0  \n",
       "2891        0     0  \n",
       "2892        0     0  \n",
       "2897        0     0  \n",
       "2914        0     0  \n",
       "\n",
       "[261 rows x 15 columns]"
      ]
     },
     "execution_count": 85,
     "metadata": {},
     "output_type": "execute_result"
    }
   ],
   "source": [
    "df_canon_NOVEL_SCALE"
   ]
  },
  {
   "cell_type": "code",
   "execution_count": 38,
   "metadata": {},
   "outputs": [],
   "source": [
    "list_factors = [\"bac\", \"brevet\", 'sup', 'prix', 'gf', 'gouv']"
   ]
  },
  {
   "cell_type": "code",
   "execution_count": 39,
   "metadata": {},
   "outputs": [],
   "source": [
    "def cosine_sim_vectors(vec1, vec2):\n",
    "    vec1 = vec1.reshape(1, -1)\n",
    "    vec2 = vec2.reshape(1, -1)\n",
    "    \n",
    "    return cosine_similarity(vec1, vec2)[0][0]"
   ]
  },
  {
   "cell_type": "code",
   "execution_count": 97,
   "metadata": {},
   "outputs": [
    {
     "data": {
      "text/html": [
       "<div>\n",
       "<style scoped>\n",
       "    .dataframe tbody tr th:only-of-type {\n",
       "        vertical-align: middle;\n",
       "    }\n",
       "\n",
       "    .dataframe tbody tr th {\n",
       "        vertical-align: top;\n",
       "    }\n",
       "\n",
       "    .dataframe thead th {\n",
       "        text-align: right;\n",
       "    }\n",
       "</style>\n",
       "<table border=\"1\" class=\"dataframe\">\n",
       "  <thead>\n",
       "    <tr style=\"text-align: right;\">\n",
       "      <th></th>\n",
       "      <th>doc_name</th>\n",
       "      <th>date</th>\n",
       "      <th>auteur</th>\n",
       "      <th>titre</th>\n",
       "      <th>canon_roman</th>\n",
       "      <th>canon_auteur</th>\n",
       "      <th>gender</th>\n",
       "      <th>bac</th>\n",
       "      <th>brevet</th>\n",
       "      <th>lm</th>\n",
       "      <th>sup</th>\n",
       "      <th>prix</th>\n",
       "      <th>gf</th>\n",
       "      <th>pleiade</th>\n",
       "      <th>gouv</th>\n",
       "    </tr>\n",
       "  </thead>\n",
       "  <tbody>\n",
       "    <tr>\n",
       "      <th>0</th>\n",
       "      <td>1811_Chateaubriand-François-Rene-de_Oeuvres-co...</td>\n",
       "      <td>1811</td>\n",
       "      <td>françois rene de chateaubriand</td>\n",
       "      <td>oeuvres completes</td>\n",
       "      <td>canon</td>\n",
       "      <td>canon</td>\n",
       "      <td>male</td>\n",
       "      <td>1</td>\n",
       "      <td>0</td>\n",
       "      <td>1</td>\n",
       "      <td>0</td>\n",
       "      <td>0</td>\n",
       "      <td>0</td>\n",
       "      <td>1</td>\n",
       "      <td>0</td>\n",
       "    </tr>\n",
       "    <tr>\n",
       "      <th>5</th>\n",
       "      <td>1816_Constant-Benjamin_Adolphe</td>\n",
       "      <td>1816</td>\n",
       "      <td>benjamin constant</td>\n",
       "      <td>adolphe</td>\n",
       "      <td>non_canon</td>\n",
       "      <td>canon</td>\n",
       "      <td>male</td>\n",
       "      <td>0</td>\n",
       "      <td>0</td>\n",
       "      <td>1</td>\n",
       "      <td>0</td>\n",
       "      <td>0</td>\n",
       "      <td>1</td>\n",
       "      <td>1</td>\n",
       "      <td>0</td>\n",
       "    </tr>\n",
       "    <tr>\n",
       "      <th>17</th>\n",
       "      <td>1821_Arlincourt-Charles-Victor_Le-Solitaire</td>\n",
       "      <td>1821</td>\n",
       "      <td>charles victor arlincourt</td>\n",
       "      <td>le solitaire</td>\n",
       "      <td>canon</td>\n",
       "      <td>non-canon</td>\n",
       "      <td>male</td>\n",
       "      <td>0</td>\n",
       "      <td>0</td>\n",
       "      <td>0</td>\n",
       "      <td>0</td>\n",
       "      <td>1</td>\n",
       "      <td>0</td>\n",
       "      <td>0</td>\n",
       "      <td>0</td>\n",
       "    </tr>\n",
       "    <tr>\n",
       "      <th>42</th>\n",
       "      <td>1829_Hugo-Victor_Le-dernier-jour-d-un-condamne</td>\n",
       "      <td>1829</td>\n",
       "      <td>victor hugo</td>\n",
       "      <td>le dernier jour d un condamne</td>\n",
       "      <td>non_canon</td>\n",
       "      <td>canon</td>\n",
       "      <td>male</td>\n",
       "      <td>0</td>\n",
       "      <td>0</td>\n",
       "      <td>1</td>\n",
       "      <td>0</td>\n",
       "      <td>0</td>\n",
       "      <td>1</td>\n",
       "      <td>1</td>\n",
       "      <td>0</td>\n",
       "    </tr>\n",
       "    <tr>\n",
       "      <th>48</th>\n",
       "      <td>1830_Stendhal_Le-Rouge-et-le-noir</td>\n",
       "      <td>1830</td>\n",
       "      <td>stendhal</td>\n",
       "      <td>le rouge et le noir</td>\n",
       "      <td>non_canon</td>\n",
       "      <td>canon</td>\n",
       "      <td>male</td>\n",
       "      <td>1</td>\n",
       "      <td>0</td>\n",
       "      <td>1</td>\n",
       "      <td>1</td>\n",
       "      <td>0</td>\n",
       "      <td>0</td>\n",
       "      <td>1</td>\n",
       "      <td>0</td>\n",
       "    </tr>\n",
       "    <tr>\n",
       "      <th>...</th>\n",
       "      <td>...</td>\n",
       "      <td>...</td>\n",
       "      <td>...</td>\n",
       "      <td>...</td>\n",
       "      <td>...</td>\n",
       "      <td>...</td>\n",
       "      <td>...</td>\n",
       "      <td>...</td>\n",
       "      <td>...</td>\n",
       "      <td>...</td>\n",
       "      <td>...</td>\n",
       "      <td>...</td>\n",
       "      <td>...</td>\n",
       "      <td>...</td>\n",
       "      <td>...</td>\n",
       "    </tr>\n",
       "    <tr>\n",
       "      <th>2875</th>\n",
       "      <td>2012_Deville-Patrick_Peste-et-cholera</td>\n",
       "      <td>2012</td>\n",
       "      <td>patrick deville</td>\n",
       "      <td>peste et cholera</td>\n",
       "      <td>canon</td>\n",
       "      <td>non-canon</td>\n",
       "      <td>male</td>\n",
       "      <td>0</td>\n",
       "      <td>0</td>\n",
       "      <td>0</td>\n",
       "      <td>0</td>\n",
       "      <td>1</td>\n",
       "      <td>0</td>\n",
       "      <td>0</td>\n",
       "      <td>0</td>\n",
       "    </tr>\n",
       "    <tr>\n",
       "      <th>2891</th>\n",
       "      <td>2013_Zeniter-Alice_Sombre-dimanche</td>\n",
       "      <td>2013</td>\n",
       "      <td>alice zeniter</td>\n",
       "      <td>sombre dimanche</td>\n",
       "      <td>non_canon</td>\n",
       "      <td>non-canon</td>\n",
       "      <td>female</td>\n",
       "      <td>0</td>\n",
       "      <td>0</td>\n",
       "      <td>0</td>\n",
       "      <td>0</td>\n",
       "      <td>1</td>\n",
       "      <td>0</td>\n",
       "      <td>0</td>\n",
       "      <td>0</td>\n",
       "    </tr>\n",
       "    <tr>\n",
       "      <th>2892</th>\n",
       "      <td>2013_Ferney-Alice_Cherchez-La-Femme</td>\n",
       "      <td>2013</td>\n",
       "      <td>alice ferney</td>\n",
       "      <td>cherchez la femme</td>\n",
       "      <td>non_canon</td>\n",
       "      <td>non-canon</td>\n",
       "      <td>female</td>\n",
       "      <td>0</td>\n",
       "      <td>1</td>\n",
       "      <td>0</td>\n",
       "      <td>0</td>\n",
       "      <td>0</td>\n",
       "      <td>0</td>\n",
       "      <td>0</td>\n",
       "      <td>0</td>\n",
       "    </tr>\n",
       "    <tr>\n",
       "      <th>2897</th>\n",
       "      <td>2013_Darrieussecq-Marie_Il-faut-beaucoup-aimer...</td>\n",
       "      <td>2013</td>\n",
       "      <td>marie darrieussecq</td>\n",
       "      <td>il faut beaucoup aimer les hommes</td>\n",
       "      <td>non_canon</td>\n",
       "      <td>canon</td>\n",
       "      <td>female</td>\n",
       "      <td>0</td>\n",
       "      <td>0</td>\n",
       "      <td>0</td>\n",
       "      <td>0</td>\n",
       "      <td>1</td>\n",
       "      <td>0</td>\n",
       "      <td>0</td>\n",
       "      <td>0</td>\n",
       "    </tr>\n",
       "    <tr>\n",
       "      <th>2914</th>\n",
       "      <td>2014_Kerangal-Maylis-de_Reparer-les-vivants</td>\n",
       "      <td>2014</td>\n",
       "      <td>maylis de kerangal</td>\n",
       "      <td>reparer les vivants</td>\n",
       "      <td>non_canon</td>\n",
       "      <td>canon</td>\n",
       "      <td>female</td>\n",
       "      <td>1</td>\n",
       "      <td>0</td>\n",
       "      <td>0</td>\n",
       "      <td>0</td>\n",
       "      <td>0</td>\n",
       "      <td>0</td>\n",
       "      <td>0</td>\n",
       "      <td>0</td>\n",
       "    </tr>\n",
       "  </tbody>\n",
       "</table>\n",
       "<p>261 rows × 15 columns</p>\n",
       "</div>"
      ],
      "text/plain": [
       "                                               doc_name  date  \\\n",
       "0     1811_Chateaubriand-François-Rene-de_Oeuvres-co...  1811   \n",
       "5                        1816_Constant-Benjamin_Adolphe  1816   \n",
       "17          1821_Arlincourt-Charles-Victor_Le-Solitaire  1821   \n",
       "42       1829_Hugo-Victor_Le-dernier-jour-d-un-condamne  1829   \n",
       "48                    1830_Stendhal_Le-Rouge-et-le-noir  1830   \n",
       "...                                                 ...   ...   \n",
       "2875              2012_Deville-Patrick_Peste-et-cholera  2012   \n",
       "2891                 2013_Zeniter-Alice_Sombre-dimanche  2013   \n",
       "2892                2013_Ferney-Alice_Cherchez-La-Femme  2013   \n",
       "2897  2013_Darrieussecq-Marie_Il-faut-beaucoup-aimer...  2013   \n",
       "2914        2014_Kerangal-Maylis-de_Reparer-les-vivants  2014   \n",
       "\n",
       "                              auteur                              titre  \\\n",
       "0     françois rene de chateaubriand                  oeuvres completes   \n",
       "5                  benjamin constant                            adolphe   \n",
       "17         charles victor arlincourt                       le solitaire   \n",
       "42                       victor hugo      le dernier jour d un condamne   \n",
       "48                          stendhal                le rouge et le noir   \n",
       "...                              ...                                ...   \n",
       "2875                 patrick deville                   peste et cholera   \n",
       "2891                   alice zeniter                    sombre dimanche   \n",
       "2892                    alice ferney                  cherchez la femme   \n",
       "2897              marie darrieussecq  il faut beaucoup aimer les hommes   \n",
       "2914              maylis de kerangal                reparer les vivants   \n",
       "\n",
       "     canon_roman canon_auteur  gender  bac  brevet  lm  sup  prix  gf  \\\n",
       "0          canon        canon    male    1       0   1    0     0   0   \n",
       "5      non_canon        canon    male    0       0   1    0     0   1   \n",
       "17         canon    non-canon    male    0       0   0    0     1   0   \n",
       "42     non_canon        canon    male    0       0   1    0     0   1   \n",
       "48     non_canon        canon    male    1       0   1    1     0   0   \n",
       "...          ...          ...     ...  ...     ...  ..  ...   ...  ..   \n",
       "2875       canon    non-canon    male    0       0   0    0     1   0   \n",
       "2891   non_canon    non-canon  female    0       0   0    0     1   0   \n",
       "2892   non_canon    non-canon  female    0       1   0    0     0   0   \n",
       "2897   non_canon        canon  female    0       0   0    0     1   0   \n",
       "2914   non_canon        canon  female    1       0   0    0     0   0   \n",
       "\n",
       "      pleiade  gouv  \n",
       "0           1     0  \n",
       "5           1     0  \n",
       "17          0     0  \n",
       "42          1     0  \n",
       "48          1     0  \n",
       "...       ...   ...  \n",
       "2875        0     0  \n",
       "2891        0     0  \n",
       "2892        0     0  \n",
       "2897        0     0  \n",
       "2914        0     0  \n",
       "\n",
       "[261 rows x 15 columns]"
      ]
     },
     "execution_count": 97,
     "metadata": {},
     "output_type": "execute_result"
    }
   ],
   "source": [
    "df_canon_NOVEL_SCALE"
   ]
  },
  {
   "cell_type": "code",
   "execution_count": 86,
   "metadata": {},
   "outputs": [],
   "source": [
    "def compute_cs(list_facteur, df_canon_NOVEL_SCALE):\n",
    "    list_bac, list_brevet, list_sup, list_prix, list_gf, list_gouv, list_roulante = [],[],[],[],[],[],[]\n",
    "    for facteur in list_facteur:\n",
    "        for facteur_2 in list_facteur:\n",
    "            \n",
    "            list_roulante.append(cosine_sim_vectors(np.array(df_canon_NOVEL_SCALE[facteur]), np.array(df_canon_NOVEL_SCALE[facteur_2])))\n",
    "        \n",
    "        if facteur == 'bac':\n",
    "            list_bac = list_roulante\n",
    "        elif facteur == 'brevet':\n",
    "            list_brevet = list_roulante\n",
    "        elif facteur == 'sup':\n",
    "            list_sup = list_roulante\n",
    "        elif facteur == 'prix':\n",
    "            list_prix = list_roulante\n",
    "        elif facteur == 'gf':\n",
    "            list_gf = list_roulante\n",
    "        elif facteur == 'gouv':\n",
    "            list_gouv = list_roulante\n",
    "            \n",
    "        list_roulante = []\n",
    "\n",
    "    zipped = list(zip(list_bac, list_brevet, list_sup, list_prix, list_gf, list_gouv))\n",
    "    return pd.DataFrame(zipped, columns=list_facteur, index=list_facteur)"
   ]
  },
  {
   "cell_type": "code",
   "execution_count": 87,
   "metadata": {},
   "outputs": [],
   "source": [
    "df_cs = compute_cs(list_factors, df_canon_NOVEL_SCALE)"
   ]
  },
  {
   "cell_type": "code",
   "execution_count": 88,
   "metadata": {},
   "outputs": [
    {
     "data": {
      "text/html": [
       "<div>\n",
       "<style scoped>\n",
       "    .dataframe tbody tr th:only-of-type {\n",
       "        vertical-align: middle;\n",
       "    }\n",
       "\n",
       "    .dataframe tbody tr th {\n",
       "        vertical-align: top;\n",
       "    }\n",
       "\n",
       "    .dataframe thead th {\n",
       "        text-align: right;\n",
       "    }\n",
       "</style>\n",
       "<table border=\"1\" class=\"dataframe\">\n",
       "  <thead>\n",
       "    <tr style=\"text-align: right;\">\n",
       "      <th></th>\n",
       "      <th>bac</th>\n",
       "      <th>brevet</th>\n",
       "      <th>sup</th>\n",
       "      <th>prix</th>\n",
       "      <th>gf</th>\n",
       "      <th>gouv</th>\n",
       "    </tr>\n",
       "  </thead>\n",
       "  <tbody>\n",
       "    <tr>\n",
       "      <th>bac</th>\n",
       "      <td>1.000000</td>\n",
       "      <td>0.242124</td>\n",
       "      <td>0.239259</td>\n",
       "      <td>0.131796</td>\n",
       "      <td>0.234895</td>\n",
       "      <td>0.100120</td>\n",
       "    </tr>\n",
       "    <tr>\n",
       "      <th>brevet</th>\n",
       "      <td>0.242124</td>\n",
       "      <td>1.000000</td>\n",
       "      <td>0.056614</td>\n",
       "      <td>0.113402</td>\n",
       "      <td>0.101057</td>\n",
       "      <td>0.113715</td>\n",
       "    </tr>\n",
       "    <tr>\n",
       "      <th>sup</th>\n",
       "      <td>0.239259</td>\n",
       "      <td>0.056614</td>\n",
       "      <td>1.000000</td>\n",
       "      <td>0.092450</td>\n",
       "      <td>0.109847</td>\n",
       "      <td>0.051503</td>\n",
       "    </tr>\n",
       "    <tr>\n",
       "      <th>prix</th>\n",
       "      <td>0.131796</td>\n",
       "      <td>0.113402</td>\n",
       "      <td>0.092450</td>\n",
       "      <td>1.000000</td>\n",
       "      <td>0.011002</td>\n",
       "      <td>0.000000</td>\n",
       "    </tr>\n",
       "    <tr>\n",
       "      <th>gf</th>\n",
       "      <td>0.234895</td>\n",
       "      <td>0.101057</td>\n",
       "      <td>0.109847</td>\n",
       "      <td>0.011002</td>\n",
       "      <td>1.000000</td>\n",
       "      <td>0.202252</td>\n",
       "    </tr>\n",
       "    <tr>\n",
       "      <th>gouv</th>\n",
       "      <td>0.100120</td>\n",
       "      <td>0.113715</td>\n",
       "      <td>0.051503</td>\n",
       "      <td>0.000000</td>\n",
       "      <td>0.202252</td>\n",
       "      <td>1.000000</td>\n",
       "    </tr>\n",
       "  </tbody>\n",
       "</table>\n",
       "</div>"
      ],
      "text/plain": [
       "             bac    brevet       sup      prix        gf      gouv\n",
       "bac     1.000000  0.242124  0.239259  0.131796  0.234895  0.100120\n",
       "brevet  0.242124  1.000000  0.056614  0.113402  0.101057  0.113715\n",
       "sup     0.239259  0.056614  1.000000  0.092450  0.109847  0.051503\n",
       "prix    0.131796  0.113402  0.092450  1.000000  0.011002  0.000000\n",
       "gf      0.234895  0.101057  0.109847  0.011002  1.000000  0.202252\n",
       "gouv    0.100120  0.113715  0.051503  0.000000  0.202252  1.000000"
      ]
     },
     "execution_count": 88,
     "metadata": {},
     "output_type": "execute_result"
    }
   ],
   "source": [
    "df_cs"
   ]
  },
  {
   "cell_type": "code",
   "execution_count": 110,
   "metadata": {},
   "outputs": [],
   "source": [
    "import matplotlib.pyplot as plt"
   ]
  },
  {
   "cell_type": "code",
   "execution_count": 114,
   "metadata": {},
   "outputs": [
    {
     "data": {
      "image/png": "[encoded data removed]",
      "text/plain": [
       "<Figure size 576x432 with 2 Axes>"
      ]
     },
     "metadata": {
      "needs_background": "light"
     },
     "output_type": "display_data"
    }
   ],
   "source": [
    "plt.figure(figsize=(8,6))\n",
    "ax = sns.heatmap(df_cs, cmap=\"Blues\")\n",
    "ax.set(xlabel=\"\", ylabel=\"\")\n",
    "ax.xaxis.tick_top()"
   ]
  },
  {
   "cell_type": "code",
   "execution_count": null,
   "metadata": {},
   "outputs": [],
   "source": []
  },
  {
   "cell_type": "code",
   "execution_count": 104,
   "metadata": {},
   "outputs": [],
   "source": [
    "test2 = [1 if elem == 0 else 2 for elem in df_canon_spec['brevet']]"
   ]
  },
  {
   "cell_type": "code",
   "execution_count": 105,
   "metadata": {},
   "outputs": [],
   "source": [
    "test1 = [1 if elem == 0 else 2 for elem in df_canon_spec['bac']]"
   ]
  },
  {
   "cell_type": "code",
   "execution_count": 106,
   "metadata": {},
   "outputs": [
    {
     "data": {
      "text/plain": [
       "0.9863568839891435"
      ]
     },
     "execution_count": 106,
     "metadata": {},
     "output_type": "execute_result"
    }
   ],
   "source": [
    "cosine_sim_vectors(np.array(test2), np.array(test1))"
   ]
  },
  {
   "cell_type": "code",
   "execution_count": 107,
   "metadata": {},
   "outputs": [
    {
     "data": {
      "text/plain": [
       "(0.2310822699182122, 3.5562828273533785e-37)"
      ]
     },
     "execution_count": 107,
     "metadata": {},
     "output_type": "execute_result"
    }
   ],
   "source": [
    "pearsonr(test2, test1)"
   ]
  },
  {
   "cell_type": "markdown",
   "metadata": {},
   "source": [
    "### SKlearn Heat Map"
   ]
  },
  {
   "cell_type": "code",
   "execution_count": 54,
   "metadata": {},
   "outputs": [
    {
     "data": {
      "text/plain": [
       "(0.23108226991821212, 3.55628282735257e-37)"
      ]
     },
     "execution_count": 54,
     "metadata": {},
     "output_type": "execute_result"
    }
   ],
   "source": [
    "pearsonr(df_canon_spec.bac, df_canon_spec.brevet)"
   ]
  },
  {
   "cell_type": "code",
   "execution_count": 56,
   "metadata": {},
   "outputs": [
    {
     "data": {
      "text/plain": [
       "0.24212399923954656"
      ]
     },
     "execution_count": 56,
     "metadata": {},
     "output_type": "execute_result"
    }
   ],
   "source": [
    "cosine_sim_vectors(np.array(df_canon_spec.bac), np.array(df_canon_spec.brevet))"
   ]
  },
  {
   "cell_type": "code",
   "execution_count": 64,
   "metadata": {},
   "outputs": [],
   "source": [
    "from scipy.spatial import distance"
   ]
  },
  {
   "cell_type": "code",
   "execution_count": 72,
   "metadata": {},
   "outputs": [
    {
     "data": {
      "text/plain": [
       "10.246950765959598"
      ]
     },
     "execution_count": 72,
     "metadata": {},
     "output_type": "execute_result"
    }
   ],
   "source": [
    "distance.euclidean(df_canon_spec.bac, df_canon_spec.gouv)"
   ]
  },
  {
   "cell_type": "code",
   "execution_count": 67,
   "metadata": {},
   "outputs": [],
   "source": [
    "from scipy.spatial import distance"
   ]
  },
  {
   "cell_type": "code",
   "execution_count": 96,
   "metadata": {},
   "outputs": [
    {
     "data": {
      "text/plain": [
       "145"
      ]
     },
     "execution_count": 96,
     "metadata": {},
     "output_type": "execute_result"
    }
   ],
   "source": [
    "distance.cityblock(df_canon_spec.bac, df_canon_spec.prix)"
   ]
  },
  {
   "cell_type": "code",
   "execution_count": null,
   "metadata": {},
   "outputs": [],
   "source": []
  }
 ],
 "metadata": {
  "kernelspec": {
   "display_name": "Python 3 (ipykernel)",
   "language": "python",
   "name": "python3"
  },
  "language_info": {
   "codemirror_mode": {
    "name": "ipython",
    "version": 3
   },
   "file_extension": ".py",
   "mimetype": "text/x-python",
   "name": "python",
   "nbconvert_exporter": "python",
   "pygments_lexer": "ipython3",
   "version": "3.9.12"
  }
 },
 "nbformat": 4,
 "nbformat_minor": 4
}
