{
 "cells": [
  {
   "cell_type": "code",
   "execution_count": 1,
   "metadata": {},
   "outputs": [],
   "source": [
    "import pandas as pd\n",
    "from collections import Counter\n",
    "from glob import glob\n",
    "import csv\n",
    "from lxml import etree\n",
    "import os.path as path"
   ]
  },
  {
   "cell_type": "code",
   "execution_count": 2,
   "metadata": {},
   "outputs": [],
   "source": [
    "path_name = 'corpus_main/*.xml'\n",
    "#path_name = 'corpus_test/*.xml'"
   ]
  },
  {
   "cell_type": "code",
   "execution_count": 3,
   "metadata": {},
   "outputs": [],
   "source": [
    "def xml_to_txt(path, doc_name):\n",
    "    \n",
    "    chaine = \"\"\n",
    "    with open(path, encoding=\"utf8\") as file_in:\n",
    "        \n",
    "        tree = etree.parse(file_in)\n",
    "\n",
    "        if tree.findall(\".//p\"):\n",
    "            for line in tree.findall(\".//p\"):\n",
    "                if line.text:\n",
    "                    chaine += line.text\n",
    "        else:\n",
    "            print(doc_name)\n",
    "                    \n",
    "    with open(r\"corpus_main_txt/\"+doc_name+\".txt\", \"w\", encoding=\"utf8\") as file_out:\n",
    "        file_out.write(chaine)"
   ]
  },
  {
   "cell_type": "code",
   "execution_count": 4,
   "metadata": {},
   "outputs": [],
   "source": [
    "def moulinette(path_name):\n",
    "    i = 0\n",
    "    for doc in glob(path_name):\n",
    "        doc_name = path.splitext(path.basename(doc))[0]\n",
    "        xml_to_txt(doc, doc_name)"
   ]
  },
  {
   "cell_type": "code",
   "execution_count": 6,
   "metadata": {},
   "outputs": [],
   "source": [
    "moulinette(path_name)"
   ]
  },
  {
   "cell_type": "code",
   "execution_count": null,
   "metadata": {},
   "outputs": [],
   "source": []
  },
  {
   "cell_type": "code",
   "execution_count": 7,
   "metadata": {},
   "outputs": [],
   "source": [
    "import os\n",
    "import random"
   ]
  },
  {
   "cell_type": "code",
   "execution_count": 27,
   "metadata": {},
   "outputs": [],
   "source": [
    "src = 'corpus_main_txt/'\n",
    "dest = 'corpus_test/'\n",
    "n = 200"
   ]
  },
  {
   "cell_type": "code",
   "execution_count": 28,
   "metadata": {},
   "outputs": [],
   "source": [
    "def random_romans(src, dest, n):\n",
    "    files = os.listdir(src)\n",
    "    for i in range(n):\n",
    "        index = random.randrange(0, len(files))\n",
    "        roman = files[index]\n",
    "        os.system('cp '+src+roman+' '+dest+roman) "
   ]
  },
  {
   "cell_type": "code",
   "execution_count": 29,
   "metadata": {},
   "outputs": [],
   "source": [
    "random_romans(src, dest, n)"
   ]
  },
  {
   "cell_type": "code",
   "execution_count": null,
   "metadata": {},
   "outputs": [],
   "source": []
  }
 ],
 "metadata": {
  "kernelspec": {
   "display_name": "Python 3",
   "language": "python",
   "name": "python3"
  },
  "language_info": {
   "codemirror_mode": {
    "name": "ipython",
    "version": 3
   },
   "file_extension": ".py",
   "mimetype": "text/x-python",
   "name": "python",
   "nbconvert_exporter": "python",
   "pygments_lexer": "ipython3",
   "version": "3.8.8"
  }
 },
 "nbformat": 4,
 "nbformat_minor": 4
}
