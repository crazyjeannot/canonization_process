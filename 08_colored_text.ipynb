{
 "cells": [
  {
   "cell_type": "code",
   "execution_count": 126,
   "metadata": {},
   "outputs": [],
   "source": [
    "import spacy\n",
    "import timeit\n",
    "import math\n",
    "import pandas as pd\n",
    "import matplotlib.pyplot as plt\n",
    "from os import path\n",
    "from collections import Counter\n",
    "from lxml import etree\n",
    "from glob import glob\n",
    "from unicodedata import normalize"
   ]
  },
  {
   "cell_type": "code",
   "execution_count": 2,
   "metadata": {},
   "outputs": [],
   "source": [
    "from termcolor import colored"
   ]
  },
  {
   "cell_type": "code",
   "execution_count": 3,
   "metadata": {},
   "outputs": [
    {
     "name": "stdout",
     "output_type": "stream",
     "text": [
      "\u001b[1m\u001b[36mhello\u001b[0m \u001b[1m\u001b[31mworld\u001b[0m\n"
     ]
    }
   ],
   "source": [
    "print(colored('hello', 'cyan', attrs=['bold']), colored('world', 'red',attrs=['bold']))"
   ]
  },
  {
   "cell_type": "code",
   "execution_count": null,
   "metadata": {},
   "outputs": [],
   "source": []
  },
  {
   "cell_type": "code",
   "execution_count": 4,
   "metadata": {},
   "outputs": [],
   "source": [
    "nlp = spacy.load('fr_core_news_lg')"
   ]
  },
  {
   "cell_type": "code",
   "execution_count": 122,
   "metadata": {},
   "outputs": [],
   "source": [
    "colette_sido_extract =  \"– Et pourquoi cesserais-je d’être de mon village ? Il n’y faut pas compter. Te voilà bien fière, mon pauvre Minet-Chéri, parce que tu habites Paris depuis ton mariage. Je ne peux pas m’empêcher de rire en constatant combien tous les Parisiens sont fiers d’habiter Paris, les vrais parce qu’ils assimilent cela à un titre nobiliaire, les faux parce qu’ils s’imaginent avoir monté en grade. À ce compte-là, je pourrais me vanter que ma mère est née boulevard Bonne-Nouvelle ! Toi, te voilà comme le pou sur ses pieds de derrière parce que tu as épousé un Parisien. Et quand je dis un Parisien… Les vrais Parisiens d’origine ont moins de caractère dans la physionomie. On dirait que Paris les efface !  Elle s’interrompait, levait le rideau de tulle qui voilait la fenêtre :  – Ah ! voici Mlle Thévenin qui promène en triomphe, dans toutes les rues, sa cousine de Paris. Elle n’a pas besoin de le dire, que cette dame Quériot vient de Paris : beaucoup de seins, les pieds petits, et des chevilles trop fragiles pour le poids du corps ; deux ou trois chaînes de cou, les cheveux très bien coiffés… Il ne m’en faut pas tant pour savoir que cette dame Quériot est caissière dans un grand café. Une caissière parisienne ne pare que sa tête et son buste, le reste ne voit guère le jour. En outre, elle ne marche pas assez et engraisse de l’estomac. Tu verras beaucoup, à Paris, ce modèle de femme-tronc.  Ainsi parlait ma mère, quand j’étais moi-même, autrefois, une très jeune femme. Mais elle avait commencé, bien avant mon mariage, de donner le pas à la province sur Paris. Mon enfance avait retenu des sentences, excommunicatoires le plus souvent, qu’elle lançait avec une force d’accent singulière. Où prenait-elle leur autorité, leur suc, elle qui ne quittait pas, trois fois l’an, son département ? D’où lui venait le don de définir, de pénétrer, et cette forme décrétale de l’observation ?  Ne l’eussé-je pas tenu d’elle, qu’elle m’eût donné, je crois, l’amour de la province, si par province on n’entend pas seulement un lieu, une région éloignés de la capitale, mais un esprit de caste, une pureté obligatoire des mœurs, l’orgueil d’habiter une demeure ancienne, honorée, close de partout, mais que l’on peut ouvrir à tout moment sur ses greniers aérés, son fenil empli, ses maîtres façonnés à l’usage et à la dignité de leur maison.  En vraie provinciale, ma charmante mère, « Sido », tenait souvent ses yeux de l’âme fixés sur Paris. Théâtres de Paris, modes, fêtes de Paris, ne lui étaient ni indifférents, ni étrangers. Tout au plus les aimait-elle d’une passion un peu agressive, rehaussée de coquetteries, bouderies, approches stratégiques et danses de guerre. Le peu qu’elle goûtait de Paris, tous les deux ans environ, l’approvisionnait pour le reste du temps. Elle revenait chez nous lourde de chocolat en barre, de denrées exotiques et d’étoffes en coupons, mais surtout de programmes de spectacles et d’essence à la violette, et elle commençait de nous peindre Paris dont tous les attraits étaient à sa mesure, puisqu’elle ne dédaignait rien.  En une semaine elle avait visité la momie exhumée, le musée agrandi, le nouveau magasin, entendu le ténor et la conférence sur la Musique birmane . Elle rapportait un manteau modeste, des bas d’usage, des gants très chers.  Surtout elle nous rapportait son regard gris voltigeant, son teint vermeil que la fatigue rougissait, elle revenait ailes battantes, inquiète de tout ce qui, privé d’elle, perdait la chaleur et le goût de vivre.\""
   ]
  },
  {
   "cell_type": "code",
   "execution_count": null,
   "metadata": {},
   "outputs": [],
   "source": []
  },
  {
   "cell_type": "code",
   "execution_count": 5,
   "metadata": {},
   "outputs": [],
   "source": [
    "coef_fabula = pd.read_csv(r'results_svm/coefs_1000_fabula.csv', index_col='Unnamed: 0')"
   ]
  },
  {
   "cell_type": "code",
   "execution_count": 6,
   "metadata": {},
   "outputs": [],
   "source": [
    "coef_fabula.sort_values(by = 'coefs', inplace=True)"
   ]
  },
  {
   "cell_type": "code",
   "execution_count": null,
   "metadata": {},
   "outputs": [],
   "source": []
  },
  {
   "cell_type": "code",
   "execution_count": 7,
   "metadata": {},
   "outputs": [],
   "source": [
    "coef_canon_df = coef_fabula[coef_fabula[\"coefs\"] < -0.05]"
   ]
  },
  {
   "cell_type": "code",
   "execution_count": 8,
   "metadata": {},
   "outputs": [],
   "source": [
    "coef_canon = list(coef_canon_df.index)"
   ]
  },
  {
   "cell_type": "code",
   "execution_count": 9,
   "metadata": {},
   "outputs": [
    {
     "data": {
      "text/plain": [
       "291"
      ]
     },
     "execution_count": 9,
     "metadata": {},
     "output_type": "execute_result"
    }
   ],
   "source": [
    "len(coef_canon)"
   ]
  },
  {
   "cell_type": "code",
   "execution_count": null,
   "metadata": {},
   "outputs": [],
   "source": []
  },
  {
   "cell_type": "code",
   "execution_count": 10,
   "metadata": {},
   "outputs": [],
   "source": [
    "coef_non_canon_df = coef_fabula[coef_fabula[\"coefs\"] > 0.05]"
   ]
  },
  {
   "cell_type": "code",
   "execution_count": 11,
   "metadata": {},
   "outputs": [],
   "source": [
    "coef_non_canon = list(coef_non_canon_df.index)"
   ]
  },
  {
   "cell_type": "code",
   "execution_count": 12,
   "metadata": {},
   "outputs": [
    {
     "data": {
      "text/plain": [
       "330"
      ]
     },
     "execution_count": 12,
     "metadata": {},
     "output_type": "execute_result"
    }
   ],
   "source": [
    "len(coef_non_canon)"
   ]
  },
  {
   "cell_type": "code",
   "execution_count": null,
   "metadata": {},
   "outputs": [],
   "source": []
  },
  {
   "cell_type": "code",
   "execution_count": 13,
   "metadata": {},
   "outputs": [],
   "source": [
    "def clean_text(txt):\n",
    "    txt_res = normalize(\"NFKD\", txt.replace('\\xa0', ' '))\n",
    "    txt_res = txt_res.replace('\\\\xa0', '')\n",
    "    return txt_res"
   ]
  },
  {
   "cell_type": "code",
   "execution_count": 114,
   "metadata": {},
   "outputs": [],
   "source": [
    "def close_reading_analysis(txt, list_canon, list_non_canon):\n",
    "    list_res = []\n",
    "    nb_canon, nb_non_canon = 0, 0\n",
    "    text_clean = clean_text(str(txt).lower())\n",
    "    docs = nlp(text_clean)\n",
    "    for token in docs:\n",
    "        if token.lemma_ in list_canon:\n",
    "            list_res.append(colored(token.text, 'cyan', attrs=['blink']))\n",
    "            nb_canon += 1\n",
    "        elif token.lemma_ in list_non_canon:\n",
    "            list_res.append(colored(token.text, 'red', attrs=['bold']))\n",
    "            nb_non_canon +=1\n",
    "        else:\n",
    "            list_res.append(token.text)\n",
    "    \n",
    "    print(\"nb_canon = \", nb_canon, \"\\n nb_non_canon = \", nb_non_canon)\n",
    "    return \" \".join(list_res)"
   ]
  },
  {
   "cell_type": "code",
   "execution_count": 77,
   "metadata": {},
   "outputs": [
    {
     "data": {
      "text/plain": [
       "'– Et pourquoi cesserais-je d’être de mon village ? Il n’y faut pas compter. Te voilà bien fière, mon pauvre Minet-Chéri, parce que tu habites Paris depuis ton mariage. Je ne peux pas m’empêcher de rire en constatant combien tous les Parisiens sont fiers d’habiter Paris, les vrais parce qu’ils assimilent cela à un titre nobiliaire, les faux parce qu’ils s’imaginent avoir monté en grade. À ce compte-là, je pourrais me vanter que ma mère est née boulevard Bonne-Nouvelle ! Toi, te voilà comme le pou sur ses pieds de derrière parce que tu as épousé un Parisien. Et quand je dis un Parisien... Les vrais Parisiens d’origine ont moins de caractère dans la physionomie. On dirait que Paris les efface !  Elle s’interrompait, levait le rideau de tulle qui voilait la fenêtre :  – Ah ! voici Mlle Thévenin qui promène en triomphe, dans toutes les rues, sa cousine de Paris. Elle n’a pas besoin de le dire, que cette dame Quériot vient de Paris : beaucoup de seins, les pieds petits, et des chevilles trop fragiles pour le poids du corps ; deux ou trois chaînes de cou, les cheveux très bien coiffés... Il ne m’en faut pas tant pour savoir que cette dame Quériot est caissière dans un grand café. Une caissière parisienne ne pare que sa tête et son buste, le reste ne voit guère le jour. En outre, elle ne marche pas assez et engraisse de l’estomac. Tu verras beaucoup, à Paris, ce modèle de femme-tronc.  Ainsi parlait ma mère, quand j’étais moi-même, autrefois, une très jeune femme. Mais elle avait commencé, bien avant mon mariage, de donner le pas à la province sur Paris. Mon enfance avait retenu des sentences, excommunicatoires le plus souvent, qu’elle lançait avec une force d’accent singulière. Où prenait-elle leur autorité, leur suc, elle qui ne quittait pas, trois fois l’an, son département ? D’où lui venait le don de définir, de pénétrer, et cette forme décrétale de l’observation ?  Ne l’eussé-je pas tenu d’elle, qu’elle m’eût donné, je crois, l’amour de la province, si par province on n’entend pas seulement un lieu, une région éloignés de la capitale, mais un esprit de caste, une pureté obligatoire des mœurs, l’orgueil d’habiter une demeure ancienne, honorée, close de partout, mais que l’on peut ouvrir à tout moment sur ses greniers aérés, son fenil empli, ses maîtres façonnés à l’usage et à la dignité de leur maison.  En vraie provinciale, ma charmante mère, « Sido », tenait souvent ses yeux de l’âme fixés sur Paris. Théâtres de Paris, modes, fêtes de Paris, ne lui étaient ni indifférents, ni étrangers. Tout au plus les aimait-elle d’une passion un peu agressive, rehaussée de coquetteries, bouderies, approches stratégiques et danses de guerre. Le peu qu’elle goûtait de Paris, tous les deux ans environ, l’approvisionnait pour le reste du temps. Elle revenait chez nous lourde de chocolat en barre, de denrées exotiques et d’étoffes en coupons, mais surtout de programmes de spectacles et d’essence à la violette, et elle commençait de nous peindre Paris dont tous les attraits étaient à sa mesure, puisqu’elle ne dédaignait rien.  En une semaine elle avait visité la momie exhumée, le musée agrandi, le nouveau magasin, entendu le ténor et la conférence sur la Musique birmane . Elle rapportait un manteau modeste, des bas d’usage, des gants très chers.  Surtout elle nous rapportait son regard gris voltigeant, son teint vermeil que la fatigue rougissait, elle revenait ailes battantes, inquiète de tout ce qui, privé d’elle, perdait la chaleur et le goût de vivre.'"
      ]
     },
     "execution_count": 77,
     "metadata": {},
     "output_type": "execute_result"
    }
   ],
   "source": [
    "clean_text(colette_sido_extract)"
   ]
  },
  {
   "cell_type": "code",
   "execution_count": 78,
   "metadata": {},
   "outputs": [
    {
     "name": "stdout",
     "output_type": "stream",
     "text": [
      "\u001b[5m\u001b[36m–\u001b[0m et \u001b[5m\u001b[36mpourquoi\u001b[0m cesser je d’ être \u001b[1m\u001b[31mde\u001b[0m \u001b[5m\u001b[36mmon\u001b[0m village ? \u001b[1m\u001b[31mil\u001b[0m n’ \u001b[1m\u001b[31my\u001b[0m \u001b[5m\u001b[36mfaut\u001b[0m \u001b[1m\u001b[31mpas\u001b[0m compter . \u001b[5m\u001b[36mte\u001b[0m \u001b[5m\u001b[36mvoilà\u001b[0m \u001b[5m\u001b[36mbien\u001b[0m fière , \u001b[5m\u001b[36mmon\u001b[0m \u001b[5m\u001b[36mpauvre\u001b[0m minet - chéri , \u001b[5m\u001b[36mparce\u001b[0m que tu habiter pari \u001b[5m\u001b[36mdepuis\u001b[0m \u001b[1m\u001b[31mton\u001b[0m \u001b[5m\u001b[36mmariage\u001b[0m . je ne \u001b[1m\u001b[31mpeux\u001b[0m \u001b[1m\u001b[31mpas\u001b[0m m’ empêcher \u001b[1m\u001b[31mde\u001b[0m \u001b[1m\u001b[31mrire\u001b[0m \u001b[5m\u001b[36men\u001b[0m constater combien tout \u001b[5m\u001b[36mles\u001b[0m parisien \u001b[5m\u001b[36msont\u001b[0m fier d’ habiter pari , \u001b[5m\u001b[36mles\u001b[0m vrai \u001b[5m\u001b[36mparce\u001b[0m \u001b[1m\u001b[31mqu’\u001b[0m \u001b[1m\u001b[31mils\u001b[0m assimiler cela \u001b[1m\u001b[31mà\u001b[0m \u001b[5m\u001b[36mun\u001b[0m titre nobiliaire , \u001b[5m\u001b[36mles\u001b[0m \u001b[5m\u001b[36mfaux\u001b[0m \u001b[5m\u001b[36mparce\u001b[0m \u001b[1m\u001b[31mqu’\u001b[0m \u001b[1m\u001b[31mils\u001b[0m s’ \u001b[5m\u001b[36mimaginent\u001b[0m \u001b[5m\u001b[36mavoir\u001b[0m monté \u001b[5m\u001b[36men\u001b[0m grade . \u001b[1m\u001b[31mà\u001b[0m ce \u001b[5m\u001b[36mcompte\u001b[0m - \u001b[5m\u001b[36mlà\u001b[0m , je \u001b[1m\u001b[31mpourrais\u001b[0m \u001b[5m\u001b[36mme\u001b[0m vanter que \u001b[5m\u001b[36mma\u001b[0m mère \u001b[5m\u001b[36mest\u001b[0m née boulevard bonne-nouvelle ! toi , \u001b[5m\u001b[36mte\u001b[0m \u001b[5m\u001b[36mvoilà\u001b[0m \u001b[1m\u001b[31mcomme\u001b[0m \u001b[5m\u001b[36mle\u001b[0m pou \u001b[1m\u001b[31msur\u001b[0m \u001b[5m\u001b[36mses\u001b[0m \u001b[1m\u001b[31mpieds\u001b[0m \u001b[1m\u001b[31mde\u001b[0m derrière \u001b[5m\u001b[36mparce\u001b[0m que tu \u001b[5m\u001b[36mas\u001b[0m épousé \u001b[5m\u001b[36mun\u001b[0m parisien . et \u001b[1m\u001b[31mquand\u001b[0m je \u001b[1m\u001b[31mdis\u001b[0m \u001b[5m\u001b[36mun\u001b[0m parisien ... \u001b[5m\u001b[36mles\u001b[0m vrai parisien d’ origine \u001b[5m\u001b[36mont\u001b[0m \u001b[5m\u001b[36mmoins\u001b[0m \u001b[1m\u001b[31mde\u001b[0m \u001b[1m\u001b[31mcaractère\u001b[0m \u001b[1m\u001b[31mdans\u001b[0m \u001b[5m\u001b[36mla\u001b[0m physionomie . on \u001b[1m\u001b[31mdirait\u001b[0m que pari \u001b[5m\u001b[36mles\u001b[0m effacer !   \u001b[5m\u001b[36melle\u001b[0m s’ \u001b[5m\u001b[36minterrompait\u001b[0m , lever \u001b[5m\u001b[36mle\u001b[0m rideau \u001b[1m\u001b[31mde\u001b[0m tulle \u001b[5m\u001b[36mqui\u001b[0m voiler \u001b[5m\u001b[36mla\u001b[0m fenêtre :   \u001b[5m\u001b[36m–\u001b[0m ah ! voici \u001b[5m\u001b[36mmlle\u001b[0m thévenin \u001b[5m\u001b[36mqui\u001b[0m promène \u001b[5m\u001b[36men\u001b[0m triomphe , \u001b[1m\u001b[31mdans\u001b[0m tout \u001b[5m\u001b[36mles\u001b[0m \u001b[1m\u001b[31mrues\u001b[0m , \u001b[5m\u001b[36msa\u001b[0m \u001b[5m\u001b[36mcousine\u001b[0m \u001b[1m\u001b[31mde\u001b[0m pari . \u001b[5m\u001b[36melle\u001b[0m n’ \u001b[5m\u001b[36ma\u001b[0m \u001b[1m\u001b[31mpas\u001b[0m \u001b[1m\u001b[31mbesoin\u001b[0m \u001b[1m\u001b[31mde\u001b[0m \u001b[5m\u001b[36mle\u001b[0m \u001b[1m\u001b[31mdire\u001b[0m , que ce \u001b[5m\u001b[36mdame\u001b[0m quériot \u001b[1m\u001b[31mvient\u001b[0m \u001b[1m\u001b[31mde\u001b[0m pari : \u001b[5m\u001b[36mbeaucoup\u001b[0m \u001b[1m\u001b[31mde\u001b[0m sein , \u001b[5m\u001b[36mles\u001b[0m \u001b[1m\u001b[31mpieds\u001b[0m petit , et \u001b[1m\u001b[31mdes\u001b[0m cheville \u001b[1m\u001b[31mtrop\u001b[0m fragile \u001b[5m\u001b[36mpour\u001b[0m \u001b[5m\u001b[36mle\u001b[0m poids \u001b[1m\u001b[31mdu\u001b[0m corps ; deux \u001b[1m\u001b[31mou\u001b[0m trois chaîne \u001b[1m\u001b[31mde\u001b[0m cou , \u001b[5m\u001b[36mles\u001b[0m cheveu très \u001b[5m\u001b[36mbien\u001b[0m coiffé ... \u001b[1m\u001b[31mil\u001b[0m ne m’ \u001b[5m\u001b[36men\u001b[0m \u001b[5m\u001b[36mfaut\u001b[0m \u001b[1m\u001b[31mpas\u001b[0m \u001b[1m\u001b[31mtant\u001b[0m \u001b[5m\u001b[36mpour\u001b[0m \u001b[5m\u001b[36msavoir\u001b[0m que ce \u001b[5m\u001b[36mdame\u001b[0m quériot \u001b[5m\u001b[36mest\u001b[0m caissièr \u001b[1m\u001b[31mdans\u001b[0m \u001b[5m\u001b[36mun\u001b[0m grand café. \u001b[5m\u001b[36mune\u001b[0m caissière parisien ne pare que \u001b[5m\u001b[36msa\u001b[0m \u001b[1m\u001b[31mtête\u001b[0m et \u001b[5m\u001b[36mson\u001b[0m buste , \u001b[5m\u001b[36mle\u001b[0m \u001b[5m\u001b[36mreste\u001b[0m ne \u001b[1m\u001b[31mvoit\u001b[0m guère \u001b[5m\u001b[36mle\u001b[0m \u001b[1m\u001b[31mjour\u001b[0m . \u001b[5m\u001b[36men\u001b[0m outre , \u001b[5m\u001b[36melle\u001b[0m ne marche \u001b[1m\u001b[31mpas\u001b[0m assez et engraisse \u001b[1m\u001b[31mde\u001b[0m l’ estomac . tu \u001b[1m\u001b[31mverras\u001b[0m \u001b[5m\u001b[36mbeaucoup\u001b[0m , \u001b[1m\u001b[31mà\u001b[0m pari , ce modèle \u001b[1m\u001b[31mde\u001b[0m femme - tronc .   \u001b[1m\u001b[31mainsi\u001b[0m \u001b[1m\u001b[31mparlait\u001b[0m \u001b[5m\u001b[36mma\u001b[0m mère , \u001b[1m\u001b[31mquand\u001b[0m \u001b[5m\u001b[36mj’\u001b[0m \u001b[1m\u001b[31métais\u001b[0m \u001b[1m\u001b[31mmoi\u001b[0m - \u001b[5m\u001b[36mmême\u001b[0m , autrefois , \u001b[5m\u001b[36mune\u001b[0m \u001b[1m\u001b[31mtrès\u001b[0m \u001b[5m\u001b[36mjeune\u001b[0m femme . \u001b[1m\u001b[31mmais\u001b[0m \u001b[5m\u001b[36melle\u001b[0m \u001b[5m\u001b[36mavait\u001b[0m commencé , \u001b[5m\u001b[36mbien\u001b[0m \u001b[1m\u001b[31mavant\u001b[0m \u001b[5m\u001b[36mmon\u001b[0m \u001b[5m\u001b[36mmariage\u001b[0m , \u001b[1m\u001b[31mde\u001b[0m donner \u001b[5m\u001b[36mle\u001b[0m \u001b[1m\u001b[31mpas\u001b[0m \u001b[1m\u001b[31mà\u001b[0m \u001b[5m\u001b[36mla\u001b[0m province \u001b[1m\u001b[31msur\u001b[0m pari . \u001b[5m\u001b[36mmon\u001b[0m enfance \u001b[5m\u001b[36mavait\u001b[0m \u001b[1m\u001b[31mretenu\u001b[0m \u001b[5m\u001b[36mdes\u001b[0m sentence , excommunicatoire \u001b[5m\u001b[36mle\u001b[0m \u001b[1m\u001b[31mplus\u001b[0m souvent , \u001b[1m\u001b[31mqu’\u001b[0m \u001b[5m\u001b[36melle\u001b[0m lançait avec \u001b[5m\u001b[36mune\u001b[0m \u001b[5m\u001b[36mforce\u001b[0m d’ accent singulièr . \u001b[1m\u001b[31moù\u001b[0m prendre \u001b[5m\u001b[36m-elle\u001b[0m \u001b[5m\u001b[36mleur\u001b[0m autorité , \u001b[5m\u001b[36mleur\u001b[0m suc , \u001b[5m\u001b[36melle\u001b[0m \u001b[5m\u001b[36mqui\u001b[0m ne \u001b[1m\u001b[31mquittait\u001b[0m \u001b[1m\u001b[31mpas\u001b[0m , trois \u001b[5m\u001b[36mfois\u001b[0m l’ an , \u001b[5m\u001b[36mson\u001b[0m département ? d’ \u001b[1m\u001b[31moù\u001b[0m \u001b[5m\u001b[36mlui\u001b[0m \u001b[1m\u001b[31mvenait\u001b[0m \u001b[5m\u001b[36mle\u001b[0m \u001b[1m\u001b[31mdon\u001b[0m \u001b[1m\u001b[31mde\u001b[0m définir , \u001b[1m\u001b[31mde\u001b[0m pénétrer , et ce forme décrétal \u001b[1m\u001b[31mde\u001b[0m l’ observation ?   ne l’ eussé-je \u001b[1m\u001b[31mpas\u001b[0m \u001b[1m\u001b[31mtenu\u001b[0m d’ \u001b[5m\u001b[36melle\u001b[0m , \u001b[1m\u001b[31mqu’\u001b[0m \u001b[5m\u001b[36melle\u001b[0m m’ eût \u001b[1m\u001b[31mdonné\u001b[0m , je \u001b[1m\u001b[31mcrois\u001b[0m , l’ \u001b[1m\u001b[31mamour\u001b[0m \u001b[1m\u001b[31mde\u001b[0m \u001b[5m\u001b[36mla\u001b[0m province , \u001b[1m\u001b[31msi\u001b[0m \u001b[1m\u001b[31mpar\u001b[0m province on n’ \u001b[5m\u001b[36mentend\u001b[0m \u001b[1m\u001b[31mpas\u001b[0m \u001b[5m\u001b[36mseulement\u001b[0m \u001b[5m\u001b[36mun\u001b[0m \u001b[1m\u001b[31mlieu\u001b[0m , \u001b[5m\u001b[36mune\u001b[0m région éloignés \u001b[1m\u001b[31mde\u001b[0m \u001b[5m\u001b[36mla\u001b[0m capitale , \u001b[1m\u001b[31mmais\u001b[0m \u001b[5m\u001b[36mun\u001b[0m esprit \u001b[1m\u001b[31mde\u001b[0m caste , \u001b[5m\u001b[36mune\u001b[0m pureté obligatoire \u001b[1m\u001b[31mdes\u001b[0m mœur , l’ orgueil d’ habiter \u001b[5m\u001b[36mune\u001b[0m demeure \u001b[1m\u001b[31mancienne\u001b[0m , honorée , close \u001b[1m\u001b[31mde\u001b[0m \u001b[5m\u001b[36mpartout\u001b[0m , \u001b[1m\u001b[31mmais\u001b[0m que l’ on \u001b[1m\u001b[31mpeut\u001b[0m \u001b[5m\u001b[36mouvrir\u001b[0m \u001b[1m\u001b[31mà\u001b[0m tout moment \u001b[1m\u001b[31msur\u001b[0m \u001b[5m\u001b[36mses\u001b[0m grenier aérés , \u001b[5m\u001b[36mson\u001b[0m fenil emplir , \u001b[5m\u001b[36mses\u001b[0m maître façonné \u001b[1m\u001b[31mà\u001b[0m l’ usage et \u001b[1m\u001b[31mà\u001b[0m \u001b[5m\u001b[36mla\u001b[0m dignité \u001b[1m\u001b[31mde\u001b[0m \u001b[5m\u001b[36mleur\u001b[0m \u001b[5m\u001b[36mmaison\u001b[0m .   \u001b[5m\u001b[36men\u001b[0m vrai provincial , \u001b[5m\u001b[36mma\u001b[0m \u001b[1m\u001b[31mcharmante\u001b[0m mère , « sido » , \u001b[1m\u001b[31mtenait\u001b[0m souvent \u001b[5m\u001b[36mses\u001b[0m \u001b[5m\u001b[36myeux\u001b[0m \u001b[1m\u001b[31mde\u001b[0m l’ âme fixé \u001b[1m\u001b[31msur\u001b[0m pari . théâtres \u001b[1m\u001b[31mde\u001b[0m pari , mode , fête \u001b[1m\u001b[31mde\u001b[0m pari , ne \u001b[5m\u001b[36mlui\u001b[0m étaier \u001b[5m\u001b[36mni\u001b[0m indifférent , \u001b[5m\u001b[36mni\u001b[0m étranger . tout au \u001b[1m\u001b[31mplus\u001b[0m \u001b[5m\u001b[36mles\u001b[0m aimer \u001b[5m\u001b[36m-elle\u001b[0m d’ \u001b[5m\u001b[36mune\u001b[0m \u001b[1m\u001b[31mpassion\u001b[0m \u001b[5m\u001b[36mun\u001b[0m \u001b[5m\u001b[36mpeu\u001b[0m agressif , rehaussée \u001b[1m\u001b[31mde\u001b[0m coquetterie , bouderie , approche stratégique et danse \u001b[1m\u001b[31mde\u001b[0m \u001b[1m\u001b[31mguerre\u001b[0m . \u001b[5m\u001b[36mle\u001b[0m \u001b[5m\u001b[36mpeu\u001b[0m \u001b[1m\u001b[31mqu’\u001b[0m \u001b[5m\u001b[36melle\u001b[0m goûter \u001b[1m\u001b[31mde\u001b[0m pari , tout \u001b[5m\u001b[36mles\u001b[0m deux an \u001b[1m\u001b[31menviron\u001b[0m , l’ approvisionner \u001b[5m\u001b[36mpour\u001b[0m \u001b[5m\u001b[36mle\u001b[0m \u001b[5m\u001b[36mreste\u001b[0m \u001b[1m\u001b[31mdu\u001b[0m \u001b[5m\u001b[36mtemps\u001b[0m . \u001b[5m\u001b[36melle\u001b[0m \u001b[1m\u001b[31mrevenait\u001b[0m chez nous lourd \u001b[1m\u001b[31mde\u001b[0m chocolat \u001b[5m\u001b[36men\u001b[0m barre , \u001b[1m\u001b[31mde\u001b[0m denrée exotique et d’ étoffe \u001b[5m\u001b[36men\u001b[0m coupon , \u001b[1m\u001b[31mmais\u001b[0m surtout \u001b[1m\u001b[31mde\u001b[0m programme \u001b[1m\u001b[31mde\u001b[0m spectacle et d’ essence \u001b[1m\u001b[31mà\u001b[0m \u001b[5m\u001b[36mla\u001b[0m violette , et \u001b[5m\u001b[36melle\u001b[0m commençer \u001b[1m\u001b[31mde\u001b[0m nous peindre pari \u001b[1m\u001b[31mdont\u001b[0m tout \u001b[5m\u001b[36mles\u001b[0m attrait étaier \u001b[1m\u001b[31mà\u001b[0m \u001b[5m\u001b[36msa\u001b[0m \u001b[5m\u001b[36mmesure\u001b[0m , puisqu’ \u001b[5m\u001b[36melle\u001b[0m ne dédaigner \u001b[1m\u001b[31mrien\u001b[0m .   \u001b[5m\u001b[36men\u001b[0m \u001b[5m\u001b[36mune\u001b[0m \u001b[5m\u001b[36msemaine\u001b[0m \u001b[5m\u001b[36melle\u001b[0m \u001b[5m\u001b[36mavait\u001b[0m visité \u001b[5m\u001b[36mla\u001b[0m momie exhumée , \u001b[5m\u001b[36mle\u001b[0m musée agrandi , \u001b[5m\u001b[36mle\u001b[0m nouveau magasin , \u001b[5m\u001b[36mentendu\u001b[0m \u001b[5m\u001b[36mle\u001b[0m ténor et \u001b[5m\u001b[36mla\u001b[0m conférence \u001b[1m\u001b[31msur\u001b[0m \u001b[5m\u001b[36mla\u001b[0m musique birman . \u001b[5m\u001b[36melle\u001b[0m rapporter \u001b[5m\u001b[36mun\u001b[0m manteau modeste , \u001b[5m\u001b[36mdes\u001b[0m \u001b[5m\u001b[36mbas\u001b[0m d’ usage , \u001b[5m\u001b[36mdes\u001b[0m gant très \u001b[1m\u001b[31mchers\u001b[0m .   surtout \u001b[5m\u001b[36melle\u001b[0m nous rapporter \u001b[5m\u001b[36mson\u001b[0m regard \u001b[5m\u001b[36mgris\u001b[0m voltiger , \u001b[5m\u001b[36mson\u001b[0m teint vermeil que \u001b[5m\u001b[36mla\u001b[0m fatigue \u001b[1m\u001b[31mrougissait\u001b[0m , \u001b[5m\u001b[36melle\u001b[0m \u001b[1m\u001b[31mrevenait\u001b[0m aile battant , inquiète \u001b[1m\u001b[31mde\u001b[0m tout ce \u001b[5m\u001b[36mqui\u001b[0m , privé d’ \u001b[5m\u001b[36melle\u001b[0m , \u001b[1m\u001b[31mperdait\u001b[0m \u001b[5m\u001b[36mla\u001b[0m chaleur et \u001b[5m\u001b[36mle\u001b[0m goût \u001b[1m\u001b[31mde\u001b[0m vivre .\n"
     ]
    }
   ],
   "source": [
    "print(pipeline_spacy(colette_sido_extract, coef_canon, coef_non_canon))"
   ]
  },
  {
   "cell_type": "code",
   "execution_count": null,
   "metadata": {},
   "outputs": [],
   "source": []
  },
  {
   "cell_type": "code",
   "execution_count": 85,
   "metadata": {},
   "outputs": [],
   "source": [
    "path_name = r\"test_chunk/*.txt\""
   ]
  },
  {
   "cell_type": "code",
   "execution_count": 77,
   "metadata": {},
   "outputs": [],
   "source": [
    "def pipeline_spacy_chunks(path, df_coef):\n",
    "    canonical_sum = 0\n",
    "    with open(path, encoding=\"utf8\") as file:\n",
    "        text = file.readlines()\n",
    "        text_clean = clean_text(str(text).lower())\n",
    "        docs = nlp(text_clean)\n",
    "        for token in docs:\n",
    "            #si le token est bien un mot on récupère son lemme\n",
    "            if token.lemma_ in df_coef.index:\n",
    "                coef = df_coef.loc[[token.lemma_]]\n",
    "                canonical_sum += float(coef.values)\n",
    "    return canonical_sum"
   ]
  },
  {
   "cell_type": "code",
   "execution_count": 86,
   "metadata": {},
   "outputs": [],
   "source": [
    "def moulinette(path_name, coef_fabula):\n",
    "    \n",
    "    list_canonicite = []\n",
    "    \n",
    "    for doc in glob(path_name):\n",
    "        print(doc)\n",
    "        canonicity = pipeline_spacy_chunks(doc, coef_fabula)\n",
    "        list_canonicite.append(canonicity)\n",
    "  \n",
    "    return list_canonicite"
   ]
  },
  {
   "cell_type": "code",
   "execution_count": 87,
   "metadata": {},
   "outputs": [],
   "source": [
    "list_canonicite = moulinette(path_name, coef_fabula)"
   ]
  },
  {
   "cell_type": "code",
   "execution_count": 91,
   "metadata": {},
   "outputs": [
    {
     "data": {
      "text/plain": [
       "162"
      ]
     },
     "execution_count": 91,
     "metadata": {},
     "output_type": "execute_result"
    }
   ],
   "source": [
    "len(list_canonicite)"
   ]
  },
  {
   "cell_type": "code",
   "execution_count": 89,
   "metadata": {},
   "outputs": [],
   "source": [
    "import matplotlib.pyplot as plt"
   ]
  },
  {
   "cell_type": "code",
   "execution_count": 110,
   "metadata": {},
   "outputs": [
    {
     "data": {
      "text/plain": [
       "26.546419968559363"
      ]
     },
     "execution_count": 110,
     "metadata": {},
     "output_type": "execute_result"
    }
   ],
   "source": [
    "list_canonicite[54]"
   ]
  },
  {
   "cell_type": "code",
   "execution_count": 94,
   "metadata": {},
   "outputs": [
    {
     "data": {
      "image/png": "[encoded data removed]",
      "text/plain": [
       "<Figure size 432x288 with 1 Axes>"
      ]
     },
     "metadata": {
      "needs_background": "light"
     },
     "output_type": "display_data"
    }
   ],
   "source": [
    "plt.plot(list_canonicite)\n",
    "\n",
    "plt.show()"
   ]
  },
  {
   "cell_type": "code",
   "execution_count": 95,
   "metadata": {},
   "outputs": [],
   "source": [
    "path_name_non_canon = r\"test_chunk_non_canon/*.txt\""
   ]
  },
  {
   "cell_type": "code",
   "execution_count": 96,
   "metadata": {},
   "outputs": [],
   "source": [
    "list_canonicite_non_canon = moulinette(path_name_non_canon, coef_fabula)"
   ]
  },
  {
   "cell_type": "code",
   "execution_count": 106,
   "metadata": {},
   "outputs": [
    {
     "data": {
      "image/png": "[encoded data removed]",
      "text/plain": [
       "<Figure size 720x504 with 1 Axes>"
      ]
     },
     "metadata": {
      "needs_background": "light"
     },
     "output_type": "display_data"
    }
   ],
   "source": [
    "plt.figure(figsize=(10,7))\n",
    "plt.plot(list_canonicite[0:60])\n",
    "plt.plot(list_canonicite_non_canon)\n",
    "\n",
    "plt.show()"
   ]
  },
  {
   "cell_type": "code",
   "execution_count": 111,
   "metadata": {},
   "outputs": [],
   "source": [
    "best_flaubert = \"- barthélemy est louée par les mêmes raisons que les massacres de septembre et que la faction des seize sous la ligue est exaltée au même titre que le comité de salut public dans ces divers événements l’ auteur voit l’ application d’ un principe qu’ il affirme être commun au catholicisme et à la révolution la « souveraineté du peuple c’ est même par là que le catholicisme se distingue à ses yeux du protestantisme fondé sur l’ individualisme sur la « souveraineté du moi thureau - dangin histoire de la monarchie de juillet t. vi p. qui après tout défendaient le peuple et il appelait la ligue « l’ aurore de la démocratie un grand mouvement égalitaire contre l’ individualisme des protestants frédéric était un peu surpris par ces idées elles ennuyaient cisy probablement car il mit la conversation sur les tableaux vivants du gymnase qui attiraient alors beaucoup de monde sénécal s’ en affligea de tels spectacles corrompaient les filles du prolétaire puis on les voyait étaler un luxe insolent aussi approuvait -il les étudiants bavarois qui avaient outragé lola montèslola montès était la célèbre favorite du roi de bavière à l’ instar de rousseau il faisait plus de cas de la femme d’ un charbonnier que de la maîtresse d’ un roi – vous blaguez les truffes répliqua majestueusement hussonnet et il prit la défense de ces dames en faveur de rosanette puis comme il parlait de son bal et du costume d’ arnoux – on prétend qu’ il branle dans le manche dit pellerin le marchand de tableaux venait d’ avoir un procès pour ses terrains de belleville et il était actuellement dans une compagnie de kaolin bas-breton avec d’ autres farceurs de son espèce dussardier en savait davantage car son patron à lui m. moussinot ayant été aux informations sur arnoux près du banquier oscar lefebvre celui-ci avait répondu qu’ il le jugeait peu solide connaissant quelques-uns de ses renouvellements le dessert était fini on passa dans le salon tendu comme celui de la maréchale en damas jaune et de style louis xvi pellerin blâma frédéric de n’ avoir pas choisi plutôt le style néo - grec sénécal frotta des allumettes contre les tentures deslauriers ne fit aucune observation il en fit dans la bibliothèque qu’ il appela une bibliothèque de petite fille la plupart des littérateurs contemporains s’ y trouvaient il fut impossible de parler de leurs ouvrages car hussonnet immédiatement contait des anecdotes sur leurs personnes critiquait leurs figures leurs mœurs leur costume exaltant les esprits de ordre dénigrant ceux du premier et déplorant bien entendu la décadence moderne telle chansonnette de villageois contenait à elle seule plus de poésie que tous les lyriques du xixe siècle balzac était surfait byron démoli hugo n’ entendait rien au théâtre etc. – pourquoi donc dit sénécal n’ avez -vous pas les volumes de nos poètes ouvriers et m. de cisy qui s’ occupait de littérature s’ étonna de ne pas voir sur la table de frédéric « quelques - unes de ces physiologies nouvelles physiologie du fumeur du pêcheur à la ligne de l’ employé de barrière ils arrivèrent à l’ agacer tellement qu’ il eut envie de les pousser dehors par les épaules « mais je deviens bête et prenant dussardier à l’ écart il lui demanda s’ il pouvait le servir en quelque chose le brave garçon fut attendri avec sa place de caissier il n’ avait besoin de rien ensuite frédéric emmena deslauriers dans sa chambre et tirant de son secrétaire francs – tiens mon brave empoche c’ est le reliquat de mes vieilles dettes – mais et le journal dit l’ avocat j’ en ai parlé à hussonnet tu sais bien et frédéric ayant répondu qu’ il se trouvait « un peu gêné maintenant l’ autre eut un mauvais sourire après les liqueurs on but de la bière après la bière des grogs on refuma des pipes enfin à heures du soir tous s’ en allèrent et ils marchaient les uns près des autres sans parler quand dussardier se mit à dire que frédéric les avait reçus parfaitement tous en convinrent hussonnet déclara son déjeuner un peu trop lourd sénécal critiqua la futilité de son intérieur cisy pensait de même cela manquait de « cachet absolument – moi je trouve dit pellerin qu’ il aurait bien pu me commander un tableau deslauriers se taisait en tenant dans la poche de son pantalon ses billets de banque frédéric était resté seul il pensait à ses amis et sentait entre eux et lui comme un grand fossé plein d’ ombre qui les séparait il leur avait tendu la main cependant et ils n’ avaient pas répondu à la franchise de son cœur il se rappela les mots de pellerin et de dussardier sur arnoux c’ était une invention une calomnie sans doute mais pourquoi et il aperçut mme arnoux ruinée pleurant vendant ses meubles cette idée le tourmenta toute la nuit le lendemain il se présenta chez elle ne sachant comment s’ y prendre pour communiquer ce qu’ il savait il lui demanda en manière de conversation si arnoux avait toujours ses terrains de belleville – oui toujours – il est maintenant dans une compagnie pour du kaolin de bretagne je crois – c’ est vrai – sa fabrique marche très bien n’ est -ce pas – mais je le suppose et comme il hésitait – qu’ avez -vous donc vous me faites peur il lui apprit l’ histoire des renouvellements elle baissa la tête et dit – je m’ en doutais en effet arnoux pour faire une bonne spéculation s’ était refusé à vendre ses terrains avait emprunté dessus largement et ne trouvant point d’ acquéreurs avait cru se rattraper par l’ établissement d’ une manufacture les frais avaient dépassé les devis elle n’ en savait pas davantage il éludait toute question et affirmait continuellement que ça allait très bien frédéric tâcha de la rassurer c’ étaient peut - être des\""
   ]
  },
  {
   "cell_type": "code",
   "execution_count": 115,
   "metadata": {},
   "outputs": [
    {
     "name": "stdout",
     "output_type": "stream",
     "text": [
      "nb_canon =  262 \n",
      " nb_non_canon =  287\n"
     ]
    }
   ],
   "source": [
    "txt_colored = close_reading_analysis(best_flaubert, coef_canon, coef_non_canon)"
   ]
  },
  {
   "cell_type": "code",
   "execution_count": 117,
   "metadata": {},
   "outputs": [
    {
     "name": "stdout",
     "output_type": "stream",
     "text": [
      "- barthélemy \u001b[5m\u001b[36mest\u001b[0m louée \u001b[1m\u001b[31mpar\u001b[0m \u001b[5m\u001b[36mles\u001b[0m \u001b[5m\u001b[36mmêmes\u001b[0m \u001b[1m\u001b[31mraisons\u001b[0m que \u001b[5m\u001b[36mles\u001b[0m massacres \u001b[1m\u001b[31mde\u001b[0m septembre et que \u001b[5m\u001b[36mla\u001b[0m faction \u001b[1m\u001b[31mdes\u001b[0m seize \u001b[5m\u001b[36msous\u001b[0m \u001b[5m\u001b[36mla\u001b[0m ligue \u001b[5m\u001b[36mest\u001b[0m exaltée au même titre que \u001b[5m\u001b[36mle\u001b[0m comité \u001b[1m\u001b[31mde\u001b[0m salut \u001b[5m\u001b[36mpublic\u001b[0m \u001b[1m\u001b[31mdans\u001b[0m ces divers événements l ’ auteur \u001b[1m\u001b[31mvoit\u001b[0m l ’ application d ’ \u001b[5m\u001b[36mun\u001b[0m principe qu ’ \u001b[1m\u001b[31mil\u001b[0m affirme être commun au catholicisme et \u001b[1m\u001b[31mà\u001b[0m \u001b[5m\u001b[36mla\u001b[0m révolution \u001b[5m\u001b[36mla\u001b[0m « souveraineté \u001b[1m\u001b[31mdu\u001b[0m peuple c ’ \u001b[5m\u001b[36mest\u001b[0m \u001b[5m\u001b[36mmême\u001b[0m \u001b[1m\u001b[31mpar\u001b[0m \u001b[5m\u001b[36mlà\u001b[0m que \u001b[5m\u001b[36mle\u001b[0m catholicisme \u001b[1m\u001b[31mse\u001b[0m distingue \u001b[1m\u001b[31mà\u001b[0m \u001b[5m\u001b[36mses\u001b[0m \u001b[5m\u001b[36myeux\u001b[0m \u001b[1m\u001b[31mdu\u001b[0m protestantisme fondé \u001b[1m\u001b[31msur\u001b[0m l ’ individualisme \u001b[1m\u001b[31msur\u001b[0m \u001b[5m\u001b[36mla\u001b[0m « souveraineté \u001b[1m\u001b[31mdu\u001b[0m \u001b[1m\u001b[31mmoi\u001b[0m thureau - dangin \u001b[5m\u001b[36mhistoire\u001b[0m \u001b[1m\u001b[31mde\u001b[0m \u001b[5m\u001b[36mla\u001b[0m monarchie \u001b[1m\u001b[31mde\u001b[0m juillet t. vi p. \u001b[5m\u001b[36mqui\u001b[0m \u001b[5m\u001b[36maprès\u001b[0m tout défendaient \u001b[5m\u001b[36mle\u001b[0m peuple et \u001b[1m\u001b[31mil\u001b[0m \u001b[1m\u001b[31mappelait\u001b[0m \u001b[5m\u001b[36mla\u001b[0m ligue « l ’ aurore \u001b[1m\u001b[31mde\u001b[0m \u001b[5m\u001b[36mla\u001b[0m démocratie \u001b[5m\u001b[36mun\u001b[0m grand \u001b[1m\u001b[31mmouvement\u001b[0m égalitaire \u001b[1m\u001b[31mcontre\u001b[0m l ’ individualisme \u001b[1m\u001b[31mdes\u001b[0m protestants frédéric \u001b[5m\u001b[36métait\u001b[0m \u001b[5m\u001b[36mun\u001b[0m \u001b[5m\u001b[36mpeu\u001b[0m \u001b[1m\u001b[31msurpris\u001b[0m \u001b[1m\u001b[31mpar\u001b[0m ces \u001b[1m\u001b[31midées\u001b[0m \u001b[5m\u001b[36melles\u001b[0m ennuyaient cisy probablement \u001b[1m\u001b[31mcar\u001b[0m \u001b[1m\u001b[31mil\u001b[0m mit \u001b[5m\u001b[36mla\u001b[0m \u001b[1m\u001b[31mconversation\u001b[0m \u001b[1m\u001b[31msur\u001b[0m \u001b[5m\u001b[36mles\u001b[0m tableaux vivants \u001b[1m\u001b[31mdu\u001b[0m gymnase \u001b[5m\u001b[36mqui\u001b[0m attiraient alors \u001b[5m\u001b[36mbeaucoup\u001b[0m \u001b[1m\u001b[31mde\u001b[0m \u001b[5m\u001b[36mmonde\u001b[0m sénécal s ’ \u001b[5m\u001b[36men\u001b[0m affligea \u001b[1m\u001b[31mde\u001b[0m \u001b[1m\u001b[31mtels\u001b[0m spectacles corrompaient \u001b[5m\u001b[36mles\u001b[0m filles \u001b[1m\u001b[31mdu\u001b[0m prolétaire \u001b[1m\u001b[31mpuis\u001b[0m on \u001b[5m\u001b[36mles\u001b[0m \u001b[1m\u001b[31mvoyait\u001b[0m étaler \u001b[5m\u001b[36mun\u001b[0m luxe insolent aussi approuvait \u001b[1m\u001b[31m-il\u001b[0m \u001b[5m\u001b[36mles\u001b[0m étudiants bavarois \u001b[5m\u001b[36mqui\u001b[0m \u001b[5m\u001b[36mavaient\u001b[0m outragé lola montèslola montès \u001b[1m\u001b[31métait\u001b[0m \u001b[5m\u001b[36mla\u001b[0m célèbre favorite \u001b[1m\u001b[31mdu\u001b[0m roi \u001b[1m\u001b[31mde\u001b[0m bavière \u001b[1m\u001b[31mà\u001b[0m l ’ instar \u001b[1m\u001b[31mde\u001b[0m rousseau \u001b[1m\u001b[31mil\u001b[0m faisait \u001b[1m\u001b[31mplus\u001b[0m \u001b[1m\u001b[31mde\u001b[0m cas \u001b[1m\u001b[31mde\u001b[0m \u001b[5m\u001b[36mla\u001b[0m femme d ’ \u001b[5m\u001b[36mun\u001b[0m charbonnier que \u001b[1m\u001b[31mde\u001b[0m \u001b[5m\u001b[36mla\u001b[0m \u001b[1m\u001b[31mmaîtresse\u001b[0m d ’ \u001b[5m\u001b[36mun\u001b[0m roi \u001b[5m\u001b[36m–\u001b[0m \u001b[1m\u001b[31mvous\u001b[0m blaguez \u001b[5m\u001b[36mles\u001b[0m truffes répliqua majestueusement hussonnet et \u001b[1m\u001b[31mil\u001b[0m prit \u001b[5m\u001b[36mla\u001b[0m défense \u001b[1m\u001b[31mde\u001b[0m ces \u001b[5m\u001b[36mdames\u001b[0m \u001b[5m\u001b[36men\u001b[0m faveur \u001b[1m\u001b[31mde\u001b[0m rosanette \u001b[1m\u001b[31mpuis\u001b[0m \u001b[1m\u001b[31mcomme\u001b[0m \u001b[1m\u001b[31mil\u001b[0m \u001b[1m\u001b[31mparlait\u001b[0m \u001b[1m\u001b[31mde\u001b[0m \u001b[5m\u001b[36mson\u001b[0m bal et \u001b[1m\u001b[31mdu\u001b[0m costume d ’ arnoux \u001b[5m\u001b[36m–\u001b[0m on prétend qu ’ \u001b[1m\u001b[31mil\u001b[0m branle \u001b[1m\u001b[31mdans\u001b[0m \u001b[5m\u001b[36mle\u001b[0m manche \u001b[1m\u001b[31mdit\u001b[0m pellerin \u001b[5m\u001b[36mle\u001b[0m \u001b[5m\u001b[36mmarchand\u001b[0m \u001b[1m\u001b[31mde\u001b[0m tableaux \u001b[1m\u001b[31mvenait\u001b[0m d ’ \u001b[5m\u001b[36mavoir\u001b[0m \u001b[5m\u001b[36mun\u001b[0m procès \u001b[5m\u001b[36mpour\u001b[0m \u001b[5m\u001b[36mses\u001b[0m terrains \u001b[1m\u001b[31mde\u001b[0m belleville et \u001b[1m\u001b[31mil\u001b[0m \u001b[1m\u001b[31métait\u001b[0m actuellement \u001b[1m\u001b[31mdans\u001b[0m \u001b[5m\u001b[36mune\u001b[0m compagnie \u001b[1m\u001b[31mde\u001b[0m kaolin bas-breton avec d ’ autres farceurs \u001b[1m\u001b[31mde\u001b[0m \u001b[5m\u001b[36mson\u001b[0m espèce dussardier \u001b[5m\u001b[36men\u001b[0m \u001b[5m\u001b[36msavait\u001b[0m \u001b[1m\u001b[31mdavantage\u001b[0m \u001b[1m\u001b[31mcar\u001b[0m \u001b[5m\u001b[36mson\u001b[0m patron \u001b[1m\u001b[31mà\u001b[0m \u001b[5m\u001b[36mlui\u001b[0m \u001b[5m\u001b[36mm.\u001b[0m moussinot \u001b[5m\u001b[36mayant\u001b[0m été aux informations \u001b[1m\u001b[31msur\u001b[0m arnoux \u001b[1m\u001b[31mprès\u001b[0m \u001b[1m\u001b[31mdu\u001b[0m banquier oscar lefebvre \u001b[5m\u001b[36mcelui-ci\u001b[0m \u001b[5m\u001b[36mavait\u001b[0m répondu qu ’ \u001b[1m\u001b[31mil\u001b[0m \u001b[5m\u001b[36mle\u001b[0m \u001b[1m\u001b[31mjugeait\u001b[0m \u001b[5m\u001b[36mpeu\u001b[0m solide \u001b[1m\u001b[31mconnaissant\u001b[0m quelques-uns \u001b[1m\u001b[31mde\u001b[0m \u001b[5m\u001b[36mses\u001b[0m renouvellements \u001b[5m\u001b[36mle\u001b[0m dessert \u001b[5m\u001b[36métait\u001b[0m \u001b[5m\u001b[36mfini\u001b[0m on \u001b[1m\u001b[31mpassa\u001b[0m \u001b[1m\u001b[31mdans\u001b[0m \u001b[5m\u001b[36mle\u001b[0m salon tendu \u001b[1m\u001b[31mcomme\u001b[0m \u001b[1m\u001b[31mcelui\u001b[0m \u001b[1m\u001b[31mde\u001b[0m \u001b[5m\u001b[36mla\u001b[0m maréchale \u001b[5m\u001b[36men\u001b[0m damas jaune et \u001b[1m\u001b[31mde\u001b[0m style \u001b[5m\u001b[36mlouis\u001b[0m xvi pellerin blâma frédéric \u001b[1m\u001b[31mde\u001b[0m n ’ \u001b[5m\u001b[36mavoir\u001b[0m \u001b[1m\u001b[31mpas\u001b[0m \u001b[1m\u001b[31mchoisi\u001b[0m \u001b[5m\u001b[36mplutôt\u001b[0m \u001b[5m\u001b[36mle\u001b[0m style néo - grec sénécal frotta \u001b[5m\u001b[36mdes\u001b[0m allumettes \u001b[1m\u001b[31mcontre\u001b[0m \u001b[5m\u001b[36mles\u001b[0m tentures deslauriers ne fit \u001b[1m\u001b[31maucune\u001b[0m observation \u001b[1m\u001b[31mil\u001b[0m \u001b[5m\u001b[36men\u001b[0m fit \u001b[1m\u001b[31mdans\u001b[0m \u001b[5m\u001b[36mla\u001b[0m bibliothèque qu ’ \u001b[1m\u001b[31mil\u001b[0m \u001b[1m\u001b[31mappela\u001b[0m \u001b[5m\u001b[36mune\u001b[0m bibliothèque \u001b[1m\u001b[31mde\u001b[0m petite fille \u001b[5m\u001b[36mla\u001b[0m plupart \u001b[1m\u001b[31mdes\u001b[0m littérateurs contemporains s ’ \u001b[1m\u001b[31my\u001b[0m \u001b[1m\u001b[31mtrouvaient\u001b[0m \u001b[1m\u001b[31mil\u001b[0m \u001b[5m\u001b[36mfut\u001b[0m impossible \u001b[1m\u001b[31mde\u001b[0m \u001b[1m\u001b[31mparler\u001b[0m \u001b[1m\u001b[31mde\u001b[0m \u001b[5m\u001b[36mleurs\u001b[0m ouvrages \u001b[1m\u001b[31mcar\u001b[0m hussonnet immédiatement contait \u001b[5m\u001b[36mdes\u001b[0m anecdotes \u001b[1m\u001b[31msur\u001b[0m \u001b[5m\u001b[36mleurs\u001b[0m \u001b[1m\u001b[31mpersonnes\u001b[0m critiquait \u001b[5m\u001b[36mleurs\u001b[0m \u001b[1m\u001b[31mfigures\u001b[0m \u001b[5m\u001b[36mleurs\u001b[0m mœurs \u001b[5m\u001b[36mleur\u001b[0m costume exaltant \u001b[5m\u001b[36mles\u001b[0m esprits \u001b[1m\u001b[31mde\u001b[0m \u001b[1m\u001b[31mordre\u001b[0m dénigrant \u001b[1m\u001b[31mceux\u001b[0m \u001b[1m\u001b[31mdu\u001b[0m premier et déplorant \u001b[5m\u001b[36mbien\u001b[0m \u001b[5m\u001b[36mentendu\u001b[0m \u001b[5m\u001b[36mla\u001b[0m décadence moderne \u001b[1m\u001b[31mtelle\u001b[0m chansonnette \u001b[1m\u001b[31mde\u001b[0m villageois contenait \u001b[1m\u001b[31mà\u001b[0m \u001b[5m\u001b[36melle\u001b[0m \u001b[1m\u001b[31mseule\u001b[0m \u001b[1m\u001b[31mplus\u001b[0m \u001b[1m\u001b[31mde\u001b[0m poésie que tous \u001b[5m\u001b[36mles\u001b[0m lyriques \u001b[1m\u001b[31mdu\u001b[0m xixe siècle balzac \u001b[5m\u001b[36métait\u001b[0m surfait byron démoli hugo n ’ \u001b[5m\u001b[36mentendait\u001b[0m \u001b[1m\u001b[31mrien\u001b[0m au théâtre etc. \u001b[5m\u001b[36m–\u001b[0m \u001b[5m\u001b[36mpourquoi\u001b[0m \u001b[1m\u001b[31mdonc\u001b[0m \u001b[1m\u001b[31mdit\u001b[0m sénécal n ’ \u001b[5m\u001b[36mavez\u001b[0m \u001b[1m\u001b[31m-vous\u001b[0m \u001b[1m\u001b[31mpas\u001b[0m \u001b[5m\u001b[36mles\u001b[0m volumes \u001b[1m\u001b[31mde\u001b[0m \u001b[5m\u001b[36mnos\u001b[0m poètes ouvriers et \u001b[5m\u001b[36mm.\u001b[0m \u001b[1m\u001b[31mde\u001b[0m cisy \u001b[5m\u001b[36mqui\u001b[0m s ’ occupait \u001b[1m\u001b[31mde\u001b[0m littérature s ’ étonna \u001b[1m\u001b[31mde\u001b[0m ne \u001b[1m\u001b[31mpas\u001b[0m \u001b[1m\u001b[31mvoir\u001b[0m \u001b[1m\u001b[31msur\u001b[0m \u001b[5m\u001b[36mla\u001b[0m \u001b[1m\u001b[31mtable\u001b[0m \u001b[1m\u001b[31mde\u001b[0m frédéric « \u001b[5m\u001b[36mquelques\u001b[0m - unes \u001b[1m\u001b[31mde\u001b[0m ces physiologies nouvelles physiologie \u001b[1m\u001b[31mdu\u001b[0m fumeur \u001b[1m\u001b[31mdu\u001b[0m pêcheur \u001b[1m\u001b[31mà\u001b[0m \u001b[5m\u001b[36mla\u001b[0m \u001b[5m\u001b[36mligne\u001b[0m \u001b[1m\u001b[31mde\u001b[0m l ’ employé \u001b[1m\u001b[31mde\u001b[0m barrière \u001b[1m\u001b[31mils\u001b[0m arrivèrent \u001b[1m\u001b[31mà\u001b[0m l ’ agacer \u001b[1m\u001b[31mtellement\u001b[0m qu ’ \u001b[1m\u001b[31mil\u001b[0m \u001b[5m\u001b[36meut\u001b[0m envie \u001b[1m\u001b[31mde\u001b[0m \u001b[5m\u001b[36mles\u001b[0m \u001b[1m\u001b[31mpousser\u001b[0m \u001b[1m\u001b[31mdehors\u001b[0m \u001b[1m\u001b[31mpar\u001b[0m \u001b[5m\u001b[36mles\u001b[0m \u001b[5m\u001b[36mépaules\u001b[0m « \u001b[1m\u001b[31mmais\u001b[0m je \u001b[5m\u001b[36mdeviens\u001b[0m bête et prenant dussardier \u001b[1m\u001b[31mà\u001b[0m l ’ écart \u001b[1m\u001b[31mil\u001b[0m \u001b[5m\u001b[36mlui\u001b[0m \u001b[1m\u001b[31mdemanda\u001b[0m s ’ \u001b[1m\u001b[31mil\u001b[0m \u001b[1m\u001b[31mpouvait\u001b[0m \u001b[5m\u001b[36mle\u001b[0m servir \u001b[5m\u001b[36men\u001b[0m \u001b[5m\u001b[36mquelque\u001b[0m \u001b[1m\u001b[31mchose\u001b[0m \u001b[5m\u001b[36mle\u001b[0m \u001b[1m\u001b[31mbrave\u001b[0m \u001b[1m\u001b[31mgarçon\u001b[0m \u001b[5m\u001b[36mfut\u001b[0m attendri avec \u001b[5m\u001b[36msa\u001b[0m \u001b[1m\u001b[31mplace\u001b[0m \u001b[1m\u001b[31mde\u001b[0m caissier \u001b[1m\u001b[31mil\u001b[0m n ’ \u001b[5m\u001b[36mavait\u001b[0m \u001b[1m\u001b[31mbesoin\u001b[0m \u001b[1m\u001b[31mde\u001b[0m \u001b[1m\u001b[31mrien\u001b[0m \u001b[1m\u001b[31mensuite\u001b[0m frédéric emmena deslauriers \u001b[1m\u001b[31mdans\u001b[0m \u001b[5m\u001b[36msa\u001b[0m \u001b[5m\u001b[36mchambre\u001b[0m et tirant \u001b[1m\u001b[31mde\u001b[0m \u001b[5m\u001b[36mson\u001b[0m secrétaire \u001b[1m\u001b[31mfrancs\u001b[0m \u001b[5m\u001b[36m–\u001b[0m \u001b[1m\u001b[31mtiens\u001b[0m \u001b[5m\u001b[36mmon\u001b[0m \u001b[1m\u001b[31mbrave\u001b[0m empoche c ’ \u001b[5m\u001b[36mest\u001b[0m \u001b[5m\u001b[36mle\u001b[0m reliquat \u001b[1m\u001b[31mde\u001b[0m \u001b[5m\u001b[36mmes\u001b[0m \u001b[1m\u001b[31mvieilles\u001b[0m dettes \u001b[5m\u001b[36m–\u001b[0m \u001b[1m\u001b[31mmais\u001b[0m et \u001b[5m\u001b[36mle\u001b[0m \u001b[1m\u001b[31mjournal\u001b[0m \u001b[1m\u001b[31mdit\u001b[0m l ’ avocat j ’ \u001b[5m\u001b[36men\u001b[0m \u001b[5m\u001b[36mai\u001b[0m \u001b[1m\u001b[31mparlé\u001b[0m \u001b[1m\u001b[31mà\u001b[0m hussonnet tu \u001b[5m\u001b[36msais\u001b[0m \u001b[5m\u001b[36mbien\u001b[0m et frédéric \u001b[5m\u001b[36mayant\u001b[0m répondu qu ’ \u001b[1m\u001b[31mil\u001b[0m \u001b[1m\u001b[31mse\u001b[0m \u001b[1m\u001b[31mtrouvait\u001b[0m « \u001b[5m\u001b[36mun\u001b[0m \u001b[5m\u001b[36mpeu\u001b[0m gêné \u001b[1m\u001b[31mmaintenant\u001b[0m l ’ autre \u001b[5m\u001b[36meut\u001b[0m \u001b[5m\u001b[36mun\u001b[0m \u001b[1m\u001b[31mmauvais\u001b[0m \u001b[1m\u001b[31msourire\u001b[0m \u001b[5m\u001b[36maprès\u001b[0m \u001b[5m\u001b[36mles\u001b[0m liqueurs on \u001b[5m\u001b[36mbut\u001b[0m \u001b[1m\u001b[31mde\u001b[0m \u001b[5m\u001b[36mla\u001b[0m bière \u001b[5m\u001b[36maprès\u001b[0m \u001b[5m\u001b[36mla\u001b[0m bière \u001b[1m\u001b[31mdes\u001b[0m grogs on refuma \u001b[1m\u001b[31mdes\u001b[0m pipes enfin \u001b[1m\u001b[31mà\u001b[0m \u001b[1m\u001b[31mheures\u001b[0m \u001b[1m\u001b[31mdu\u001b[0m soir tous s ’ \u001b[5m\u001b[36men\u001b[0m allèrent et \u001b[1m\u001b[31mils\u001b[0m \u001b[5m\u001b[36mmarchaient\u001b[0m \u001b[5m\u001b[36mles\u001b[0m \u001b[5m\u001b[36muns\u001b[0m \u001b[1m\u001b[31mprès\u001b[0m \u001b[1m\u001b[31mdes\u001b[0m autres \u001b[1m\u001b[31msans\u001b[0m \u001b[1m\u001b[31mparler\u001b[0m \u001b[1m\u001b[31mquand\u001b[0m dussardier \u001b[1m\u001b[31mse\u001b[0m mit \u001b[1m\u001b[31mà\u001b[0m \u001b[1m\u001b[31mdire\u001b[0m que frédéric \u001b[5m\u001b[36mles\u001b[0m \u001b[5m\u001b[36mavait\u001b[0m \u001b[5m\u001b[36mreçus\u001b[0m \u001b[5m\u001b[36mparfaitement\u001b[0m tous \u001b[5m\u001b[36men\u001b[0m \u001b[1m\u001b[31mconvinrent\u001b[0m hussonnet déclara \u001b[5m\u001b[36mson\u001b[0m déjeuner \u001b[5m\u001b[36mun\u001b[0m \u001b[5m\u001b[36mpeu\u001b[0m \u001b[1m\u001b[31mtrop\u001b[0m lourd sénécal critiqua \u001b[5m\u001b[36mla\u001b[0m futilité \u001b[1m\u001b[31mde\u001b[0m \u001b[5m\u001b[36mson\u001b[0m intérieur cisy \u001b[5m\u001b[36mpensait\u001b[0m \u001b[1m\u001b[31mde\u001b[0m même cela \u001b[5m\u001b[36mmanquait\u001b[0m \u001b[1m\u001b[31mde\u001b[0m « cachet absolument \u001b[5m\u001b[36m–\u001b[0m \u001b[1m\u001b[31mmoi\u001b[0m je \u001b[5m\u001b[36mtrouve\u001b[0m \u001b[1m\u001b[31mdit\u001b[0m pellerin qu ’ \u001b[1m\u001b[31mil\u001b[0m \u001b[5m\u001b[36maurait\u001b[0m \u001b[5m\u001b[36mbien\u001b[0m \u001b[1m\u001b[31mpu\u001b[0m \u001b[5m\u001b[36mme\u001b[0m commander \u001b[5m\u001b[36mun\u001b[0m tableau deslauriers \u001b[1m\u001b[31mse\u001b[0m taisait \u001b[5m\u001b[36men\u001b[0m \u001b[1m\u001b[31mtenant\u001b[0m \u001b[1m\u001b[31mdans\u001b[0m \u001b[5m\u001b[36mla\u001b[0m \u001b[1m\u001b[31mpoche\u001b[0m \u001b[1m\u001b[31mde\u001b[0m \u001b[5m\u001b[36mson\u001b[0m pantalon \u001b[5m\u001b[36mses\u001b[0m \u001b[1m\u001b[31mbillets\u001b[0m \u001b[1m\u001b[31mde\u001b[0m banque frédéric \u001b[5m\u001b[36métait\u001b[0m resté \u001b[1m\u001b[31mseul\u001b[0m \u001b[1m\u001b[31mil\u001b[0m \u001b[5m\u001b[36mpensait\u001b[0m \u001b[1m\u001b[31mà\u001b[0m \u001b[5m\u001b[36mses\u001b[0m \u001b[5m\u001b[36mamis\u001b[0m et \u001b[1m\u001b[31msentait\u001b[0m \u001b[1m\u001b[31mentre\u001b[0m \u001b[5m\u001b[36meux\u001b[0m et \u001b[5m\u001b[36mlui\u001b[0m \u001b[1m\u001b[31mcomme\u001b[0m \u001b[5m\u001b[36mun\u001b[0m grand fossé plein d ’ \u001b[1m\u001b[31mombre\u001b[0m \u001b[5m\u001b[36mqui\u001b[0m \u001b[5m\u001b[36mles\u001b[0m séparait \u001b[1m\u001b[31mil\u001b[0m \u001b[5m\u001b[36mleur\u001b[0m \u001b[5m\u001b[36mavait\u001b[0m tendu \u001b[5m\u001b[36mla\u001b[0m \u001b[1m\u001b[31mmain\u001b[0m \u001b[5m\u001b[36mcependant\u001b[0m et \u001b[1m\u001b[31mils\u001b[0m n ’ \u001b[5m\u001b[36mavaient\u001b[0m \u001b[1m\u001b[31mpas\u001b[0m répondu \u001b[1m\u001b[31mà\u001b[0m \u001b[5m\u001b[36mla\u001b[0m franchise \u001b[1m\u001b[31mde\u001b[0m \u001b[5m\u001b[36mson\u001b[0m cœur \u001b[1m\u001b[31mil\u001b[0m \u001b[1m\u001b[31mse\u001b[0m \u001b[5m\u001b[36mrappela\u001b[0m \u001b[5m\u001b[36mles\u001b[0m \u001b[1m\u001b[31mmots\u001b[0m \u001b[1m\u001b[31mde\u001b[0m pellerin et \u001b[1m\u001b[31mde\u001b[0m dussardier \u001b[1m\u001b[31msur\u001b[0m arnoux c ’ \u001b[1m\u001b[31métait\u001b[0m \u001b[5m\u001b[36mune\u001b[0m invention \u001b[5m\u001b[36mune\u001b[0m calomnie \u001b[1m\u001b[31msans\u001b[0m \u001b[1m\u001b[31mdoute\u001b[0m \u001b[1m\u001b[31mmais\u001b[0m \u001b[5m\u001b[36mpourquoi\u001b[0m et \u001b[1m\u001b[31mil\u001b[0m \u001b[1m\u001b[31maperçut\u001b[0m \u001b[1m\u001b[31mmme\u001b[0m arnoux ruinée \u001b[5m\u001b[36mpleurant\u001b[0m vendant \u001b[5m\u001b[36mses\u001b[0m meubles cette \u001b[1m\u001b[31midée\u001b[0m \u001b[5m\u001b[36mle\u001b[0m tourmenta toute \u001b[5m\u001b[36mla\u001b[0m nuit \u001b[5m\u001b[36mle\u001b[0m \u001b[5m\u001b[36mlendemain\u001b[0m \u001b[1m\u001b[31mil\u001b[0m \u001b[1m\u001b[31mse\u001b[0m \u001b[5m\u001b[36mprésenta\u001b[0m chez \u001b[5m\u001b[36melle\u001b[0m ne \u001b[5m\u001b[36msachant\u001b[0m \u001b[5m\u001b[36mcomment\u001b[0m s ’ \u001b[1m\u001b[31my\u001b[0m prendre \u001b[5m\u001b[36mpour\u001b[0m communiquer ce qu ’ \u001b[1m\u001b[31mil\u001b[0m \u001b[5m\u001b[36msavait\u001b[0m \u001b[1m\u001b[31mil\u001b[0m \u001b[5m\u001b[36mlui\u001b[0m \u001b[1m\u001b[31mdemanda\u001b[0m \u001b[5m\u001b[36men\u001b[0m manière \u001b[1m\u001b[31mde\u001b[0m \u001b[1m\u001b[31mconversation\u001b[0m \u001b[1m\u001b[31msi\u001b[0m arnoux \u001b[5m\u001b[36mavait\u001b[0m \u001b[1m\u001b[31mtoujours\u001b[0m \u001b[5m\u001b[36mses\u001b[0m terrains \u001b[1m\u001b[31mde\u001b[0m belleville \u001b[5m\u001b[36m–\u001b[0m \u001b[5m\u001b[36moui\u001b[0m \u001b[1m\u001b[31mtoujours\u001b[0m \u001b[5m\u001b[36m–\u001b[0m \u001b[1m\u001b[31mil\u001b[0m \u001b[5m\u001b[36mest\u001b[0m \u001b[1m\u001b[31mmaintenant\u001b[0m \u001b[1m\u001b[31mdans\u001b[0m \u001b[5m\u001b[36mune\u001b[0m compagnie \u001b[5m\u001b[36mpour\u001b[0m \u001b[1m\u001b[31mdu\u001b[0m kaolin \u001b[1m\u001b[31mde\u001b[0m bretagne je \u001b[1m\u001b[31mcrois\u001b[0m \u001b[5m\u001b[36m–\u001b[0m c ’ \u001b[5m\u001b[36mest\u001b[0m vrai \u001b[5m\u001b[36m–\u001b[0m \u001b[5m\u001b[36msa\u001b[0m fabrique marche très \u001b[5m\u001b[36mbien\u001b[0m n ’ \u001b[5m\u001b[36mest\u001b[0m \u001b[5m\u001b[36m-ce\u001b[0m \u001b[1m\u001b[31mpas\u001b[0m \u001b[5m\u001b[36m–\u001b[0m \u001b[1m\u001b[31mmais\u001b[0m je \u001b[5m\u001b[36mle\u001b[0m suppose et \u001b[1m\u001b[31mcomme\u001b[0m \u001b[1m\u001b[31mil\u001b[0m hésitait \u001b[5m\u001b[36m–\u001b[0m qu ’ \u001b[5m\u001b[36mavez\u001b[0m \u001b[1m\u001b[31m-vous\u001b[0m \u001b[1m\u001b[31mdonc\u001b[0m \u001b[1m\u001b[31mvous\u001b[0m \u001b[5m\u001b[36mme\u001b[0m faites \u001b[5m\u001b[36mpeur\u001b[0m \u001b[1m\u001b[31mil\u001b[0m \u001b[5m\u001b[36mlui\u001b[0m \u001b[5m\u001b[36mapprit\u001b[0m l ’ \u001b[5m\u001b[36mhistoire\u001b[0m \u001b[1m\u001b[31mdes\u001b[0m renouvellements \u001b[5m\u001b[36melle\u001b[0m \u001b[1m\u001b[31mbaissa\u001b[0m \u001b[5m\u001b[36mla\u001b[0m \u001b[1m\u001b[31mtête\u001b[0m et \u001b[1m\u001b[31mdit\u001b[0m \u001b[5m\u001b[36m–\u001b[0m je m ’ \u001b[5m\u001b[36men\u001b[0m doutais \u001b[5m\u001b[36men\u001b[0m \u001b[1m\u001b[31meffet\u001b[0m arnoux \u001b[5m\u001b[36mpour\u001b[0m faire \u001b[5m\u001b[36mune\u001b[0m \u001b[5m\u001b[36mbonne\u001b[0m spéculation s ’ \u001b[1m\u001b[31métait\u001b[0m refusé \u001b[1m\u001b[31mà\u001b[0m vendre \u001b[5m\u001b[36mses\u001b[0m terrains \u001b[5m\u001b[36mavait\u001b[0m emprunté dessus largement et ne \u001b[1m\u001b[31mtrouvant\u001b[0m \u001b[1m\u001b[31mpoint\u001b[0m d ’ acquéreurs \u001b[5m\u001b[36mavait\u001b[0m \u001b[1m\u001b[31mcru\u001b[0m \u001b[1m\u001b[31mse\u001b[0m rattraper \u001b[1m\u001b[31mpar\u001b[0m l ’ établissement d ’ \u001b[5m\u001b[36mune\u001b[0m manufacture \u001b[5m\u001b[36mles\u001b[0m frais \u001b[5m\u001b[36mavaient\u001b[0m dépassé \u001b[5m\u001b[36mles\u001b[0m devis \u001b[5m\u001b[36melle\u001b[0m n ’ \u001b[5m\u001b[36men\u001b[0m \u001b[5m\u001b[36msavait\u001b[0m \u001b[1m\u001b[31mpas\u001b[0m \u001b[1m\u001b[31mdavantage\u001b[0m \u001b[1m\u001b[31mil\u001b[0m éludait toute \u001b[1m\u001b[31mquestion\u001b[0m et affirmait continuellement que \u001b[1m\u001b[31mça\u001b[0m \u001b[5m\u001b[36mallait\u001b[0m très \u001b[5m\u001b[36mbien\u001b[0m frédéric tâcha \u001b[1m\u001b[31mde\u001b[0m \u001b[5m\u001b[36mla\u001b[0m rassurer c ’ étaient \u001b[1m\u001b[31mpeut\u001b[0m - être \u001b[1m\u001b[31mdes\u001b[0m\n"
     ]
    }
   ],
   "source": [
    "print(txt_colored)"
   ]
  },
  {
   "cell_type": "code",
   "execution_count": 125,
   "metadata": {},
   "outputs": [
    {
     "name": "stdout",
     "output_type": "stream",
     "text": [
      "nb_canon =  182 \n",
      " nb_non_canon =  138\n",
      "\u001b[5m\u001b[36m–\u001b[0m et \u001b[5m\u001b[36mpourquoi\u001b[0m cesserais -je d’ être \u001b[1m\u001b[31mde\u001b[0m \u001b[5m\u001b[36mmon\u001b[0m village ? \u001b[1m\u001b[31mil\u001b[0m n’ \u001b[1m\u001b[31my\u001b[0m \u001b[5m\u001b[36mfaut\u001b[0m \u001b[1m\u001b[31mpas\u001b[0m compter . \u001b[5m\u001b[36mte\u001b[0m \u001b[5m\u001b[36mvoilà\u001b[0m \u001b[5m\u001b[36mbien\u001b[0m fière , \u001b[5m\u001b[36mmon\u001b[0m \u001b[5m\u001b[36mpauvre\u001b[0m minet - chéri , \u001b[5m\u001b[36mparce\u001b[0m que tu habites paris \u001b[5m\u001b[36mdepuis\u001b[0m \u001b[1m\u001b[31mton\u001b[0m \u001b[5m\u001b[36mmariage\u001b[0m . je ne \u001b[1m\u001b[31mpeux\u001b[0m \u001b[1m\u001b[31mpas\u001b[0m m’ empêcher \u001b[1m\u001b[31mde\u001b[0m \u001b[1m\u001b[31mrire\u001b[0m \u001b[5m\u001b[36men\u001b[0m constatant combien tous \u001b[5m\u001b[36mles\u001b[0m parisiens \u001b[5m\u001b[36msont\u001b[0m fiers d’ habiter paris , \u001b[5m\u001b[36mles\u001b[0m vrais \u001b[5m\u001b[36mparce\u001b[0m \u001b[1m\u001b[31mqu’\u001b[0m \u001b[1m\u001b[31mils\u001b[0m assimilent cela \u001b[1m\u001b[31mà\u001b[0m \u001b[5m\u001b[36mun\u001b[0m titre nobiliaire , \u001b[5m\u001b[36mles\u001b[0m \u001b[5m\u001b[36mfaux\u001b[0m \u001b[5m\u001b[36mparce\u001b[0m \u001b[1m\u001b[31mqu’\u001b[0m \u001b[1m\u001b[31mils\u001b[0m s’ \u001b[5m\u001b[36mimaginent\u001b[0m \u001b[5m\u001b[36mavoir\u001b[0m monté \u001b[5m\u001b[36men\u001b[0m grade . \u001b[1m\u001b[31mà\u001b[0m ce \u001b[5m\u001b[36mcompte\u001b[0m - \u001b[5m\u001b[36mlà\u001b[0m , je \u001b[1m\u001b[31mpourrais\u001b[0m \u001b[5m\u001b[36mme\u001b[0m vanter que \u001b[5m\u001b[36mma\u001b[0m mère \u001b[5m\u001b[36mest\u001b[0m née boulevard bonne-nouvelle ! toi , \u001b[5m\u001b[36mte\u001b[0m \u001b[5m\u001b[36mvoilà\u001b[0m \u001b[1m\u001b[31mcomme\u001b[0m \u001b[5m\u001b[36mle\u001b[0m pou \u001b[1m\u001b[31msur\u001b[0m \u001b[5m\u001b[36mses\u001b[0m \u001b[1m\u001b[31mpieds\u001b[0m \u001b[1m\u001b[31mde\u001b[0m derrière \u001b[5m\u001b[36mparce\u001b[0m que tu \u001b[5m\u001b[36mas\u001b[0m épousé \u001b[5m\u001b[36mun\u001b[0m parisien . et \u001b[1m\u001b[31mquand\u001b[0m je \u001b[1m\u001b[31mdis\u001b[0m \u001b[5m\u001b[36mun\u001b[0m parisien ... \u001b[5m\u001b[36mles\u001b[0m vrais parisiens d’ origine \u001b[5m\u001b[36mont\u001b[0m \u001b[5m\u001b[36mmoins\u001b[0m \u001b[1m\u001b[31mde\u001b[0m \u001b[1m\u001b[31mcaractère\u001b[0m \u001b[1m\u001b[31mdans\u001b[0m \u001b[5m\u001b[36mla\u001b[0m physionomie . on \u001b[1m\u001b[31mdirait\u001b[0m que paris \u001b[5m\u001b[36mles\u001b[0m efface !   \u001b[5m\u001b[36melle\u001b[0m s’ \u001b[5m\u001b[36minterrompait\u001b[0m , levait \u001b[5m\u001b[36mle\u001b[0m rideau \u001b[1m\u001b[31mde\u001b[0m tulle \u001b[5m\u001b[36mqui\u001b[0m voilait \u001b[5m\u001b[36mla\u001b[0m fenêtre :   \u001b[5m\u001b[36m–\u001b[0m ah ! voici \u001b[5m\u001b[36mmlle\u001b[0m thévenin \u001b[5m\u001b[36mqui\u001b[0m promène \u001b[5m\u001b[36men\u001b[0m triomphe , \u001b[1m\u001b[31mdans\u001b[0m toutes \u001b[5m\u001b[36mles\u001b[0m \u001b[1m\u001b[31mrues\u001b[0m , \u001b[5m\u001b[36msa\u001b[0m \u001b[5m\u001b[36mcousine\u001b[0m \u001b[1m\u001b[31mde\u001b[0m paris . \u001b[5m\u001b[36melle\u001b[0m n’ \u001b[5m\u001b[36ma\u001b[0m \u001b[1m\u001b[31mpas\u001b[0m \u001b[1m\u001b[31mbesoin\u001b[0m \u001b[1m\u001b[31mde\u001b[0m \u001b[5m\u001b[36mle\u001b[0m \u001b[1m\u001b[31mdire\u001b[0m , que cette \u001b[5m\u001b[36mdame\u001b[0m quériot \u001b[1m\u001b[31mvient\u001b[0m \u001b[1m\u001b[31mde\u001b[0m paris : \u001b[5m\u001b[36mbeaucoup\u001b[0m \u001b[1m\u001b[31mde\u001b[0m seins , \u001b[5m\u001b[36mles\u001b[0m \u001b[1m\u001b[31mpieds\u001b[0m petits , et \u001b[1m\u001b[31mdes\u001b[0m chevilles \u001b[1m\u001b[31mtrop\u001b[0m fragiles \u001b[5m\u001b[36mpour\u001b[0m \u001b[5m\u001b[36mle\u001b[0m poids \u001b[1m\u001b[31mdu\u001b[0m corps ; deux \u001b[1m\u001b[31mou\u001b[0m trois chaînes \u001b[1m\u001b[31mde\u001b[0m cou , \u001b[5m\u001b[36mles\u001b[0m cheveux très \u001b[5m\u001b[36mbien\u001b[0m coiffés ... \u001b[1m\u001b[31mil\u001b[0m ne m’ \u001b[5m\u001b[36men\u001b[0m \u001b[5m\u001b[36mfaut\u001b[0m \u001b[1m\u001b[31mpas\u001b[0m \u001b[1m\u001b[31mtant\u001b[0m \u001b[5m\u001b[36mpour\u001b[0m \u001b[5m\u001b[36msavoir\u001b[0m que cette \u001b[5m\u001b[36mdame\u001b[0m quériot \u001b[5m\u001b[36mest\u001b[0m caissière \u001b[1m\u001b[31mdans\u001b[0m \u001b[5m\u001b[36mun\u001b[0m grand café. \u001b[5m\u001b[36mune\u001b[0m caissière parisienne ne pare que \u001b[5m\u001b[36msa\u001b[0m \u001b[1m\u001b[31mtête\u001b[0m et \u001b[5m\u001b[36mson\u001b[0m buste , \u001b[5m\u001b[36mle\u001b[0m \u001b[5m\u001b[36mreste\u001b[0m ne \u001b[1m\u001b[31mvoit\u001b[0m guère \u001b[5m\u001b[36mle\u001b[0m \u001b[1m\u001b[31mjour\u001b[0m . \u001b[5m\u001b[36men\u001b[0m outre , \u001b[5m\u001b[36melle\u001b[0m ne marche \u001b[1m\u001b[31mpas\u001b[0m assez et engraisse \u001b[1m\u001b[31mde\u001b[0m l’ estomac . tu \u001b[1m\u001b[31mverras\u001b[0m \u001b[5m\u001b[36mbeaucoup\u001b[0m , \u001b[1m\u001b[31mà\u001b[0m paris , ce modèle \u001b[1m\u001b[31mde\u001b[0m femme - tronc .   \u001b[1m\u001b[31mainsi\u001b[0m \u001b[1m\u001b[31mparlait\u001b[0m \u001b[5m\u001b[36mma\u001b[0m mère , \u001b[1m\u001b[31mquand\u001b[0m \u001b[5m\u001b[36mj’\u001b[0m \u001b[1m\u001b[31métais\u001b[0m \u001b[1m\u001b[31mmoi\u001b[0m - \u001b[5m\u001b[36mmême\u001b[0m , autrefois , \u001b[5m\u001b[36mune\u001b[0m très \u001b[5m\u001b[36mjeune\u001b[0m femme . \u001b[1m\u001b[31mmais\u001b[0m \u001b[5m\u001b[36melle\u001b[0m \u001b[5m\u001b[36mavait\u001b[0m commencé , \u001b[5m\u001b[36mbien\u001b[0m \u001b[1m\u001b[31mavant\u001b[0m \u001b[5m\u001b[36mmon\u001b[0m \u001b[5m\u001b[36mmariage\u001b[0m , \u001b[1m\u001b[31mde\u001b[0m donner \u001b[5m\u001b[36mle\u001b[0m \u001b[1m\u001b[31mpas\u001b[0m \u001b[1m\u001b[31mà\u001b[0m \u001b[5m\u001b[36mla\u001b[0m province \u001b[1m\u001b[31msur\u001b[0m paris . \u001b[5m\u001b[36mmon\u001b[0m enfance \u001b[5m\u001b[36mavait\u001b[0m \u001b[1m\u001b[31mretenu\u001b[0m \u001b[5m\u001b[36mdes\u001b[0m sentences , excommunicatoires \u001b[5m\u001b[36mle\u001b[0m \u001b[1m\u001b[31mplus\u001b[0m souvent , \u001b[1m\u001b[31mqu’\u001b[0m \u001b[5m\u001b[36melle\u001b[0m lançait avec \u001b[5m\u001b[36mune\u001b[0m \u001b[5m\u001b[36mforce\u001b[0m d’ accent singulière . \u001b[1m\u001b[31moù\u001b[0m prenait \u001b[5m\u001b[36m-elle\u001b[0m \u001b[5m\u001b[36mleur\u001b[0m autorité , \u001b[5m\u001b[36mleur\u001b[0m suc , \u001b[5m\u001b[36melle\u001b[0m \u001b[5m\u001b[36mqui\u001b[0m ne \u001b[1m\u001b[31mquittait\u001b[0m \u001b[1m\u001b[31mpas\u001b[0m , trois \u001b[5m\u001b[36mfois\u001b[0m l’ an , \u001b[5m\u001b[36mson\u001b[0m département ? d’ \u001b[1m\u001b[31moù\u001b[0m \u001b[5m\u001b[36mlui\u001b[0m \u001b[1m\u001b[31mvenait\u001b[0m \u001b[5m\u001b[36mle\u001b[0m \u001b[1m\u001b[31mdon\u001b[0m \u001b[1m\u001b[31mde\u001b[0m définir , \u001b[1m\u001b[31mde\u001b[0m pénétrer , et cette forme décrétale \u001b[1m\u001b[31mde\u001b[0m l’ observation ?   ne l’ eussé-je \u001b[1m\u001b[31mpas\u001b[0m \u001b[1m\u001b[31mtenu\u001b[0m d’ \u001b[5m\u001b[36melle\u001b[0m , \u001b[1m\u001b[31mqu’\u001b[0m \u001b[5m\u001b[36melle\u001b[0m m’ eût \u001b[1m\u001b[31mdonné\u001b[0m , je \u001b[1m\u001b[31mcrois\u001b[0m , l’ \u001b[1m\u001b[31mamour\u001b[0m \u001b[1m\u001b[31mde\u001b[0m \u001b[5m\u001b[36mla\u001b[0m province , \u001b[1m\u001b[31msi\u001b[0m \u001b[1m\u001b[31mpar\u001b[0m province on n’ \u001b[5m\u001b[36mentend\u001b[0m \u001b[1m\u001b[31mpas\u001b[0m \u001b[5m\u001b[36mseulement\u001b[0m \u001b[5m\u001b[36mun\u001b[0m \u001b[1m\u001b[31mlieu\u001b[0m , \u001b[5m\u001b[36mune\u001b[0m région éloignés \u001b[1m\u001b[31mde\u001b[0m \u001b[5m\u001b[36mla\u001b[0m capitale , \u001b[1m\u001b[31mmais\u001b[0m \u001b[5m\u001b[36mun\u001b[0m esprit \u001b[1m\u001b[31mde\u001b[0m caste , \u001b[5m\u001b[36mune\u001b[0m pureté obligatoire \u001b[1m\u001b[31mdes\u001b[0m mœurs , l’ orgueil d’ habiter \u001b[5m\u001b[36mune\u001b[0m demeure \u001b[1m\u001b[31mancienne\u001b[0m , honorée , close \u001b[1m\u001b[31mde\u001b[0m \u001b[5m\u001b[36mpartout\u001b[0m , \u001b[1m\u001b[31mmais\u001b[0m que l’ on \u001b[1m\u001b[31mpeut\u001b[0m \u001b[5m\u001b[36mouvrir\u001b[0m \u001b[1m\u001b[31mà\u001b[0m tout moment \u001b[1m\u001b[31msur\u001b[0m \u001b[5m\u001b[36mses\u001b[0m greniers aérés , \u001b[5m\u001b[36mson\u001b[0m fenil empli , \u001b[5m\u001b[36mses\u001b[0m maîtres façonnés \u001b[1m\u001b[31mà\u001b[0m l’ usage et \u001b[1m\u001b[31mà\u001b[0m \u001b[5m\u001b[36mla\u001b[0m dignité \u001b[1m\u001b[31mde\u001b[0m \u001b[5m\u001b[36mleur\u001b[0m \u001b[5m\u001b[36mmaison\u001b[0m .   \u001b[5m\u001b[36men\u001b[0m vraie provinciale , \u001b[5m\u001b[36mma\u001b[0m \u001b[1m\u001b[31mcharmante\u001b[0m mère , « sido » , \u001b[1m\u001b[31mtenait\u001b[0m souvent \u001b[5m\u001b[36mses\u001b[0m \u001b[5m\u001b[36myeux\u001b[0m \u001b[1m\u001b[31mde\u001b[0m l’ âme fixés \u001b[1m\u001b[31msur\u001b[0m paris . théâtres \u001b[1m\u001b[31mde\u001b[0m paris , modes , fêtes \u001b[1m\u001b[31mde\u001b[0m paris , ne \u001b[5m\u001b[36mlui\u001b[0m \u001b[1m\u001b[31métaient\u001b[0m \u001b[5m\u001b[36mni\u001b[0m indifférents , \u001b[5m\u001b[36mni\u001b[0m étrangers . tout au \u001b[1m\u001b[31mplus\u001b[0m \u001b[5m\u001b[36mles\u001b[0m aimait \u001b[5m\u001b[36m-elle\u001b[0m d’ \u001b[5m\u001b[36mune\u001b[0m \u001b[1m\u001b[31mpassion\u001b[0m \u001b[5m\u001b[36mun\u001b[0m \u001b[5m\u001b[36mpeu\u001b[0m agressive , rehaussée \u001b[1m\u001b[31mde\u001b[0m coquetteries , bouderies , approches stratégiques et danses \u001b[1m\u001b[31mde\u001b[0m \u001b[1m\u001b[31mguerre\u001b[0m . \u001b[5m\u001b[36mle\u001b[0m \u001b[5m\u001b[36mpeu\u001b[0m \u001b[1m\u001b[31mqu’\u001b[0m \u001b[5m\u001b[36melle\u001b[0m goûtait \u001b[1m\u001b[31mde\u001b[0m paris , tous \u001b[5m\u001b[36mles\u001b[0m deux ans \u001b[1m\u001b[31menviron\u001b[0m , l’ approvisionnait \u001b[5m\u001b[36mpour\u001b[0m \u001b[5m\u001b[36mle\u001b[0m \u001b[5m\u001b[36mreste\u001b[0m \u001b[1m\u001b[31mdu\u001b[0m \u001b[5m\u001b[36mtemps\u001b[0m . \u001b[5m\u001b[36melle\u001b[0m \u001b[1m\u001b[31mrevenait\u001b[0m chez nous lourde \u001b[1m\u001b[31mde\u001b[0m chocolat \u001b[5m\u001b[36men\u001b[0m barre , \u001b[1m\u001b[31mde\u001b[0m denrées exotiques et d’ étoffes \u001b[5m\u001b[36men\u001b[0m coupons , \u001b[1m\u001b[31mmais\u001b[0m surtout \u001b[1m\u001b[31mde\u001b[0m programmes \u001b[1m\u001b[31mde\u001b[0m spectacles et d’ essence \u001b[1m\u001b[31mà\u001b[0m \u001b[5m\u001b[36mla\u001b[0m violette , et \u001b[5m\u001b[36melle\u001b[0m commençait \u001b[1m\u001b[31mde\u001b[0m nous peindre paris \u001b[1m\u001b[31mdont\u001b[0m tous \u001b[5m\u001b[36mles\u001b[0m attraits \u001b[1m\u001b[31métaient\u001b[0m \u001b[1m\u001b[31mà\u001b[0m \u001b[5m\u001b[36msa\u001b[0m \u001b[5m\u001b[36mmesure\u001b[0m , puisqu’ \u001b[5m\u001b[36melle\u001b[0m ne dédaignait \u001b[1m\u001b[31mrien\u001b[0m .   \u001b[5m\u001b[36men\u001b[0m \u001b[5m\u001b[36mune\u001b[0m \u001b[5m\u001b[36msemaine\u001b[0m \u001b[5m\u001b[36melle\u001b[0m \u001b[5m\u001b[36mavait\u001b[0m visité \u001b[5m\u001b[36mla\u001b[0m momie exhumée , \u001b[5m\u001b[36mle\u001b[0m musée agrandi , \u001b[5m\u001b[36mle\u001b[0m nouveau magasin , \u001b[5m\u001b[36mentendu\u001b[0m \u001b[5m\u001b[36mle\u001b[0m ténor et \u001b[5m\u001b[36mla\u001b[0m conférence \u001b[1m\u001b[31msur\u001b[0m \u001b[5m\u001b[36mla\u001b[0m musique birmane . \u001b[5m\u001b[36melle\u001b[0m rapportait \u001b[5m\u001b[36mun\u001b[0m manteau modeste , \u001b[5m\u001b[36mdes\u001b[0m \u001b[5m\u001b[36mbas\u001b[0m d’ usage , \u001b[1m\u001b[31mdes\u001b[0m gants très \u001b[1m\u001b[31mchers\u001b[0m .   surtout \u001b[5m\u001b[36melle\u001b[0m nous rapportait \u001b[5m\u001b[36mson\u001b[0m regard \u001b[5m\u001b[36mgris\u001b[0m voltigeant , \u001b[5m\u001b[36mson\u001b[0m teint vermeil que \u001b[5m\u001b[36mla\u001b[0m fatigue \u001b[1m\u001b[31mrougissait\u001b[0m , \u001b[5m\u001b[36melle\u001b[0m \u001b[1m\u001b[31mrevenait\u001b[0m ailes battantes , inquiète \u001b[1m\u001b[31mde\u001b[0m tout ce \u001b[5m\u001b[36mqui\u001b[0m , privé d’ \u001b[5m\u001b[36melle\u001b[0m , \u001b[1m\u001b[31mperdait\u001b[0m \u001b[5m\u001b[36mla\u001b[0m chaleur et \u001b[5m\u001b[36mle\u001b[0m goût \u001b[1m\u001b[31mde\u001b[0m vivre .\n"
     ]
    }
   ],
   "source": [
    "print(close_reading_analysis(colette_sido_extract, coef_canon, coef_non_canon))"
   ]
  },
  {
   "cell_type": "code",
   "execution_count": null,
   "metadata": {},
   "outputs": [],
   "source": []
  },
  {
   "cell_type": "code",
   "execution_count": null,
   "metadata": {},
   "outputs": [],
   "source": []
  },
  {
   "cell_type": "code",
   "execution_count": null,
   "metadata": {},
   "outputs": [],
   "source": []
  },
  {
   "cell_type": "code",
   "execution_count": 128,
   "metadata": {},
   "outputs": [
    {
     "data": {
      "text/plain": [
       "['avoir',\n",
       " 'm.',\n",
       " 'pâle',\n",
       " 'joie',\n",
       " 'qui',\n",
       " 'histoire',\n",
       " 'large',\n",
       " 'manquer',\n",
       " 'son',\n",
       " 'aussitôt',\n",
       " 'dîner',\n",
       " 'sous',\n",
       " 'nul',\n",
       " 'mine',\n",
       " 'bientôt',\n",
       " 'baiser',\n",
       " 'oeil',\n",
       " 'apercevoir',\n",
       " 'plusieurs',\n",
       " 'lentement',\n",
       " 'dent',\n",
       " 'depuis',\n",
       " 'mon',\n",
       " 'cependant',\n",
       " 'haut',\n",
       " 'juge',\n",
       " 'feuille',\n",
       " 'rare',\n",
       " 'brusquement',\n",
       " 'simple',\n",
       " 'devoir',\n",
       " 'colère',\n",
       " 'sang',\n",
       " 'arme',\n",
       " 'poste',\n",
       " 'émotion',\n",
       " '-t',\n",
       " 'ignorer',\n",
       " 'frapper',\n",
       " 'prier',\n",
       " 'fuir',\n",
       " 'gris',\n",
       " 'celui-ci',\n",
       " 'aprè',\n",
       " 'paul',\n",
       " 'même',\n",
       " 'ici',\n",
       " 'pour',\n",
       " 'certainement',\n",
       " 'oreille',\n",
       " 'votre',\n",
       " 'confiance',\n",
       " 'arrêter',\n",
       " 'douleur',\n",
       " 'était',\n",
       " 'jouer',\n",
       " 'homme',\n",
       " 'personnage',\n",
       " 'faute',\n",
       " 'visage',\n",
       " 'murmurer',\n",
       " 'heureux',\n",
       " 'françai',\n",
       " 'sauvage',\n",
       " 'immense',\n",
       " 'tard',\n",
       " 'comment',\n",
       " 'plaisir',\n",
       " 'louis',\n",
       " 'objet',\n",
       " 'disparaître',\n",
       " 'partout',\n",
       " 'affaire',\n",
       " 'entrer',\n",
       " 'arrière',\n",
       " 'ceci',\n",
       " 'après',\n",
       " 'sac',\n",
       " 'arrêta',\n",
       " 'marcher',\n",
       " 'arrive',\n",
       " 'j’',\n",
       " 'mlle',\n",
       " 'léger',\n",
       " 'bon',\n",
       " 'peur',\n",
       " 'apporter',\n",
       " 'diriger',\n",
       " 'laisse',\n",
       " 'hasard',\n",
       " 'fils',\n",
       " 'rencontre',\n",
       " 'finir',\n",
       " 'jambe',\n",
       " 'montrer',\n",
       " 'pourquoi',\n",
       " 'sembler',\n",
       " 'œil',\n",
       " 'courir',\n",
       " 'oublier',\n",
       " 'devenir',\n",
       " 'tort',\n",
       " 'notre',\n",
       " 'fer',\n",
       " 'journée',\n",
       " 'dame',\n",
       " 'le',\n",
       " 'champ',\n",
       " 'glisser',\n",
       " 'connaître',\n",
       " 'rester',\n",
       " 'cousin',\n",
       " 'jeune',\n",
       " 'emporter',\n",
       " 'gagner',\n",
       " 'ressembler',\n",
       " 'tromper',\n",
       " 'oser',\n",
       " 'fou',\n",
       " 'ni',\n",
       " 'penser',\n",
       " 'compte',\n",
       " 'pauvre',\n",
       " 'lui',\n",
       " 'mois',\n",
       " 'vert',\n",
       " '—',\n",
       " 'minute',\n",
       " 'médecin',\n",
       " 'parce',\n",
       " 'être',\n",
       " 'tandis',\n",
       " 'ami',\n",
       " 'juste',\n",
       " 'volonté',\n",
       " 'voilà',\n",
       " 'savoir',\n",
       " 'lire',\n",
       " '–',\n",
       " 'grave',\n",
       " 'georges',\n",
       " 'parole',\n",
       " 'imaginer',\n",
       " 'falloir',\n",
       " 'chambre',\n",
       " 'bois',\n",
       " 'oui',\n",
       " 'entendre',\n",
       " 'sujet',\n",
       " 'éloigner',\n",
       " 'or',\n",
       " 'parfois',\n",
       " 'semaine',\n",
       " 'sorte',\n",
       " 'présenter',\n",
       " 'chien',\n",
       " 'te',\n",
       " 'plaire',\n",
       " 'voyageur',\n",
       " 'faux',\n",
       " 'véritabl',\n",
       " 'part',\n",
       " 'laisser',\n",
       " 'prè',\n",
       " 'aller',\n",
       " \"j\\\\'ai\",\n",
       " \"c\\\\'est\",\n",
       " 'fois',\n",
       " 'pleurer',\n",
       " 'chaise',\n",
       " 'dû',\n",
       " 'donne',\n",
       " '-ce',\n",
       " 'épaule',\n",
       " 'voiture',\n",
       " 'auprès',\n",
       " 'officier',\n",
       " 'sûr',\n",
       " 'quelque',\n",
       " 'temps',\n",
       " 'pencher',\n",
       " '�',\n",
       " 'vif',\n",
       " 'parfaitement',\n",
       " 'voisin',\n",
       " 'quoi',\n",
       " \"l'\",\n",
       " 'bien',\n",
       " 'aider',\n",
       " 'ouvrir',\n",
       " 'offrir',\n",
       " 'mariage',\n",
       " 'gros',\n",
       " 'bras',\n",
       " 'sauver',\n",
       " 'adieu',\n",
       " 'droite',\n",
       " 'revoir',\n",
       " 'écouter',\n",
       " 'leur',\n",
       " 'bouche',\n",
       " 'but',\n",
       " 'maison',\n",
       " 'digne',\n",
       " 'beaucoup',\n",
       " 'léon',\n",
       " 'valet',\n",
       " 'apprendre',\n",
       " 'fortune',\n",
       " 'longtemps',\n",
       " 'chacun',\n",
       " 'puisque',\n",
       " 'mesure',\n",
       " 'église',\n",
       " 'lumière',\n",
       " 'public',\n",
       " 'remplir',\n",
       " 'moyen',\n",
       " 'assurer',\n",
       " 'pays',\n",
       " 'regarde',\n",
       " 'fermer',\n",
       " 'courant',\n",
       " 'monde',\n",
       " 'herbe',\n",
       " 'en',\n",
       " 'france',\n",
       " 'loin',\n",
       " 'anglais',\n",
       " 'marier',\n",
       " 'moins',\n",
       " 'bas',\n",
       " 'poser',\n",
       " 'force',\n",
       " 'présence',\n",
       " 'enfant',\n",
       " 'plutôt',\n",
       " 'marchand',\n",
       " 'distance',\n",
       " 'peu',\n",
       " 'justice',\n",
       " 'honnête',\n",
       " 'camarade',\n",
       " 'bel',\n",
       " 'interroger',\n",
       " 'vue',\n",
       " 'quelqu’',\n",
       " 'autour',\n",
       " 'conduire',\n",
       " 'arrivé',\n",
       " 'dernier',\n",
       " 'prix',\n",
       " 'genre',\n",
       " 'propos',\n",
       " 'trouve',\n",
       " 'reste',\n",
       " 'chanter',\n",
       " 'rappeler',\n",
       " 'pareil',\n",
       " 'charles',\n",
       " 'interrompre',\n",
       " 'appuyer',\n",
       " 'soi',\n",
       " 'me',\n",
       " 'sonner',\n",
       " 'déjà',\n",
       " 'lendemain',\n",
       " 'reçu',\n",
       " 'un',\n",
       " 'glace',\n",
       " 'commencer',\n",
       " 'lueur',\n",
       " 'couleur',\n",
       " 'parmi',\n",
       " 'là',\n",
       " 'seulement',\n",
       " 'coup',\n",
       " 'arracher',\n",
       " 'cuisine',\n",
       " 'départ',\n",
       " 'soit',\n",
       " 'éclat',\n",
       " 'payer',\n",
       " 'rendre',\n",
       " 'jeu',\n",
       " 'jamais',\n",
       " 'ligne',\n",
       " 'relever',\n",
       " 'inutile',\n",
       " 'indien',\n",
       " 'deviner']"
      ]
     },
     "execution_count": 128,
     "metadata": {},
     "output_type": "execute_result"
    }
   ],
   "source": [
    "coef_canon"
   ]
  },
  {
   "cell_type": "code",
   "execution_count": 127,
   "metadata": {},
   "outputs": [
    {
     "data": {
      "text/plain": [
       "['expliquer',\n",
       " 'chair',\n",
       " 'bête',\n",
       " 'pense',\n",
       " 'répondre',\n",
       " 'rôle',\n",
       " 'idée',\n",
       " 'propre',\n",
       " 'à-dire',\n",
       " 'presque',\n",
       " 'valoir',\n",
       " 'êter',\n",
       " 'perdre',\n",
       " 'jour',\n",
       " 'soirée',\n",
       " 'pousser',\n",
       " 'passion',\n",
       " 'convenir',\n",
       " 'luire',\n",
       " 'sur',\n",
       " 'commissaire',\n",
       " 'préser',\n",
       " 'agir',\n",
       " 'amour',\n",
       " 'occasion',\n",
       " 'première',\n",
       " 'robert',\n",
       " 'regarder',\n",
       " 'question',\n",
       " 'soutenir',\n",
       " 'place',\n",
       " 'lieu',\n",
       " 'au-dessus',\n",
       " 'secret',\n",
       " 'don',\n",
       " 'forêt',\n",
       " 'ordre',\n",
       " 'mauvais',\n",
       " 'exemple',\n",
       " 'vieux',\n",
       " 'froid',\n",
       " 'croire',\n",
       " 'écrit',\n",
       " 'simplement',\n",
       " 'car',\n",
       " 'côté',\n",
       " 'trouver',\n",
       " 'pluie',\n",
       " 'demande',\n",
       " 'grâce',\n",
       " 'ça',\n",
       " 'quitter',\n",
       " 'aujourd’hui',\n",
       " 'près',\n",
       " 'refuser',\n",
       " 'mais',\n",
       " 'pas',\n",
       " 'mouvement',\n",
       " 'entrée',\n",
       " 'ville',\n",
       " 'pauline',\n",
       " 'descendre',\n",
       " 'pitié',\n",
       " 'bord',\n",
       " 'juger',\n",
       " 'mme',\n",
       " 'éter',\n",
       " 'donné',\n",
       " 'père',\n",
       " 'seul',\n",
       " 'main',\n",
       " 'escalier',\n",
       " 'contre',\n",
       " 'sentiment',\n",
       " 'ou',\n",
       " 'colonel',\n",
       " 'ton',\n",
       " 'paysan',\n",
       " 'doute',\n",
       " 'gens',\n",
       " 'habit',\n",
       " 'chemin',\n",
       " 'siècle',\n",
       " 'fauteuil',\n",
       " 'arrêté',\n",
       " 'jeanne',\n",
       " 'remercier',\n",
       " 'mot',\n",
       " 'conversation',\n",
       " 'sombre',\n",
       " \"qu'\",\n",
       " 'celui',\n",
       " 'besoin',\n",
       " 'produire',\n",
       " 'répondit',\n",
       " 'papier',\n",
       " 'demandé',\n",
       " 'pièce',\n",
       " 'peau',\n",
       " 'c’',\n",
       " 'comte',\n",
       " 'passer',\n",
       " 'vin',\n",
       " 'beauté',\n",
       " 'tourner',\n",
       " 'gauche',\n",
       " 'ombre',\n",
       " 'dehors',\n",
       " 'maîtresse',\n",
       " 'table',\n",
       " 'entre',\n",
       " 'guerre',\n",
       " 'ensuite',\n",
       " 'veille',\n",
       " 'rue',\n",
       " 'brave',\n",
       " 'sien',\n",
       " 'pouvoir',\n",
       " 'reprendre',\n",
       " 'trop',\n",
       " 'afin',\n",
       " 'répéter',\n",
       " 'type',\n",
       " 'signe',\n",
       " 'sourire',\n",
       " 'baron',\n",
       " 'ailleurs',\n",
       " 'chapitre',\n",
       " 'crime',\n",
       " 'plan',\n",
       " 'nez',\n",
       " 'billet',\n",
       " 'prisonnier',\n",
       " 'suffire',\n",
       " 'quant',\n",
       " 'page',\n",
       " 'parlé',\n",
       " 'doigt',\n",
       " 'atteindre',\n",
       " 'importe',\n",
       " 'pointe',\n",
       " 'premièr',\n",
       " 'tué',\n",
       " 'récit',\n",
       " 'chose',\n",
       " 'demander',\n",
       " 'ancien',\n",
       " \"n'\",\n",
       " 'quelquefois',\n",
       " 'court',\n",
       " 'cabinet',\n",
       " 'rire',\n",
       " 'envoyer',\n",
       " 'où',\n",
       " 'songer',\n",
       " 'charmant',\n",
       " 'chère',\n",
       " 'profond',\n",
       " 'voyage',\n",
       " 'aucun',\n",
       " 'chaque',\n",
       " 'appartement',\n",
       " 'ainsi',\n",
       " 'heure',\n",
       " 'personne',\n",
       " 'sentir',\n",
       " 'journal',\n",
       " 'tomber',\n",
       " 'pied',\n",
       " 'riche',\n",
       " 'sans',\n",
       " 'étrange',\n",
       " 'asseoir',\n",
       " 'craindre',\n",
       " 'rose',\n",
       " 'vers',\n",
       " 'jacques',\n",
       " 'revenir',\n",
       " 'cheval',\n",
       " 'conscience',\n",
       " 'baisser',\n",
       " 'raison',\n",
       " 'causer',\n",
       " 'hôtel',\n",
       " 'dire',\n",
       " 'cacher',\n",
       " 'jusqu’',\n",
       " 'puis',\n",
       " 'malgré',\n",
       " 'davantage',\n",
       " 'rien',\n",
       " 'aventure',\n",
       " 'neuf',\n",
       " 'livre',\n",
       " 'environ',\n",
       " 'comme',\n",
       " 'effet',\n",
       " 'là.',\n",
       " 'aide',\n",
       " 'malheur',\n",
       " 'quart',\n",
       " 'promener',\n",
       " 'qu’',\n",
       " 'avenir',\n",
       " 'possible',\n",
       " 'sauter',\n",
       " 'retenir',\n",
       " 'boîte',\n",
       " 'laissé',\n",
       " 'choisir',\n",
       " 'franc',\n",
       " 'quel',\n",
       " 'vous',\n",
       " 'sens',\n",
       " 'front',\n",
       " 'dans',\n",
       " 'retour',\n",
       " 'route',\n",
       " 'poitrine',\n",
       " 'meilleur',\n",
       " 'soldat',\n",
       " 'moi',\n",
       " 'humain',\n",
       " 'fort',\n",
       " 'donc',\n",
       " 'poche',\n",
       " 'travailler',\n",
       " 'joli',\n",
       " 'point',\n",
       " 'sommeil',\n",
       " 'debout',\n",
       " 'cher',\n",
       " 'venir',\n",
       " 'vérité',\n",
       " 'saisir',\n",
       " 'essayer',\n",
       " 'par',\n",
       " 'nom',\n",
       " 'parler',\n",
       " 'surprendre',\n",
       " 'silence',\n",
       " 'connaître',\n",
       " 'battre',\n",
       " 'si',\n",
       " 'compagnon',\n",
       " 'se',\n",
       " 'plus',\n",
       " 'passage',\n",
       " 'reconnaître',\n",
       " 'rejoindre',\n",
       " 'habitude',\n",
       " 'aperçut',\n",
       " 'genou',\n",
       " 'mourir',\n",
       " 'pont',\n",
       " 'parti',\n",
       " 'mort',\n",
       " 'avant',\n",
       " 'travers',\n",
       " 'tenir',\n",
       " 'tranquille',\n",
       " 'somme',\n",
       " 'amant',\n",
       " 'pur',\n",
       " 'geste',\n",
       " 'semble',\n",
       " 'désir',\n",
       " 'y',\n",
       " 'caractère',\n",
       " 'diable',\n",
       " 'dè',\n",
       " 'figure',\n",
       " 'non',\n",
       " 'souffrir',\n",
       " 'travail',\n",
       " 'château',\n",
       " 'malade',\n",
       " 'changer',\n",
       " 'maintenant',\n",
       " 'inconnu',\n",
       " 'frère',\n",
       " 'trè',\n",
       " 'à',\n",
       " 'énorme',\n",
       " 'vie',\n",
       " 'air',\n",
       " 'garçon',\n",
       " 'dos',\n",
       " 'toujours',\n",
       " \"qu\\\\'il\",\n",
       " 'abord',\n",
       " 'jeter',\n",
       " 'devant',\n",
       " 'contraire',\n",
       " 'milieu',\n",
       " 'tête',\n",
       " 'appeler',\n",
       " 'midi',\n",
       " 'drôle',\n",
       " 'selon',\n",
       " 'quand',\n",
       " 'prince',\n",
       " 'tel',\n",
       " 'Monsieur',\n",
       " 'vieillard',\n",
       " 'pardon',\n",
       " 'cent',\n",
       " 'tant',\n",
       " 'soudain',\n",
       " 'passé',\n",
       " 'tellement',\n",
       " 'langue',\n",
       " 'il',\n",
       " 'recevoir',\n",
       " 'manger',\n",
       " 'dont',\n",
       " 'nu',\n",
       " 'calme',\n",
       " 'immobile',\n",
       " 'rougir',\n",
       " 'pendant',\n",
       " 'voir',\n",
       " 'robe',\n",
       " 'de',\n",
       " 'écrier',\n",
       " 'difficile',\n",
       " 'noir',\n",
       " 'ciel',\n",
       " 'lequel',\n",
       " 'maigret']"
      ]
     },
     "execution_count": 127,
     "metadata": {},
     "output_type": "execute_result"
    }
   ],
   "source": [
    "coef_non_canon"
   ]
  },
  {
   "cell_type": "code",
   "execution_count": null,
   "metadata": {},
   "outputs": [],
   "source": []
  }
 ],
 "metadata": {
  "kernelspec": {
   "display_name": "Python 3",
   "language": "python",
   "name": "python3"
  },
  "language_info": {
   "codemirror_mode": {
    "name": "ipython",
    "version": 3
   },
   "file_extension": ".py",
   "mimetype": "text/x-python",
   "name": "python",
   "nbconvert_exporter": "python",
   "pygments_lexer": "ipython3",
   "version": "3.8.3"
  }
 },
 "nbformat": 4,
 "nbformat_minor": 5
}
