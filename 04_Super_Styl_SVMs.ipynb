{
 "cells": [
  {
   "cell_type": "code",
   "execution_count": 4,
   "metadata": {},
   "outputs": [],
   "source": [
    "import sklearn.svm as sk\n",
    "import sklearn.metrics as metrics\n",
    "import sklearn.decomposition as decomp\n",
    "import sklearn.preprocessing as preproc\n",
    "import sklearn.pipeline as skp\n",
    "import sklearn.model_selection as skmodel\n",
    "import pandas as pd\n",
    "import matplotlib.pyplot as plt\n",
    "import numpy as np"
   ]
  },
  {
   "cell_type": "code",
   "execution_count": null,
   "metadata": {},
   "outputs": [],
   "source": []
  },
  {
   "cell_type": "code",
   "execution_count": 3,
   "metadata": {},
   "outputs": [],
   "source": [
    "df_main = pd.read_csv(r'data\\features_canon.csv')"
   ]
  },
  {
   "cell_type": "code",
   "execution_count": 4,
   "metadata": {},
   "outputs": [],
   "source": [
    "df_main.set_index(\"index\", inplace = True)"
   ]
  },
  {
   "cell_type": "code",
   "execution_count": 5,
   "metadata": {},
   "outputs": [],
   "source": [
    "df_main = df_main.replace(np.nan, 0)"
   ]
  },
  {
   "cell_type": "code",
   "execution_count": 6,
   "metadata": {},
   "outputs": [
    {
     "data": {
      "text/plain": [
       "2664"
      ]
     },
     "execution_count": 6,
     "metadata": {},
     "output_type": "execute_result"
    }
   ],
   "source": [
    "2960-296"
   ]
  },
  {
   "cell_type": "code",
   "execution_count": 82,
   "metadata": {},
   "outputs": [],
   "source": [
    "df_train = df_main.head(2664)\n",
    "df_test = df_main.tail(296)"
   ]
  },
  {
   "cell_type": "code",
   "execution_count": null,
   "metadata": {},
   "outputs": [],
   "source": []
  },
  {
   "cell_type": "code",
   "execution_count": 2,
   "metadata": {},
   "outputs": [],
   "source": [
    "# Following function from Aneesha Bakharia\n",
    "# https://aneesha.medium.com/visualising-top-features-in-linear-svm-with-scikit-learn-and-matplotlib-3454ab18a14d\n",
    "\n",
    "def plot_coefficients(coefs, feature_names, current_class, top_features=20):\n",
    "    top_positive_coefficients = np.argsort(coefs)[-top_features:]\n",
    "    top_negative_coefficients = np.argsort(coefs)[:top_features]\n",
    "    top_coefficients = np.hstack([top_negative_coefficients, top_positive_coefficients])\n",
    "    # create plot\n",
    "    plt.figure(figsize=(15, 5))\n",
    "    colors = ['red' if c < 0 else 'blue' for c in coefs[top_coefficients]]\n",
    "    plt.bar(np.arange(2 * top_features), coefs[top_coefficients], color=colors)\n",
    "    feature_names = np.array(feature_names)\n",
    "    plt.xticks(np.arange(0, 2 * top_features), feature_names[top_coefficients], rotation=60, ha='right')\n",
    "    plt.title(\"Coefficients for \"+current_class)\n",
    "    plt.savefig('coef/coefs_' + current_class + '.png')\n",
    "    # TODO: write them to disk as CSV files"
   ]
  },
  {
   "cell_type": "code",
   "execution_count": 3,
   "metadata": {},
   "outputs": [],
   "source": [
    "def train_svm(train, test, cross_validate=None, k=10, dim_reduc=None, norms=True, kernel=\"LinearSVC\", final_pred=False, get_coefs=False):\n",
    "    \"\"\"\n",
    "    Function to train svm\n",
    "    :param train: train data... (in panda dataframe)\n",
    "    :param test: test data (itou)\n",
    "    :param cross_validate: whether or not to perform cross validation (possible values: leave-one-out and k-fold)\n",
    "    :param k: k parameter for k-fold cross validation\n",
    "    :param dim_reduc: dimensionality reduction of input data. Implemented values are pca and som.\n",
    "    :param norms: perform normalisations, i.e. z-scores and L2 (default True)\n",
    "    :param kernel: kernel for SVM\n",
    "    :param final_pred: do the final predictions?\n",
    "    :param get_coefs, if true, writes to disk (coefficients.csv) and plots the most important coefficients for each class\n",
    "    :return: returns a pipeline with a fitted svm model, and if possible prints evaluation and writes to disk:\n",
    "    confusion_matrix.csv, misattributions.csv and (if required) FINAL_PREDICTIONS.csv\n",
    "    \"\"\"\n",
    "\n",
    "    print(\".......... Formatting data ........\")\n",
    "    # Save the classes\n",
    "    classes = list(train.canon)\n",
    "    train = train.drop(['canon'], axis=1)\n",
    "\n",
    "    if test is not None:\n",
    "        #classes_test = list(test.loc[:, 'author'])\n",
    "        classes_test = list(test.canon) \n",
    "        test = test.drop(['canon'], axis=1)\n",
    "        preds_index = list(test.index)\n",
    "\n",
    "    nfeats = train.columns.__len__()\n",
    "\n",
    "    # CREATING PIPELINE\n",
    "    print(\".......... Creating pipeline according to user choices ........\")\n",
    "    estimators = []\n",
    "\n",
    "    if norms:\n",
    "        # Z-scores\n",
    "        # TODO: me suis embeté à implémenter quelque chose qui existe\n",
    "        # déjà via sklearn.preprocessing.StandardScaler()\n",
    "        print(\".......... using normalisations ........\")\n",
    "        estimators.append(('scaler', preproc.StandardScaler()))\n",
    "        # NB: j'utilise le built-in\n",
    "        # normalisation L2\n",
    "        # cf. https://scikit-learn.org/stable/modules/generated/sklearn.preprocessing.Normalizer.html#sklearn.preprocessing.Normalizer\n",
    "\n",
    "        estimators.append(('normalizer', preproc.Normalizer()))\n",
    "\n",
    "    print(\".......... choosing SVM ........\")\n",
    "\n",
    "    if kernel == \"LinearSVC\":\n",
    "        # try a faster one\n",
    "        estimators.append(('model', sk.LinearSVC()))\n",
    "        # classif = sk.LinearSVC()\n",
    "\n",
    "    else:\n",
    "        estimators.append(('model', sk.SVC(kernel=kernel)))\n",
    "        # classif = sk.SVC(kernel=kernel)\n",
    "\n",
    "    print(\".......... Creating pipeline with steps ........\")\n",
    "    print(estimators)\n",
    "    pipe = skp.Pipeline(estimators)\n",
    "    \n",
    "    \n",
    "    \n",
    "    if cross_validate is not None:\n",
    "        if cross_validate == 'leave-one-out':\n",
    "            myCV = skmodel.LeaveOneOut()\n",
    "\n",
    "        if cross_validate == 'k-fold':\n",
    "            myCV = skmodel.KFold(n_splits=k)\n",
    "\n",
    "        print(\".......... \"+ cross_validate +\" cross validation will be performed ........\")\n",
    "        print(\".......... using \" + str(myCV.get_n_splits(train)) + \" samples ........\")\n",
    "\n",
    "        # Will need to\n",
    "        # 1. train a model\n",
    "        # 2. get prediction\n",
    "        # 3. compute score: precision, recall, F1 for all categories\n",
    "\n",
    "        preds = skmodel.cross_val_predict(pipe, train, classes, cv=myCV, verbose=1, n_jobs=-1)\n",
    "\n",
    "        # and now, leave one out evaluation (very small redundancy here, one line that could be stored elsewhere)\n",
    "        unique_labels = list(set(classes))\n",
    "        pd.DataFrame(metrics.confusion_matrix(classes, preds, labels=unique_labels),\n",
    "                         index=['true:{:}'.format(x) for x in unique_labels],\n",
    "                         columns=['pred:{:}'.format(x) for x in unique_labels]).to_csv(\"confusion_matrix.csv\")\n",
    "\n",
    "        print(metrics.classification_report(classes, preds))\n",
    "        # writing misattributions\n",
    "        pd.DataFrame([i for i in zip(list(train.index), list(classes), list(preds)) if i[1] != i[2] ],\n",
    "                         columns=[\"id\", \"True\", \"Pred\"]\n",
    "                         ).set_index('id').to_csv(\"misattributions.csv\")\n",
    "\n",
    "        # and now making the model for final preds after leave one out if necessary\n",
    "        if final_pred or get_coefs:\n",
    "            print(\".......... Training final SVM with all train set ........\")\n",
    "            pipe.fit(train, classes)\n",
    "\n",
    "        if final_pred:\n",
    "            preds = pipe.predict(test)\n",
    "    # And now the simple case where there is only one svm to train\n",
    "    else:\n",
    "        pipe.fit(train, classes)\n",
    "        preds = pipe.predict(test)\n",
    "        # and evaluate\n",
    "        unique_labels = list(set(classes + classes_test))\n",
    "\n",
    "        pd.DataFrame(metrics.confusion_matrix(classes_test, preds, labels=unique_labels),\n",
    "                         index=['true:{:}'.format(x) for x in unique_labels],\n",
    "                         columns=['pred:{:}'.format(x) for x in unique_labels]).to_csv(\"confusion_matrix.csv\")\n",
    "\n",
    "        print(metrics.classification_report(classes_test, preds))\n",
    "\n",
    "    # AND NOW, we need to evaluate or create the final predictions\n",
    "    if final_pred:\n",
    "        print(\".......... Writing final predictions to FINAL_PREDICTIONS.csv ........\")\n",
    "        # Get the decision function too\n",
    "        myclasses = pipe.classes_\n",
    "        decs = pipe.decision_function(test)\n",
    "        #######ERROR --- resolu\n",
    "        dists = {}\n",
    "        dists[\"canon\"] = decs\n",
    "\n",
    "        pd.DataFrame(data={**{'filename': preds_index, 'non-canon': list(preds)}, **dists}).to_csv(\"FINAL_PREDICTIONS.csv\")\n",
    "\n",
    "\n",
    "    if get_coefs:\n",
    "        print(\"..........   Get Coef    ..........\")\n",
    "        # For “one-vs-rest” LinearSVC the attributes coef_ and intercept_ have the shape (n_classes, n_features) and\n",
    "        # (n_classes,) respectively.\n",
    "        # Each row of the coefficients corresponds to one of the n_classes “one-vs-rest” classifiers and similar for the\n",
    "        # intercepts, in the order of the “one” class.\n",
    "        # Save coefficients for the last model\n",
    "        \n",
    "        #####ERROR    --- pipe.named_steps['model'].coef_  --- resolu\n",
    "        pd.DataFrame(pipe.named_steps['model'].coef_,\n",
    "                         index=['non-canon'],\n",
    "                         columns=train.columns).to_csv(\"coefficients.csv\")\n",
    "\n",
    "        # TODO: optionalise  the number of top_features… ?\n",
    "        plot_coefficients(pipe.named_steps['model'].coef_[0], train.columns, str(pipe.classes_[0]))\n",
    "\n",
    "    return pipe"
   ]
  },
  {
   "cell_type": "code",
   "execution_count": null,
   "metadata": {},
   "outputs": [],
   "source": []
  },
  {
   "cell_type": "code",
   "execution_count": 9,
   "metadata": {},
   "outputs": [
    {
     "name": "stdout",
     "output_type": "stream",
     "text": [
      ".......... Formatting data ........\n",
      ".......... Creating pipeline according to user choices ........\n",
      ".......... using normalisations ........\n",
      ".......... choosing SVM ........\n",
      ".......... Creating pipeline with steps ........\n",
      "[('scaler', StandardScaler()), ('normalizer', Normalizer()), ('model', LinearSVC())]\n",
      "              precision    recall  f1-score   support\n",
      "\n",
      "       canon       0.55      0.17      0.26        36\n",
      "   non_canon       0.89      0.98      0.94       260\n",
      "\n",
      "    accuracy                           0.88       296\n",
      "   macro avg       0.72      0.57      0.60       296\n",
      "weighted avg       0.85      0.88      0.85       296\n",
      "\n",
      ".......... Writing final predictions to FINAL_PREDICTIONS.csv ........\n",
      "..........   Get Coef    ..........\n"
     ]
    },
    {
     "data": {
      "image/png": "[encoded data removed]",
      "text/plain": [
       "<Figure size 1080x360 with 1 Axes>"
      ]
     },
     "metadata": {
      "needs_background": "light"
     },
     "output_type": "display_data"
    }
   ],
   "source": [
    "svm_1 = train_svm(df_train, df_test, norms=True, kernel=\"LinearSVC\", final_pred=True, get_coefs=True)"
   ]
  },
  {
   "cell_type": "code",
   "execution_count": null,
   "metadata": {},
   "outputs": [],
   "source": []
  },
  {
   "cell_type": "code",
   "execution_count": null,
   "metadata": {},
   "outputs": [],
   "source": []
  },
  {
   "cell_type": "code",
   "execution_count": 5,
   "metadata": {},
   "outputs": [],
   "source": [
    "df_main_temp = pd.read_csv(r'data\\features_fabula.csv')"
   ]
  },
  {
   "cell_type": "code",
   "execution_count": 6,
   "metadata": {},
   "outputs": [],
   "source": [
    "df_main_temp.set_index(\"index\", inplace = True)"
   ]
  },
  {
   "cell_type": "code",
   "execution_count": 7,
   "metadata": {},
   "outputs": [],
   "source": [
    "df_main_temp = df_main_temp.replace(np.nan, 0)"
   ]
  },
  {
   "cell_type": "code",
   "execution_count": 8,
   "metadata": {},
   "outputs": [],
   "source": [
    "df_train_temp = df_main_temp.head(2664)\n",
    "df_test_temp = df_main_temp.tail(296)"
   ]
  },
  {
   "cell_type": "code",
   "execution_count": 19,
   "metadata": {},
   "outputs": [
    {
     "data": {
      "text/plain": [
       "296"
      ]
     },
     "execution_count": 19,
     "metadata": {},
     "output_type": "execute_result"
    }
   ],
   "source": [
    "len(list(df_test_temp[\"canon\"]))"
   ]
  },
  {
   "cell_type": "code",
   "execution_count": 114,
   "metadata": {},
   "outputs": [
    {
     "name": "stdout",
     "output_type": "stream",
     "text": [
      ".......... Formatting data ........\n",
      ".......... Creating pipeline according to user choices ........\n",
      ".......... using normalisations ........\n",
      ".......... choosing SVM ........\n",
      ".......... Creating pipeline with steps ........\n",
      "[('scaler', StandardScaler()), ('normalizer', Normalizer()), ('model', LinearSVC())]\n",
      "              precision    recall  f1-score   support\n",
      "\n",
      "       False       0.91      0.92      0.92       174\n",
      "        True       0.88      0.88      0.88       122\n",
      "\n",
      "    accuracy                           0.90       296\n",
      "   macro avg       0.90      0.90      0.90       296\n",
      "weighted avg       0.90      0.90      0.90       296\n",
      "\n",
      ".......... Writing final predictions to FINAL_PREDICTIONS.csv ........\n",
      "..........   Get Coef    ..........\n"
     ]
    },
    {
     "data": {
      "image/png": "[encoded data removed]",
      "text/plain": [
       "<Figure size 1080x360 with 1 Axes>"
      ]
     },
     "metadata": {
      "needs_background": "light"
     },
     "output_type": "display_data"
    }
   ],
   "source": [
    "svm_test = train_svm(df_train_temp, df_test_temp, norms=True, kernel=\"LinearSVC\", final_pred=True, get_coefs=True)"
   ]
  },
  {
   "cell_type": "code",
   "execution_count": 10,
   "metadata": {},
   "outputs": [
    {
     "name": "stdout",
     "output_type": "stream",
     "text": [
      ".......... Formatting data ........\n",
      ".......... Creating pipeline according to user choices ........\n",
      ".......... using normalisations ........\n",
      ".......... choosing SVM ........\n",
      ".......... Creating pipeline with steps ........\n",
      "[('scaler', StandardScaler()), ('normalizer', Normalizer()), ('model', SVC())]\n",
      "              precision    recall  f1-score   support\n",
      "\n",
      "       False       0.91      0.94      0.93       174\n",
      "        True       0.91      0.87      0.89       122\n",
      "\n",
      "    accuracy                           0.91       296\n",
      "   macro avg       0.91      0.91      0.91       296\n",
      "weighted avg       0.91      0.91      0.91       296\n",
      "\n"
     ]
    }
   ],
   "source": [
    "svm_test = train_svm(df_train_temp, df_test_temp, norms=True, kernel=\"rbf\", final_pred=False, get_coefs=False)"
   ]
  },
  {
   "cell_type": "code",
   "execution_count": 42,
   "metadata": {},
   "outputs": [
    {
     "name": "stdout",
     "output_type": "stream",
     "text": [
      ".......... Formatting data ........\n",
      ".......... Creating pipeline according to user choices ........\n",
      ".......... using normalisations ........\n",
      ".......... choosing SVM ........\n",
      ".......... Creating pipeline with steps ........\n",
      "[('scaler', StandardScaler()), ('normalizer', Normalizer()), ('model', LinearSVC())]\n",
      ".......... k-fold cross validation will be performed ........\n",
      ".......... using 10 samples ........\n"
     ]
    },
    {
     "name": "stderr",
     "output_type": "stream",
     "text": [
      "[Parallel(n_jobs=-1)]: Using backend LokyBackend with 4 concurrent workers.\n",
      "[Parallel(n_jobs=-1)]: Done  10 out of  10 | elapsed:   57.0s finished\n"
     ]
    },
    {
     "name": "stdout",
     "output_type": "stream",
     "text": [
      "              precision    recall  f1-score   support\n",
      "\n",
      "       False       0.90      0.92      0.91      1631\n",
      "        True       0.87      0.84      0.86      1033\n",
      "\n",
      "    accuracy                           0.89      2664\n",
      "   macro avg       0.89      0.88      0.89      2664\n",
      "weighted avg       0.89      0.89      0.89      2664\n",
      "\n",
      ".......... Training final SVM with all train set ........\n",
      ".......... Writing final predictions to FINAL_PREDICTIONS.csv ........\n",
      "..........   Get Coef    ..........\n"
     ]
    },
    {
     "data": {
      "image/png": "[encoded data removed]",
      "text/plain": [
       "<Figure size 1080x360 with 1 Axes>"
      ]
     },
     "metadata": {
      "needs_background": "light"
     },
     "output_type": "display_data"
    }
   ],
   "source": [
    "svm_cross_validated_fabula = train_svm(df_train_temp, df_test_temp, cross_validate='k-fold', norms=True, kernel=\"LinearSVC\", final_pred=True, get_coefs=True)"
   ]
  },
  {
   "cell_type": "code",
   "execution_count": null,
   "metadata": {},
   "outputs": [],
   "source": []
  },
  {
   "cell_type": "code",
   "execution_count": 131,
   "metadata": {},
   "outputs": [],
   "source": [
    "df_fabula_100 = df_main_temp.iloc[:, 0:100]"
   ]
  },
  {
   "cell_type": "code",
   "execution_count": 132,
   "metadata": {},
   "outputs": [],
   "source": [
    "df_fabula_100['canon'] = df_main_temp['canon']"
   ]
  },
  {
   "cell_type": "code",
   "execution_count": 163,
   "metadata": {},
   "outputs": [],
   "source": [
    "df_fabula_train = df_fabula_100.head(2664)\n",
    "df_fabula_test = df_fabula_100.tail(296)"
   ]
  },
  {
   "cell_type": "code",
   "execution_count": 145,
   "metadata": {},
   "outputs": [
    {
     "name": "stdout",
     "output_type": "stream",
     "text": [
      ".......... Formatting data ........\n",
      ".......... Creating pipeline according to user choices ........\n",
      ".......... using normalisations ........\n",
      ".......... choosing SVM ........\n",
      ".......... Creating pipeline with steps ........\n",
      "[('scaler', StandardScaler()), ('normalizer', Normalizer()), ('model', LinearSVC())]\n",
      "              precision    recall  f1-score   support\n",
      "\n",
      "       False       0.86      0.85      0.86       174\n",
      "        True       0.79      0.80      0.80       122\n",
      "\n",
      "    accuracy                           0.83       296\n",
      "   macro avg       0.83      0.83      0.83       296\n",
      "weighted avg       0.83      0.83      0.83       296\n",
      "\n"
     ]
    }
   ],
   "source": [
    "svm_fabula_100 = train_svm(df_fabula_train, df_fabula_test, norms=True, kernel=\"LinearSVC\", final_pred=False, get_coefs=False)"
   ]
  },
  {
   "cell_type": "code",
   "execution_count": null,
   "metadata": {},
   "outputs": [],
   "source": []
  },
  {
   "cell_type": "code",
   "execution_count": 137,
   "metadata": {},
   "outputs": [],
   "source": [
    "df_fabula_1000 = df_main_temp.iloc[:, 0:1000]"
   ]
  },
  {
   "cell_type": "code",
   "execution_count": 138,
   "metadata": {},
   "outputs": [],
   "source": [
    "df_fabula_1000['canon'] = df_main_temp['canon']"
   ]
  },
  {
   "cell_type": "code",
   "execution_count": 159,
   "metadata": {},
   "outputs": [],
   "source": [
    "df_fabula_train = df_fabula_1000.head(2664)\n",
    "df_fabula_test = df_fabula_1000.tail(296)"
   ]
  },
  {
   "cell_type": "code",
   "execution_count": 141,
   "metadata": {},
   "outputs": [
    {
     "name": "stdout",
     "output_type": "stream",
     "text": [
      ".......... Formatting data ........\n",
      ".......... Creating pipeline according to user choices ........\n",
      ".......... using normalisations ........\n",
      ".......... choosing SVM ........\n",
      ".......... Creating pipeline with steps ........\n",
      "[('scaler', StandardScaler()), ('normalizer', Normalizer()), ('model', LinearSVC())]\n",
      "              precision    recall  f1-score   support\n",
      "\n",
      "       False       0.90      0.92      0.91       174\n",
      "        True       0.88      0.86      0.87       122\n",
      "\n",
      "    accuracy                           0.90       296\n",
      "   macro avg       0.89      0.89      0.89       296\n",
      "weighted avg       0.90      0.90      0.90       296\n",
      "\n"
     ]
    }
   ],
   "source": [
    "svm_fabula_1000 = train_svm(df_fabula_train, df_fabula_test, norms=True, kernel=\"LinearSVC\", final_pred=False, get_coefs=False)"
   ]
  },
  {
   "cell_type": "code",
   "execution_count": null,
   "metadata": {},
   "outputs": [],
   "source": []
  },
  {
   "cell_type": "code",
   "execution_count": 43,
   "metadata": {},
   "outputs": [],
   "source": [
    "import random"
   ]
  },
  {
   "cell_type": "code",
   "execution_count": 44,
   "metadata": {},
   "outputs": [],
   "source": [
    "random_list = [bool(random.getrandbits(1)) for i in range(2960)]"
   ]
  },
  {
   "cell_type": "code",
   "execution_count": 45,
   "metadata": {},
   "outputs": [],
   "source": [
    "df_main_temp[\"canon\"] = random_list"
   ]
  },
  {
   "cell_type": "code",
   "execution_count": 46,
   "metadata": {},
   "outputs": [],
   "source": [
    "df_train_rand = df_main_temp.head(2664)\n",
    "df_test_rand = df_main_temp.tail(296)"
   ]
  },
  {
   "cell_type": "code",
   "execution_count": 47,
   "metadata": {},
   "outputs": [
    {
     "name": "stdout",
     "output_type": "stream",
     "text": [
      ".......... Formatting data ........\n",
      ".......... Creating pipeline according to user choices ........\n",
      ".......... using normalisations ........\n",
      ".......... choosing SVM ........\n",
      ".......... Creating pipeline with steps ........\n",
      "[('scaler', StandardScaler()), ('normalizer', Normalizer()), ('model', LinearSVC())]\n",
      "              precision    recall  f1-score   support\n",
      "\n",
      "       False       0.55      0.55      0.55       146\n",
      "        True       0.56      0.56      0.56       150\n",
      "\n",
      "    accuracy                           0.55       296\n",
      "   macro avg       0.55      0.55      0.55       296\n",
      "weighted avg       0.55      0.55      0.55       296\n",
      "\n",
      ".......... Writing final predictions to FINAL_PREDICTIONS.csv ........\n",
      "..........   Get Coef    ..........\n"
     ]
    },
    {
     "data": {
      "image/png": "[encoded data removed]",
      "text/plain": [
       "<Figure size 1080x360 with 1 Axes>"
      ]
     },
     "metadata": {
      "needs_background": "light"
     },
     "output_type": "display_data"
    }
   ],
   "source": [
    "svm_3 = train_svm(df_train_rand, df_test_rand, norms=True, kernel=\"LinearSVC\", final_pred=True, get_coefs=True)"
   ]
  },
  {
   "cell_type": "code",
   "execution_count": null,
   "metadata": {},
   "outputs": [],
   "source": []
  },
  {
   "cell_type": "code",
   "execution_count": 19,
   "metadata": {},
   "outputs": [],
   "source": [
    "df_fabula_ones = pd.read_csv(r'data\\df_fabula_ones.csv')\n",
    "df_fabula_ones.set_index(\"Unnamed: 0\", inplace = True)\n",
    "df_fabula_ones = df_fabula_ones.replace(np.nan, 0)"
   ]
  },
  {
   "cell_type": "code",
   "execution_count": 20,
   "metadata": {},
   "outputs": [
    {
     "data": {
      "text/plain": [
       "394"
      ]
     },
     "execution_count": 20,
     "metadata": {},
     "output_type": "execute_result"
    }
   ],
   "source": [
    "len(df_fabula_ones)"
   ]
  },
  {
   "cell_type": "code",
   "execution_count": 22,
   "metadata": {},
   "outputs": [],
   "source": [
    "df_fabula_ones_train = df_main_temp.head(354)\n",
    "df_fabula_ones_test = df_main_temp.tail(40)"
   ]
  },
  {
   "cell_type": "code",
   "execution_count": 25,
   "metadata": {},
   "outputs": [
    {
     "name": "stdout",
     "output_type": "stream",
     "text": [
      ".......... Formatting data ........\n",
      ".......... Creating pipeline according to user choices ........\n",
      ".......... using normalisations ........\n",
      ".......... choosing SVM ........\n",
      ".......... Creating pipeline with steps ........\n",
      "[('scaler', StandardScaler()), ('normalizer', Normalizer()), ('model', LinearSVC())]\n",
      "              precision    recall  f1-score   support\n",
      "\n",
      "       False       0.93      0.93      0.93        28\n",
      "        True       0.83      0.83      0.83        12\n",
      "\n",
      "    accuracy                           0.90        40\n",
      "   macro avg       0.88      0.88      0.88        40\n",
      "weighted avg       0.90      0.90      0.90        40\n",
      "\n"
     ]
    }
   ],
   "source": [
    "svm_ones = train_svm(df_fabula_ones_train, df_fabula_ones_test, norms=True, kernel=\"LinearSVC\", final_pred=False, get_coefs=False)"
   ]
  },
  {
   "cell_type": "code",
   "execution_count": null,
   "metadata": {},
   "outputs": [],
   "source": []
  },
  {
   "cell_type": "code",
   "execution_count": null,
   "metadata": {},
   "outputs": [],
   "source": []
  },
  {
   "cell_type": "code",
   "execution_count": null,
   "metadata": {},
   "outputs": [],
   "source": []
  },
  {
   "cell_type": "code",
   "execution_count": 26,
   "metadata": {},
   "outputs": [],
   "source": [
    "df_test = pd.read_csv(r'data/df_main_author.csv')\n",
    "df_test.set_index(\"index\", inplace = True)\n",
    "df_test = df_test.replace(np.nan, 0)"
   ]
  },
  {
   "cell_type": "code",
   "execution_count": 27,
   "metadata": {},
   "outputs": [
    {
     "data": {
      "text/plain": [
       "2200"
      ]
     },
     "execution_count": 27,
     "metadata": {},
     "output_type": "execute_result"
    }
   ],
   "source": [
    "len(df_test)"
   ]
  },
  {
   "cell_type": "code",
   "execution_count": 28,
   "metadata": {},
   "outputs": [],
   "source": [
    "df_train_test = df_main_balanced.head(1980)\n",
    "df_test_test = df_main_balanced.tail(220)"
   ]
  },
  {
   "cell_type": "code",
   "execution_count": 30,
   "metadata": {},
   "outputs": [
    {
     "name": "stdout",
     "output_type": "stream",
     "text": [
      ".......... Formatting data ........\n",
      ".......... Creating pipeline according to user choices ........\n",
      ".......... using normalisations ........\n",
      ".......... choosing SVM ........\n",
      ".......... Creating pipeline with steps ........\n",
      "[('scaler', StandardScaler()), ('normalizer', Normalizer()), ('model', SVC())]\n",
      "              precision    recall  f1-score   support\n",
      "\n",
      "       canon       0.83      0.83      0.83        30\n",
      "   non_canon       0.77      0.77      0.77        22\n",
      "\n",
      "    accuracy                           0.81        52\n",
      "   macro avg       0.80      0.80      0.80        52\n",
      "weighted avg       0.81      0.81      0.81        52\n",
      "\n"
     ]
    }
   ],
   "source": [
    "svm_4 = train_svm(df_train_balanced, df_test_balanced, norms=True, kernel=\"rbf\", final_pred=False, get_coefs=False)"
   ]
  },
  {
   "cell_type": "code",
   "execution_count": null,
   "metadata": {},
   "outputs": [],
   "source": []
  },
  {
   "cell_type": "code",
   "execution_count": null,
   "metadata": {},
   "outputs": [],
   "source": []
  },
  {
   "cell_type": "code",
   "execution_count": null,
   "metadata": {},
   "outputs": [],
   "source": []
  },
  {
   "cell_type": "code",
   "execution_count": 11,
   "metadata": {},
   "outputs": [],
   "source": [
    "df_main_balanced = pd.read_csv(r'data\\features_balanced.csv')\n",
    "df_main_balanced.set_index(\"index\", inplace = True)\n",
    "df_main_balanced = df_main_balanced.replace(np.nan, 0)"
   ]
  },
  {
   "cell_type": "code",
   "execution_count": 14,
   "metadata": {},
   "outputs": [],
   "source": [
    "df_train_balanced = df_main_balanced.head(470)\n",
    "df_test_balanced = df_main_balanced.tail(52)"
   ]
  },
  {
   "cell_type": "code",
   "execution_count": 18,
   "metadata": {},
   "outputs": [
    {
     "name": "stdout",
     "output_type": "stream",
     "text": [
      ".......... Formatting data ........\n",
      ".......... Creating pipeline according to user choices ........\n",
      ".......... using normalisations ........\n",
      ".......... choosing SVM ........\n",
      ".......... Creating pipeline with steps ........\n",
      "[('scaler', StandardScaler()), ('normalizer', Normalizer()), ('model', SVC())]\n",
      "              precision    recall  f1-score   support\n",
      "\n",
      "       canon       0.83      0.83      0.83        30\n",
      "   non_canon       0.77      0.77      0.77        22\n",
      "\n",
      "    accuracy                           0.81        52\n",
      "   macro avg       0.80      0.80      0.80        52\n",
      "weighted avg       0.81      0.81      0.81        52\n",
      "\n"
     ]
    }
   ],
   "source": [
    "svm_4 = train_svm(df_train_balanced, df_test_balanced, norms=True, kernel=\"rbf\", final_pred=False, get_coefs=False)"
   ]
  },
  {
   "cell_type": "code",
   "execution_count": 30,
   "metadata": {},
   "outputs": [
    {
     "name": "stdout",
     "output_type": "stream",
     "text": [
      ".......... Formatting data ........\n",
      ".......... Creating pipeline according to user choices ........\n",
      ".......... using normalisations ........\n",
      ".......... choosing SVM ........\n",
      ".......... Creating pipeline with steps ........\n",
      "[('scaler', StandardScaler()), ('normalizer', Normalizer()), ('model', LinearSVC())]\n",
      "              precision    recall  f1-score   support\n",
      "\n",
      "       canon       0.81      0.83      0.82        30\n",
      "   non_canon       0.76      0.73      0.74        22\n",
      "\n",
      "    accuracy                           0.79        52\n",
      "   macro avg       0.78      0.78      0.78        52\n",
      "weighted avg       0.79      0.79      0.79        52\n",
      "\n",
      ".......... Writing final predictions to FINAL_PREDICTIONS.csv ........\n",
      "..........   Get Coef    ..........\n"
     ]
    },
    {
     "data": {
      "image/png": "[encoded data removed]",
      "text/plain": [
       "<Figure size 1080x360 with 1 Axes>"
      ]
     },
     "metadata": {
      "needs_background": "light"
     },
     "output_type": "display_data"
    }
   ],
   "source": [
    "svm_4 = train_svm(df_train_balanced, df_test_balanced, norms=True, kernel=\"LinearSVC\", final_pred=True, get_coefs=True)"
   ]
  },
  {
   "cell_type": "code",
   "execution_count": 31,
   "metadata": {},
   "outputs": [
    {
     "name": "stdout",
     "output_type": "stream",
     "text": [
      ".......... Formatting data ........\n",
      ".......... Creating pipeline according to user choices ........\n",
      ".......... using normalisations ........\n",
      ".......... choosing SVM ........\n",
      ".......... Creating pipeline with steps ........\n",
      "[('scaler', StandardScaler()), ('normalizer', Normalizer()), ('model', LinearSVC())]\n",
      ".......... k-fold cross validation will be performed ........\n",
      ".......... using 10 samples ........\n"
     ]
    },
    {
     "name": "stderr",
     "output_type": "stream",
     "text": [
      "[Parallel(n_jobs=-1)]: Using backend LokyBackend with 4 concurrent workers.\n",
      "[Parallel(n_jobs=-1)]: Done  10 out of  10 | elapsed:   11.7s finished\n"
     ]
    },
    {
     "name": "stdout",
     "output_type": "stream",
     "text": [
      "              precision    recall  f1-score   support\n",
      "\n",
      "       canon       0.69      0.76      0.72       231\n",
      "   non_canon       0.74      0.67      0.70       239\n",
      "\n",
      "    accuracy                           0.71       470\n",
      "   macro avg       0.72      0.71      0.71       470\n",
      "weighted avg       0.72      0.71      0.71       470\n",
      "\n"
     ]
    }
   ],
   "source": [
    "svm_cross_validated = train_svm(df_train_balanced, df_test_balanced, cross_validate='k-fold', norms=True, kernel=\"LinearSVC\", final_pred=False, get_coefs=False)"
   ]
  },
  {
   "cell_type": "code",
   "execution_count": null,
   "metadata": {},
   "outputs": [],
   "source": []
  },
  {
   "cell_type": "code",
   "execution_count": null,
   "metadata": {},
   "outputs": [],
   "source": []
  },
  {
   "cell_type": "code",
   "execution_count": null,
   "metadata": {},
   "outputs": [],
   "source": []
  },
  {
   "cell_type": "code",
   "execution_count": null,
   "metadata": {},
   "outputs": [],
   "source": []
  },
  {
   "cell_type": "code",
   "execution_count": 146,
   "metadata": {},
   "outputs": [],
   "source": [
    "df_main_balanced_unigram = pd.read_csv(r'data\\features_balanced_unigram.csv')\n",
    "df_main_balanced_unigram.set_index(\"index\", inplace = True)\n",
    "df_main_balanced_unigram = df_main_balanced_unigram.replace(np.nan, 0)"
   ]
  },
  {
   "cell_type": "code",
   "execution_count": 147,
   "metadata": {},
   "outputs": [],
   "source": [
    "df_main_balanced_unigram.set_index(\"index\", inplace = True)"
   ]
  },
  {
   "cell_type": "code",
   "execution_count": 148,
   "metadata": {},
   "outputs": [],
   "source": [
    "df_main_balanced_unigram = df_main_balanced_unigram.replace(np.nan, 0)"
   ]
  },
  {
   "cell_type": "code",
   "execution_count": 149,
   "metadata": {},
   "outputs": [],
   "source": [
    "df_train_balanced_unigram = df_main_balanced_unigram.head(470)\n",
    "df_test_balanced_unigram = df_main_balanced_unigram.tail(52)"
   ]
  },
  {
   "cell_type": "code",
   "execution_count": 150,
   "metadata": {},
   "outputs": [
    {
     "name": "stdout",
     "output_type": "stream",
     "text": [
      ".......... Formatting data ........\n",
      ".......... Creating pipeline according to user choices ........\n",
      ".......... using normalisations ........\n",
      ".......... choosing SVM ........\n",
      ".......... Creating pipeline with steps ........\n",
      "[('scaler', StandardScaler()), ('normalizer', Normalizer()), ('model', LinearSVC())]\n",
      "              precision    recall  f1-score   support\n",
      "\n",
      "       canon       0.79      0.73      0.76        30\n",
      "   non_canon       0.67      0.73      0.70        22\n",
      "\n",
      "    accuracy                           0.73        52\n",
      "   macro avg       0.73      0.73      0.73        52\n",
      "weighted avg       0.74      0.73      0.73        52\n",
      "\n",
      ".......... Writing final predictions to FINAL_PREDICTIONS.csv ........\n",
      "..........   Get Coef    ..........\n"
     ]
    },
    {
     "data": {
      "image/png": "[encoded data removed]",
      "text/plain": [
       "<Figure size 1080x360 with 1 Axes>"
      ]
     },
     "metadata": {
      "needs_background": "light"
     },
     "output_type": "display_data"
    }
   ],
   "source": [
    "svm_5 = train_svm(df_train_balanced_unigram, df_test_balanced_unigram, norms=True, kernel=\"LinearSVC\", final_pred=True, get_coefs=True)"
   ]
  },
  {
   "cell_type": "code",
   "execution_count": null,
   "metadata": {},
   "outputs": [],
   "source": []
  },
  {
   "cell_type": "code",
   "execution_count": 37,
   "metadata": {},
   "outputs": [],
   "source": [
    "df_100_most_common_unigrams = df_main_balanced_unigram.iloc[:, 0:100]"
   ]
  },
  {
   "cell_type": "code",
   "execution_count": 38,
   "metadata": {},
   "outputs": [],
   "source": [
    "df_100_most_common_unigrams['canon'] = df_main_balanced_unigram['canon']"
   ]
  },
  {
   "cell_type": "code",
   "execution_count": 39,
   "metadata": {},
   "outputs": [],
   "source": [
    "df_train_balanced_100_most_common_unigrams = df_100_most_common_unigrams.head(470)\n",
    "df_test_balanced_100_most_common_unigrams = df_100_most_common_unigrams.tail(52)"
   ]
  },
  {
   "cell_type": "code",
   "execution_count": 40,
   "metadata": {},
   "outputs": [],
   "source": [
    "list_100_mots = list(df_train_balanced_100_most_common_unigrams.columns)"
   ]
  },
  {
   "cell_type": "code",
   "execution_count": 151,
   "metadata": {},
   "outputs": [
    {
     "name": "stdout",
     "output_type": "stream",
     "text": [
      ".......... Formatting data ........\n",
      ".......... Creating pipeline according to user choices ........\n",
      ".......... using normalisations ........\n",
      ".......... choosing SVM ........\n",
      ".......... Creating pipeline with steps ........\n",
      "[('scaler', StandardScaler()), ('normalizer', Normalizer()), ('model', LinearSVC())]\n",
      "              precision    recall  f1-score   support\n",
      "\n",
      "       canon       0.85      0.77      0.81        30\n",
      "   non_canon       0.72      0.82      0.77        22\n",
      "\n",
      "    accuracy                           0.79        52\n",
      "   macro avg       0.79      0.79      0.79        52\n",
      "weighted avg       0.80      0.79      0.79        52\n",
      "\n"
     ]
    }
   ],
   "source": [
    "svm_5bis = train_svm(df_train_balanced_100_most_common_unigrams, df_test_balanced_100_most_common_unigrams, norms=True, kernel=\"LinearSVC\", final_pred=False, get_coefs=False)"
   ]
  },
  {
   "cell_type": "code",
   "execution_count": null,
   "metadata": {},
   "outputs": [],
   "source": []
  },
  {
   "cell_type": "code",
   "execution_count": null,
   "metadata": {},
   "outputs": [],
   "source": []
  },
  {
   "cell_type": "code",
   "execution_count": null,
   "metadata": {},
   "outputs": [],
   "source": []
  },
  {
   "cell_type": "code",
   "execution_count": null,
   "metadata": {},
   "outputs": [],
   "source": []
  },
  {
   "cell_type": "code",
   "execution_count": 58,
   "metadata": {},
   "outputs": [],
   "source": [
    "df_main_balanced_tout_sauf_unigram = pd.read_csv(r'features_balanced_tout_sauf_unigram.csv')"
   ]
  },
  {
   "cell_type": "code",
   "execution_count": 46,
   "metadata": {},
   "outputs": [],
   "source": [
    "df_main_balanced_tout_sauf_unigram.set_index(\"index\", inplace = True)"
   ]
  },
  {
   "cell_type": "code",
   "execution_count": 47,
   "metadata": {},
   "outputs": [],
   "source": [
    "df_main_balanced_tout_sauf_unigram = df_main_balanced_tout_sauf_unigram.replace(np.nan, 0)"
   ]
  },
  {
   "cell_type": "code",
   "execution_count": 48,
   "metadata": {},
   "outputs": [],
   "source": [
    "df_train_balanced_tout_sauf_unigram = df_main_balanced_tout_sauf_unigram.head(470)\n",
    "df_test_balanced_tout_sauf_unigram = df_main_balanced_tout_sauf_unigram.tail(52)"
   ]
  },
  {
   "cell_type": "code",
   "execution_count": 260,
   "metadata": {},
   "outputs": [
    {
     "name": "stdout",
     "output_type": "stream",
     "text": [
      ".......... Formatting data ........\n",
      ".......... Creating pipeline according to user choices ........\n",
      ".......... using normalisations ........\n",
      ".......... choosing SVM ........\n",
      ".......... Creating pipeline with steps ........\n",
      "[('scaler', StandardScaler(copy=True, with_mean=True, with_std=True)), ('normalizer', Normalizer(copy=True, norm='l2')), ('model', LinearSVC(C=1.0, class_weight=None, dual=True, fit_intercept=True,\n",
      "          intercept_scaling=1, loss='squared_hinge', max_iter=1000,\n",
      "          multi_class='ovr', penalty='l2', random_state=None, tol=0.0001,\n",
      "          verbose=0))]\n",
      "              precision    recall  f1-score   support\n",
      "\n",
      "       canon       0.79      0.77      0.78        30\n",
      "   non_canon       0.70      0.73      0.71        22\n",
      "\n",
      "    accuracy                           0.75        52\n",
      "   macro avg       0.74      0.75      0.75        52\n",
      "weighted avg       0.75      0.75      0.75        52\n",
      "\n",
      "..........   Get Coef    ..........\n"
     ]
    },
    {
     "data": {
      "image/png": "[encoded data removed]",
      "text/plain": [
       "<Figure size 1080x360 with 1 Axes>"
      ]
     },
     "metadata": {
      "needs_background": "light"
     },
     "output_type": "display_data"
    }
   ],
   "source": [
    "svm_6 = train_svm(df_train_balanced_tout_sauf_unigram, df_test_balanced_tout_sauf_unigram, norms=True, kernel=\"LinearSVC\", final_pred=True, get_coefs=True)"
   ]
  },
  {
   "cell_type": "code",
   "execution_count": null,
   "metadata": {},
   "outputs": [],
   "source": []
  },
  {
   "cell_type": "code",
   "execution_count": 8,
   "metadata": {},
   "outputs": [],
   "source": [
    "df_main_ones = pd.read_csv(r'data\\df_main_ones.csv')\n",
    "df_main_ones.rename(columns = {'Unnamed: 0':'index'}, inplace = True)\n",
    "df_main_ones.set_index(\"index\", inplace = True)\n",
    "df_main_ones = df_main_ones.replace(np.nan, 0)"
   ]
  },
  {
   "cell_type": "code",
   "execution_count": 13,
   "metadata": {},
   "outputs": [],
   "source": [
    "df_train_ones = df_main_ones.head(107)\n",
    "df_test_ones = df_main_ones.tail(27)"
   ]
  },
  {
   "cell_type": "code",
   "execution_count": 14,
   "metadata": {},
   "outputs": [
    {
     "name": "stdout",
     "output_type": "stream",
     "text": [
      ".......... Formatting data ........\n",
      ".......... Creating pipeline according to user choices ........\n",
      ".......... using normalisations ........\n",
      ".......... choosing SVM ........\n",
      ".......... Creating pipeline with steps ........\n",
      "[('scaler', StandardScaler()), ('normalizer', Normalizer()), ('model', LinearSVC())]\n",
      "              precision    recall  f1-score   support\n",
      "\n",
      "       canon       0.89      0.53      0.67        15\n",
      "   non_canon       0.61      0.92      0.73        12\n",
      "\n",
      "    accuracy                           0.70        27\n",
      "   macro avg       0.75      0.72      0.70        27\n",
      "weighted avg       0.77      0.70      0.70        27\n",
      "\n"
     ]
    }
   ],
   "source": [
    "svm_6 = train_svm(df_train_ones, df_test_ones, norms=True, kernel=\"LinearSVC\", final_pred=False, get_coefs=False)"
   ]
  },
  {
   "cell_type": "code",
   "execution_count": 20,
   "metadata": {},
   "outputs": [],
   "source": [
    "df_fabula_ones = pd.read_csv(r'data\\df_fabula_ones.csv')\n",
    "df_fabula_ones.rename(columns = {'Unnamed: 0':'index'}, inplace = True)\n",
    "df_fabula_ones.set_index('index', inplace = True)\n",
    "df_fabula_ones = df_fabula_ones.replace(np.nan, 0)"
   ]
  },
  {
   "cell_type": "code",
   "execution_count": 25,
   "metadata": {},
   "outputs": [],
   "source": [
    "df_fabula_train_ones = df_fabula_ones.head(315)\n",
    "df_fabula_test_ones = df_fabula_ones.tail(79)"
   ]
  },
  {
   "cell_type": "code",
   "execution_count": 26,
   "metadata": {},
   "outputs": [
    {
     "name": "stdout",
     "output_type": "stream",
     "text": [
      ".......... Formatting data ........\n",
      ".......... Creating pipeline according to user choices ........\n",
      ".......... using normalisations ........\n",
      ".......... choosing SVM ........\n",
      ".......... Creating pipeline with steps ........\n",
      "[('scaler', StandardScaler()), ('normalizer', Normalizer()), ('model', LinearSVC())]\n",
      "              precision    recall  f1-score   support\n",
      "\n",
      "       False       0.78      0.80      0.79        50\n",
      "        True       0.64      0.62      0.63        29\n",
      "\n",
      "    accuracy                           0.73        79\n",
      "   macro avg       0.71      0.71      0.71        79\n",
      "weighted avg       0.73      0.73      0.73        79\n",
      "\n"
     ]
    }
   ],
   "source": [
    "svm_6 = train_svm(df_fabula_train_ones, df_fabula_test_ones, norms=True, kernel=\"LinearSVC\", final_pred=False, get_coefs=False)"
   ]
  },
  {
   "cell_type": "code",
   "execution_count": null,
   "metadata": {},
   "outputs": [],
   "source": []
  },
  {
   "cell_type": "code",
   "execution_count": null,
   "metadata": {},
   "outputs": [],
   "source": []
  },
  {
   "cell_type": "code",
   "execution_count": 57,
   "metadata": {},
   "outputs": [],
   "source": [
    "from sklearn import linear_model"
   ]
  },
  {
   "cell_type": "code",
   "execution_count": null,
   "metadata": {},
   "outputs": [],
   "source": []
  },
  {
   "cell_type": "code",
   "execution_count": 194,
   "metadata": {},
   "outputs": [],
   "source": [
    "classifier = linear_model.LogisticRegression(C=10000, max_iter=1000)"
   ]
  },
  {
   "cell_type": "code",
   "execution_count": 195,
   "metadata": {},
   "outputs": [
    {
     "data": {
      "text/html": [
       "<style>#sk-11a986ff-83f4-4510-ad52-3df13c2f2743 {color: black;background-color: white;}#sk-11a986ff-83f4-4510-ad52-3df13c2f2743 pre{padding: 0;}#sk-11a986ff-83f4-4510-ad52-3df13c2f2743 div.sk-toggleable {background-color: white;}#sk-11a986ff-83f4-4510-ad52-3df13c2f2743 label.sk-toggleable__label {cursor: pointer;display: block;width: 100%;margin-bottom: 0;padding: 0.3em;box-sizing: border-box;text-align: center;}#sk-11a986ff-83f4-4510-ad52-3df13c2f2743 label.sk-toggleable__label-arrow:before {content: \"▸\";float: left;margin-right: 0.25em;color: #696969;}#sk-11a986ff-83f4-4510-ad52-3df13c2f2743 label.sk-toggleable__label-arrow:hover:before {color: black;}#sk-11a986ff-83f4-4510-ad52-3df13c2f2743 div.sk-estimator:hover label.sk-toggleable__label-arrow:before {color: black;}#sk-11a986ff-83f4-4510-ad52-3df13c2f2743 div.sk-toggleable__content {max-height: 0;max-width: 0;overflow: hidden;text-align: left;background-color: #f0f8ff;}#sk-11a986ff-83f4-4510-ad52-3df13c2f2743 div.sk-toggleable__content pre {margin: 0.2em;color: black;border-radius: 0.25em;background-color: #f0f8ff;}#sk-11a986ff-83f4-4510-ad52-3df13c2f2743 input.sk-toggleable__control:checked~div.sk-toggleable__content {max-height: 200px;max-width: 100%;overflow: auto;}#sk-11a986ff-83f4-4510-ad52-3df13c2f2743 input.sk-toggleable__control:checked~label.sk-toggleable__label-arrow:before {content: \"▾\";}#sk-11a986ff-83f4-4510-ad52-3df13c2f2743 div.sk-estimator input.sk-toggleable__control:checked~label.sk-toggleable__label {background-color: #d4ebff;}#sk-11a986ff-83f4-4510-ad52-3df13c2f2743 div.sk-label input.sk-toggleable__control:checked~label.sk-toggleable__label {background-color: #d4ebff;}#sk-11a986ff-83f4-4510-ad52-3df13c2f2743 input.sk-hidden--visually {border: 0;clip: rect(1px 1px 1px 1px);clip: rect(1px, 1px, 1px, 1px);height: 1px;margin: -1px;overflow: hidden;padding: 0;position: absolute;width: 1px;}#sk-11a986ff-83f4-4510-ad52-3df13c2f2743 div.sk-estimator {font-family: monospace;background-color: #f0f8ff;border: 1px dotted black;border-radius: 0.25em;box-sizing: border-box;margin-bottom: 0.5em;}#sk-11a986ff-83f4-4510-ad52-3df13c2f2743 div.sk-estimator:hover {background-color: #d4ebff;}#sk-11a986ff-83f4-4510-ad52-3df13c2f2743 div.sk-parallel-item::after {content: \"\";width: 100%;border-bottom: 1px solid gray;flex-grow: 1;}#sk-11a986ff-83f4-4510-ad52-3df13c2f2743 div.sk-label:hover label.sk-toggleable__label {background-color: #d4ebff;}#sk-11a986ff-83f4-4510-ad52-3df13c2f2743 div.sk-serial::before {content: \"\";position: absolute;border-left: 1px solid gray;box-sizing: border-box;top: 2em;bottom: 0;left: 50%;}#sk-11a986ff-83f4-4510-ad52-3df13c2f2743 div.sk-serial {display: flex;flex-direction: column;align-items: center;background-color: white;padding-right: 0.2em;padding-left: 0.2em;}#sk-11a986ff-83f4-4510-ad52-3df13c2f2743 div.sk-item {z-index: 1;}#sk-11a986ff-83f4-4510-ad52-3df13c2f2743 div.sk-parallel {display: flex;align-items: stretch;justify-content: center;background-color: white;}#sk-11a986ff-83f4-4510-ad52-3df13c2f2743 div.sk-parallel::before {content: \"\";position: absolute;border-left: 1px solid gray;box-sizing: border-box;top: 2em;bottom: 0;left: 50%;}#sk-11a986ff-83f4-4510-ad52-3df13c2f2743 div.sk-parallel-item {display: flex;flex-direction: column;position: relative;background-color: white;}#sk-11a986ff-83f4-4510-ad52-3df13c2f2743 div.sk-parallel-item:first-child::after {align-self: flex-end;width: 50%;}#sk-11a986ff-83f4-4510-ad52-3df13c2f2743 div.sk-parallel-item:last-child::after {align-self: flex-start;width: 50%;}#sk-11a986ff-83f4-4510-ad52-3df13c2f2743 div.sk-parallel-item:only-child::after {width: 0;}#sk-11a986ff-83f4-4510-ad52-3df13c2f2743 div.sk-dashed-wrapped {border: 1px dashed gray;margin: 0 0.4em 0.5em 0.4em;box-sizing: border-box;padding-bottom: 0.4em;background-color: white;position: relative;}#sk-11a986ff-83f4-4510-ad52-3df13c2f2743 div.sk-label label {font-family: monospace;font-weight: bold;background-color: white;display: inline-block;line-height: 1.2em;}#sk-11a986ff-83f4-4510-ad52-3df13c2f2743 div.sk-label-container {position: relative;z-index: 2;text-align: center;}#sk-11a986ff-83f4-4510-ad52-3df13c2f2743 div.sk-container {/* jupyter's `normalize.less` sets `[hidden] { display: none; }` but bootstrap.min.css set `[hidden] { display: none !important; }` so we also need the `!important` here to be able to override the default hidden behavior on the sphinx rendered scikit-learn.org. See: https://github.com/scikit-learn/scikit-learn/issues/21755 */display: inline-block !important;position: relative;}#sk-11a986ff-83f4-4510-ad52-3df13c2f2743 div.sk-text-repr-fallback {display: none;}</style><div id=\"sk-11a986ff-83f4-4510-ad52-3df13c2f2743\" class=\"sk-top-container\"><div class=\"sk-text-repr-fallback\"><pre>LogisticRegression(C=10000, max_iter=1000)</pre><b>Please rerun this cell to show the HTML repr or trust the notebook.</b></div><div class=\"sk-container\" hidden><div class=\"sk-item\"><div class=\"sk-estimator sk-toggleable\"><input class=\"sk-toggleable__control sk-hidden--visually\" id=\"85163a45-c3b3-4449-9ff5-4016da33111c\" type=\"checkbox\" checked><label for=\"85163a45-c3b3-4449-9ff5-4016da33111c\" class=\"sk-toggleable__label sk-toggleable__label-arrow\">LogisticRegression</label><div class=\"sk-toggleable__content\"><pre>LogisticRegression(C=10000, max_iter=1000)</pre></div></div></div></div></div>"
      ],
      "text/plain": [
       "LogisticRegression(C=10000, max_iter=1000)"
      ]
     },
     "execution_count": 195,
     "metadata": {},
     "output_type": "execute_result"
    }
   ],
   "source": [
    "classifier.fit(df_train_balanced_unigram.drop(['canon'], axis=1), df_train_balanced_unigram['canon'])"
   ]
  },
  {
   "cell_type": "code",
   "execution_count": 196,
   "metadata": {},
   "outputs": [
    {
     "data": {
      "text/plain": [
       "0.8076923076923077"
      ]
     },
     "execution_count": 196,
     "metadata": {},
     "output_type": "execute_result"
    }
   ],
   "source": [
    "classifier.score(df_test_balanced_unigram.drop(['canon'], axis=1), df_test_balanced_unigram['canon'])"
   ]
  },
  {
   "cell_type": "code",
   "execution_count": null,
   "metadata": {},
   "outputs": [],
   "source": []
  },
  {
   "cell_type": "code",
   "execution_count": 197,
   "metadata": {},
   "outputs": [
    {
     "data": {
      "text/plain": [
       "array([ 1.20062259, -0.62812441, -0.15877607,  0.2910872 , -1.04395398,\n",
       "       -0.68045295,  0.98135748,  0.14525938,  1.306635  ,  0.85410073,\n",
       "        1.1069602 ,  1.49869089,  0.35521813, -0.75573399, -0.62188869,\n",
       "       -1.07613175, -0.43883534,  0.47558373, -0.9914549 ,  0.14298441,\n",
       "       -0.47032354,  0.90070928, -0.95236253,  1.37319049, -0.3923139 ,\n",
       "        0.75874511, -0.5498779 ,  0.12048466,  1.53138868, -0.65953291,\n",
       "        1.36210714, -1.40899629, -0.50919068,  2.27330626,  2.26368031,\n",
       "       -0.36759136, -1.37925698, -1.57289478,  2.27186979, -0.65656463,\n",
       "        0.80528373,  0.14091805,  0.58939893, -1.85084211, -1.29731639,\n",
       "       -1.29776784, -1.49169505, -0.80904085,  0.25619906,  0.97488907,\n",
       "        1.52152393, -0.54745147])"
      ]
     },
     "execution_count": 197,
     "metadata": {},
     "output_type": "execute_result"
    }
   ],
   "source": [
    " classifier.decision_function(df_test_balanced_unigram.drop(['canon'], axis=1))"
   ]
  },
  {
   "cell_type": "code",
   "execution_count": 199,
   "metadata": {},
   "outputs": [],
   "source": [
    "Y_test = classifier.predict(df_test_balanced_unigram.drop(['canon'], axis=1))"
   ]
  },
  {
   "cell_type": "code",
   "execution_count": 219,
   "metadata": {},
   "outputs": [
    {
     "data": {
      "text/plain": [
       "array(['canon', 'non_canon'], dtype=object)"
      ]
     },
     "execution_count": 219,
     "metadata": {},
     "output_type": "execute_result"
    }
   ],
   "source": [
    "classifier.classes_"
   ]
  },
  {
   "cell_type": "code",
   "execution_count": null,
   "metadata": {},
   "outputs": [],
   "source": []
  },
  {
   "cell_type": "code",
   "execution_count": 224,
   "metadata": {},
   "outputs": [],
   "source": [
    "df = pd.DataFrame()\n",
    "df['metadata'] = df_test_balanced_unigram['canon']"
   ]
  },
  {
   "cell_type": "code",
   "execution_count": 226,
   "metadata": {},
   "outputs": [],
   "source": [
    "df['proba'] = list(classifier.predict_proba(df_test_balanced_unigram.drop(['canon'], axis=1)))"
   ]
  },
  {
   "cell_type": "code",
   "execution_count": 227,
   "metadata": {},
   "outputs": [],
   "source": [
    "df['prediction']= list(classifier.predict(df_test_balanced_unigram.drop(['canon'], axis=1)))"
   ]
  },
  {
   "cell_type": "code",
   "execution_count": 228,
   "metadata": {},
   "outputs": [
    {
     "data": {
      "text/html": [
       "<div>\n",
       "<style scoped>\n",
       "    .dataframe tbody tr th:only-of-type {\n",
       "        vertical-align: middle;\n",
       "    }\n",
       "\n",
       "    .dataframe tbody tr th {\n",
       "        vertical-align: top;\n",
       "    }\n",
       "\n",
       "    .dataframe thead th {\n",
       "        text-align: right;\n",
       "    }\n",
       "</style>\n",
       "<table border=\"1\" class=\"dataframe\">\n",
       "  <thead>\n",
       "    <tr style=\"text-align: right;\">\n",
       "      <th></th>\n",
       "      <th>metadata</th>\n",
       "      <th>proba</th>\n",
       "      <th>prediction</th>\n",
       "    </tr>\n",
       "    <tr>\n",
       "      <th>index</th>\n",
       "      <th></th>\n",
       "      <th></th>\n",
       "      <th></th>\n",
       "    </tr>\n",
       "  </thead>\n",
       "  <tbody>\n",
       "    <tr>\n",
       "      <th>1906_Bazin-Rene_Stephanette</th>\n",
       "      <td>non_canon</td>\n",
       "      <td>[0.23136447960645434, 0.7686355203935457]</td>\n",
       "      <td>non_canon</td>\n",
       "    </tr>\n",
       "    <tr>\n",
       "      <th>1925_Proust-Marcel_Albertine-disparue</th>\n",
       "      <td>canon</td>\n",
       "      <td>[0.6520640558403874, 0.3479359441596126]</td>\n",
       "      <td>canon</td>\n",
       "    </tr>\n",
       "    <tr>\n",
       "      <th>1934_Vercel-Roger_Capitaine-Conan</th>\n",
       "      <td>canon</td>\n",
       "      <td>[0.539610838400394, 0.46038916159960597]</td>\n",
       "      <td>canon</td>\n",
       "    </tr>\n",
       "    <tr>\n",
       "      <th>1842_Balzac-Honore-de_Le-Contrat-de-mariage</th>\n",
       "      <td>canon</td>\n",
       "      <td>[0.427737723738033, 0.572262276261967]</td>\n",
       "      <td>non_canon</td>\n",
       "    </tr>\n",
       "    <tr>\n",
       "      <th>1889_Guy-de-Maupassant_La-main-gauche</th>\n",
       "      <td>canon</td>\n",
       "      <td>[0.7396122092060067, 0.2603877907939934]</td>\n",
       "      <td>canon</td>\n",
       "    </tr>\n",
       "    <tr>\n",
       "      <th>1991_Combescot-Pierre_Les-filles-du-Calvaire</th>\n",
       "      <td>canon</td>\n",
       "      <td>[0.6638397834112879, 0.33616021658871204]</td>\n",
       "      <td>canon</td>\n",
       "    </tr>\n",
       "    <tr>\n",
       "      <th>1845_Sue-Eugene_La-coucaratcha_Tome-III</th>\n",
       "      <td>non_canon</td>\n",
       "      <td>[0.27262251209589683, 0.7273774879041032]</td>\n",
       "      <td>non_canon</td>\n",
       "    </tr>\n",
       "    <tr>\n",
       "      <th>1890_Delpit-Edouard_Yvonne</th>\n",
       "      <td>non_canon</td>\n",
       "      <td>[0.4637488761156474, 0.5362511238843526]</td>\n",
       "      <td>non_canon</td>\n",
       "    </tr>\n",
       "    <tr>\n",
       "      <th>1845_Dumas-Alexandre_Le-batard-de-Mauleon_I</th>\n",
       "      <td>non_canon</td>\n",
       "      <td>[0.21305047438762525, 0.7869495256123747]</td>\n",
       "      <td>non_canon</td>\n",
       "    </tr>\n",
       "    <tr>\n",
       "      <th>1927_Gide-Andre_Les-Faux-monnayeurs</th>\n",
       "      <td>canon</td>\n",
       "      <td>[0.29857334331559515, 0.7014266566844048]</td>\n",
       "      <td>non_canon</td>\n",
       "    </tr>\n",
       "    <tr>\n",
       "      <th>1863_Chevalier-H-Emile_Poignet-d-acier-ou-Les-Chippiouais</th>\n",
       "      <td>non_canon</td>\n",
       "      <td>[0.24843803639623097, 0.751561963603769]</td>\n",
       "      <td>non_canon</td>\n",
       "    </tr>\n",
       "    <tr>\n",
       "      <th>1878_Aimard-Gustave-Auriac-Jules-Berlioz-d_Jim-l-Indien</th>\n",
       "      <td>non_canon</td>\n",
       "      <td>[0.182620854824313, 0.817379145175687]</td>\n",
       "      <td>non_canon</td>\n",
       "    </tr>\n",
       "    <tr>\n",
       "      <th>1900_Colette_La-retraite-sentimentale</th>\n",
       "      <td>non_canon</td>\n",
       "      <td>[0.4121176133778265, 0.5878823866221735]</td>\n",
       "      <td>non_canon</td>\n",
       "    </tr>\n",
       "    <tr>\n",
       "      <th>2007_Claudel-Philippe_Le-rapport-de-Brodeck</th>\n",
       "      <td>canon</td>\n",
       "      <td>[0.68042682071914, 0.3195731792808601]</td>\n",
       "      <td>canon</td>\n",
       "    </tr>\n",
       "    <tr>\n",
       "      <th>1968_Barjavel-Rene_La-nuit-des-temps</th>\n",
       "      <td>non_canon</td>\n",
       "      <td>[0.6506479802820907, 0.3493520197179093]</td>\n",
       "      <td>canon</td>\n",
       "    </tr>\n",
       "    <tr>\n",
       "      <th>1843_Balzac-Honore-de_Pierrette</th>\n",
       "      <td>canon</td>\n",
       "      <td>[0.7457612547720756, 0.2542387452279244]</td>\n",
       "      <td>canon</td>\n",
       "    </tr>\n",
       "    <tr>\n",
       "      <th>1974_Yourcenar-Marguerite_Souvenirs-pieux</th>\n",
       "      <td>canon</td>\n",
       "      <td>[0.6079814805605424, 0.39201851943945765]</td>\n",
       "      <td>canon</td>\n",
       "    </tr>\n",
       "    <tr>\n",
       "      <th>1881_Valles-Jules_Le-Bachelier</th>\n",
       "      <td>canon</td>\n",
       "      <td>[0.38329550425907266, 0.6167044957409273]</td>\n",
       "      <td>non_canon</td>\n",
       "    </tr>\n",
       "    <tr>\n",
       "      <th>1887_Bloy-Leon_Le-Desespere</th>\n",
       "      <td>canon</td>\n",
       "      <td>[0.7293751964196178, 0.27062480358038227]</td>\n",
       "      <td>canon</td>\n",
       "    </tr>\n",
       "    <tr>\n",
       "      <th>1876_Sand-George_Horace</th>\n",
       "      <td>canon</td>\n",
       "      <td>[0.46431467335462173, 0.5356853266453783]</td>\n",
       "      <td>non_canon</td>\n",
       "    </tr>\n",
       "    <tr>\n",
       "      <th>1983_Sarraute-Nathalie_Enfance</th>\n",
       "      <td>canon</td>\n",
       "      <td>[0.6154603318755978, 0.38453966812440216]</td>\n",
       "      <td>canon</td>\n",
       "    </tr>\n",
       "    <tr>\n",
       "      <th>1857_La-Rounat-Charles-de_La-Comedie-de-l-amour</th>\n",
       "      <td>non_canon</td>\n",
       "      <td>[0.28890476280360045, 0.7110952371963996]</td>\n",
       "      <td>non_canon</td>\n",
       "    </tr>\n",
       "    <tr>\n",
       "      <th>1910_Rolland-Romain_Jean-Christophe_Tome-VIII-Les-amies</th>\n",
       "      <td>canon</td>\n",
       "      <td>[0.7215900541240081, 0.2784099458759919]</td>\n",
       "      <td>canon</td>\n",
       "    </tr>\n",
       "    <tr>\n",
       "      <th>1831_Signol-Alphonse-Macaire-Stanislas_Le-Chiffonnier_Tome-1</th>\n",
       "      <td>non_canon</td>\n",
       "      <td>[0.202104863391942, 0.797895136608058]</td>\n",
       "      <td>non_canon</td>\n",
       "    </tr>\n",
       "    <tr>\n",
       "      <th>2005_Germain-Sylvie_Magnus</th>\n",
       "      <td>canon</td>\n",
       "      <td>[0.5968395981883747, 0.4031604018116252]</td>\n",
       "      <td>canon</td>\n",
       "    </tr>\n",
       "    <tr>\n",
       "      <th>1846_Sand-George_La-Mare-au-Diable</th>\n",
       "      <td>canon</td>\n",
       "      <td>[0.3189187787028511, 0.6810812212971489]</td>\n",
       "      <td>non_canon</td>\n",
       "    </tr>\n",
       "    <tr>\n",
       "      <th>1996_Rolin-Jean_L-Organisation</th>\n",
       "      <td>canon</td>\n",
       "      <td>[0.6341072617452681, 0.36589273825473184]</td>\n",
       "      <td>canon</td>\n",
       "    </tr>\n",
       "    <tr>\n",
       "      <th>2004_Damasio-Alain_La-Horde-du-Contrevent</th>\n",
       "      <td>non_canon</td>\n",
       "      <td>[0.4699152203341256, 0.5300847796658744]</td>\n",
       "      <td>non_canon</td>\n",
       "    </tr>\n",
       "    <tr>\n",
       "      <th>1928_Cami-Pierre-Henri_le-jugement-dernier</th>\n",
       "      <td>non_canon</td>\n",
       "      <td>[0.17779059627171245, 0.8222094037282875]</td>\n",
       "      <td>non_canon</td>\n",
       "    </tr>\n",
       "    <tr>\n",
       "      <th>1874_Barbey-d-Aurevilly-Jules_Les-Diaboliques</th>\n",
       "      <td>canon</td>\n",
       "      <td>[0.6591554552160258, 0.3408445447839742]</td>\n",
       "      <td>canon</td>\n",
       "    </tr>\n",
       "    <tr>\n",
       "      <th>1918_Delly_Le-mystere-de-Ker-Even</th>\n",
       "      <td>non_canon</td>\n",
       "      <td>[0.20389805077436018, 0.7961019492256398]</td>\n",
       "      <td>non_canon</td>\n",
       "    </tr>\n",
       "    <tr>\n",
       "      <th>1974_Laine-Pascal_La-dentelliere</th>\n",
       "      <td>canon</td>\n",
       "      <td>[0.8036075831931073, 0.19639241680689268]</td>\n",
       "      <td>canon</td>\n",
       "    </tr>\n",
       "    <tr>\n",
       "      <th>1842_Dumas-Alexandre_Le-Capitaine-Arena_Volume-2</th>\n",
       "      <td>non_canon</td>\n",
       "      <td>[0.6246167323898926, 0.37538326761010743]</td>\n",
       "      <td>canon</td>\n",
       "    </tr>\n",
       "    <tr>\n",
       "      <th>1953_San-Antonio_Descendez-le-a-la-prochaine</th>\n",
       "      <td>non_canon</td>\n",
       "      <td>[0.09335798648586113, 0.9066420135141389]</td>\n",
       "      <td>non_canon</td>\n",
       "    </tr>\n",
       "    <tr>\n",
       "      <th>1960_San-Antonio_Du-sirop-pour-les-guepes</th>\n",
       "      <td>non_canon</td>\n",
       "      <td>[0.09417594435457799, 0.905824055645422]</td>\n",
       "      <td>non_canon</td>\n",
       "    </tr>\n",
       "    <tr>\n",
       "      <th>1839_Stendhal_La-Chartreuse-de-Parme</th>\n",
       "      <td>canon</td>\n",
       "      <td>[0.5908768386546364, 0.40912316134536364]</td>\n",
       "      <td>canon</td>\n",
       "    </tr>\n",
       "    <tr>\n",
       "      <th>1983_Ernaux-Annie_La-place</th>\n",
       "      <td>canon</td>\n",
       "      <td>[0.7988716415930122, 0.20112835840698784]</td>\n",
       "      <td>canon</td>\n",
       "    </tr>\n",
       "    <tr>\n",
       "      <th>1892_Rodenbach-Georges_Bruges-la-Morte</th>\n",
       "      <td>canon</td>\n",
       "      <td>[0.8281958902064662, 0.17180410979353378]</td>\n",
       "      <td>canon</td>\n",
       "    </tr>\n",
       "    <tr>\n",
       "      <th>1879_Chavette-Eugene_Nous-marions-Virginie</th>\n",
       "      <td>non_canon</td>\n",
       "      <td>[0.09347964346806037, 0.9065203565319396]</td>\n",
       "      <td>non_canon</td>\n",
       "    </tr>\n",
       "    <tr>\n",
       "      <th>2008_Enard-Mathias_Zone</th>\n",
       "      <td>canon</td>\n",
       "      <td>[0.6584882589151175, 0.3415117410848825]</td>\n",
       "      <td>canon</td>\n",
       "    </tr>\n",
       "    <tr>\n",
       "      <th>1873_Marmette-Joseph_Chevalier-de-Mornac</th>\n",
       "      <td>non_canon</td>\n",
       "      <td>[0.3088964131267433, 0.6911035868732567]</td>\n",
       "      <td>non_canon</td>\n",
       "    </tr>\n",
       "    <tr>\n",
       "      <th>1849_Chateaubriand-François-Rene-de_Memoires-d-Outre-Tombe_Tome-5</th>\n",
       "      <td>canon</td>\n",
       "      <td>[0.46482867036644615, 0.5351713296335538]</td>\n",
       "      <td>non_canon</td>\n",
       "    </tr>\n",
       "    <tr>\n",
       "      <th>1843_Pigault-Lebrun_Mon-oncle-Thomas</th>\n",
       "      <td>non_canon</td>\n",
       "      <td>[0.35677278029847215, 0.6432272197015279]</td>\n",
       "      <td>non_canon</td>\n",
       "    </tr>\n",
       "    <tr>\n",
       "      <th>1904_Rolland-Romain_Jean-Christophe_Tome-I-L-aube</th>\n",
       "      <td>canon</td>\n",
       "      <td>[0.8642259458361994, 0.1357740541638006]</td>\n",
       "      <td>canon</td>\n",
       "    </tr>\n",
       "    <tr>\n",
       "      <th>1860_Goncourt-Edmond-de-Goncourt-Jules-de_Charles-Demailly</th>\n",
       "      <td>canon</td>\n",
       "      <td>[0.7853829894005071, 0.2146170105994929]</td>\n",
       "      <td>canon</td>\n",
       "    </tr>\n",
       "    <tr>\n",
       "      <th>1999_Volodine-Antoine_Des-anges-mineurs</th>\n",
       "      <td>canon</td>\n",
       "      <td>[0.7854590744334209, 0.21454092556657905]</td>\n",
       "      <td>canon</td>\n",
       "    </tr>\n",
       "    <tr>\n",
       "      <th>1885_Guy-de-Maupassant_Contes-du-jour-et-de-la-nuit</th>\n",
       "      <td>canon</td>\n",
       "      <td>[0.8163325537154714, 0.1836674462845286]</td>\n",
       "      <td>canon</td>\n",
       "    </tr>\n",
       "    <tr>\n",
       "      <th>1846_Balzac-Honore-de_Une-tenebreuse-affaire</th>\n",
       "      <td>canon</td>\n",
       "      <td>[0.6919050768045207, 0.30809492319547926]</td>\n",
       "      <td>canon</td>\n",
       "    </tr>\n",
       "    <tr>\n",
       "      <th>1893_Lemonnier-Camille_L-Homme-qui-tue-les-femmes</th>\n",
       "      <td>non_canon</td>\n",
       "      <td>[0.4362982918801467, 0.5637017081198533]</td>\n",
       "      <td>non_canon</td>\n",
       "    </tr>\n",
       "    <tr>\n",
       "      <th>1935_Delly_Contes</th>\n",
       "      <td>canon</td>\n",
       "      <td>[0.2739070800626284, 0.7260929199373716]</td>\n",
       "      <td>non_canon</td>\n",
       "    </tr>\n",
       "    <tr>\n",
       "      <th>2016_Laurens-Camille_Celle-que-vous-croyez</th>\n",
       "      <td>non_canon</td>\n",
       "      <td>[0.17923722231580508, 0.8207627776841949]</td>\n",
       "      <td>non_canon</td>\n",
       "    </tr>\n",
       "    <tr>\n",
       "      <th>2007_Gailly-Christian_Les-Oublies</th>\n",
       "      <td>non_canon</td>\n",
       "      <td>[0.6335441109429057, 0.36645588905709425]</td>\n",
       "      <td>canon</td>\n",
       "    </tr>\n",
       "  </tbody>\n",
       "</table>\n",
       "</div>"
      ],
      "text/plain": [
       "                                                     metadata  \\\n",
       "index                                                           \n",
       "1906_Bazin-Rene_Stephanette                         non_canon   \n",
       "1925_Proust-Marcel_Albertine-disparue                   canon   \n",
       "1934_Vercel-Roger_Capitaine-Conan                       canon   \n",
       "1842_Balzac-Honore-de_Le-Contrat-de-mariage             canon   \n",
       "1889_Guy-de-Maupassant_La-main-gauche                   canon   \n",
       "1991_Combescot-Pierre_Les-filles-du-Calvaire            canon   \n",
       "1845_Sue-Eugene_La-coucaratcha_Tome-III             non_canon   \n",
       "1890_Delpit-Edouard_Yvonne                          non_canon   \n",
       "1845_Dumas-Alexandre_Le-batard-de-Mauleon_I         non_canon   \n",
       "1927_Gide-Andre_Les-Faux-monnayeurs                     canon   \n",
       "1863_Chevalier-H-Emile_Poignet-d-acier-ou-Les-C...  non_canon   \n",
       "1878_Aimard-Gustave-Auriac-Jules-Berlioz-d_Jim-...  non_canon   \n",
       "1900_Colette_La-retraite-sentimentale               non_canon   \n",
       "2007_Claudel-Philippe_Le-rapport-de-Brodeck             canon   \n",
       "1968_Barjavel-Rene_La-nuit-des-temps                non_canon   \n",
       "1843_Balzac-Honore-de_Pierrette                         canon   \n",
       "1974_Yourcenar-Marguerite_Souvenirs-pieux               canon   \n",
       "1881_Valles-Jules_Le-Bachelier                          canon   \n",
       "1887_Bloy-Leon_Le-Desespere                             canon   \n",
       "1876_Sand-George_Horace                                 canon   \n",
       "1983_Sarraute-Nathalie_Enfance                          canon   \n",
       "1857_La-Rounat-Charles-de_La-Comedie-de-l-amour     non_canon   \n",
       "1910_Rolland-Romain_Jean-Christophe_Tome-VIII-L...      canon   \n",
       "1831_Signol-Alphonse-Macaire-Stanislas_Le-Chiff...  non_canon   \n",
       "2005_Germain-Sylvie_Magnus                              canon   \n",
       "1846_Sand-George_La-Mare-au-Diable                      canon   \n",
       "1996_Rolin-Jean_L-Organisation                          canon   \n",
       "2004_Damasio-Alain_La-Horde-du-Contrevent           non_canon   \n",
       "1928_Cami-Pierre-Henri_le-jugement-dernier          non_canon   \n",
       "1874_Barbey-d-Aurevilly-Jules_Les-Diaboliques           canon   \n",
       "1918_Delly_Le-mystere-de-Ker-Even                   non_canon   \n",
       "1974_Laine-Pascal_La-dentelliere                        canon   \n",
       "1842_Dumas-Alexandre_Le-Capitaine-Arena_Volume-2    non_canon   \n",
       "1953_San-Antonio_Descendez-le-a-la-prochaine        non_canon   \n",
       "1960_San-Antonio_Du-sirop-pour-les-guepes           non_canon   \n",
       "1839_Stendhal_La-Chartreuse-de-Parme                    canon   \n",
       "1983_Ernaux-Annie_La-place                              canon   \n",
       "1892_Rodenbach-Georges_Bruges-la-Morte                  canon   \n",
       "1879_Chavette-Eugene_Nous-marions-Virginie          non_canon   \n",
       "2008_Enard-Mathias_Zone                                 canon   \n",
       "1873_Marmette-Joseph_Chevalier-de-Mornac            non_canon   \n",
       "1849_Chateaubriand-François-Rene-de_Memoires-d-...      canon   \n",
       "1843_Pigault-Lebrun_Mon-oncle-Thomas                non_canon   \n",
       "1904_Rolland-Romain_Jean-Christophe_Tome-I-L-aube       canon   \n",
       "1860_Goncourt-Edmond-de-Goncourt-Jules-de_Charl...      canon   \n",
       "1999_Volodine-Antoine_Des-anges-mineurs                 canon   \n",
       "1885_Guy-de-Maupassant_Contes-du-jour-et-de-la-...      canon   \n",
       "1846_Balzac-Honore-de_Une-tenebreuse-affaire            canon   \n",
       "1893_Lemonnier-Camille_L-Homme-qui-tue-les-femmes   non_canon   \n",
       "1935_Delly_Contes                                       canon   \n",
       "2016_Laurens-Camille_Celle-que-vous-croyez          non_canon   \n",
       "2007_Gailly-Christian_Les-Oublies                   non_canon   \n",
       "\n",
       "                                                                                        proba  \\\n",
       "index                                                                                           \n",
       "1906_Bazin-Rene_Stephanette                         [0.23136447960645434, 0.7686355203935457]   \n",
       "1925_Proust-Marcel_Albertine-disparue                [0.6520640558403874, 0.3479359441596126]   \n",
       "1934_Vercel-Roger_Capitaine-Conan                    [0.539610838400394, 0.46038916159960597]   \n",
       "1842_Balzac-Honore-de_Le-Contrat-de-mariage            [0.427737723738033, 0.572262276261967]   \n",
       "1889_Guy-de-Maupassant_La-main-gauche                [0.7396122092060067, 0.2603877907939934]   \n",
       "1991_Combescot-Pierre_Les-filles-du-Calvaire        [0.6638397834112879, 0.33616021658871204]   \n",
       "1845_Sue-Eugene_La-coucaratcha_Tome-III             [0.27262251209589683, 0.7273774879041032]   \n",
       "1890_Delpit-Edouard_Yvonne                           [0.4637488761156474, 0.5362511238843526]   \n",
       "1845_Dumas-Alexandre_Le-batard-de-Mauleon_I         [0.21305047438762525, 0.7869495256123747]   \n",
       "1927_Gide-Andre_Les-Faux-monnayeurs                 [0.29857334331559515, 0.7014266566844048]   \n",
       "1863_Chevalier-H-Emile_Poignet-d-acier-ou-Les-C...   [0.24843803639623097, 0.751561963603769]   \n",
       "1878_Aimard-Gustave-Auriac-Jules-Berlioz-d_Jim-...     [0.182620854824313, 0.817379145175687]   \n",
       "1900_Colette_La-retraite-sentimentale                [0.4121176133778265, 0.5878823866221735]   \n",
       "2007_Claudel-Philippe_Le-rapport-de-Brodeck            [0.68042682071914, 0.3195731792808601]   \n",
       "1968_Barjavel-Rene_La-nuit-des-temps                 [0.6506479802820907, 0.3493520197179093]   \n",
       "1843_Balzac-Honore-de_Pierrette                      [0.7457612547720756, 0.2542387452279244]   \n",
       "1974_Yourcenar-Marguerite_Souvenirs-pieux           [0.6079814805605424, 0.39201851943945765]   \n",
       "1881_Valles-Jules_Le-Bachelier                      [0.38329550425907266, 0.6167044957409273]   \n",
       "1887_Bloy-Leon_Le-Desespere                         [0.7293751964196178, 0.27062480358038227]   \n",
       "1876_Sand-George_Horace                             [0.46431467335462173, 0.5356853266453783]   \n",
       "1983_Sarraute-Nathalie_Enfance                      [0.6154603318755978, 0.38453966812440216]   \n",
       "1857_La-Rounat-Charles-de_La-Comedie-de-l-amour     [0.28890476280360045, 0.7110952371963996]   \n",
       "1910_Rolland-Romain_Jean-Christophe_Tome-VIII-L...   [0.7215900541240081, 0.2784099458759919]   \n",
       "1831_Signol-Alphonse-Macaire-Stanislas_Le-Chiff...     [0.202104863391942, 0.797895136608058]   \n",
       "2005_Germain-Sylvie_Magnus                           [0.5968395981883747, 0.4031604018116252]   \n",
       "1846_Sand-George_La-Mare-au-Diable                   [0.3189187787028511, 0.6810812212971489]   \n",
       "1996_Rolin-Jean_L-Organisation                      [0.6341072617452681, 0.36589273825473184]   \n",
       "2004_Damasio-Alain_La-Horde-du-Contrevent            [0.4699152203341256, 0.5300847796658744]   \n",
       "1928_Cami-Pierre-Henri_le-jugement-dernier          [0.17779059627171245, 0.8222094037282875]   \n",
       "1874_Barbey-d-Aurevilly-Jules_Les-Diaboliques        [0.6591554552160258, 0.3408445447839742]   \n",
       "1918_Delly_Le-mystere-de-Ker-Even                   [0.20389805077436018, 0.7961019492256398]   \n",
       "1974_Laine-Pascal_La-dentelliere                    [0.8036075831931073, 0.19639241680689268]   \n",
       "1842_Dumas-Alexandre_Le-Capitaine-Arena_Volume-2    [0.6246167323898926, 0.37538326761010743]   \n",
       "1953_San-Antonio_Descendez-le-a-la-prochaine        [0.09335798648586113, 0.9066420135141389]   \n",
       "1960_San-Antonio_Du-sirop-pour-les-guepes            [0.09417594435457799, 0.905824055645422]   \n",
       "1839_Stendhal_La-Chartreuse-de-Parme                [0.5908768386546364, 0.40912316134536364]   \n",
       "1983_Ernaux-Annie_La-place                          [0.7988716415930122, 0.20112835840698784]   \n",
       "1892_Rodenbach-Georges_Bruges-la-Morte              [0.8281958902064662, 0.17180410979353378]   \n",
       "1879_Chavette-Eugene_Nous-marions-Virginie          [0.09347964346806037, 0.9065203565319396]   \n",
       "2008_Enard-Mathias_Zone                              [0.6584882589151175, 0.3415117410848825]   \n",
       "1873_Marmette-Joseph_Chevalier-de-Mornac             [0.3088964131267433, 0.6911035868732567]   \n",
       "1849_Chateaubriand-François-Rene-de_Memoires-d-...  [0.46482867036644615, 0.5351713296335538]   \n",
       "1843_Pigault-Lebrun_Mon-oncle-Thomas                [0.35677278029847215, 0.6432272197015279]   \n",
       "1904_Rolland-Romain_Jean-Christophe_Tome-I-L-aube    [0.8642259458361994, 0.1357740541638006]   \n",
       "1860_Goncourt-Edmond-de-Goncourt-Jules-de_Charl...   [0.7853829894005071, 0.2146170105994929]   \n",
       "1999_Volodine-Antoine_Des-anges-mineurs             [0.7854590744334209, 0.21454092556657905]   \n",
       "1885_Guy-de-Maupassant_Contes-du-jour-et-de-la-...   [0.8163325537154714, 0.1836674462845286]   \n",
       "1846_Balzac-Honore-de_Une-tenebreuse-affaire        [0.6919050768045207, 0.30809492319547926]   \n",
       "1893_Lemonnier-Camille_L-Homme-qui-tue-les-femmes    [0.4362982918801467, 0.5637017081198533]   \n",
       "1935_Delly_Contes                                    [0.2739070800626284, 0.7260929199373716]   \n",
       "2016_Laurens-Camille_Celle-que-vous-croyez          [0.17923722231580508, 0.8207627776841949]   \n",
       "2007_Gailly-Christian_Les-Oublies                   [0.6335441109429057, 0.36645588905709425]   \n",
       "\n",
       "                                                   prediction  \n",
       "index                                                          \n",
       "1906_Bazin-Rene_Stephanette                         non_canon  \n",
       "1925_Proust-Marcel_Albertine-disparue                   canon  \n",
       "1934_Vercel-Roger_Capitaine-Conan                       canon  \n",
       "1842_Balzac-Honore-de_Le-Contrat-de-mariage         non_canon  \n",
       "1889_Guy-de-Maupassant_La-main-gauche                   canon  \n",
       "1991_Combescot-Pierre_Les-filles-du-Calvaire            canon  \n",
       "1845_Sue-Eugene_La-coucaratcha_Tome-III             non_canon  \n",
       "1890_Delpit-Edouard_Yvonne                          non_canon  \n",
       "1845_Dumas-Alexandre_Le-batard-de-Mauleon_I         non_canon  \n",
       "1927_Gide-Andre_Les-Faux-monnayeurs                 non_canon  \n",
       "1863_Chevalier-H-Emile_Poignet-d-acier-ou-Les-C...  non_canon  \n",
       "1878_Aimard-Gustave-Auriac-Jules-Berlioz-d_Jim-...  non_canon  \n",
       "1900_Colette_La-retraite-sentimentale               non_canon  \n",
       "2007_Claudel-Philippe_Le-rapport-de-Brodeck             canon  \n",
       "1968_Barjavel-Rene_La-nuit-des-temps                    canon  \n",
       "1843_Balzac-Honore-de_Pierrette                         canon  \n",
       "1974_Yourcenar-Marguerite_Souvenirs-pieux               canon  \n",
       "1881_Valles-Jules_Le-Bachelier                      non_canon  \n",
       "1887_Bloy-Leon_Le-Desespere                             canon  \n",
       "1876_Sand-George_Horace                             non_canon  \n",
       "1983_Sarraute-Nathalie_Enfance                          canon  \n",
       "1857_La-Rounat-Charles-de_La-Comedie-de-l-amour     non_canon  \n",
       "1910_Rolland-Romain_Jean-Christophe_Tome-VIII-L...      canon  \n",
       "1831_Signol-Alphonse-Macaire-Stanislas_Le-Chiff...  non_canon  \n",
       "2005_Germain-Sylvie_Magnus                              canon  \n",
       "1846_Sand-George_La-Mare-au-Diable                  non_canon  \n",
       "1996_Rolin-Jean_L-Organisation                          canon  \n",
       "2004_Damasio-Alain_La-Horde-du-Contrevent           non_canon  \n",
       "1928_Cami-Pierre-Henri_le-jugement-dernier          non_canon  \n",
       "1874_Barbey-d-Aurevilly-Jules_Les-Diaboliques           canon  \n",
       "1918_Delly_Le-mystere-de-Ker-Even                   non_canon  \n",
       "1974_Laine-Pascal_La-dentelliere                        canon  \n",
       "1842_Dumas-Alexandre_Le-Capitaine-Arena_Volume-2        canon  \n",
       "1953_San-Antonio_Descendez-le-a-la-prochaine        non_canon  \n",
       "1960_San-Antonio_Du-sirop-pour-les-guepes           non_canon  \n",
       "1839_Stendhal_La-Chartreuse-de-Parme                    canon  \n",
       "1983_Ernaux-Annie_La-place                              canon  \n",
       "1892_Rodenbach-Georges_Bruges-la-Morte                  canon  \n",
       "1879_Chavette-Eugene_Nous-marions-Virginie          non_canon  \n",
       "2008_Enard-Mathias_Zone                                 canon  \n",
       "1873_Marmette-Joseph_Chevalier-de-Mornac            non_canon  \n",
       "1849_Chateaubriand-François-Rene-de_Memoires-d-...  non_canon  \n",
       "1843_Pigault-Lebrun_Mon-oncle-Thomas                non_canon  \n",
       "1904_Rolland-Romain_Jean-Christophe_Tome-I-L-aube       canon  \n",
       "1860_Goncourt-Edmond-de-Goncourt-Jules-de_Charl...      canon  \n",
       "1999_Volodine-Antoine_Des-anges-mineurs                 canon  \n",
       "1885_Guy-de-Maupassant_Contes-du-jour-et-de-la-...      canon  \n",
       "1846_Balzac-Honore-de_Une-tenebreuse-affaire            canon  \n",
       "1893_Lemonnier-Camille_L-Homme-qui-tue-les-femmes   non_canon  \n",
       "1935_Delly_Contes                                   non_canon  \n",
       "2016_Laurens-Camille_Celle-que-vous-croyez          non_canon  \n",
       "2007_Gailly-Christian_Les-Oublies                       canon  "
      ]
     },
     "execution_count": 228,
     "metadata": {},
     "output_type": "execute_result"
    }
   ],
   "source": [
    "df"
   ]
  },
  {
   "cell_type": "code",
   "execution_count": null,
   "metadata": {},
   "outputs": [],
   "source": []
  },
  {
   "cell_type": "code",
   "execution_count": null,
   "metadata": {},
   "outputs": [],
   "source": []
  },
  {
   "cell_type": "code",
   "execution_count": null,
   "metadata": {},
   "outputs": [],
   "source": []
  },
  {
   "cell_type": "code",
   "execution_count": null,
   "metadata": {},
   "outputs": [],
   "source": []
  },
  {
   "cell_type": "code",
   "execution_count": null,
   "metadata": {},
   "outputs": [],
   "source": []
  },
  {
   "cell_type": "code",
   "execution_count": 155,
   "metadata": {},
   "outputs": [],
   "source": [
    "from sklearn.pipeline import make_pipeline\n",
    "from sklearn.preprocessing import StandardScaler\n",
    "from sklearn.svm import SVC"
   ]
  },
  {
   "cell_type": "code",
   "execution_count": null,
   "metadata": {},
   "outputs": [],
   "source": []
  },
  {
   "cell_type": "code",
   "execution_count": 160,
   "metadata": {},
   "outputs": [
    {
     "data": {
      "text/html": [
       "<style>#sk-5b688e38-6858-432c-ab31-ed7312e7f361 {color: black;background-color: white;}#sk-5b688e38-6858-432c-ab31-ed7312e7f361 pre{padding: 0;}#sk-5b688e38-6858-432c-ab31-ed7312e7f361 div.sk-toggleable {background-color: white;}#sk-5b688e38-6858-432c-ab31-ed7312e7f361 label.sk-toggleable__label {cursor: pointer;display: block;width: 100%;margin-bottom: 0;padding: 0.3em;box-sizing: border-box;text-align: center;}#sk-5b688e38-6858-432c-ab31-ed7312e7f361 label.sk-toggleable__label-arrow:before {content: \"▸\";float: left;margin-right: 0.25em;color: #696969;}#sk-5b688e38-6858-432c-ab31-ed7312e7f361 label.sk-toggleable__label-arrow:hover:before {color: black;}#sk-5b688e38-6858-432c-ab31-ed7312e7f361 div.sk-estimator:hover label.sk-toggleable__label-arrow:before {color: black;}#sk-5b688e38-6858-432c-ab31-ed7312e7f361 div.sk-toggleable__content {max-height: 0;max-width: 0;overflow: hidden;text-align: left;background-color: #f0f8ff;}#sk-5b688e38-6858-432c-ab31-ed7312e7f361 div.sk-toggleable__content pre {margin: 0.2em;color: black;border-radius: 0.25em;background-color: #f0f8ff;}#sk-5b688e38-6858-432c-ab31-ed7312e7f361 input.sk-toggleable__control:checked~div.sk-toggleable__content {max-height: 200px;max-width: 100%;overflow: auto;}#sk-5b688e38-6858-432c-ab31-ed7312e7f361 input.sk-toggleable__control:checked~label.sk-toggleable__label-arrow:before {content: \"▾\";}#sk-5b688e38-6858-432c-ab31-ed7312e7f361 div.sk-estimator input.sk-toggleable__control:checked~label.sk-toggleable__label {background-color: #d4ebff;}#sk-5b688e38-6858-432c-ab31-ed7312e7f361 div.sk-label input.sk-toggleable__control:checked~label.sk-toggleable__label {background-color: #d4ebff;}#sk-5b688e38-6858-432c-ab31-ed7312e7f361 input.sk-hidden--visually {border: 0;clip: rect(1px 1px 1px 1px);clip: rect(1px, 1px, 1px, 1px);height: 1px;margin: -1px;overflow: hidden;padding: 0;position: absolute;width: 1px;}#sk-5b688e38-6858-432c-ab31-ed7312e7f361 div.sk-estimator {font-family: monospace;background-color: #f0f8ff;border: 1px dotted black;border-radius: 0.25em;box-sizing: border-box;margin-bottom: 0.5em;}#sk-5b688e38-6858-432c-ab31-ed7312e7f361 div.sk-estimator:hover {background-color: #d4ebff;}#sk-5b688e38-6858-432c-ab31-ed7312e7f361 div.sk-parallel-item::after {content: \"\";width: 100%;border-bottom: 1px solid gray;flex-grow: 1;}#sk-5b688e38-6858-432c-ab31-ed7312e7f361 div.sk-label:hover label.sk-toggleable__label {background-color: #d4ebff;}#sk-5b688e38-6858-432c-ab31-ed7312e7f361 div.sk-serial::before {content: \"\";position: absolute;border-left: 1px solid gray;box-sizing: border-box;top: 2em;bottom: 0;left: 50%;}#sk-5b688e38-6858-432c-ab31-ed7312e7f361 div.sk-serial {display: flex;flex-direction: column;align-items: center;background-color: white;padding-right: 0.2em;padding-left: 0.2em;}#sk-5b688e38-6858-432c-ab31-ed7312e7f361 div.sk-item {z-index: 1;}#sk-5b688e38-6858-432c-ab31-ed7312e7f361 div.sk-parallel {display: flex;align-items: stretch;justify-content: center;background-color: white;}#sk-5b688e38-6858-432c-ab31-ed7312e7f361 div.sk-parallel::before {content: \"\";position: absolute;border-left: 1px solid gray;box-sizing: border-box;top: 2em;bottom: 0;left: 50%;}#sk-5b688e38-6858-432c-ab31-ed7312e7f361 div.sk-parallel-item {display: flex;flex-direction: column;position: relative;background-color: white;}#sk-5b688e38-6858-432c-ab31-ed7312e7f361 div.sk-parallel-item:first-child::after {align-self: flex-end;width: 50%;}#sk-5b688e38-6858-432c-ab31-ed7312e7f361 div.sk-parallel-item:last-child::after {align-self: flex-start;width: 50%;}#sk-5b688e38-6858-432c-ab31-ed7312e7f361 div.sk-parallel-item:only-child::after {width: 0;}#sk-5b688e38-6858-432c-ab31-ed7312e7f361 div.sk-dashed-wrapped {border: 1px dashed gray;margin: 0 0.4em 0.5em 0.4em;box-sizing: border-box;padding-bottom: 0.4em;background-color: white;position: relative;}#sk-5b688e38-6858-432c-ab31-ed7312e7f361 div.sk-label label {font-family: monospace;font-weight: bold;background-color: white;display: inline-block;line-height: 1.2em;}#sk-5b688e38-6858-432c-ab31-ed7312e7f361 div.sk-label-container {position: relative;z-index: 2;text-align: center;}#sk-5b688e38-6858-432c-ab31-ed7312e7f361 div.sk-container {/* jupyter's `normalize.less` sets `[hidden] { display: none; }` but bootstrap.min.css set `[hidden] { display: none !important; }` so we also need the `!important` here to be able to override the default hidden behavior on the sphinx rendered scikit-learn.org. See: https://github.com/scikit-learn/scikit-learn/issues/21755 */display: inline-block !important;position: relative;}#sk-5b688e38-6858-432c-ab31-ed7312e7f361 div.sk-text-repr-fallback {display: none;}</style><div id=\"sk-5b688e38-6858-432c-ab31-ed7312e7f361\" class=\"sk-top-container\"><div class=\"sk-text-repr-fallback\"><pre>Pipeline(steps=[(&#x27;standardscaler&#x27;, StandardScaler()),\n",
       "                (&#x27;svc&#x27;, SVC(gamma=&#x27;auto&#x27;, probability=True))])</pre><b>Please rerun this cell to show the HTML repr or trust the notebook.</b></div><div class=\"sk-container\" hidden><div class=\"sk-item sk-dashed-wrapped\"><div class=\"sk-label-container\"><div class=\"sk-label sk-toggleable\"><input class=\"sk-toggleable__control sk-hidden--visually\" id=\"ac9187c9-f1b3-49d0-9c33-131ba28bbf4e\" type=\"checkbox\" ><label for=\"ac9187c9-f1b3-49d0-9c33-131ba28bbf4e\" class=\"sk-toggleable__label sk-toggleable__label-arrow\">Pipeline</label><div class=\"sk-toggleable__content\"><pre>Pipeline(steps=[(&#x27;standardscaler&#x27;, StandardScaler()),\n",
       "                (&#x27;svc&#x27;, SVC(gamma=&#x27;auto&#x27;, probability=True))])</pre></div></div></div><div class=\"sk-serial\"><div class=\"sk-item\"><div class=\"sk-estimator sk-toggleable\"><input class=\"sk-toggleable__control sk-hidden--visually\" id=\"497a997a-b750-4d82-85dc-937ff9451ef4\" type=\"checkbox\" ><label for=\"497a997a-b750-4d82-85dc-937ff9451ef4\" class=\"sk-toggleable__label sk-toggleable__label-arrow\">StandardScaler</label><div class=\"sk-toggleable__content\"><pre>StandardScaler()</pre></div></div></div><div class=\"sk-item\"><div class=\"sk-estimator sk-toggleable\"><input class=\"sk-toggleable__control sk-hidden--visually\" id=\"3eeba794-10ed-4dec-8d6e-cca4c9523f7c\" type=\"checkbox\" ><label for=\"3eeba794-10ed-4dec-8d6e-cca4c9523f7c\" class=\"sk-toggleable__label sk-toggleable__label-arrow\">SVC</label><div class=\"sk-toggleable__content\"><pre>SVC(gamma=&#x27;auto&#x27;, probability=True)</pre></div></div></div></div></div></div></div>"
      ],
      "text/plain": [
       "Pipeline(steps=[('standardscaler', StandardScaler()),\n",
       "                ('svc', SVC(gamma='auto', probability=True))])"
      ]
     },
     "execution_count": 160,
     "metadata": {},
     "output_type": "execute_result"
    }
   ],
   "source": [
    "pipe = make_pipeline(StandardScaler(), SVC(gamma='auto', probability=True))\n",
    "pipe.fit(df_fabula_train.drop(['canon'], axis=1), df_fabula_train['canon'])"
   ]
  },
  {
   "cell_type": "code",
   "execution_count": 165,
   "metadata": {},
   "outputs": [
    {
     "data": {
      "text/html": [
       "<style>#sk-707897ae-4098-4bfc-9656-d0641dbd0b18 {color: black;background-color: white;}#sk-707897ae-4098-4bfc-9656-d0641dbd0b18 pre{padding: 0;}#sk-707897ae-4098-4bfc-9656-d0641dbd0b18 div.sk-toggleable {background-color: white;}#sk-707897ae-4098-4bfc-9656-d0641dbd0b18 label.sk-toggleable__label {cursor: pointer;display: block;width: 100%;margin-bottom: 0;padding: 0.3em;box-sizing: border-box;text-align: center;}#sk-707897ae-4098-4bfc-9656-d0641dbd0b18 label.sk-toggleable__label-arrow:before {content: \"▸\";float: left;margin-right: 0.25em;color: #696969;}#sk-707897ae-4098-4bfc-9656-d0641dbd0b18 label.sk-toggleable__label-arrow:hover:before {color: black;}#sk-707897ae-4098-4bfc-9656-d0641dbd0b18 div.sk-estimator:hover label.sk-toggleable__label-arrow:before {color: black;}#sk-707897ae-4098-4bfc-9656-d0641dbd0b18 div.sk-toggleable__content {max-height: 0;max-width: 0;overflow: hidden;text-align: left;background-color: #f0f8ff;}#sk-707897ae-4098-4bfc-9656-d0641dbd0b18 div.sk-toggleable__content pre {margin: 0.2em;color: black;border-radius: 0.25em;background-color: #f0f8ff;}#sk-707897ae-4098-4bfc-9656-d0641dbd0b18 input.sk-toggleable__control:checked~div.sk-toggleable__content {max-height: 200px;max-width: 100%;overflow: auto;}#sk-707897ae-4098-4bfc-9656-d0641dbd0b18 input.sk-toggleable__control:checked~label.sk-toggleable__label-arrow:before {content: \"▾\";}#sk-707897ae-4098-4bfc-9656-d0641dbd0b18 div.sk-estimator input.sk-toggleable__control:checked~label.sk-toggleable__label {background-color: #d4ebff;}#sk-707897ae-4098-4bfc-9656-d0641dbd0b18 div.sk-label input.sk-toggleable__control:checked~label.sk-toggleable__label {background-color: #d4ebff;}#sk-707897ae-4098-4bfc-9656-d0641dbd0b18 input.sk-hidden--visually {border: 0;clip: rect(1px 1px 1px 1px);clip: rect(1px, 1px, 1px, 1px);height: 1px;margin: -1px;overflow: hidden;padding: 0;position: absolute;width: 1px;}#sk-707897ae-4098-4bfc-9656-d0641dbd0b18 div.sk-estimator {font-family: monospace;background-color: #f0f8ff;border: 1px dotted black;border-radius: 0.25em;box-sizing: border-box;margin-bottom: 0.5em;}#sk-707897ae-4098-4bfc-9656-d0641dbd0b18 div.sk-estimator:hover {background-color: #d4ebff;}#sk-707897ae-4098-4bfc-9656-d0641dbd0b18 div.sk-parallel-item::after {content: \"\";width: 100%;border-bottom: 1px solid gray;flex-grow: 1;}#sk-707897ae-4098-4bfc-9656-d0641dbd0b18 div.sk-label:hover label.sk-toggleable__label {background-color: #d4ebff;}#sk-707897ae-4098-4bfc-9656-d0641dbd0b18 div.sk-serial::before {content: \"\";position: absolute;border-left: 1px solid gray;box-sizing: border-box;top: 2em;bottom: 0;left: 50%;}#sk-707897ae-4098-4bfc-9656-d0641dbd0b18 div.sk-serial {display: flex;flex-direction: column;align-items: center;background-color: white;padding-right: 0.2em;padding-left: 0.2em;}#sk-707897ae-4098-4bfc-9656-d0641dbd0b18 div.sk-item {z-index: 1;}#sk-707897ae-4098-4bfc-9656-d0641dbd0b18 div.sk-parallel {display: flex;align-items: stretch;justify-content: center;background-color: white;}#sk-707897ae-4098-4bfc-9656-d0641dbd0b18 div.sk-parallel::before {content: \"\";position: absolute;border-left: 1px solid gray;box-sizing: border-box;top: 2em;bottom: 0;left: 50%;}#sk-707897ae-4098-4bfc-9656-d0641dbd0b18 div.sk-parallel-item {display: flex;flex-direction: column;position: relative;background-color: white;}#sk-707897ae-4098-4bfc-9656-d0641dbd0b18 div.sk-parallel-item:first-child::after {align-self: flex-end;width: 50%;}#sk-707897ae-4098-4bfc-9656-d0641dbd0b18 div.sk-parallel-item:last-child::after {align-self: flex-start;width: 50%;}#sk-707897ae-4098-4bfc-9656-d0641dbd0b18 div.sk-parallel-item:only-child::after {width: 0;}#sk-707897ae-4098-4bfc-9656-d0641dbd0b18 div.sk-dashed-wrapped {border: 1px dashed gray;margin: 0 0.4em 0.5em 0.4em;box-sizing: border-box;padding-bottom: 0.4em;background-color: white;position: relative;}#sk-707897ae-4098-4bfc-9656-d0641dbd0b18 div.sk-label label {font-family: monospace;font-weight: bold;background-color: white;display: inline-block;line-height: 1.2em;}#sk-707897ae-4098-4bfc-9656-d0641dbd0b18 div.sk-label-container {position: relative;z-index: 2;text-align: center;}#sk-707897ae-4098-4bfc-9656-d0641dbd0b18 div.sk-container {/* jupyter's `normalize.less` sets `[hidden] { display: none; }` but bootstrap.min.css set `[hidden] { display: none !important; }` so we also need the `!important` here to be able to override the default hidden behavior on the sphinx rendered scikit-learn.org. See: https://github.com/scikit-learn/scikit-learn/issues/21755 */display: inline-block !important;position: relative;}#sk-707897ae-4098-4bfc-9656-d0641dbd0b18 div.sk-text-repr-fallback {display: none;}</style><div id=\"sk-707897ae-4098-4bfc-9656-d0641dbd0b18\" class=\"sk-top-container\"><div class=\"sk-text-repr-fallback\"><pre>Pipeline(steps=[(&#x27;standardscaler&#x27;, StandardScaler()),\n",
       "                (&#x27;svc&#x27;, SVC(gamma=&#x27;auto&#x27;, probability=True))])</pre><b>Please rerun this cell to show the HTML repr or trust the notebook.</b></div><div class=\"sk-container\" hidden><div class=\"sk-item sk-dashed-wrapped\"><div class=\"sk-label-container\"><div class=\"sk-label sk-toggleable\"><input class=\"sk-toggleable__control sk-hidden--visually\" id=\"bb13ed9e-22fb-4d4a-b5b7-8353cdb2d3cd\" type=\"checkbox\" ><label for=\"bb13ed9e-22fb-4d4a-b5b7-8353cdb2d3cd\" class=\"sk-toggleable__label sk-toggleable__label-arrow\">Pipeline</label><div class=\"sk-toggleable__content\"><pre>Pipeline(steps=[(&#x27;standardscaler&#x27;, StandardScaler()),\n",
       "                (&#x27;svc&#x27;, SVC(gamma=&#x27;auto&#x27;, probability=True))])</pre></div></div></div><div class=\"sk-serial\"><div class=\"sk-item\"><div class=\"sk-estimator sk-toggleable\"><input class=\"sk-toggleable__control sk-hidden--visually\" id=\"0b12131f-5718-4d5d-9644-514f33904504\" type=\"checkbox\" ><label for=\"0b12131f-5718-4d5d-9644-514f33904504\" class=\"sk-toggleable__label sk-toggleable__label-arrow\">StandardScaler</label><div class=\"sk-toggleable__content\"><pre>StandardScaler()</pre></div></div></div><div class=\"sk-item\"><div class=\"sk-estimator sk-toggleable\"><input class=\"sk-toggleable__control sk-hidden--visually\" id=\"98953ebd-2c45-47bf-a008-e917ab7dcbe1\" type=\"checkbox\" ><label for=\"98953ebd-2c45-47bf-a008-e917ab7dcbe1\" class=\"sk-toggleable__label sk-toggleable__label-arrow\">SVC</label><div class=\"sk-toggleable__content\"><pre>SVC(gamma=&#x27;auto&#x27;, probability=True)</pre></div></div></div></div></div></div></div>"
      ],
      "text/plain": [
       "Pipeline(steps=[('standardscaler', StandardScaler()),\n",
       "                ('svc', SVC(gamma='auto', probability=True))])"
      ]
     },
     "execution_count": 165,
     "metadata": {},
     "output_type": "execute_result"
    }
   ],
   "source": [
    "pipe = make_pipeline(StandardScaler(), SVC(gamma='auto', probability=True))\n",
    "pipe.fit(df_fabula_train.drop(['canon'], axis=1), df_fabula_train['canon'])"
   ]
  },
  {
   "cell_type": "code",
   "execution_count": 166,
   "metadata": {},
   "outputs": [
    {
     "data": {
      "text/plain": [
       "0.918918918918919"
      ]
     },
     "execution_count": 166,
     "metadata": {},
     "output_type": "execute_result"
    }
   ],
   "source": [
    "pipe.score(df_fabula_test.drop(['canon'], axis=1), df_fabula_test['canon'])"
   ]
  },
  {
   "cell_type": "code",
   "execution_count": null,
   "metadata": {},
   "outputs": [],
   "source": []
  },
  {
   "cell_type": "markdown",
   "metadata": {},
   "source": [
    "# Unigram Balanced Data"
   ]
  },
  {
   "cell_type": "code",
   "execution_count": 51,
   "metadata": {},
   "outputs": [],
   "source": [
    "pipe = make_pipeline(StandardScaler(), SVC(gamma='auto', probability=True))"
   ]
  },
  {
   "cell_type": "code",
   "execution_count": 52,
   "metadata": {},
   "outputs": [
    {
     "data": {
      "text/plain": [
       "Pipeline(steps=[('standardscaler', StandardScaler()),\n",
       "                ('svc', SVC(gamma='auto', probability=True))])"
      ]
     },
     "execution_count": 52,
     "metadata": {},
     "output_type": "execute_result"
    }
   ],
   "source": [
    "pipe.fit(df_train_balanced_unigram.drop(['canon'], axis=1), df_train_balanced_unigram['canon'])"
   ]
  },
  {
   "cell_type": "code",
   "execution_count": 53,
   "metadata": {},
   "outputs": [
    {
     "data": {
      "text/plain": [
       "0.7884615384615384"
      ]
     },
     "execution_count": 53,
     "metadata": {},
     "output_type": "execute_result"
    }
   ],
   "source": [
    "pipe.score(df_test_balanced_unigram.drop(['canon'], axis=1), df_test_balanced_unigram['canon'])"
   ]
  },
  {
   "cell_type": "code",
   "execution_count": 54,
   "metadata": {},
   "outputs": [
    {
     "data": {
      "text/plain": [
       "array(['canon', 'non_canon'], dtype=object)"
      ]
     },
     "execution_count": 54,
     "metadata": {},
     "output_type": "execute_result"
    }
   ],
   "source": [
    "pipe.classes_"
   ]
  },
  {
   "cell_type": "code",
   "execution_count": 77,
   "metadata": {},
   "outputs": [],
   "source": [
    "df_test_res = pd.DataFrame()\n",
    "df_test_res['metadata'] = df_test_balanced_unigram['canon']\n",
    "df_test_res['proba canon'] = pipe.predict_proba(df_test_balanced_unigram.drop(['canon'], axis=1))[:,0]\n",
    "df_test_res['proba non-canon'] = pipe.predict_proba(df_test_balanced_unigram.drop(['canon'], axis=1))[:,1]\n",
    "df_test_res['prediction']= pipe.predict(df_test_balanced_unigram.drop(['canon'], axis=1))"
   ]
  },
  {
   "cell_type": "code",
   "execution_count": 78,
   "metadata": {},
   "outputs": [],
   "source": [
    "df_test_res['accord'] = [True if row['metadata'] == row['prediction'] else False for index, row in df_test.iterrows()]"
   ]
  },
  {
   "cell_type": "code",
   "execution_count": 79,
   "metadata": {},
   "outputs": [
    {
     "data": {
      "text/plain": [
       "True     78.846154\n",
       "False    21.153846\n",
       "Name: accord, dtype: float64"
      ]
     },
     "execution_count": 79,
     "metadata": {},
     "output_type": "execute_result"
    }
   ],
   "source": [
    "df_test_res['accord'].value_counts(normalize=True)*100"
   ]
  },
  {
   "cell_type": "code",
   "execution_count": 80,
   "metadata": {},
   "outputs": [],
   "source": [
    "df_test_res.to_csv('df_test_results.csv')"
   ]
  },
  {
   "cell_type": "code",
   "execution_count": 81,
   "metadata": {},
   "outputs": [
    {
     "data": {
      "text/html": [
       "<div>\n",
       "<style scoped>\n",
       "    .dataframe tbody tr th:only-of-type {\n",
       "        vertical-align: middle;\n",
       "    }\n",
       "\n",
       "    .dataframe tbody tr th {\n",
       "        vertical-align: top;\n",
       "    }\n",
       "\n",
       "    .dataframe thead th {\n",
       "        text-align: right;\n",
       "    }\n",
       "</style>\n",
       "<table border=\"1\" class=\"dataframe\">\n",
       "  <thead>\n",
       "    <tr style=\"text-align: right;\">\n",
       "      <th></th>\n",
       "      <th>metadata</th>\n",
       "      <th>proba canon</th>\n",
       "      <th>proba non-canon</th>\n",
       "      <th>prediction</th>\n",
       "      <th>accord</th>\n",
       "    </tr>\n",
       "    <tr>\n",
       "      <th>index</th>\n",
       "      <th></th>\n",
       "      <th></th>\n",
       "      <th></th>\n",
       "      <th></th>\n",
       "      <th></th>\n",
       "    </tr>\n",
       "  </thead>\n",
       "  <tbody>\n",
       "    <tr>\n",
       "      <th>1906_Bazin-Rene_Stephanette</th>\n",
       "      <td>non_canon</td>\n",
       "      <td>0.135731</td>\n",
       "      <td>0.864269</td>\n",
       "      <td>non_canon</td>\n",
       "      <td>True</td>\n",
       "    </tr>\n",
       "    <tr>\n",
       "      <th>1925_Proust-Marcel_Albertine-disparue</th>\n",
       "      <td>canon</td>\n",
       "      <td>0.359348</td>\n",
       "      <td>0.640652</td>\n",
       "      <td>non_canon</td>\n",
       "      <td>False</td>\n",
       "    </tr>\n",
       "    <tr>\n",
       "      <th>1934_Vercel-Roger_Capitaine-Conan</th>\n",
       "      <td>canon</td>\n",
       "      <td>0.740349</td>\n",
       "      <td>0.259651</td>\n",
       "      <td>canon</td>\n",
       "      <td>True</td>\n",
       "    </tr>\n",
       "    <tr>\n",
       "      <th>1842_Balzac-Honore-de_Le-Contrat-de-mariage</th>\n",
       "      <td>canon</td>\n",
       "      <td>0.490124</td>\n",
       "      <td>0.509876</td>\n",
       "      <td>canon</td>\n",
       "      <td>True</td>\n",
       "    </tr>\n",
       "    <tr>\n",
       "      <th>1889_Guy-de-Maupassant_La-main-gauche</th>\n",
       "      <td>canon</td>\n",
       "      <td>0.897291</td>\n",
       "      <td>0.102709</td>\n",
       "      <td>canon</td>\n",
       "      <td>True</td>\n",
       "    </tr>\n",
       "    <tr>\n",
       "      <th>1991_Combescot-Pierre_Les-filles-du-Calvaire</th>\n",
       "      <td>canon</td>\n",
       "      <td>0.709550</td>\n",
       "      <td>0.290450</td>\n",
       "      <td>canon</td>\n",
       "      <td>True</td>\n",
       "    </tr>\n",
       "    <tr>\n",
       "      <th>1845_Sue-Eugene_La-coucaratcha_Tome-III</th>\n",
       "      <td>non_canon</td>\n",
       "      <td>0.288546</td>\n",
       "      <td>0.711454</td>\n",
       "      <td>non_canon</td>\n",
       "      <td>True</td>\n",
       "    </tr>\n",
       "    <tr>\n",
       "      <th>1890_Delpit-Edouard_Yvonne</th>\n",
       "      <td>non_canon</td>\n",
       "      <td>0.204836</td>\n",
       "      <td>0.795164</td>\n",
       "      <td>non_canon</td>\n",
       "      <td>True</td>\n",
       "    </tr>\n",
       "    <tr>\n",
       "      <th>1845_Dumas-Alexandre_Le-batard-de-Mauleon_I</th>\n",
       "      <td>non_canon</td>\n",
       "      <td>0.237078</td>\n",
       "      <td>0.762922</td>\n",
       "      <td>non_canon</td>\n",
       "      <td>True</td>\n",
       "    </tr>\n",
       "    <tr>\n",
       "      <th>1927_Gide-Andre_Les-Faux-monnayeurs</th>\n",
       "      <td>canon</td>\n",
       "      <td>0.297418</td>\n",
       "      <td>0.702582</td>\n",
       "      <td>non_canon</td>\n",
       "      <td>False</td>\n",
       "    </tr>\n",
       "    <tr>\n",
       "      <th>1863_Chevalier-H-Emile_Poignet-d-acier-ou-Les-Chippiouais</th>\n",
       "      <td>non_canon</td>\n",
       "      <td>0.072481</td>\n",
       "      <td>0.927519</td>\n",
       "      <td>non_canon</td>\n",
       "      <td>True</td>\n",
       "    </tr>\n",
       "    <tr>\n",
       "      <th>1878_Aimard-Gustave-Auriac-Jules-Berlioz-d_Jim-l-Indien</th>\n",
       "      <td>non_canon</td>\n",
       "      <td>0.131794</td>\n",
       "      <td>0.868206</td>\n",
       "      <td>non_canon</td>\n",
       "      <td>True</td>\n",
       "    </tr>\n",
       "    <tr>\n",
       "      <th>1900_Colette_La-retraite-sentimentale</th>\n",
       "      <td>non_canon</td>\n",
       "      <td>0.877460</td>\n",
       "      <td>0.122540</td>\n",
       "      <td>canon</td>\n",
       "      <td>False</td>\n",
       "    </tr>\n",
       "    <tr>\n",
       "      <th>2007_Claudel-Philippe_Le-rapport-de-Brodeck</th>\n",
       "      <td>canon</td>\n",
       "      <td>0.940296</td>\n",
       "      <td>0.059704</td>\n",
       "      <td>canon</td>\n",
       "      <td>True</td>\n",
       "    </tr>\n",
       "    <tr>\n",
       "      <th>1968_Barjavel-Rene_La-nuit-des-temps</th>\n",
       "      <td>non_canon</td>\n",
       "      <td>0.638073</td>\n",
       "      <td>0.361927</td>\n",
       "      <td>canon</td>\n",
       "      <td>False</td>\n",
       "    </tr>\n",
       "    <tr>\n",
       "      <th>1843_Balzac-Honore-de_Pierrette</th>\n",
       "      <td>canon</td>\n",
       "      <td>0.850624</td>\n",
       "      <td>0.149376</td>\n",
       "      <td>canon</td>\n",
       "      <td>True</td>\n",
       "    </tr>\n",
       "    <tr>\n",
       "      <th>1974_Yourcenar-Marguerite_Souvenirs-pieux</th>\n",
       "      <td>canon</td>\n",
       "      <td>0.577130</td>\n",
       "      <td>0.422870</td>\n",
       "      <td>canon</td>\n",
       "      <td>True</td>\n",
       "    </tr>\n",
       "    <tr>\n",
       "      <th>1881_Valles-Jules_Le-Bachelier</th>\n",
       "      <td>canon</td>\n",
       "      <td>0.790351</td>\n",
       "      <td>0.209649</td>\n",
       "      <td>canon</td>\n",
       "      <td>True</td>\n",
       "    </tr>\n",
       "    <tr>\n",
       "      <th>1887_Bloy-Leon_Le-Desespere</th>\n",
       "      <td>canon</td>\n",
       "      <td>0.605418</td>\n",
       "      <td>0.394582</td>\n",
       "      <td>canon</td>\n",
       "      <td>True</td>\n",
       "    </tr>\n",
       "    <tr>\n",
       "      <th>1876_Sand-George_Horace</th>\n",
       "      <td>canon</td>\n",
       "      <td>0.313228</td>\n",
       "      <td>0.686772</td>\n",
       "      <td>non_canon</td>\n",
       "      <td>False</td>\n",
       "    </tr>\n",
       "    <tr>\n",
       "      <th>1983_Sarraute-Nathalie_Enfance</th>\n",
       "      <td>canon</td>\n",
       "      <td>0.623405</td>\n",
       "      <td>0.376595</td>\n",
       "      <td>canon</td>\n",
       "      <td>True</td>\n",
       "    </tr>\n",
       "    <tr>\n",
       "      <th>1857_La-Rounat-Charles-de_La-Comedie-de-l-amour</th>\n",
       "      <td>non_canon</td>\n",
       "      <td>0.236974</td>\n",
       "      <td>0.763026</td>\n",
       "      <td>non_canon</td>\n",
       "      <td>True</td>\n",
       "    </tr>\n",
       "    <tr>\n",
       "      <th>1910_Rolland-Romain_Jean-Christophe_Tome-VIII-Les-amies</th>\n",
       "      <td>canon</td>\n",
       "      <td>0.813285</td>\n",
       "      <td>0.186715</td>\n",
       "      <td>canon</td>\n",
       "      <td>True</td>\n",
       "    </tr>\n",
       "    <tr>\n",
       "      <th>1831_Signol-Alphonse-Macaire-Stanislas_Le-Chiffonnier_Tome-1</th>\n",
       "      <td>non_canon</td>\n",
       "      <td>0.387731</td>\n",
       "      <td>0.612269</td>\n",
       "      <td>non_canon</td>\n",
       "      <td>True</td>\n",
       "    </tr>\n",
       "    <tr>\n",
       "      <th>2005_Germain-Sylvie_Magnus</th>\n",
       "      <td>canon</td>\n",
       "      <td>0.799110</td>\n",
       "      <td>0.200890</td>\n",
       "      <td>canon</td>\n",
       "      <td>True</td>\n",
       "    </tr>\n",
       "    <tr>\n",
       "      <th>1846_Sand-George_La-Mare-au-Diable</th>\n",
       "      <td>canon</td>\n",
       "      <td>0.324762</td>\n",
       "      <td>0.675238</td>\n",
       "      <td>non_canon</td>\n",
       "      <td>False</td>\n",
       "    </tr>\n",
       "    <tr>\n",
       "      <th>1996_Rolin-Jean_L-Organisation</th>\n",
       "      <td>canon</td>\n",
       "      <td>0.456414</td>\n",
       "      <td>0.543586</td>\n",
       "      <td>non_canon</td>\n",
       "      <td>False</td>\n",
       "    </tr>\n",
       "    <tr>\n",
       "      <th>2004_Damasio-Alain_La-Horde-du-Contrevent</th>\n",
       "      <td>non_canon</td>\n",
       "      <td>0.677985</td>\n",
       "      <td>0.322015</td>\n",
       "      <td>canon</td>\n",
       "      <td>False</td>\n",
       "    </tr>\n",
       "    <tr>\n",
       "      <th>1928_Cami-Pierre-Henri_le-jugement-dernier</th>\n",
       "      <td>non_canon</td>\n",
       "      <td>0.158358</td>\n",
       "      <td>0.841642</td>\n",
       "      <td>non_canon</td>\n",
       "      <td>True</td>\n",
       "    </tr>\n",
       "    <tr>\n",
       "      <th>1874_Barbey-d-Aurevilly-Jules_Les-Diaboliques</th>\n",
       "      <td>canon</td>\n",
       "      <td>0.838389</td>\n",
       "      <td>0.161611</td>\n",
       "      <td>canon</td>\n",
       "      <td>True</td>\n",
       "    </tr>\n",
       "    <tr>\n",
       "      <th>1918_Delly_Le-mystere-de-Ker-Even</th>\n",
       "      <td>non_canon</td>\n",
       "      <td>0.068457</td>\n",
       "      <td>0.931543</td>\n",
       "      <td>non_canon</td>\n",
       "      <td>True</td>\n",
       "    </tr>\n",
       "    <tr>\n",
       "      <th>1974_Laine-Pascal_La-dentelliere</th>\n",
       "      <td>canon</td>\n",
       "      <td>0.656329</td>\n",
       "      <td>0.343671</td>\n",
       "      <td>canon</td>\n",
       "      <td>True</td>\n",
       "    </tr>\n",
       "    <tr>\n",
       "      <th>1842_Dumas-Alexandre_Le-Capitaine-Arena_Volume-2</th>\n",
       "      <td>non_canon</td>\n",
       "      <td>0.627914</td>\n",
       "      <td>0.372086</td>\n",
       "      <td>canon</td>\n",
       "      <td>False</td>\n",
       "    </tr>\n",
       "    <tr>\n",
       "      <th>1953_San-Antonio_Descendez-le-a-la-prochaine</th>\n",
       "      <td>non_canon</td>\n",
       "      <td>0.073509</td>\n",
       "      <td>0.926491</td>\n",
       "      <td>non_canon</td>\n",
       "      <td>True</td>\n",
       "    </tr>\n",
       "    <tr>\n",
       "      <th>1960_San-Antonio_Du-sirop-pour-les-guepes</th>\n",
       "      <td>non_canon</td>\n",
       "      <td>0.070344</td>\n",
       "      <td>0.929656</td>\n",
       "      <td>non_canon</td>\n",
       "      <td>True</td>\n",
       "    </tr>\n",
       "    <tr>\n",
       "      <th>1839_Stendhal_La-Chartreuse-de-Parme</th>\n",
       "      <td>canon</td>\n",
       "      <td>0.654591</td>\n",
       "      <td>0.345409</td>\n",
       "      <td>canon</td>\n",
       "      <td>True</td>\n",
       "    </tr>\n",
       "    <tr>\n",
       "      <th>1983_Ernaux-Annie_La-place</th>\n",
       "      <td>canon</td>\n",
       "      <td>0.635091</td>\n",
       "      <td>0.364909</td>\n",
       "      <td>canon</td>\n",
       "      <td>True</td>\n",
       "    </tr>\n",
       "    <tr>\n",
       "      <th>1892_Rodenbach-Georges_Bruges-la-Morte</th>\n",
       "      <td>canon</td>\n",
       "      <td>0.563345</td>\n",
       "      <td>0.436655</td>\n",
       "      <td>canon</td>\n",
       "      <td>True</td>\n",
       "    </tr>\n",
       "    <tr>\n",
       "      <th>1879_Chavette-Eugene_Nous-marions-Virginie</th>\n",
       "      <td>non_canon</td>\n",
       "      <td>0.050474</td>\n",
       "      <td>0.949526</td>\n",
       "      <td>non_canon</td>\n",
       "      <td>True</td>\n",
       "    </tr>\n",
       "    <tr>\n",
       "      <th>2008_Enard-Mathias_Zone</th>\n",
       "      <td>canon</td>\n",
       "      <td>0.760566</td>\n",
       "      <td>0.239434</td>\n",
       "      <td>canon</td>\n",
       "      <td>True</td>\n",
       "    </tr>\n",
       "    <tr>\n",
       "      <th>1873_Marmette-Joseph_Chevalier-de-Mornac</th>\n",
       "      <td>non_canon</td>\n",
       "      <td>0.322624</td>\n",
       "      <td>0.677376</td>\n",
       "      <td>non_canon</td>\n",
       "      <td>True</td>\n",
       "    </tr>\n",
       "    <tr>\n",
       "      <th>1849_Chateaubriand-François-Rene-de_Memoires-d-Outre-Tombe_Tome-5</th>\n",
       "      <td>canon</td>\n",
       "      <td>0.867350</td>\n",
       "      <td>0.132650</td>\n",
       "      <td>canon</td>\n",
       "      <td>True</td>\n",
       "    </tr>\n",
       "    <tr>\n",
       "      <th>1843_Pigault-Lebrun_Mon-oncle-Thomas</th>\n",
       "      <td>non_canon</td>\n",
       "      <td>0.322447</td>\n",
       "      <td>0.677553</td>\n",
       "      <td>non_canon</td>\n",
       "      <td>True</td>\n",
       "    </tr>\n",
       "    <tr>\n",
       "      <th>1904_Rolland-Romain_Jean-Christophe_Tome-I-L-aube</th>\n",
       "      <td>canon</td>\n",
       "      <td>0.933058</td>\n",
       "      <td>0.066942</td>\n",
       "      <td>canon</td>\n",
       "      <td>True</td>\n",
       "    </tr>\n",
       "    <tr>\n",
       "      <th>1860_Goncourt-Edmond-de-Goncourt-Jules-de_Charles-Demailly</th>\n",
       "      <td>canon</td>\n",
       "      <td>0.847599</td>\n",
       "      <td>0.152401</td>\n",
       "      <td>canon</td>\n",
       "      <td>True</td>\n",
       "    </tr>\n",
       "    <tr>\n",
       "      <th>1999_Volodine-Antoine_Des-anges-mineurs</th>\n",
       "      <td>canon</td>\n",
       "      <td>0.789844</td>\n",
       "      <td>0.210156</td>\n",
       "      <td>canon</td>\n",
       "      <td>True</td>\n",
       "    </tr>\n",
       "    <tr>\n",
       "      <th>1885_Guy-de-Maupassant_Contes-du-jour-et-de-la-nuit</th>\n",
       "      <td>canon</td>\n",
       "      <td>0.890690</td>\n",
       "      <td>0.109310</td>\n",
       "      <td>canon</td>\n",
       "      <td>True</td>\n",
       "    </tr>\n",
       "    <tr>\n",
       "      <th>1846_Balzac-Honore-de_Une-tenebreuse-affaire</th>\n",
       "      <td>canon</td>\n",
       "      <td>0.793727</td>\n",
       "      <td>0.206273</td>\n",
       "      <td>canon</td>\n",
       "      <td>True</td>\n",
       "    </tr>\n",
       "    <tr>\n",
       "      <th>1893_Lemonnier-Camille_L-Homme-qui-tue-les-femmes</th>\n",
       "      <td>non_canon</td>\n",
       "      <td>0.248627</td>\n",
       "      <td>0.751373</td>\n",
       "      <td>non_canon</td>\n",
       "      <td>True</td>\n",
       "    </tr>\n",
       "    <tr>\n",
       "      <th>1935_Delly_Contes</th>\n",
       "      <td>canon</td>\n",
       "      <td>0.215153</td>\n",
       "      <td>0.784847</td>\n",
       "      <td>non_canon</td>\n",
       "      <td>False</td>\n",
       "    </tr>\n",
       "    <tr>\n",
       "      <th>2016_Laurens-Camille_Celle-que-vous-croyez</th>\n",
       "      <td>non_canon</td>\n",
       "      <td>0.500000</td>\n",
       "      <td>0.500000</td>\n",
       "      <td>canon</td>\n",
       "      <td>False</td>\n",
       "    </tr>\n",
       "    <tr>\n",
       "      <th>2007_Gailly-Christian_Les-Oublies</th>\n",
       "      <td>non_canon</td>\n",
       "      <td>0.462880</td>\n",
       "      <td>0.537120</td>\n",
       "      <td>non_canon</td>\n",
       "      <td>True</td>\n",
       "    </tr>\n",
       "  </tbody>\n",
       "</table>\n",
       "</div>"
      ],
      "text/plain": [
       "                                                     metadata  proba canon  \\\n",
       "index                                                                        \n",
       "1906_Bazin-Rene_Stephanette                         non_canon     0.135731   \n",
       "1925_Proust-Marcel_Albertine-disparue                   canon     0.359348   \n",
       "1934_Vercel-Roger_Capitaine-Conan                       canon     0.740349   \n",
       "1842_Balzac-Honore-de_Le-Contrat-de-mariage             canon     0.490124   \n",
       "1889_Guy-de-Maupassant_La-main-gauche                   canon     0.897291   \n",
       "1991_Combescot-Pierre_Les-filles-du-Calvaire            canon     0.709550   \n",
       "1845_Sue-Eugene_La-coucaratcha_Tome-III             non_canon     0.288546   \n",
       "1890_Delpit-Edouard_Yvonne                          non_canon     0.204836   \n",
       "1845_Dumas-Alexandre_Le-batard-de-Mauleon_I         non_canon     0.237078   \n",
       "1927_Gide-Andre_Les-Faux-monnayeurs                     canon     0.297418   \n",
       "1863_Chevalier-H-Emile_Poignet-d-acier-ou-Les-C...  non_canon     0.072481   \n",
       "1878_Aimard-Gustave-Auriac-Jules-Berlioz-d_Jim-...  non_canon     0.131794   \n",
       "1900_Colette_La-retraite-sentimentale               non_canon     0.877460   \n",
       "2007_Claudel-Philippe_Le-rapport-de-Brodeck             canon     0.940296   \n",
       "1968_Barjavel-Rene_La-nuit-des-temps                non_canon     0.638073   \n",
       "1843_Balzac-Honore-de_Pierrette                         canon     0.850624   \n",
       "1974_Yourcenar-Marguerite_Souvenirs-pieux               canon     0.577130   \n",
       "1881_Valles-Jules_Le-Bachelier                          canon     0.790351   \n",
       "1887_Bloy-Leon_Le-Desespere                             canon     0.605418   \n",
       "1876_Sand-George_Horace                                 canon     0.313228   \n",
       "1983_Sarraute-Nathalie_Enfance                          canon     0.623405   \n",
       "1857_La-Rounat-Charles-de_La-Comedie-de-l-amour     non_canon     0.236974   \n",
       "1910_Rolland-Romain_Jean-Christophe_Tome-VIII-L...      canon     0.813285   \n",
       "1831_Signol-Alphonse-Macaire-Stanislas_Le-Chiff...  non_canon     0.387731   \n",
       "2005_Germain-Sylvie_Magnus                              canon     0.799110   \n",
       "1846_Sand-George_La-Mare-au-Diable                      canon     0.324762   \n",
       "1996_Rolin-Jean_L-Organisation                          canon     0.456414   \n",
       "2004_Damasio-Alain_La-Horde-du-Contrevent           non_canon     0.677985   \n",
       "1928_Cami-Pierre-Henri_le-jugement-dernier          non_canon     0.158358   \n",
       "1874_Barbey-d-Aurevilly-Jules_Les-Diaboliques           canon     0.838389   \n",
       "1918_Delly_Le-mystere-de-Ker-Even                   non_canon     0.068457   \n",
       "1974_Laine-Pascal_La-dentelliere                        canon     0.656329   \n",
       "1842_Dumas-Alexandre_Le-Capitaine-Arena_Volume-2    non_canon     0.627914   \n",
       "1953_San-Antonio_Descendez-le-a-la-prochaine        non_canon     0.073509   \n",
       "1960_San-Antonio_Du-sirop-pour-les-guepes           non_canon     0.070344   \n",
       "1839_Stendhal_La-Chartreuse-de-Parme                    canon     0.654591   \n",
       "1983_Ernaux-Annie_La-place                              canon     0.635091   \n",
       "1892_Rodenbach-Georges_Bruges-la-Morte                  canon     0.563345   \n",
       "1879_Chavette-Eugene_Nous-marions-Virginie          non_canon     0.050474   \n",
       "2008_Enard-Mathias_Zone                                 canon     0.760566   \n",
       "1873_Marmette-Joseph_Chevalier-de-Mornac            non_canon     0.322624   \n",
       "1849_Chateaubriand-François-Rene-de_Memoires-d-...      canon     0.867350   \n",
       "1843_Pigault-Lebrun_Mon-oncle-Thomas                non_canon     0.322447   \n",
       "1904_Rolland-Romain_Jean-Christophe_Tome-I-L-aube       canon     0.933058   \n",
       "1860_Goncourt-Edmond-de-Goncourt-Jules-de_Charl...      canon     0.847599   \n",
       "1999_Volodine-Antoine_Des-anges-mineurs                 canon     0.789844   \n",
       "1885_Guy-de-Maupassant_Contes-du-jour-et-de-la-...      canon     0.890690   \n",
       "1846_Balzac-Honore-de_Une-tenebreuse-affaire            canon     0.793727   \n",
       "1893_Lemonnier-Camille_L-Homme-qui-tue-les-femmes   non_canon     0.248627   \n",
       "1935_Delly_Contes                                       canon     0.215153   \n",
       "2016_Laurens-Camille_Celle-que-vous-croyez          non_canon     0.500000   \n",
       "2007_Gailly-Christian_Les-Oublies                   non_canon     0.462880   \n",
       "\n",
       "                                                    proba non-canon  \\\n",
       "index                                                                 \n",
       "1906_Bazin-Rene_Stephanette                                0.864269   \n",
       "1925_Proust-Marcel_Albertine-disparue                      0.640652   \n",
       "1934_Vercel-Roger_Capitaine-Conan                          0.259651   \n",
       "1842_Balzac-Honore-de_Le-Contrat-de-mariage                0.509876   \n",
       "1889_Guy-de-Maupassant_La-main-gauche                      0.102709   \n",
       "1991_Combescot-Pierre_Les-filles-du-Calvaire               0.290450   \n",
       "1845_Sue-Eugene_La-coucaratcha_Tome-III                    0.711454   \n",
       "1890_Delpit-Edouard_Yvonne                                 0.795164   \n",
       "1845_Dumas-Alexandre_Le-batard-de-Mauleon_I                0.762922   \n",
       "1927_Gide-Andre_Les-Faux-monnayeurs                        0.702582   \n",
       "1863_Chevalier-H-Emile_Poignet-d-acier-ou-Les-C...         0.927519   \n",
       "1878_Aimard-Gustave-Auriac-Jules-Berlioz-d_Jim-...         0.868206   \n",
       "1900_Colette_La-retraite-sentimentale                      0.122540   \n",
       "2007_Claudel-Philippe_Le-rapport-de-Brodeck                0.059704   \n",
       "1968_Barjavel-Rene_La-nuit-des-temps                       0.361927   \n",
       "1843_Balzac-Honore-de_Pierrette                            0.149376   \n",
       "1974_Yourcenar-Marguerite_Souvenirs-pieux                  0.422870   \n",
       "1881_Valles-Jules_Le-Bachelier                             0.209649   \n",
       "1887_Bloy-Leon_Le-Desespere                                0.394582   \n",
       "1876_Sand-George_Horace                                    0.686772   \n",
       "1983_Sarraute-Nathalie_Enfance                             0.376595   \n",
       "1857_La-Rounat-Charles-de_La-Comedie-de-l-amour            0.763026   \n",
       "1910_Rolland-Romain_Jean-Christophe_Tome-VIII-L...         0.186715   \n",
       "1831_Signol-Alphonse-Macaire-Stanislas_Le-Chiff...         0.612269   \n",
       "2005_Germain-Sylvie_Magnus                                 0.200890   \n",
       "1846_Sand-George_La-Mare-au-Diable                         0.675238   \n",
       "1996_Rolin-Jean_L-Organisation                             0.543586   \n",
       "2004_Damasio-Alain_La-Horde-du-Contrevent                  0.322015   \n",
       "1928_Cami-Pierre-Henri_le-jugement-dernier                 0.841642   \n",
       "1874_Barbey-d-Aurevilly-Jules_Les-Diaboliques              0.161611   \n",
       "1918_Delly_Le-mystere-de-Ker-Even                          0.931543   \n",
       "1974_Laine-Pascal_La-dentelliere                           0.343671   \n",
       "1842_Dumas-Alexandre_Le-Capitaine-Arena_Volume-2           0.372086   \n",
       "1953_San-Antonio_Descendez-le-a-la-prochaine               0.926491   \n",
       "1960_San-Antonio_Du-sirop-pour-les-guepes                  0.929656   \n",
       "1839_Stendhal_La-Chartreuse-de-Parme                       0.345409   \n",
       "1983_Ernaux-Annie_La-place                                 0.364909   \n",
       "1892_Rodenbach-Georges_Bruges-la-Morte                     0.436655   \n",
       "1879_Chavette-Eugene_Nous-marions-Virginie                 0.949526   \n",
       "2008_Enard-Mathias_Zone                                    0.239434   \n",
       "1873_Marmette-Joseph_Chevalier-de-Mornac                   0.677376   \n",
       "1849_Chateaubriand-François-Rene-de_Memoires-d-...         0.132650   \n",
       "1843_Pigault-Lebrun_Mon-oncle-Thomas                       0.677553   \n",
       "1904_Rolland-Romain_Jean-Christophe_Tome-I-L-aube          0.066942   \n",
       "1860_Goncourt-Edmond-de-Goncourt-Jules-de_Charl...         0.152401   \n",
       "1999_Volodine-Antoine_Des-anges-mineurs                    0.210156   \n",
       "1885_Guy-de-Maupassant_Contes-du-jour-et-de-la-...         0.109310   \n",
       "1846_Balzac-Honore-de_Une-tenebreuse-affaire               0.206273   \n",
       "1893_Lemonnier-Camille_L-Homme-qui-tue-les-femmes          0.751373   \n",
       "1935_Delly_Contes                                          0.784847   \n",
       "2016_Laurens-Camille_Celle-que-vous-croyez                 0.500000   \n",
       "2007_Gailly-Christian_Les-Oublies                          0.537120   \n",
       "\n",
       "                                                   prediction  accord  \n",
       "index                                                                  \n",
       "1906_Bazin-Rene_Stephanette                         non_canon    True  \n",
       "1925_Proust-Marcel_Albertine-disparue               non_canon   False  \n",
       "1934_Vercel-Roger_Capitaine-Conan                       canon    True  \n",
       "1842_Balzac-Honore-de_Le-Contrat-de-mariage             canon    True  \n",
       "1889_Guy-de-Maupassant_La-main-gauche                   canon    True  \n",
       "1991_Combescot-Pierre_Les-filles-du-Calvaire            canon    True  \n",
       "1845_Sue-Eugene_La-coucaratcha_Tome-III             non_canon    True  \n",
       "1890_Delpit-Edouard_Yvonne                          non_canon    True  \n",
       "1845_Dumas-Alexandre_Le-batard-de-Mauleon_I         non_canon    True  \n",
       "1927_Gide-Andre_Les-Faux-monnayeurs                 non_canon   False  \n",
       "1863_Chevalier-H-Emile_Poignet-d-acier-ou-Les-C...  non_canon    True  \n",
       "1878_Aimard-Gustave-Auriac-Jules-Berlioz-d_Jim-...  non_canon    True  \n",
       "1900_Colette_La-retraite-sentimentale                   canon   False  \n",
       "2007_Claudel-Philippe_Le-rapport-de-Brodeck             canon    True  \n",
       "1968_Barjavel-Rene_La-nuit-des-temps                    canon   False  \n",
       "1843_Balzac-Honore-de_Pierrette                         canon    True  \n",
       "1974_Yourcenar-Marguerite_Souvenirs-pieux               canon    True  \n",
       "1881_Valles-Jules_Le-Bachelier                          canon    True  \n",
       "1887_Bloy-Leon_Le-Desespere                             canon    True  \n",
       "1876_Sand-George_Horace                             non_canon   False  \n",
       "1983_Sarraute-Nathalie_Enfance                          canon    True  \n",
       "1857_La-Rounat-Charles-de_La-Comedie-de-l-amour     non_canon    True  \n",
       "1910_Rolland-Romain_Jean-Christophe_Tome-VIII-L...      canon    True  \n",
       "1831_Signol-Alphonse-Macaire-Stanislas_Le-Chiff...  non_canon    True  \n",
       "2005_Germain-Sylvie_Magnus                              canon    True  \n",
       "1846_Sand-George_La-Mare-au-Diable                  non_canon   False  \n",
       "1996_Rolin-Jean_L-Organisation                      non_canon   False  \n",
       "2004_Damasio-Alain_La-Horde-du-Contrevent               canon   False  \n",
       "1928_Cami-Pierre-Henri_le-jugement-dernier          non_canon    True  \n",
       "1874_Barbey-d-Aurevilly-Jules_Les-Diaboliques           canon    True  \n",
       "1918_Delly_Le-mystere-de-Ker-Even                   non_canon    True  \n",
       "1974_Laine-Pascal_La-dentelliere                        canon    True  \n",
       "1842_Dumas-Alexandre_Le-Capitaine-Arena_Volume-2        canon   False  \n",
       "1953_San-Antonio_Descendez-le-a-la-prochaine        non_canon    True  \n",
       "1960_San-Antonio_Du-sirop-pour-les-guepes           non_canon    True  \n",
       "1839_Stendhal_La-Chartreuse-de-Parme                    canon    True  \n",
       "1983_Ernaux-Annie_La-place                              canon    True  \n",
       "1892_Rodenbach-Georges_Bruges-la-Morte                  canon    True  \n",
       "1879_Chavette-Eugene_Nous-marions-Virginie          non_canon    True  \n",
       "2008_Enard-Mathias_Zone                                 canon    True  \n",
       "1873_Marmette-Joseph_Chevalier-de-Mornac            non_canon    True  \n",
       "1849_Chateaubriand-François-Rene-de_Memoires-d-...      canon    True  \n",
       "1843_Pigault-Lebrun_Mon-oncle-Thomas                non_canon    True  \n",
       "1904_Rolland-Romain_Jean-Christophe_Tome-I-L-aube       canon    True  \n",
       "1860_Goncourt-Edmond-de-Goncourt-Jules-de_Charl...      canon    True  \n",
       "1999_Volodine-Antoine_Des-anges-mineurs                 canon    True  \n",
       "1885_Guy-de-Maupassant_Contes-du-jour-et-de-la-...      canon    True  \n",
       "1846_Balzac-Honore-de_Une-tenebreuse-affaire            canon    True  \n",
       "1893_Lemonnier-Camille_L-Homme-qui-tue-les-femmes   non_canon    True  \n",
       "1935_Delly_Contes                                   non_canon   False  \n",
       "2016_Laurens-Camille_Celle-que-vous-croyez              canon   False  \n",
       "2007_Gailly-Christian_Les-Oublies                   non_canon    True  "
      ]
     },
     "execution_count": 81,
     "metadata": {},
     "output_type": "execute_result"
    }
   ],
   "source": [
    "df_test_res"
   ]
  },
  {
   "cell_type": "code",
   "execution_count": null,
   "metadata": {},
   "outputs": [],
   "source": []
  },
  {
   "cell_type": "code",
   "execution_count": 73,
   "metadata": {},
   "outputs": [],
   "source": [
    "df_train_res = pd.DataFrame()\n",
    "df_train_res['metadata'] = df_train_balanced_unigram['canon']\n",
    "df_train_res['proba canon'] = pipe.predict_proba(df_train_balanced_unigram.drop(['canon'], axis=1))[:,0]\n",
    "df_train_res['proba non-canon'] = pipe.predict_proba(df_train_balanced_unigram.drop(['canon'], axis=1))[:,1]\n",
    "df_train_res['prediction']= pipe.predict(df_train_balanced_unigram.drop(['canon'], axis=1))"
   ]
  },
  {
   "cell_type": "code",
   "execution_count": 74,
   "metadata": {},
   "outputs": [],
   "source": [
    "df_train_res['accord'] = [True if row['metadata'] == row['prediction'] else False for index, row in df_train_res.iterrows()]"
   ]
  },
  {
   "cell_type": "code",
   "execution_count": 75,
   "metadata": {},
   "outputs": [
    {
     "data": {
      "text/plain": [
       "True     95.319149\n",
       "False     4.680851\n",
       "Name: accord, dtype: float64"
      ]
     },
     "execution_count": 75,
     "metadata": {},
     "output_type": "execute_result"
    }
   ],
   "source": [
    "df_train_res['accord'].value_counts(normalize=True)*100"
   ]
  },
  {
   "cell_type": "code",
   "execution_count": 76,
   "metadata": {},
   "outputs": [
    {
     "data": {
      "text/html": [
       "<div>\n",
       "<style scoped>\n",
       "    .dataframe tbody tr th:only-of-type {\n",
       "        vertical-align: middle;\n",
       "    }\n",
       "\n",
       "    .dataframe tbody tr th {\n",
       "        vertical-align: top;\n",
       "    }\n",
       "\n",
       "    .dataframe thead th {\n",
       "        text-align: right;\n",
       "    }\n",
       "</style>\n",
       "<table border=\"1\" class=\"dataframe\">\n",
       "  <thead>\n",
       "    <tr style=\"text-align: right;\">\n",
       "      <th></th>\n",
       "      <th>metadata</th>\n",
       "      <th>proba canon</th>\n",
       "      <th>proba non-canon</th>\n",
       "      <th>prediction</th>\n",
       "      <th>accord</th>\n",
       "    </tr>\n",
       "    <tr>\n",
       "      <th>index</th>\n",
       "      <th></th>\n",
       "      <th></th>\n",
       "      <th></th>\n",
       "      <th></th>\n",
       "      <th></th>\n",
       "    </tr>\n",
       "  </thead>\n",
       "  <tbody>\n",
       "    <tr>\n",
       "      <th>1950_Duras-Marguerite_Un-barrage-contre-le-Pacifique</th>\n",
       "      <td>canon</td>\n",
       "      <td>0.900323</td>\n",
       "      <td>0.099677</td>\n",
       "      <td>canon</td>\n",
       "      <td>True</td>\n",
       "    </tr>\n",
       "    <tr>\n",
       "      <th>1905_Farrere-Claude_Les-civilises</th>\n",
       "      <td>canon</td>\n",
       "      <td>0.900253</td>\n",
       "      <td>0.099747</td>\n",
       "      <td>canon</td>\n",
       "      <td>True</td>\n",
       "    </tr>\n",
       "    <tr>\n",
       "      <th>1978_Delly_Le-testament-de-Mr.-d'Erquoy</th>\n",
       "      <td>non_canon</td>\n",
       "      <td>0.049690</td>\n",
       "      <td>0.950310</td>\n",
       "      <td>non_canon</td>\n",
       "      <td>True</td>\n",
       "    </tr>\n",
       "    <tr>\n",
       "      <th>1888_Zola-Emile_Le-reve</th>\n",
       "      <td>canon</td>\n",
       "      <td>0.900292</td>\n",
       "      <td>0.099708</td>\n",
       "      <td>canon</td>\n",
       "      <td>True</td>\n",
       "    </tr>\n",
       "    <tr>\n",
       "      <th>1921_Pagnol-Marcel_La-Petite-Fille-aux-yeux-sombres-suivi-de-Les-secrets-de-Dieu</th>\n",
       "      <td>non_canon</td>\n",
       "      <td>0.090509</td>\n",
       "      <td>0.909491</td>\n",
       "      <td>non_canon</td>\n",
       "      <td>True</td>\n",
       "    </tr>\n",
       "    <tr>\n",
       "      <th>...</th>\n",
       "      <td>...</td>\n",
       "      <td>...</td>\n",
       "      <td>...</td>\n",
       "      <td>...</td>\n",
       "      <td>...</td>\n",
       "    </tr>\n",
       "    <tr>\n",
       "      <th>1872_Verne-Jules_Le-tour-du-monde-en-quatre-vingts-jours</th>\n",
       "      <td>non_canon</td>\n",
       "      <td>0.078293</td>\n",
       "      <td>0.921707</td>\n",
       "      <td>non_canon</td>\n",
       "      <td>True</td>\n",
       "    </tr>\n",
       "    <tr>\n",
       "      <th>2008_Vargas-Fred_Un-lieu-incertain</th>\n",
       "      <td>non_canon</td>\n",
       "      <td>0.132647</td>\n",
       "      <td>0.867353</td>\n",
       "      <td>non_canon</td>\n",
       "      <td>True</td>\n",
       "    </tr>\n",
       "    <tr>\n",
       "      <th>2003_Ferney-Alice_Dans-la-guerre</th>\n",
       "      <td>non_canon</td>\n",
       "      <td>0.185445</td>\n",
       "      <td>0.814555</td>\n",
       "      <td>non_canon</td>\n",
       "      <td>True</td>\n",
       "    </tr>\n",
       "    <tr>\n",
       "      <th>1863_Farrenc-Cesarie_La-jalousie</th>\n",
       "      <td>canon</td>\n",
       "      <td>0.702238</td>\n",
       "      <td>0.297762</td>\n",
       "      <td>canon</td>\n",
       "      <td>True</td>\n",
       "    </tr>\n",
       "    <tr>\n",
       "      <th>2008_Millet-Catherine_Jour-de-souffrance</th>\n",
       "      <td>non_canon</td>\n",
       "      <td>0.111652</td>\n",
       "      <td>0.888348</td>\n",
       "      <td>non_canon</td>\n",
       "      <td>True</td>\n",
       "    </tr>\n",
       "  </tbody>\n",
       "</table>\n",
       "<p>470 rows × 5 columns</p>\n",
       "</div>"
      ],
      "text/plain": [
       "                                                     metadata  proba canon  \\\n",
       "index                                                                        \n",
       "1950_Duras-Marguerite_Un-barrage-contre-le-Paci...      canon     0.900323   \n",
       "1905_Farrere-Claude_Les-civilises                       canon     0.900253   \n",
       "1978_Delly_Le-testament-de-Mr.-d'Erquoy             non_canon     0.049690   \n",
       "1888_Zola-Emile_Le-reve                                 canon     0.900292   \n",
       "1921_Pagnol-Marcel_La-Petite-Fille-aux-yeux-som...  non_canon     0.090509   \n",
       "...                                                       ...          ...   \n",
       "1872_Verne-Jules_Le-tour-du-monde-en-quatre-vin...  non_canon     0.078293   \n",
       "2008_Vargas-Fred_Un-lieu-incertain                  non_canon     0.132647   \n",
       "2003_Ferney-Alice_Dans-la-guerre                    non_canon     0.185445   \n",
       "1863_Farrenc-Cesarie_La-jalousie                        canon     0.702238   \n",
       "2008_Millet-Catherine_Jour-de-souffrance            non_canon     0.111652   \n",
       "\n",
       "                                                    proba non-canon  \\\n",
       "index                                                                 \n",
       "1950_Duras-Marguerite_Un-barrage-contre-le-Paci...         0.099677   \n",
       "1905_Farrere-Claude_Les-civilises                          0.099747   \n",
       "1978_Delly_Le-testament-de-Mr.-d'Erquoy                    0.950310   \n",
       "1888_Zola-Emile_Le-reve                                    0.099708   \n",
       "1921_Pagnol-Marcel_La-Petite-Fille-aux-yeux-som...         0.909491   \n",
       "...                                                             ...   \n",
       "1872_Verne-Jules_Le-tour-du-monde-en-quatre-vin...         0.921707   \n",
       "2008_Vargas-Fred_Un-lieu-incertain                         0.867353   \n",
       "2003_Ferney-Alice_Dans-la-guerre                           0.814555   \n",
       "1863_Farrenc-Cesarie_La-jalousie                           0.297762   \n",
       "2008_Millet-Catherine_Jour-de-souffrance                   0.888348   \n",
       "\n",
       "                                                   prediction  accord  \n",
       "index                                                                  \n",
       "1950_Duras-Marguerite_Un-barrage-contre-le-Paci...      canon    True  \n",
       "1905_Farrere-Claude_Les-civilises                       canon    True  \n",
       "1978_Delly_Le-testament-de-Mr.-d'Erquoy             non_canon    True  \n",
       "1888_Zola-Emile_Le-reve                                 canon    True  \n",
       "1921_Pagnol-Marcel_La-Petite-Fille-aux-yeux-som...  non_canon    True  \n",
       "...                                                       ...     ...  \n",
       "1872_Verne-Jules_Le-tour-du-monde-en-quatre-vin...  non_canon    True  \n",
       "2008_Vargas-Fred_Un-lieu-incertain                  non_canon    True  \n",
       "2003_Ferney-Alice_Dans-la-guerre                    non_canon    True  \n",
       "1863_Farrenc-Cesarie_La-jalousie                        canon    True  \n",
       "2008_Millet-Catherine_Jour-de-souffrance            non_canon    True  \n",
       "\n",
       "[470 rows x 5 columns]"
      ]
     },
     "execution_count": 76,
     "metadata": {},
     "output_type": "execute_result"
    }
   ],
   "source": [
    "df_train_res"
   ]
  },
  {
   "cell_type": "code",
   "execution_count": 64,
   "metadata": {},
   "outputs": [],
   "source": [
    "df_train.to_csv('df_train_results.csv')"
   ]
  },
  {
   "cell_type": "code",
   "execution_count": null,
   "metadata": {},
   "outputs": [],
   "source": []
  },
  {
   "cell_type": "markdown",
   "metadata": {},
   "source": [
    "# All Balanced Data"
   ]
  },
  {
   "cell_type": "code",
   "execution_count": 70,
   "metadata": {},
   "outputs": [],
   "source": [
    "pipe2 = make_pipeline(StandardScaler(), SVC(gamma='auto'))"
   ]
  },
  {
   "cell_type": "code",
   "execution_count": 71,
   "metadata": {},
   "outputs": [
    {
     "data": {
      "text/plain": [
       "Pipeline(steps=[('standardscaler', StandardScaler()),\n",
       "                ('svc', SVC(gamma='auto'))])"
      ]
     },
     "execution_count": 71,
     "metadata": {},
     "output_type": "execute_result"
    }
   ],
   "source": [
    "pipe2.fit(df_train_balanced.drop(['canon'], axis=1), df_train_balanced['canon'])"
   ]
  },
  {
   "cell_type": "code",
   "execution_count": 72,
   "metadata": {},
   "outputs": [
    {
     "data": {
      "text/plain": [
       "0.8076923076923077"
      ]
     },
     "execution_count": 72,
     "metadata": {},
     "output_type": "execute_result"
    }
   ],
   "source": [
    "pipe2.score(df_test_balanced.drop(['canon'], axis=1), df_test_balanced['canon'])"
   ]
  },
  {
   "cell_type": "code",
   "execution_count": 300,
   "metadata": {},
   "outputs": [
    {
     "data": {
      "text/plain": [
       "array([-1.00001966e+00, -1.00003186e+00,  1.00021946e+00, -1.00354049e+00,\n",
       "        1.00020143e+00,  1.00011283e+00,  1.34669008e-03,  9.99698615e-01,\n",
       "        9.99645402e-01, -1.00022511e+00,  9.65933535e-01, -9.99634980e-01,\n",
       "        1.00046093e+00, -9.68336627e-01,  5.51426721e-02, -1.00019807e+00,\n",
       "       -4.33092604e-01,  1.06490949e+00, -1.00006966e+00, -9.99929753e-01,\n",
       "       -3.53724770e-01,  9.99952718e-01,  3.94470986e-01,  9.99975821e-01,\n",
       "        1.00012426e+00, -9.99953281e-01, -7.38345492e-01, -7.10396013e-01,\n",
       "        6.95027755e-01,  7.74082841e-01, -1.00008776e+00,  1.86496579e-01,\n",
       "        1.00025806e+00,  2.84353352e-02,  1.09502631e+00,  1.00010136e+00,\n",
       "        6.46917037e-01, -7.01238992e-01,  1.00020264e+00, -9.99959877e-01,\n",
       "       -9.99958738e-01,  1.00012125e+00, -9.16463177e-01,  9.99696667e-01,\n",
       "        7.66670839e-01, -9.99737112e-01,  9.15235800e-01, -4.95309279e-01,\n",
       "       -1.12082466e-01, -8.66758696e-01, -2.86093385e-01,  1.00013634e+00,\n",
       "       -9.87058984e-01, -9.99916909e-01,  1.00028788e+00, -9.46105414e-01,\n",
       "       -5.85850756e-01, -9.99900242e-01, -6.87997524e-01,  1.00006932e+00,\n",
       "        9.99929339e-01, -9.99984431e-01,  9.99951259e-01, -9.45906561e-01,\n",
       "        1.58477854e-01, -9.99625102e-01,  8.43838575e-01,  1.00020644e+00,\n",
       "       -1.05700871e+00, -8.75607655e-01,  1.00023424e+00,  7.89854344e-01,\n",
       "        1.14865354e-01,  9.66217342e-01, -9.99901590e-01,  9.99622343e-01,\n",
       "        1.00031308e+00,  1.00008679e+00, -5.68951581e-01,  9.99751253e-01,\n",
       "       -9.99927708e-01,  2.31443197e-01,  1.00010461e+00,  1.00004571e+00,\n",
       "       -3.09671219e-01,  7.45714290e-01,  9.99941802e-01, -1.00004564e+00,\n",
       "       -9.67820964e-01,  9.99667161e-01,  9.99746602e-01, -8.67432363e-01,\n",
       "        1.00006922e+00,  1.05795473e+00,  7.40866445e-01,  1.00013800e+00,\n",
       "       -9.99899509e-01,  1.00028383e+00, -9.99973592e-01,  9.99849246e-01,\n",
       "       -9.45203335e-01, -2.92428369e-01,  1.00030139e+00,  6.98155258e-01,\n",
       "       -9.04035301e-01, -8.44922607e-01,  9.99713759e-01, -1.00025017e+00,\n",
       "        3.07659551e-01, -9.22647224e-01, -9.53063262e-01, -6.67394248e-01,\n",
       "       -1.44491053e-01,  1.00008886e+00,  8.46834597e-01,  9.99961630e-01,\n",
       "        8.28150148e-01,  9.99898632e-01,  4.44264989e-01,  2.79062497e-01,\n",
       "        1.00008535e+00, -1.37445691e-01,  9.85914835e-01,  1.00043004e+00,\n",
       "       -9.99988321e-01, -1.00016612e+00, -8.81088364e-01, -6.33467310e-01,\n",
       "       -9.99852841e-01,  9.99851842e-01,  6.41997234e-01,  9.99902486e-01,\n",
       "       -9.99946392e-01,  9.99770155e-01, -7.07189318e-01, -4.17555774e-01,\n",
       "        1.57432923e+00,  1.00011142e+00,  3.45029673e-01, -1.08202659e+00,\n",
       "       -1.00013510e+00,  1.00002149e+00, -9.99852720e-01, -9.99962675e-01,\n",
       "       -4.76145971e-01, -9.99994384e-01, -8.40356308e-01,  5.60240354e-01,\n",
       "       -1.00026647e+00, -9.13905055e-01,  9.99783511e-01, -1.00017677e+00,\n",
       "        1.01086058e+00,  8.76969442e-01,  1.00018603e+00, -9.20611157e-01,\n",
       "        9.99730343e-01,  1.96136309e-01,  9.99676308e-01,  8.20022378e-01,\n",
       "        1.00008091e+00, -4.49860686e-01,  1.16325320e+00, -9.99637476e-01,\n",
       "        9.99819916e-01, -1.00038762e+00, -7.30034899e-01, -1.00029133e+00,\n",
       "       -1.42374400e-01,  6.93296221e-01, -9.74686910e-01, -3.44789048e-01,\n",
       "        9.99930883e-01,  1.00008144e+00,  8.56849655e-01, -9.03623881e-01,\n",
       "        3.22236916e-02,  1.00016562e+00,  1.00018166e+00,  9.99929053e-01,\n",
       "       -9.10938657e-01, -1.03869260e+00, -7.58807872e-01, -7.19177151e-01,\n",
       "        1.00020537e+00, -9.39122625e-01,  7.91113070e-01,  3.12232975e-01,\n",
       "        1.00035867e+00,  8.58175104e-01,  8.34490244e-01, -9.59103468e-01,\n",
       "        7.92234537e-01, -1.08228635e+00,  4.44981715e-02,  9.38739631e-01,\n",
       "       -5.48263117e-01,  9.99923976e-01, -9.99918763e-01, -5.85087344e-01,\n",
       "        5.64461157e-01, -6.59822916e-01,  1.00002227e+00, -1.00049083e+00,\n",
       "       -1.00025201e+00,  9.99800253e-01, -1.00004843e+00,  2.03408511e-01,\n",
       "        2.46679883e-01, -9.99829410e-01,  3.57299363e-01,  3.58888061e-01,\n",
       "       -9.99949716e-01, -5.52617409e-01,  4.24749256e-01, -3.66991514e-01,\n",
       "        1.13082943e-01,  9.62337612e-01, -1.00003603e+00, -9.50069952e-01,\n",
       "        1.00017805e+00, -1.00031672e+00,  9.99691401e-01, -9.99981284e-01,\n",
       "       -9.87712831e-01, -8.81801747e-01, -9.99700230e-01,  4.32933360e-01,\n",
       "        8.13204929e-01, -9.99781522e-01, -9.99875395e-01, -1.00010830e+00,\n",
       "        9.99861955e-01, -1.00002510e+00, -9.99777518e-01,  1.17079863e+00,\n",
       "       -9.26564734e-01,  1.00002317e+00, -1.00015642e+00, -8.99205449e-01,\n",
       "       -2.42613418e-01,  1.00016461e+00,  9.99544476e-01,  1.00005121e+00,\n",
       "       -6.37628156e-01, -6.29497778e-01, -1.10499706e+00, -9.99976814e-01,\n",
       "       -7.21232055e-01, -1.00001358e+00, -1.00021017e+00,  1.05704358e+00,\n",
       "       -4.92499140e-01, -9.99884784e-01, -1.00002233e+00, -8.91817402e-01,\n",
       "       -1.21415406e+00,  1.16205785e-01, -7.70675550e-01,  9.99724506e-01,\n",
       "        9.99736989e-01,  1.00005369e+00,  2.40331849e-01, -1.09239092e+00,\n",
       "       -1.00046017e+00,  3.26435433e-01, -8.54295341e-01,  1.00014933e+00,\n",
       "       -8.30961728e-01, -9.80429056e-01, -1.00012051e+00,  4.98942735e-01,\n",
       "        1.00031145e+00,  9.99951328e-01, -6.55649349e-01, -4.48393613e-01,\n",
       "       -7.42531303e-01,  9.99709593e-01,  9.54818957e-01, -9.99606484e-01,\n",
       "        1.00026747e+00, -1.00037999e+00, -1.00000497e+00,  9.99810663e-01,\n",
       "       -9.92555477e-01,  1.00015575e+00, -9.99815555e-01,  1.00011145e+00,\n",
       "       -1.05658836e+00, -1.00002817e+00, -4.66200610e-01,  9.99794056e-01,\n",
       "        5.07713385e-01,  1.00005616e+00, -9.99813580e-01,  4.01280301e-01,\n",
       "        1.32187021e+00,  8.54679079e-01, -9.91489852e-01, -5.97789408e-01,\n",
       "       -9.99527831e-01, -6.86219116e-01, -8.50586261e-01, -9.45814542e-01,\n",
       "       -8.82069934e-01, -3.13654886e-01, -9.99865435e-01,  1.00021594e+00,\n",
       "       -9.13182139e-01, -6.75578429e-01,  9.99874439e-01, -1.61902381e-01,\n",
       "       -9.83441146e-01, -9.99802756e-01,  9.42513675e-01, -1.33794943e+00,\n",
       "       -5.37193388e-01,  9.99660841e-01,  1.00017127e+00,  3.17036366e-01,\n",
       "       -1.00029462e+00, -1.00005190e+00, -6.66344886e-01,  9.99944077e-01,\n",
       "        9.04007487e-01,  2.57625821e-01,  5.50650808e-01,  1.00005922e+00,\n",
       "       -7.98507334e-01, -6.57180147e-01, -1.00000083e+00,  2.02348701e-01,\n",
       "       -8.61947925e-01,  9.99687234e-01,  9.99899354e-01, -9.99605475e-01,\n",
       "       -4.89892878e-01,  9.99752136e-01, -9.99570033e-01,  1.00037625e+00,\n",
       "       -1.09251717e+00, -9.99841904e-01,  3.11771113e-01, -1.11904638e+00,\n",
       "       -9.99632117e-01,  6.58678909e-01, -9.99727368e-01, -8.21647261e-01,\n",
       "        1.00004004e+00,  9.99508835e-01, -9.02989149e-01,  3.27635649e-01,\n",
       "       -4.01600129e-01, -1.00008314e+00, -1.49432705e-01, -9.99795665e-01,\n",
       "        1.00009790e+00, -9.89234198e-01, -8.58581472e-01, -7.07027852e-01,\n",
       "       -2.57150706e-01, -6.98799790e-01, -1.00008038e+00, -9.99630641e-01,\n",
       "       -9.99974385e-01, -1.00028499e+00,  5.87778266e-01,  8.96736512e-02,\n",
       "       -1.00018280e+00, -1.00018126e+00,  1.27943928e+00,  7.89548522e-01,\n",
       "       -6.66431916e-01, -1.00008587e+00, -2.00655878e-01, -1.14496562e+00,\n",
       "        1.13758883e-01,  1.11624793e+00,  9.99968893e-01, -1.00035305e+00,\n",
       "        1.19063396e+00, -8.96929187e-01, -6.39645955e-01,  9.99917978e-01,\n",
       "        8.77885183e-01,  4.47598517e-01,  9.99745792e-01,  6.83732475e-01,\n",
       "       -5.18660691e-01,  9.99752398e-01,  9.93900693e-01,  9.99754566e-01,\n",
       "       -4.41701579e-01,  5.79992265e-01, -6.20543899e-01, -1.00033154e+00,\n",
       "       -1.00032051e+00,  3.31414371e-01,  9.99592709e-01,  4.31221293e-01,\n",
       "        5.06985252e-01, -2.75586300e-01,  1.00003759e+00, -5.31889918e-01,\n",
       "        1.00018976e+00,  9.99876479e-01, -9.99992553e-01,  3.62497151e-01,\n",
       "       -1.00015181e+00, -5.15211912e-01,  1.00023576e+00,  1.00005340e+00,\n",
       "       -5.10161666e-01,  6.64776056e-01, -2.90317109e-01,  1.00003408e+00,\n",
       "       -9.71675035e-01, -1.12931336e+00,  9.99981259e-01, -9.26079621e-01,\n",
       "        1.00007515e+00,  1.11585296e+00, -1.12627784e+00, -9.99672974e-01,\n",
       "        5.99050042e-01,  1.00010088e+00, -1.00019030e+00,  9.99746765e-01,\n",
       "       -7.46095328e-01,  9.99965316e-01, -2.48291000e-01,  8.41872201e-01,\n",
       "       -9.99619095e-01, -1.00017763e+00, -7.41231240e-01,  5.90924868e-01,\n",
       "       -1.77968388e-01,  9.99967043e-01,  1.07944712e-01, -9.99824997e-01,\n",
       "       -1.04965425e+00,  1.00016081e+00, -8.21884395e-01, -9.99995836e-01,\n",
       "       -7.95592683e-01,  9.99989177e-01,  9.99961627e-01,  9.99927029e-01,\n",
       "        1.00002716e+00, -1.00002761e+00, -1.00020646e+00,  5.74878847e-01,\n",
       "       -9.99960048e-01,  9.11966942e-01, -9.99550532e-01,  1.00010123e+00,\n",
       "        1.10616718e+00,  1.00012969e+00,  1.00018053e+00,  9.99915982e-01,\n",
       "        7.90254933e-01, -5.53695992e-01, -1.79857565e-01, -1.37007662e+00,\n",
       "       -1.00021243e+00,  4.31326758e-01,  7.34650381e-01,  3.73771315e-02,\n",
       "       -5.44200851e-01,  7.32709122e-01])"
      ]
     },
     "execution_count": 300,
     "metadata": {},
     "output_type": "execute_result"
    }
   ],
   "source": [
    "pipe2.decision_function(df_train_balanced.drop(['canon'], axis=1))"
   ]
  },
  {
   "cell_type": "code",
   "execution_count": null,
   "metadata": {},
   "outputs": [],
   "source": []
  },
  {
   "cell_type": "code",
   "execution_count": null,
   "metadata": {},
   "outputs": [],
   "source": []
  },
  {
   "cell_type": "code",
   "execution_count": null,
   "metadata": {},
   "outputs": [],
   "source": []
  },
  {
   "cell_type": "markdown",
   "metadata": {},
   "source": [
    "# Fabula Metadata"
   ]
  },
  {
   "cell_type": "code",
   "execution_count": 142,
   "metadata": {},
   "outputs": [],
   "source": [
    "pipe3 = make_pipeline(StandardScaler(), SVC(gamma='auto'))"
   ]
  },
  {
   "cell_type": "code",
   "execution_count": 143,
   "metadata": {},
   "outputs": [
    {
     "data": {
      "text/html": [
       "<style>#sk-c5109243-81ad-465e-aaea-0af1d339b313 {color: black;background-color: white;}#sk-c5109243-81ad-465e-aaea-0af1d339b313 pre{padding: 0;}#sk-c5109243-81ad-465e-aaea-0af1d339b313 div.sk-toggleable {background-color: white;}#sk-c5109243-81ad-465e-aaea-0af1d339b313 label.sk-toggleable__label {cursor: pointer;display: block;width: 100%;margin-bottom: 0;padding: 0.3em;box-sizing: border-box;text-align: center;}#sk-c5109243-81ad-465e-aaea-0af1d339b313 label.sk-toggleable__label-arrow:before {content: \"▸\";float: left;margin-right: 0.25em;color: #696969;}#sk-c5109243-81ad-465e-aaea-0af1d339b313 label.sk-toggleable__label-arrow:hover:before {color: black;}#sk-c5109243-81ad-465e-aaea-0af1d339b313 div.sk-estimator:hover label.sk-toggleable__label-arrow:before {color: black;}#sk-c5109243-81ad-465e-aaea-0af1d339b313 div.sk-toggleable__content {max-height: 0;max-width: 0;overflow: hidden;text-align: left;background-color: #f0f8ff;}#sk-c5109243-81ad-465e-aaea-0af1d339b313 div.sk-toggleable__content pre {margin: 0.2em;color: black;border-radius: 0.25em;background-color: #f0f8ff;}#sk-c5109243-81ad-465e-aaea-0af1d339b313 input.sk-toggleable__control:checked~div.sk-toggleable__content {max-height: 200px;max-width: 100%;overflow: auto;}#sk-c5109243-81ad-465e-aaea-0af1d339b313 input.sk-toggleable__control:checked~label.sk-toggleable__label-arrow:before {content: \"▾\";}#sk-c5109243-81ad-465e-aaea-0af1d339b313 div.sk-estimator input.sk-toggleable__control:checked~label.sk-toggleable__label {background-color: #d4ebff;}#sk-c5109243-81ad-465e-aaea-0af1d339b313 div.sk-label input.sk-toggleable__control:checked~label.sk-toggleable__label {background-color: #d4ebff;}#sk-c5109243-81ad-465e-aaea-0af1d339b313 input.sk-hidden--visually {border: 0;clip: rect(1px 1px 1px 1px);clip: rect(1px, 1px, 1px, 1px);height: 1px;margin: -1px;overflow: hidden;padding: 0;position: absolute;width: 1px;}#sk-c5109243-81ad-465e-aaea-0af1d339b313 div.sk-estimator {font-family: monospace;background-color: #f0f8ff;border: 1px dotted black;border-radius: 0.25em;box-sizing: border-box;margin-bottom: 0.5em;}#sk-c5109243-81ad-465e-aaea-0af1d339b313 div.sk-estimator:hover {background-color: #d4ebff;}#sk-c5109243-81ad-465e-aaea-0af1d339b313 div.sk-parallel-item::after {content: \"\";width: 100%;border-bottom: 1px solid gray;flex-grow: 1;}#sk-c5109243-81ad-465e-aaea-0af1d339b313 div.sk-label:hover label.sk-toggleable__label {background-color: #d4ebff;}#sk-c5109243-81ad-465e-aaea-0af1d339b313 div.sk-serial::before {content: \"\";position: absolute;border-left: 1px solid gray;box-sizing: border-box;top: 2em;bottom: 0;left: 50%;}#sk-c5109243-81ad-465e-aaea-0af1d339b313 div.sk-serial {display: flex;flex-direction: column;align-items: center;background-color: white;padding-right: 0.2em;padding-left: 0.2em;}#sk-c5109243-81ad-465e-aaea-0af1d339b313 div.sk-item {z-index: 1;}#sk-c5109243-81ad-465e-aaea-0af1d339b313 div.sk-parallel {display: flex;align-items: stretch;justify-content: center;background-color: white;}#sk-c5109243-81ad-465e-aaea-0af1d339b313 div.sk-parallel::before {content: \"\";position: absolute;border-left: 1px solid gray;box-sizing: border-box;top: 2em;bottom: 0;left: 50%;}#sk-c5109243-81ad-465e-aaea-0af1d339b313 div.sk-parallel-item {display: flex;flex-direction: column;position: relative;background-color: white;}#sk-c5109243-81ad-465e-aaea-0af1d339b313 div.sk-parallel-item:first-child::after {align-self: flex-end;width: 50%;}#sk-c5109243-81ad-465e-aaea-0af1d339b313 div.sk-parallel-item:last-child::after {align-self: flex-start;width: 50%;}#sk-c5109243-81ad-465e-aaea-0af1d339b313 div.sk-parallel-item:only-child::after {width: 0;}#sk-c5109243-81ad-465e-aaea-0af1d339b313 div.sk-dashed-wrapped {border: 1px dashed gray;margin: 0 0.4em 0.5em 0.4em;box-sizing: border-box;padding-bottom: 0.4em;background-color: white;position: relative;}#sk-c5109243-81ad-465e-aaea-0af1d339b313 div.sk-label label {font-family: monospace;font-weight: bold;background-color: white;display: inline-block;line-height: 1.2em;}#sk-c5109243-81ad-465e-aaea-0af1d339b313 div.sk-label-container {position: relative;z-index: 2;text-align: center;}#sk-c5109243-81ad-465e-aaea-0af1d339b313 div.sk-container {/* jupyter's `normalize.less` sets `[hidden] { display: none; }` but bootstrap.min.css set `[hidden] { display: none !important; }` so we also need the `!important` here to be able to override the default hidden behavior on the sphinx rendered scikit-learn.org. See: https://github.com/scikit-learn/scikit-learn/issues/21755 */display: inline-block !important;position: relative;}#sk-c5109243-81ad-465e-aaea-0af1d339b313 div.sk-text-repr-fallback {display: none;}</style><div id=\"sk-c5109243-81ad-465e-aaea-0af1d339b313\" class=\"sk-top-container\"><div class=\"sk-text-repr-fallback\"><pre>Pipeline(steps=[(&#x27;standardscaler&#x27;, StandardScaler()),\n",
       "                (&#x27;svc&#x27;, SVC(gamma=&#x27;auto&#x27;))])</pre><b>Please rerun this cell to show the HTML repr or trust the notebook.</b></div><div class=\"sk-container\" hidden><div class=\"sk-item sk-dashed-wrapped\"><div class=\"sk-label-container\"><div class=\"sk-label sk-toggleable\"><input class=\"sk-toggleable__control sk-hidden--visually\" id=\"84461376-cf37-49ea-bc51-35767b3342ac\" type=\"checkbox\" ><label for=\"84461376-cf37-49ea-bc51-35767b3342ac\" class=\"sk-toggleable__label sk-toggleable__label-arrow\">Pipeline</label><div class=\"sk-toggleable__content\"><pre>Pipeline(steps=[(&#x27;standardscaler&#x27;, StandardScaler()),\n",
       "                (&#x27;svc&#x27;, SVC(gamma=&#x27;auto&#x27;))])</pre></div></div></div><div class=\"sk-serial\"><div class=\"sk-item\"><div class=\"sk-estimator sk-toggleable\"><input class=\"sk-toggleable__control sk-hidden--visually\" id=\"07df0160-6ed5-4deb-9e0a-393414e091b9\" type=\"checkbox\" ><label for=\"07df0160-6ed5-4deb-9e0a-393414e091b9\" class=\"sk-toggleable__label sk-toggleable__label-arrow\">StandardScaler</label><div class=\"sk-toggleable__content\"><pre>StandardScaler()</pre></div></div></div><div class=\"sk-item\"><div class=\"sk-estimator sk-toggleable\"><input class=\"sk-toggleable__control sk-hidden--visually\" id=\"ad17df76-aa35-4ec8-a52a-129a5ced79a1\" type=\"checkbox\" ><label for=\"ad17df76-aa35-4ec8-a52a-129a5ced79a1\" class=\"sk-toggleable__label sk-toggleable__label-arrow\">SVC</label><div class=\"sk-toggleable__content\"><pre>SVC(gamma=&#x27;auto&#x27;)</pre></div></div></div></div></div></div></div>"
      ],
      "text/plain": [
       "Pipeline(steps=[('standardscaler', StandardScaler()),\n",
       "                ('svc', SVC(gamma='auto'))])"
      ]
     },
     "execution_count": 143,
     "metadata": {},
     "output_type": "execute_result"
    }
   ],
   "source": [
    "pipe3.fit(df_train_temp.drop(['canon'], axis=1), df_train_temp['canon'])"
   ]
  },
  {
   "cell_type": "code",
   "execution_count": 144,
   "metadata": {},
   "outputs": [
    {
     "data": {
      "text/plain": [
       "0.9155405405405406"
      ]
     },
     "execution_count": 144,
     "metadata": {},
     "output_type": "execute_result"
    }
   ],
   "source": [
    "pipe3.score(df_test_temp.drop(['canon'], axis=1), df_test_temp['canon'])"
   ]
  },
  {
   "cell_type": "code",
   "execution_count": null,
   "metadata": {},
   "outputs": [],
   "source": []
  },
  {
   "cell_type": "code",
   "execution_count": 96,
   "metadata": {},
   "outputs": [],
   "source": [
    "from sklearn import set_config\n",
    "set_config(display='diagram')"
   ]
  },
  {
   "cell_type": "code",
   "execution_count": null,
   "metadata": {},
   "outputs": [],
   "source": []
  },
  {
   "cell_type": "code",
   "execution_count": null,
   "metadata": {},
   "outputs": [],
   "source": []
  },
  {
   "cell_type": "code",
   "execution_count": null,
   "metadata": {},
   "outputs": [],
   "source": []
  },
  {
   "cell_type": "code",
   "execution_count": null,
   "metadata": {},
   "outputs": [],
   "source": []
  }
 ],
 "metadata": {
  "kernelspec": {
   "display_name": "Python 3",
   "language": "python",
   "name": "python3"
  },
  "language_info": {
   "codemirror_mode": {
    "name": "ipython",
    "version": 3
   },
   "file_extension": ".py",
   "mimetype": "text/x-python",
   "name": "python",
   "nbconvert_exporter": "python",
   "pygments_lexer": "ipython3",
   "version": "3.8.3"
  }
 },
 "nbformat": 4,
 "nbformat_minor": 5
}
