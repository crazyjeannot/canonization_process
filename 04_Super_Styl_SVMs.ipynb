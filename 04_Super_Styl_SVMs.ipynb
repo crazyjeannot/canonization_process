{
 "cells": [
  {
   "cell_type": "code",
   "execution_count": 2,
   "metadata": {},
   "outputs": [],
   "source": [
    "import sklearn.svm as sk\n",
    "import sklearn.metrics as metrics\n",
    "import sklearn.decomposition as decomp\n",
    "import sklearn.preprocessing as preproc\n",
    "import sklearn.pipeline as skp\n",
    "import sklearn.model_selection as skmodel\n",
    "import pandas as pd\n",
    "import matplotlib.pyplot as plt\n",
    "import numpy as np"
   ]
  },
  {
   "cell_type": "code",
   "execution_count": null,
   "metadata": {},
   "outputs": [],
   "source": []
  },
  {
   "cell_type": "code",
   "execution_count": 3,
   "metadata": {},
   "outputs": [],
   "source": [
    "df_main = pd.read_csv(r'data\\features_canon.csv')"
   ]
  },
  {
   "cell_type": "code",
   "execution_count": 4,
   "metadata": {},
   "outputs": [],
   "source": [
    "df_main.set_index(\"index\", inplace = True)"
   ]
  },
  {
   "cell_type": "code",
   "execution_count": 5,
   "metadata": {},
   "outputs": [],
   "source": [
    "df_main = df_main.replace(np.nan, 0)"
   ]
  },
  {
   "cell_type": "code",
   "execution_count": 6,
   "metadata": {},
   "outputs": [
    {
     "data": {
      "text/plain": [
       "2664"
      ]
     },
     "execution_count": 6,
     "metadata": {},
     "output_type": "execute_result"
    }
   ],
   "source": [
    "2960-296"
   ]
  },
  {
   "cell_type": "code",
   "execution_count": 82,
   "metadata": {},
   "outputs": [],
   "source": [
    "df_train = df_main.head(2664)\n",
    "df_test = df_main.tail(296)"
   ]
  },
  {
   "cell_type": "code",
   "execution_count": null,
   "metadata": {},
   "outputs": [],
   "source": []
  },
  {
   "cell_type": "code",
   "execution_count": 3,
   "metadata": {},
   "outputs": [],
   "source": [
    "# Following function from Aneesha Bakharia\n",
    "# https://aneesha.medium.com/visualising-top-features-in-linear-svm-with-scikit-learn-and-matplotlib-3454ab18a14d\n",
    "\n",
    "def plot_coefficients(coefs, feature_names, current_class, top_features=20):\n",
    "    top_positive_coefficients = np.argsort(coefs)[-top_features:]\n",
    "    top_negative_coefficients = np.argsort(coefs)[:top_features]\n",
    "    top_coefficients = np.hstack([top_negative_coefficients, top_positive_coefficients])\n",
    "    # create plot\n",
    "    plt.figure(figsize=(15, 5))\n",
    "    colors = ['red' if c < 0 else 'blue' for c in coefs[top_coefficients]]\n",
    "    plt.bar(np.arange(2 * top_features), coefs[top_coefficients], color=colors)\n",
    "    feature_names = np.array(feature_names)\n",
    "    plt.xticks(np.arange(0, 2 * top_features), feature_names[top_coefficients], rotation=60, ha='right')\n",
    "    plt.title(\"Coefficients for canonicity\")\n",
    "    plt.savefig('img/coefs_canonicity.png')\n",
    "    # TODO: write them to disk as CSV files"
   ]
  },
  {
   "cell_type": "code",
   "execution_count": 20,
   "metadata": {},
   "outputs": [],
   "source": [
    "def train_svm(train, test, cross_validate=None, k=10, dim_reduc=None, norms=True, kernel=\"LinearSVC\", final_pred=False, get_coefs=False):\n",
    "    \"\"\"\n",
    "    Function to train svm\n",
    "    :param train: train data... (in panda dataframe)\n",
    "    :param test: test data (itou)\n",
    "    :param cross_validate: whether or not to perform cross validation (possible values: leave-one-out and k-fold)\n",
    "    :param k: k parameter for k-fold cross validation\n",
    "    :param dim_reduc: dimensionality reduction of input data. Implemented values are pca and som.\n",
    "    :param norms: perform normalisations, i.e. z-scores and L2 (default True)\n",
    "    :param kernel: kernel for SVM\n",
    "    :param final_pred: do the final predictions?\n",
    "    :param get_coefs, if true, writes to disk (coefficients.csv) and plots the most important coefficients for each class\n",
    "    :return: returns a pipeline with a fitted svm model, and if possible prints evaluation and writes to disk:\n",
    "    confusion_matrix.csv, misattributions.csv and (if required) FINAL_PREDICTIONS.csv\n",
    "    \"\"\"\n",
    "\n",
    "    print(\".......... Formatting data ........\")\n",
    "    # Save the classes\n",
    "    classes = list(train.canon)\n",
    "    train = train.drop(['canon'], axis=1)\n",
    "\n",
    "    if test is not None:\n",
    "        #classes_test = list(test.loc[:, 'author'])\n",
    "        classes_test = list(test.canon) \n",
    "        test = test.drop(['canon'], axis=1)\n",
    "        preds_index = list(test.index)\n",
    "\n",
    "    nfeats = train.columns.__len__()\n",
    "\n",
    "    # CREATING PIPELINE\n",
    "    print(\".......... Creating pipeline according to user choices ........\")\n",
    "    estimators = []\n",
    "\n",
    "    if norms:\n",
    "        # Z-scores\n",
    "        # TODO: me suis embeté à implémenter quelque chose qui existe\n",
    "        # déjà via sklearn.preprocessing.StandardScaler()\n",
    "        print(\".......... using normalisations ........\")\n",
    "        estimators.append(('scaler', preproc.StandardScaler()))\n",
    "        # NB: j'utilise le built-in\n",
    "        # normalisation L2\n",
    "        # cf. https://scikit-learn.org/stable/modules/generated/sklearn.preprocessing.Normalizer.html#sklearn.preprocessing.Normalizer\n",
    "\n",
    "        estimators.append(('normalizer', preproc.Normalizer()))\n",
    "\n",
    "    print(\".......... choosing SVM ........\")\n",
    "\n",
    "    if kernel == \"LinearSVC\":\n",
    "        # try a faster one\n",
    "        estimators.append(('model', sk.LinearSVC()))\n",
    "        # classif = sk.LinearSVC()\n",
    "\n",
    "    else:\n",
    "        estimators.append(('model', sk.SVC(kernel=kernel)))\n",
    "        # classif = sk.SVC(kernel=kernel)\n",
    "\n",
    "    print(\".......... Creating pipeline with steps ........\")\n",
    "    print(estimators)\n",
    "    pipe = skp.Pipeline(estimators)\n",
    "    \n",
    "    \n",
    "    \n",
    "    if cross_validate is not None:\n",
    "        if cross_validate == 'leave-one-out':\n",
    "            myCV = skmodel.LeaveOneOut()\n",
    "\n",
    "        if cross_validate == 'k-fold':\n",
    "            myCV = skmodel.KFold(n_splits=k)\n",
    "\n",
    "        print(\".......... \"+ cross_validate +\" cross validation will be performed ........\")\n",
    "        print(\".......... using \" + str(myCV.get_n_splits(train)) + \" samples ........\")\n",
    "\n",
    "        # Will need to\n",
    "        # 1. train a model\n",
    "        # 2. get prediction\n",
    "        # 3. compute score: precision, recall, F1 for all categories\n",
    "\n",
    "        preds = skmodel.cross_val_predict(pipe, train, classes, cv=myCV, verbose=1, n_jobs=-1)\n",
    "        cv_results = skmodel.cross_validate(pipe, train, classes, cv=myCV, verbose=1, n_jobs=-1)\n",
    "\n",
    "        # and now, leave one out evaluation (very small redundancy here, one line that could be stored elsewhere)\n",
    "        unique_labels = list(set(classes))\n",
    "        pd.DataFrame(metrics.confusion_matrix(classes, preds, labels=unique_labels),\n",
    "                         index=['true:{:}'.format(x) for x in unique_labels],\n",
    "                         columns=['pred:{:}'.format(x) for x in unique_labels]).to_csv(\"confusion_matrix.csv\")\n",
    "\n",
    "        print(metrics.classification_report(classes, preds))\n",
    "        # writing misattributions\n",
    "        pd.DataFrame([i for i in zip(list(train.index), list(classes), list(preds)) if i[1] != i[2] ],\n",
    "                         columns=[\"id\", \"True\", \"Pred\"]\n",
    "                         ).set_index('id').to_csv(\"misattributions.csv\")\n",
    "\n",
    "        # and now making the model for final preds after leave one out if necessary\n",
    "        if final_pred or get_coefs:\n",
    "            print(\".......... Training final SVM with all train set ........\")\n",
    "            pipe.fit(train, classes)\n",
    "\n",
    "        if final_pred:\n",
    "            preds = pipe.predict(test)\n",
    "    \n",
    "        return pipe, cv_results\n",
    "    \n",
    "    # And now the simple case where there is only one svm to train\n",
    "    else:\n",
    "        pipe.fit(train, classes)\n",
    "        preds = pipe.predict(test)\n",
    "        # and evaluate\n",
    "        unique_labels = list(set(classes + classes_test))\n",
    "\n",
    "        pd.DataFrame(metrics.confusion_matrix(classes_test, preds, labels=unique_labels),\n",
    "                         index=['true:{:}'.format(x) for x in unique_labels],\n",
    "                         columns=['pred:{:}'.format(x) for x in unique_labels]).to_csv(\"confusion_matrix.csv\")\n",
    "\n",
    "        print(metrics.classification_report(classes_test, preds))\n",
    "\n",
    "    # AND NOW, we need to evaluate or create the final predictions\n",
    "    if final_pred:\n",
    "        print(\".......... Writing final predictions to FINAL_PREDICTIONS.csv ........\")\n",
    "        # Get the decision function too\n",
    "        myclasses = pipe.classes_\n",
    "        decs = pipe.decision_function(test)\n",
    "        #######ERROR --- resolu\n",
    "        dists = {}\n",
    "        dists[\"canon\"] = decs\n",
    "\n",
    "        pd.DataFrame(data={**{'filename': preds_index, 'non-canon': list(preds)}, **dists}).to_csv(\"FINAL_PREDICTIONS.csv\")\n",
    "\n",
    "\n",
    "    if get_coefs:\n",
    "        print(\"..........   Get Coef    ..........\")\n",
    "        # For “one-vs-rest” LinearSVC the attributes coef_ and intercept_ have the shape (n_classes, n_features) and\n",
    "        # (n_classes,) respectively.\n",
    "        # Each row of the coefficients corresponds to one of the n_classes “one-vs-rest” classifiers and similar for the\n",
    "        # intercepts, in the order of the “one” class.\n",
    "        # Save coefficients for the last model\n",
    "        \n",
    "        #####ERROR    --- pipe.named_steps['model'].coef_  --- resolu\n",
    "        pd.DataFrame(pipe.named_steps['model'].coef_,\n",
    "                         index=['non-canon'],\n",
    "                         columns=train.columns).to_csv(\"coefficients.csv\")\n",
    "\n",
    "        # TODO: optionalise  the number of top_features… ?\n",
    "        plot_coefficients(pipe.named_steps['model'].coef_[0], train.columns, str(pipe.classes_[0]))\n",
    "\n",
    "    return pipe"
   ]
  },
  {
   "cell_type": "code",
   "execution_count": null,
   "metadata": {},
   "outputs": [],
   "source": []
  },
  {
   "cell_type": "markdown",
   "metadata": {},
   "source": [
    "### Cross-Validation Size-Opti novel metadata"
   ]
  },
  {
   "cell_type": "code",
   "execution_count": 5,
   "metadata": {},
   "outputs": [
    {
     "data": {
      "text/plain": [
       "640"
      ]
     },
     "execution_count": 5,
     "metadata": {},
     "output_type": "execute_result"
    }
   ],
   "source": [
    "df_size_opti = pd.read_csv(r'data\\df_size_opti.csv')\n",
    "df_size_opti.set_index(\"index\", inplace = True)\n",
    "df_size_opti = df_size_opti.replace(np.nan, 0)\n",
    "len(df_size_opti)"
   ]
  },
  {
   "cell_type": "code",
   "execution_count": 6,
   "metadata": {},
   "outputs": [
    {
     "name": "stdout",
     "output_type": "stream",
     "text": [
      "non_canon    0.592187\n",
      "canon        0.407813\n",
      "Name: canon, dtype: float64\n",
      "non_canon    379\n",
      "canon        261\n",
      "Name: canon, dtype: int64\n"
     ]
    }
   ],
   "source": [
    "print(df_size_opti['canon'].value_counts(normalize=True))\n",
    "print(df_size_opti['canon'].value_counts())"
   ]
  },
  {
   "cell_type": "code",
   "execution_count": 14,
   "metadata": {},
   "outputs": [],
   "source": [
    "df_train_size_opti = df_size_opti.head(576)\n",
    "df_test_size_opti = df_size_opti.tail(64)"
   ]
  },
  {
   "cell_type": "code",
   "execution_count": 21,
   "metadata": {},
   "outputs": [
    {
     "name": "stdout",
     "output_type": "stream",
     "text": [
      ".......... Formatting data ........\n",
      ".......... Creating pipeline according to user choices ........\n",
      ".......... using normalisations ........\n",
      ".......... choosing SVM ........\n",
      ".......... Creating pipeline with steps ........\n",
      "[('scaler', StandardScaler()), ('normalizer', Normalizer()), ('model', LinearSVC())]\n",
      ".......... k-fold cross validation will be performed ........\n",
      ".......... using 10 samples ........\n"
     ]
    },
    {
     "name": "stderr",
     "output_type": "stream",
     "text": [
      "[Parallel(n_jobs=-1)]: Using backend LokyBackend with 4 concurrent workers.\n",
      "[Parallel(n_jobs=-1)]: Done  10 out of  10 | elapsed:    2.5s finished\n",
      "[Parallel(n_jobs=-1)]: Using backend LokyBackend with 4 concurrent workers.\n",
      "[Parallel(n_jobs=-1)]: Done  10 out of  10 | elapsed:    2.9s finished\n"
     ]
    },
    {
     "name": "stdout",
     "output_type": "stream",
     "text": [
      "              precision    recall  f1-score   support\n",
      "\n",
      "       canon       0.69      0.70      0.69       241\n",
      "   non_canon       0.78      0.77      0.78       335\n",
      "\n",
      "    accuracy                           0.74       576\n",
      "   macro avg       0.73      0.74      0.73       576\n",
      "weighted avg       0.74      0.74      0.74       576\n",
      "\n"
     ]
    }
   ],
   "source": [
    "pipe_novel_CV, scores_novel_CV = train_svm(df_train_size_opti, df_test_size_opti, cross_validate='k-fold')"
   ]
  },
  {
   "cell_type": "code",
   "execution_count": 22,
   "metadata": {},
   "outputs": [
    {
     "data": {
      "text/plain": [
       "{'fit_time': array([1.00507188, 1.0530746 , 0.98407316, 1.0110724 , 0.97207212,\n",
       "        0.91806912, 0.92006636, 0.92006874, 0.7500577 , 0.74305415]),\n",
       " 'score_time': array([0.081007  , 0.08800721, 0.0940063 , 0.08601117, 0.08300924,\n",
       "        0.07300425, 0.0780108 , 0.1020093 , 0.06000447, 0.05600786]),\n",
       " 'test_score': array([0.68965517, 0.75862069, 0.77586207, 0.68965517, 0.67241379,\n",
       "        0.75862069, 0.75438596, 0.70175439, 0.75438596, 0.85964912])}"
      ]
     },
     "execution_count": 22,
     "metadata": {},
     "output_type": "execute_result"
    }
   ],
   "source": [
    "scores_novel_CV"
   ]
  },
  {
   "cell_type": "code",
   "execution_count": 23,
   "metadata": {},
   "outputs": [
    {
     "data": {
      "text/plain": [
       "0.7415003024803388"
      ]
     },
     "execution_count": 23,
     "metadata": {},
     "output_type": "execute_result"
    }
   ],
   "source": [
    "sum(scores_novel_CV['test_score'])/len(scores_novel_CV['test_score'])"
   ]
  },
  {
   "cell_type": "markdown",
   "metadata": {},
   "source": [
    "### Cross-Validation author metadata"
   ]
  },
  {
   "cell_type": "code",
   "execution_count": 24,
   "metadata": {},
   "outputs": [],
   "source": [
    "df_fabula = pd.read_csv(r'data\\features_fabula.csv', index_col='index')\n",
    "df_fabula = df_fabula.replace(np.nan, 0)"
   ]
  },
  {
   "cell_type": "code",
   "execution_count": 25,
   "metadata": {},
   "outputs": [
    {
     "name": "stdout",
     "output_type": "stream",
     "text": [
      "False    0.609797\n",
      "True     0.390203\n",
      "Name: canon, dtype: float64\n",
      "False    1805\n",
      "True     1155\n",
      "Name: canon, dtype: int64\n"
     ]
    }
   ],
   "source": [
    "print(df_fabula['canon'].value_counts(normalize=True))\n",
    "print(df_fabula['canon'].value_counts())"
   ]
  },
  {
   "cell_type": "code",
   "execution_count": 28,
   "metadata": {},
   "outputs": [
    {
     "data": {
      "text/plain": [
       "2960"
      ]
     },
     "execution_count": 28,
     "metadata": {},
     "output_type": "execute_result"
    }
   ],
   "source": [
    "len(df_fabula)"
   ]
  },
  {
   "cell_type": "code",
   "execution_count": 38,
   "metadata": {},
   "outputs": [],
   "source": [
    "df_train_author_CV = df_fabula.head(2660)\n",
    "df_test_author_CV = df_fabula.tail(300)"
   ]
  },
  {
   "cell_type": "code",
   "execution_count": 39,
   "metadata": {},
   "outputs": [
    {
     "name": "stdout",
     "output_type": "stream",
     "text": [
      ".......... Formatting data ........\n",
      ".......... Creating pipeline according to user choices ........\n",
      ".......... using normalisations ........\n",
      ".......... choosing SVM ........\n",
      ".......... Creating pipeline with steps ........\n",
      "[('scaler', StandardScaler()), ('normalizer', Normalizer()), ('model', LinearSVC())]\n",
      ".......... k-fold cross validation will be performed ........\n",
      ".......... using 10 samples ........\n"
     ]
    },
    {
     "name": "stderr",
     "output_type": "stream",
     "text": [
      "[Parallel(n_jobs=-1)]: Using backend LokyBackend with 4 concurrent workers.\n",
      "[Parallel(n_jobs=-1)]: Done  10 out of  10 | elapsed:   15.7s finished\n",
      "[Parallel(n_jobs=-1)]: Using backend LokyBackend with 4 concurrent workers.\n",
      "[Parallel(n_jobs=-1)]: Done  10 out of  10 | elapsed:   15.8s finished\n"
     ]
    },
    {
     "name": "stdout",
     "output_type": "stream",
     "text": [
      "              precision    recall  f1-score   support\n",
      "\n",
      "       False       0.90      0.92      0.91      1628\n",
      "        True       0.87      0.85      0.86      1032\n",
      "\n",
      "    accuracy                           0.89      2660\n",
      "   macro avg       0.89      0.88      0.89      2660\n",
      "weighted avg       0.89      0.89      0.89      2660\n",
      "\n"
     ]
    }
   ],
   "source": [
    "pipe_fabula, scores_author_CV = train_svm(df_train_author_CV, df_test_author_CV, cross_validate='k-fold')"
   ]
  },
  {
   "cell_type": "code",
   "execution_count": 40,
   "metadata": {},
   "outputs": [
    {
     "data": {
      "text/plain": [
       "{'fit_time': array([5.03738546, 6.41848707, 5.6714263 , 5.01037908, 5.37040734,\n",
       "        5.43940902, 5.550421  , 5.85143781, 3.25924349, 3.25624442]),\n",
       " 'score_time': array([1.26509261, 0.53003693, 0.16801572, 1.09708428, 0.27802587,\n",
       "        0.14401221, 0.12801266, 0.27602291, 0.0790062 , 0.07400608]),\n",
       " 'test_score': array([0.86466165, 0.93984962, 0.87593985, 0.89097744, 0.87969925,\n",
       "        0.88721805, 0.91729323, 0.87969925, 0.91729323, 0.86090226])}"
      ]
     },
     "execution_count": 40,
     "metadata": {},
     "output_type": "execute_result"
    }
   ],
   "source": [
    "scores_author_CV"
   ]
  },
  {
   "cell_type": "code",
   "execution_count": 41,
   "metadata": {},
   "outputs": [
    {
     "data": {
      "text/plain": [
       "0.8913533834586467"
      ]
     },
     "execution_count": 41,
     "metadata": {},
     "output_type": "execute_result"
    }
   ],
   "source": [
    "sum(scores_author_CV['test_score'])/len(scores_author_CV['test_score'])"
   ]
  },
  {
   "cell_type": "code",
   "execution_count": null,
   "metadata": {},
   "outputs": [],
   "source": []
  },
  {
   "cell_type": "code",
   "execution_count": null,
   "metadata": {},
   "outputs": [],
   "source": []
  },
  {
   "cell_type": "code",
   "execution_count": null,
   "metadata": {},
   "outputs": [],
   "source": []
  },
  {
   "cell_type": "code",
   "execution_count": 9,
   "metadata": {},
   "outputs": [
    {
     "name": "stdout",
     "output_type": "stream",
     "text": [
      ".......... Formatting data ........\n",
      ".......... Creating pipeline according to user choices ........\n",
      ".......... using normalisations ........\n",
      ".......... choosing SVM ........\n",
      ".......... Creating pipeline with steps ........\n",
      "[('scaler', StandardScaler()), ('normalizer', Normalizer()), ('model', LinearSVC())]\n",
      "              precision    recall  f1-score   support\n",
      "\n",
      "       canon       0.55      0.17      0.26        36\n",
      "   non_canon       0.89      0.98      0.94       260\n",
      "\n",
      "    accuracy                           0.88       296\n",
      "   macro avg       0.72      0.57      0.60       296\n",
      "weighted avg       0.85      0.88      0.85       296\n",
      "\n",
      ".......... Writing final predictions to FINAL_PREDICTIONS.csv ........\n",
      "..........   Get Coef    ..........\n"
     ]
    },
    {
     "data": {
      "image/png": "[encoded data removed]",
      "text/plain": [
       "<Figure size 1080x360 with 1 Axes>"
      ]
     },
     "metadata": {
      "needs_background": "light"
     },
     "output_type": "display_data"
    }
   ],
   "source": [
    "svm_1 = train_svm(df_train, df_test, norms=True, kernel=\"LinearSVC\", final_pred=True, get_coefs=True)"
   ]
  },
  {
   "cell_type": "code",
   "execution_count": null,
   "metadata": {},
   "outputs": [],
   "source": []
  },
  {
   "cell_type": "code",
   "execution_count": 4,
   "metadata": {},
   "outputs": [],
   "source": [
    "df_main_temp = pd.read_csv(r'data\\features_fabula.csv')"
   ]
  },
  {
   "cell_type": "code",
   "execution_count": 165,
   "metadata": {},
   "outputs": [],
   "source": [
    "df_main_metadata = pd.read_csv(r'data\\df_main_author.csv')"
   ]
  },
  {
   "cell_type": "code",
   "execution_count": 179,
   "metadata": {},
   "outputs": [
    {
     "data": {
      "text/html": [
       "<div>\n",
       "<style scoped>\n",
       "    .dataframe tbody tr th:only-of-type {\n",
       "        vertical-align: middle;\n",
       "    }\n",
       "\n",
       "    .dataframe tbody tr th {\n",
       "        vertical-align: top;\n",
       "    }\n",
       "\n",
       "    .dataframe thead th {\n",
       "        text-align: right;\n",
       "    }\n",
       "</style>\n",
       "<table border=\"1\" class=\"dataframe\">\n",
       "  <thead>\n",
       "    <tr style=\"text-align: right;\">\n",
       "      <th></th>\n",
       "      <th>le</th>\n",
       "      <th>de</th>\n",
       "      <th>un</th>\n",
       "      <th>et</th>\n",
       "      <th>il</th>\n",
       "      <th>avoir</th>\n",
       "      <th>à</th>\n",
       "      <th>lui</th>\n",
       "      <th>être</th>\n",
       "      <th>son</th>\n",
       "      <th>...</th>\n",
       "      <th>PROPN_VERB_AUX</th>\n",
       "      <th>VERB_CCONJ_CCONJ</th>\n",
       "      <th>ADV_NOUN_AUX</th>\n",
       "      <th>SCONJ_NOUN_AUX</th>\n",
       "      <th>PRON_ADJ_AUX</th>\n",
       "      <th>SCONJ_PROPN_DET</th>\n",
       "      <th>ADV_DET_DET</th>\n",
       "      <th>ADV_CCONJ_PROPN</th>\n",
       "      <th>VERB_VERB_AUX</th>\n",
       "      <th>canon</th>\n",
       "    </tr>\n",
       "    <tr>\n",
       "      <th>index</th>\n",
       "      <th></th>\n",
       "      <th></th>\n",
       "      <th></th>\n",
       "      <th></th>\n",
       "      <th></th>\n",
       "      <th></th>\n",
       "      <th></th>\n",
       "      <th></th>\n",
       "      <th></th>\n",
       "      <th></th>\n",
       "      <th></th>\n",
       "      <th></th>\n",
       "      <th></th>\n",
       "      <th></th>\n",
       "      <th></th>\n",
       "      <th></th>\n",
       "      <th></th>\n",
       "      <th></th>\n",
       "      <th></th>\n",
       "      <th></th>\n",
       "      <th></th>\n",
       "    </tr>\n",
       "  </thead>\n",
       "  <tbody>\n",
       "    <tr>\n",
       "      <th>1869_Feval-Paul_Maman-Leo-Les-habits-Noirs_Tome-V</th>\n",
       "      <td>0.063060</td>\n",
       "      <td>0.046097</td>\n",
       "      <td>0.023424</td>\n",
       "      <td>0.021860</td>\n",
       "      <td>0.018918</td>\n",
       "      <td>0.024339</td>\n",
       "      <td>0.016387</td>\n",
       "      <td>0.012571</td>\n",
       "      <td>0.016675</td>\n",
       "      <td>0.013939</td>\n",
       "      <td>...</td>\n",
       "      <td>0.000134</td>\n",
       "      <td>0.000010</td>\n",
       "      <td>0.000051</td>\n",
       "      <td>0.000021</td>\n",
       "      <td>0.000051</td>\n",
       "      <td>0.000010</td>\n",
       "      <td>0.000041</td>\n",
       "      <td>0.000093</td>\n",
       "      <td>0.000031</td>\n",
       "      <td>True</td>\n",
       "    </tr>\n",
       "    <tr>\n",
       "      <th>1865_Maricourt-Rene-Du-Mesnil_Donatien</th>\n",
       "      <td>0.061108</td>\n",
       "      <td>0.050939</td>\n",
       "      <td>0.031604</td>\n",
       "      <td>0.019637</td>\n",
       "      <td>0.020051</td>\n",
       "      <td>0.017887</td>\n",
       "      <td>0.018078</td>\n",
       "      <td>0.014418</td>\n",
       "      <td>0.011665</td>\n",
       "      <td>0.015404</td>\n",
       "      <td>...</td>\n",
       "      <td>0.000016</td>\n",
       "      <td>0.000032</td>\n",
       "      <td>0.000000</td>\n",
       "      <td>0.000032</td>\n",
       "      <td>0.000048</td>\n",
       "      <td>0.000000</td>\n",
       "      <td>0.000016</td>\n",
       "      <td>0.000000</td>\n",
       "      <td>0.000032</td>\n",
       "      <td>False</td>\n",
       "    </tr>\n",
       "    <tr>\n",
       "      <th>1998_Darrieussecq-Marie_Naissance-des-fantomes</th>\n",
       "      <td>0.067883</td>\n",
       "      <td>0.056454</td>\n",
       "      <td>0.032576</td>\n",
       "      <td>0.023217</td>\n",
       "      <td>0.008819</td>\n",
       "      <td>0.017158</td>\n",
       "      <td>0.018808</td>\n",
       "      <td>0.006569</td>\n",
       "      <td>0.005729</td>\n",
       "      <td>0.010109</td>\n",
       "      <td>...</td>\n",
       "      <td>0.000030</td>\n",
       "      <td>0.000030</td>\n",
       "      <td>0.000000</td>\n",
       "      <td>0.000000</td>\n",
       "      <td>0.000030</td>\n",
       "      <td>0.000000</td>\n",
       "      <td>0.000030</td>\n",
       "      <td>0.000000</td>\n",
       "      <td>0.000000</td>\n",
       "      <td>True</td>\n",
       "    </tr>\n",
       "    <tr>\n",
       "      <th>1884_Chavette-Eugene_Le-saucisson-a-pattes_II-Le-plan-de-Cardeuc</th>\n",
       "      <td>0.076659</td>\n",
       "      <td>0.059018</td>\n",
       "      <td>0.022950</td>\n",
       "      <td>0.013403</td>\n",
       "      <td>0.024227</td>\n",
       "      <td>0.022991</td>\n",
       "      <td>0.022950</td>\n",
       "      <td>0.013947</td>\n",
       "      <td>0.010701</td>\n",
       "      <td>0.014924</td>\n",
       "      <td>...</td>\n",
       "      <td>0.000068</td>\n",
       "      <td>0.000000</td>\n",
       "      <td>0.000054</td>\n",
       "      <td>0.000068</td>\n",
       "      <td>0.000041</td>\n",
       "      <td>0.000014</td>\n",
       "      <td>0.000027</td>\n",
       "      <td>0.000068</td>\n",
       "      <td>0.000054</td>\n",
       "      <td>False</td>\n",
       "    </tr>\n",
       "    <tr>\n",
       "      <th>1910_Ivoi-Paul-d-_Millionnaire-malgre-lui_tome-2</th>\n",
       "      <td>0.068457</td>\n",
       "      <td>0.052986</td>\n",
       "      <td>0.028188</td>\n",
       "      <td>0.017413</td>\n",
       "      <td>0.015869</td>\n",
       "      <td>0.019100</td>\n",
       "      <td>0.018129</td>\n",
       "      <td>0.012288</td>\n",
       "      <td>0.013481</td>\n",
       "      <td>0.011571</td>\n",
       "      <td>...</td>\n",
       "      <td>0.000016</td>\n",
       "      <td>0.000048</td>\n",
       "      <td>0.000096</td>\n",
       "      <td>0.000000</td>\n",
       "      <td>0.000048</td>\n",
       "      <td>0.000016</td>\n",
       "      <td>0.000080</td>\n",
       "      <td>0.000016</td>\n",
       "      <td>0.000048</td>\n",
       "      <td>False</td>\n",
       "    </tr>\n",
       "    <tr>\n",
       "      <th>...</th>\n",
       "      <td>...</td>\n",
       "      <td>...</td>\n",
       "      <td>...</td>\n",
       "      <td>...</td>\n",
       "      <td>...</td>\n",
       "      <td>...</td>\n",
       "      <td>...</td>\n",
       "      <td>...</td>\n",
       "      <td>...</td>\n",
       "      <td>...</td>\n",
       "      <td>...</td>\n",
       "      <td>...</td>\n",
       "      <td>...</td>\n",
       "      <td>...</td>\n",
       "      <td>...</td>\n",
       "      <td>...</td>\n",
       "      <td>...</td>\n",
       "      <td>...</td>\n",
       "      <td>...</td>\n",
       "      <td>...</td>\n",
       "      <td>...</td>\n",
       "    </tr>\n",
       "    <tr>\n",
       "      <th>1889_Coppee-François_Henriette</th>\n",
       "      <td>0.056222</td>\n",
       "      <td>0.052269</td>\n",
       "      <td>0.027711</td>\n",
       "      <td>0.026779</td>\n",
       "      <td>0.015721</td>\n",
       "      <td>0.017986</td>\n",
       "      <td>0.018208</td>\n",
       "      <td>0.031308</td>\n",
       "      <td>0.012257</td>\n",
       "      <td>0.022782</td>\n",
       "      <td>...</td>\n",
       "      <td>0.000044</td>\n",
       "      <td>0.000089</td>\n",
       "      <td>0.000044</td>\n",
       "      <td>0.000044</td>\n",
       "      <td>0.000000</td>\n",
       "      <td>0.000044</td>\n",
       "      <td>0.000044</td>\n",
       "      <td>0.000044</td>\n",
       "      <td>0.000000</td>\n",
       "      <td>False</td>\n",
       "    </tr>\n",
       "    <tr>\n",
       "      <th>1885_Lermina-Jules_Histoires-incroyables</th>\n",
       "      <td>0.053957</td>\n",
       "      <td>0.042729</td>\n",
       "      <td>0.028048</td>\n",
       "      <td>0.019481</td>\n",
       "      <td>0.021110</td>\n",
       "      <td>0.021620</td>\n",
       "      <td>0.019198</td>\n",
       "      <td>0.009686</td>\n",
       "      <td>0.018699</td>\n",
       "      <td>0.010837</td>\n",
       "      <td>...</td>\n",
       "      <td>0.000033</td>\n",
       "      <td>0.000065</td>\n",
       "      <td>0.000033</td>\n",
       "      <td>0.000054</td>\n",
       "      <td>0.000043</td>\n",
       "      <td>0.000033</td>\n",
       "      <td>0.000065</td>\n",
       "      <td>0.000033</td>\n",
       "      <td>0.000076</td>\n",
       "      <td>False</td>\n",
       "    </tr>\n",
       "    <tr>\n",
       "      <th>1843_Sue-Eugene_Les-Mysteres-de-Paris_Tome-IV</th>\n",
       "      <td>0.051923</td>\n",
       "      <td>0.048799</td>\n",
       "      <td>0.024148</td>\n",
       "      <td>0.020082</td>\n",
       "      <td>0.017739</td>\n",
       "      <td>0.020243</td>\n",
       "      <td>0.019579</td>\n",
       "      <td>0.009866</td>\n",
       "      <td>0.018421</td>\n",
       "      <td>0.012173</td>\n",
       "      <td>...</td>\n",
       "      <td>0.000072</td>\n",
       "      <td>0.000108</td>\n",
       "      <td>0.000054</td>\n",
       "      <td>0.000036</td>\n",
       "      <td>0.000045</td>\n",
       "      <td>0.000045</td>\n",
       "      <td>0.000063</td>\n",
       "      <td>0.000054</td>\n",
       "      <td>0.000027</td>\n",
       "      <td>False</td>\n",
       "    </tr>\n",
       "    <tr>\n",
       "      <th>1836_Igonette-T._Le-Valmont-de-la-jeunesse_ou-le-Triomphe-des-vertus-sur-les-egarements-de-la-raison-mis-a-la-portee-des-jeunes-gens-des-deux-sexes__tome-2)</th>\n",
       "      <td>0.064394</td>\n",
       "      <td>0.054273</td>\n",
       "      <td>0.018137</td>\n",
       "      <td>0.035739</td>\n",
       "      <td>0.017225</td>\n",
       "      <td>0.016371</td>\n",
       "      <td>0.020439</td>\n",
       "      <td>0.013950</td>\n",
       "      <td>0.015558</td>\n",
       "      <td>0.015121</td>\n",
       "      <td>...</td>\n",
       "      <td>0.000060</td>\n",
       "      <td>0.000000</td>\n",
       "      <td>0.000060</td>\n",
       "      <td>0.000060</td>\n",
       "      <td>0.000040</td>\n",
       "      <td>0.000040</td>\n",
       "      <td>0.000079</td>\n",
       "      <td>0.000079</td>\n",
       "      <td>0.000000</td>\n",
       "      <td>False</td>\n",
       "    </tr>\n",
       "    <tr>\n",
       "      <th>1912_Loti-Pierre_Un-pelerin-d-Angkor</th>\n",
       "      <td>0.058849</td>\n",
       "      <td>0.071015</td>\n",
       "      <td>0.032686</td>\n",
       "      <td>0.026090</td>\n",
       "      <td>0.008538</td>\n",
       "      <td>0.012349</td>\n",
       "      <td>0.016856</td>\n",
       "      <td>0.004507</td>\n",
       "      <td>0.013851</td>\n",
       "      <td>0.004544</td>\n",
       "      <td>...</td>\n",
       "      <td>0.000037</td>\n",
       "      <td>0.000110</td>\n",
       "      <td>0.000000</td>\n",
       "      <td>0.000000</td>\n",
       "      <td>0.000000</td>\n",
       "      <td>0.000073</td>\n",
       "      <td>0.000000</td>\n",
       "      <td>0.000000</td>\n",
       "      <td>0.000000</td>\n",
       "      <td>True</td>\n",
       "    </tr>\n",
       "  </tbody>\n",
       "</table>\n",
       "<p>2200 rows × 4157 columns</p>\n",
       "</div>"
      ],
      "text/plain": [
       "                                                          le        de  \\\n",
       "index                                                                    \n",
       "1869_Feval-Paul_Maman-Leo-Les-habits-Noirs_Tome-V   0.063060  0.046097   \n",
       "1865_Maricourt-Rene-Du-Mesnil_Donatien              0.061108  0.050939   \n",
       "1998_Darrieussecq-Marie_Naissance-des-fantomes      0.067883  0.056454   \n",
       "1884_Chavette-Eugene_Le-saucisson-a-pattes_II-L...  0.076659  0.059018   \n",
       "1910_Ivoi-Paul-d-_Millionnaire-malgre-lui_tome-2    0.068457  0.052986   \n",
       "...                                                      ...       ...   \n",
       "1889_Coppee-François_Henriette                      0.056222  0.052269   \n",
       "1885_Lermina-Jules_Histoires-incroyables            0.053957  0.042729   \n",
       "1843_Sue-Eugene_Les-Mysteres-de-Paris_Tome-IV       0.051923  0.048799   \n",
       "1836_Igonette-T._Le-Valmont-de-la-jeunesse_ou-l...  0.064394  0.054273   \n",
       "1912_Loti-Pierre_Un-pelerin-d-Angkor                0.058849  0.071015   \n",
       "\n",
       "                                                          un        et  \\\n",
       "index                                                                    \n",
       "1869_Feval-Paul_Maman-Leo-Les-habits-Noirs_Tome-V   0.023424  0.021860   \n",
       "1865_Maricourt-Rene-Du-Mesnil_Donatien              0.031604  0.019637   \n",
       "1998_Darrieussecq-Marie_Naissance-des-fantomes      0.032576  0.023217   \n",
       "1884_Chavette-Eugene_Le-saucisson-a-pattes_II-L...  0.022950  0.013403   \n",
       "1910_Ivoi-Paul-d-_Millionnaire-malgre-lui_tome-2    0.028188  0.017413   \n",
       "...                                                      ...       ...   \n",
       "1889_Coppee-François_Henriette                      0.027711  0.026779   \n",
       "1885_Lermina-Jules_Histoires-incroyables            0.028048  0.019481   \n",
       "1843_Sue-Eugene_Les-Mysteres-de-Paris_Tome-IV       0.024148  0.020082   \n",
       "1836_Igonette-T._Le-Valmont-de-la-jeunesse_ou-l...  0.018137  0.035739   \n",
       "1912_Loti-Pierre_Un-pelerin-d-Angkor                0.032686  0.026090   \n",
       "\n",
       "                                                          il     avoir  \\\n",
       "index                                                                    \n",
       "1869_Feval-Paul_Maman-Leo-Les-habits-Noirs_Tome-V   0.018918  0.024339   \n",
       "1865_Maricourt-Rene-Du-Mesnil_Donatien              0.020051  0.017887   \n",
       "1998_Darrieussecq-Marie_Naissance-des-fantomes      0.008819  0.017158   \n",
       "1884_Chavette-Eugene_Le-saucisson-a-pattes_II-L...  0.024227  0.022991   \n",
       "1910_Ivoi-Paul-d-_Millionnaire-malgre-lui_tome-2    0.015869  0.019100   \n",
       "...                                                      ...       ...   \n",
       "1889_Coppee-François_Henriette                      0.015721  0.017986   \n",
       "1885_Lermina-Jules_Histoires-incroyables            0.021110  0.021620   \n",
       "1843_Sue-Eugene_Les-Mysteres-de-Paris_Tome-IV       0.017739  0.020243   \n",
       "1836_Igonette-T._Le-Valmont-de-la-jeunesse_ou-l...  0.017225  0.016371   \n",
       "1912_Loti-Pierre_Un-pelerin-d-Angkor                0.008538  0.012349   \n",
       "\n",
       "                                                          à       lui  \\\n",
       "index                                                                    \n",
       "1869_Feval-Paul_Maman-Leo-Les-habits-Noirs_Tome-V   0.016387  0.012571   \n",
       "1865_Maricourt-Rene-Du-Mesnil_Donatien              0.018078  0.014418   \n",
       "1998_Darrieussecq-Marie_Naissance-des-fantomes      0.018808  0.006569   \n",
       "1884_Chavette-Eugene_Le-saucisson-a-pattes_II-L...  0.022950  0.013947   \n",
       "1910_Ivoi-Paul-d-_Millionnaire-malgre-lui_tome-2    0.018129  0.012288   \n",
       "...                                                      ...       ...   \n",
       "1889_Coppee-François_Henriette                      0.018208  0.031308   \n",
       "1885_Lermina-Jules_Histoires-incroyables            0.019198  0.009686   \n",
       "1843_Sue-Eugene_Les-Mysteres-de-Paris_Tome-IV       0.019579  0.009866   \n",
       "1836_Igonette-T._Le-Valmont-de-la-jeunesse_ou-l...  0.020439  0.013950   \n",
       "1912_Loti-Pierre_Un-pelerin-d-Angkor                0.016856  0.004507   \n",
       "\n",
       "                                                        être       son  ...  \\\n",
       "index                                                                   ...   \n",
       "1869_Feval-Paul_Maman-Leo-Les-habits-Noirs_Tome-V   0.016675  0.013939  ...   \n",
       "1865_Maricourt-Rene-Du-Mesnil_Donatien              0.011665  0.015404  ...   \n",
       "1998_Darrieussecq-Marie_Naissance-des-fantomes      0.005729  0.010109  ...   \n",
       "1884_Chavette-Eugene_Le-saucisson-a-pattes_II-L...  0.010701  0.014924  ...   \n",
       "1910_Ivoi-Paul-d-_Millionnaire-malgre-lui_tome-2    0.013481  0.011571  ...   \n",
       "...                                                      ...       ...  ...   \n",
       "1889_Coppee-François_Henriette                      0.012257  0.022782  ...   \n",
       "1885_Lermina-Jules_Histoires-incroyables            0.018699  0.010837  ...   \n",
       "1843_Sue-Eugene_Les-Mysteres-de-Paris_Tome-IV       0.018421  0.012173  ...   \n",
       "1836_Igonette-T._Le-Valmont-de-la-jeunesse_ou-l...  0.015558  0.015121  ...   \n",
       "1912_Loti-Pierre_Un-pelerin-d-Angkor                0.013851  0.004544  ...   \n",
       "\n",
       "                                                    PROPN_VERB_AUX  \\\n",
       "index                                                                \n",
       "1869_Feval-Paul_Maman-Leo-Les-habits-Noirs_Tome-V         0.000134   \n",
       "1865_Maricourt-Rene-Du-Mesnil_Donatien                    0.000016   \n",
       "1998_Darrieussecq-Marie_Naissance-des-fantomes            0.000030   \n",
       "1884_Chavette-Eugene_Le-saucisson-a-pattes_II-L...        0.000068   \n",
       "1910_Ivoi-Paul-d-_Millionnaire-malgre-lui_tome-2          0.000016   \n",
       "...                                                            ...   \n",
       "1889_Coppee-François_Henriette                            0.000044   \n",
       "1885_Lermina-Jules_Histoires-incroyables                  0.000033   \n",
       "1843_Sue-Eugene_Les-Mysteres-de-Paris_Tome-IV             0.000072   \n",
       "1836_Igonette-T._Le-Valmont-de-la-jeunesse_ou-l...        0.000060   \n",
       "1912_Loti-Pierre_Un-pelerin-d-Angkor                      0.000037   \n",
       "\n",
       "                                                    VERB_CCONJ_CCONJ  \\\n",
       "index                                                                  \n",
       "1869_Feval-Paul_Maman-Leo-Les-habits-Noirs_Tome-V           0.000010   \n",
       "1865_Maricourt-Rene-Du-Mesnil_Donatien                      0.000032   \n",
       "1998_Darrieussecq-Marie_Naissance-des-fantomes              0.000030   \n",
       "1884_Chavette-Eugene_Le-saucisson-a-pattes_II-L...          0.000000   \n",
       "1910_Ivoi-Paul-d-_Millionnaire-malgre-lui_tome-2            0.000048   \n",
       "...                                                              ...   \n",
       "1889_Coppee-François_Henriette                              0.000089   \n",
       "1885_Lermina-Jules_Histoires-incroyables                    0.000065   \n",
       "1843_Sue-Eugene_Les-Mysteres-de-Paris_Tome-IV               0.000108   \n",
       "1836_Igonette-T._Le-Valmont-de-la-jeunesse_ou-l...          0.000000   \n",
       "1912_Loti-Pierre_Un-pelerin-d-Angkor                        0.000110   \n",
       "\n",
       "                                                    ADV_NOUN_AUX  \\\n",
       "index                                                              \n",
       "1869_Feval-Paul_Maman-Leo-Les-habits-Noirs_Tome-V       0.000051   \n",
       "1865_Maricourt-Rene-Du-Mesnil_Donatien                  0.000000   \n",
       "1998_Darrieussecq-Marie_Naissance-des-fantomes          0.000000   \n",
       "1884_Chavette-Eugene_Le-saucisson-a-pattes_II-L...      0.000054   \n",
       "1910_Ivoi-Paul-d-_Millionnaire-malgre-lui_tome-2        0.000096   \n",
       "...                                                          ...   \n",
       "1889_Coppee-François_Henriette                          0.000044   \n",
       "1885_Lermina-Jules_Histoires-incroyables                0.000033   \n",
       "1843_Sue-Eugene_Les-Mysteres-de-Paris_Tome-IV           0.000054   \n",
       "1836_Igonette-T._Le-Valmont-de-la-jeunesse_ou-l...      0.000060   \n",
       "1912_Loti-Pierre_Un-pelerin-d-Angkor                    0.000000   \n",
       "\n",
       "                                                    SCONJ_NOUN_AUX  \\\n",
       "index                                                                \n",
       "1869_Feval-Paul_Maman-Leo-Les-habits-Noirs_Tome-V         0.000021   \n",
       "1865_Maricourt-Rene-Du-Mesnil_Donatien                    0.000032   \n",
       "1998_Darrieussecq-Marie_Naissance-des-fantomes            0.000000   \n",
       "1884_Chavette-Eugene_Le-saucisson-a-pattes_II-L...        0.000068   \n",
       "1910_Ivoi-Paul-d-_Millionnaire-malgre-lui_tome-2          0.000000   \n",
       "...                                                            ...   \n",
       "1889_Coppee-François_Henriette                            0.000044   \n",
       "1885_Lermina-Jules_Histoires-incroyables                  0.000054   \n",
       "1843_Sue-Eugene_Les-Mysteres-de-Paris_Tome-IV             0.000036   \n",
       "1836_Igonette-T._Le-Valmont-de-la-jeunesse_ou-l...        0.000060   \n",
       "1912_Loti-Pierre_Un-pelerin-d-Angkor                      0.000000   \n",
       "\n",
       "                                                    PRON_ADJ_AUX  \\\n",
       "index                                                              \n",
       "1869_Feval-Paul_Maman-Leo-Les-habits-Noirs_Tome-V       0.000051   \n",
       "1865_Maricourt-Rene-Du-Mesnil_Donatien                  0.000048   \n",
       "1998_Darrieussecq-Marie_Naissance-des-fantomes          0.000030   \n",
       "1884_Chavette-Eugene_Le-saucisson-a-pattes_II-L...      0.000041   \n",
       "1910_Ivoi-Paul-d-_Millionnaire-malgre-lui_tome-2        0.000048   \n",
       "...                                                          ...   \n",
       "1889_Coppee-François_Henriette                          0.000000   \n",
       "1885_Lermina-Jules_Histoires-incroyables                0.000043   \n",
       "1843_Sue-Eugene_Les-Mysteres-de-Paris_Tome-IV           0.000045   \n",
       "1836_Igonette-T._Le-Valmont-de-la-jeunesse_ou-l...      0.000040   \n",
       "1912_Loti-Pierre_Un-pelerin-d-Angkor                    0.000000   \n",
       "\n",
       "                                                    SCONJ_PROPN_DET  \\\n",
       "index                                                                 \n",
       "1869_Feval-Paul_Maman-Leo-Les-habits-Noirs_Tome-V          0.000010   \n",
       "1865_Maricourt-Rene-Du-Mesnil_Donatien                     0.000000   \n",
       "1998_Darrieussecq-Marie_Naissance-des-fantomes             0.000000   \n",
       "1884_Chavette-Eugene_Le-saucisson-a-pattes_II-L...         0.000014   \n",
       "1910_Ivoi-Paul-d-_Millionnaire-malgre-lui_tome-2           0.000016   \n",
       "...                                                             ...   \n",
       "1889_Coppee-François_Henriette                             0.000044   \n",
       "1885_Lermina-Jules_Histoires-incroyables                   0.000033   \n",
       "1843_Sue-Eugene_Les-Mysteres-de-Paris_Tome-IV              0.000045   \n",
       "1836_Igonette-T._Le-Valmont-de-la-jeunesse_ou-l...         0.000040   \n",
       "1912_Loti-Pierre_Un-pelerin-d-Angkor                       0.000073   \n",
       "\n",
       "                                                    ADV_DET_DET  \\\n",
       "index                                                             \n",
       "1869_Feval-Paul_Maman-Leo-Les-habits-Noirs_Tome-V      0.000041   \n",
       "1865_Maricourt-Rene-Du-Mesnil_Donatien                 0.000016   \n",
       "1998_Darrieussecq-Marie_Naissance-des-fantomes         0.000030   \n",
       "1884_Chavette-Eugene_Le-saucisson-a-pattes_II-L...     0.000027   \n",
       "1910_Ivoi-Paul-d-_Millionnaire-malgre-lui_tome-2       0.000080   \n",
       "...                                                         ...   \n",
       "1889_Coppee-François_Henriette                         0.000044   \n",
       "1885_Lermina-Jules_Histoires-incroyables               0.000065   \n",
       "1843_Sue-Eugene_Les-Mysteres-de-Paris_Tome-IV          0.000063   \n",
       "1836_Igonette-T._Le-Valmont-de-la-jeunesse_ou-l...     0.000079   \n",
       "1912_Loti-Pierre_Un-pelerin-d-Angkor                   0.000000   \n",
       "\n",
       "                                                    ADV_CCONJ_PROPN  \\\n",
       "index                                                                 \n",
       "1869_Feval-Paul_Maman-Leo-Les-habits-Noirs_Tome-V          0.000093   \n",
       "1865_Maricourt-Rene-Du-Mesnil_Donatien                     0.000000   \n",
       "1998_Darrieussecq-Marie_Naissance-des-fantomes             0.000000   \n",
       "1884_Chavette-Eugene_Le-saucisson-a-pattes_II-L...         0.000068   \n",
       "1910_Ivoi-Paul-d-_Millionnaire-malgre-lui_tome-2           0.000016   \n",
       "...                                                             ...   \n",
       "1889_Coppee-François_Henriette                             0.000044   \n",
       "1885_Lermina-Jules_Histoires-incroyables                   0.000033   \n",
       "1843_Sue-Eugene_Les-Mysteres-de-Paris_Tome-IV              0.000054   \n",
       "1836_Igonette-T._Le-Valmont-de-la-jeunesse_ou-l...         0.000079   \n",
       "1912_Loti-Pierre_Un-pelerin-d-Angkor                       0.000000   \n",
       "\n",
       "                                                    VERB_VERB_AUX  canon  \n",
       "index                                                                     \n",
       "1869_Feval-Paul_Maman-Leo-Les-habits-Noirs_Tome-V        0.000031   True  \n",
       "1865_Maricourt-Rene-Du-Mesnil_Donatien                   0.000032  False  \n",
       "1998_Darrieussecq-Marie_Naissance-des-fantomes           0.000000   True  \n",
       "1884_Chavette-Eugene_Le-saucisson-a-pattes_II-L...       0.000054  False  \n",
       "1910_Ivoi-Paul-d-_Millionnaire-malgre-lui_tome-2         0.000048  False  \n",
       "...                                                           ...    ...  \n",
       "1889_Coppee-François_Henriette                           0.000000  False  \n",
       "1885_Lermina-Jules_Histoires-incroyables                 0.000076  False  \n",
       "1843_Sue-Eugene_Les-Mysteres-de-Paris_Tome-IV            0.000027  False  \n",
       "1836_Igonette-T._Le-Valmont-de-la-jeunesse_ou-l...       0.000000  False  \n",
       "1912_Loti-Pierre_Un-pelerin-d-Angkor                     0.000000   True  \n",
       "\n",
       "[2200 rows x 4157 columns]"
      ]
     },
     "execution_count": 179,
     "metadata": {},
     "output_type": "execute_result"
    }
   ],
   "source": [
    "df_main_metadata"
   ]
  },
  {
   "cell_type": "code",
   "execution_count": 167,
   "metadata": {},
   "outputs": [],
   "source": [
    "df_main_metadata.set_index(\"index\", inplace = True)\n",
    "df_main_metadata = df_main_metadata.replace(np.nan, 0)"
   ]
  },
  {
   "cell_type": "code",
   "execution_count": 168,
   "metadata": {},
   "outputs": [],
   "source": [
    "df_master = df_main_metadata.iloc[:,:300].merge(df_main_metadata.iloc[:,1000:2300], on='index', how='left')"
   ]
  },
  {
   "cell_type": "code",
   "execution_count": 169,
   "metadata": {},
   "outputs": [
    {
     "data": {
      "text/html": [
       "<div>\n",
       "<style scoped>\n",
       "    .dataframe tbody tr th:only-of-type {\n",
       "        vertical-align: middle;\n",
       "    }\n",
       "\n",
       "    .dataframe tbody tr th {\n",
       "        vertical-align: top;\n",
       "    }\n",
       "\n",
       "    .dataframe thead th {\n",
       "        text-align: right;\n",
       "    }\n",
       "</style>\n",
       "<table border=\"1\" class=\"dataframe\">\n",
       "  <thead>\n",
       "    <tr style=\"text-align: right;\">\n",
       "      <th></th>\n",
       "      <th>le</th>\n",
       "      <th>de</th>\n",
       "      <th>un</th>\n",
       "      <th>et</th>\n",
       "      <th>il</th>\n",
       "      <th>avoir</th>\n",
       "      <th>à</th>\n",
       "      <th>lui</th>\n",
       "      <th>être</th>\n",
       "      <th>son</th>\n",
       "      <th>...</th>\n",
       "      <th>-ce_que_vous</th>\n",
       "      <th>que_je_vouloir</th>\n",
       "      <th>bien_qu’_il</th>\n",
       "      <th>j’_avoir_faire</th>\n",
       "      <th>de_ce_que</th>\n",
       "      <th>milieu_de_le</th>\n",
       "      <th>le_tête_et</th>\n",
       "      <th>m’_avoir_dire</th>\n",
       "      <th>d’_un_coup</th>\n",
       "      <th>le_bras_de</th>\n",
       "    </tr>\n",
       "    <tr>\n",
       "      <th>index</th>\n",
       "      <th></th>\n",
       "      <th></th>\n",
       "      <th></th>\n",
       "      <th></th>\n",
       "      <th></th>\n",
       "      <th></th>\n",
       "      <th></th>\n",
       "      <th></th>\n",
       "      <th></th>\n",
       "      <th></th>\n",
       "      <th></th>\n",
       "      <th></th>\n",
       "      <th></th>\n",
       "      <th></th>\n",
       "      <th></th>\n",
       "      <th></th>\n",
       "      <th></th>\n",
       "      <th></th>\n",
       "      <th></th>\n",
       "      <th></th>\n",
       "      <th></th>\n",
       "    </tr>\n",
       "  </thead>\n",
       "  <tbody>\n",
       "    <tr>\n",
       "      <th>1869_Feval-Paul_Maman-Leo-Les-habits-Noirs_Tome-V</th>\n",
       "      <td>0.063060</td>\n",
       "      <td>0.046097</td>\n",
       "      <td>0.023424</td>\n",
       "      <td>0.021860</td>\n",
       "      <td>0.018918</td>\n",
       "      <td>0.024339</td>\n",
       "      <td>0.016387</td>\n",
       "      <td>0.012571</td>\n",
       "      <td>0.016675</td>\n",
       "      <td>0.013939</td>\n",
       "      <td>...</td>\n",
       "      <td>0.000113</td>\n",
       "      <td>0.000082</td>\n",
       "      <td>0.000103</td>\n",
       "      <td>0.000134</td>\n",
       "      <td>0.000051</td>\n",
       "      <td>0.000072</td>\n",
       "      <td>0.000051</td>\n",
       "      <td>0.000154</td>\n",
       "      <td>0.000031</td>\n",
       "      <td>0.000062</td>\n",
       "    </tr>\n",
       "    <tr>\n",
       "      <th>1865_Maricourt-Rene-Du-Mesnil_Donatien</th>\n",
       "      <td>0.061108</td>\n",
       "      <td>0.050939</td>\n",
       "      <td>0.031604</td>\n",
       "      <td>0.019637</td>\n",
       "      <td>0.020051</td>\n",
       "      <td>0.017887</td>\n",
       "      <td>0.018078</td>\n",
       "      <td>0.014418</td>\n",
       "      <td>0.011665</td>\n",
       "      <td>0.015404</td>\n",
       "      <td>...</td>\n",
       "      <td>0.000048</td>\n",
       "      <td>0.000127</td>\n",
       "      <td>0.000111</td>\n",
       "      <td>0.000048</td>\n",
       "      <td>0.000048</td>\n",
       "      <td>0.000032</td>\n",
       "      <td>0.000032</td>\n",
       "      <td>0.000048</td>\n",
       "      <td>0.000048</td>\n",
       "      <td>0.000000</td>\n",
       "    </tr>\n",
       "    <tr>\n",
       "      <th>1998_Darrieussecq-Marie_Naissance-des-fantomes</th>\n",
       "      <td>0.067883</td>\n",
       "      <td>0.056454</td>\n",
       "      <td>0.032576</td>\n",
       "      <td>0.023217</td>\n",
       "      <td>0.008819</td>\n",
       "      <td>0.017158</td>\n",
       "      <td>0.018808</td>\n",
       "      <td>0.006569</td>\n",
       "      <td>0.005729</td>\n",
       "      <td>0.010109</td>\n",
       "      <td>...</td>\n",
       "      <td>0.000030</td>\n",
       "      <td>0.000000</td>\n",
       "      <td>0.000000</td>\n",
       "      <td>0.000150</td>\n",
       "      <td>0.000060</td>\n",
       "      <td>0.000030</td>\n",
       "      <td>0.000000</td>\n",
       "      <td>0.000030</td>\n",
       "      <td>0.000360</td>\n",
       "      <td>0.000060</td>\n",
       "    </tr>\n",
       "    <tr>\n",
       "      <th>1884_Chavette-Eugene_Le-saucisson-a-pattes_II-Le-plan-de-Cardeuc</th>\n",
       "      <td>0.076659</td>\n",
       "      <td>0.059018</td>\n",
       "      <td>0.022950</td>\n",
       "      <td>0.013403</td>\n",
       "      <td>0.024227</td>\n",
       "      <td>0.022991</td>\n",
       "      <td>0.022950</td>\n",
       "      <td>0.013947</td>\n",
       "      <td>0.010701</td>\n",
       "      <td>0.014924</td>\n",
       "      <td>...</td>\n",
       "      <td>0.000054</td>\n",
       "      <td>0.000000</td>\n",
       "      <td>0.000000</td>\n",
       "      <td>0.000000</td>\n",
       "      <td>0.000068</td>\n",
       "      <td>0.000014</td>\n",
       "      <td>0.000054</td>\n",
       "      <td>0.000000</td>\n",
       "      <td>0.000000</td>\n",
       "      <td>0.000027</td>\n",
       "    </tr>\n",
       "    <tr>\n",
       "      <th>1910_Ivoi-Paul-d-_Millionnaire-malgre-lui_tome-2</th>\n",
       "      <td>0.068457</td>\n",
       "      <td>0.052986</td>\n",
       "      <td>0.028188</td>\n",
       "      <td>0.017413</td>\n",
       "      <td>0.015869</td>\n",
       "      <td>0.019100</td>\n",
       "      <td>0.018129</td>\n",
       "      <td>0.012288</td>\n",
       "      <td>0.013481</td>\n",
       "      <td>0.011571</td>\n",
       "      <td>...</td>\n",
       "      <td>0.000064</td>\n",
       "      <td>0.000048</td>\n",
       "      <td>0.000080</td>\n",
       "      <td>0.000080</td>\n",
       "      <td>0.000048</td>\n",
       "      <td>0.000048</td>\n",
       "      <td>0.000000</td>\n",
       "      <td>0.000016</td>\n",
       "      <td>0.000016</td>\n",
       "      <td>0.000080</td>\n",
       "    </tr>\n",
       "    <tr>\n",
       "      <th>...</th>\n",
       "      <td>...</td>\n",
       "      <td>...</td>\n",
       "      <td>...</td>\n",
       "      <td>...</td>\n",
       "      <td>...</td>\n",
       "      <td>...</td>\n",
       "      <td>...</td>\n",
       "      <td>...</td>\n",
       "      <td>...</td>\n",
       "      <td>...</td>\n",
       "      <td>...</td>\n",
       "      <td>...</td>\n",
       "      <td>...</td>\n",
       "      <td>...</td>\n",
       "      <td>...</td>\n",
       "      <td>...</td>\n",
       "      <td>...</td>\n",
       "      <td>...</td>\n",
       "      <td>...</td>\n",
       "      <td>...</td>\n",
       "      <td>...</td>\n",
       "    </tr>\n",
       "    <tr>\n",
       "      <th>1889_Coppee-François_Henriette</th>\n",
       "      <td>0.056222</td>\n",
       "      <td>0.052269</td>\n",
       "      <td>0.027711</td>\n",
       "      <td>0.026779</td>\n",
       "      <td>0.015721</td>\n",
       "      <td>0.017986</td>\n",
       "      <td>0.018208</td>\n",
       "      <td>0.031308</td>\n",
       "      <td>0.012257</td>\n",
       "      <td>0.022782</td>\n",
       "      <td>...</td>\n",
       "      <td>0.000044</td>\n",
       "      <td>0.000044</td>\n",
       "      <td>0.000044</td>\n",
       "      <td>0.000000</td>\n",
       "      <td>0.000044</td>\n",
       "      <td>0.000089</td>\n",
       "      <td>0.000000</td>\n",
       "      <td>0.000044</td>\n",
       "      <td>0.000089</td>\n",
       "      <td>0.000044</td>\n",
       "    </tr>\n",
       "    <tr>\n",
       "      <th>1885_Lermina-Jules_Histoires-incroyables</th>\n",
       "      <td>0.053957</td>\n",
       "      <td>0.042729</td>\n",
       "      <td>0.028048</td>\n",
       "      <td>0.019481</td>\n",
       "      <td>0.021110</td>\n",
       "      <td>0.021620</td>\n",
       "      <td>0.019198</td>\n",
       "      <td>0.009686</td>\n",
       "      <td>0.018699</td>\n",
       "      <td>0.010837</td>\n",
       "      <td>...</td>\n",
       "      <td>0.000022</td>\n",
       "      <td>0.000109</td>\n",
       "      <td>0.000054</td>\n",
       "      <td>0.000043</td>\n",
       "      <td>0.000109</td>\n",
       "      <td>0.000065</td>\n",
       "      <td>0.000054</td>\n",
       "      <td>0.000054</td>\n",
       "      <td>0.000033</td>\n",
       "      <td>0.000011</td>\n",
       "    </tr>\n",
       "    <tr>\n",
       "      <th>1843_Sue-Eugene_Les-Mysteres-de-Paris_Tome-IV</th>\n",
       "      <td>0.051923</td>\n",
       "      <td>0.048799</td>\n",
       "      <td>0.024148</td>\n",
       "      <td>0.020082</td>\n",
       "      <td>0.017739</td>\n",
       "      <td>0.020243</td>\n",
       "      <td>0.019579</td>\n",
       "      <td>0.009866</td>\n",
       "      <td>0.018421</td>\n",
       "      <td>0.012173</td>\n",
       "      <td>...</td>\n",
       "      <td>0.000045</td>\n",
       "      <td>0.000036</td>\n",
       "      <td>0.000135</td>\n",
       "      <td>0.000063</td>\n",
       "      <td>0.000081</td>\n",
       "      <td>0.000045</td>\n",
       "      <td>0.000018</td>\n",
       "      <td>0.000233</td>\n",
       "      <td>0.000072</td>\n",
       "      <td>0.000045</td>\n",
       "    </tr>\n",
       "    <tr>\n",
       "      <th>1836_Igonette-T._Le-Valmont-de-la-jeunesse_ou-le-Triomphe-des-vertus-sur-les-egarements-de-la-raison-mis-a-la-portee-des-jeunes-gens-des-deux-sexes__tome-2)</th>\n",
       "      <td>0.064394</td>\n",
       "      <td>0.054273</td>\n",
       "      <td>0.018137</td>\n",
       "      <td>0.035739</td>\n",
       "      <td>0.017225</td>\n",
       "      <td>0.016371</td>\n",
       "      <td>0.020439</td>\n",
       "      <td>0.013950</td>\n",
       "      <td>0.015558</td>\n",
       "      <td>0.015121</td>\n",
       "      <td>...</td>\n",
       "      <td>0.000000</td>\n",
       "      <td>0.000060</td>\n",
       "      <td>0.000040</td>\n",
       "      <td>0.000040</td>\n",
       "      <td>0.000159</td>\n",
       "      <td>0.000000</td>\n",
       "      <td>0.000000</td>\n",
       "      <td>0.000000</td>\n",
       "      <td>0.000040</td>\n",
       "      <td>0.000020</td>\n",
       "    </tr>\n",
       "    <tr>\n",
       "      <th>1912_Loti-Pierre_Un-pelerin-d-Angkor</th>\n",
       "      <td>0.058849</td>\n",
       "      <td>0.071015</td>\n",
       "      <td>0.032686</td>\n",
       "      <td>0.026090</td>\n",
       "      <td>0.008538</td>\n",
       "      <td>0.012349</td>\n",
       "      <td>0.016856</td>\n",
       "      <td>0.004507</td>\n",
       "      <td>0.013851</td>\n",
       "      <td>0.004544</td>\n",
       "      <td>...</td>\n",
       "      <td>0.000000</td>\n",
       "      <td>0.000000</td>\n",
       "      <td>0.000000</td>\n",
       "      <td>0.000000</td>\n",
       "      <td>0.000000</td>\n",
       "      <td>0.000147</td>\n",
       "      <td>0.000000</td>\n",
       "      <td>0.000000</td>\n",
       "      <td>0.000000</td>\n",
       "      <td>0.000000</td>\n",
       "    </tr>\n",
       "  </tbody>\n",
       "</table>\n",
       "<p>2200 rows × 1600 columns</p>\n",
       "</div>"
      ],
      "text/plain": [
       "                                                          le        de  \\\n",
       "index                                                                    \n",
       "1869_Feval-Paul_Maman-Leo-Les-habits-Noirs_Tome-V   0.063060  0.046097   \n",
       "1865_Maricourt-Rene-Du-Mesnil_Donatien              0.061108  0.050939   \n",
       "1998_Darrieussecq-Marie_Naissance-des-fantomes      0.067883  0.056454   \n",
       "1884_Chavette-Eugene_Le-saucisson-a-pattes_II-L...  0.076659  0.059018   \n",
       "1910_Ivoi-Paul-d-_Millionnaire-malgre-lui_tome-2    0.068457  0.052986   \n",
       "...                                                      ...       ...   \n",
       "1889_Coppee-François_Henriette                      0.056222  0.052269   \n",
       "1885_Lermina-Jules_Histoires-incroyables            0.053957  0.042729   \n",
       "1843_Sue-Eugene_Les-Mysteres-de-Paris_Tome-IV       0.051923  0.048799   \n",
       "1836_Igonette-T._Le-Valmont-de-la-jeunesse_ou-l...  0.064394  0.054273   \n",
       "1912_Loti-Pierre_Un-pelerin-d-Angkor                0.058849  0.071015   \n",
       "\n",
       "                                                          un        et  \\\n",
       "index                                                                    \n",
       "1869_Feval-Paul_Maman-Leo-Les-habits-Noirs_Tome-V   0.023424  0.021860   \n",
       "1865_Maricourt-Rene-Du-Mesnil_Donatien              0.031604  0.019637   \n",
       "1998_Darrieussecq-Marie_Naissance-des-fantomes      0.032576  0.023217   \n",
       "1884_Chavette-Eugene_Le-saucisson-a-pattes_II-L...  0.022950  0.013403   \n",
       "1910_Ivoi-Paul-d-_Millionnaire-malgre-lui_tome-2    0.028188  0.017413   \n",
       "...                                                      ...       ...   \n",
       "1889_Coppee-François_Henriette                      0.027711  0.026779   \n",
       "1885_Lermina-Jules_Histoires-incroyables            0.028048  0.019481   \n",
       "1843_Sue-Eugene_Les-Mysteres-de-Paris_Tome-IV       0.024148  0.020082   \n",
       "1836_Igonette-T._Le-Valmont-de-la-jeunesse_ou-l...  0.018137  0.035739   \n",
       "1912_Loti-Pierre_Un-pelerin-d-Angkor                0.032686  0.026090   \n",
       "\n",
       "                                                          il     avoir  \\\n",
       "index                                                                    \n",
       "1869_Feval-Paul_Maman-Leo-Les-habits-Noirs_Tome-V   0.018918  0.024339   \n",
       "1865_Maricourt-Rene-Du-Mesnil_Donatien              0.020051  0.017887   \n",
       "1998_Darrieussecq-Marie_Naissance-des-fantomes      0.008819  0.017158   \n",
       "1884_Chavette-Eugene_Le-saucisson-a-pattes_II-L...  0.024227  0.022991   \n",
       "1910_Ivoi-Paul-d-_Millionnaire-malgre-lui_tome-2    0.015869  0.019100   \n",
       "...                                                      ...       ...   \n",
       "1889_Coppee-François_Henriette                      0.015721  0.017986   \n",
       "1885_Lermina-Jules_Histoires-incroyables            0.021110  0.021620   \n",
       "1843_Sue-Eugene_Les-Mysteres-de-Paris_Tome-IV       0.017739  0.020243   \n",
       "1836_Igonette-T._Le-Valmont-de-la-jeunesse_ou-l...  0.017225  0.016371   \n",
       "1912_Loti-Pierre_Un-pelerin-d-Angkor                0.008538  0.012349   \n",
       "\n",
       "                                                          à       lui  \\\n",
       "index                                                                    \n",
       "1869_Feval-Paul_Maman-Leo-Les-habits-Noirs_Tome-V   0.016387  0.012571   \n",
       "1865_Maricourt-Rene-Du-Mesnil_Donatien              0.018078  0.014418   \n",
       "1998_Darrieussecq-Marie_Naissance-des-fantomes      0.018808  0.006569   \n",
       "1884_Chavette-Eugene_Le-saucisson-a-pattes_II-L...  0.022950  0.013947   \n",
       "1910_Ivoi-Paul-d-_Millionnaire-malgre-lui_tome-2    0.018129  0.012288   \n",
       "...                                                      ...       ...   \n",
       "1889_Coppee-François_Henriette                      0.018208  0.031308   \n",
       "1885_Lermina-Jules_Histoires-incroyables            0.019198  0.009686   \n",
       "1843_Sue-Eugene_Les-Mysteres-de-Paris_Tome-IV       0.019579  0.009866   \n",
       "1836_Igonette-T._Le-Valmont-de-la-jeunesse_ou-l...  0.020439  0.013950   \n",
       "1912_Loti-Pierre_Un-pelerin-d-Angkor                0.016856  0.004507   \n",
       "\n",
       "                                                        être       son  ...  \\\n",
       "index                                                                   ...   \n",
       "1869_Feval-Paul_Maman-Leo-Les-habits-Noirs_Tome-V   0.016675  0.013939  ...   \n",
       "1865_Maricourt-Rene-Du-Mesnil_Donatien              0.011665  0.015404  ...   \n",
       "1998_Darrieussecq-Marie_Naissance-des-fantomes      0.005729  0.010109  ...   \n",
       "1884_Chavette-Eugene_Le-saucisson-a-pattes_II-L...  0.010701  0.014924  ...   \n",
       "1910_Ivoi-Paul-d-_Millionnaire-malgre-lui_tome-2    0.013481  0.011571  ...   \n",
       "...                                                      ...       ...  ...   \n",
       "1889_Coppee-François_Henriette                      0.012257  0.022782  ...   \n",
       "1885_Lermina-Jules_Histoires-incroyables            0.018699  0.010837  ...   \n",
       "1843_Sue-Eugene_Les-Mysteres-de-Paris_Tome-IV       0.018421  0.012173  ...   \n",
       "1836_Igonette-T._Le-Valmont-de-la-jeunesse_ou-l...  0.015558  0.015121  ...   \n",
       "1912_Loti-Pierre_Un-pelerin-d-Angkor                0.013851  0.004544  ...   \n",
       "\n",
       "                                                    -ce_que_vous  \\\n",
       "index                                                              \n",
       "1869_Feval-Paul_Maman-Leo-Les-habits-Noirs_Tome-V       0.000113   \n",
       "1865_Maricourt-Rene-Du-Mesnil_Donatien                  0.000048   \n",
       "1998_Darrieussecq-Marie_Naissance-des-fantomes          0.000030   \n",
       "1884_Chavette-Eugene_Le-saucisson-a-pattes_II-L...      0.000054   \n",
       "1910_Ivoi-Paul-d-_Millionnaire-malgre-lui_tome-2        0.000064   \n",
       "...                                                          ...   \n",
       "1889_Coppee-François_Henriette                          0.000044   \n",
       "1885_Lermina-Jules_Histoires-incroyables                0.000022   \n",
       "1843_Sue-Eugene_Les-Mysteres-de-Paris_Tome-IV           0.000045   \n",
       "1836_Igonette-T._Le-Valmont-de-la-jeunesse_ou-l...      0.000000   \n",
       "1912_Loti-Pierre_Un-pelerin-d-Angkor                    0.000000   \n",
       "\n",
       "                                                    que_je_vouloir  \\\n",
       "index                                                                \n",
       "1869_Feval-Paul_Maman-Leo-Les-habits-Noirs_Tome-V         0.000082   \n",
       "1865_Maricourt-Rene-Du-Mesnil_Donatien                    0.000127   \n",
       "1998_Darrieussecq-Marie_Naissance-des-fantomes            0.000000   \n",
       "1884_Chavette-Eugene_Le-saucisson-a-pattes_II-L...        0.000000   \n",
       "1910_Ivoi-Paul-d-_Millionnaire-malgre-lui_tome-2          0.000048   \n",
       "...                                                            ...   \n",
       "1889_Coppee-François_Henriette                            0.000044   \n",
       "1885_Lermina-Jules_Histoires-incroyables                  0.000109   \n",
       "1843_Sue-Eugene_Les-Mysteres-de-Paris_Tome-IV             0.000036   \n",
       "1836_Igonette-T._Le-Valmont-de-la-jeunesse_ou-l...        0.000060   \n",
       "1912_Loti-Pierre_Un-pelerin-d-Angkor                      0.000000   \n",
       "\n",
       "                                                    bien_qu’_il  \\\n",
       "index                                                             \n",
       "1869_Feval-Paul_Maman-Leo-Les-habits-Noirs_Tome-V      0.000103   \n",
       "1865_Maricourt-Rene-Du-Mesnil_Donatien                 0.000111   \n",
       "1998_Darrieussecq-Marie_Naissance-des-fantomes         0.000000   \n",
       "1884_Chavette-Eugene_Le-saucisson-a-pattes_II-L...     0.000000   \n",
       "1910_Ivoi-Paul-d-_Millionnaire-malgre-lui_tome-2       0.000080   \n",
       "...                                                         ...   \n",
       "1889_Coppee-François_Henriette                         0.000044   \n",
       "1885_Lermina-Jules_Histoires-incroyables               0.000054   \n",
       "1843_Sue-Eugene_Les-Mysteres-de-Paris_Tome-IV          0.000135   \n",
       "1836_Igonette-T._Le-Valmont-de-la-jeunesse_ou-l...     0.000040   \n",
       "1912_Loti-Pierre_Un-pelerin-d-Angkor                   0.000000   \n",
       "\n",
       "                                                    j’_avoir_faire  de_ce_que  \\\n",
       "index                                                                           \n",
       "1869_Feval-Paul_Maman-Leo-Les-habits-Noirs_Tome-V         0.000134   0.000051   \n",
       "1865_Maricourt-Rene-Du-Mesnil_Donatien                    0.000048   0.000048   \n",
       "1998_Darrieussecq-Marie_Naissance-des-fantomes            0.000150   0.000060   \n",
       "1884_Chavette-Eugene_Le-saucisson-a-pattes_II-L...        0.000000   0.000068   \n",
       "1910_Ivoi-Paul-d-_Millionnaire-malgre-lui_tome-2          0.000080   0.000048   \n",
       "...                                                            ...        ...   \n",
       "1889_Coppee-François_Henriette                            0.000000   0.000044   \n",
       "1885_Lermina-Jules_Histoires-incroyables                  0.000043   0.000109   \n",
       "1843_Sue-Eugene_Les-Mysteres-de-Paris_Tome-IV             0.000063   0.000081   \n",
       "1836_Igonette-T._Le-Valmont-de-la-jeunesse_ou-l...        0.000040   0.000159   \n",
       "1912_Loti-Pierre_Un-pelerin-d-Angkor                      0.000000   0.000000   \n",
       "\n",
       "                                                    milieu_de_le  le_tête_et  \\\n",
       "index                                                                           \n",
       "1869_Feval-Paul_Maman-Leo-Les-habits-Noirs_Tome-V       0.000072     0.000051   \n",
       "1865_Maricourt-Rene-Du-Mesnil_Donatien                  0.000032     0.000032   \n",
       "1998_Darrieussecq-Marie_Naissance-des-fantomes          0.000030     0.000000   \n",
       "1884_Chavette-Eugene_Le-saucisson-a-pattes_II-L...      0.000014     0.000054   \n",
       "1910_Ivoi-Paul-d-_Millionnaire-malgre-lui_tome-2        0.000048     0.000000   \n",
       "...                                                          ...          ...   \n",
       "1889_Coppee-François_Henriette                          0.000089     0.000000   \n",
       "1885_Lermina-Jules_Histoires-incroyables                0.000065     0.000054   \n",
       "1843_Sue-Eugene_Les-Mysteres-de-Paris_Tome-IV           0.000045     0.000018   \n",
       "1836_Igonette-T._Le-Valmont-de-la-jeunesse_ou-l...      0.000000     0.000000   \n",
       "1912_Loti-Pierre_Un-pelerin-d-Angkor                    0.000147     0.000000   \n",
       "\n",
       "                                                    m’_avoir_dire  d’_un_coup  \\\n",
       "index                                                                           \n",
       "1869_Feval-Paul_Maman-Leo-Les-habits-Noirs_Tome-V        0.000154    0.000031   \n",
       "1865_Maricourt-Rene-Du-Mesnil_Donatien                   0.000048    0.000048   \n",
       "1998_Darrieussecq-Marie_Naissance-des-fantomes           0.000030    0.000360   \n",
       "1884_Chavette-Eugene_Le-saucisson-a-pattes_II-L...       0.000000    0.000000   \n",
       "1910_Ivoi-Paul-d-_Millionnaire-malgre-lui_tome-2         0.000016    0.000016   \n",
       "...                                                           ...         ...   \n",
       "1889_Coppee-François_Henriette                           0.000044    0.000089   \n",
       "1885_Lermina-Jules_Histoires-incroyables                 0.000054    0.000033   \n",
       "1843_Sue-Eugene_Les-Mysteres-de-Paris_Tome-IV            0.000233    0.000072   \n",
       "1836_Igonette-T._Le-Valmont-de-la-jeunesse_ou-l...       0.000000    0.000040   \n",
       "1912_Loti-Pierre_Un-pelerin-d-Angkor                     0.000000    0.000000   \n",
       "\n",
       "                                                    le_bras_de  \n",
       "index                                                           \n",
       "1869_Feval-Paul_Maman-Leo-Les-habits-Noirs_Tome-V     0.000062  \n",
       "1865_Maricourt-Rene-Du-Mesnil_Donatien                0.000000  \n",
       "1998_Darrieussecq-Marie_Naissance-des-fantomes        0.000060  \n",
       "1884_Chavette-Eugene_Le-saucisson-a-pattes_II-L...    0.000027  \n",
       "1910_Ivoi-Paul-d-_Millionnaire-malgre-lui_tome-2      0.000080  \n",
       "...                                                        ...  \n",
       "1889_Coppee-François_Henriette                        0.000044  \n",
       "1885_Lermina-Jules_Histoires-incroyables              0.000011  \n",
       "1843_Sue-Eugene_Les-Mysteres-de-Paris_Tome-IV         0.000045  \n",
       "1836_Igonette-T._Le-Valmont-de-la-jeunesse_ou-l...    0.000020  \n",
       "1912_Loti-Pierre_Un-pelerin-d-Angkor                  0.000000  \n",
       "\n",
       "[2200 rows x 1600 columns]"
      ]
     },
     "execution_count": 169,
     "metadata": {},
     "output_type": "execute_result"
    }
   ],
   "source": [
    "df_master"
   ]
  },
  {
   "cell_type": "code",
   "execution_count": 174,
   "metadata": {},
   "outputs": [],
   "source": [
    "df_master[\"canon\"]=df_main_metadata[\"canon\"]\n",
    "df_train_master = df_master.head(2664)\n",
    "df_test_master = df_master.tail(296)"
   ]
  },
  {
   "cell_type": "code",
   "execution_count": 182,
   "metadata": {},
   "outputs": [
    {
     "name": "stdout",
     "output_type": "stream",
     "text": [
      ".......... Formatting data ........\n",
      ".......... Creating pipeline according to user choices ........\n",
      ".......... using normalisations ........\n",
      ".......... choosing SVM ........\n",
      ".......... Creating pipeline with steps ........\n",
      "[('scaler', StandardScaler()), ('normalizer', Normalizer()), ('model', LinearSVC())]\n",
      ".......... k-fold cross validation will be performed ........\n",
      ".......... using 10 samples ........\n"
     ]
    },
    {
     "name": "stderr",
     "output_type": "stream",
     "text": [
      "[Parallel(n_jobs=-1)]: Using backend LokyBackend with 4 concurrent workers.\n",
      "[Parallel(n_jobs=-1)]: Done  10 out of  10 | elapsed:    9.3s finished\n"
     ]
    },
    {
     "name": "stdout",
     "output_type": "stream",
     "text": [
      "              precision    recall  f1-score   support\n",
      "\n",
      "       False       0.85      0.87      0.86      1328\n",
      "        True       0.80      0.77      0.78       872\n",
      "\n",
      "    accuracy                           0.83      2200\n",
      "   macro avg       0.83      0.82      0.82      2200\n",
      "weighted avg       0.83      0.83      0.83      2200\n",
      "\n"
     ]
    }
   ],
   "source": [
    "svm_test = train_svm(df_train_master, df_test_master, norms=True, kernel=\"LinearSVC\", cross_validate='k-fold', final_pred=False, get_coefs=False)"
   ]
  },
  {
   "cell_type": "code",
   "execution_count": 175,
   "metadata": {},
   "outputs": [
    {
     "name": "stdout",
     "output_type": "stream",
     "text": [
      ".......... Formatting data ........\n",
      ".......... Creating pipeline according to user choices ........\n",
      ".......... using normalisations ........\n",
      ".......... choosing SVM ........\n",
      ".......... Creating pipeline with steps ........\n",
      "[('scaler', StandardScaler()), ('normalizer', Normalizer()), ('model', LinearSVC())]\n",
      "              precision    recall  f1-score   support\n",
      "\n",
      "       False       0.97      0.98      0.97       178\n",
      "        True       0.97      0.95      0.96       118\n",
      "\n",
      "    accuracy                           0.97       296\n",
      "   macro avg       0.97      0.96      0.96       296\n",
      "weighted avg       0.97      0.97      0.97       296\n",
      "\n",
      ".......... Writing final predictions to FINAL_PREDICTIONS.csv ........\n",
      "..........   Get Coef    ..........\n"
     ]
    },
    {
     "data": {
      "image/png": "[encoded data removed]",
      "text/plain": [
       "<Figure size 1080x360 with 1 Axes>"
      ]
     },
     "metadata": {
      "needs_background": "light"
     },
     "output_type": "display_data"
    }
   ],
   "source": [
    "svm_test = train_svm(df_train_master, df_test_master, norms=True, kernel=\"LinearSVC\", final_pred=False, get_coefs=False)"
   ]
  },
  {
   "cell_type": "markdown",
   "metadata": {},
   "source": [
    "### AVEC df_master[\"canon\"]=features_fabula[\"canon\"]"
   ]
  },
  {
   "cell_type": "code",
   "execution_count": 173,
   "metadata": {},
   "outputs": [
    {
     "name": "stdout",
     "output_type": "stream",
     "text": [
      ".......... Formatting data ........\n",
      ".......... Creating pipeline according to user choices ........\n",
      ".......... using normalisations ........\n",
      ".......... choosing SVM ........\n",
      ".......... Creating pipeline with steps ........\n",
      "[('scaler', StandardScaler()), ('normalizer', Normalizer()), ('model', LinearSVC())]\n",
      "              precision    recall  f1-score   support\n",
      "\n",
      "       False       0.99      0.96      0.97       158\n",
      "        True       0.96      0.99      0.97       138\n",
      "\n",
      "    accuracy                           0.97       296\n",
      "   macro avg       0.97      0.97      0.97       296\n",
      "weighted avg       0.97      0.97      0.97       296\n",
      "\n",
      ".......... Writing final predictions to FINAL_PREDICTIONS.csv ........\n",
      "..........   Get Coef    ..........\n"
     ]
    },
    {
     "data": {
      "image/png": "[encoded data removed]",
      "text/plain": [
       "<Figure size 1080x360 with 1 Axes>"
      ]
     },
     "metadata": {
      "needs_background": "light"
     },
     "output_type": "display_data"
    }
   ],
   "source": [
    "svm_test = train_svm(df_train_master, df_test_master, norms=True, kernel=\"LinearSVC\", final_pred=True, get_coefs=True)"
   ]
  },
  {
   "cell_type": "code",
   "execution_count": null,
   "metadata": {},
   "outputs": [],
   "source": [
    "#rbf 94% accuracy"
   ]
  },
  {
   "cell_type": "code",
   "execution_count": 164,
   "metadata": {},
   "outputs": [
    {
     "name": "stdout",
     "output_type": "stream",
     "text": [
      ".......... Formatting data ........\n",
      ".......... Creating pipeline according to user choices ........\n",
      ".......... using normalisations ........\n",
      ".......... choosing SVM ........\n",
      ".......... Creating pipeline with steps ........\n",
      "[('scaler', StandardScaler()), ('normalizer', Normalizer()), ('model', LinearSVC())]\n",
      "              precision    recall  f1-score   support\n",
      "\n",
      "       False       0.93      0.93      0.93       174\n",
      "        True       0.90      0.89      0.90       122\n",
      "\n",
      "    accuracy                           0.92       296\n",
      "   macro avg       0.91      0.91      0.91       296\n",
      "weighted avg       0.92      0.92      0.92       296\n",
      "\n",
      ".......... Writing final predictions to FINAL_PREDICTIONS.csv ........\n",
      "..........   Get Coef    ..........\n"
     ]
    },
    {
     "data": {
      "image/png": "[encoded data removed]",
      "text/plain": [
       "<Figure size 1080x360 with 1 Axes>"
      ]
     },
     "metadata": {
      "needs_background": "light"
     },
     "output_type": "display_data"
    }
   ],
   "source": [
    "svm_test = train_svm(df_train_master, df_test_master, norms=True, kernel=\"LinearSVC\", final_pred=True, get_coefs=True)"
   ]
  },
  {
   "cell_type": "code",
   "execution_count": null,
   "metadata": {},
   "outputs": [],
   "source": []
  },
  {
   "cell_type": "code",
   "execution_count": null,
   "metadata": {},
   "outputs": [],
   "source": []
  },
  {
   "cell_type": "code",
   "execution_count": 69,
   "metadata": {},
   "outputs": [],
   "source": [
    "df_main_loc = df_main_temp.iloc[:, 1000:2200]"
   ]
  },
  {
   "cell_type": "code",
   "execution_count": 70,
   "metadata": {},
   "outputs": [],
   "source": [
    "df_main_loc[\"canon\"]=df_main_temp[\"canon\"]"
   ]
  },
  {
   "cell_type": "code",
   "execution_count": 49,
   "metadata": {},
   "outputs": [],
   "source": [
    "df_main_loc.index=df_main_temp.index"
   ]
  },
  {
   "cell_type": "code",
   "execution_count": 50,
   "metadata": {},
   "outputs": [],
   "source": [
    "df_main_loc = df_main_loc.replace(np.nan, 0)"
   ]
  },
  {
   "cell_type": "code",
   "execution_count": 71,
   "metadata": {},
   "outputs": [],
   "source": [
    "df_train_loc = df_main_loc.head(2664)\n",
    "df_test_loc = df_main_loc.tail(296)"
   ]
  },
  {
   "cell_type": "code",
   "execution_count": 72,
   "metadata": {},
   "outputs": [
    {
     "name": "stdout",
     "output_type": "stream",
     "text": [
      ".......... Formatting data ........\n",
      ".......... Creating pipeline according to user choices ........\n",
      ".......... using normalisations ........\n",
      ".......... choosing SVM ........\n",
      ".......... Creating pipeline with steps ........\n",
      "[('scaler', StandardScaler()), ('normalizer', Normalizer()), ('model', SVC())]\n",
      "              precision    recall  f1-score   support\n",
      "\n",
      "       False       0.93      0.97      0.95       174\n",
      "        True       0.95      0.89      0.92       122\n",
      "\n",
      "    accuracy                           0.94       296\n",
      "   macro avg       0.94      0.93      0.93       296\n",
      "weighted avg       0.94      0.94      0.94       296\n",
      "\n"
     ]
    }
   ],
   "source": [
    "svm_test = train_svm(df_train_loc, df_test_loc, norms=True, kernel=\"rbf\", final_pred=False, get_coefs=False)"
   ]
  },
  {
   "cell_type": "code",
   "execution_count": null,
   "metadata": {},
   "outputs": [],
   "source": []
  },
  {
   "cell_type": "code",
   "execution_count": null,
   "metadata": {},
   "outputs": [],
   "source": []
  },
  {
   "cell_type": "code",
   "execution_count": 6,
   "metadata": {},
   "outputs": [],
   "source": [
    "df_main_temp.set_index(\"index\", inplace = True)\n",
    "df_main_temp = df_main_temp.replace(np.nan, 0)"
   ]
  },
  {
   "cell_type": "code",
   "execution_count": 7,
   "metadata": {},
   "outputs": [],
   "source": [
    "df_train_temp = df_main_temp.head(2664)\n",
    "df_test_temp = df_main_temp.tail(296)"
   ]
  },
  {
   "cell_type": "code",
   "execution_count": 8,
   "metadata": {},
   "outputs": [
    {
     "data": {
      "text/plain": [
       "296"
      ]
     },
     "execution_count": 8,
     "metadata": {},
     "output_type": "execute_result"
    }
   ],
   "source": [
    "len(list(df_test_temp[\"canon\"]))"
   ]
  },
  {
   "cell_type": "code",
   "execution_count": 9,
   "metadata": {},
   "outputs": [
    {
     "name": "stdout",
     "output_type": "stream",
     "text": [
      ".......... Formatting data ........\n",
      ".......... Creating pipeline according to user choices ........\n",
      ".......... using normalisations ........\n",
      ".......... choosing SVM ........\n",
      ".......... Creating pipeline with steps ........\n",
      "[('scaler', StandardScaler()), ('normalizer', Normalizer()), ('model', LinearSVC())]\n",
      "              precision    recall  f1-score   support\n",
      "\n",
      "       False       0.91      0.92      0.92       174\n",
      "        True       0.88      0.88      0.88       122\n",
      "\n",
      "    accuracy                           0.90       296\n",
      "   macro avg       0.90      0.90      0.90       296\n",
      "weighted avg       0.90      0.90      0.90       296\n",
      "\n",
      ".......... Writing final predictions to FINAL_PREDICTIONS.csv ........\n",
      "..........   Get Coef    ..........\n"
     ]
    },
    {
     "data": {
      "image/png": "[encoded data removed]",
      "text/plain": [
       "<Figure size 1080x360 with 1 Axes>"
      ]
     },
     "metadata": {
      "needs_background": "light"
     },
     "output_type": "display_data"
    }
   ],
   "source": [
    "svm_test = train_svm(df_train_temp, df_test_temp, norms=True, kernel=\"LinearSVC\", final_pred=True, get_coefs=True)"
   ]
  },
  {
   "cell_type": "code",
   "execution_count": null,
   "metadata": {},
   "outputs": [],
   "source": []
  },
  {
   "cell_type": "code",
   "execution_count": 10,
   "metadata": {},
   "outputs": [
    {
     "name": "stdout",
     "output_type": "stream",
     "text": [
      ".......... Formatting data ........\n",
      ".......... Creating pipeline according to user choices ........\n",
      ".......... using normalisations ........\n",
      ".......... choosing SVM ........\n",
      ".......... Creating pipeline with steps ........\n",
      "[('scaler', StandardScaler()), ('normalizer', Normalizer()), ('model', SVC())]\n",
      "              precision    recall  f1-score   support\n",
      "\n",
      "       False       0.91      0.94      0.93       174\n",
      "        True       0.91      0.87      0.89       122\n",
      "\n",
      "    accuracy                           0.91       296\n",
      "   macro avg       0.91      0.91      0.91       296\n",
      "weighted avg       0.91      0.91      0.91       296\n",
      "\n"
     ]
    }
   ],
   "source": [
    "svm_test = train_svm(df_train_temp, df_test_temp, norms=True, kernel=\"rbf\", final_pred=False, get_coefs=False)"
   ]
  },
  {
   "cell_type": "code",
   "execution_count": 42,
   "metadata": {},
   "outputs": [
    {
     "name": "stdout",
     "output_type": "stream",
     "text": [
      ".......... Formatting data ........\n",
      ".......... Creating pipeline according to user choices ........\n",
      ".......... using normalisations ........\n",
      ".......... choosing SVM ........\n",
      ".......... Creating pipeline with steps ........\n",
      "[('scaler', StandardScaler()), ('normalizer', Normalizer()), ('model', LinearSVC())]\n",
      ".......... k-fold cross validation will be performed ........\n",
      ".......... using 10 samples ........\n"
     ]
    },
    {
     "name": "stderr",
     "output_type": "stream",
     "text": [
      "[Parallel(n_jobs=-1)]: Using backend LokyBackend with 4 concurrent workers.\n",
      "[Parallel(n_jobs=-1)]: Done  10 out of  10 | elapsed:   57.0s finished\n"
     ]
    },
    {
     "name": "stdout",
     "output_type": "stream",
     "text": [
      "              precision    recall  f1-score   support\n",
      "\n",
      "       False       0.90      0.92      0.91      1631\n",
      "        True       0.87      0.84      0.86      1033\n",
      "\n",
      "    accuracy                           0.89      2664\n",
      "   macro avg       0.89      0.88      0.89      2664\n",
      "weighted avg       0.89      0.89      0.89      2664\n",
      "\n",
      ".......... Training final SVM with all train set ........\n",
      ".......... Writing final predictions to FINAL_PREDICTIONS.csv ........\n",
      "..........   Get Coef    ..........\n"
     ]
    },
    {
     "data": {
      "image/png": "[encoded data removed]",
      "text/plain": [
       "<Figure size 1080x360 with 1 Axes>"
      ]
     },
     "metadata": {
      "needs_background": "light"
     },
     "output_type": "display_data"
    }
   ],
   "source": [
    "svm_cross_validated_fabula = train_svm(df_train_temp, df_test_temp, cross_validate='k-fold', norms=True, kernel=\"LinearSVC\", final_pred=True, get_coefs=True)"
   ]
  },
  {
   "cell_type": "code",
   "execution_count": null,
   "metadata": {},
   "outputs": [],
   "source": []
  },
  {
   "cell_type": "code",
   "execution_count": 131,
   "metadata": {},
   "outputs": [],
   "source": [
    "df_fabula_100 = df_main_temp.iloc[:, 0:100]"
   ]
  },
  {
   "cell_type": "code",
   "execution_count": 132,
   "metadata": {},
   "outputs": [],
   "source": [
    "df_fabula_100['canon'] = df_main_temp['canon']"
   ]
  },
  {
   "cell_type": "code",
   "execution_count": 163,
   "metadata": {},
   "outputs": [],
   "source": [
    "df_fabula_train = df_fabula_100.head(2664)\n",
    "df_fabula_test = df_fabula_100.tail(296)"
   ]
  },
  {
   "cell_type": "code",
   "execution_count": 145,
   "metadata": {},
   "outputs": [
    {
     "name": "stdout",
     "output_type": "stream",
     "text": [
      ".......... Formatting data ........\n",
      ".......... Creating pipeline according to user choices ........\n",
      ".......... using normalisations ........\n",
      ".......... choosing SVM ........\n",
      ".......... Creating pipeline with steps ........\n",
      "[('scaler', StandardScaler()), ('normalizer', Normalizer()), ('model', LinearSVC())]\n",
      "              precision    recall  f1-score   support\n",
      "\n",
      "       False       0.86      0.85      0.86       174\n",
      "        True       0.79      0.80      0.80       122\n",
      "\n",
      "    accuracy                           0.83       296\n",
      "   macro avg       0.83      0.83      0.83       296\n",
      "weighted avg       0.83      0.83      0.83       296\n",
      "\n"
     ]
    }
   ],
   "source": [
    "svm_fabula_100 = train_svm(df_fabula_train, df_fabula_test, norms=True, kernel=\"LinearSVC\", final_pred=False, get_coefs=False)"
   ]
  },
  {
   "cell_type": "code",
   "execution_count": null,
   "metadata": {},
   "outputs": [],
   "source": []
  },
  {
   "cell_type": "code",
   "execution_count": 137,
   "metadata": {},
   "outputs": [],
   "source": [
    "df_fabula_1000 = df_main_temp.iloc[:, 0:1000]"
   ]
  },
  {
   "cell_type": "code",
   "execution_count": 138,
   "metadata": {},
   "outputs": [],
   "source": [
    "df_fabula_1000['canon'] = df_main_temp['canon']"
   ]
  },
  {
   "cell_type": "code",
   "execution_count": 159,
   "metadata": {},
   "outputs": [],
   "source": [
    "df_fabula_train = df_fabula_1000.head(2664)\n",
    "df_fabula_test = df_fabula_1000.tail(296)"
   ]
  },
  {
   "cell_type": "code",
   "execution_count": 141,
   "metadata": {},
   "outputs": [
    {
     "name": "stdout",
     "output_type": "stream",
     "text": [
      ".......... Formatting data ........\n",
      ".......... Creating pipeline according to user choices ........\n",
      ".......... using normalisations ........\n",
      ".......... choosing SVM ........\n",
      ".......... Creating pipeline with steps ........\n",
      "[('scaler', StandardScaler()), ('normalizer', Normalizer()), ('model', LinearSVC())]\n",
      "              precision    recall  f1-score   support\n",
      "\n",
      "       False       0.90      0.92      0.91       174\n",
      "        True       0.88      0.86      0.87       122\n",
      "\n",
      "    accuracy                           0.90       296\n",
      "   macro avg       0.89      0.89      0.89       296\n",
      "weighted avg       0.90      0.90      0.90       296\n",
      "\n"
     ]
    }
   ],
   "source": [
    "svm_fabula_1000 = train_svm(df_fabula_train, df_fabula_test, norms=True, kernel=\"LinearSVC\", final_pred=False, get_coefs=False)"
   ]
  },
  {
   "cell_type": "code",
   "execution_count": null,
   "metadata": {},
   "outputs": [],
   "source": []
  },
  {
   "cell_type": "code",
   "execution_count": 43,
   "metadata": {},
   "outputs": [],
   "source": [
    "import random"
   ]
  },
  {
   "cell_type": "code",
   "execution_count": 44,
   "metadata": {},
   "outputs": [],
   "source": [
    "random_list = [bool(random.getrandbits(1)) for i in range(2960)]"
   ]
  },
  {
   "cell_type": "code",
   "execution_count": 45,
   "metadata": {},
   "outputs": [],
   "source": [
    "df_main_temp[\"canon\"] = random_list"
   ]
  },
  {
   "cell_type": "code",
   "execution_count": 46,
   "metadata": {},
   "outputs": [],
   "source": [
    "df_train_rand = df_main_temp.head(2664)\n",
    "df_test_rand = df_main_temp.tail(296)"
   ]
  },
  {
   "cell_type": "code",
   "execution_count": 47,
   "metadata": {},
   "outputs": [
    {
     "name": "stdout",
     "output_type": "stream",
     "text": [
      ".......... Formatting data ........\n",
      ".......... Creating pipeline according to user choices ........\n",
      ".......... using normalisations ........\n",
      ".......... choosing SVM ........\n",
      ".......... Creating pipeline with steps ........\n",
      "[('scaler', StandardScaler()), ('normalizer', Normalizer()), ('model', LinearSVC())]\n",
      "              precision    recall  f1-score   support\n",
      "\n",
      "       False       0.55      0.55      0.55       146\n",
      "        True       0.56      0.56      0.56       150\n",
      "\n",
      "    accuracy                           0.55       296\n",
      "   macro avg       0.55      0.55      0.55       296\n",
      "weighted avg       0.55      0.55      0.55       296\n",
      "\n",
      ".......... Writing final predictions to FINAL_PREDICTIONS.csv ........\n",
      "..........   Get Coef    ..........\n"
     ]
    },
    {
     "data": {
      "image/png": "[encoded data removed]",
      "text/plain": [
       "<Figure size 1080x360 with 1 Axes>"
      ]
     },
     "metadata": {
      "needs_background": "light"
     },
     "output_type": "display_data"
    }
   ],
   "source": [
    "svm_3 = train_svm(df_train_rand, df_test_rand, norms=True, kernel=\"LinearSVC\", final_pred=True, get_coefs=True)"
   ]
  },
  {
   "cell_type": "code",
   "execution_count": null,
   "metadata": {},
   "outputs": [],
   "source": []
  },
  {
   "cell_type": "code",
   "execution_count": 19,
   "metadata": {},
   "outputs": [],
   "source": [
    "df_fabula_ones = pd.read_csv(r'data\\df_fabula_ones.csv')\n",
    "df_fabula_ones.set_index(\"Unnamed: 0\", inplace = True)\n",
    "df_fabula_ones = df_fabula_ones.replace(np.nan, 0)"
   ]
  },
  {
   "cell_type": "code",
   "execution_count": 20,
   "metadata": {},
   "outputs": [
    {
     "data": {
      "text/plain": [
       "394"
      ]
     },
     "execution_count": 20,
     "metadata": {},
     "output_type": "execute_result"
    }
   ],
   "source": [
    "len(df_fabula_ones)"
   ]
  },
  {
   "cell_type": "code",
   "execution_count": 22,
   "metadata": {},
   "outputs": [],
   "source": [
    "df_fabula_ones_train = df_main_temp.head(354)\n",
    "df_fabula_ones_test = df_main_temp.tail(40)"
   ]
  },
  {
   "cell_type": "code",
   "execution_count": 25,
   "metadata": {},
   "outputs": [
    {
     "name": "stdout",
     "output_type": "stream",
     "text": [
      ".......... Formatting data ........\n",
      ".......... Creating pipeline according to user choices ........\n",
      ".......... using normalisations ........\n",
      ".......... choosing SVM ........\n",
      ".......... Creating pipeline with steps ........\n",
      "[('scaler', StandardScaler()), ('normalizer', Normalizer()), ('model', LinearSVC())]\n",
      "              precision    recall  f1-score   support\n",
      "\n",
      "       False       0.93      0.93      0.93        28\n",
      "        True       0.83      0.83      0.83        12\n",
      "\n",
      "    accuracy                           0.90        40\n",
      "   macro avg       0.88      0.88      0.88        40\n",
      "weighted avg       0.90      0.90      0.90        40\n",
      "\n"
     ]
    }
   ],
   "source": [
    "svm_ones = train_svm(df_fabula_ones_train, df_fabula_ones_test, norms=True, kernel=\"LinearSVC\", final_pred=False, get_coefs=False)"
   ]
  },
  {
   "cell_type": "code",
   "execution_count": null,
   "metadata": {},
   "outputs": [],
   "source": []
  },
  {
   "cell_type": "code",
   "execution_count": null,
   "metadata": {},
   "outputs": [],
   "source": []
  },
  {
   "cell_type": "code",
   "execution_count": null,
   "metadata": {},
   "outputs": [],
   "source": []
  },
  {
   "cell_type": "code",
   "execution_count": 26,
   "metadata": {},
   "outputs": [],
   "source": [
    "df_test = pd.read_csv(r'data/df_main_author.csv')\n",
    "df_test.set_index(\"index\", inplace = True)\n",
    "df_test = df_test.replace(np.nan, 0)"
   ]
  },
  {
   "cell_type": "code",
   "execution_count": 27,
   "metadata": {},
   "outputs": [
    {
     "data": {
      "text/plain": [
       "2200"
      ]
     },
     "execution_count": 27,
     "metadata": {},
     "output_type": "execute_result"
    }
   ],
   "source": [
    "len(df_test)"
   ]
  },
  {
   "cell_type": "code",
   "execution_count": 28,
   "metadata": {},
   "outputs": [],
   "source": [
    "df_train_test = df_main_balanced.head(1980)\n",
    "df_test_test = df_main_balanced.tail(220)"
   ]
  },
  {
   "cell_type": "code",
   "execution_count": 30,
   "metadata": {},
   "outputs": [
    {
     "name": "stdout",
     "output_type": "stream",
     "text": [
      ".......... Formatting data ........\n",
      ".......... Creating pipeline according to user choices ........\n",
      ".......... using normalisations ........\n",
      ".......... choosing SVM ........\n",
      ".......... Creating pipeline with steps ........\n",
      "[('scaler', StandardScaler()), ('normalizer', Normalizer()), ('model', SVC())]\n",
      "              precision    recall  f1-score   support\n",
      "\n",
      "       canon       0.83      0.83      0.83        30\n",
      "   non_canon       0.77      0.77      0.77        22\n",
      "\n",
      "    accuracy                           0.81        52\n",
      "   macro avg       0.80      0.80      0.80        52\n",
      "weighted avg       0.81      0.81      0.81        52\n",
      "\n"
     ]
    }
   ],
   "source": [
    "svm_4 = train_svm(df_train_balanced, df_test_balanced, norms=True, kernel=\"rbf\", final_pred=False, get_coefs=False)"
   ]
  },
  {
   "cell_type": "code",
   "execution_count": null,
   "metadata": {},
   "outputs": [],
   "source": []
  },
  {
   "cell_type": "code",
   "execution_count": null,
   "metadata": {},
   "outputs": [],
   "source": []
  },
  {
   "cell_type": "code",
   "execution_count": null,
   "metadata": {},
   "outputs": [],
   "source": []
  },
  {
   "cell_type": "code",
   "execution_count": 4,
   "metadata": {},
   "outputs": [],
   "source": [
    "df_main_balanced = pd.read_csv(r'data\\features_balanced.csv')\n",
    "df_main_balanced.set_index(\"index\", inplace = True)\n",
    "df_main_balanced = df_main_balanced.replace(np.nan, 0)"
   ]
  },
  {
   "cell_type": "code",
   "execution_count": 5,
   "metadata": {},
   "outputs": [],
   "source": [
    "df_train_balanced = df_main_balanced.head(470)\n",
    "df_test_balanced = df_main_balanced.tail(52)"
   ]
  },
  {
   "cell_type": "code",
   "execution_count": 18,
   "metadata": {},
   "outputs": [
    {
     "name": "stdout",
     "output_type": "stream",
     "text": [
      ".......... Formatting data ........\n",
      ".......... Creating pipeline according to user choices ........\n",
      ".......... using normalisations ........\n",
      ".......... choosing SVM ........\n",
      ".......... Creating pipeline with steps ........\n",
      "[('scaler', StandardScaler()), ('normalizer', Normalizer()), ('model', SVC())]\n",
      "              precision    recall  f1-score   support\n",
      "\n",
      "       canon       0.83      0.83      0.83        30\n",
      "   non_canon       0.77      0.77      0.77        22\n",
      "\n",
      "    accuracy                           0.81        52\n",
      "   macro avg       0.80      0.80      0.80        52\n",
      "weighted avg       0.81      0.81      0.81        52\n",
      "\n"
     ]
    }
   ],
   "source": [
    "svm_4 = train_svm(df_train_balanced, df_test_balanced, norms=True, kernel=\"rbf\", final_pred=False, get_coefs=False)"
   ]
  },
  {
   "cell_type": "code",
   "execution_count": 30,
   "metadata": {},
   "outputs": [
    {
     "name": "stdout",
     "output_type": "stream",
     "text": [
      ".......... Formatting data ........\n",
      ".......... Creating pipeline according to user choices ........\n",
      ".......... using normalisations ........\n",
      ".......... choosing SVM ........\n",
      ".......... Creating pipeline with steps ........\n",
      "[('scaler', StandardScaler()), ('normalizer', Normalizer()), ('model', LinearSVC())]\n",
      "              precision    recall  f1-score   support\n",
      "\n",
      "       canon       0.81      0.83      0.82        30\n",
      "   non_canon       0.76      0.73      0.74        22\n",
      "\n",
      "    accuracy                           0.79        52\n",
      "   macro avg       0.78      0.78      0.78        52\n",
      "weighted avg       0.79      0.79      0.79        52\n",
      "\n",
      ".......... Writing final predictions to FINAL_PREDICTIONS.csv ........\n",
      "..........   Get Coef    ..........\n"
     ]
    },
    {
     "data": {
      "image/png": "[encoded data removed]",
      "text/plain": [
       "<Figure size 1080x360 with 1 Axes>"
      ]
     },
     "metadata": {
      "needs_background": "light"
     },
     "output_type": "display_data"
    }
   ],
   "source": [
    "svm_4 = train_svm(df_train_balanced, df_test_balanced, norms=True, kernel=\"LinearSVC\", final_pred=True, get_coefs=True)"
   ]
  },
  {
   "cell_type": "code",
   "execution_count": 7,
   "metadata": {},
   "outputs": [
    {
     "name": "stdout",
     "output_type": "stream",
     "text": [
      ".......... Formatting data ........\n",
      ".......... Creating pipeline according to user choices ........\n",
      ".......... using normalisations ........\n",
      ".......... choosing SVM ........\n",
      ".......... Creating pipeline with steps ........\n",
      "[('scaler', StandardScaler()), ('normalizer', Normalizer()), ('model', LinearSVC())]\n",
      ".......... k-fold cross validation will be performed ........\n",
      ".......... using 10 samples ........\n"
     ]
    },
    {
     "name": "stderr",
     "output_type": "stream",
     "text": [
      "[Parallel(n_jobs=-1)]: Using backend LokyBackend with 4 concurrent workers.\n",
      "[Parallel(n_jobs=-1)]: Done  10 out of  10 | elapsed:    9.3s finished\n"
     ]
    },
    {
     "name": "stdout",
     "output_type": "stream",
     "text": [
      "              precision    recall  f1-score   support\n",
      "\n",
      "       canon       0.69      0.76      0.72       231\n",
      "   non_canon       0.74      0.67      0.70       239\n",
      "\n",
      "    accuracy                           0.71       470\n",
      "   macro avg       0.72      0.71      0.71       470\n",
      "weighted avg       0.72      0.71      0.71       470\n",
      "\n"
     ]
    }
   ],
   "source": [
    "svm_cross_validated = train_svm(df_train_balanced, df_test_balanced, cross_validate='k-fold', norms=True, kernel=\"LinearSVC\", final_pred=False, get_coefs=False)"
   ]
  },
  {
   "cell_type": "code",
   "execution_count": null,
   "metadata": {},
   "outputs": [],
   "source": []
  },
  {
   "cell_type": "code",
   "execution_count": null,
   "metadata": {},
   "outputs": [],
   "source": []
  },
  {
   "cell_type": "code",
   "execution_count": null,
   "metadata": {},
   "outputs": [],
   "source": []
  },
  {
   "cell_type": "code",
   "execution_count": null,
   "metadata": {},
   "outputs": [],
   "source": []
  },
  {
   "cell_type": "code",
   "execution_count": 146,
   "metadata": {},
   "outputs": [],
   "source": [
    "df_main_balanced_unigram = pd.read_csv(r'data\\features_balanced_unigram.csv')\n",
    "df_main_balanced_unigram.set_index(\"index\", inplace = True)\n",
    "df_main_balanced_unigram = df_main_balanced_unigram.replace(np.nan, 0)"
   ]
  },
  {
   "cell_type": "code",
   "execution_count": 147,
   "metadata": {},
   "outputs": [],
   "source": [
    "df_main_balanced_unigram.set_index(\"index\", inplace = True)"
   ]
  },
  {
   "cell_type": "code",
   "execution_count": 148,
   "metadata": {},
   "outputs": [],
   "source": [
    "df_main_balanced_unigram = df_main_balanced_unigram.replace(np.nan, 0)"
   ]
  },
  {
   "cell_type": "code",
   "execution_count": 149,
   "metadata": {},
   "outputs": [],
   "source": [
    "df_train_balanced_unigram = df_main_balanced_unigram.head(470)\n",
    "df_test_balanced_unigram = df_main_balanced_unigram.tail(52)"
   ]
  },
  {
   "cell_type": "code",
   "execution_count": 150,
   "metadata": {},
   "outputs": [
    {
     "name": "stdout",
     "output_type": "stream",
     "text": [
      ".......... Formatting data ........\n",
      ".......... Creating pipeline according to user choices ........\n",
      ".......... using normalisations ........\n",
      ".......... choosing SVM ........\n",
      ".......... Creating pipeline with steps ........\n",
      "[('scaler', StandardScaler()), ('normalizer', Normalizer()), ('model', LinearSVC())]\n",
      "              precision    recall  f1-score   support\n",
      "\n",
      "       canon       0.79      0.73      0.76        30\n",
      "   non_canon       0.67      0.73      0.70        22\n",
      "\n",
      "    accuracy                           0.73        52\n",
      "   macro avg       0.73      0.73      0.73        52\n",
      "weighted avg       0.74      0.73      0.73        52\n",
      "\n",
      ".......... Writing final predictions to FINAL_PREDICTIONS.csv ........\n",
      "..........   Get Coef    ..........\n"
     ]
    },
    {
     "data": {
      "image/png": "[encoded data removed]",
      "text/plain": [
       "<Figure size 1080x360 with 1 Axes>"
      ]
     },
     "metadata": {
      "needs_background": "light"
     },
     "output_type": "display_data"
    }
   ],
   "source": [
    "svm_5 = train_svm(df_train_balanced_unigram, df_test_balanced_unigram, norms=True, kernel=\"LinearSVC\", final_pred=True, get_coefs=True)"
   ]
  },
  {
   "cell_type": "code",
   "execution_count": null,
   "metadata": {},
   "outputs": [],
   "source": []
  },
  {
   "cell_type": "code",
   "execution_count": 37,
   "metadata": {},
   "outputs": [],
   "source": [
    "df_100_most_common_unigrams = df_main_balanced_unigram.iloc[:, 0:100]"
   ]
  },
  {
   "cell_type": "code",
   "execution_count": 38,
   "metadata": {},
   "outputs": [],
   "source": [
    "df_100_most_common_unigrams['canon'] = df_main_balanced_unigram['canon']"
   ]
  },
  {
   "cell_type": "code",
   "execution_count": 39,
   "metadata": {},
   "outputs": [],
   "source": [
    "df_train_balanced_100_most_common_unigrams = df_100_most_common_unigrams.head(470)\n",
    "df_test_balanced_100_most_common_unigrams = df_100_most_common_unigrams.tail(52)"
   ]
  },
  {
   "cell_type": "code",
   "execution_count": 40,
   "metadata": {},
   "outputs": [],
   "source": [
    "list_100_mots = list(df_train_balanced_100_most_common_unigrams.columns)"
   ]
  },
  {
   "cell_type": "code",
   "execution_count": 151,
   "metadata": {},
   "outputs": [
    {
     "name": "stdout",
     "output_type": "stream",
     "text": [
      ".......... Formatting data ........\n",
      ".......... Creating pipeline according to user choices ........\n",
      ".......... using normalisations ........\n",
      ".......... choosing SVM ........\n",
      ".......... Creating pipeline with steps ........\n",
      "[('scaler', StandardScaler()), ('normalizer', Normalizer()), ('model', LinearSVC())]\n",
      "              precision    recall  f1-score   support\n",
      "\n",
      "       canon       0.85      0.77      0.81        30\n",
      "   non_canon       0.72      0.82      0.77        22\n",
      "\n",
      "    accuracy                           0.79        52\n",
      "   macro avg       0.79      0.79      0.79        52\n",
      "weighted avg       0.80      0.79      0.79        52\n",
      "\n"
     ]
    }
   ],
   "source": [
    "svm_5bis = train_svm(df_train_balanced_100_most_common_unigrams, df_test_balanced_100_most_common_unigrams, norms=True, kernel=\"LinearSVC\", final_pred=False, get_coefs=False)"
   ]
  },
  {
   "cell_type": "code",
   "execution_count": null,
   "metadata": {},
   "outputs": [],
   "source": []
  },
  {
   "cell_type": "code",
   "execution_count": null,
   "metadata": {},
   "outputs": [],
   "source": []
  },
  {
   "cell_type": "code",
   "execution_count": null,
   "metadata": {},
   "outputs": [],
   "source": []
  },
  {
   "cell_type": "code",
   "execution_count": null,
   "metadata": {},
   "outputs": [],
   "source": []
  },
  {
   "cell_type": "code",
   "execution_count": 58,
   "metadata": {},
   "outputs": [],
   "source": [
    "df_main_balanced_tout_sauf_unigram = pd.read_csv(r'features_balanced_tout_sauf_unigram.csv')"
   ]
  },
  {
   "cell_type": "code",
   "execution_count": 46,
   "metadata": {},
   "outputs": [],
   "source": [
    "df_main_balanced_tout_sauf_unigram.set_index(\"index\", inplace = True)"
   ]
  },
  {
   "cell_type": "code",
   "execution_count": 47,
   "metadata": {},
   "outputs": [],
   "source": [
    "df_main_balanced_tout_sauf_unigram = df_main_balanced_tout_sauf_unigram.replace(np.nan, 0)"
   ]
  },
  {
   "cell_type": "code",
   "execution_count": 48,
   "metadata": {},
   "outputs": [],
   "source": [
    "df_train_balanced_tout_sauf_unigram = df_main_balanced_tout_sauf_unigram.head(470)\n",
    "df_test_balanced_tout_sauf_unigram = df_main_balanced_tout_sauf_unigram.tail(52)"
   ]
  },
  {
   "cell_type": "code",
   "execution_count": 260,
   "metadata": {},
   "outputs": [
    {
     "name": "stdout",
     "output_type": "stream",
     "text": [
      ".......... Formatting data ........\n",
      ".......... Creating pipeline according to user choices ........\n",
      ".......... using normalisations ........\n",
      ".......... choosing SVM ........\n",
      ".......... Creating pipeline with steps ........\n",
      "[('scaler', StandardScaler(copy=True, with_mean=True, with_std=True)), ('normalizer', Normalizer(copy=True, norm='l2')), ('model', LinearSVC(C=1.0, class_weight=None, dual=True, fit_intercept=True,\n",
      "          intercept_scaling=1, loss='squared_hinge', max_iter=1000,\n",
      "          multi_class='ovr', penalty='l2', random_state=None, tol=0.0001,\n",
      "          verbose=0))]\n",
      "              precision    recall  f1-score   support\n",
      "\n",
      "       canon       0.79      0.77      0.78        30\n",
      "   non_canon       0.70      0.73      0.71        22\n",
      "\n",
      "    accuracy                           0.75        52\n",
      "   macro avg       0.74      0.75      0.75        52\n",
      "weighted avg       0.75      0.75      0.75        52\n",
      "\n",
      "..........   Get Coef    ..........\n"
     ]
    },
    {
     "data": {
      "image/png": "[encoded data removed]",
      "text/plain": [
       "<Figure size 1080x360 with 1 Axes>"
      ]
     },
     "metadata": {
      "needs_background": "light"
     },
     "output_type": "display_data"
    }
   ],
   "source": [
    "svm_6 = train_svm(df_train_balanced_tout_sauf_unigram, df_test_balanced_tout_sauf_unigram, norms=True, kernel=\"LinearSVC\", final_pred=True, get_coefs=True)"
   ]
  },
  {
   "cell_type": "code",
   "execution_count": null,
   "metadata": {},
   "outputs": [],
   "source": []
  },
  {
   "cell_type": "code",
   "execution_count": 8,
   "metadata": {},
   "outputs": [],
   "source": [
    "df_main_ones = pd.read_csv(r'data\\df_main_ones.csv')\n",
    "df_main_ones.rename(columns = {'Unnamed: 0':'index'}, inplace = True)\n",
    "df_main_ones.set_index(\"index\", inplace = True)\n",
    "df_main_ones = df_main_ones.replace(np.nan, 0)"
   ]
  },
  {
   "cell_type": "code",
   "execution_count": 13,
   "metadata": {},
   "outputs": [],
   "source": [
    "df_train_ones = df_main_ones.head(107)\n",
    "df_test_ones = df_main_ones.tail(27)"
   ]
  },
  {
   "cell_type": "code",
   "execution_count": 14,
   "metadata": {},
   "outputs": [
    {
     "name": "stdout",
     "output_type": "stream",
     "text": [
      ".......... Formatting data ........\n",
      ".......... Creating pipeline according to user choices ........\n",
      ".......... using normalisations ........\n",
      ".......... choosing SVM ........\n",
      ".......... Creating pipeline with steps ........\n",
      "[('scaler', StandardScaler()), ('normalizer', Normalizer()), ('model', LinearSVC())]\n",
      "              precision    recall  f1-score   support\n",
      "\n",
      "       canon       0.89      0.53      0.67        15\n",
      "   non_canon       0.61      0.92      0.73        12\n",
      "\n",
      "    accuracy                           0.70        27\n",
      "   macro avg       0.75      0.72      0.70        27\n",
      "weighted avg       0.77      0.70      0.70        27\n",
      "\n"
     ]
    }
   ],
   "source": [
    "svm_6 = train_svm(df_train_ones, df_test_ones, norms=True, kernel=\"LinearSVC\", final_pred=False, get_coefs=False)"
   ]
  },
  {
   "cell_type": "code",
   "execution_count": 20,
   "metadata": {},
   "outputs": [],
   "source": [
    "df_fabula_ones = pd.read_csv(r'data\\df_fabula_ones.csv')\n",
    "df_fabula_ones.rename(columns = {'Unnamed: 0':'index'}, inplace = True)\n",
    "df_fabula_ones.set_index('index', inplace = True)\n",
    "df_fabula_ones = df_fabula_ones.replace(np.nan, 0)"
   ]
  },
  {
   "cell_type": "code",
   "execution_count": 25,
   "metadata": {},
   "outputs": [],
   "source": [
    "df_fabula_train_ones = df_fabula_ones.head(315)\n",
    "df_fabula_test_ones = df_fabula_ones.tail(79)"
   ]
  },
  {
   "cell_type": "code",
   "execution_count": 26,
   "metadata": {},
   "outputs": [
    {
     "name": "stdout",
     "output_type": "stream",
     "text": [
      ".......... Formatting data ........\n",
      ".......... Creating pipeline according to user choices ........\n",
      ".......... using normalisations ........\n",
      ".......... choosing SVM ........\n",
      ".......... Creating pipeline with steps ........\n",
      "[('scaler', StandardScaler()), ('normalizer', Normalizer()), ('model', LinearSVC())]\n",
      "              precision    recall  f1-score   support\n",
      "\n",
      "       False       0.78      0.80      0.79        50\n",
      "        True       0.64      0.62      0.63        29\n",
      "\n",
      "    accuracy                           0.73        79\n",
      "   macro avg       0.71      0.71      0.71        79\n",
      "weighted avg       0.73      0.73      0.73        79\n",
      "\n"
     ]
    }
   ],
   "source": [
    "svm_6 = train_svm(df_fabula_train_ones, df_fabula_test_ones, norms=True, kernel=\"LinearSVC\", final_pred=False, get_coefs=False)"
   ]
  },
  {
   "cell_type": "code",
   "execution_count": null,
   "metadata": {},
   "outputs": [],
   "source": []
  },
  {
   "cell_type": "code",
   "execution_count": null,
   "metadata": {},
   "outputs": [],
   "source": []
  }
 ],
 "metadata": {
  "kernelspec": {
   "display_name": "Python 3",
   "language": "python",
   "name": "python3"
  },
  "language_info": {
   "codemirror_mode": {
    "name": "ipython",
    "version": 3
   },
   "file_extension": ".py",
   "mimetype": "text/x-python",
   "name": "python",
   "nbconvert_exporter": "python",
   "pygments_lexer": "ipython3",
   "version": "3.8.3"
  }
 },
 "nbformat": 4,
 "nbformat_minor": 5
}
