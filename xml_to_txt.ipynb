{
 "cells": [
  {
   "cell_type": "code",
   "execution_count": 1,
   "metadata": {},
   "outputs": [],
   "source": [
    "import pandas as pd\n",
    "from collections import Counter\n",
    "from glob import glob\n",
    "import csv\n",
    "from lxml import etree\n",
    "import os.path as path"
   ]
  },
  {
   "cell_type": "code",
   "execution_count": 15,
   "metadata": {},
   "outputs": [],
   "source": [
    "#path_name = 'corpus_main/*.xml'\n",
    "path_name = 'corpus_test/*.xml'"
   ]
  },
  {
   "cell_type": "code",
   "execution_count": 18,
   "metadata": {},
   "outputs": [],
   "source": [
    "def xml_to_txt(path, doc_name):\n",
    "    \n",
    "    chaine = \"\"\n",
    "    with open(path, encoding=\"utf8\") as file_in:\n",
    "        \n",
    "        tree = etree.parse(file_in)\n",
    "\n",
    "        if tree.findall(\".//p\"):\n",
    "            for line in tree.findall(\".//p\"):\n",
    "                if line.text:\n",
    "                    chaine += line.text\n",
    "        else:\n",
    "            print(doc_name)\n",
    "                    \n",
    "    with open(r\"corpus_main_txt/\"+doc_name+\".txt\", \"w\", encoding=\"utf8\") as file_out:\n",
    "        file_out.write(chaine)"
   ]
  },
  {
   "cell_type": "code",
   "execution_count": 11,
   "metadata": {},
   "outputs": [],
   "source": [
    "def moulinette(path_name):\n",
    "    i = 0\n",
    "    for doc in glob(path_name):\n",
    "        doc_name = path.splitext(path.basename(doc))[0]\n",
    "        xml_to_txt(doc, doc_name)"
   ]
  },
  {
   "cell_type": "code",
   "execution_count": 17,
   "metadata": {},
   "outputs": [],
   "source": [
    "moulinette(path_name)"
   ]
  },
  {
   "cell_type": "code",
   "execution_count": null,
   "metadata": {},
   "outputs": [],
   "source": []
  }
 ],
 "metadata": {
  "kernelspec": {
   "display_name": "Python 3",
   "language": "python",
   "name": "python3"
  },
  "language_info": {
   "codemirror_mode": {
    "name": "ipython",
    "version": 3
   },
   "file_extension": ".py",
   "mimetype": "text/x-python",
   "name": "python",
   "nbconvert_exporter": "python",
   "pygments_lexer": "ipython3",
   "version": "3.8.3"
  }
 },
 "nbformat": 4,
 "nbformat_minor": 4
}
